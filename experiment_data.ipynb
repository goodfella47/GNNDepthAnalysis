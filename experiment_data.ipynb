{
 "cells": [
  {
   "cell_type": "code",
   "execution_count": 1,
   "metadata": {},
   "outputs": [
    {
     "name": "stderr",
     "output_type": "stream",
     "text": [
      "/data/home/spektor/miniconda3/envs/baskin/lib/python3.9/site-packages/tqdm/auto.py:22: TqdmWarning: IProgress not found. Please update jupyter and ipywidgets. See https://ipywidgets.readthedocs.io/en/stable/user_install.html\n",
      "  from .autonotebook import tqdm as notebook_tqdm\n"
     ]
    }
   ],
   "source": [
    "import os\n",
    "import sys\n",
    "directory_path = os.path.abspath(os.path.join('..'))\n",
    "if directory_path not in sys.path:\n",
    "    sys.path.append(directory_path)\n",
    "    \n",
    "from trainer import Trainer\n",
    "from dataset import get_ogb_data\n",
    "from torch_geometric import seed_everything\n",
    "from ogb.nodeproppred import Evaluator\n",
    "from predict import evaluate_test\n",
    "import pandas as pd\n",
    "import torch\n",
    "import numpy as np\n",
    "from tqdm import tqdm"
   ]
  },
  {
   "cell_type": "code",
   "execution_count": 2,
   "metadata": {},
   "outputs": [
    {
     "name": "stdout",
     "output_type": "stream",
     "text": [
      "Number of nodes in the graph: 169343\n",
      "Number of edges in the graph: 1166243\n",
      "Number of training nodes: 90941\n",
      "Number of validation nodes: 29799\n",
      "Number of test nodes: 48603\n",
      "Node feature matrix with shape: torch.Size([169343, 128])\n",
      "Graph connectivity in COO format with shape: torch.Size([2, 1166243])\n",
      "Target to train against : torch.Size([169343, 1])\n",
      "Node feature length 128\n",
      "number of target categories: 40\n"
     ]
    }
   ],
   "source": [
    "d_name = 'arxiv'\n",
    "data, split_idx, num_classes = get_ogb_data('arxiv')\n",
    "evaluator = Evaluator(name=f'ogbn-{d_name}')"
   ]
  },
  {
   "cell_type": "code",
   "execution_count": 3,
   "metadata": {},
   "outputs": [
    {
     "name": "stdout",
     "output_type": "stream",
     "text": [
      "==> resuming from epoch 175, best para 0.6115\n"
     ]
    }
   ],
   "source": [
    "DEEP_DEPTH = 5\n",
    "SHALLOW_DEPTH = 2 \n",
    "depths_list = [DEEP_DEPTH, SHALLOW_DEPTH]\n",
    "\n",
    "trainer = Trainer()\n",
    "epochs = 10\n",
    "\n",
    "trainer.run(data, split_idx, num_classes, evaluator, depths_list, epochs)"
   ]
  },
  {
   "cell_type": "code",
   "execution_count": 8,
   "metadata": {},
   "outputs": [
    {
     "name": "stderr",
     "output_type": "stream",
     "text": [
      "100%|██████████| 15/15 [00:20<00:00,  1.35s/it]\n"
     ]
    }
   ],
   "source": [
    "model = trainer.model\n",
    "test_loader = trainer.test_loader\n",
    "device = torch.device('cuda' if torch.cuda.is_available() else 'cpu')\n",
    "test_idx = split_idx['test']\n",
    "\n",
    "nods_results_depths_dict = {}\n",
    "\n",
    "ids_col = {'id': test_idx}\n",
    "id_depths_df = pd.DataFrame(data=ids_col)\n",
    "id_results_df = pd.DataFrame(data=ids_col)\n",
    "\n",
    "num_permutations = 15\n",
    "for perm in tqdm(range(num_permutations)):\n",
    "    test_acc, inference_depths, ids, correctness = evaluate_test(model, test_loader, evaluator, data, depths_list, device)\n",
    "    \n",
    "    temp_df = pd.DataFrame(data={'id': ids, f'depth_{perm}': inference_depths})\n",
    "    temp_df.sort_values(by=['id'], inplace=True)\n",
    "    id_depths_df = id_depths_df.merge(temp_df, on='id')\n",
    "    \n",
    "    temp_df = pd.DataFrame(data={'id': ids, f'correctness_{perm}': correctness})\n",
    "    temp_df.sort_values(by=['id'], inplace=True)\n",
    "    id_results_df = id_results_df.merge(temp_df, on = 'id')"
   ]
  },
  {
   "cell_type": "code",
   "execution_count": 9,
   "metadata": {},
   "outputs": [],
   "source": [
    "sorted_ids = ids_col['id'].tolist()\n",
    "\n",
    "all_correctnesses = list(id_results_df.drop(['id'], axis=1).to_numpy().flatten())\n",
    "all_depths = list(id_depths_df.drop(['id'], axis=1).to_numpy().flatten())\n",
    "all_sorted_ids = list(np.repeat(sorted_ids, num_permutations))\n",
    "\n",
    "all_results_df = pd.DataFrame(data={'id': all_sorted_ids, 'correctness': all_correctnesses, 'depth': all_depths})"
   ]
  },
  {
   "cell_type": "code",
   "execution_count": 11,
   "metadata": {},
   "outputs": [
    {
     "name": "stderr",
     "output_type": "stream",
     "text": [
      " 10%|█         | 4876/48603 [05:18<45:07, 16.15it/s]  "
     ]
    }
   ],
   "source": [
    "from scipy.stats import permutation_test\n",
    "\n",
    "def statistic(x, y, axis):\n",
    "    return np.mean(x, axis=axis) - np.mean(y, axis=axis)\n",
    "\n",
    "ids_to_pvalue = {}\n",
    "\n",
    "for id in tqdm(np.array(test_idx)):\n",
    "    id_df = all_results_df[all_results_df['id'] == id].copy()\n",
    "    x = np.array(id_df[id_df['depth'] == 2]['correctness'])\n",
    "    y = np.array(id_df[id_df['depth'] == 5]['correctness'])\n",
    "    \n",
    "    try:\n",
    "        res_less = permutation_test((x, y), statistic, vectorized=True,\n",
    "                                n_resamples=9999, alternative='less')\n",
    "    \n",
    "        res_greater = permutation_test((x, y), statistic, vectorized=True,\n",
    "                            n_resamples=9999, alternative='greater')\n",
    "        \n",
    "    except:\n",
    "        continue\n",
    "    "
   ]
  },
  {
   "cell_type": "code",
   "execution_count": null,
   "metadata": {},
   "outputs": [],
   "source": []
  }
 ],
 "metadata": {
  "kernelspec": {
   "display_name": "Python 3.9.13 ('baskin': conda)",
   "language": "python",
   "name": "python3"
  },
  "language_info": {
   "codemirror_mode": {
    "name": "ipython",
    "version": 3
   },
   "file_extension": ".py",
   "mimetype": "text/x-python",
   "name": "python",
   "nbconvert_exporter": "python",
   "pygments_lexer": "ipython3",
   "version": "3.9.13"
  },
  "orig_nbformat": 4,
  "vscode": {
   "interpreter": {
    "hash": "e591c4f2b87a250375ca884dffd1dc17c4ce3268c519c9ae9b05ed9c4bef7107"
   }
  }
 },
 "nbformat": 4,
 "nbformat_minor": 2
}
