{
 "cells": [
  {
   "cell_type": "code",
   "execution_count": 1,
   "metadata": {},
   "outputs": [
    {
     "name": "stderr",
     "output_type": "stream",
     "text": [
      "/data/home/spektor/miniconda3/envs/baskin/lib/python3.9/site-packages/tqdm/auto.py:22: TqdmWarning: IProgress not found. Please update jupyter and ipywidgets. See https://ipywidgets.readthedocs.io/en/stable/user_install.html\n",
      "  from .autonotebook import tqdm as notebook_tqdm\n",
      "WARNING:root:The OGB package is out of date. Your version is 1.3.4, while the latest version is 1.3.5.\n"
     ]
    }
   ],
   "source": [
    "from trainer import Trainer\n",
    "from dataset import get_ogb_data\n",
    "from torch_geometric import seed_everything\n",
    "from ogb.nodeproppred import Evaluator\n",
    "from predict import evaluate_test\n",
    "import pandas as pd\n",
    "import torch\n",
    "import numpy as np\n",
    "from tqdm import tqdm"
   ]
  },
  {
   "cell_type": "code",
   "execution_count": 2,
   "metadata": {},
   "outputs": [
    {
     "name": "stdout",
     "output_type": "stream",
     "text": [
      "Number of nodes in the graph: 169343\n",
      "Number of edges in the graph: 1166243\n",
      "Number of training nodes: 90941\n",
      "Number of validation nodes: 29799\n",
      "Number of test nodes: 48603\n",
      "Node feature matrix with shape: torch.Size([169343, 128])\n",
      "Graph connectivity in COO format with shape: torch.Size([2, 1166243])\n",
      "Target to train against : torch.Size([169343, 1])\n",
      "Node feature length 128\n",
      "number of target categories: 40\n"
     ]
    }
   ],
   "source": [
    "d_name = 'arxiv'\n",
    "data, split_idx, num_classes = get_ogb_data('arxiv')\n",
    "evaluator = Evaluator(name=f'ogbn-{d_name}')"
   ]
  },
  {
   "cell_type": "code",
   "execution_count": 3,
   "metadata": {},
   "outputs": [],
   "source": [
    "DEEP_DEPTH = 16\n",
    "SHALLOW_DEPTH = 2 \n",
    "depths_dict = {'deep': [DEEP_DEPTH], 'shallow': [SHALLOW_DEPTH], 'both': [DEEP_DEPTH, SHALLOW_DEPTH]}\n",
    "gnn_model_types = ['GCN', 'GAT', 'SAGE']\n",
    "epochs = 250\n",
    "cfg={\n",
    "    \"optimizer_type\": 'adam',\n",
    "    \"model_type\": 'SAGE',\n",
    "    \"lr_cfg\":{\n",
    "        \"lr\": 0.01,\n",
    "    },\n",
    "    \"train_log_step\": 10,\n",
    "    \"save_interval\": 50\n",
    "}"
   ]
  },
  {
   "cell_type": "code",
   "execution_count": null,
   "metadata": {},
   "outputs": [],
   "source": [
    "# train\n",
    "for depth, depths_list in depths_dict.items():\n",
    "    for model_type in gnn_model_types:\n",
    "        cfg['model_type'] = model_type\n",
    "        trainer = Trainer(cfg=cfg, model_dir=f'{depth}_{model_type}_temp')\n",
    "        trainer.run(data, split_idx, num_classes, evaluator, depths_list, epochs)"
   ]
  }
 ],
 "metadata": {
  "kernelspec": {
   "display_name": "Python 3.9.13 ('baskin': conda)",
   "language": "python",
   "name": "python3"
  },
  "language_info": {
   "codemirror_mode": {
    "name": "ipython",
    "version": 3
   },
   "file_extension": ".py",
   "mimetype": "text/x-python",
   "name": "python",
   "nbconvert_exporter": "python",
   "pygments_lexer": "ipython3",
   "version": "3.9.13"
  },
  "orig_nbformat": 4,
  "vscode": {
   "interpreter": {
    "hash": "e591c4f2b87a250375ca884dffd1dc17c4ce3268c519c9ae9b05ed9c4bef7107"
   }
  }
 },
 "nbformat": 4,
 "nbformat_minor": 2
}
