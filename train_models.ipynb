{
 "cells": [
  {
   "cell_type": "code",
   "execution_count": 2,
   "metadata": {},
   "outputs": [
    {
     "name": "stderr",
     "output_type": "stream",
     "text": [
      "WARNING:root:The OGB package is out of date. Your version is 1.3.4, while the latest version is 1.3.5.\n"
     ]
    }
   ],
   "source": [
    "from trainer import Trainer\n",
    "from dataset import get_ogb_data\n",
    "from torch_geometric import seed_everything\n",
    "from ogb.nodeproppred import Evaluator\n",
    "from predict import evaluate_test\n",
    "import pandas as pd\n",
    "import torch\n",
    "import numpy as np\n",
    "from tqdm import tqdm"
   ]
  },
  {
   "cell_type": "code",
   "execution_count": 3,
   "metadata": {},
   "outputs": [
    {
     "name": "stdout",
     "output_type": "stream",
     "text": [
      "Number of nodes in the graph: 169343\n",
      "Number of edges in the graph: 1166243\n",
      "Number of training nodes: 90941\n",
      "Number of validation nodes: 29799\n",
      "Number of test nodes: 48603\n",
      "Node feature matrix with shape: torch.Size([169343, 128])\n",
      "Graph connectivity in COO format with shape: torch.Size([2, 1166243])\n",
      "Target to train against : torch.Size([169343, 1])\n",
      "Node feature length 128\n",
      "number of target categories: 40\n"
     ]
    }
   ],
   "source": [
    "d_name = 'arxiv'\n",
    "data, split_idx, num_classes = get_ogb_data('arxiv')\n",
    "evaluator = Evaluator(name=f'ogbn-{d_name}')"
   ]
  },
  {
   "cell_type": "code",
   "execution_count": 6,
   "metadata": {},
   "outputs": [],
   "source": [
    "DEEP_DEPTH = 16\n",
    "SHALLOW_DEPTH = 2 \n",
    "depths_dict = {'deep': [DEEP_DEPTH], 'shallow': [SHALLOW_DEPTH], 'both': [DEEP_DEPTH, SHALLOW_DEPTH]}\n",
    "gnn_model_types = ['GCN', 'GAT', 'SAGE']\n",
    "epochs = 250\n",
    "cfg={\n",
    "    \"optimizer_type\": 'adam',\n",
    "    \"model_type\": 'SAGE',\n",
    "    \"lr_cfg\":{\n",
    "        \"lr\": 0.01,\n",
    "    },\n",
    "    \"train_log_step\": 10,\n",
    "    \"save_interval\": 50\n",
    "}"
   ]
  },
  {
   "cell_type": "code",
   "execution_count": 7,
   "metadata": {},
   "outputs": [
    {
     "name": "stdout",
     "output_type": "stream",
     "text": [
      "\n",
      " Epoch 0 training:\n"
     ]
    },
    {
     "name": "stderr",
     "output_type": "stream",
     "text": [
      "100%|██████████| 711/711 [01:41<00:00,  7.01it/s]\n"
     ]
    },
    {
     "name": "stdout",
     "output_type": "stream",
     "text": [
      "New best model validation accuracy: 0.38927. Previous: 0.00000\n",
      "Train Accuracy: 0.3678, Val Accuracy: 0.3893, Test Accuracy: 0.3265\n",
      "Train loss: 2.5247\n",
      "\n",
      " Epoch 1 training:\n"
     ]
    },
    {
     "name": "stderr",
     "output_type": "stream",
     "text": [
      "100%|██████████| 711/711 [01:39<00:00,  7.12it/s]\n"
     ]
    },
    {
     "name": "stdout",
     "output_type": "stream",
     "text": [
      "New best model validation accuracy: 0.42011. Previous: 0.38927\n",
      "Train Accuracy: 0.3954, Val Accuracy: 0.4201, Test Accuracy: 0.3449\n",
      "Train loss: 2.1824\n",
      "\n",
      " Epoch 2 training:\n"
     ]
    },
    {
     "name": "stderr",
     "output_type": "stream",
     "text": [
      "100%|██████████| 711/711 [01:40<00:00,  7.10it/s]\n"
     ]
    },
    {
     "name": "stdout",
     "output_type": "stream",
     "text": [
      "New best model validation accuracy: 0.43908. Previous: 0.42011\n",
      "Train Accuracy: 0.4202, Val Accuracy: 0.4391, Test Accuracy: 0.3714\n",
      "Train loss: 2.0638\n",
      "\n",
      " Epoch 3 training:\n"
     ]
    },
    {
     "name": "stderr",
     "output_type": "stream",
     "text": [
      "100%|██████████| 711/711 [01:39<00:00,  7.12it/s]\n"
     ]
    },
    {
     "name": "stdout",
     "output_type": "stream",
     "text": [
      "New best model validation accuracy: 0.46374. Previous: 0.43908\n",
      "Train Accuracy: 0.4540, Val Accuracy: 0.4637, Test Accuracy: 0.3995\n",
      "Train loss: 1.9742\n",
      "\n",
      " Epoch 4 training:\n"
     ]
    },
    {
     "name": "stderr",
     "output_type": "stream",
     "text": [
      "100%|██████████| 711/711 [01:39<00:00,  7.13it/s]\n"
     ]
    },
    {
     "name": "stdout",
     "output_type": "stream",
     "text": [
      "New best model validation accuracy: 0.48673. Previous: 0.46374\n",
      "Train Accuracy: 0.4696, Val Accuracy: 0.4867, Test Accuracy: 0.4340\n",
      "Train loss: 1.9136\n",
      "\n",
      " Epoch 5 training:\n"
     ]
    },
    {
     "name": "stderr",
     "output_type": "stream",
     "text": [
      "100%|██████████| 711/711 [01:41<00:00,  7.04it/s]\n"
     ]
    },
    {
     "name": "stdout",
     "output_type": "stream",
     "text": [
      "New best model validation accuracy: 0.48797. Previous: 0.48673\n",
      "Train Accuracy: 0.4752, Val Accuracy: 0.4880, Test Accuracy: 0.4337\n",
      "Train loss: 1.8762\n",
      "\n",
      " Epoch 6 training:\n"
     ]
    },
    {
     "name": "stderr",
     "output_type": "stream",
     "text": [
      "100%|██████████| 711/711 [01:40<00:00,  7.05it/s]\n"
     ]
    },
    {
     "name": "stdout",
     "output_type": "stream",
     "text": [
      "New best model validation accuracy: 0.49163. Previous: 0.48797\n",
      "Train Accuracy: 0.4844, Val Accuracy: 0.4916, Test Accuracy: 0.4358\n",
      "Train loss: 1.8451\n",
      "\n",
      " Epoch 7 training:\n"
     ]
    },
    {
     "name": "stderr",
     "output_type": "stream",
     "text": [
      "100%|██████████| 711/711 [01:40<00:00,  7.08it/s]\n"
     ]
    },
    {
     "name": "stdout",
     "output_type": "stream",
     "text": [
      "New best model validation accuracy: 0.49720. Previous: 0.49163\n",
      "Train Accuracy: 0.4957, Val Accuracy: 0.4972, Test Accuracy: 0.4390\n",
      "Train loss: 1.8282\n",
      "\n",
      " Epoch 8 training:\n"
     ]
    },
    {
     "name": "stderr",
     "output_type": "stream",
     "text": [
      "100%|██████████| 711/711 [01:40<00:00,  7.10it/s]\n"
     ]
    },
    {
     "name": "stdout",
     "output_type": "stream",
     "text": [
      "Train Accuracy: 0.4882, Val Accuracy: 0.4932, Test Accuracy: 0.4333\n",
      "Train loss: 1.8135\n",
      "\n",
      " Epoch 9 training:\n"
     ]
    },
    {
     "name": "stderr",
     "output_type": "stream",
     "text": [
      "100%|██████████| 711/711 [01:40<00:00,  7.08it/s]\n"
     ]
    },
    {
     "name": "stdout",
     "output_type": "stream",
     "text": [
      "Train Accuracy: 0.4910, Val Accuracy: 0.4872, Test Accuracy: 0.4276\n",
      "Train loss: 1.7929\n",
      "\n",
      " Epoch 10 training:\n"
     ]
    },
    {
     "name": "stderr",
     "output_type": "stream",
     "text": [
      "100%|██████████| 711/711 [01:40<00:00,  7.11it/s]\n"
     ]
    },
    {
     "name": "stdout",
     "output_type": "stream",
     "text": [
      "Train Accuracy: 0.4879, Val Accuracy: 0.4868, Test Accuracy: 0.4381\n",
      "Train loss: 1.7814\n",
      "\n",
      " Epoch 11 training:\n"
     ]
    },
    {
     "name": "stderr",
     "output_type": "stream",
     "text": [
      "100%|██████████| 711/711 [01:40<00:00,  7.10it/s]\n"
     ]
    },
    {
     "name": "stdout",
     "output_type": "stream",
     "text": [
      "Train Accuracy: 0.4989, Val Accuracy: 0.4943, Test Accuracy: 0.4424\n",
      "Train loss: 1.7635\n",
      "\n",
      " Epoch 12 training:\n"
     ]
    },
    {
     "name": "stderr",
     "output_type": "stream",
     "text": [
      "100%|██████████| 711/711 [01:39<00:00,  7.14it/s]\n"
     ]
    },
    {
     "name": "stdout",
     "output_type": "stream",
     "text": [
      "New best model validation accuracy: 0.49971. Previous: 0.49720\n",
      "Train Accuracy: 0.5053, Val Accuracy: 0.4997, Test Accuracy: 0.4397\n",
      "Train loss: 1.7497\n",
      "\n",
      " Epoch 13 training:\n"
     ]
    },
    {
     "name": "stderr",
     "output_type": "stream",
     "text": [
      "100%|██████████| 711/711 [01:39<00:00,  7.14it/s]\n"
     ]
    },
    {
     "name": "stdout",
     "output_type": "stream",
     "text": [
      "New best model validation accuracy: 0.50102. Previous: 0.49971\n",
      "Train Accuracy: 0.5006, Val Accuracy: 0.5010, Test Accuracy: 0.4462\n",
      "Train loss: 1.7359\n",
      "\n",
      " Epoch 14 training:\n"
     ]
    },
    {
     "name": "stderr",
     "output_type": "stream",
     "text": [
      "100%|██████████| 711/711 [01:40<00:00,  7.05it/s]\n"
     ]
    },
    {
     "name": "stdout",
     "output_type": "stream",
     "text": [
      "New best model validation accuracy: 0.50659. Previous: 0.50102\n",
      "Train Accuracy: 0.5094, Val Accuracy: 0.5066, Test Accuracy: 0.4473\n",
      "Train loss: 1.7212\n",
      "\n",
      " Epoch 15 training:\n"
     ]
    },
    {
     "name": "stderr",
     "output_type": "stream",
     "text": [
      "100%|██████████| 711/711 [01:40<00:00,  7.05it/s]\n"
     ]
    },
    {
     "name": "stdout",
     "output_type": "stream",
     "text": [
      "Train Accuracy: 0.5078, Val Accuracy: 0.5028, Test Accuracy: 0.4418\n",
      "Train loss: 1.7093\n",
      "\n",
      " Epoch 16 training:\n"
     ]
    },
    {
     "name": "stderr",
     "output_type": "stream",
     "text": [
      "100%|██████████| 711/711 [01:39<00:00,  7.11it/s]\n"
     ]
    },
    {
     "name": "stdout",
     "output_type": "stream",
     "text": [
      "New best model validation accuracy: 0.50827. Previous: 0.50659\n",
      "Train Accuracy: 0.5169, Val Accuracy: 0.5083, Test Accuracy: 0.4465\n",
      "Train loss: 1.6948\n",
      "\n",
      " Epoch 17 training:\n"
     ]
    },
    {
     "name": "stderr",
     "output_type": "stream",
     "text": [
      "100%|██████████| 711/711 [01:40<00:00,  7.08it/s]\n"
     ]
    },
    {
     "name": "stdout",
     "output_type": "stream",
     "text": [
      "New best model validation accuracy: 0.51401. Previous: 0.50827\n",
      "Train Accuracy: 0.5231, Val Accuracy: 0.5140, Test Accuracy: 0.4584\n",
      "Train loss: 1.6820\n",
      "\n",
      " Epoch 18 training:\n"
     ]
    },
    {
     "name": "stderr",
     "output_type": "stream",
     "text": [
      "100%|██████████| 711/711 [01:39<00:00,  7.12it/s]\n"
     ]
    },
    {
     "name": "stdout",
     "output_type": "stream",
     "text": [
      "Train Accuracy: 0.5255, Val Accuracy: 0.5095, Test Accuracy: 0.4488\n",
      "Train loss: 1.6756\n",
      "\n",
      " Epoch 19 training:\n"
     ]
    },
    {
     "name": "stderr",
     "output_type": "stream",
     "text": [
      "100%|██████████| 711/711 [01:40<00:00,  7.11it/s]\n"
     ]
    },
    {
     "name": "stdout",
     "output_type": "stream",
     "text": [
      "New best model validation accuracy: 0.52223. Previous: 0.51401\n",
      "Train Accuracy: 0.5319, Val Accuracy: 0.5222, Test Accuracy: 0.4636\n",
      "Train loss: 1.6599\n",
      "\n",
      " Epoch 20 training:\n"
     ]
    },
    {
     "name": "stderr",
     "output_type": "stream",
     "text": [
      "100%|██████████| 711/711 [01:40<00:00,  7.08it/s]\n"
     ]
    },
    {
     "name": "stdout",
     "output_type": "stream",
     "text": [
      "Train Accuracy: 0.5259, Val Accuracy: 0.5170, Test Accuracy: 0.4615\n",
      "Train loss: 1.6525\n",
      "\n",
      " Epoch 21 training:\n"
     ]
    },
    {
     "name": "stderr",
     "output_type": "stream",
     "text": [
      "100%|██████████| 711/711 [01:40<00:00,  7.08it/s]\n"
     ]
    },
    {
     "name": "stdout",
     "output_type": "stream",
     "text": [
      "Train Accuracy: 0.5312, Val Accuracy: 0.5160, Test Accuracy: 0.4535\n",
      "Train loss: 1.6468\n",
      "\n",
      " Epoch 22 training:\n"
     ]
    },
    {
     "name": "stderr",
     "output_type": "stream",
     "text": [
      "100%|██████████| 711/711 [01:39<00:00,  7.14it/s]\n"
     ]
    },
    {
     "name": "stdout",
     "output_type": "stream",
     "text": [
      "Train Accuracy: 0.5295, Val Accuracy: 0.5174, Test Accuracy: 0.4618\n",
      "Train loss: 1.6420\n",
      "\n",
      " Epoch 23 training:\n"
     ]
    },
    {
     "name": "stderr",
     "output_type": "stream",
     "text": [
      "100%|██████████| 711/711 [01:39<00:00,  7.12it/s]\n"
     ]
    },
    {
     "name": "stdout",
     "output_type": "stream",
     "text": [
      "New best model validation accuracy: 0.52274. Previous: 0.52223\n",
      "Train Accuracy: 0.5369, Val Accuracy: 0.5227, Test Accuracy: 0.4657\n",
      "Train loss: 1.6322\n",
      "\n",
      " Epoch 24 training:\n"
     ]
    },
    {
     "name": "stderr",
     "output_type": "stream",
     "text": [
      "100%|██████████| 711/711 [01:40<00:00,  7.10it/s]\n"
     ]
    },
    {
     "name": "stdout",
     "output_type": "stream",
     "text": [
      "New best model validation accuracy: 0.52851. Previous: 0.52274\n",
      "Train Accuracy: 0.5420, Val Accuracy: 0.5285, Test Accuracy: 0.4688\n",
      "Train loss: 1.6255\n",
      "\n",
      " Epoch 25 training:\n"
     ]
    },
    {
     "name": "stderr",
     "output_type": "stream",
     "text": [
      "100%|██████████| 711/711 [01:39<00:00,  7.11it/s]\n"
     ]
    },
    {
     "name": "stdout",
     "output_type": "stream",
     "text": [
      "Train Accuracy: 0.5355, Val Accuracy: 0.5156, Test Accuracy: 0.4589\n",
      "Train loss: 1.6180\n",
      "\n",
      " Epoch 26 training:\n"
     ]
    },
    {
     "name": "stderr",
     "output_type": "stream",
     "text": [
      "100%|██████████| 711/711 [01:40<00:00,  7.08it/s]\n"
     ]
    },
    {
     "name": "stdout",
     "output_type": "stream",
     "text": [
      "New best model validation accuracy: 0.53119. Previous: 0.52851\n",
      "Train Accuracy: 0.5428, Val Accuracy: 0.5312, Test Accuracy: 0.4690\n",
      "Train loss: 1.6099\n",
      "\n",
      " Epoch 27 training:\n"
     ]
    },
    {
     "name": "stderr",
     "output_type": "stream",
     "text": [
      "100%|██████████| 711/711 [01:40<00:00,  7.11it/s]\n"
     ]
    },
    {
     "name": "stdout",
     "output_type": "stream",
     "text": [
      "Train Accuracy: 0.5385, Val Accuracy: 0.5213, Test Accuracy: 0.4654\n",
      "Train loss: 1.6096\n",
      "\n",
      " Epoch 28 training:\n"
     ]
    },
    {
     "name": "stderr",
     "output_type": "stream",
     "text": [
      "100%|██████████| 711/711 [01:40<00:00,  7.07it/s]\n"
     ]
    },
    {
     "name": "stdout",
     "output_type": "stream",
     "text": [
      "Train Accuracy: 0.5373, Val Accuracy: 0.5207, Test Accuracy: 0.4641\n",
      "Train loss: 1.6062\n",
      "\n",
      " Epoch 29 training:\n"
     ]
    },
    {
     "name": "stderr",
     "output_type": "stream",
     "text": [
      "100%|██████████| 711/711 [01:40<00:00,  7.08it/s]\n"
     ]
    },
    {
     "name": "stdout",
     "output_type": "stream",
     "text": [
      "Train Accuracy: 0.5422, Val Accuracy: 0.5218, Test Accuracy: 0.4640\n",
      "Train loss: 1.5993\n",
      "\n",
      " Epoch 30 training:\n"
     ]
    },
    {
     "name": "stderr",
     "output_type": "stream",
     "text": [
      "100%|██████████| 711/711 [01:40<00:00,  7.11it/s]\n"
     ]
    },
    {
     "name": "stdout",
     "output_type": "stream",
     "text": [
      "Train Accuracy: 0.5426, Val Accuracy: 0.5153, Test Accuracy: 0.4637\n",
      "Train loss: 1.5979\n",
      "\n",
      " Epoch 31 training:\n"
     ]
    },
    {
     "name": "stderr",
     "output_type": "stream",
     "text": [
      "100%|██████████| 711/711 [01:40<00:00,  7.06it/s]\n"
     ]
    },
    {
     "name": "stdout",
     "output_type": "stream",
     "text": [
      "Train Accuracy: 0.5457, Val Accuracy: 0.5251, Test Accuracy: 0.4690\n",
      "Train loss: 1.5890\n",
      "\n",
      " Epoch 32 training:\n"
     ]
    },
    {
     "name": "stderr",
     "output_type": "stream",
     "text": [
      "100%|██████████| 711/711 [01:39<00:00,  7.15it/s]\n"
     ]
    },
    {
     "name": "stdout",
     "output_type": "stream",
     "text": [
      "Train Accuracy: 0.5412, Val Accuracy: 0.5192, Test Accuracy: 0.4633\n",
      "Train loss: 1.5849\n",
      "\n",
      " Epoch 33 training:\n"
     ]
    },
    {
     "name": "stderr",
     "output_type": "stream",
     "text": [
      "100%|██████████| 711/711 [01:40<00:00,  7.10it/s]\n"
     ]
    },
    {
     "name": "stdout",
     "output_type": "stream",
     "text": [
      "Train Accuracy: 0.5500, Val Accuracy: 0.5262, Test Accuracy: 0.4689\n",
      "Train loss: 1.5739\n",
      "\n",
      " Epoch 34 training:\n"
     ]
    },
    {
     "name": "stderr",
     "output_type": "stream",
     "text": [
      "100%|██████████| 711/711 [01:40<00:00,  7.10it/s]\n"
     ]
    },
    {
     "name": "stdout",
     "output_type": "stream",
     "text": [
      "Train Accuracy: 0.5493, Val Accuracy: 0.5289, Test Accuracy: 0.4745\n",
      "Train loss: 1.5764\n",
      "\n",
      " Epoch 35 training:\n"
     ]
    },
    {
     "name": "stderr",
     "output_type": "stream",
     "text": [
      "100%|██████████| 711/711 [01:40<00:00,  7.10it/s]\n"
     ]
    },
    {
     "name": "stdout",
     "output_type": "stream",
     "text": [
      "New best model validation accuracy: 0.53260. Previous: 0.53119\n",
      "Train Accuracy: 0.5496, Val Accuracy: 0.5326, Test Accuracy: 0.4771\n",
      "Train loss: 1.5698\n",
      "\n",
      " Epoch 36 training:\n"
     ]
    },
    {
     "name": "stderr",
     "output_type": "stream",
     "text": [
      "100%|██████████| 711/711 [01:40<00:00,  7.09it/s]\n"
     ]
    },
    {
     "name": "stdout",
     "output_type": "stream",
     "text": [
      "Train Accuracy: 0.5534, Val Accuracy: 0.5289, Test Accuracy: 0.4713\n",
      "Train loss: 1.5633\n",
      "\n",
      " Epoch 37 training:\n"
     ]
    },
    {
     "name": "stderr",
     "output_type": "stream",
     "text": [
      "100%|██████████| 711/711 [01:42<00:00,  6.96it/s]\n"
     ]
    },
    {
     "name": "stdout",
     "output_type": "stream",
     "text": [
      "Train Accuracy: 0.5483, Val Accuracy: 0.5223, Test Accuracy: 0.4731\n",
      "Train loss: 1.5607\n",
      "\n",
      " Epoch 38 training:\n"
     ]
    },
    {
     "name": "stderr",
     "output_type": "stream",
     "text": [
      "100%|██████████| 711/711 [01:40<00:00,  7.05it/s]\n"
     ]
    },
    {
     "name": "stdout",
     "output_type": "stream",
     "text": [
      "New best model validation accuracy: 0.53274. Previous: 0.53260\n",
      "Train Accuracy: 0.5575, Val Accuracy: 0.5327, Test Accuracy: 0.4791\n",
      "Train loss: 1.5531\n",
      "\n",
      " Epoch 39 training:\n"
     ]
    },
    {
     "name": "stderr",
     "output_type": "stream",
     "text": [
      "100%|██████████| 711/711 [01:39<00:00,  7.11it/s]\n"
     ]
    },
    {
     "name": "stdout",
     "output_type": "stream",
     "text": [
      "Train Accuracy: 0.5486, Val Accuracy: 0.5208, Test Accuracy: 0.4716\n",
      "Train loss: 1.5488\n",
      "\n",
      " Epoch 40 training:\n"
     ]
    },
    {
     "name": "stderr",
     "output_type": "stream",
     "text": [
      "100%|██████████| 711/711 [01:40<00:00,  7.10it/s]\n"
     ]
    },
    {
     "name": "stdout",
     "output_type": "stream",
     "text": [
      "Train Accuracy: 0.5554, Val Accuracy: 0.5258, Test Accuracy: 0.4732\n",
      "Train loss: 1.5584\n",
      "\n",
      " Epoch 41 training:\n"
     ]
    },
    {
     "name": "stderr",
     "output_type": "stream",
     "text": [
      "100%|██████████| 711/711 [01:40<00:00,  7.10it/s]\n"
     ]
    },
    {
     "name": "stdout",
     "output_type": "stream",
     "text": [
      "New best model validation accuracy: 0.53727. Previous: 0.53274\n",
      "Train Accuracy: 0.5591, Val Accuracy: 0.5373, Test Accuracy: 0.4861\n",
      "Train loss: 1.5511\n",
      "\n",
      " Epoch 42 training:\n"
     ]
    },
    {
     "name": "stderr",
     "output_type": "stream",
     "text": [
      "100%|██████████| 711/711 [01:40<00:00,  7.08it/s]\n"
     ]
    },
    {
     "name": "stdout",
     "output_type": "stream",
     "text": [
      "New best model validation accuracy: 0.53854. Previous: 0.53727\n",
      "Train Accuracy: 0.5598, Val Accuracy: 0.5385, Test Accuracy: 0.4841\n",
      "Train loss: 1.5456\n",
      "\n",
      " Epoch 43 training:\n"
     ]
    },
    {
     "name": "stderr",
     "output_type": "stream",
     "text": [
      "100%|██████████| 711/711 [01:39<00:00,  7.12it/s]\n"
     ]
    },
    {
     "name": "stdout",
     "output_type": "stream",
     "text": [
      "Train Accuracy: 0.5577, Val Accuracy: 0.5362, Test Accuracy: 0.4805\n",
      "Train loss: 1.5405\n",
      "\n",
      " Epoch 44 training:\n"
     ]
    },
    {
     "name": "stderr",
     "output_type": "stream",
     "text": [
      "100%|██████████| 711/711 [01:40<00:00,  7.04it/s]\n"
     ]
    },
    {
     "name": "stdout",
     "output_type": "stream",
     "text": [
      "Train Accuracy: 0.5640, Val Accuracy: 0.5362, Test Accuracy: 0.4779\n",
      "Train loss: 1.5405\n",
      "\n",
      " Epoch 45 training:\n"
     ]
    },
    {
     "name": "stderr",
     "output_type": "stream",
     "text": [
      "100%|██████████| 711/711 [01:40<00:00,  7.08it/s]\n"
     ]
    },
    {
     "name": "stdout",
     "output_type": "stream",
     "text": [
      "Train Accuracy: 0.5587, Val Accuracy: 0.5325, Test Accuracy: 0.4739\n",
      "Train loss: 1.5373\n",
      "\n",
      " Epoch 46 training:\n"
     ]
    },
    {
     "name": "stderr",
     "output_type": "stream",
     "text": [
      "100%|██████████| 711/711 [01:40<00:00,  7.10it/s]\n"
     ]
    },
    {
     "name": "stdout",
     "output_type": "stream",
     "text": [
      "New best model validation accuracy: 0.54002. Previous: 0.53854\n",
      "Train Accuracy: 0.5607, Val Accuracy: 0.5400, Test Accuracy: 0.4811\n",
      "Train loss: 1.5320\n",
      "\n",
      " Epoch 47 training:\n"
     ]
    },
    {
     "name": "stderr",
     "output_type": "stream",
     "text": [
      "100%|██████████| 711/711 [01:39<00:00,  7.11it/s]\n"
     ]
    },
    {
     "name": "stdout",
     "output_type": "stream",
     "text": [
      "Train Accuracy: 0.5590, Val Accuracy: 0.5286, Test Accuracy: 0.4740\n",
      "Train loss: 1.5294\n",
      "\n",
      " Epoch 48 training:\n"
     ]
    },
    {
     "name": "stderr",
     "output_type": "stream",
     "text": [
      "100%|██████████| 711/711 [01:41<00:00,  7.02it/s]\n"
     ]
    },
    {
     "name": "stdout",
     "output_type": "stream",
     "text": [
      "Train Accuracy: 0.5561, Val Accuracy: 0.5268, Test Accuracy: 0.4714\n",
      "Train loss: 1.5298\n",
      "\n",
      " Epoch 49 training:\n"
     ]
    },
    {
     "name": "stderr",
     "output_type": "stream",
     "text": [
      "100%|██████████| 711/711 [01:40<00:00,  7.09it/s]\n"
     ]
    },
    {
     "name": "stdout",
     "output_type": "stream",
     "text": [
      "Train Accuracy: 0.5605, Val Accuracy: 0.5289, Test Accuracy: 0.4730\n",
      "Train loss: 1.5259\n",
      "\n",
      " Epoch 50 training:\n"
     ]
    },
    {
     "name": "stderr",
     "output_type": "stream",
     "text": [
      "100%|██████████| 711/711 [01:39<00:00,  7.17it/s]\n"
     ]
    },
    {
     "name": "stdout",
     "output_type": "stream",
     "text": [
      "Train Accuracy: 0.5630, Val Accuracy: 0.5310, Test Accuracy: 0.4749\n",
      "Train loss: 1.5190\n",
      "\n",
      " Epoch 51 training:\n"
     ]
    },
    {
     "name": "stderr",
     "output_type": "stream",
     "text": [
      "100%|██████████| 711/711 [01:40<00:00,  7.06it/s]\n"
     ]
    },
    {
     "name": "stdout",
     "output_type": "stream",
     "text": [
      "Train Accuracy: 0.5649, Val Accuracy: 0.5339, Test Accuracy: 0.4757\n",
      "Train loss: 1.5243\n",
      "\n",
      " Epoch 52 training:\n"
     ]
    },
    {
     "name": "stderr",
     "output_type": "stream",
     "text": [
      "100%|██████████| 711/711 [01:39<00:00,  7.12it/s]\n"
     ]
    },
    {
     "name": "stdout",
     "output_type": "stream",
     "text": [
      "Train Accuracy: 0.5648, Val Accuracy: 0.5391, Test Accuracy: 0.4803\n",
      "Train loss: 1.5167\n",
      "\n",
      " Epoch 53 training:\n"
     ]
    },
    {
     "name": "stderr",
     "output_type": "stream",
     "text": [
      "100%|██████████| 711/711 [01:40<00:00,  7.08it/s]\n"
     ]
    },
    {
     "name": "stdout",
     "output_type": "stream",
     "text": [
      "Train Accuracy: 0.5657, Val Accuracy: 0.5339, Test Accuracy: 0.4837\n",
      "Train loss: 1.5161\n",
      "\n",
      " Epoch 54 training:\n"
     ]
    },
    {
     "name": "stderr",
     "output_type": "stream",
     "text": [
      "100%|██████████| 711/711 [01:40<00:00,  7.05it/s]\n"
     ]
    },
    {
     "name": "stdout",
     "output_type": "stream",
     "text": [
      "Train Accuracy: 0.5643, Val Accuracy: 0.5351, Test Accuracy: 0.4796\n",
      "Train loss: 1.5116\n",
      "\n",
      " Epoch 55 training:\n"
     ]
    },
    {
     "name": "stderr",
     "output_type": "stream",
     "text": [
      "100%|██████████| 711/711 [01:39<00:00,  7.12it/s]\n"
     ]
    },
    {
     "name": "stdout",
     "output_type": "stream",
     "text": [
      "Train Accuracy: 0.5637, Val Accuracy: 0.5336, Test Accuracy: 0.4808\n",
      "Train loss: 1.5143\n",
      "\n",
      " Epoch 56 training:\n"
     ]
    },
    {
     "name": "stderr",
     "output_type": "stream",
     "text": [
      "100%|██████████| 711/711 [01:39<00:00,  7.14it/s]\n"
     ]
    },
    {
     "name": "stdout",
     "output_type": "stream",
     "text": [
      "Train Accuracy: 0.5650, Val Accuracy: 0.5291, Test Accuracy: 0.4700\n",
      "Train loss: 1.5074\n",
      "\n",
      " Epoch 57 training:\n"
     ]
    },
    {
     "name": "stderr",
     "output_type": "stream",
     "text": [
      "100%|██████████| 711/711 [01:39<00:00,  7.16it/s]\n"
     ]
    },
    {
     "name": "stdout",
     "output_type": "stream",
     "text": [
      "Train Accuracy: 0.5679, Val Accuracy: 0.5393, Test Accuracy: 0.4828\n",
      "Train loss: 1.5037\n",
      "\n",
      " Epoch 58 training:\n"
     ]
    },
    {
     "name": "stderr",
     "output_type": "stream",
     "text": [
      "100%|██████████| 711/711 [01:40<00:00,  7.08it/s]\n"
     ]
    },
    {
     "name": "stdout",
     "output_type": "stream",
     "text": [
      "Train Accuracy: 0.5662, Val Accuracy: 0.5347, Test Accuracy: 0.4734\n",
      "Train loss: 1.5029\n",
      "\n",
      " Epoch 59 training:\n"
     ]
    },
    {
     "name": "stderr",
     "output_type": "stream",
     "text": [
      "100%|██████████| 711/711 [01:40<00:00,  7.09it/s]\n"
     ]
    },
    {
     "name": "stdout",
     "output_type": "stream",
     "text": [
      "Train Accuracy: 0.5645, Val Accuracy: 0.5286, Test Accuracy: 0.4752\n",
      "Train loss: 1.4995\n",
      "\n",
      " Epoch 60 training:\n"
     ]
    },
    {
     "name": "stderr",
     "output_type": "stream",
     "text": [
      "100%|██████████| 711/711 [01:39<00:00,  7.13it/s]\n"
     ]
    },
    {
     "name": "stdout",
     "output_type": "stream",
     "text": [
      "Train Accuracy: 0.5704, Val Accuracy: 0.5386, Test Accuracy: 0.4795\n",
      "Train loss: 1.5048\n",
      "\n",
      " Epoch 61 training:\n"
     ]
    },
    {
     "name": "stderr",
     "output_type": "stream",
     "text": [
      "100%|██████████| 711/711 [01:39<00:00,  7.12it/s]\n"
     ]
    },
    {
     "name": "stdout",
     "output_type": "stream",
     "text": [
      "New best model validation accuracy: 0.54012. Previous: 0.54002\n",
      "Train Accuracy: 0.5688, Val Accuracy: 0.5401, Test Accuracy: 0.4808\n",
      "Train loss: 1.4985\n",
      "\n",
      " Epoch 62 training:\n"
     ]
    },
    {
     "name": "stderr",
     "output_type": "stream",
     "text": [
      "100%|██████████| 711/711 [01:39<00:00,  7.16it/s]\n"
     ]
    },
    {
     "name": "stdout",
     "output_type": "stream",
     "text": [
      "Train Accuracy: 0.5711, Val Accuracy: 0.5359, Test Accuracy: 0.4806\n",
      "Train loss: 1.4957\n",
      "\n",
      " Epoch 63 training:\n"
     ]
    },
    {
     "name": "stderr",
     "output_type": "stream",
     "text": [
      "100%|██████████| 711/711 [01:40<00:00,  7.10it/s]\n"
     ]
    },
    {
     "name": "stdout",
     "output_type": "stream",
     "text": [
      "New best model validation accuracy: 0.54149. Previous: 0.54012\n",
      "Train Accuracy: 0.5746, Val Accuracy: 0.5415, Test Accuracy: 0.4868\n",
      "Train loss: 1.4922\n",
      "\n",
      " Epoch 64 training:\n"
     ]
    },
    {
     "name": "stderr",
     "output_type": "stream",
     "text": [
      "100%|██████████| 711/711 [01:39<00:00,  7.15it/s]\n"
     ]
    },
    {
     "name": "stdout",
     "output_type": "stream",
     "text": [
      "Train Accuracy: 0.5737, Val Accuracy: 0.5370, Test Accuracy: 0.4815\n",
      "Train loss: 1.4877\n",
      "\n",
      " Epoch 65 training:\n"
     ]
    },
    {
     "name": "stderr",
     "output_type": "stream",
     "text": [
      "100%|██████████| 711/711 [01:40<00:00,  7.09it/s]\n"
     ]
    },
    {
     "name": "stdout",
     "output_type": "stream",
     "text": [
      "Train Accuracy: 0.5725, Val Accuracy: 0.5383, Test Accuracy: 0.4860\n",
      "Train loss: 1.4873\n",
      "\n",
      " Epoch 66 training:\n"
     ]
    },
    {
     "name": "stderr",
     "output_type": "stream",
     "text": [
      "100%|██████████| 711/711 [01:40<00:00,  7.11it/s]\n"
     ]
    },
    {
     "name": "stdout",
     "output_type": "stream",
     "text": [
      "Train Accuracy: 0.5749, Val Accuracy: 0.5406, Test Accuracy: 0.4836\n",
      "Train loss: 1.4857\n",
      "\n",
      " Epoch 67 training:\n"
     ]
    },
    {
     "name": "stderr",
     "output_type": "stream",
     "text": [
      "100%|██████████| 711/711 [01:40<00:00,  7.08it/s]\n"
     ]
    },
    {
     "name": "stdout",
     "output_type": "stream",
     "text": [
      "Train Accuracy: 0.5742, Val Accuracy: 0.5364, Test Accuracy: 0.4797\n",
      "Train loss: 1.4833\n",
      "\n",
      " Epoch 68 training:\n"
     ]
    },
    {
     "name": "stderr",
     "output_type": "stream",
     "text": [
      "100%|██████████| 711/711 [01:40<00:00,  7.09it/s]\n"
     ]
    },
    {
     "name": "stdout",
     "output_type": "stream",
     "text": [
      "Train Accuracy: 0.5720, Val Accuracy: 0.5399, Test Accuracy: 0.4836\n",
      "Train loss: 1.4782\n",
      "\n",
      " Epoch 69 training:\n"
     ]
    },
    {
     "name": "stderr",
     "output_type": "stream",
     "text": [
      "100%|██████████| 711/711 [01:39<00:00,  7.17it/s]\n"
     ]
    },
    {
     "name": "stdout",
     "output_type": "stream",
     "text": [
      "New best model validation accuracy: 0.54579. Previous: 0.54149\n",
      "Train Accuracy: 0.5743, Val Accuracy: 0.5458, Test Accuracy: 0.4944\n",
      "Train loss: 1.4778\n",
      "\n",
      " Epoch 70 training:\n"
     ]
    },
    {
     "name": "stderr",
     "output_type": "stream",
     "text": [
      "100%|██████████| 711/711 [01:40<00:00,  7.09it/s]\n"
     ]
    },
    {
     "name": "stdout",
     "output_type": "stream",
     "text": [
      "Train Accuracy: 0.5795, Val Accuracy: 0.5435, Test Accuracy: 0.4947\n",
      "Train loss: 1.4763\n",
      "\n",
      " Epoch 71 training:\n"
     ]
    },
    {
     "name": "stderr",
     "output_type": "stream",
     "text": [
      "100%|██████████| 711/711 [01:39<00:00,  7.12it/s]\n"
     ]
    },
    {
     "name": "stdout",
     "output_type": "stream",
     "text": [
      "Train Accuracy: 0.5780, Val Accuracy: 0.5408, Test Accuracy: 0.4863\n",
      "Train loss: 1.4691\n",
      "\n",
      " Epoch 72 training:\n"
     ]
    },
    {
     "name": "stderr",
     "output_type": "stream",
     "text": [
      "100%|██████████| 711/711 [01:39<00:00,  7.14it/s]\n"
     ]
    },
    {
     "name": "stdout",
     "output_type": "stream",
     "text": [
      "New best model validation accuracy: 0.54589. Previous: 0.54579\n",
      "Train Accuracy: 0.5786, Val Accuracy: 0.5459, Test Accuracy: 0.4926\n",
      "Train loss: 1.4693\n",
      "\n",
      " Epoch 73 training:\n"
     ]
    },
    {
     "name": "stderr",
     "output_type": "stream",
     "text": [
      "100%|██████████| 711/711 [01:40<00:00,  7.08it/s]\n"
     ]
    },
    {
     "name": "stdout",
     "output_type": "stream",
     "text": [
      "Train Accuracy: 0.5801, Val Accuracy: 0.5438, Test Accuracy: 0.4921\n",
      "Train loss: 1.4665\n",
      "\n",
      " Epoch 74 training:\n"
     ]
    },
    {
     "name": "stderr",
     "output_type": "stream",
     "text": [
      "100%|██████████| 711/711 [01:39<00:00,  7.13it/s]\n"
     ]
    },
    {
     "name": "stdout",
     "output_type": "stream",
     "text": [
      "Train Accuracy: 0.5813, Val Accuracy: 0.5451, Test Accuracy: 0.4893\n",
      "Train loss: 1.4649\n",
      "\n",
      " Epoch 75 training:\n"
     ]
    },
    {
     "name": "stderr",
     "output_type": "stream",
     "text": [
      "100%|██████████| 711/711 [01:39<00:00,  7.13it/s]\n"
     ]
    },
    {
     "name": "stdout",
     "output_type": "stream",
     "text": [
      "Train Accuracy: 0.5831, Val Accuracy: 0.5456, Test Accuracy: 0.4911\n",
      "Train loss: 1.4677\n",
      "\n",
      " Epoch 76 training:\n"
     ]
    },
    {
     "name": "stderr",
     "output_type": "stream",
     "text": [
      "100%|██████████| 711/711 [01:39<00:00,  7.13it/s]\n"
     ]
    },
    {
     "name": "stdout",
     "output_type": "stream",
     "text": [
      "Train Accuracy: 0.5802, Val Accuracy: 0.5419, Test Accuracy: 0.4918\n",
      "Train loss: 1.4632\n",
      "\n",
      " Epoch 77 training:\n"
     ]
    },
    {
     "name": "stderr",
     "output_type": "stream",
     "text": [
      "100%|██████████| 711/711 [01:40<00:00,  7.11it/s]\n"
     ]
    },
    {
     "name": "stdout",
     "output_type": "stream",
     "text": [
      "New best model validation accuracy: 0.54898. Previous: 0.54589\n",
      "Train Accuracy: 0.5865, Val Accuracy: 0.5490, Test Accuracy: 0.4908\n",
      "Train loss: 1.4643\n",
      "\n",
      " Epoch 78 training:\n"
     ]
    },
    {
     "name": "stderr",
     "output_type": "stream",
     "text": [
      "100%|██████████| 711/711 [01:40<00:00,  7.10it/s]\n"
     ]
    },
    {
     "name": "stdout",
     "output_type": "stream",
     "text": [
      "Train Accuracy: 0.5831, Val Accuracy: 0.5456, Test Accuracy: 0.4879\n",
      "Train loss: 1.4594\n",
      "\n",
      " Epoch 79 training:\n"
     ]
    },
    {
     "name": "stderr",
     "output_type": "stream",
     "text": [
      "100%|██████████| 711/711 [01:39<00:00,  7.12it/s]\n"
     ]
    },
    {
     "name": "stdout",
     "output_type": "stream",
     "text": [
      "Train Accuracy: 0.5806, Val Accuracy: 0.5396, Test Accuracy: 0.4867\n",
      "Train loss: 1.4568\n",
      "\n",
      " Epoch 80 training:\n"
     ]
    },
    {
     "name": "stderr",
     "output_type": "stream",
     "text": [
      "100%|██████████| 711/711 [01:40<00:00,  7.10it/s]\n"
     ]
    },
    {
     "name": "stdout",
     "output_type": "stream",
     "text": [
      "Train Accuracy: 0.5831, Val Accuracy: 0.5413, Test Accuracy: 0.4858\n",
      "Train loss: 1.4567\n",
      "\n",
      " Epoch 81 training:\n"
     ]
    },
    {
     "name": "stderr",
     "output_type": "stream",
     "text": [
      "100%|██████████| 711/711 [01:40<00:00,  7.09it/s]\n"
     ]
    },
    {
     "name": "stdout",
     "output_type": "stream",
     "text": [
      "Train Accuracy: 0.5814, Val Accuracy: 0.5432, Test Accuracy: 0.4870\n",
      "Train loss: 1.4608\n",
      "\n",
      " Epoch 82 training:\n"
     ]
    },
    {
     "name": "stderr",
     "output_type": "stream",
     "text": [
      "100%|██████████| 711/711 [01:40<00:00,  7.09it/s]\n"
     ]
    },
    {
     "name": "stdout",
     "output_type": "stream",
     "text": [
      "Train Accuracy: 0.5807, Val Accuracy: 0.5442, Test Accuracy: 0.4892\n",
      "Train loss: 1.4539\n",
      "\n",
      " Epoch 83 training:\n"
     ]
    },
    {
     "name": "stderr",
     "output_type": "stream",
     "text": [
      "100%|██████████| 711/711 [01:40<00:00,  7.06it/s]\n"
     ]
    },
    {
     "name": "stdout",
     "output_type": "stream",
     "text": [
      "Train Accuracy: 0.5842, Val Accuracy: 0.5478, Test Accuracy: 0.4920\n",
      "Train loss: 1.4503\n",
      "\n",
      " Epoch 84 training:\n"
     ]
    },
    {
     "name": "stderr",
     "output_type": "stream",
     "text": [
      "100%|██████████| 711/711 [01:39<00:00,  7.13it/s]\n"
     ]
    },
    {
     "name": "stdout",
     "output_type": "stream",
     "text": [
      "Train Accuracy: 0.5816, Val Accuracy: 0.5447, Test Accuracy: 0.4923\n",
      "Train loss: 1.4474\n",
      "\n",
      " Epoch 85 training:\n"
     ]
    },
    {
     "name": "stderr",
     "output_type": "stream",
     "text": [
      "100%|██████████| 711/711 [01:40<00:00,  7.09it/s]\n"
     ]
    },
    {
     "name": "stdout",
     "output_type": "stream",
     "text": [
      "New best model validation accuracy: 0.55200. Previous: 0.54898\n",
      "Train Accuracy: 0.5884, Val Accuracy: 0.5520, Test Accuracy: 0.4961\n",
      "Train loss: 1.4480\n",
      "\n",
      " Epoch 86 training:\n"
     ]
    },
    {
     "name": "stderr",
     "output_type": "stream",
     "text": [
      "100%|██████████| 711/711 [01:39<00:00,  7.14it/s]\n"
     ]
    },
    {
     "name": "stdout",
     "output_type": "stream",
     "text": [
      "New best model validation accuracy: 0.55445. Previous: 0.55200\n",
      "Train Accuracy: 0.5882, Val Accuracy: 0.5544, Test Accuracy: 0.4970\n",
      "Train loss: 1.4412\n",
      "\n",
      " Epoch 87 training:\n"
     ]
    },
    {
     "name": "stderr",
     "output_type": "stream",
     "text": [
      "100%|██████████| 711/711 [01:40<00:00,  7.08it/s]\n"
     ]
    },
    {
     "name": "stdout",
     "output_type": "stream",
     "text": [
      "Train Accuracy: 0.5886, Val Accuracy: 0.5471, Test Accuracy: 0.4878\n",
      "Train loss: 1.4402\n",
      "\n",
      " Epoch 88 training:\n"
     ]
    },
    {
     "name": "stderr",
     "output_type": "stream",
     "text": [
      "100%|██████████| 711/711 [01:40<00:00,  7.07it/s]\n"
     ]
    },
    {
     "name": "stdout",
     "output_type": "stream",
     "text": [
      "Train Accuracy: 0.5844, Val Accuracy: 0.5489, Test Accuracy: 0.4995\n",
      "Train loss: 1.4440\n",
      "\n",
      " Epoch 89 training:\n"
     ]
    },
    {
     "name": "stderr",
     "output_type": "stream",
     "text": [
      "100%|██████████| 711/711 [01:39<00:00,  7.14it/s]\n"
     ]
    },
    {
     "name": "stdout",
     "output_type": "stream",
     "text": [
      "Train Accuracy: 0.5890, Val Accuracy: 0.5480, Test Accuracy: 0.4917\n",
      "Train loss: 1.4377\n",
      "\n",
      " Epoch 90 training:\n"
     ]
    },
    {
     "name": "stderr",
     "output_type": "stream",
     "text": [
      "100%|██████████| 711/711 [01:40<00:00,  7.10it/s]\n"
     ]
    },
    {
     "name": "stdout",
     "output_type": "stream",
     "text": [
      "New best model validation accuracy: 0.55952. Previous: 0.55445\n",
      "Train Accuracy: 0.5919, Val Accuracy: 0.5595, Test Accuracy: 0.5028\n",
      "Train loss: 1.4372\n",
      "\n",
      " Epoch 91 training:\n"
     ]
    },
    {
     "name": "stderr",
     "output_type": "stream",
     "text": [
      "100%|██████████| 711/711 [01:40<00:00,  7.06it/s]\n"
     ]
    },
    {
     "name": "stdout",
     "output_type": "stream",
     "text": [
      "Train Accuracy: 0.5854, Val Accuracy: 0.5467, Test Accuracy: 0.4942\n",
      "Train loss: 1.4351\n",
      "\n",
      " Epoch 92 training:\n"
     ]
    },
    {
     "name": "stderr",
     "output_type": "stream",
     "text": [
      "100%|██████████| 711/711 [01:39<00:00,  7.14it/s]\n"
     ]
    },
    {
     "name": "stdout",
     "output_type": "stream",
     "text": [
      "Train Accuracy: 0.5908, Val Accuracy: 0.5528, Test Accuracy: 0.4987\n",
      "Train loss: 1.4368\n",
      "\n",
      " Epoch 93 training:\n"
     ]
    },
    {
     "name": "stderr",
     "output_type": "stream",
     "text": [
      "100%|██████████| 711/711 [01:39<00:00,  7.13it/s]\n"
     ]
    },
    {
     "name": "stdout",
     "output_type": "stream",
     "text": [
      "Train Accuracy: 0.5896, Val Accuracy: 0.5488, Test Accuracy: 0.4961\n",
      "Train loss: 1.4351\n",
      "\n",
      " Epoch 94 training:\n"
     ]
    },
    {
     "name": "stderr",
     "output_type": "stream",
     "text": [
      "100%|██████████| 711/711 [01:40<00:00,  7.09it/s]\n"
     ]
    },
    {
     "name": "stdout",
     "output_type": "stream",
     "text": [
      "Train Accuracy: 0.5878, Val Accuracy: 0.5495, Test Accuracy: 0.5024\n",
      "Train loss: 1.4357\n",
      "\n",
      " Epoch 95 training:\n"
     ]
    },
    {
     "name": "stderr",
     "output_type": "stream",
     "text": [
      "100%|██████████| 711/711 [01:39<00:00,  7.12it/s]\n"
     ]
    },
    {
     "name": "stdout",
     "output_type": "stream",
     "text": [
      "Train Accuracy: 0.5930, Val Accuracy: 0.5524, Test Accuracy: 0.4949\n",
      "Train loss: 1.4315\n",
      "\n",
      " Epoch 96 training:\n"
     ]
    },
    {
     "name": "stderr",
     "output_type": "stream",
     "text": [
      "100%|██████████| 711/711 [01:40<00:00,  7.05it/s]\n"
     ]
    },
    {
     "name": "stdout",
     "output_type": "stream",
     "text": [
      "Train Accuracy: 0.5855, Val Accuracy: 0.5494, Test Accuracy: 0.4949\n",
      "Train loss: 1.4306\n",
      "\n",
      " Epoch 97 training:\n"
     ]
    },
    {
     "name": "stderr",
     "output_type": "stream",
     "text": [
      "100%|██████████| 711/711 [01:40<00:00,  7.11it/s]\n"
     ]
    },
    {
     "name": "stdout",
     "output_type": "stream",
     "text": [
      "Train Accuracy: 0.5932, Val Accuracy: 0.5493, Test Accuracy: 0.4955\n",
      "Train loss: 1.4268\n",
      "\n",
      " Epoch 98 training:\n"
     ]
    },
    {
     "name": "stderr",
     "output_type": "stream",
     "text": [
      "100%|██████████| 711/711 [01:40<00:00,  7.10it/s]\n"
     ]
    },
    {
     "name": "stdout",
     "output_type": "stream",
     "text": [
      "Train Accuracy: 0.5930, Val Accuracy: 0.5548, Test Accuracy: 0.4955\n",
      "Train loss: 1.4311\n",
      "\n",
      " Epoch 99 training:\n"
     ]
    },
    {
     "name": "stderr",
     "output_type": "stream",
     "text": [
      "100%|██████████| 711/711 [01:39<00:00,  7.14it/s]\n"
     ]
    },
    {
     "name": "stdout",
     "output_type": "stream",
     "text": [
      "Train Accuracy: 0.5900, Val Accuracy: 0.5418, Test Accuracy: 0.4903\n",
      "Train loss: 1.4270\n",
      "\n",
      " Epoch 100 training:\n"
     ]
    },
    {
     "name": "stderr",
     "output_type": "stream",
     "text": [
      "100%|██████████| 711/711 [01:40<00:00,  7.09it/s]\n"
     ]
    },
    {
     "name": "stdout",
     "output_type": "stream",
     "text": [
      "Train Accuracy: 0.5940, Val Accuracy: 0.5506, Test Accuracy: 0.4937\n",
      "Train loss: 1.4229\n",
      "\n",
      " Epoch 101 training:\n"
     ]
    },
    {
     "name": "stderr",
     "output_type": "stream",
     "text": [
      "100%|██████████| 711/711 [01:40<00:00,  7.07it/s]\n"
     ]
    },
    {
     "name": "stdout",
     "output_type": "stream",
     "text": [
      "Train Accuracy: 0.5885, Val Accuracy: 0.5522, Test Accuracy: 0.4995\n",
      "Train loss: 1.4268\n",
      "\n",
      " Epoch 102 training:\n"
     ]
    },
    {
     "name": "stderr",
     "output_type": "stream",
     "text": [
      "100%|██████████| 711/711 [01:40<00:00,  7.07it/s]\n"
     ]
    },
    {
     "name": "stdout",
     "output_type": "stream",
     "text": [
      "Train Accuracy: 0.5893, Val Accuracy: 0.5481, Test Accuracy: 0.4985\n",
      "Train loss: 1.4233\n",
      "\n",
      " Epoch 103 training:\n"
     ]
    },
    {
     "name": "stderr",
     "output_type": "stream",
     "text": [
      "100%|██████████| 711/711 [01:40<00:00,  7.07it/s]\n"
     ]
    },
    {
     "name": "stdout",
     "output_type": "stream",
     "text": [
      "Train Accuracy: 0.5949, Val Accuracy: 0.5508, Test Accuracy: 0.4954\n",
      "Train loss: 1.4265\n",
      "\n",
      " Epoch 104 training:\n"
     ]
    },
    {
     "name": "stderr",
     "output_type": "stream",
     "text": [
      "100%|██████████| 711/711 [01:40<00:00,  7.09it/s]\n"
     ]
    },
    {
     "name": "stdout",
     "output_type": "stream",
     "text": [
      "Train Accuracy: 0.5908, Val Accuracy: 0.5450, Test Accuracy: 0.4936\n",
      "Train loss: 1.4192\n",
      "\n",
      " Epoch 105 training:\n"
     ]
    },
    {
     "name": "stderr",
     "output_type": "stream",
     "text": [
      "100%|██████████| 711/711 [01:40<00:00,  7.09it/s]\n"
     ]
    },
    {
     "name": "stdout",
     "output_type": "stream",
     "text": [
      "Train Accuracy: 0.5919, Val Accuracy: 0.5480, Test Accuracy: 0.4984\n",
      "Train loss: 1.4209\n",
      "\n",
      " Epoch 106 training:\n"
     ]
    },
    {
     "name": "stderr",
     "output_type": "stream",
     "text": [
      "100%|██████████| 711/711 [01:39<00:00,  7.15it/s]\n"
     ]
    },
    {
     "name": "stdout",
     "output_type": "stream",
     "text": [
      "Train Accuracy: 0.5947, Val Accuracy: 0.5581, Test Accuracy: 0.4976\n",
      "Train loss: 1.4158\n",
      "\n",
      " Epoch 107 training:\n"
     ]
    },
    {
     "name": "stderr",
     "output_type": "stream",
     "text": [
      "100%|██████████| 711/711 [01:39<00:00,  7.13it/s]\n"
     ]
    },
    {
     "name": "stdout",
     "output_type": "stream",
     "text": [
      "Train Accuracy: 0.5950, Val Accuracy: 0.5516, Test Accuracy: 0.4967\n",
      "Train loss: 1.4132\n",
      "\n",
      " Epoch 108 training:\n"
     ]
    },
    {
     "name": "stderr",
     "output_type": "stream",
     "text": [
      "100%|██████████| 711/711 [01:40<00:00,  7.09it/s]\n"
     ]
    },
    {
     "name": "stdout",
     "output_type": "stream",
     "text": [
      "Train Accuracy: 0.5969, Val Accuracy: 0.5514, Test Accuracy: 0.4936\n",
      "Train loss: 1.4122\n",
      "\n",
      " Epoch 109 training:\n"
     ]
    },
    {
     "name": "stderr",
     "output_type": "stream",
     "text": [
      "100%|██████████| 711/711 [01:40<00:00,  7.08it/s]\n"
     ]
    },
    {
     "name": "stdout",
     "output_type": "stream",
     "text": [
      "Train Accuracy: 0.5895, Val Accuracy: 0.5454, Test Accuracy: 0.4894\n",
      "Train loss: 1.4148\n",
      "\n",
      " Epoch 110 training:\n"
     ]
    },
    {
     "name": "stderr",
     "output_type": "stream",
     "text": [
      "100%|██████████| 711/711 [01:39<00:00,  7.12it/s]\n"
     ]
    },
    {
     "name": "stdout",
     "output_type": "stream",
     "text": [
      "New best model validation accuracy: 0.56056. Previous: 0.55952\n",
      "Train Accuracy: 0.6005, Val Accuracy: 0.5606, Test Accuracy: 0.5028\n",
      "Train loss: 1.4121\n",
      "\n",
      " Epoch 111 training:\n"
     ]
    },
    {
     "name": "stderr",
     "output_type": "stream",
     "text": [
      "100%|██████████| 711/711 [01:39<00:00,  7.12it/s]\n"
     ]
    },
    {
     "name": "stdout",
     "output_type": "stream",
     "text": [
      "Train Accuracy: 0.5944, Val Accuracy: 0.5484, Test Accuracy: 0.4930\n",
      "Train loss: 1.4092\n",
      "\n",
      " Epoch 112 training:\n"
     ]
    },
    {
     "name": "stderr",
     "output_type": "stream",
     "text": [
      "100%|██████████| 711/711 [01:40<00:00,  7.10it/s]\n"
     ]
    },
    {
     "name": "stdout",
     "output_type": "stream",
     "text": [
      "Train Accuracy: 0.5944, Val Accuracy: 0.5513, Test Accuracy: 0.4930\n",
      "Train loss: 1.4069\n",
      "\n",
      " Epoch 113 training:\n"
     ]
    },
    {
     "name": "stderr",
     "output_type": "stream",
     "text": [
      "100%|██████████| 711/711 [01:39<00:00,  7.13it/s]\n"
     ]
    },
    {
     "name": "stdout",
     "output_type": "stream",
     "text": [
      "Train Accuracy: 0.5941, Val Accuracy: 0.5469, Test Accuracy: 0.4933\n",
      "Train loss: 1.4113\n",
      "\n",
      " Epoch 114 training:\n"
     ]
    },
    {
     "name": "stderr",
     "output_type": "stream",
     "text": [
      "100%|██████████| 711/711 [01:39<00:00,  7.17it/s]\n"
     ]
    },
    {
     "name": "stdout",
     "output_type": "stream",
     "text": [
      "Train Accuracy: 0.5969, Val Accuracy: 0.5529, Test Accuracy: 0.4965\n",
      "Train loss: 1.4120\n",
      "\n",
      " Epoch 115 training:\n"
     ]
    },
    {
     "name": "stderr",
     "output_type": "stream",
     "text": [
      "100%|██████████| 711/711 [01:39<00:00,  7.17it/s]\n"
     ]
    },
    {
     "name": "stdout",
     "output_type": "stream",
     "text": [
      "Train Accuracy: 0.5971, Val Accuracy: 0.5598, Test Accuracy: 0.5000\n",
      "Train loss: 1.4067\n",
      "\n",
      " Epoch 116 training:\n"
     ]
    },
    {
     "name": "stderr",
     "output_type": "stream",
     "text": [
      "100%|██████████| 711/711 [01:40<00:00,  7.11it/s]\n"
     ]
    },
    {
     "name": "stdout",
     "output_type": "stream",
     "text": [
      "Train Accuracy: 0.5970, Val Accuracy: 0.5497, Test Accuracy: 0.4960\n",
      "Train loss: 1.4084\n",
      "\n",
      " Epoch 117 training:\n"
     ]
    },
    {
     "name": "stderr",
     "output_type": "stream",
     "text": [
      "100%|██████████| 711/711 [01:40<00:00,  7.08it/s]\n"
     ]
    },
    {
     "name": "stdout",
     "output_type": "stream",
     "text": [
      "Train Accuracy: 0.5945, Val Accuracy: 0.5483, Test Accuracy: 0.4875\n",
      "Train loss: 1.4014\n",
      "\n",
      " Epoch 118 training:\n"
     ]
    },
    {
     "name": "stderr",
     "output_type": "stream",
     "text": [
      "100%|██████████| 711/711 [01:40<00:00,  7.10it/s]\n"
     ]
    },
    {
     "name": "stdout",
     "output_type": "stream",
     "text": [
      "New best model validation accuracy: 0.56186. Previous: 0.56056\n",
      "Train Accuracy: 0.6032, Val Accuracy: 0.5619, Test Accuracy: 0.4981\n",
      "Train loss: 1.4063\n",
      "\n",
      " Epoch 119 training:\n"
     ]
    },
    {
     "name": "stderr",
     "output_type": "stream",
     "text": [
      "100%|██████████| 711/711 [01:39<00:00,  7.14it/s]\n"
     ]
    },
    {
     "name": "stdout",
     "output_type": "stream",
     "text": [
      "Train Accuracy: 0.5943, Val Accuracy: 0.5497, Test Accuracy: 0.4938\n",
      "Train loss: 1.3995\n",
      "\n",
      " Epoch 120 training:\n"
     ]
    },
    {
     "name": "stderr",
     "output_type": "stream",
     "text": [
      "100%|██████████| 711/711 [01:40<00:00,  7.08it/s]\n"
     ]
    },
    {
     "name": "stdout",
     "output_type": "stream",
     "text": [
      "Train Accuracy: 0.5912, Val Accuracy: 0.5480, Test Accuracy: 0.4888\n",
      "Train loss: 1.4006\n",
      "\n",
      " Epoch 121 training:\n"
     ]
    },
    {
     "name": "stderr",
     "output_type": "stream",
     "text": [
      "100%|██████████| 711/711 [01:40<00:00,  7.10it/s]\n"
     ]
    },
    {
     "name": "stdout",
     "output_type": "stream",
     "text": [
      "Train Accuracy: 0.5961, Val Accuracy: 0.5496, Test Accuracy: 0.4943\n",
      "Train loss: 1.4007\n",
      "\n",
      " Epoch 122 training:\n"
     ]
    },
    {
     "name": "stderr",
     "output_type": "stream",
     "text": [
      "100%|██████████| 711/711 [01:40<00:00,  7.06it/s]\n"
     ]
    },
    {
     "name": "stdout",
     "output_type": "stream",
     "text": [
      "Train Accuracy: 0.6033, Val Accuracy: 0.5582, Test Accuracy: 0.4992\n",
      "Train loss: 1.3963\n",
      "\n",
      " Epoch 123 training:\n"
     ]
    },
    {
     "name": "stderr",
     "output_type": "stream",
     "text": [
      "100%|██████████| 711/711 [01:39<00:00,  7.13it/s]\n"
     ]
    },
    {
     "name": "stdout",
     "output_type": "stream",
     "text": [
      "Train Accuracy: 0.6038, Val Accuracy: 0.5599, Test Accuracy: 0.5012\n",
      "Train loss: 1.3964\n",
      "\n",
      " Epoch 124 training:\n"
     ]
    },
    {
     "name": "stderr",
     "output_type": "stream",
     "text": [
      "100%|██████████| 711/711 [01:40<00:00,  7.10it/s]\n"
     ]
    },
    {
     "name": "stdout",
     "output_type": "stream",
     "text": [
      "Train Accuracy: 0.6025, Val Accuracy: 0.5576, Test Accuracy: 0.4985\n",
      "Train loss: 1.3952\n",
      "\n",
      " Epoch 125 training:\n"
     ]
    },
    {
     "name": "stderr",
     "output_type": "stream",
     "text": [
      "100%|██████████| 711/711 [01:40<00:00,  7.09it/s]\n"
     ]
    },
    {
     "name": "stdout",
     "output_type": "stream",
     "text": [
      "Train Accuracy: 0.6004, Val Accuracy: 0.5563, Test Accuracy: 0.5004\n",
      "Train loss: 1.3948\n",
      "\n",
      " Epoch 126 training:\n"
     ]
    },
    {
     "name": "stderr",
     "output_type": "stream",
     "text": [
      "100%|██████████| 711/711 [01:39<00:00,  7.11it/s]\n"
     ]
    },
    {
     "name": "stdout",
     "output_type": "stream",
     "text": [
      "Train Accuracy: 0.6012, Val Accuracy: 0.5540, Test Accuracy: 0.4958\n",
      "Train loss: 1.3976\n",
      "\n",
      " Epoch 127 training:\n"
     ]
    },
    {
     "name": "stderr",
     "output_type": "stream",
     "text": [
      "100%|██████████| 711/711 [01:39<00:00,  7.14it/s]\n"
     ]
    },
    {
     "name": "stdout",
     "output_type": "stream",
     "text": [
      "Train Accuracy: 0.6038, Val Accuracy: 0.5602, Test Accuracy: 0.5004\n",
      "Train loss: 1.3959\n",
      "\n",
      " Epoch 128 training:\n"
     ]
    },
    {
     "name": "stderr",
     "output_type": "stream",
     "text": [
      "100%|██████████| 711/711 [01:40<00:00,  7.10it/s]\n"
     ]
    },
    {
     "name": "stdout",
     "output_type": "stream",
     "text": [
      "Train Accuracy: 0.6017, Val Accuracy: 0.5566, Test Accuracy: 0.5016\n",
      "Train loss: 1.3907\n",
      "\n",
      " Epoch 129 training:\n"
     ]
    },
    {
     "name": "stderr",
     "output_type": "stream",
     "text": [
      "100%|██████████| 711/711 [01:40<00:00,  7.10it/s]\n"
     ]
    },
    {
     "name": "stdout",
     "output_type": "stream",
     "text": [
      "Train Accuracy: 0.6025, Val Accuracy: 0.5558, Test Accuracy: 0.5015\n",
      "Train loss: 1.3906\n",
      "\n",
      " Epoch 130 training:\n"
     ]
    },
    {
     "name": "stderr",
     "output_type": "stream",
     "text": [
      "100%|██████████| 711/711 [01:40<00:00,  7.10it/s]\n"
     ]
    },
    {
     "name": "stdout",
     "output_type": "stream",
     "text": [
      "Train Accuracy: 0.6076, Val Accuracy: 0.5596, Test Accuracy: 0.4978\n",
      "Train loss: 1.3923\n",
      "\n",
      " Epoch 131 training:\n"
     ]
    },
    {
     "name": "stderr",
     "output_type": "stream",
     "text": [
      "100%|██████████| 711/711 [01:40<00:00,  7.11it/s]\n"
     ]
    },
    {
     "name": "stdout",
     "output_type": "stream",
     "text": [
      "Train Accuracy: 0.6000, Val Accuracy: 0.5527, Test Accuracy: 0.4954\n",
      "Train loss: 1.3928\n",
      "\n",
      " Epoch 132 training:\n"
     ]
    },
    {
     "name": "stderr",
     "output_type": "stream",
     "text": [
      "100%|██████████| 711/711 [01:39<00:00,  7.14it/s]\n"
     ]
    },
    {
     "name": "stdout",
     "output_type": "stream",
     "text": [
      "New best model validation accuracy: 0.56193. Previous: 0.56186\n",
      "Train Accuracy: 0.6031, Val Accuracy: 0.5619, Test Accuracy: 0.5052\n",
      "Train loss: 1.3894\n",
      "\n",
      " Epoch 133 training:\n"
     ]
    },
    {
     "name": "stderr",
     "output_type": "stream",
     "text": [
      "100%|██████████| 711/711 [01:40<00:00,  7.10it/s]\n"
     ]
    },
    {
     "name": "stdout",
     "output_type": "stream",
     "text": [
      "Train Accuracy: 0.6027, Val Accuracy: 0.5569, Test Accuracy: 0.5035\n",
      "Train loss: 1.3890\n",
      "\n",
      " Epoch 134 training:\n"
     ]
    },
    {
     "name": "stderr",
     "output_type": "stream",
     "text": [
      "100%|██████████| 711/711 [01:40<00:00,  7.11it/s]\n"
     ]
    },
    {
     "name": "stdout",
     "output_type": "stream",
     "text": [
      "Train Accuracy: 0.6031, Val Accuracy: 0.5570, Test Accuracy: 0.5012\n",
      "Train loss: 1.3837\n",
      "\n",
      " Epoch 135 training:\n"
     ]
    },
    {
     "name": "stderr",
     "output_type": "stream",
     "text": [
      "100%|██████████| 711/711 [01:40<00:00,  7.09it/s]\n"
     ]
    },
    {
     "name": "stdout",
     "output_type": "stream",
     "text": [
      "Train Accuracy: 0.6029, Val Accuracy: 0.5559, Test Accuracy: 0.5043\n",
      "Train loss: 1.3867\n",
      "\n",
      " Epoch 136 training:\n"
     ]
    },
    {
     "name": "stderr",
     "output_type": "stream",
     "text": [
      "100%|██████████| 711/711 [01:39<00:00,  7.12it/s]\n"
     ]
    },
    {
     "name": "stdout",
     "output_type": "stream",
     "text": [
      "Train Accuracy: 0.5981, Val Accuracy: 0.5476, Test Accuracy: 0.4967\n",
      "Train loss: 1.3867\n",
      "\n",
      " Epoch 137 training:\n"
     ]
    },
    {
     "name": "stderr",
     "output_type": "stream",
     "text": [
      "100%|██████████| 711/711 [01:40<00:00,  7.08it/s]\n"
     ]
    },
    {
     "name": "stdout",
     "output_type": "stream",
     "text": [
      "Train Accuracy: 0.6024, Val Accuracy: 0.5546, Test Accuracy: 0.5004\n",
      "Train loss: 1.3867\n",
      "\n",
      " Epoch 138 training:\n"
     ]
    },
    {
     "name": "stderr",
     "output_type": "stream",
     "text": [
      "100%|██████████| 711/711 [01:40<00:00,  7.10it/s]\n"
     ]
    },
    {
     "name": "stdout",
     "output_type": "stream",
     "text": [
      "New best model validation accuracy: 0.56220. Previous: 0.56193\n",
      "Train Accuracy: 0.6071, Val Accuracy: 0.5622, Test Accuracy: 0.5048\n",
      "Train loss: 1.3863\n",
      "\n",
      " Epoch 139 training:\n"
     ]
    },
    {
     "name": "stderr",
     "output_type": "stream",
     "text": [
      "100%|██████████| 711/711 [01:39<00:00,  7.13it/s]\n"
     ]
    },
    {
     "name": "stdout",
     "output_type": "stream",
     "text": [
      "Train Accuracy: 0.6053, Val Accuracy: 0.5600, Test Accuracy: 0.5027\n",
      "Train loss: 1.3864\n",
      "\n",
      " Epoch 140 training:\n"
     ]
    },
    {
     "name": "stderr",
     "output_type": "stream",
     "text": [
      "100%|██████████| 711/711 [01:40<00:00,  7.10it/s]\n"
     ]
    },
    {
     "name": "stdout",
     "output_type": "stream",
     "text": [
      "Train Accuracy: 0.6004, Val Accuracy: 0.5500, Test Accuracy: 0.4977\n",
      "Train loss: 1.3781\n",
      "\n",
      " Epoch 141 training:\n"
     ]
    },
    {
     "name": "stderr",
     "output_type": "stream",
     "text": [
      "100%|██████████| 711/711 [01:39<00:00,  7.14it/s]\n"
     ]
    },
    {
     "name": "stdout",
     "output_type": "stream",
     "text": [
      "Train Accuracy: 0.5998, Val Accuracy: 0.5449, Test Accuracy: 0.4940\n",
      "Train loss: 1.3851\n",
      "\n",
      " Epoch 142 training:\n"
     ]
    },
    {
     "name": "stderr",
     "output_type": "stream",
     "text": [
      "100%|██████████| 711/711 [01:40<00:00,  7.05it/s]\n"
     ]
    },
    {
     "name": "stdout",
     "output_type": "stream",
     "text": [
      "Train Accuracy: 0.6034, Val Accuracy: 0.5539, Test Accuracy: 0.4996\n",
      "Train loss: 1.3845\n",
      "\n",
      " Epoch 143 training:\n"
     ]
    },
    {
     "name": "stderr",
     "output_type": "stream",
     "text": [
      "100%|██████████| 711/711 [01:40<00:00,  7.08it/s]\n"
     ]
    },
    {
     "name": "stdout",
     "output_type": "stream",
     "text": [
      "Train Accuracy: 0.6018, Val Accuracy: 0.5554, Test Accuracy: 0.4980\n",
      "Train loss: 1.3834\n",
      "\n",
      " Epoch 144 training:\n"
     ]
    },
    {
     "name": "stderr",
     "output_type": "stream",
     "text": [
      "100%|██████████| 711/711 [01:39<00:00,  7.15it/s]\n"
     ]
    },
    {
     "name": "stdout",
     "output_type": "stream",
     "text": [
      "Train Accuracy: 0.6001, Val Accuracy: 0.5564, Test Accuracy: 0.5004\n",
      "Train loss: 1.3767\n",
      "\n",
      " Epoch 145 training:\n"
     ]
    },
    {
     "name": "stderr",
     "output_type": "stream",
     "text": [
      "100%|██████████| 711/711 [01:40<00:00,  7.08it/s]\n"
     ]
    },
    {
     "name": "stdout",
     "output_type": "stream",
     "text": [
      "Train Accuracy: 0.6080, Val Accuracy: 0.5547, Test Accuracy: 0.4985\n",
      "Train loss: 1.3790\n",
      "\n",
      " Epoch 146 training:\n"
     ]
    },
    {
     "name": "stderr",
     "output_type": "stream",
     "text": [
      "100%|██████████| 711/711 [01:40<00:00,  7.11it/s]\n"
     ]
    },
    {
     "name": "stdout",
     "output_type": "stream",
     "text": [
      "Train Accuracy: 0.6017, Val Accuracy: 0.5559, Test Accuracy: 0.5003\n",
      "Train loss: 1.3779\n",
      "\n",
      " Epoch 147 training:\n"
     ]
    },
    {
     "name": "stderr",
     "output_type": "stream",
     "text": [
      "100%|██████████| 711/711 [01:39<00:00,  7.13it/s]\n"
     ]
    },
    {
     "name": "stdout",
     "output_type": "stream",
     "text": [
      "Train Accuracy: 0.6056, Val Accuracy: 0.5555, Test Accuracy: 0.4983\n",
      "Train loss: 1.3765\n",
      "\n",
      " Epoch 148 training:\n"
     ]
    },
    {
     "name": "stderr",
     "output_type": "stream",
     "text": [
      "100%|██████████| 711/711 [01:39<00:00,  7.15it/s]\n"
     ]
    },
    {
     "name": "stdout",
     "output_type": "stream",
     "text": [
      "Train Accuracy: 0.6060, Val Accuracy: 0.5586, Test Accuracy: 0.5037\n",
      "Train loss: 1.3764\n",
      "\n",
      " Epoch 149 training:\n"
     ]
    },
    {
     "name": "stderr",
     "output_type": "stream",
     "text": [
      "100%|██████████| 711/711 [01:39<00:00,  7.12it/s]\n"
     ]
    },
    {
     "name": "stdout",
     "output_type": "stream",
     "text": [
      "New best model validation accuracy: 0.56599. Previous: 0.56220\n",
      "Train Accuracy: 0.6092, Val Accuracy: 0.5660, Test Accuracy: 0.5085\n",
      "Train loss: 1.3762\n",
      "\n",
      " Epoch 150 training:\n"
     ]
    },
    {
     "name": "stderr",
     "output_type": "stream",
     "text": [
      "100%|██████████| 711/711 [01:40<00:00,  7.10it/s]\n"
     ]
    },
    {
     "name": "stdout",
     "output_type": "stream",
     "text": [
      "Train Accuracy: 0.6051, Val Accuracy: 0.5561, Test Accuracy: 0.4984\n",
      "Train loss: 1.3804\n",
      "\n",
      " Epoch 151 training:\n"
     ]
    },
    {
     "name": "stderr",
     "output_type": "stream",
     "text": [
      "100%|██████████| 711/711 [01:40<00:00,  7.08it/s]\n"
     ]
    },
    {
     "name": "stdout",
     "output_type": "stream",
     "text": [
      "Train Accuracy: 0.6085, Val Accuracy: 0.5603, Test Accuracy: 0.5025\n",
      "Train loss: 1.3799\n",
      "\n",
      " Epoch 152 training:\n"
     ]
    },
    {
     "name": "stderr",
     "output_type": "stream",
     "text": [
      "100%|██████████| 711/711 [01:40<00:00,  7.09it/s]\n"
     ]
    },
    {
     "name": "stdout",
     "output_type": "stream",
     "text": [
      "Train Accuracy: 0.6054, Val Accuracy: 0.5541, Test Accuracy: 0.4995\n",
      "Train loss: 1.3732\n",
      "\n",
      " Epoch 153 training:\n"
     ]
    },
    {
     "name": "stderr",
     "output_type": "stream",
     "text": [
      "100%|██████████| 711/711 [01:39<00:00,  7.13it/s]\n"
     ]
    },
    {
     "name": "stdout",
     "output_type": "stream",
     "text": [
      "Train Accuracy: 0.6038, Val Accuracy: 0.5526, Test Accuracy: 0.4995\n",
      "Train loss: 1.3712\n",
      "\n",
      " Epoch 154 training:\n"
     ]
    },
    {
     "name": "stderr",
     "output_type": "stream",
     "text": [
      "100%|██████████| 711/711 [01:39<00:00,  7.12it/s]\n"
     ]
    },
    {
     "name": "stdout",
     "output_type": "stream",
     "text": [
      "Train Accuracy: 0.6017, Val Accuracy: 0.5532, Test Accuracy: 0.5051\n",
      "Train loss: 1.3723\n",
      "\n",
      " Epoch 155 training:\n"
     ]
    },
    {
     "name": "stderr",
     "output_type": "stream",
     "text": [
      "100%|██████████| 711/711 [01:40<00:00,  7.11it/s]\n"
     ]
    },
    {
     "name": "stdout",
     "output_type": "stream",
     "text": [
      "Train Accuracy: 0.6068, Val Accuracy: 0.5581, Test Accuracy: 0.5000\n",
      "Train loss: 1.3727\n",
      "\n",
      " Epoch 156 training:\n"
     ]
    },
    {
     "name": "stderr",
     "output_type": "stream",
     "text": [
      "100%|██████████| 711/711 [01:39<00:00,  7.12it/s]\n"
     ]
    },
    {
     "name": "stdout",
     "output_type": "stream",
     "text": [
      "Train Accuracy: 0.6012, Val Accuracy: 0.5525, Test Accuracy: 0.4994\n",
      "Train loss: 1.3715\n",
      "\n",
      " Epoch 157 training:\n"
     ]
    },
    {
     "name": "stderr",
     "output_type": "stream",
     "text": [
      "100%|██████████| 711/711 [01:39<00:00,  7.13it/s]\n"
     ]
    },
    {
     "name": "stdout",
     "output_type": "stream",
     "text": [
      "Train Accuracy: 0.6059, Val Accuracy: 0.5553, Test Accuracy: 0.4970\n",
      "Train loss: 1.3718\n",
      "\n",
      " Epoch 158 training:\n"
     ]
    },
    {
     "name": "stderr",
     "output_type": "stream",
     "text": [
      "100%|██████████| 711/711 [01:40<00:00,  7.10it/s]\n"
     ]
    },
    {
     "name": "stdout",
     "output_type": "stream",
     "text": [
      "Train Accuracy: 0.6075, Val Accuracy: 0.5565, Test Accuracy: 0.5012\n",
      "Train loss: 1.3675\n",
      "\n",
      " Epoch 159 training:\n"
     ]
    },
    {
     "name": "stderr",
     "output_type": "stream",
     "text": [
      "100%|██████████| 711/711 [01:39<00:00,  7.16it/s]\n"
     ]
    },
    {
     "name": "stdout",
     "output_type": "stream",
     "text": [
      "Train Accuracy: 0.6042, Val Accuracy: 0.5565, Test Accuracy: 0.4985\n",
      "Train loss: 1.3689\n",
      "\n",
      " Epoch 160 training:\n"
     ]
    },
    {
     "name": "stderr",
     "output_type": "stream",
     "text": [
      "100%|██████████| 711/711 [01:40<00:00,  7.09it/s]\n"
     ]
    },
    {
     "name": "stdout",
     "output_type": "stream",
     "text": [
      "Train Accuracy: 0.6057, Val Accuracy: 0.5555, Test Accuracy: 0.5031\n",
      "Train loss: 1.3688\n",
      "\n",
      " Epoch 161 training:\n"
     ]
    },
    {
     "name": "stderr",
     "output_type": "stream",
     "text": [
      "100%|██████████| 711/711 [01:40<00:00,  7.09it/s]\n"
     ]
    },
    {
     "name": "stdout",
     "output_type": "stream",
     "text": [
      "Train Accuracy: 0.6037, Val Accuracy: 0.5560, Test Accuracy: 0.5004\n",
      "Train loss: 1.3679\n",
      "\n",
      " Epoch 162 training:\n"
     ]
    },
    {
     "name": "stderr",
     "output_type": "stream",
     "text": [
      "100%|██████████| 711/711 [01:40<00:00,  7.10it/s]\n"
     ]
    },
    {
     "name": "stdout",
     "output_type": "stream",
     "text": [
      "Train Accuracy: 0.6014, Val Accuracy: 0.5543, Test Accuracy: 0.5002\n",
      "Train loss: 1.3655\n",
      "\n",
      " Epoch 163 training:\n"
     ]
    },
    {
     "name": "stderr",
     "output_type": "stream",
     "text": [
      "100%|██████████| 711/711 [01:39<00:00,  7.14it/s]\n"
     ]
    },
    {
     "name": "stdout",
     "output_type": "stream",
     "text": [
      "Train Accuracy: 0.6075, Val Accuracy: 0.5559, Test Accuracy: 0.5005\n",
      "Train loss: 1.3698\n",
      "\n",
      " Epoch 164 training:\n"
     ]
    },
    {
     "name": "stderr",
     "output_type": "stream",
     "text": [
      "100%|██████████| 711/711 [01:39<00:00,  7.15it/s]\n"
     ]
    },
    {
     "name": "stdout",
     "output_type": "stream",
     "text": [
      "Train Accuracy: 0.6066, Val Accuracy: 0.5594, Test Accuracy: 0.5009\n",
      "Train loss: 1.3668\n",
      "\n",
      " Epoch 165 training:\n"
     ]
    },
    {
     "name": "stderr",
     "output_type": "stream",
     "text": [
      "100%|██████████| 711/711 [01:39<00:00,  7.11it/s]\n"
     ]
    },
    {
     "name": "stdout",
     "output_type": "stream",
     "text": [
      "Train Accuracy: 0.6100, Val Accuracy: 0.5617, Test Accuracy: 0.5014\n",
      "Train loss: 1.3672\n",
      "\n",
      " Epoch 166 training:\n"
     ]
    },
    {
     "name": "stderr",
     "output_type": "stream",
     "text": [
      "100%|██████████| 711/711 [01:40<00:00,  7.11it/s]\n"
     ]
    },
    {
     "name": "stdout",
     "output_type": "stream",
     "text": [
      "Train Accuracy: 0.6085, Val Accuracy: 0.5601, Test Accuracy: 0.5054\n",
      "Train loss: 1.3709\n",
      "\n",
      " Epoch 167 training:\n"
     ]
    },
    {
     "name": "stderr",
     "output_type": "stream",
     "text": [
      "100%|██████████| 711/711 [01:39<00:00,  7.13it/s]\n"
     ]
    },
    {
     "name": "stdout",
     "output_type": "stream",
     "text": [
      "Train Accuracy: 0.6088, Val Accuracy: 0.5596, Test Accuracy: 0.5019\n",
      "Train loss: 1.3624\n",
      "\n",
      " Epoch 168 training:\n"
     ]
    },
    {
     "name": "stderr",
     "output_type": "stream",
     "text": [
      "100%|██████████| 711/711 [01:40<00:00,  7.06it/s]\n"
     ]
    },
    {
     "name": "stdout",
     "output_type": "stream",
     "text": [
      "Train Accuracy: 0.6132, Val Accuracy: 0.5617, Test Accuracy: 0.5016\n",
      "Train loss: 1.3627\n",
      "\n",
      " Epoch 169 training:\n"
     ]
    },
    {
     "name": "stderr",
     "output_type": "stream",
     "text": [
      "100%|██████████| 711/711 [01:39<00:00,  7.14it/s]\n"
     ]
    },
    {
     "name": "stdout",
     "output_type": "stream",
     "text": [
      "Train Accuracy: 0.6099, Val Accuracy: 0.5569, Test Accuracy: 0.5019\n",
      "Train loss: 1.3602\n",
      "\n",
      " Epoch 170 training:\n"
     ]
    },
    {
     "name": "stderr",
     "output_type": "stream",
     "text": [
      "100%|██████████| 711/711 [01:39<00:00,  7.12it/s]\n"
     ]
    },
    {
     "name": "stdout",
     "output_type": "stream",
     "text": [
      "Train Accuracy: 0.6103, Val Accuracy: 0.5591, Test Accuracy: 0.5010\n",
      "Train loss: 1.3599\n",
      "\n",
      " Epoch 171 training:\n"
     ]
    },
    {
     "name": "stderr",
     "output_type": "stream",
     "text": [
      "100%|██████████| 711/711 [01:39<00:00,  7.13it/s]\n"
     ]
    },
    {
     "name": "stdout",
     "output_type": "stream",
     "text": [
      "Train Accuracy: 0.6091, Val Accuracy: 0.5535, Test Accuracy: 0.4954\n",
      "Train loss: 1.3665\n",
      "\n",
      " Epoch 172 training:\n"
     ]
    },
    {
     "name": "stderr",
     "output_type": "stream",
     "text": [
      "100%|██████████| 711/711 [01:40<00:00,  7.10it/s]\n"
     ]
    },
    {
     "name": "stdout",
     "output_type": "stream",
     "text": [
      "Train Accuracy: 0.6086, Val Accuracy: 0.5564, Test Accuracy: 0.4971\n",
      "Train loss: 1.3589\n",
      "\n",
      " Epoch 173 training:\n"
     ]
    },
    {
     "name": "stderr",
     "output_type": "stream",
     "text": [
      "100%|██████████| 711/711 [01:39<00:00,  7.14it/s]\n"
     ]
    },
    {
     "name": "stdout",
     "output_type": "stream",
     "text": [
      "Train Accuracy: 0.6082, Val Accuracy: 0.5523, Test Accuracy: 0.4955\n",
      "Train loss: 1.3627\n",
      "\n",
      " Epoch 174 training:\n"
     ]
    },
    {
     "name": "stderr",
     "output_type": "stream",
     "text": [
      "100%|██████████| 711/711 [01:40<00:00,  7.08it/s]\n"
     ]
    },
    {
     "name": "stdout",
     "output_type": "stream",
     "text": [
      "Train Accuracy: 0.6088, Val Accuracy: 0.5549, Test Accuracy: 0.4990\n",
      "Train loss: 1.3575\n",
      "\n",
      " Epoch 175 training:\n"
     ]
    },
    {
     "name": "stderr",
     "output_type": "stream",
     "text": [
      "100%|██████████| 711/711 [01:40<00:00,  7.07it/s]\n"
     ]
    },
    {
     "name": "stdout",
     "output_type": "stream",
     "text": [
      "Train Accuracy: 0.6102, Val Accuracy: 0.5618, Test Accuracy: 0.5038\n",
      "Train loss: 1.3609\n",
      "\n",
      " Epoch 176 training:\n"
     ]
    },
    {
     "name": "stderr",
     "output_type": "stream",
     "text": [
      "100%|██████████| 711/711 [01:40<00:00,  7.10it/s]\n"
     ]
    },
    {
     "name": "stdout",
     "output_type": "stream",
     "text": [
      "Train Accuracy: 0.6102, Val Accuracy: 0.5537, Test Accuracy: 0.4960\n",
      "Train loss: 1.3573\n",
      "\n",
      " Epoch 177 training:\n"
     ]
    },
    {
     "name": "stderr",
     "output_type": "stream",
     "text": [
      "100%|██████████| 711/711 [01:39<00:00,  7.14it/s]\n"
     ]
    },
    {
     "name": "stdout",
     "output_type": "stream",
     "text": [
      "Train Accuracy: 0.6082, Val Accuracy: 0.5581, Test Accuracy: 0.5037\n",
      "Train loss: 1.3573\n",
      "\n",
      " Epoch 178 training:\n"
     ]
    },
    {
     "name": "stderr",
     "output_type": "stream",
     "text": [
      "100%|██████████| 711/711 [01:40<00:00,  7.10it/s]\n"
     ]
    },
    {
     "name": "stdout",
     "output_type": "stream",
     "text": [
      "Train Accuracy: 0.6085, Val Accuracy: 0.5552, Test Accuracy: 0.4996\n",
      "Train loss: 1.3521\n",
      "\n",
      " Epoch 179 training:\n"
     ]
    },
    {
     "name": "stderr",
     "output_type": "stream",
     "text": [
      "100%|██████████| 711/711 [01:40<00:00,  7.10it/s]\n"
     ]
    },
    {
     "name": "stdout",
     "output_type": "stream",
     "text": [
      "Train Accuracy: 0.6092, Val Accuracy: 0.5617, Test Accuracy: 0.5091\n",
      "Train loss: 1.3551\n",
      "\n",
      " Epoch 180 training:\n"
     ]
    },
    {
     "name": "stderr",
     "output_type": "stream",
     "text": [
      "100%|██████████| 711/711 [01:40<00:00,  7.08it/s]\n"
     ]
    },
    {
     "name": "stdout",
     "output_type": "stream",
     "text": [
      "Train Accuracy: 0.6072, Val Accuracy: 0.5582, Test Accuracy: 0.5024\n",
      "Train loss: 1.3574\n",
      "\n",
      " Epoch 181 training:\n"
     ]
    },
    {
     "name": "stderr",
     "output_type": "stream",
     "text": [
      "100%|██████████| 711/711 [01:39<00:00,  7.12it/s]\n"
     ]
    },
    {
     "name": "stdout",
     "output_type": "stream",
     "text": [
      "Train Accuracy: 0.6103, Val Accuracy: 0.5602, Test Accuracy: 0.4995\n",
      "Train loss: 1.3558\n",
      "\n",
      " Epoch 182 training:\n"
     ]
    },
    {
     "name": "stderr",
     "output_type": "stream",
     "text": [
      "100%|██████████| 711/711 [01:39<00:00,  7.12it/s]\n"
     ]
    },
    {
     "name": "stdout",
     "output_type": "stream",
     "text": [
      "Train Accuracy: 0.6101, Val Accuracy: 0.5607, Test Accuracy: 0.5000\n",
      "Train loss: 1.3531\n",
      "\n",
      " Epoch 183 training:\n"
     ]
    },
    {
     "name": "stderr",
     "output_type": "stream",
     "text": [
      "100%|██████████| 711/711 [01:39<00:00,  7.14it/s]\n"
     ]
    },
    {
     "name": "stdout",
     "output_type": "stream",
     "text": [
      "Train Accuracy: 0.6121, Val Accuracy: 0.5627, Test Accuracy: 0.5065\n",
      "Train loss: 1.3534\n",
      "\n",
      " Epoch 184 training:\n"
     ]
    },
    {
     "name": "stderr",
     "output_type": "stream",
     "text": [
      "100%|██████████| 711/711 [01:40<00:00,  7.09it/s]\n"
     ]
    },
    {
     "name": "stdout",
     "output_type": "stream",
     "text": [
      "Train Accuracy: 0.6131, Val Accuracy: 0.5605, Test Accuracy: 0.5019\n",
      "Train loss: 1.3570\n",
      "\n",
      " Epoch 185 training:\n"
     ]
    },
    {
     "name": "stderr",
     "output_type": "stream",
     "text": [
      "100%|██████████| 711/711 [01:40<00:00,  7.07it/s]\n"
     ]
    },
    {
     "name": "stdout",
     "output_type": "stream",
     "text": [
      "Train Accuracy: 0.6105, Val Accuracy: 0.5561, Test Accuracy: 0.5037\n",
      "Train loss: 1.3547\n",
      "\n",
      " Epoch 186 training:\n"
     ]
    },
    {
     "name": "stderr",
     "output_type": "stream",
     "text": [
      "100%|██████████| 711/711 [01:39<00:00,  7.15it/s]\n"
     ]
    },
    {
     "name": "stdout",
     "output_type": "stream",
     "text": [
      "Train Accuracy: 0.6147, Val Accuracy: 0.5606, Test Accuracy: 0.5043\n",
      "Train loss: 1.3562\n",
      "\n",
      " Epoch 187 training:\n"
     ]
    },
    {
     "name": "stderr",
     "output_type": "stream",
     "text": [
      "100%|██████████| 711/711 [01:40<00:00,  7.10it/s]\n"
     ]
    },
    {
     "name": "stdout",
     "output_type": "stream",
     "text": [
      "Train Accuracy: 0.6131, Val Accuracy: 0.5611, Test Accuracy: 0.5056\n",
      "Train loss: 1.3504\n",
      "\n",
      " Epoch 188 training:\n"
     ]
    },
    {
     "name": "stderr",
     "output_type": "stream",
     "text": [
      "100%|██████████| 711/711 [01:39<00:00,  7.13it/s]\n"
     ]
    },
    {
     "name": "stdout",
     "output_type": "stream",
     "text": [
      "Train Accuracy: 0.6112, Val Accuracy: 0.5589, Test Accuracy: 0.5044\n",
      "Train loss: 1.3507\n",
      "\n",
      " Epoch 189 training:\n"
     ]
    },
    {
     "name": "stderr",
     "output_type": "stream",
     "text": [
      "100%|██████████| 711/711 [01:40<00:00,  7.08it/s]\n"
     ]
    },
    {
     "name": "stdout",
     "output_type": "stream",
     "text": [
      "Train Accuracy: 0.6111, Val Accuracy: 0.5567, Test Accuracy: 0.5021\n",
      "Train loss: 1.3508\n",
      "\n",
      " Epoch 190 training:\n"
     ]
    },
    {
     "name": "stderr",
     "output_type": "stream",
     "text": [
      "100%|██████████| 711/711 [01:39<00:00,  7.13it/s]\n"
     ]
    },
    {
     "name": "stdout",
     "output_type": "stream",
     "text": [
      "Train Accuracy: 0.6120, Val Accuracy: 0.5592, Test Accuracy: 0.5034\n",
      "Train loss: 1.3517\n",
      "\n",
      " Epoch 191 training:\n"
     ]
    },
    {
     "name": "stderr",
     "output_type": "stream",
     "text": [
      "100%|██████████| 711/711 [01:40<00:00,  7.08it/s]\n"
     ]
    },
    {
     "name": "stdout",
     "output_type": "stream",
     "text": [
      "Train Accuracy: 0.6068, Val Accuracy: 0.5541, Test Accuracy: 0.5000\n",
      "Train loss: 1.3492\n",
      "\n",
      " Epoch 192 training:\n"
     ]
    },
    {
     "name": "stderr",
     "output_type": "stream",
     "text": [
      "100%|██████████| 711/711 [01:39<00:00,  7.13it/s]\n"
     ]
    },
    {
     "name": "stdout",
     "output_type": "stream",
     "text": [
      "Train Accuracy: 0.6118, Val Accuracy: 0.5560, Test Accuracy: 0.5006\n",
      "Train loss: 1.3535\n",
      "\n",
      " Epoch 193 training:\n"
     ]
    },
    {
     "name": "stderr",
     "output_type": "stream",
     "text": [
      "100%|██████████| 711/711 [01:40<00:00,  7.07it/s]\n"
     ]
    },
    {
     "name": "stdout",
     "output_type": "stream",
     "text": [
      "Train Accuracy: 0.6105, Val Accuracy: 0.5588, Test Accuracy: 0.5032\n",
      "Train loss: 1.3503\n",
      "\n",
      " Epoch 194 training:\n"
     ]
    },
    {
     "name": "stderr",
     "output_type": "stream",
     "text": [
      "100%|██████████| 711/711 [01:39<00:00,  7.13it/s]\n"
     ]
    },
    {
     "name": "stdout",
     "output_type": "stream",
     "text": [
      "Train Accuracy: 0.6132, Val Accuracy: 0.5595, Test Accuracy: 0.5048\n",
      "Train loss: 1.3490\n",
      "\n",
      " Epoch 195 training:\n"
     ]
    },
    {
     "name": "stderr",
     "output_type": "stream",
     "text": [
      "100%|██████████| 711/711 [01:40<00:00,  7.08it/s]\n"
     ]
    },
    {
     "name": "stdout",
     "output_type": "stream",
     "text": [
      "Train Accuracy: 0.6094, Val Accuracy: 0.5536, Test Accuracy: 0.5004\n",
      "Train loss: 1.3497\n",
      "\n",
      " Epoch 196 training:\n"
     ]
    },
    {
     "name": "stderr",
     "output_type": "stream",
     "text": [
      "100%|██████████| 711/711 [01:39<00:00,  7.14it/s]\n"
     ]
    },
    {
     "name": "stdout",
     "output_type": "stream",
     "text": [
      "Train Accuracy: 0.6158, Val Accuracy: 0.5610, Test Accuracy: 0.5041\n",
      "Train loss: 1.3502\n",
      "\n",
      " Epoch 197 training:\n"
     ]
    },
    {
     "name": "stderr",
     "output_type": "stream",
     "text": [
      "100%|██████████| 711/711 [01:40<00:00,  7.08it/s]\n"
     ]
    },
    {
     "name": "stdout",
     "output_type": "stream",
     "text": [
      "Train Accuracy: 0.6074, Val Accuracy: 0.5504, Test Accuracy: 0.4995\n",
      "Train loss: 1.3492\n",
      "\n",
      " Epoch 198 training:\n"
     ]
    },
    {
     "name": "stderr",
     "output_type": "stream",
     "text": [
      "100%|██████████| 711/711 [01:40<00:00,  7.09it/s]\n"
     ]
    },
    {
     "name": "stdout",
     "output_type": "stream",
     "text": [
      "Train Accuracy: 0.6122, Val Accuracy: 0.5594, Test Accuracy: 0.5026\n",
      "Train loss: 1.3458\n",
      "\n",
      " Epoch 199 training:\n"
     ]
    },
    {
     "name": "stderr",
     "output_type": "stream",
     "text": [
      "100%|██████████| 711/711 [01:39<00:00,  7.14it/s]\n"
     ]
    },
    {
     "name": "stdout",
     "output_type": "stream",
     "text": [
      "Train Accuracy: 0.6167, Val Accuracy: 0.5625, Test Accuracy: 0.5069\n",
      "Train loss: 1.3522\n",
      "\n",
      " Epoch 200 training:\n"
     ]
    },
    {
     "name": "stderr",
     "output_type": "stream",
     "text": [
      "100%|██████████| 711/711 [01:40<00:00,  7.09it/s]\n"
     ]
    },
    {
     "name": "stdout",
     "output_type": "stream",
     "text": [
      "Train Accuracy: 0.6152, Val Accuracy: 0.5622, Test Accuracy: 0.5042\n",
      "Train loss: 1.3436\n",
      "\n",
      " Epoch 201 training:\n"
     ]
    },
    {
     "name": "stderr",
     "output_type": "stream",
     "text": [
      "100%|██████████| 711/711 [01:39<00:00,  7.14it/s]\n"
     ]
    },
    {
     "name": "stdout",
     "output_type": "stream",
     "text": [
      "Train Accuracy: 0.6136, Val Accuracy: 0.5575, Test Accuracy: 0.5031\n",
      "Train loss: 1.3454\n",
      "\n",
      " Epoch 202 training:\n"
     ]
    },
    {
     "name": "stderr",
     "output_type": "stream",
     "text": [
      "100%|██████████| 711/711 [01:39<00:00,  7.12it/s]\n"
     ]
    },
    {
     "name": "stdout",
     "output_type": "stream",
     "text": [
      "Train Accuracy: 0.6168, Val Accuracy: 0.5624, Test Accuracy: 0.5004\n",
      "Train loss: 1.3485\n",
      "\n",
      " Epoch 203 training:\n"
     ]
    },
    {
     "name": "stderr",
     "output_type": "stream",
     "text": [
      "100%|██████████| 711/711 [01:40<00:00,  7.11it/s]\n"
     ]
    },
    {
     "name": "stdout",
     "output_type": "stream",
     "text": [
      "Train Accuracy: 0.6162, Val Accuracy: 0.5640, Test Accuracy: 0.5062\n",
      "Train loss: 1.3435\n",
      "\n",
      " Epoch 204 training:\n"
     ]
    },
    {
     "name": "stderr",
     "output_type": "stream",
     "text": [
      "100%|██████████| 711/711 [01:39<00:00,  7.12it/s]\n"
     ]
    },
    {
     "name": "stdout",
     "output_type": "stream",
     "text": [
      "Train Accuracy: 0.6139, Val Accuracy: 0.5620, Test Accuracy: 0.5044\n",
      "Train loss: 1.3455\n",
      "\n",
      " Epoch 205 training:\n"
     ]
    },
    {
     "name": "stderr",
     "output_type": "stream",
     "text": [
      "100%|██████████| 711/711 [01:39<00:00,  7.17it/s]\n"
     ]
    },
    {
     "name": "stdout",
     "output_type": "stream",
     "text": [
      "Train Accuracy: 0.6086, Val Accuracy: 0.5550, Test Accuracy: 0.4993\n",
      "Train loss: 1.3465\n",
      "\n",
      " Epoch 206 training:\n"
     ]
    },
    {
     "name": "stderr",
     "output_type": "stream",
     "text": [
      "100%|██████████| 711/711 [01:40<00:00,  7.11it/s]\n"
     ]
    },
    {
     "name": "stdout",
     "output_type": "stream",
     "text": [
      "Train Accuracy: 0.6150, Val Accuracy: 0.5648, Test Accuracy: 0.5083\n",
      "Train loss: 1.3436\n",
      "\n",
      " Epoch 207 training:\n"
     ]
    },
    {
     "name": "stderr",
     "output_type": "stream",
     "text": [
      "100%|██████████| 711/711 [01:39<00:00,  7.14it/s]\n"
     ]
    },
    {
     "name": "stdout",
     "output_type": "stream",
     "text": [
      "Train Accuracy: 0.6104, Val Accuracy: 0.5607, Test Accuracy: 0.5034\n",
      "Train loss: 1.3457\n",
      "\n",
      " Epoch 208 training:\n"
     ]
    },
    {
     "name": "stderr",
     "output_type": "stream",
     "text": [
      "100%|██████████| 711/711 [01:40<00:00,  7.07it/s]\n"
     ]
    },
    {
     "name": "stdout",
     "output_type": "stream",
     "text": [
      "Train Accuracy: 0.6124, Val Accuracy: 0.5555, Test Accuracy: 0.5024\n",
      "Train loss: 1.3390\n",
      "\n",
      " Epoch 209 training:\n"
     ]
    },
    {
     "name": "stderr",
     "output_type": "stream",
     "text": [
      "100%|██████████| 711/711 [01:39<00:00,  7.12it/s]\n"
     ]
    },
    {
     "name": "stdout",
     "output_type": "stream",
     "text": [
      "Train Accuracy: 0.6146, Val Accuracy: 0.5599, Test Accuracy: 0.5044\n",
      "Train loss: 1.3386\n",
      "\n",
      " Epoch 210 training:\n"
     ]
    },
    {
     "name": "stderr",
     "output_type": "stream",
     "text": [
      "100%|██████████| 711/711 [01:39<00:00,  7.12it/s]\n"
     ]
    },
    {
     "name": "stdout",
     "output_type": "stream",
     "text": [
      "Train Accuracy: 0.6143, Val Accuracy: 0.5628, Test Accuracy: 0.5070\n",
      "Train loss: 1.3412\n",
      "\n",
      " Epoch 211 training:\n"
     ]
    },
    {
     "name": "stderr",
     "output_type": "stream",
     "text": [
      "100%|██████████| 711/711 [01:40<00:00,  7.08it/s]\n"
     ]
    },
    {
     "name": "stdout",
     "output_type": "stream",
     "text": [
      "Train Accuracy: 0.6170, Val Accuracy: 0.5627, Test Accuracy: 0.5099\n",
      "Train loss: 1.3444\n",
      "\n",
      " Epoch 212 training:\n"
     ]
    },
    {
     "name": "stderr",
     "output_type": "stream",
     "text": [
      "100%|██████████| 711/711 [01:39<00:00,  7.13it/s]\n"
     ]
    },
    {
     "name": "stdout",
     "output_type": "stream",
     "text": [
      "Train Accuracy: 0.6153, Val Accuracy: 0.5602, Test Accuracy: 0.5060\n",
      "Train loss: 1.3420\n",
      "\n",
      " Epoch 213 training:\n"
     ]
    },
    {
     "name": "stderr",
     "output_type": "stream",
     "text": [
      "100%|██████████| 711/711 [01:39<00:00,  7.12it/s]\n"
     ]
    },
    {
     "name": "stdout",
     "output_type": "stream",
     "text": [
      "Train Accuracy: 0.6121, Val Accuracy: 0.5537, Test Accuracy: 0.4989\n",
      "Train loss: 1.3389\n",
      "\n",
      " Epoch 214 training:\n"
     ]
    },
    {
     "name": "stderr",
     "output_type": "stream",
     "text": [
      "100%|██████████| 711/711 [01:39<00:00,  7.16it/s]\n"
     ]
    },
    {
     "name": "stdout",
     "output_type": "stream",
     "text": [
      "Train Accuracy: 0.6117, Val Accuracy: 0.5573, Test Accuracy: 0.5006\n",
      "Train loss: 1.3408\n",
      "\n",
      " Epoch 215 training:\n"
     ]
    },
    {
     "name": "stderr",
     "output_type": "stream",
     "text": [
      "100%|██████████| 711/711 [01:39<00:00,  7.13it/s]\n"
     ]
    },
    {
     "name": "stdout",
     "output_type": "stream",
     "text": [
      "Train Accuracy: 0.6171, Val Accuracy: 0.5629, Test Accuracy: 0.5059\n",
      "Train loss: 1.3406\n",
      "\n",
      " Epoch 216 training:\n"
     ]
    },
    {
     "name": "stderr",
     "output_type": "stream",
     "text": [
      "100%|██████████| 711/711 [01:40<00:00,  7.10it/s]\n"
     ]
    },
    {
     "name": "stdout",
     "output_type": "stream",
     "text": [
      "Train Accuracy: 0.6165, Val Accuracy: 0.5602, Test Accuracy: 0.5068\n",
      "Train loss: 1.3385\n",
      "\n",
      " Epoch 217 training:\n"
     ]
    },
    {
     "name": "stderr",
     "output_type": "stream",
     "text": [
      "100%|██████████| 711/711 [01:40<00:00,  7.11it/s]\n"
     ]
    },
    {
     "name": "stdout",
     "output_type": "stream",
     "text": [
      "Train Accuracy: 0.6137, Val Accuracy: 0.5543, Test Accuracy: 0.4974\n",
      "Train loss: 1.3367\n",
      "\n",
      " Epoch 218 training:\n"
     ]
    },
    {
     "name": "stderr",
     "output_type": "stream",
     "text": [
      "100%|██████████| 711/711 [01:40<00:00,  7.10it/s]\n"
     ]
    },
    {
     "name": "stdout",
     "output_type": "stream",
     "text": [
      "Train Accuracy: 0.6172, Val Accuracy: 0.5604, Test Accuracy: 0.5061\n",
      "Train loss: 1.3381\n",
      "\n",
      " Epoch 219 training:\n"
     ]
    },
    {
     "name": "stderr",
     "output_type": "stream",
     "text": [
      "100%|██████████| 711/711 [01:40<00:00,  7.07it/s]\n"
     ]
    },
    {
     "name": "stdout",
     "output_type": "stream",
     "text": [
      "Train Accuracy: 0.6125, Val Accuracy: 0.5568, Test Accuracy: 0.5033\n",
      "Train loss: 1.3382\n",
      "\n",
      " Epoch 220 training:\n"
     ]
    },
    {
     "name": "stderr",
     "output_type": "stream",
     "text": [
      "100%|██████████| 711/711 [01:39<00:00,  7.12it/s]\n"
     ]
    },
    {
     "name": "stdout",
     "output_type": "stream",
     "text": [
      "Train Accuracy: 0.6130, Val Accuracy: 0.5555, Test Accuracy: 0.5030\n",
      "Train loss: 1.3408\n",
      "\n",
      " Epoch 221 training:\n"
     ]
    },
    {
     "name": "stderr",
     "output_type": "stream",
     "text": [
      "100%|██████████| 711/711 [01:40<00:00,  7.10it/s]\n"
     ]
    },
    {
     "name": "stdout",
     "output_type": "stream",
     "text": [
      "Train Accuracy: 0.6124, Val Accuracy: 0.5577, Test Accuracy: 0.5035\n",
      "Train loss: 1.3379\n",
      "\n",
      " Epoch 222 training:\n"
     ]
    },
    {
     "name": "stderr",
     "output_type": "stream",
     "text": [
      "100%|██████████| 711/711 [01:40<00:00,  7.06it/s]\n"
     ]
    },
    {
     "name": "stdout",
     "output_type": "stream",
     "text": [
      "Train Accuracy: 0.6174, Val Accuracy: 0.5629, Test Accuracy: 0.5095\n",
      "Train loss: 1.3343\n",
      "\n",
      " Epoch 223 training:\n"
     ]
    },
    {
     "name": "stderr",
     "output_type": "stream",
     "text": [
      "100%|██████████| 711/711 [01:39<00:00,  7.11it/s]\n"
     ]
    },
    {
     "name": "stdout",
     "output_type": "stream",
     "text": [
      "Train Accuracy: 0.6138, Val Accuracy: 0.5609, Test Accuracy: 0.5088\n",
      "Train loss: 1.3366\n",
      "\n",
      " Epoch 224 training:\n"
     ]
    },
    {
     "name": "stderr",
     "output_type": "stream",
     "text": [
      "100%|██████████| 711/711 [01:39<00:00,  7.13it/s]\n"
     ]
    },
    {
     "name": "stdout",
     "output_type": "stream",
     "text": [
      "Train Accuracy: 0.6186, Val Accuracy: 0.5653, Test Accuracy: 0.5075\n",
      "Train loss: 1.3340\n",
      "\n",
      " Epoch 225 training:\n"
     ]
    },
    {
     "name": "stderr",
     "output_type": "stream",
     "text": [
      "100%|██████████| 711/711 [01:41<00:00,  7.04it/s]\n"
     ]
    },
    {
     "name": "stdout",
     "output_type": "stream",
     "text": [
      "Train Accuracy: 0.6148, Val Accuracy: 0.5595, Test Accuracy: 0.5083\n",
      "Train loss: 1.3332\n",
      "\n",
      " Epoch 226 training:\n"
     ]
    },
    {
     "name": "stderr",
     "output_type": "stream",
     "text": [
      "100%|██████████| 711/711 [01:40<00:00,  7.10it/s]\n"
     ]
    },
    {
     "name": "stdout",
     "output_type": "stream",
     "text": [
      "Train Accuracy: 0.6186, Val Accuracy: 0.5611, Test Accuracy: 0.5047\n",
      "Train loss: 1.3345\n",
      "\n",
      " Epoch 227 training:\n"
     ]
    },
    {
     "name": "stderr",
     "output_type": "stream",
     "text": [
      "100%|██████████| 711/711 [01:40<00:00,  7.09it/s]\n"
     ]
    },
    {
     "name": "stdout",
     "output_type": "stream",
     "text": [
      "Train Accuracy: 0.6180, Val Accuracy: 0.5631, Test Accuracy: 0.5062\n",
      "Train loss: 1.3346\n",
      "\n",
      " Epoch 228 training:\n"
     ]
    },
    {
     "name": "stderr",
     "output_type": "stream",
     "text": [
      "100%|██████████| 711/711 [01:39<00:00,  7.13it/s]\n"
     ]
    },
    {
     "name": "stdout",
     "output_type": "stream",
     "text": [
      "Train Accuracy: 0.6154, Val Accuracy: 0.5583, Test Accuracy: 0.5065\n",
      "Train loss: 1.3357\n",
      "\n",
      " Epoch 229 training:\n"
     ]
    },
    {
     "name": "stderr",
     "output_type": "stream",
     "text": [
      "100%|██████████| 711/711 [01:39<00:00,  7.12it/s]\n"
     ]
    },
    {
     "name": "stdout",
     "output_type": "stream",
     "text": [
      "Train Accuracy: 0.6123, Val Accuracy: 0.5569, Test Accuracy: 0.5049\n",
      "Train loss: 1.3259\n",
      "\n",
      " Epoch 230 training:\n"
     ]
    },
    {
     "name": "stderr",
     "output_type": "stream",
     "text": [
      "100%|██████████| 711/711 [01:40<00:00,  7.08it/s]\n"
     ]
    },
    {
     "name": "stdout",
     "output_type": "stream",
     "text": [
      "Train Accuracy: 0.6163, Val Accuracy: 0.5585, Test Accuracy: 0.5032\n",
      "Train loss: 1.3317\n",
      "\n",
      " Epoch 231 training:\n"
     ]
    },
    {
     "name": "stderr",
     "output_type": "stream",
     "text": [
      "100%|██████████| 711/711 [01:38<00:00,  7.19it/s]\n"
     ]
    },
    {
     "name": "stdout",
     "output_type": "stream",
     "text": [
      "Train Accuracy: 0.6169, Val Accuracy: 0.5641, Test Accuracy: 0.5025\n",
      "Train loss: 1.3353\n",
      "\n",
      " Epoch 232 training:\n"
     ]
    },
    {
     "name": "stderr",
     "output_type": "stream",
     "text": [
      "100%|██████████| 711/711 [01:39<00:00,  7.13it/s]\n"
     ]
    },
    {
     "name": "stdout",
     "output_type": "stream",
     "text": [
      "Train Accuracy: 0.6166, Val Accuracy: 0.5616, Test Accuracy: 0.5057\n",
      "Train loss: 1.3322\n",
      "\n",
      " Epoch 233 training:\n"
     ]
    },
    {
     "name": "stderr",
     "output_type": "stream",
     "text": [
      "100%|██████████| 711/711 [01:39<00:00,  7.12it/s]\n"
     ]
    },
    {
     "name": "stdout",
     "output_type": "stream",
     "text": [
      "Train Accuracy: 0.6153, Val Accuracy: 0.5622, Test Accuracy: 0.5059\n",
      "Train loss: 1.3368\n",
      "\n",
      " Epoch 234 training:\n"
     ]
    },
    {
     "name": "stderr",
     "output_type": "stream",
     "text": [
      "100%|██████████| 711/711 [01:40<00:00,  7.07it/s]\n"
     ]
    },
    {
     "name": "stdout",
     "output_type": "stream",
     "text": [
      "Train Accuracy: 0.6102, Val Accuracy: 0.5539, Test Accuracy: 0.4977\n",
      "Train loss: 1.3342\n",
      "\n",
      " Epoch 235 training:\n"
     ]
    },
    {
     "name": "stderr",
     "output_type": "stream",
     "text": [
      "100%|██████████| 711/711 [01:40<00:00,  7.11it/s]\n"
     ]
    },
    {
     "name": "stdout",
     "output_type": "stream",
     "text": [
      "Train Accuracy: 0.6141, Val Accuracy: 0.5584, Test Accuracy: 0.5040\n",
      "Train loss: 1.3329\n",
      "\n",
      " Epoch 236 training:\n"
     ]
    },
    {
     "name": "stderr",
     "output_type": "stream",
     "text": [
      "100%|██████████| 711/711 [01:40<00:00,  7.08it/s]\n"
     ]
    },
    {
     "name": "stdout",
     "output_type": "stream",
     "text": [
      "Train Accuracy: 0.6140, Val Accuracy: 0.5616, Test Accuracy: 0.5057\n",
      "Train loss: 1.3285\n",
      "\n",
      " Epoch 237 training:\n"
     ]
    },
    {
     "name": "stderr",
     "output_type": "stream",
     "text": [
      "100%|██████████| 711/711 [01:39<00:00,  7.11it/s]\n"
     ]
    },
    {
     "name": "stdout",
     "output_type": "stream",
     "text": [
      "Train Accuracy: 0.6102, Val Accuracy: 0.5592, Test Accuracy: 0.5052\n",
      "Train loss: 1.3353\n",
      "\n",
      " Epoch 238 training:\n"
     ]
    },
    {
     "name": "stderr",
     "output_type": "stream",
     "text": [
      "100%|██████████| 711/711 [01:40<00:00,  7.10it/s]\n"
     ]
    },
    {
     "name": "stdout",
     "output_type": "stream",
     "text": [
      "Train Accuracy: 0.6155, Val Accuracy: 0.5613, Test Accuracy: 0.5000\n",
      "Train loss: 1.3306\n",
      "\n",
      " Epoch 239 training:\n"
     ]
    },
    {
     "name": "stderr",
     "output_type": "stream",
     "text": [
      "100%|██████████| 711/711 [01:40<00:00,  7.08it/s]\n"
     ]
    },
    {
     "name": "stdout",
     "output_type": "stream",
     "text": [
      "Train Accuracy: 0.6121, Val Accuracy: 0.5600, Test Accuracy: 0.5042\n",
      "Train loss: 1.3323\n",
      "\n",
      " Epoch 240 training:\n"
     ]
    },
    {
     "name": "stderr",
     "output_type": "stream",
     "text": [
      "100%|██████████| 711/711 [01:40<00:00,  7.09it/s]\n"
     ]
    },
    {
     "name": "stdout",
     "output_type": "stream",
     "text": [
      "Train Accuracy: 0.6145, Val Accuracy: 0.5592, Test Accuracy: 0.5072\n",
      "Train loss: 1.3311\n",
      "\n",
      " Epoch 241 training:\n"
     ]
    },
    {
     "name": "stderr",
     "output_type": "stream",
     "text": [
      "100%|██████████| 711/711 [01:39<00:00,  7.12it/s]\n"
     ]
    },
    {
     "name": "stdout",
     "output_type": "stream",
     "text": [
      "Train Accuracy: 0.6158, Val Accuracy: 0.5608, Test Accuracy: 0.5035\n",
      "Train loss: 1.3268\n",
      "\n",
      " Epoch 242 training:\n"
     ]
    },
    {
     "name": "stderr",
     "output_type": "stream",
     "text": [
      "100%|██████████| 711/711 [01:39<00:00,  7.14it/s]\n"
     ]
    },
    {
     "name": "stdout",
     "output_type": "stream",
     "text": [
      "Train Accuracy: 0.6194, Val Accuracy: 0.5623, Test Accuracy: 0.5035\n",
      "Train loss: 1.3277\n",
      "\n",
      " Epoch 243 training:\n"
     ]
    },
    {
     "name": "stderr",
     "output_type": "stream",
     "text": [
      "100%|██████████| 711/711 [01:39<00:00,  7.11it/s]\n"
     ]
    },
    {
     "name": "stdout",
     "output_type": "stream",
     "text": [
      "Train Accuracy: 0.6198, Val Accuracy: 0.5657, Test Accuracy: 0.5070\n",
      "Train loss: 1.3296\n",
      "\n",
      " Epoch 244 training:\n"
     ]
    },
    {
     "name": "stderr",
     "output_type": "stream",
     "text": [
      "100%|██████████| 711/711 [01:39<00:00,  7.12it/s]\n"
     ]
    },
    {
     "name": "stdout",
     "output_type": "stream",
     "text": [
      "Train Accuracy: 0.6177, Val Accuracy: 0.5636, Test Accuracy: 0.5058\n",
      "Train loss: 1.3307\n",
      "\n",
      " Epoch 245 training:\n"
     ]
    },
    {
     "name": "stderr",
     "output_type": "stream",
     "text": [
      "100%|██████████| 711/711 [01:39<00:00,  7.13it/s]\n"
     ]
    },
    {
     "name": "stdout",
     "output_type": "stream",
     "text": [
      "Train Accuracy: 0.6188, Val Accuracy: 0.5660, Test Accuracy: 0.5094\n",
      "Train loss: 1.3275\n",
      "\n",
      " Epoch 246 training:\n"
     ]
    },
    {
     "name": "stderr",
     "output_type": "stream",
     "text": [
      "100%|██████████| 711/711 [01:40<00:00,  7.08it/s]\n"
     ]
    },
    {
     "name": "stdout",
     "output_type": "stream",
     "text": [
      "Train Accuracy: 0.6186, Val Accuracy: 0.5620, Test Accuracy: 0.5037\n",
      "Train loss: 1.3276\n",
      "\n",
      " Epoch 247 training:\n"
     ]
    },
    {
     "name": "stderr",
     "output_type": "stream",
     "text": [
      "100%|██████████| 711/711 [01:40<00:00,  7.07it/s]\n"
     ]
    },
    {
     "name": "stdout",
     "output_type": "stream",
     "text": [
      "Train Accuracy: 0.6161, Val Accuracy: 0.5609, Test Accuracy: 0.5070\n",
      "Train loss: 1.3348\n",
      "\n",
      " Epoch 248 training:\n"
     ]
    },
    {
     "name": "stderr",
     "output_type": "stream",
     "text": [
      "100%|██████████| 711/711 [01:40<00:00,  7.10it/s]\n"
     ]
    },
    {
     "name": "stdout",
     "output_type": "stream",
     "text": [
      "Train Accuracy: 0.6157, Val Accuracy: 0.5622, Test Accuracy: 0.5042\n",
      "Train loss: 1.3259\n",
      "\n",
      " Epoch 249 training:\n"
     ]
    },
    {
     "name": "stderr",
     "output_type": "stream",
     "text": [
      "100%|██████████| 711/711 [01:40<00:00,  7.09it/s]\n"
     ]
    },
    {
     "name": "stdout",
     "output_type": "stream",
     "text": [
      "Train Accuracy: 0.6169, Val Accuracy: 0.5628, Test Accuracy: 0.5095\n",
      "Train loss: 1.3263\n",
      "\n",
      " Epoch 0 training:\n"
     ]
    },
    {
     "name": "stderr",
     "output_type": "stream",
     "text": [
      "100%|██████████| 711/711 [01:40<00:00,  7.05it/s]\n"
     ]
    },
    {
     "name": "stdout",
     "output_type": "stream",
     "text": [
      "New best model validation accuracy: 0.40203. Previous: 0.00000\n",
      "Train Accuracy: 0.3773, Val Accuracy: 0.4020, Test Accuracy: 0.3268\n",
      "Train loss: 2.4730\n",
      "\n",
      " Epoch 1 training:\n"
     ]
    },
    {
     "name": "stderr",
     "output_type": "stream",
     "text": [
      "100%|██████████| 711/711 [01:39<00:00,  7.12it/s]\n"
     ]
    },
    {
     "name": "stdout",
     "output_type": "stream",
     "text": [
      "New best model validation accuracy: 0.42414. Previous: 0.40203\n",
      "Train Accuracy: 0.4087, Val Accuracy: 0.4241, Test Accuracy: 0.3403\n",
      "Train loss: 2.1949\n",
      "\n",
      " Epoch 2 training:\n"
     ]
    },
    {
     "name": "stderr",
     "output_type": "stream",
     "text": [
      "100%|██████████| 711/711 [01:39<00:00,  7.13it/s]\n"
     ]
    },
    {
     "name": "stdout",
     "output_type": "stream",
     "text": [
      "New best model validation accuracy: 0.43055. Previous: 0.42414\n",
      "Train Accuracy: 0.4155, Val Accuracy: 0.4306, Test Accuracy: 0.3478\n",
      "Train loss: 2.1139\n",
      "\n",
      " Epoch 3 training:\n"
     ]
    },
    {
     "name": "stderr",
     "output_type": "stream",
     "text": [
      "100%|██████████| 711/711 [01:39<00:00,  7.12it/s]\n"
     ]
    },
    {
     "name": "stdout",
     "output_type": "stream",
     "text": [
      "New best model validation accuracy: 0.45347. Previous: 0.43055\n",
      "Train Accuracy: 0.4392, Val Accuracy: 0.4535, Test Accuracy: 0.3769\n",
      "Train loss: 2.0359\n",
      "\n",
      " Epoch 4 training:\n"
     ]
    },
    {
     "name": "stderr",
     "output_type": "stream",
     "text": [
      "100%|██████████| 711/711 [01:39<00:00,  7.14it/s]\n"
     ]
    },
    {
     "name": "stdout",
     "output_type": "stream",
     "text": [
      "New best model validation accuracy: 0.45693. Previous: 0.45347\n",
      "Train Accuracy: 0.4420, Val Accuracy: 0.4569, Test Accuracy: 0.3984\n",
      "Train loss: 1.9658\n",
      "\n",
      " Epoch 5 training:\n"
     ]
    },
    {
     "name": "stderr",
     "output_type": "stream",
     "text": [
      "100%|██████████| 711/711 [01:40<00:00,  7.09it/s]\n"
     ]
    },
    {
     "name": "stdout",
     "output_type": "stream",
     "text": [
      "New best model validation accuracy: 0.47106. Previous: 0.45693\n",
      "Train Accuracy: 0.4588, Val Accuracy: 0.4711, Test Accuracy: 0.4167\n",
      "Train loss: 1.9207\n",
      "\n",
      " Epoch 6 training:\n"
     ]
    },
    {
     "name": "stderr",
     "output_type": "stream",
     "text": [
      "100%|██████████| 711/711 [01:39<00:00,  7.14it/s]\n"
     ]
    },
    {
     "name": "stdout",
     "output_type": "stream",
     "text": [
      "New best model validation accuracy: 0.48908. Previous: 0.47106\n",
      "Train Accuracy: 0.4832, Val Accuracy: 0.4891, Test Accuracy: 0.4284\n",
      "Train loss: 1.8654\n",
      "\n",
      " Epoch 7 training:\n"
     ]
    },
    {
     "name": "stderr",
     "output_type": "stream",
     "text": [
      "100%|██████████| 711/711 [01:39<00:00,  7.13it/s]\n"
     ]
    },
    {
     "name": "stdout",
     "output_type": "stream",
     "text": [
      "New best model validation accuracy: 0.50468. Previous: 0.48908\n",
      "Train Accuracy: 0.4892, Val Accuracy: 0.5047, Test Accuracy: 0.4554\n",
      "Train loss: 1.8280\n",
      "\n",
      " Epoch 8 training:\n"
     ]
    },
    {
     "name": "stderr",
     "output_type": "stream",
     "text": [
      "100%|██████████| 711/711 [01:39<00:00,  7.12it/s]\n"
     ]
    },
    {
     "name": "stdout",
     "output_type": "stream",
     "text": [
      "New best model validation accuracy: 0.50471. Previous: 0.50468\n",
      "Train Accuracy: 0.4975, Val Accuracy: 0.5047, Test Accuracy: 0.4508\n",
      "Train loss: 1.8011\n",
      "\n",
      " Epoch 9 training:\n"
     ]
    },
    {
     "name": "stderr",
     "output_type": "stream",
     "text": [
      "100%|██████████| 711/711 [01:39<00:00,  7.14it/s]\n"
     ]
    },
    {
     "name": "stdout",
     "output_type": "stream",
     "text": [
      "Train Accuracy: 0.4956, Val Accuracy: 0.5024, Test Accuracy: 0.4407\n",
      "Train loss: 1.7734\n",
      "\n",
      " Epoch 10 training:\n"
     ]
    },
    {
     "name": "stderr",
     "output_type": "stream",
     "text": [
      "100%|██████████| 711/711 [01:39<00:00,  7.13it/s]\n"
     ]
    },
    {
     "name": "stdout",
     "output_type": "stream",
     "text": [
      "New best model validation accuracy: 0.50569. Previous: 0.50471\n",
      "Train Accuracy: 0.5045, Val Accuracy: 0.5057, Test Accuracy: 0.4506\n",
      "Train loss: 1.7514\n",
      "\n",
      " Epoch 11 training:\n"
     ]
    },
    {
     "name": "stderr",
     "output_type": "stream",
     "text": [
      "100%|██████████| 711/711 [01:40<00:00,  7.10it/s]\n"
     ]
    },
    {
     "name": "stdout",
     "output_type": "stream",
     "text": [
      "New best model validation accuracy: 0.51790. Previous: 0.50569\n",
      "Train Accuracy: 0.5145, Val Accuracy: 0.5179, Test Accuracy: 0.4560\n",
      "Train loss: 1.7333\n",
      "\n",
      " Epoch 12 training:\n"
     ]
    },
    {
     "name": "stderr",
     "output_type": "stream",
     "text": [
      "100%|██████████| 711/711 [01:39<00:00,  7.18it/s]\n"
     ]
    },
    {
     "name": "stdout",
     "output_type": "stream",
     "text": [
      "Train Accuracy: 0.5129, Val Accuracy: 0.5066, Test Accuracy: 0.4453\n",
      "Train loss: 1.7194\n",
      "\n",
      " Epoch 13 training:\n"
     ]
    },
    {
     "name": "stderr",
     "output_type": "stream",
     "text": [
      "100%|██████████| 711/711 [01:39<00:00,  7.12it/s]\n"
     ]
    },
    {
     "name": "stdout",
     "output_type": "stream",
     "text": [
      "Train Accuracy: 0.5268, Val Accuracy: 0.5172, Test Accuracy: 0.4618\n",
      "Train loss: 1.6953\n",
      "\n",
      " Epoch 14 training:\n"
     ]
    },
    {
     "name": "stderr",
     "output_type": "stream",
     "text": [
      "100%|██████████| 711/711 [01:39<00:00,  7.14it/s]\n"
     ]
    },
    {
     "name": "stdout",
     "output_type": "stream",
     "text": [
      "New best model validation accuracy: 0.52750. Previous: 0.51790\n",
      "Train Accuracy: 0.5358, Val Accuracy: 0.5275, Test Accuracy: 0.4608\n",
      "Train loss: 1.6852\n",
      "\n",
      " Epoch 15 training:\n"
     ]
    },
    {
     "name": "stderr",
     "output_type": "stream",
     "text": [
      "100%|██████████| 711/711 [01:39<00:00,  7.13it/s]\n"
     ]
    },
    {
     "name": "stdout",
     "output_type": "stream",
     "text": [
      "Train Accuracy: 0.5313, Val Accuracy: 0.5172, Test Accuracy: 0.4596\n",
      "Train loss: 1.6723\n",
      "\n",
      " Epoch 16 training:\n"
     ]
    },
    {
     "name": "stderr",
     "output_type": "stream",
     "text": [
      "100%|██████████| 711/711 [01:39<00:00,  7.15it/s]\n"
     ]
    },
    {
     "name": "stdout",
     "output_type": "stream",
     "text": [
      "Train Accuracy: 0.5325, Val Accuracy: 0.5161, Test Accuracy: 0.4557\n",
      "Train loss: 1.6590\n",
      "\n",
      " Epoch 17 training:\n"
     ]
    },
    {
     "name": "stderr",
     "output_type": "stream",
     "text": [
      "100%|██████████| 711/711 [01:39<00:00,  7.12it/s]\n"
     ]
    },
    {
     "name": "stdout",
     "output_type": "stream",
     "text": [
      "Train Accuracy: 0.5373, Val Accuracy: 0.5216, Test Accuracy: 0.4615\n",
      "Train loss: 1.6458\n",
      "\n",
      " Epoch 18 training:\n"
     ]
    },
    {
     "name": "stderr",
     "output_type": "stream",
     "text": [
      "100%|██████████| 711/711 [01:39<00:00,  7.13it/s]\n"
     ]
    },
    {
     "name": "stdout",
     "output_type": "stream",
     "text": [
      "New best model validation accuracy: 0.52824. Previous: 0.52750\n",
      "Train Accuracy: 0.5446, Val Accuracy: 0.5282, Test Accuracy: 0.4675\n",
      "Train loss: 1.6411\n",
      "\n",
      " Epoch 19 training:\n"
     ]
    },
    {
     "name": "stderr",
     "output_type": "stream",
     "text": [
      "100%|██████████| 711/711 [01:40<00:00,  7.09it/s]\n"
     ]
    },
    {
     "name": "stdout",
     "output_type": "stream",
     "text": [
      "New best model validation accuracy: 0.53525. Previous: 0.52824\n",
      "Train Accuracy: 0.5434, Val Accuracy: 0.5353, Test Accuracy: 0.4765\n",
      "Train loss: 1.6280\n",
      "\n",
      " Epoch 20 training:\n"
     ]
    },
    {
     "name": "stderr",
     "output_type": "stream",
     "text": [
      "100%|██████████| 711/711 [01:39<00:00,  7.16it/s]\n"
     ]
    },
    {
     "name": "stdout",
     "output_type": "stream",
     "text": [
      "Train Accuracy: 0.5426, Val Accuracy: 0.5240, Test Accuracy: 0.4681\n",
      "Train loss: 1.6233\n",
      "\n",
      " Epoch 21 training:\n"
     ]
    },
    {
     "name": "stderr",
     "output_type": "stream",
     "text": [
      "100%|██████████| 711/711 [01:39<00:00,  7.14it/s]\n"
     ]
    },
    {
     "name": "stdout",
     "output_type": "stream",
     "text": [
      "Train Accuracy: 0.5448, Val Accuracy: 0.5288, Test Accuracy: 0.4663\n",
      "Train loss: 1.6105\n",
      "\n",
      " Epoch 22 training:\n"
     ]
    },
    {
     "name": "stderr",
     "output_type": "stream",
     "text": [
      "100%|██████████| 711/711 [01:39<00:00,  7.12it/s]\n"
     ]
    },
    {
     "name": "stdout",
     "output_type": "stream",
     "text": [
      "Train Accuracy: 0.5445, Val Accuracy: 0.5246, Test Accuracy: 0.4705\n",
      "Train loss: 1.6080\n",
      "\n",
      " Epoch 23 training:\n"
     ]
    },
    {
     "name": "stderr",
     "output_type": "stream",
     "text": [
      "100%|██████████| 711/711 [01:39<00:00,  7.14it/s]\n"
     ]
    },
    {
     "name": "stdout",
     "output_type": "stream",
     "text": [
      "New best model validation accuracy: 0.53555. Previous: 0.53525\n",
      "Train Accuracy: 0.5473, Val Accuracy: 0.5356, Test Accuracy: 0.4764\n",
      "Train loss: 1.5976\n",
      "\n",
      " Epoch 24 training:\n"
     ]
    },
    {
     "name": "stderr",
     "output_type": "stream",
     "text": [
      "100%|██████████| 711/711 [01:40<00:00,  7.09it/s]\n"
     ]
    },
    {
     "name": "stdout",
     "output_type": "stream",
     "text": [
      "Train Accuracy: 0.5524, Val Accuracy: 0.5328, Test Accuracy: 0.4733\n",
      "Train loss: 1.5923\n",
      "\n",
      " Epoch 25 training:\n"
     ]
    },
    {
     "name": "stderr",
     "output_type": "stream",
     "text": [
      "100%|██████████| 711/711 [01:39<00:00,  7.15it/s]\n"
     ]
    },
    {
     "name": "stdout",
     "output_type": "stream",
     "text": [
      "Train Accuracy: 0.5547, Val Accuracy: 0.5325, Test Accuracy: 0.4747\n",
      "Train loss: 1.5782\n",
      "\n",
      " Epoch 26 training:\n"
     ]
    },
    {
     "name": "stderr",
     "output_type": "stream",
     "text": [
      "100%|██████████| 711/711 [01:39<00:00,  7.13it/s]\n"
     ]
    },
    {
     "name": "stdout",
     "output_type": "stream",
     "text": [
      "Train Accuracy: 0.5564, Val Accuracy: 0.5338, Test Accuracy: 0.4738\n",
      "Train loss: 1.5814\n",
      "\n",
      " Epoch 27 training:\n"
     ]
    },
    {
     "name": "stderr",
     "output_type": "stream",
     "text": [
      "100%|██████████| 711/711 [01:39<00:00,  7.13it/s]\n"
     ]
    },
    {
     "name": "stdout",
     "output_type": "stream",
     "text": [
      "New best model validation accuracy: 0.53901. Previous: 0.53555\n",
      "Train Accuracy: 0.5588, Val Accuracy: 0.5390, Test Accuracy: 0.4737\n",
      "Train loss: 1.5735\n",
      "\n",
      " Epoch 28 training:\n"
     ]
    },
    {
     "name": "stderr",
     "output_type": "stream",
     "text": [
      "100%|██████████| 711/711 [01:39<00:00,  7.15it/s]\n"
     ]
    },
    {
     "name": "stdout",
     "output_type": "stream",
     "text": [
      "New best model validation accuracy: 0.54123. Previous: 0.53901\n",
      "Train Accuracy: 0.5610, Val Accuracy: 0.5412, Test Accuracy: 0.4788\n",
      "Train loss: 1.5709\n",
      "\n",
      " Epoch 29 training:\n"
     ]
    },
    {
     "name": "stderr",
     "output_type": "stream",
     "text": [
      "100%|██████████| 711/711 [01:39<00:00,  7.12it/s]\n"
     ]
    },
    {
     "name": "stdout",
     "output_type": "stream",
     "text": [
      "New best model validation accuracy: 0.54163. Previous: 0.54123\n",
      "Train Accuracy: 0.5617, Val Accuracy: 0.5416, Test Accuracy: 0.4772\n",
      "Train loss: 1.5632\n",
      "\n",
      " Epoch 30 training:\n"
     ]
    },
    {
     "name": "stderr",
     "output_type": "stream",
     "text": [
      "100%|██████████| 711/711 [01:39<00:00,  7.15it/s]\n"
     ]
    },
    {
     "name": "stdout",
     "output_type": "stream",
     "text": [
      "Train Accuracy: 0.5565, Val Accuracy: 0.5306, Test Accuracy: 0.4706\n",
      "Train loss: 1.5594\n",
      "\n",
      " Epoch 31 training:\n"
     ]
    },
    {
     "name": "stderr",
     "output_type": "stream",
     "text": [
      "100%|██████████| 711/711 [01:40<00:00,  7.10it/s]\n"
     ]
    },
    {
     "name": "stdout",
     "output_type": "stream",
     "text": [
      "Train Accuracy: 0.5588, Val Accuracy: 0.5392, Test Accuracy: 0.4810\n",
      "Train loss: 1.5535\n",
      "\n",
      " Epoch 32 training:\n"
     ]
    },
    {
     "name": "stderr",
     "output_type": "stream",
     "text": [
      "100%|██████████| 711/711 [01:39<00:00,  7.15it/s]\n"
     ]
    },
    {
     "name": "stdout",
     "output_type": "stream",
     "text": [
      "Train Accuracy: 0.5629, Val Accuracy: 0.5404, Test Accuracy: 0.4801\n",
      "Train loss: 1.5518\n",
      "\n",
      " Epoch 33 training:\n"
     ]
    },
    {
     "name": "stderr",
     "output_type": "stream",
     "text": [
      "100%|██████████| 711/711 [01:39<00:00,  7.14it/s]\n"
     ]
    },
    {
     "name": "stdout",
     "output_type": "stream",
     "text": [
      "New best model validation accuracy: 0.54190. Previous: 0.54163\n",
      "Train Accuracy: 0.5674, Val Accuracy: 0.5419, Test Accuracy: 0.4784\n",
      "Train loss: 1.5496\n",
      "\n",
      " Epoch 34 training:\n"
     ]
    },
    {
     "name": "stderr",
     "output_type": "stream",
     "text": [
      "100%|██████████| 711/711 [01:39<00:00,  7.12it/s]\n"
     ]
    },
    {
     "name": "stdout",
     "output_type": "stream",
     "text": [
      "New best model validation accuracy: 0.54764. Previous: 0.54190\n",
      "Train Accuracy: 0.5695, Val Accuracy: 0.5476, Test Accuracy: 0.4801\n",
      "Train loss: 1.5412\n",
      "\n",
      " Epoch 35 training:\n"
     ]
    },
    {
     "name": "stderr",
     "output_type": "stream",
     "text": [
      "100%|██████████| 711/711 [01:39<00:00,  7.15it/s]\n"
     ]
    },
    {
     "name": "stdout",
     "output_type": "stream",
     "text": [
      "Train Accuracy: 0.5616, Val Accuracy: 0.5434, Test Accuracy: 0.4889\n",
      "Train loss: 1.5359\n",
      "\n",
      " Epoch 36 training:\n"
     ]
    },
    {
     "name": "stderr",
     "output_type": "stream",
     "text": [
      "100%|██████████| 711/711 [01:39<00:00,  7.14it/s]\n"
     ]
    },
    {
     "name": "stdout",
     "output_type": "stream",
     "text": [
      "Train Accuracy: 0.5624, Val Accuracy: 0.5379, Test Accuracy: 0.4765\n",
      "Train loss: 1.5305\n",
      "\n",
      " Epoch 37 training:\n"
     ]
    },
    {
     "name": "stderr",
     "output_type": "stream",
     "text": [
      "100%|██████████| 711/711 [01:39<00:00,  7.15it/s]\n"
     ]
    },
    {
     "name": "stdout",
     "output_type": "stream",
     "text": [
      "Train Accuracy: 0.5630, Val Accuracy: 0.5456, Test Accuracy: 0.4908\n",
      "Train loss: 1.5284\n",
      "\n",
      " Epoch 38 training:\n"
     ]
    },
    {
     "name": "stderr",
     "output_type": "stream",
     "text": [
      "100%|██████████| 711/711 [01:39<00:00,  7.13it/s]\n"
     ]
    },
    {
     "name": "stdout",
     "output_type": "stream",
     "text": [
      "New best model validation accuracy: 0.54925. Previous: 0.54764\n",
      "Train Accuracy: 0.5717, Val Accuracy: 0.5492, Test Accuracy: 0.4941\n",
      "Train loss: 1.5225\n",
      "\n",
      " Epoch 39 training:\n"
     ]
    },
    {
     "name": "stderr",
     "output_type": "stream",
     "text": [
      "100%|██████████| 711/711 [01:40<00:00,  7.10it/s]\n"
     ]
    },
    {
     "name": "stdout",
     "output_type": "stream",
     "text": [
      "New best model validation accuracy: 0.55015. Previous: 0.54925\n",
      "Train Accuracy: 0.5710, Val Accuracy: 0.5502, Test Accuracy: 0.4926\n",
      "Train loss: 1.5185\n",
      "\n",
      " Epoch 40 training:\n"
     ]
    },
    {
     "name": "stderr",
     "output_type": "stream",
     "text": [
      "100%|██████████| 711/711 [01:40<00:00,  7.08it/s]\n"
     ]
    },
    {
     "name": "stdout",
     "output_type": "stream",
     "text": [
      "Train Accuracy: 0.5660, Val Accuracy: 0.5459, Test Accuracy: 0.4832\n",
      "Train loss: 1.5151\n",
      "\n",
      " Epoch 41 training:\n"
     ]
    },
    {
     "name": "stderr",
     "output_type": "stream",
     "text": [
      "100%|██████████| 711/711 [01:40<00:00,  7.09it/s]\n"
     ]
    },
    {
     "name": "stdout",
     "output_type": "stream",
     "text": [
      "Train Accuracy: 0.5711, Val Accuracy: 0.5473, Test Accuracy: 0.4920\n",
      "Train loss: 1.5189\n",
      "\n",
      " Epoch 42 training:\n"
     ]
    },
    {
     "name": "stderr",
     "output_type": "stream",
     "text": [
      "100%|██████████| 711/711 [01:39<00:00,  7.15it/s]\n"
     ]
    },
    {
     "name": "stdout",
     "output_type": "stream",
     "text": [
      "Train Accuracy: 0.5682, Val Accuracy: 0.5426, Test Accuracy: 0.4856\n",
      "Train loss: 1.5132\n",
      "\n",
      " Epoch 43 training:\n"
     ]
    },
    {
     "name": "stderr",
     "output_type": "stream",
     "text": [
      "100%|██████████| 711/711 [01:40<00:00,  7.09it/s]\n"
     ]
    },
    {
     "name": "stdout",
     "output_type": "stream",
     "text": [
      "Train Accuracy: 0.5702, Val Accuracy: 0.5435, Test Accuracy: 0.4966\n",
      "Train loss: 1.5059\n",
      "\n",
      " Epoch 44 training:\n"
     ]
    },
    {
     "name": "stderr",
     "output_type": "stream",
     "text": [
      "100%|██████████| 711/711 [01:39<00:00,  7.14it/s]\n"
     ]
    },
    {
     "name": "stdout",
     "output_type": "stream",
     "text": [
      "Train Accuracy: 0.5783, Val Accuracy: 0.5473, Test Accuracy: 0.4918\n",
      "Train loss: 1.5054\n",
      "\n",
      " Epoch 45 training:\n"
     ]
    },
    {
     "name": "stderr",
     "output_type": "stream",
     "text": [
      "100%|██████████| 711/711 [01:39<00:00,  7.14it/s]\n"
     ]
    },
    {
     "name": "stdout",
     "output_type": "stream",
     "text": [
      "Train Accuracy: 0.5771, Val Accuracy: 0.5486, Test Accuracy: 0.4920\n",
      "Train loss: 1.5023\n",
      "\n",
      " Epoch 46 training:\n"
     ]
    },
    {
     "name": "stderr",
     "output_type": "stream",
     "text": [
      "100%|██████████| 711/711 [01:39<00:00,  7.15it/s]\n"
     ]
    },
    {
     "name": "stdout",
     "output_type": "stream",
     "text": [
      "Train Accuracy: 0.5756, Val Accuracy: 0.5485, Test Accuracy: 0.4928\n",
      "Train loss: 1.5006\n",
      "\n",
      " Epoch 47 training:\n"
     ]
    },
    {
     "name": "stderr",
     "output_type": "stream",
     "text": [
      "100%|██████████| 711/711 [01:40<00:00,  7.06it/s]\n"
     ]
    },
    {
     "name": "stdout",
     "output_type": "stream",
     "text": [
      "Train Accuracy: 0.5748, Val Accuracy: 0.5470, Test Accuracy: 0.4951\n",
      "Train loss: 1.4928\n",
      "\n",
      " Epoch 48 training:\n"
     ]
    },
    {
     "name": "stderr",
     "output_type": "stream",
     "text": [
      "100%|██████████| 711/711 [01:39<00:00,  7.12it/s]\n"
     ]
    },
    {
     "name": "stdout",
     "output_type": "stream",
     "text": [
      "Train Accuracy: 0.5745, Val Accuracy: 0.5478, Test Accuracy: 0.4941\n",
      "Train loss: 1.4895\n",
      "\n",
      " Epoch 49 training:\n"
     ]
    },
    {
     "name": "stderr",
     "output_type": "stream",
     "text": [
      "100%|██████████| 711/711 [01:39<00:00,  7.11it/s]\n"
     ]
    },
    {
     "name": "stdout",
     "output_type": "stream",
     "text": [
      "New best model validation accuracy: 0.55324. Previous: 0.55015\n",
      "Train Accuracy: 0.5795, Val Accuracy: 0.5532, Test Accuracy: 0.4965\n",
      "Train loss: 1.4943\n",
      "\n",
      " Epoch 50 training:\n"
     ]
    },
    {
     "name": "stderr",
     "output_type": "stream",
     "text": [
      "100%|██████████| 711/711 [01:39<00:00,  7.11it/s]\n"
     ]
    },
    {
     "name": "stdout",
     "output_type": "stream",
     "text": [
      "Train Accuracy: 0.5779, Val Accuracy: 0.5453, Test Accuracy: 0.4909\n",
      "Train loss: 1.4879\n",
      "\n",
      " Epoch 51 training:\n"
     ]
    },
    {
     "name": "stderr",
     "output_type": "stream",
     "text": [
      "100%|██████████| 711/711 [01:40<00:00,  7.10it/s]\n"
     ]
    },
    {
     "name": "stdout",
     "output_type": "stream",
     "text": [
      "Train Accuracy: 0.5795, Val Accuracy: 0.5496, Test Accuracy: 0.4927\n",
      "Train loss: 1.4850\n",
      "\n",
      " Epoch 52 training:\n"
     ]
    },
    {
     "name": "stderr",
     "output_type": "stream",
     "text": [
      "100%|██████████| 711/711 [01:39<00:00,  7.13it/s]\n"
     ]
    },
    {
     "name": "stdout",
     "output_type": "stream",
     "text": [
      "Train Accuracy: 0.5768, Val Accuracy: 0.5461, Test Accuracy: 0.4932\n",
      "Train loss: 1.4866\n",
      "\n",
      " Epoch 53 training:\n"
     ]
    },
    {
     "name": "stderr",
     "output_type": "stream",
     "text": [
      "100%|██████████| 711/711 [01:39<00:00,  7.12it/s]\n"
     ]
    },
    {
     "name": "stdout",
     "output_type": "stream",
     "text": [
      "New best model validation accuracy: 0.55582. Previous: 0.55324\n",
      "Train Accuracy: 0.5817, Val Accuracy: 0.5558, Test Accuracy: 0.4994\n",
      "Train loss: 1.4798\n",
      "\n",
      " Epoch 54 training:\n"
     ]
    },
    {
     "name": "stderr",
     "output_type": "stream",
     "text": [
      "100%|██████████| 711/711 [01:39<00:00,  7.16it/s]\n"
     ]
    },
    {
     "name": "stdout",
     "output_type": "stream",
     "text": [
      "Train Accuracy: 0.5848, Val Accuracy: 0.5552, Test Accuracy: 0.5003\n",
      "Train loss: 1.4800\n",
      "\n",
      " Epoch 55 training:\n"
     ]
    },
    {
     "name": "stderr",
     "output_type": "stream",
     "text": [
      "100%|██████████| 711/711 [01:38<00:00,  7.19it/s]\n"
     ]
    },
    {
     "name": "stdout",
     "output_type": "stream",
     "text": [
      "Train Accuracy: 0.5786, Val Accuracy: 0.5447, Test Accuracy: 0.4877\n",
      "Train loss: 1.4752\n",
      "\n",
      " Epoch 56 training:\n"
     ]
    },
    {
     "name": "stderr",
     "output_type": "stream",
     "text": [
      "100%|██████████| 711/711 [01:39<00:00,  7.13it/s]\n"
     ]
    },
    {
     "name": "stdout",
     "output_type": "stream",
     "text": [
      "Train Accuracy: 0.5833, Val Accuracy: 0.5538, Test Accuracy: 0.5008\n",
      "Train loss: 1.4736\n",
      "\n",
      " Epoch 57 training:\n"
     ]
    },
    {
     "name": "stderr",
     "output_type": "stream",
     "text": [
      "100%|██████████| 711/711 [01:39<00:00,  7.16it/s]\n"
     ]
    },
    {
     "name": "stdout",
     "output_type": "stream",
     "text": [
      "New best model validation accuracy: 0.55888. Previous: 0.55582\n",
      "Train Accuracy: 0.5858, Val Accuracy: 0.5589, Test Accuracy: 0.5056\n",
      "Train loss: 1.4707\n",
      "\n",
      " Epoch 58 training:\n"
     ]
    },
    {
     "name": "stderr",
     "output_type": "stream",
     "text": [
      "100%|██████████| 711/711 [01:39<00:00,  7.13it/s]\n"
     ]
    },
    {
     "name": "stdout",
     "output_type": "stream",
     "text": [
      "Train Accuracy: 0.5890, Val Accuracy: 0.5577, Test Accuracy: 0.5031\n",
      "Train loss: 1.4680\n",
      "\n",
      " Epoch 59 training:\n"
     ]
    },
    {
     "name": "stderr",
     "output_type": "stream",
     "text": [
      "100%|██████████| 711/711 [01:39<00:00,  7.14it/s]\n"
     ]
    },
    {
     "name": "stdout",
     "output_type": "stream",
     "text": [
      "Train Accuracy: 0.5887, Val Accuracy: 0.5588, Test Accuracy: 0.4959\n",
      "Train loss: 1.4686\n",
      "\n",
      " Epoch 60 training:\n"
     ]
    },
    {
     "name": "stderr",
     "output_type": "stream",
     "text": [
      "100%|██████████| 711/711 [01:39<00:00,  7.16it/s]\n"
     ]
    },
    {
     "name": "stdout",
     "output_type": "stream",
     "text": [
      "Train Accuracy: 0.5866, Val Accuracy: 0.5543, Test Accuracy: 0.4908\n",
      "Train loss: 1.4645\n",
      "\n",
      " Epoch 61 training:\n"
     ]
    },
    {
     "name": "stderr",
     "output_type": "stream",
     "text": [
      "100%|██████████| 711/711 [01:39<00:00,  7.13it/s]\n"
     ]
    },
    {
     "name": "stdout",
     "output_type": "stream",
     "text": [
      "Train Accuracy: 0.5895, Val Accuracy: 0.5553, Test Accuracy: 0.5006\n",
      "Train loss: 1.4644\n",
      "\n",
      " Epoch 62 training:\n"
     ]
    },
    {
     "name": "stderr",
     "output_type": "stream",
     "text": [
      "100%|██████████| 711/711 [01:39<00:00,  7.14it/s]\n"
     ]
    },
    {
     "name": "stdout",
     "output_type": "stream",
     "text": [
      "Train Accuracy: 0.5871, Val Accuracy: 0.5476, Test Accuracy: 0.4915\n",
      "Train loss: 1.4561\n",
      "\n",
      " Epoch 63 training:\n"
     ]
    },
    {
     "name": "stderr",
     "output_type": "stream",
     "text": [
      "100%|██████████| 711/711 [01:39<00:00,  7.14it/s]\n"
     ]
    },
    {
     "name": "stdout",
     "output_type": "stream",
     "text": [
      "Train Accuracy: 0.5873, Val Accuracy: 0.5543, Test Accuracy: 0.5044\n",
      "Train loss: 1.4549\n",
      "\n",
      " Epoch 64 training:\n"
     ]
    },
    {
     "name": "stderr",
     "output_type": "stream",
     "text": [
      "100%|██████████| 711/711 [01:39<00:00,  7.14it/s]\n"
     ]
    },
    {
     "name": "stdout",
     "output_type": "stream",
     "text": [
      "Train Accuracy: 0.5854, Val Accuracy: 0.5564, Test Accuracy: 0.5055\n",
      "Train loss: 1.4578\n",
      "\n",
      " Epoch 65 training:\n"
     ]
    },
    {
     "name": "stderr",
     "output_type": "stream",
     "text": [
      "100%|██████████| 711/711 [01:39<00:00,  7.18it/s]\n"
     ]
    },
    {
     "name": "stdout",
     "output_type": "stream",
     "text": [
      "Train Accuracy: 0.5868, Val Accuracy: 0.5567, Test Accuracy: 0.5019\n",
      "Train loss: 1.4539\n",
      "\n",
      " Epoch 66 training:\n"
     ]
    },
    {
     "name": "stderr",
     "output_type": "stream",
     "text": [
      "100%|██████████| 711/711 [01:40<00:00,  7.10it/s]\n"
     ]
    },
    {
     "name": "stdout",
     "output_type": "stream",
     "text": [
      "Train Accuracy: 0.5896, Val Accuracy: 0.5535, Test Accuracy: 0.4951\n",
      "Train loss: 1.4553\n",
      "\n",
      " Epoch 67 training:\n"
     ]
    },
    {
     "name": "stderr",
     "output_type": "stream",
     "text": [
      "100%|██████████| 711/711 [01:39<00:00,  7.18it/s]\n"
     ]
    },
    {
     "name": "stdout",
     "output_type": "stream",
     "text": [
      "Train Accuracy: 0.5928, Val Accuracy: 0.5563, Test Accuracy: 0.4982\n",
      "Train loss: 1.4484\n",
      "\n",
      " Epoch 68 training:\n"
     ]
    },
    {
     "name": "stderr",
     "output_type": "stream",
     "text": [
      "100%|██████████| 711/711 [01:39<00:00,  7.16it/s]\n"
     ]
    },
    {
     "name": "stdout",
     "output_type": "stream",
     "text": [
      "New best model validation accuracy: 0.56274. Previous: 0.55888\n",
      "Train Accuracy: 0.5917, Val Accuracy: 0.5627, Test Accuracy: 0.5026\n",
      "Train loss: 1.4517\n",
      "\n",
      " Epoch 69 training:\n"
     ]
    },
    {
     "name": "stderr",
     "output_type": "stream",
     "text": [
      "100%|██████████| 711/711 [01:39<00:00,  7.16it/s]\n"
     ]
    },
    {
     "name": "stdout",
     "output_type": "stream",
     "text": [
      "Train Accuracy: 0.5916, Val Accuracy: 0.5551, Test Accuracy: 0.4973\n",
      "Train loss: 1.4442\n",
      "\n",
      " Epoch 70 training:\n"
     ]
    },
    {
     "name": "stderr",
     "output_type": "stream",
     "text": [
      "100%|██████████| 711/711 [01:39<00:00,  7.15it/s]\n"
     ]
    },
    {
     "name": "stdout",
     "output_type": "stream",
     "text": [
      "Train Accuracy: 0.5908, Val Accuracy: 0.5586, Test Accuracy: 0.5005\n",
      "Train loss: 1.4428\n",
      "\n",
      " Epoch 71 training:\n"
     ]
    },
    {
     "name": "stderr",
     "output_type": "stream",
     "text": [
      "100%|██████████| 711/711 [01:39<00:00,  7.14it/s]\n"
     ]
    },
    {
     "name": "stdout",
     "output_type": "stream",
     "text": [
      "Train Accuracy: 0.5906, Val Accuracy: 0.5557, Test Accuracy: 0.4980\n",
      "Train loss: 1.4419\n",
      "\n",
      " Epoch 72 training:\n"
     ]
    },
    {
     "name": "stderr",
     "output_type": "stream",
     "text": [
      "100%|██████████| 711/711 [01:39<00:00,  7.17it/s]\n"
     ]
    },
    {
     "name": "stdout",
     "output_type": "stream",
     "text": [
      "Train Accuracy: 0.5861, Val Accuracy: 0.5524, Test Accuracy: 0.4937\n",
      "Train loss: 1.4441\n",
      "\n",
      " Epoch 73 training:\n"
     ]
    },
    {
     "name": "stderr",
     "output_type": "stream",
     "text": [
      "100%|██████████| 711/711 [01:39<00:00,  7.16it/s]\n"
     ]
    },
    {
     "name": "stdout",
     "output_type": "stream",
     "text": [
      "Train Accuracy: 0.5918, Val Accuracy: 0.5539, Test Accuracy: 0.4957\n",
      "Train loss: 1.4415\n",
      "\n",
      " Epoch 74 training:\n"
     ]
    },
    {
     "name": "stderr",
     "output_type": "stream",
     "text": [
      "100%|██████████| 711/711 [01:38<00:00,  7.22it/s]\n"
     ]
    },
    {
     "name": "stdout",
     "output_type": "stream",
     "text": [
      "Train Accuracy: 0.5924, Val Accuracy: 0.5622, Test Accuracy: 0.5016\n",
      "Train loss: 1.4401\n",
      "\n",
      " Epoch 75 training:\n"
     ]
    },
    {
     "name": "stderr",
     "output_type": "stream",
     "text": [
      "100%|██████████| 711/711 [01:39<00:00,  7.12it/s]\n"
     ]
    },
    {
     "name": "stdout",
     "output_type": "stream",
     "text": [
      "Train Accuracy: 0.5939, Val Accuracy: 0.5569, Test Accuracy: 0.5030\n",
      "Train loss: 1.4348\n",
      "\n",
      " Epoch 76 training:\n"
     ]
    },
    {
     "name": "stderr",
     "output_type": "stream",
     "text": [
      "100%|██████████| 711/711 [01:38<00:00,  7.19it/s]\n"
     ]
    },
    {
     "name": "stdout",
     "output_type": "stream",
     "text": [
      "Train Accuracy: 0.5906, Val Accuracy: 0.5524, Test Accuracy: 0.4939\n",
      "Train loss: 1.4336\n",
      "\n",
      " Epoch 77 training:\n"
     ]
    },
    {
     "name": "stderr",
     "output_type": "stream",
     "text": [
      "100%|██████████| 711/711 [01:39<00:00,  7.16it/s]\n"
     ]
    },
    {
     "name": "stdout",
     "output_type": "stream",
     "text": [
      "Train Accuracy: 0.5909, Val Accuracy: 0.5576, Test Accuracy: 0.5063\n",
      "Train loss: 1.4346\n",
      "\n",
      " Epoch 78 training:\n"
     ]
    },
    {
     "name": "stderr",
     "output_type": "stream",
     "text": [
      "100%|██████████| 711/711 [01:39<00:00,  7.12it/s]\n"
     ]
    },
    {
     "name": "stdout",
     "output_type": "stream",
     "text": [
      "Train Accuracy: 0.5923, Val Accuracy: 0.5534, Test Accuracy: 0.5005\n",
      "Train loss: 1.4301\n",
      "\n",
      " Epoch 79 training:\n"
     ]
    },
    {
     "name": "stderr",
     "output_type": "stream",
     "text": [
      "100%|██████████| 711/711 [01:39<00:00,  7.13it/s]\n"
     ]
    },
    {
     "name": "stdout",
     "output_type": "stream",
     "text": [
      "Train Accuracy: 0.5944, Val Accuracy: 0.5563, Test Accuracy: 0.5032\n",
      "Train loss: 1.4277\n",
      "\n",
      " Epoch 80 training:\n"
     ]
    },
    {
     "name": "stderr",
     "output_type": "stream",
     "text": [
      "100%|██████████| 711/711 [01:39<00:00,  7.16it/s]\n"
     ]
    },
    {
     "name": "stdout",
     "output_type": "stream",
     "text": [
      "Train Accuracy: 0.5909, Val Accuracy: 0.5580, Test Accuracy: 0.5013\n",
      "Train loss: 1.4316\n",
      "\n",
      " Epoch 81 training:\n"
     ]
    },
    {
     "name": "stderr",
     "output_type": "stream",
     "text": [
      "100%|██████████| 711/711 [01:39<00:00,  7.18it/s]\n"
     ]
    },
    {
     "name": "stdout",
     "output_type": "stream",
     "text": [
      "Train Accuracy: 0.5914, Val Accuracy: 0.5583, Test Accuracy: 0.5025\n",
      "Train loss: 1.4244\n",
      "\n",
      " Epoch 82 training:\n"
     ]
    },
    {
     "name": "stderr",
     "output_type": "stream",
     "text": [
      "100%|██████████| 711/711 [01:39<00:00,  7.14it/s]\n"
     ]
    },
    {
     "name": "stdout",
     "output_type": "stream",
     "text": [
      "Train Accuracy: 0.5914, Val Accuracy: 0.5556, Test Accuracy: 0.4984\n",
      "Train loss: 1.4246\n",
      "\n",
      " Epoch 83 training:\n"
     ]
    },
    {
     "name": "stderr",
     "output_type": "stream",
     "text": [
      "100%|██████████| 711/711 [01:39<00:00,  7.17it/s]\n"
     ]
    },
    {
     "name": "stdout",
     "output_type": "stream",
     "text": [
      "Train Accuracy: 0.5918, Val Accuracy: 0.5564, Test Accuracy: 0.5040\n",
      "Train loss: 1.4260\n",
      "\n",
      " Epoch 84 training:\n"
     ]
    },
    {
     "name": "stderr",
     "output_type": "stream",
     "text": [
      "100%|██████████| 711/711 [01:39<00:00,  7.14it/s]\n"
     ]
    },
    {
     "name": "stdout",
     "output_type": "stream",
     "text": [
      "Train Accuracy: 0.5932, Val Accuracy: 0.5536, Test Accuracy: 0.4973\n",
      "Train loss: 1.4257\n",
      "\n",
      " Epoch 85 training:\n"
     ]
    },
    {
     "name": "stderr",
     "output_type": "stream",
     "text": [
      "100%|██████████| 711/711 [01:39<00:00,  7.17it/s]\n"
     ]
    },
    {
     "name": "stdout",
     "output_type": "stream",
     "text": [
      "Train Accuracy: 0.5948, Val Accuracy: 0.5581, Test Accuracy: 0.5029\n",
      "Train loss: 1.4168\n",
      "\n",
      " Epoch 86 training:\n"
     ]
    },
    {
     "name": "stderr",
     "output_type": "stream",
     "text": [
      "100%|██████████| 711/711 [01:39<00:00,  7.16it/s]\n"
     ]
    },
    {
     "name": "stdout",
     "output_type": "stream",
     "text": [
      "Train Accuracy: 0.5923, Val Accuracy: 0.5514, Test Accuracy: 0.4914\n",
      "Train loss: 1.4137\n",
      "\n",
      " Epoch 87 training:\n"
     ]
    },
    {
     "name": "stderr",
     "output_type": "stream",
     "text": [
      "100%|██████████| 711/711 [01:38<00:00,  7.19it/s]\n"
     ]
    },
    {
     "name": "stdout",
     "output_type": "stream",
     "text": [
      "Train Accuracy: 0.5952, Val Accuracy: 0.5569, Test Accuracy: 0.4978\n",
      "Train loss: 1.4170\n",
      "\n",
      " Epoch 88 training:\n"
     ]
    },
    {
     "name": "stderr",
     "output_type": "stream",
     "text": [
      "100%|██████████| 711/711 [01:39<00:00,  7.16it/s]\n"
     ]
    },
    {
     "name": "stdout",
     "output_type": "stream",
     "text": [
      "Train Accuracy: 0.5940, Val Accuracy: 0.5587, Test Accuracy: 0.5026\n",
      "Train loss: 1.4207\n",
      "\n",
      " Epoch 89 training:\n"
     ]
    },
    {
     "name": "stderr",
     "output_type": "stream",
     "text": [
      "100%|██████████| 711/711 [01:39<00:00,  7.17it/s]\n"
     ]
    },
    {
     "name": "stdout",
     "output_type": "stream",
     "text": [
      "Train Accuracy: 0.5987, Val Accuracy: 0.5618, Test Accuracy: 0.5069\n",
      "Train loss: 1.4135\n",
      "\n",
      " Epoch 90 training:\n"
     ]
    },
    {
     "name": "stderr",
     "output_type": "stream",
     "text": [
      "100%|██████████| 711/711 [01:38<00:00,  7.20it/s]\n"
     ]
    },
    {
     "name": "stdout",
     "output_type": "stream",
     "text": [
      "Train Accuracy: 0.5901, Val Accuracy: 0.5587, Test Accuracy: 0.5058\n",
      "Train loss: 1.4152\n",
      "\n",
      " Epoch 91 training:\n"
     ]
    },
    {
     "name": "stderr",
     "output_type": "stream",
     "text": [
      "100%|██████████| 711/711 [01:39<00:00,  7.18it/s]\n"
     ]
    },
    {
     "name": "stdout",
     "output_type": "stream",
     "text": [
      "New best model validation accuracy: 0.56351. Previous: 0.56274\n",
      "Train Accuracy: 0.5987, Val Accuracy: 0.5635, Test Accuracy: 0.5072\n",
      "Train loss: 1.4133\n",
      "\n",
      " Epoch 92 training:\n"
     ]
    },
    {
     "name": "stderr",
     "output_type": "stream",
     "text": [
      "100%|██████████| 711/711 [01:39<00:00,  7.15it/s]\n"
     ]
    },
    {
     "name": "stdout",
     "output_type": "stream",
     "text": [
      "Train Accuracy: 0.5987, Val Accuracy: 0.5569, Test Accuracy: 0.4990\n",
      "Train loss: 1.4173\n",
      "\n",
      " Epoch 93 training:\n"
     ]
    },
    {
     "name": "stderr",
     "output_type": "stream",
     "text": [
      "100%|██████████| 711/711 [01:39<00:00,  7.16it/s]\n"
     ]
    },
    {
     "name": "stdout",
     "output_type": "stream",
     "text": [
      "Train Accuracy: 0.5949, Val Accuracy: 0.5526, Test Accuracy: 0.5013\n",
      "Train loss: 1.4117\n",
      "\n",
      " Epoch 94 training:\n"
     ]
    },
    {
     "name": "stderr",
     "output_type": "stream",
     "text": [
      "100%|██████████| 711/711 [01:39<00:00,  7.13it/s]\n"
     ]
    },
    {
     "name": "stdout",
     "output_type": "stream",
     "text": [
      "Train Accuracy: 0.6009, Val Accuracy: 0.5629, Test Accuracy: 0.5047\n",
      "Train loss: 1.4075\n",
      "\n",
      " Epoch 95 training:\n"
     ]
    },
    {
     "name": "stderr",
     "output_type": "stream",
     "text": [
      "100%|██████████| 711/711 [01:39<00:00,  7.16it/s]\n"
     ]
    },
    {
     "name": "stdout",
     "output_type": "stream",
     "text": [
      "Train Accuracy: 0.5959, Val Accuracy: 0.5551, Test Accuracy: 0.4989\n",
      "Train loss: 1.4074\n",
      "\n",
      " Epoch 96 training:\n"
     ]
    },
    {
     "name": "stderr",
     "output_type": "stream",
     "text": [
      "100%|██████████| 711/711 [01:39<00:00,  7.15it/s]\n"
     ]
    },
    {
     "name": "stdout",
     "output_type": "stream",
     "text": [
      "Train Accuracy: 0.5967, Val Accuracy: 0.5562, Test Accuracy: 0.5007\n",
      "Train loss: 1.4065\n",
      "\n",
      " Epoch 97 training:\n"
     ]
    },
    {
     "name": "stderr",
     "output_type": "stream",
     "text": [
      "100%|██████████| 711/711 [01:40<00:00,  7.09it/s]\n"
     ]
    },
    {
     "name": "stdout",
     "output_type": "stream",
     "text": [
      "Train Accuracy: 0.5992, Val Accuracy: 0.5575, Test Accuracy: 0.4989\n",
      "Train loss: 1.4029\n",
      "\n",
      " Epoch 98 training:\n"
     ]
    },
    {
     "name": "stderr",
     "output_type": "stream",
     "text": [
      "100%|██████████| 711/711 [01:39<00:00,  7.14it/s]\n"
     ]
    },
    {
     "name": "stdout",
     "output_type": "stream",
     "text": [
      "Train Accuracy: 0.6015, Val Accuracy: 0.5608, Test Accuracy: 0.5030\n",
      "Train loss: 1.4078\n",
      "\n",
      " Epoch 99 training:\n"
     ]
    },
    {
     "name": "stderr",
     "output_type": "stream",
     "text": [
      "100%|██████████| 711/711 [01:39<00:00,  7.16it/s]\n"
     ]
    },
    {
     "name": "stdout",
     "output_type": "stream",
     "text": [
      "Train Accuracy: 0.6022, Val Accuracy: 0.5623, Test Accuracy: 0.5041\n",
      "Train loss: 1.4004\n",
      "\n",
      " Epoch 100 training:\n"
     ]
    },
    {
     "name": "stderr",
     "output_type": "stream",
     "text": [
      "100%|██████████| 711/711 [01:38<00:00,  7.18it/s]\n"
     ]
    },
    {
     "name": "stdout",
     "output_type": "stream",
     "text": [
      "Train Accuracy: 0.6007, Val Accuracy: 0.5590, Test Accuracy: 0.4998\n",
      "Train loss: 1.4036\n",
      "\n",
      " Epoch 101 training:\n"
     ]
    },
    {
     "name": "stderr",
     "output_type": "stream",
     "text": [
      "100%|██████████| 711/711 [01:39<00:00,  7.15it/s]\n"
     ]
    },
    {
     "name": "stdout",
     "output_type": "stream",
     "text": [
      "Train Accuracy: 0.5978, Val Accuracy: 0.5549, Test Accuracy: 0.4938\n",
      "Train loss: 1.3999\n",
      "\n",
      " Epoch 102 training:\n"
     ]
    },
    {
     "name": "stderr",
     "output_type": "stream",
     "text": [
      "100%|██████████| 711/711 [01:39<00:00,  7.17it/s]\n"
     ]
    },
    {
     "name": "stdout",
     "output_type": "stream",
     "text": [
      "New best model validation accuracy: 0.56626. Previous: 0.56351\n",
      "Train Accuracy: 0.6033, Val Accuracy: 0.5663, Test Accuracy: 0.5067\n",
      "Train loss: 1.3983\n",
      "\n",
      " Epoch 103 training:\n"
     ]
    },
    {
     "name": "stderr",
     "output_type": "stream",
     "text": [
      "100%|██████████| 711/711 [01:38<00:00,  7.21it/s]\n"
     ]
    },
    {
     "name": "stdout",
     "output_type": "stream",
     "text": [
      "Train Accuracy: 0.6027, Val Accuracy: 0.5630, Test Accuracy: 0.5040\n",
      "Train loss: 1.3985\n",
      "\n",
      " Epoch 104 training:\n"
     ]
    },
    {
     "name": "stderr",
     "output_type": "stream",
     "text": [
      "100%|██████████| 711/711 [01:38<00:00,  7.19it/s]\n"
     ]
    },
    {
     "name": "stdout",
     "output_type": "stream",
     "text": [
      "Train Accuracy: 0.5959, Val Accuracy: 0.5558, Test Accuracy: 0.4991\n",
      "Train loss: 1.3989\n",
      "\n",
      " Epoch 105 training:\n"
     ]
    },
    {
     "name": "stderr",
     "output_type": "stream",
     "text": [
      "100%|██████████| 711/711 [01:38<00:00,  7.21it/s]\n"
     ]
    },
    {
     "name": "stdout",
     "output_type": "stream",
     "text": [
      "Train Accuracy: 0.5976, Val Accuracy: 0.5590, Test Accuracy: 0.5029\n",
      "Train loss: 1.3950\n",
      "\n",
      " Epoch 106 training:\n"
     ]
    },
    {
     "name": "stderr",
     "output_type": "stream",
     "text": [
      "100%|██████████| 711/711 [01:39<00:00,  7.17it/s]\n"
     ]
    },
    {
     "name": "stdout",
     "output_type": "stream",
     "text": [
      "Train Accuracy: 0.5981, Val Accuracy: 0.5614, Test Accuracy: 0.5034\n",
      "Train loss: 1.3974\n",
      "\n",
      " Epoch 107 training:\n"
     ]
    },
    {
     "name": "stderr",
     "output_type": "stream",
     "text": [
      "100%|██████████| 711/711 [01:39<00:00,  7.17it/s]\n"
     ]
    },
    {
     "name": "stdout",
     "output_type": "stream",
     "text": [
      "Train Accuracy: 0.6032, Val Accuracy: 0.5653, Test Accuracy: 0.5049\n",
      "Train loss: 1.3943\n",
      "\n",
      " Epoch 108 training:\n"
     ]
    },
    {
     "name": "stderr",
     "output_type": "stream",
     "text": [
      "100%|██████████| 711/711 [01:38<00:00,  7.23it/s]\n"
     ]
    },
    {
     "name": "stdout",
     "output_type": "stream",
     "text": [
      "Train Accuracy: 0.6050, Val Accuracy: 0.5539, Test Accuracy: 0.4972\n",
      "Train loss: 1.4001\n",
      "\n",
      " Epoch 109 training:\n"
     ]
    },
    {
     "name": "stderr",
     "output_type": "stream",
     "text": [
      "100%|██████████| 711/711 [01:39<00:00,  7.18it/s]\n"
     ]
    },
    {
     "name": "stdout",
     "output_type": "stream",
     "text": [
      "Train Accuracy: 0.6039, Val Accuracy: 0.5574, Test Accuracy: 0.4963\n",
      "Train loss: 1.3909\n",
      "\n",
      " Epoch 110 training:\n"
     ]
    },
    {
     "name": "stderr",
     "output_type": "stream",
     "text": [
      "100%|██████████| 711/711 [01:39<00:00,  7.14it/s]\n"
     ]
    },
    {
     "name": "stdout",
     "output_type": "stream",
     "text": [
      "Train Accuracy: 0.6073, Val Accuracy: 0.5599, Test Accuracy: 0.4991\n",
      "Train loss: 1.3969\n",
      "\n",
      " Epoch 111 training:\n"
     ]
    },
    {
     "name": "stderr",
     "output_type": "stream",
     "text": [
      "100%|██████████| 711/711 [01:39<00:00,  7.17it/s]\n"
     ]
    },
    {
     "name": "stdout",
     "output_type": "stream",
     "text": [
      "Train Accuracy: 0.6055, Val Accuracy: 0.5599, Test Accuracy: 0.5002\n",
      "Train loss: 1.3917\n",
      "\n",
      " Epoch 112 training:\n"
     ]
    },
    {
     "name": "stderr",
     "output_type": "stream",
     "text": [
      "100%|██████████| 711/711 [01:39<00:00,  7.12it/s]\n"
     ]
    },
    {
     "name": "stdout",
     "output_type": "stream",
     "text": [
      "Train Accuracy: 0.6038, Val Accuracy: 0.5601, Test Accuracy: 0.5008\n",
      "Train loss: 1.3921\n",
      "\n",
      " Epoch 113 training:\n"
     ]
    },
    {
     "name": "stderr",
     "output_type": "stream",
     "text": [
      "100%|██████████| 711/711 [01:39<00:00,  7.13it/s]\n"
     ]
    },
    {
     "name": "stdout",
     "output_type": "stream",
     "text": [
      "Train Accuracy: 0.6029, Val Accuracy: 0.5592, Test Accuracy: 0.4982\n",
      "Train loss: 1.3908\n",
      "\n",
      " Epoch 114 training:\n"
     ]
    },
    {
     "name": "stderr",
     "output_type": "stream",
     "text": [
      "100%|██████████| 711/711 [01:39<00:00,  7.16it/s]\n"
     ]
    },
    {
     "name": "stdout",
     "output_type": "stream",
     "text": [
      "Train Accuracy: 0.6046, Val Accuracy: 0.5566, Test Accuracy: 0.4965\n",
      "Train loss: 1.3890\n",
      "\n",
      " Epoch 115 training:\n"
     ]
    },
    {
     "name": "stderr",
     "output_type": "stream",
     "text": [
      "100%|██████████| 711/711 [01:39<00:00,  7.18it/s]\n"
     ]
    },
    {
     "name": "stdout",
     "output_type": "stream",
     "text": [
      "Train Accuracy: 0.6010, Val Accuracy: 0.5583, Test Accuracy: 0.4996\n",
      "Train loss: 1.3864\n",
      "\n",
      " Epoch 116 training:\n"
     ]
    },
    {
     "name": "stderr",
     "output_type": "stream",
     "text": [
      "100%|██████████| 711/711 [01:39<00:00,  7.15it/s]\n"
     ]
    },
    {
     "name": "stdout",
     "output_type": "stream",
     "text": [
      "Train Accuracy: 0.6025, Val Accuracy: 0.5612, Test Accuracy: 0.5023\n",
      "Train loss: 1.3849\n",
      "\n",
      " Epoch 117 training:\n"
     ]
    },
    {
     "name": "stderr",
     "output_type": "stream",
     "text": [
      "100%|██████████| 711/711 [01:39<00:00,  7.17it/s]\n"
     ]
    },
    {
     "name": "stdout",
     "output_type": "stream",
     "text": [
      "Train Accuracy: 0.6060, Val Accuracy: 0.5622, Test Accuracy: 0.5022\n",
      "Train loss: 1.3909\n",
      "\n",
      " Epoch 118 training:\n"
     ]
    },
    {
     "name": "stderr",
     "output_type": "stream",
     "text": [
      "100%|██████████| 711/711 [01:39<00:00,  7.18it/s]\n"
     ]
    },
    {
     "name": "stdout",
     "output_type": "stream",
     "text": [
      "Train Accuracy: 0.6048, Val Accuracy: 0.5606, Test Accuracy: 0.5049\n",
      "Train loss: 1.3857\n",
      "\n",
      " Epoch 119 training:\n"
     ]
    },
    {
     "name": "stderr",
     "output_type": "stream",
     "text": [
      "100%|██████████| 711/711 [01:39<00:00,  7.14it/s]\n"
     ]
    },
    {
     "name": "stdout",
     "output_type": "stream",
     "text": [
      "Train Accuracy: 0.6063, Val Accuracy: 0.5641, Test Accuracy: 0.5073\n",
      "Train loss: 1.3890\n",
      "\n",
      " Epoch 120 training:\n"
     ]
    },
    {
     "name": "stderr",
     "output_type": "stream",
     "text": [
      "100%|██████████| 711/711 [01:39<00:00,  7.18it/s]\n"
     ]
    },
    {
     "name": "stdout",
     "output_type": "stream",
     "text": [
      "Train Accuracy: 0.6064, Val Accuracy: 0.5625, Test Accuracy: 0.5033\n",
      "Train loss: 1.3829\n",
      "\n",
      " Epoch 121 training:\n"
     ]
    },
    {
     "name": "stderr",
     "output_type": "stream",
     "text": [
      "100%|██████████| 711/711 [01:39<00:00,  7.15it/s]\n"
     ]
    },
    {
     "name": "stdout",
     "output_type": "stream",
     "text": [
      "Train Accuracy: 0.6082, Val Accuracy: 0.5632, Test Accuracy: 0.5109\n",
      "Train loss: 1.3810\n",
      "\n",
      " Epoch 122 training:\n"
     ]
    },
    {
     "name": "stderr",
     "output_type": "stream",
     "text": [
      "100%|██████████| 711/711 [01:38<00:00,  7.21it/s]\n"
     ]
    },
    {
     "name": "stdout",
     "output_type": "stream",
     "text": [
      "Train Accuracy: 0.6045, Val Accuracy: 0.5579, Test Accuracy: 0.5055\n",
      "Train loss: 1.3801\n",
      "\n",
      " Epoch 123 training:\n"
     ]
    },
    {
     "name": "stderr",
     "output_type": "stream",
     "text": [
      "100%|██████████| 711/711 [01:39<00:00,  7.16it/s]\n"
     ]
    },
    {
     "name": "stdout",
     "output_type": "stream",
     "text": [
      "Train Accuracy: 0.6051, Val Accuracy: 0.5639, Test Accuracy: 0.5073\n",
      "Train loss: 1.3757\n",
      "\n",
      " Epoch 124 training:\n"
     ]
    },
    {
     "name": "stderr",
     "output_type": "stream",
     "text": [
      "100%|██████████| 711/711 [01:39<00:00,  7.18it/s]\n"
     ]
    },
    {
     "name": "stdout",
     "output_type": "stream",
     "text": [
      "New best model validation accuracy: 0.56633. Previous: 0.56626\n",
      "Train Accuracy: 0.6108, Val Accuracy: 0.5663, Test Accuracy: 0.5056\n",
      "Train loss: 1.3758\n",
      "\n",
      " Epoch 125 training:\n"
     ]
    },
    {
     "name": "stderr",
     "output_type": "stream",
     "text": [
      "100%|██████████| 711/711 [01:39<00:00,  7.17it/s]\n"
     ]
    },
    {
     "name": "stdout",
     "output_type": "stream",
     "text": [
      "Train Accuracy: 0.6060, Val Accuracy: 0.5622, Test Accuracy: 0.5042\n",
      "Train loss: 1.3797\n",
      "\n",
      " Epoch 126 training:\n"
     ]
    },
    {
     "name": "stderr",
     "output_type": "stream",
     "text": [
      "100%|██████████| 711/711 [01:39<00:00,  7.15it/s]\n"
     ]
    },
    {
     "name": "stdout",
     "output_type": "stream",
     "text": [
      "Train Accuracy: 0.6064, Val Accuracy: 0.5575, Test Accuracy: 0.4992\n",
      "Train loss: 1.3761\n",
      "\n",
      " Epoch 127 training:\n"
     ]
    },
    {
     "name": "stderr",
     "output_type": "stream",
     "text": [
      "100%|██████████| 711/711 [01:39<00:00,  7.16it/s]\n"
     ]
    },
    {
     "name": "stdout",
     "output_type": "stream",
     "text": [
      "Train Accuracy: 0.6047, Val Accuracy: 0.5535, Test Accuracy: 0.4946\n",
      "Train loss: 1.3761\n",
      "\n",
      " Epoch 128 training:\n"
     ]
    },
    {
     "name": "stderr",
     "output_type": "stream",
     "text": [
      "100%|██████████| 711/711 [01:39<00:00,  7.18it/s]\n"
     ]
    },
    {
     "name": "stdout",
     "output_type": "stream",
     "text": [
      "Train Accuracy: 0.6052, Val Accuracy: 0.5625, Test Accuracy: 0.5048\n",
      "Train loss: 1.3746\n",
      "\n",
      " Epoch 129 training:\n"
     ]
    },
    {
     "name": "stderr",
     "output_type": "stream",
     "text": [
      "100%|██████████| 711/711 [01:38<00:00,  7.19it/s]\n"
     ]
    },
    {
     "name": "stdout",
     "output_type": "stream",
     "text": [
      "Train Accuracy: 0.6069, Val Accuracy: 0.5595, Test Accuracy: 0.5018\n",
      "Train loss: 1.3742\n",
      "\n",
      " Epoch 130 training:\n"
     ]
    },
    {
     "name": "stderr",
     "output_type": "stream",
     "text": [
      "100%|██████████| 711/711 [01:39<00:00,  7.18it/s]\n"
     ]
    },
    {
     "name": "stdout",
     "output_type": "stream",
     "text": [
      "Train Accuracy: 0.6060, Val Accuracy: 0.5579, Test Accuracy: 0.4978\n",
      "Train loss: 1.3786\n",
      "\n",
      " Epoch 131 training:\n"
     ]
    },
    {
     "name": "stderr",
     "output_type": "stream",
     "text": [
      "100%|██████████| 711/711 [01:38<00:00,  7.20it/s]\n"
     ]
    },
    {
     "name": "stdout",
     "output_type": "stream",
     "text": [
      "Train Accuracy: 0.6061, Val Accuracy: 0.5626, Test Accuracy: 0.5007\n",
      "Train loss: 1.3788\n",
      "\n",
      " Epoch 132 training:\n"
     ]
    },
    {
     "name": "stderr",
     "output_type": "stream",
     "text": [
      "100%|██████████| 711/711 [01:38<00:00,  7.18it/s]\n"
     ]
    },
    {
     "name": "stdout",
     "output_type": "stream",
     "text": [
      "Train Accuracy: 0.6085, Val Accuracy: 0.5604, Test Accuracy: 0.5007\n",
      "Train loss: 1.3748\n",
      "\n",
      " Epoch 133 training:\n"
     ]
    },
    {
     "name": "stderr",
     "output_type": "stream",
     "text": [
      "100%|██████████| 711/711 [01:39<00:00,  7.12it/s]\n"
     ]
    },
    {
     "name": "stdout",
     "output_type": "stream",
     "text": [
      "Train Accuracy: 0.6119, Val Accuracy: 0.5641, Test Accuracy: 0.4994\n",
      "Train loss: 1.3718\n",
      "\n",
      " Epoch 134 training:\n"
     ]
    },
    {
     "name": "stderr",
     "output_type": "stream",
     "text": [
      "100%|██████████| 711/711 [01:39<00:00,  7.13it/s]\n"
     ]
    },
    {
     "name": "stdout",
     "output_type": "stream",
     "text": [
      "Train Accuracy: 0.6113, Val Accuracy: 0.5640, Test Accuracy: 0.5063\n",
      "Train loss: 1.3681\n",
      "\n",
      " Epoch 135 training:\n"
     ]
    },
    {
     "name": "stderr",
     "output_type": "stream",
     "text": [
      "100%|██████████| 711/711 [01:39<00:00,  7.14it/s]\n"
     ]
    },
    {
     "name": "stdout",
     "output_type": "stream",
     "text": [
      "Train Accuracy: 0.6084, Val Accuracy: 0.5620, Test Accuracy: 0.5034\n",
      "Train loss: 1.3739\n",
      "\n",
      " Epoch 136 training:\n"
     ]
    },
    {
     "name": "stderr",
     "output_type": "stream",
     "text": [
      "100%|██████████| 711/711 [01:39<00:00,  7.15it/s]\n"
     ]
    },
    {
     "name": "stdout",
     "output_type": "stream",
     "text": [
      "Train Accuracy: 0.6057, Val Accuracy: 0.5624, Test Accuracy: 0.5008\n",
      "Train loss: 1.3710\n",
      "\n",
      " Epoch 137 training:\n"
     ]
    },
    {
     "name": "stderr",
     "output_type": "stream",
     "text": [
      "100%|██████████| 711/711 [01:38<00:00,  7.20it/s]\n"
     ]
    },
    {
     "name": "stdout",
     "output_type": "stream",
     "text": [
      "Train Accuracy: 0.6073, Val Accuracy: 0.5614, Test Accuracy: 0.5006\n",
      "Train loss: 1.3723\n",
      "\n",
      " Epoch 138 training:\n"
     ]
    },
    {
     "name": "stderr",
     "output_type": "stream",
     "text": [
      "100%|██████████| 711/711 [01:39<00:00,  7.14it/s]\n"
     ]
    },
    {
     "name": "stdout",
     "output_type": "stream",
     "text": [
      "Train Accuracy: 0.6105, Val Accuracy: 0.5646, Test Accuracy: 0.5040\n",
      "Train loss: 1.3700\n",
      "\n",
      " Epoch 139 training:\n"
     ]
    },
    {
     "name": "stderr",
     "output_type": "stream",
     "text": [
      "100%|██████████| 711/711 [01:39<00:00,  7.14it/s]\n"
     ]
    },
    {
     "name": "stdout",
     "output_type": "stream",
     "text": [
      "Train Accuracy: 0.6089, Val Accuracy: 0.5631, Test Accuracy: 0.5063\n",
      "Train loss: 1.3675\n",
      "\n",
      " Epoch 140 training:\n"
     ]
    },
    {
     "name": "stderr",
     "output_type": "stream",
     "text": [
      "100%|██████████| 711/711 [01:39<00:00,  7.13it/s]\n"
     ]
    },
    {
     "name": "stdout",
     "output_type": "stream",
     "text": [
      "New best model validation accuracy: 0.56653. Previous: 0.56633\n",
      "Train Accuracy: 0.6095, Val Accuracy: 0.5665, Test Accuracy: 0.5087\n",
      "Train loss: 1.3652\n",
      "\n",
      " Epoch 141 training:\n"
     ]
    },
    {
     "name": "stderr",
     "output_type": "stream",
     "text": [
      "100%|██████████| 711/711 [01:39<00:00,  7.16it/s]\n"
     ]
    },
    {
     "name": "stdout",
     "output_type": "stream",
     "text": [
      "Train Accuracy: 0.6096, Val Accuracy: 0.5654, Test Accuracy: 0.5036\n",
      "Train loss: 1.3698\n",
      "\n",
      " Epoch 142 training:\n"
     ]
    },
    {
     "name": "stderr",
     "output_type": "stream",
     "text": [
      "100%|██████████| 711/711 [01:39<00:00,  7.16it/s]\n"
     ]
    },
    {
     "name": "stdout",
     "output_type": "stream",
     "text": [
      "Train Accuracy: 0.6107, Val Accuracy: 0.5628, Test Accuracy: 0.5053\n",
      "Train loss: 1.3653\n",
      "\n",
      " Epoch 143 training:\n"
     ]
    },
    {
     "name": "stderr",
     "output_type": "stream",
     "text": [
      "100%|██████████| 711/711 [01:38<00:00,  7.18it/s]\n"
     ]
    },
    {
     "name": "stdout",
     "output_type": "stream",
     "text": [
      "Train Accuracy: 0.6083, Val Accuracy: 0.5618, Test Accuracy: 0.5019\n",
      "Train loss: 1.3658\n",
      "\n",
      " Epoch 144 training:\n"
     ]
    },
    {
     "name": "stderr",
     "output_type": "stream",
     "text": [
      "100%|██████████| 711/711 [01:39<00:00,  7.15it/s]\n"
     ]
    },
    {
     "name": "stdout",
     "output_type": "stream",
     "text": [
      "Train Accuracy: 0.6100, Val Accuracy: 0.5623, Test Accuracy: 0.5020\n",
      "Train loss: 1.3636\n",
      "\n",
      " Epoch 145 training:\n"
     ]
    },
    {
     "name": "stderr",
     "output_type": "stream",
     "text": [
      "100%|██████████| 711/711 [01:39<00:00,  7.15it/s]\n"
     ]
    },
    {
     "name": "stdout",
     "output_type": "stream",
     "text": [
      "Train Accuracy: 0.6066, Val Accuracy: 0.5623, Test Accuracy: 0.5034\n",
      "Train loss: 1.3617\n",
      "\n",
      " Epoch 146 training:\n"
     ]
    },
    {
     "name": "stderr",
     "output_type": "stream",
     "text": [
      "100%|██████████| 711/711 [01:39<00:00,  7.17it/s]\n"
     ]
    },
    {
     "name": "stdout",
     "output_type": "stream",
     "text": [
      "Train Accuracy: 0.6115, Val Accuracy: 0.5643, Test Accuracy: 0.5031\n",
      "Train loss: 1.3610\n",
      "\n",
      " Epoch 147 training:\n"
     ]
    },
    {
     "name": "stderr",
     "output_type": "stream",
     "text": [
      "100%|██████████| 711/711 [01:39<00:00,  7.17it/s]\n"
     ]
    },
    {
     "name": "stdout",
     "output_type": "stream",
     "text": [
      "Train Accuracy: 0.6087, Val Accuracy: 0.5601, Test Accuracy: 0.5019\n",
      "Train loss: 1.3607\n",
      "\n",
      " Epoch 148 training:\n"
     ]
    },
    {
     "name": "stderr",
     "output_type": "stream",
     "text": [
      "100%|██████████| 711/711 [01:39<00:00,  7.14it/s]\n"
     ]
    },
    {
     "name": "stdout",
     "output_type": "stream",
     "text": [
      "Train Accuracy: 0.6109, Val Accuracy: 0.5653, Test Accuracy: 0.5034\n",
      "Train loss: 1.3611\n",
      "\n",
      " Epoch 149 training:\n"
     ]
    },
    {
     "name": "stderr",
     "output_type": "stream",
     "text": [
      "100%|██████████| 711/711 [01:39<00:00,  7.18it/s]\n"
     ]
    },
    {
     "name": "stdout",
     "output_type": "stream",
     "text": [
      "Train Accuracy: 0.6090, Val Accuracy: 0.5625, Test Accuracy: 0.5026\n",
      "Train loss: 1.3610\n",
      "\n",
      " Epoch 150 training:\n"
     ]
    },
    {
     "name": "stderr",
     "output_type": "stream",
     "text": [
      "100%|██████████| 711/711 [01:39<00:00,  7.16it/s]\n"
     ]
    },
    {
     "name": "stdout",
     "output_type": "stream",
     "text": [
      "Train Accuracy: 0.6085, Val Accuracy: 0.5598, Test Accuracy: 0.4999\n",
      "Train loss: 1.3657\n",
      "\n",
      " Epoch 151 training:\n"
     ]
    },
    {
     "name": "stderr",
     "output_type": "stream",
     "text": [
      "100%|██████████| 711/711 [01:39<00:00,  7.14it/s]\n"
     ]
    },
    {
     "name": "stdout",
     "output_type": "stream",
     "text": [
      "Train Accuracy: 0.6078, Val Accuracy: 0.5606, Test Accuracy: 0.5014\n",
      "Train loss: 1.3623\n",
      "\n",
      " Epoch 152 training:\n"
     ]
    },
    {
     "name": "stderr",
     "output_type": "stream",
     "text": [
      "100%|██████████| 711/711 [01:39<00:00,  7.18it/s]\n"
     ]
    },
    {
     "name": "stdout",
     "output_type": "stream",
     "text": [
      "New best model validation accuracy: 0.56670. Previous: 0.56653\n",
      "Train Accuracy: 0.6110, Val Accuracy: 0.5667, Test Accuracy: 0.5022\n",
      "Train loss: 1.3598\n",
      "\n",
      " Epoch 153 training:\n"
     ]
    },
    {
     "name": "stderr",
     "output_type": "stream",
     "text": [
      "100%|██████████| 711/711 [01:39<00:00,  7.13it/s]\n"
     ]
    },
    {
     "name": "stdout",
     "output_type": "stream",
     "text": [
      "New best model validation accuracy: 0.56790. Previous: 0.56670\n",
      "Train Accuracy: 0.6150, Val Accuracy: 0.5679, Test Accuracy: 0.5075\n",
      "Train loss: 1.3632\n",
      "\n",
      " Epoch 154 training:\n"
     ]
    },
    {
     "name": "stderr",
     "output_type": "stream",
     "text": [
      "100%|██████████| 711/711 [01:39<00:00,  7.14it/s]\n"
     ]
    },
    {
     "name": "stdout",
     "output_type": "stream",
     "text": [
      "Train Accuracy: 0.6148, Val Accuracy: 0.5648, Test Accuracy: 0.5014\n",
      "Train loss: 1.3628\n",
      "\n",
      " Epoch 155 training:\n"
     ]
    },
    {
     "name": "stderr",
     "output_type": "stream",
     "text": [
      "100%|██████████| 711/711 [01:39<00:00,  7.16it/s]\n"
     ]
    },
    {
     "name": "stdout",
     "output_type": "stream",
     "text": [
      "New best model validation accuracy: 0.56864. Previous: 0.56790\n",
      "Train Accuracy: 0.6147, Val Accuracy: 0.5686, Test Accuracy: 0.5048\n",
      "Train loss: 1.3568\n",
      "\n",
      " Epoch 156 training:\n"
     ]
    },
    {
     "name": "stderr",
     "output_type": "stream",
     "text": [
      "100%|██████████| 711/711 [01:39<00:00,  7.14it/s]\n"
     ]
    },
    {
     "name": "stdout",
     "output_type": "stream",
     "text": [
      "Train Accuracy: 0.6060, Val Accuracy: 0.5560, Test Accuracy: 0.5016\n",
      "Train loss: 1.3568\n",
      "\n",
      " Epoch 157 training:\n"
     ]
    },
    {
     "name": "stderr",
     "output_type": "stream",
     "text": [
      "100%|██████████| 711/711 [01:39<00:00,  7.13it/s]\n"
     ]
    },
    {
     "name": "stdout",
     "output_type": "stream",
     "text": [
      "Train Accuracy: 0.6126, Val Accuracy: 0.5625, Test Accuracy: 0.5005\n",
      "Train loss: 1.3523\n",
      "\n",
      " Epoch 158 training:\n"
     ]
    },
    {
     "name": "stderr",
     "output_type": "stream",
     "text": [
      "100%|██████████| 711/711 [01:39<00:00,  7.15it/s]\n"
     ]
    },
    {
     "name": "stdout",
     "output_type": "stream",
     "text": [
      "Train Accuracy: 0.6126, Val Accuracy: 0.5626, Test Accuracy: 0.5029\n",
      "Train loss: 1.3568\n",
      "\n",
      " Epoch 159 training:\n"
     ]
    },
    {
     "name": "stderr",
     "output_type": "stream",
     "text": [
      "100%|██████████| 711/711 [01:38<00:00,  7.23it/s]\n"
     ]
    },
    {
     "name": "stdout",
     "output_type": "stream",
     "text": [
      "Train Accuracy: 0.6128, Val Accuracy: 0.5656, Test Accuracy: 0.5063\n",
      "Train loss: 1.3544\n",
      "\n",
      " Epoch 160 training:\n"
     ]
    },
    {
     "name": "stderr",
     "output_type": "stream",
     "text": [
      "100%|██████████| 711/711 [01:39<00:00,  7.17it/s]\n"
     ]
    },
    {
     "name": "stdout",
     "output_type": "stream",
     "text": [
      "Train Accuracy: 0.6129, Val Accuracy: 0.5670, Test Accuracy: 0.5090\n",
      "Train loss: 1.3519\n",
      "\n",
      " Epoch 161 training:\n"
     ]
    },
    {
     "name": "stderr",
     "output_type": "stream",
     "text": [
      "100%|██████████| 711/711 [01:39<00:00,  7.18it/s]\n"
     ]
    },
    {
     "name": "stdout",
     "output_type": "stream",
     "text": [
      "Train Accuracy: 0.6157, Val Accuracy: 0.5660, Test Accuracy: 0.5071\n",
      "Train loss: 1.3549\n",
      "\n",
      " Epoch 162 training:\n"
     ]
    },
    {
     "name": "stderr",
     "output_type": "stream",
     "text": [
      "100%|██████████| 711/711 [01:38<00:00,  7.18it/s]\n"
     ]
    },
    {
     "name": "stdout",
     "output_type": "stream",
     "text": [
      "Train Accuracy: 0.6128, Val Accuracy: 0.5640, Test Accuracy: 0.5027\n",
      "Train loss: 1.3489\n",
      "\n",
      " Epoch 163 training:\n"
     ]
    },
    {
     "name": "stderr",
     "output_type": "stream",
     "text": [
      "100%|██████████| 711/711 [01:39<00:00,  7.18it/s]\n"
     ]
    },
    {
     "name": "stdout",
     "output_type": "stream",
     "text": [
      "Train Accuracy: 0.6112, Val Accuracy: 0.5657, Test Accuracy: 0.5060\n",
      "Train loss: 1.3590\n",
      "\n",
      " Epoch 164 training:\n"
     ]
    },
    {
     "name": "stderr",
     "output_type": "stream",
     "text": [
      "100%|██████████| 711/711 [01:39<00:00,  7.13it/s]\n"
     ]
    },
    {
     "name": "stdout",
     "output_type": "stream",
     "text": [
      "Train Accuracy: 0.6145, Val Accuracy: 0.5641, Test Accuracy: 0.5028\n",
      "Train loss: 1.3541\n",
      "\n",
      " Epoch 165 training:\n"
     ]
    },
    {
     "name": "stderr",
     "output_type": "stream",
     "text": [
      "100%|██████████| 711/711 [01:39<00:00,  7.16it/s]\n"
     ]
    },
    {
     "name": "stdout",
     "output_type": "stream",
     "text": [
      "Train Accuracy: 0.6140, Val Accuracy: 0.5618, Test Accuracy: 0.5031\n",
      "Train loss: 1.3577\n",
      "\n",
      " Epoch 166 training:\n"
     ]
    },
    {
     "name": "stderr",
     "output_type": "stream",
     "text": [
      "100%|██████████| 711/711 [01:39<00:00,  7.17it/s]\n"
     ]
    },
    {
     "name": "stdout",
     "output_type": "stream",
     "text": [
      "Train Accuracy: 0.6138, Val Accuracy: 0.5636, Test Accuracy: 0.5077\n",
      "Train loss: 1.3500\n",
      "\n",
      " Epoch 167 training:\n"
     ]
    },
    {
     "name": "stderr",
     "output_type": "stream",
     "text": [
      "100%|██████████| 711/711 [01:39<00:00,  7.17it/s]\n"
     ]
    },
    {
     "name": "stdout",
     "output_type": "stream",
     "text": [
      "Train Accuracy: 0.6136, Val Accuracy: 0.5640, Test Accuracy: 0.5034\n",
      "Train loss: 1.3530\n",
      "\n",
      " Epoch 168 training:\n"
     ]
    },
    {
     "name": "stderr",
     "output_type": "stream",
     "text": [
      "100%|██████████| 711/711 [01:39<00:00,  7.18it/s]\n"
     ]
    },
    {
     "name": "stdout",
     "output_type": "stream",
     "text": [
      "Train Accuracy: 0.6110, Val Accuracy: 0.5624, Test Accuracy: 0.5026\n",
      "Train loss: 1.3507\n",
      "\n",
      " Epoch 169 training:\n"
     ]
    },
    {
     "name": "stderr",
     "output_type": "stream",
     "text": [
      "100%|██████████| 711/711 [01:39<00:00,  7.13it/s]\n"
     ]
    },
    {
     "name": "stdout",
     "output_type": "stream",
     "text": [
      "Train Accuracy: 0.6142, Val Accuracy: 0.5647, Test Accuracy: 0.5047\n",
      "Train loss: 1.3510\n",
      "\n",
      " Epoch 170 training:\n"
     ]
    },
    {
     "name": "stderr",
     "output_type": "stream",
     "text": [
      "100%|██████████| 711/711 [01:38<00:00,  7.20it/s]\n"
     ]
    },
    {
     "name": "stdout",
     "output_type": "stream",
     "text": [
      "Train Accuracy: 0.6129, Val Accuracy: 0.5654, Test Accuracy: 0.5027\n",
      "Train loss: 1.3503\n",
      "\n",
      " Epoch 171 training:\n"
     ]
    },
    {
     "name": "stderr",
     "output_type": "stream",
     "text": [
      "100%|██████████| 711/711 [01:39<00:00,  7.15it/s]\n"
     ]
    },
    {
     "name": "stdout",
     "output_type": "stream",
     "text": [
      "Train Accuracy: 0.6166, Val Accuracy: 0.5670, Test Accuracy: 0.5053\n",
      "Train loss: 1.3492\n",
      "\n",
      " Epoch 172 training:\n"
     ]
    },
    {
     "name": "stderr",
     "output_type": "stream",
     "text": [
      "100%|██████████| 711/711 [01:40<00:00,  7.07it/s]\n"
     ]
    },
    {
     "name": "stdout",
     "output_type": "stream",
     "text": [
      "Train Accuracy: 0.6110, Val Accuracy: 0.5635, Test Accuracy: 0.5048\n",
      "Train loss: 1.3490\n",
      "\n",
      " Epoch 173 training:\n"
     ]
    },
    {
     "name": "stderr",
     "output_type": "stream",
     "text": [
      "100%|██████████| 711/711 [01:39<00:00,  7.17it/s]\n"
     ]
    },
    {
     "name": "stdout",
     "output_type": "stream",
     "text": [
      "Train Accuracy: 0.6149, Val Accuracy: 0.5683, Test Accuracy: 0.5059\n",
      "Train loss: 1.3451\n",
      "\n",
      " Epoch 174 training:\n"
     ]
    },
    {
     "name": "stderr",
     "output_type": "stream",
     "text": [
      "100%|██████████| 711/711 [01:40<00:00,  7.11it/s]\n"
     ]
    },
    {
     "name": "stdout",
     "output_type": "stream",
     "text": [
      "Train Accuracy: 0.6158, Val Accuracy: 0.5649, Test Accuracy: 0.5011\n",
      "Train loss: 1.3483\n",
      "\n",
      " Epoch 175 training:\n"
     ]
    },
    {
     "name": "stderr",
     "output_type": "stream",
     "text": [
      "100%|██████████| 711/711 [01:39<00:00,  7.14it/s]\n"
     ]
    },
    {
     "name": "stdout",
     "output_type": "stream",
     "text": [
      "Train Accuracy: 0.6152, Val Accuracy: 0.5664, Test Accuracy: 0.5084\n",
      "Train loss: 1.3479\n",
      "\n",
      " Epoch 176 training:\n"
     ]
    },
    {
     "name": "stderr",
     "output_type": "stream",
     "text": [
      "100%|██████████| 711/711 [01:39<00:00,  7.16it/s]\n"
     ]
    },
    {
     "name": "stdout",
     "output_type": "stream",
     "text": [
      "Train Accuracy: 0.6126, Val Accuracy: 0.5651, Test Accuracy: 0.5076\n",
      "Train loss: 1.3526\n",
      "\n",
      " Epoch 177 training:\n"
     ]
    },
    {
     "name": "stderr",
     "output_type": "stream",
     "text": [
      "100%|██████████| 711/711 [01:39<00:00,  7.13it/s]\n"
     ]
    },
    {
     "name": "stdout",
     "output_type": "stream",
     "text": [
      "Train Accuracy: 0.6142, Val Accuracy: 0.5665, Test Accuracy: 0.5026\n",
      "Train loss: 1.3432\n",
      "\n",
      " Epoch 178 training:\n"
     ]
    },
    {
     "name": "stderr",
     "output_type": "stream",
     "text": [
      "100%|██████████| 711/711 [01:39<00:00,  7.17it/s]\n"
     ]
    },
    {
     "name": "stdout",
     "output_type": "stream",
     "text": [
      "Train Accuracy: 0.6148, Val Accuracy: 0.5656, Test Accuracy: 0.5058\n",
      "Train loss: 1.3480\n",
      "\n",
      " Epoch 179 training:\n"
     ]
    },
    {
     "name": "stderr",
     "output_type": "stream",
     "text": [
      "100%|██████████| 711/711 [01:39<00:00,  7.16it/s]\n"
     ]
    },
    {
     "name": "stdout",
     "output_type": "stream",
     "text": [
      "New best model validation accuracy: 0.57106. Previous: 0.56864\n",
      "Train Accuracy: 0.6202, Val Accuracy: 0.5711, Test Accuracy: 0.5108\n",
      "Train loss: 1.3459\n",
      "\n",
      " Epoch 180 training:\n"
     ]
    },
    {
     "name": "stderr",
     "output_type": "stream",
     "text": [
      "100%|██████████| 711/711 [01:39<00:00,  7.15it/s]\n"
     ]
    },
    {
     "name": "stdout",
     "output_type": "stream",
     "text": [
      "Train Accuracy: 0.6162, Val Accuracy: 0.5666, Test Accuracy: 0.5026\n",
      "Train loss: 1.3508\n",
      "\n",
      " Epoch 181 training:\n"
     ]
    },
    {
     "name": "stderr",
     "output_type": "stream",
     "text": [
      "100%|██████████| 711/711 [01:39<00:00,  7.15it/s]\n"
     ]
    },
    {
     "name": "stdout",
     "output_type": "stream",
     "text": [
      "Train Accuracy: 0.6129, Val Accuracy: 0.5668, Test Accuracy: 0.5073\n",
      "Train loss: 1.3418\n",
      "\n",
      " Epoch 182 training:\n"
     ]
    },
    {
     "name": "stderr",
     "output_type": "stream",
     "text": [
      "100%|██████████| 711/711 [01:40<00:00,  7.10it/s]\n"
     ]
    },
    {
     "name": "stdout",
     "output_type": "stream",
     "text": [
      "New best model validation accuracy: 0.57203. Previous: 0.57106\n",
      "Train Accuracy: 0.6192, Val Accuracy: 0.5720, Test Accuracy: 0.5125\n",
      "Train loss: 1.3449\n",
      "\n",
      " Epoch 183 training:\n"
     ]
    },
    {
     "name": "stderr",
     "output_type": "stream",
     "text": [
      "100%|██████████| 711/711 [01:39<00:00,  7.16it/s]\n"
     ]
    },
    {
     "name": "stdout",
     "output_type": "stream",
     "text": [
      "Train Accuracy: 0.6138, Val Accuracy: 0.5607, Test Accuracy: 0.4977\n",
      "Train loss: 1.3439\n",
      "\n",
      " Epoch 184 training:\n"
     ]
    },
    {
     "name": "stderr",
     "output_type": "stream",
     "text": [
      "100%|██████████| 711/711 [01:39<00:00,  7.11it/s]\n"
     ]
    },
    {
     "name": "stdout",
     "output_type": "stream",
     "text": [
      "Train Accuracy: 0.6150, Val Accuracy: 0.5662, Test Accuracy: 0.5052\n",
      "Train loss: 1.3451\n",
      "\n",
      " Epoch 185 training:\n"
     ]
    },
    {
     "name": "stderr",
     "output_type": "stream",
     "text": [
      "100%|██████████| 711/711 [01:39<00:00,  7.12it/s]\n"
     ]
    },
    {
     "name": "stdout",
     "output_type": "stream",
     "text": [
      "Train Accuracy: 0.6154, Val Accuracy: 0.5628, Test Accuracy: 0.5086\n",
      "Train loss: 1.3412\n",
      "\n",
      " Epoch 186 training:\n"
     ]
    },
    {
     "name": "stderr",
     "output_type": "stream",
     "text": [
      "100%|██████████| 711/711 [01:39<00:00,  7.11it/s]\n"
     ]
    },
    {
     "name": "stdout",
     "output_type": "stream",
     "text": [
      "Train Accuracy: 0.6192, Val Accuracy: 0.5693, Test Accuracy: 0.5052\n",
      "Train loss: 1.3435\n",
      "\n",
      " Epoch 187 training:\n"
     ]
    },
    {
     "name": "stderr",
     "output_type": "stream",
     "text": [
      "100%|██████████| 711/711 [01:39<00:00,  7.17it/s]\n"
     ]
    },
    {
     "name": "stdout",
     "output_type": "stream",
     "text": [
      "Train Accuracy: 0.6132, Val Accuracy: 0.5639, Test Accuracy: 0.5046\n",
      "Train loss: 1.3417\n",
      "\n",
      " Epoch 188 training:\n"
     ]
    },
    {
     "name": "stderr",
     "output_type": "stream",
     "text": [
      "100%|██████████| 711/711 [01:38<00:00,  7.20it/s]\n"
     ]
    },
    {
     "name": "stdout",
     "output_type": "stream",
     "text": [
      "Train Accuracy: 0.6170, Val Accuracy: 0.5710, Test Accuracy: 0.5088\n",
      "Train loss: 1.3406\n",
      "\n",
      " Epoch 189 training:\n"
     ]
    },
    {
     "name": "stderr",
     "output_type": "stream",
     "text": [
      "100%|██████████| 711/711 [01:39<00:00,  7.16it/s]\n"
     ]
    },
    {
     "name": "stdout",
     "output_type": "stream",
     "text": [
      "Train Accuracy: 0.6130, Val Accuracy: 0.5620, Test Accuracy: 0.5040\n",
      "Train loss: 1.3385\n",
      "\n",
      " Epoch 190 training:\n"
     ]
    },
    {
     "name": "stderr",
     "output_type": "stream",
     "text": [
      "100%|██████████| 711/711 [01:38<00:00,  7.20it/s]\n"
     ]
    },
    {
     "name": "stdout",
     "output_type": "stream",
     "text": [
      "Train Accuracy: 0.6166, Val Accuracy: 0.5659, Test Accuracy: 0.5059\n",
      "Train loss: 1.3432\n",
      "\n",
      " Epoch 191 training:\n"
     ]
    },
    {
     "name": "stderr",
     "output_type": "stream",
     "text": [
      "100%|██████████| 711/711 [01:39<00:00,  7.16it/s]\n"
     ]
    },
    {
     "name": "stdout",
     "output_type": "stream",
     "text": [
      "Train Accuracy: 0.6167, Val Accuracy: 0.5618, Test Accuracy: 0.5046\n",
      "Train loss: 1.3402\n",
      "\n",
      " Epoch 192 training:\n"
     ]
    },
    {
     "name": "stderr",
     "output_type": "stream",
     "text": [
      "100%|██████████| 711/711 [01:39<00:00,  7.18it/s]\n"
     ]
    },
    {
     "name": "stdout",
     "output_type": "stream",
     "text": [
      "Train Accuracy: 0.6186, Val Accuracy: 0.5668, Test Accuracy: 0.5065\n",
      "Train loss: 1.3379\n",
      "\n",
      " Epoch 193 training:\n"
     ]
    },
    {
     "name": "stderr",
     "output_type": "stream",
     "text": [
      "100%|██████████| 711/711 [01:39<00:00,  7.15it/s]\n"
     ]
    },
    {
     "name": "stdout",
     "output_type": "stream",
     "text": [
      "Train Accuracy: 0.6197, Val Accuracy: 0.5693, Test Accuracy: 0.5046\n",
      "Train loss: 1.3393\n",
      "\n",
      " Epoch 194 training:\n"
     ]
    },
    {
     "name": "stderr",
     "output_type": "stream",
     "text": [
      "100%|██████████| 711/711 [01:39<00:00,  7.12it/s]\n"
     ]
    },
    {
     "name": "stdout",
     "output_type": "stream",
     "text": [
      "Train Accuracy: 0.6150, Val Accuracy: 0.5618, Test Accuracy: 0.5011\n",
      "Train loss: 1.3380\n",
      "\n",
      " Epoch 195 training:\n"
     ]
    },
    {
     "name": "stderr",
     "output_type": "stream",
     "text": [
      "100%|██████████| 711/711 [01:39<00:00,  7.15it/s]\n"
     ]
    },
    {
     "name": "stdout",
     "output_type": "stream",
     "text": [
      "Train Accuracy: 0.6181, Val Accuracy: 0.5689, Test Accuracy: 0.5061\n",
      "Train loss: 1.3365\n",
      "\n",
      " Epoch 196 training:\n"
     ]
    },
    {
     "name": "stderr",
     "output_type": "stream",
     "text": [
      "100%|██████████| 711/711 [01:38<00:00,  7.18it/s]\n"
     ]
    },
    {
     "name": "stdout",
     "output_type": "stream",
     "text": [
      "Train Accuracy: 0.6162, Val Accuracy: 0.5687, Test Accuracy: 0.5094\n",
      "Train loss: 1.3383\n",
      "\n",
      " Epoch 197 training:\n"
     ]
    },
    {
     "name": "stderr",
     "output_type": "stream",
     "text": [
      "100%|██████████| 711/711 [01:39<00:00,  7.17it/s]\n"
     ]
    },
    {
     "name": "stdout",
     "output_type": "stream",
     "text": [
      "Train Accuracy: 0.6173, Val Accuracy: 0.5658, Test Accuracy: 0.5035\n",
      "Train loss: 1.3370\n",
      "\n",
      " Epoch 198 training:\n"
     ]
    },
    {
     "name": "stderr",
     "output_type": "stream",
     "text": [
      "100%|██████████| 711/711 [01:39<00:00,  7.17it/s]\n"
     ]
    },
    {
     "name": "stdout",
     "output_type": "stream",
     "text": [
      "Train Accuracy: 0.6181, Val Accuracy: 0.5646, Test Accuracy: 0.5065\n",
      "Train loss: 1.3369\n",
      "\n",
      " Epoch 199 training:\n"
     ]
    },
    {
     "name": "stderr",
     "output_type": "stream",
     "text": [
      "100%|██████████| 711/711 [01:39<00:00,  7.13it/s]\n"
     ]
    },
    {
     "name": "stdout",
     "output_type": "stream",
     "text": [
      "Train Accuracy: 0.6171, Val Accuracy: 0.5645, Test Accuracy: 0.5059\n",
      "Train loss: 1.3305\n",
      "\n",
      " Epoch 200 training:\n"
     ]
    },
    {
     "name": "stderr",
     "output_type": "stream",
     "text": [
      "100%|██████████| 711/711 [01:39<00:00,  7.17it/s]\n"
     ]
    },
    {
     "name": "stdout",
     "output_type": "stream",
     "text": [
      "Train Accuracy: 0.6193, Val Accuracy: 0.5641, Test Accuracy: 0.5025\n",
      "Train loss: 1.3342\n",
      "\n",
      " Epoch 201 training:\n"
     ]
    },
    {
     "name": "stderr",
     "output_type": "stream",
     "text": [
      "100%|██████████| 711/711 [01:39<00:00,  7.15it/s]\n"
     ]
    },
    {
     "name": "stdout",
     "output_type": "stream",
     "text": [
      "Train Accuracy: 0.6155, Val Accuracy: 0.5672, Test Accuracy: 0.5083\n",
      "Train loss: 1.3334\n",
      "\n",
      " Epoch 202 training:\n"
     ]
    },
    {
     "name": "stderr",
     "output_type": "stream",
     "text": [
      "100%|██████████| 711/711 [01:39<00:00,  7.16it/s]\n"
     ]
    },
    {
     "name": "stdout",
     "output_type": "stream",
     "text": [
      "Train Accuracy: 0.6167, Val Accuracy: 0.5680, Test Accuracy: 0.5040\n",
      "Train loss: 1.3367\n",
      "\n",
      " Epoch 203 training:\n"
     ]
    },
    {
     "name": "stderr",
     "output_type": "stream",
     "text": [
      "100%|██████████| 711/711 [01:39<00:00,  7.18it/s]\n"
     ]
    },
    {
     "name": "stdout",
     "output_type": "stream",
     "text": [
      "Train Accuracy: 0.6113, Val Accuracy: 0.5574, Test Accuracy: 0.4988\n",
      "Train loss: 1.3339\n",
      "\n",
      " Epoch 204 training:\n"
     ]
    },
    {
     "name": "stderr",
     "output_type": "stream",
     "text": [
      "100%|██████████| 711/711 [01:39<00:00,  7.12it/s]\n"
     ]
    },
    {
     "name": "stdout",
     "output_type": "stream",
     "text": [
      "Train Accuracy: 0.6146, Val Accuracy: 0.5664, Test Accuracy: 0.5006\n",
      "Train loss: 1.3321\n",
      "\n",
      " Epoch 205 training:\n"
     ]
    },
    {
     "name": "stderr",
     "output_type": "stream",
     "text": [
      "100%|██████████| 711/711 [01:38<00:00,  7.19it/s]\n"
     ]
    },
    {
     "name": "stdout",
     "output_type": "stream",
     "text": [
      "Train Accuracy: 0.6111, Val Accuracy: 0.5581, Test Accuracy: 0.4977\n",
      "Train loss: 1.3315\n",
      "\n",
      " Epoch 206 training:\n"
     ]
    },
    {
     "name": "stderr",
     "output_type": "stream",
     "text": [
      "100%|██████████| 711/711 [01:39<00:00,  7.15it/s]\n"
     ]
    },
    {
     "name": "stdout",
     "output_type": "stream",
     "text": [
      "Train Accuracy: 0.6119, Val Accuracy: 0.5624, Test Accuracy: 0.5024\n",
      "Train loss: 1.3354\n",
      "\n",
      " Epoch 207 training:\n"
     ]
    },
    {
     "name": "stderr",
     "output_type": "stream",
     "text": [
      "100%|██████████| 711/711 [01:39<00:00,  7.16it/s]\n"
     ]
    },
    {
     "name": "stdout",
     "output_type": "stream",
     "text": [
      "Train Accuracy: 0.6190, Val Accuracy: 0.5693, Test Accuracy: 0.5083\n",
      "Train loss: 1.3329\n",
      "\n",
      " Epoch 208 training:\n"
     ]
    },
    {
     "name": "stderr",
     "output_type": "stream",
     "text": [
      "100%|██████████| 711/711 [01:39<00:00,  7.16it/s]\n"
     ]
    },
    {
     "name": "stdout",
     "output_type": "stream",
     "text": [
      "Train Accuracy: 0.6127, Val Accuracy: 0.5619, Test Accuracy: 0.4995\n",
      "Train loss: 1.3308\n",
      "\n",
      " Epoch 209 training:\n"
     ]
    },
    {
     "name": "stderr",
     "output_type": "stream",
     "text": [
      "100%|██████████| 711/711 [01:39<00:00,  7.18it/s]\n"
     ]
    },
    {
     "name": "stdout",
     "output_type": "stream",
     "text": [
      "Train Accuracy: 0.6178, Val Accuracy: 0.5643, Test Accuracy: 0.5018\n",
      "Train loss: 1.3334\n",
      "\n",
      " Epoch 210 training:\n"
     ]
    },
    {
     "name": "stderr",
     "output_type": "stream",
     "text": [
      "100%|██████████| 711/711 [01:39<00:00,  7.15it/s]\n"
     ]
    },
    {
     "name": "stdout",
     "output_type": "stream",
     "text": [
      "Train Accuracy: 0.6203, Val Accuracy: 0.5680, Test Accuracy: 0.5051\n",
      "Train loss: 1.3270\n",
      "\n",
      " Epoch 211 training:\n"
     ]
    },
    {
     "name": "stderr",
     "output_type": "stream",
     "text": [
      "100%|██████████| 711/711 [01:39<00:00,  7.15it/s]\n"
     ]
    },
    {
     "name": "stdout",
     "output_type": "stream",
     "text": [
      "Train Accuracy: 0.6148, Val Accuracy: 0.5675, Test Accuracy: 0.5070\n",
      "Train loss: 1.3273\n",
      "\n",
      " Epoch 212 training:\n"
     ]
    },
    {
     "name": "stderr",
     "output_type": "stream",
     "text": [
      "100%|██████████| 711/711 [01:39<00:00,  7.16it/s]\n"
     ]
    },
    {
     "name": "stdout",
     "output_type": "stream",
     "text": [
      "Train Accuracy: 0.6198, Val Accuracy: 0.5688, Test Accuracy: 0.5071\n",
      "Train loss: 1.3320\n",
      "\n",
      " Epoch 213 training:\n"
     ]
    },
    {
     "name": "stderr",
     "output_type": "stream",
     "text": [
      "100%|██████████| 711/711 [01:39<00:00,  7.14it/s]\n"
     ]
    },
    {
     "name": "stdout",
     "output_type": "stream",
     "text": [
      "Train Accuracy: 0.6209, Val Accuracy: 0.5672, Test Accuracy: 0.5053\n",
      "Train loss: 1.3313\n",
      "\n",
      " Epoch 214 training:\n"
     ]
    },
    {
     "name": "stderr",
     "output_type": "stream",
     "text": [
      "100%|██████████| 711/711 [01:40<00:00,  7.11it/s]\n"
     ]
    },
    {
     "name": "stdout",
     "output_type": "stream",
     "text": [
      "Train Accuracy: 0.6187, Val Accuracy: 0.5652, Test Accuracy: 0.4996\n",
      "Train loss: 1.3361\n",
      "\n",
      " Epoch 215 training:\n"
     ]
    },
    {
     "name": "stderr",
     "output_type": "stream",
     "text": [
      "100%|██████████| 711/711 [01:39<00:00,  7.13it/s]\n"
     ]
    },
    {
     "name": "stdout",
     "output_type": "stream",
     "text": [
      "Train Accuracy: 0.6186, Val Accuracy: 0.5672, Test Accuracy: 0.5049\n",
      "Train loss: 1.3250\n",
      "\n",
      " Epoch 216 training:\n"
     ]
    },
    {
     "name": "stderr",
     "output_type": "stream",
     "text": [
      "100%|██████████| 711/711 [01:39<00:00,  7.17it/s]\n"
     ]
    },
    {
     "name": "stdout",
     "output_type": "stream",
     "text": [
      "Train Accuracy: 0.6197, Val Accuracy: 0.5680, Test Accuracy: 0.5066\n",
      "Train loss: 1.3263\n",
      "\n",
      " Epoch 217 training:\n"
     ]
    },
    {
     "name": "stderr",
     "output_type": "stream",
     "text": [
      "100%|██████████| 711/711 [01:39<00:00,  7.14it/s]\n"
     ]
    },
    {
     "name": "stdout",
     "output_type": "stream",
     "text": [
      "Train Accuracy: 0.6169, Val Accuracy: 0.5651, Test Accuracy: 0.5041\n",
      "Train loss: 1.3287\n",
      "\n",
      " Epoch 218 training:\n"
     ]
    },
    {
     "name": "stderr",
     "output_type": "stream",
     "text": [
      "100%|██████████| 711/711 [01:39<00:00,  7.16it/s]\n"
     ]
    },
    {
     "name": "stdout",
     "output_type": "stream",
     "text": [
      "New best model validation accuracy: 0.57556. Previous: 0.57203\n",
      "Train Accuracy: 0.6198, Val Accuracy: 0.5756, Test Accuracy: 0.5112\n",
      "Train loss: 1.3310\n",
      "\n",
      " Epoch 219 training:\n"
     ]
    },
    {
     "name": "stderr",
     "output_type": "stream",
     "text": [
      "100%|██████████| 711/711 [01:39<00:00,  7.14it/s]\n"
     ]
    },
    {
     "name": "stdout",
     "output_type": "stream",
     "text": [
      "Train Accuracy: 0.6210, Val Accuracy: 0.5728, Test Accuracy: 0.5084\n",
      "Train loss: 1.3312\n",
      "\n",
      " Epoch 220 training:\n"
     ]
    },
    {
     "name": "stderr",
     "output_type": "stream",
     "text": [
      "100%|██████████| 711/711 [01:39<00:00,  7.14it/s]\n"
     ]
    },
    {
     "name": "stdout",
     "output_type": "stream",
     "text": [
      "Train Accuracy: 0.6206, Val Accuracy: 0.5688, Test Accuracy: 0.5053\n",
      "Train loss: 1.3291\n",
      "\n",
      " Epoch 221 training:\n"
     ]
    },
    {
     "name": "stderr",
     "output_type": "stream",
     "text": [
      "100%|██████████| 711/711 [01:39<00:00,  7.17it/s]\n"
     ]
    },
    {
     "name": "stdout",
     "output_type": "stream",
     "text": [
      "Train Accuracy: 0.6214, Val Accuracy: 0.5702, Test Accuracy: 0.5087\n",
      "Train loss: 1.3306\n",
      "\n",
      " Epoch 222 training:\n"
     ]
    },
    {
     "name": "stderr",
     "output_type": "stream",
     "text": [
      "100%|██████████| 711/711 [01:38<00:00,  7.20it/s]\n"
     ]
    },
    {
     "name": "stdout",
     "output_type": "stream",
     "text": [
      "Train Accuracy: 0.6178, Val Accuracy: 0.5685, Test Accuracy: 0.5058\n",
      "Train loss: 1.3262\n",
      "\n",
      " Epoch 223 training:\n"
     ]
    },
    {
     "name": "stderr",
     "output_type": "stream",
     "text": [
      "100%|██████████| 711/711 [01:39<00:00,  7.15it/s]\n"
     ]
    },
    {
     "name": "stdout",
     "output_type": "stream",
     "text": [
      "Train Accuracy: 0.6220, Val Accuracy: 0.5664, Test Accuracy: 0.5055\n",
      "Train loss: 1.3288\n",
      "\n",
      " Epoch 224 training:\n"
     ]
    },
    {
     "name": "stderr",
     "output_type": "stream",
     "text": [
      "100%|██████████| 711/711 [01:39<00:00,  7.16it/s]\n"
     ]
    },
    {
     "name": "stdout",
     "output_type": "stream",
     "text": [
      "Train Accuracy: 0.6169, Val Accuracy: 0.5700, Test Accuracy: 0.5113\n",
      "Train loss: 1.3298\n",
      "\n",
      " Epoch 225 training:\n"
     ]
    },
    {
     "name": "stderr",
     "output_type": "stream",
     "text": [
      "100%|██████████| 711/711 [01:39<00:00,  7.16it/s]\n"
     ]
    },
    {
     "name": "stdout",
     "output_type": "stream",
     "text": [
      "Train Accuracy: 0.6231, Val Accuracy: 0.5716, Test Accuracy: 0.5069\n",
      "Train loss: 1.3272\n",
      "\n",
      " Epoch 226 training:\n"
     ]
    },
    {
     "name": "stderr",
     "output_type": "stream",
     "text": [
      "100%|██████████| 711/711 [01:38<00:00,  7.20it/s]\n"
     ]
    },
    {
     "name": "stdout",
     "output_type": "stream",
     "text": [
      "Train Accuracy: 0.6222, Val Accuracy: 0.5708, Test Accuracy: 0.5090\n",
      "Train loss: 1.3248\n",
      "\n",
      " Epoch 227 training:\n"
     ]
    },
    {
     "name": "stderr",
     "output_type": "stream",
     "text": [
      "100%|██████████| 711/711 [01:39<00:00,  7.12it/s]\n"
     ]
    },
    {
     "name": "stdout",
     "output_type": "stream",
     "text": [
      "Train Accuracy: 0.6169, Val Accuracy: 0.5693, Test Accuracy: 0.5054\n",
      "Train loss: 1.3252\n",
      "\n",
      " Epoch 228 training:\n"
     ]
    },
    {
     "name": "stderr",
     "output_type": "stream",
     "text": [
      "100%|██████████| 711/711 [01:38<00:00,  7.19it/s]\n"
     ]
    },
    {
     "name": "stdout",
     "output_type": "stream",
     "text": [
      "Train Accuracy: 0.6199, Val Accuracy: 0.5653, Test Accuracy: 0.5024\n",
      "Train loss: 1.3219\n",
      "\n",
      " Epoch 229 training:\n"
     ]
    },
    {
     "name": "stderr",
     "output_type": "stream",
     "text": [
      "100%|██████████| 711/711 [01:39<00:00,  7.18it/s]\n"
     ]
    },
    {
     "name": "stdout",
     "output_type": "stream",
     "text": [
      "Train Accuracy: 0.6185, Val Accuracy: 0.5661, Test Accuracy: 0.5059\n",
      "Train loss: 1.3246\n",
      "\n",
      " Epoch 230 training:\n"
     ]
    },
    {
     "name": "stderr",
     "output_type": "stream",
     "text": [
      "100%|██████████| 711/711 [01:39<00:00,  7.17it/s]\n"
     ]
    },
    {
     "name": "stdout",
     "output_type": "stream",
     "text": [
      "Train Accuracy: 0.6197, Val Accuracy: 0.5680, Test Accuracy: 0.5048\n",
      "Train loss: 1.3245\n",
      "\n",
      " Epoch 231 training:\n"
     ]
    },
    {
     "name": "stderr",
     "output_type": "stream",
     "text": [
      "100%|██████████| 711/711 [01:38<00:00,  7.21it/s]\n"
     ]
    },
    {
     "name": "stdout",
     "output_type": "stream",
     "text": [
      "Train Accuracy: 0.6186, Val Accuracy: 0.5636, Test Accuracy: 0.5055\n",
      "Train loss: 1.3296\n",
      "\n",
      " Epoch 232 training:\n"
     ]
    },
    {
     "name": "stderr",
     "output_type": "stream",
     "text": [
      "100%|██████████| 711/711 [01:39<00:00,  7.16it/s]\n"
     ]
    },
    {
     "name": "stdout",
     "output_type": "stream",
     "text": [
      "Train Accuracy: 0.6208, Val Accuracy: 0.5652, Test Accuracy: 0.5047\n",
      "Train loss: 1.3213\n",
      "\n",
      " Epoch 233 training:\n"
     ]
    },
    {
     "name": "stderr",
     "output_type": "stream",
     "text": [
      "100%|██████████| 711/711 [01:38<00:00,  7.19it/s]\n"
     ]
    },
    {
     "name": "stdout",
     "output_type": "stream",
     "text": [
      "Train Accuracy: 0.6211, Val Accuracy: 0.5658, Test Accuracy: 0.5067\n",
      "Train loss: 1.3258\n",
      "\n",
      " Epoch 234 training:\n"
     ]
    },
    {
     "name": "stderr",
     "output_type": "stream",
     "text": [
      "100%|██████████| 711/711 [01:40<00:00,  7.10it/s]\n"
     ]
    },
    {
     "name": "stdout",
     "output_type": "stream",
     "text": [
      "Train Accuracy: 0.6163, Val Accuracy: 0.5653, Test Accuracy: 0.5052\n",
      "Train loss: 1.3289\n",
      "\n",
      " Epoch 235 training:\n"
     ]
    },
    {
     "name": "stderr",
     "output_type": "stream",
     "text": [
      "100%|██████████| 711/711 [01:38<00:00,  7.21it/s]\n"
     ]
    },
    {
     "name": "stdout",
     "output_type": "stream",
     "text": [
      "Train Accuracy: 0.6190, Val Accuracy: 0.5651, Test Accuracy: 0.5072\n",
      "Train loss: 1.3176\n",
      "\n",
      " Epoch 236 training:\n"
     ]
    },
    {
     "name": "stderr",
     "output_type": "stream",
     "text": [
      "100%|██████████| 711/711 [01:39<00:00,  7.14it/s]\n"
     ]
    },
    {
     "name": "stdout",
     "output_type": "stream",
     "text": [
      "Train Accuracy: 0.6209, Val Accuracy: 0.5666, Test Accuracy: 0.5053\n",
      "Train loss: 1.3222\n",
      "\n",
      " Epoch 237 training:\n"
     ]
    },
    {
     "name": "stderr",
     "output_type": "stream",
     "text": [
      "100%|██████████| 711/711 [01:38<00:00,  7.19it/s]\n"
     ]
    },
    {
     "name": "stdout",
     "output_type": "stream",
     "text": [
      "Train Accuracy: 0.6183, Val Accuracy: 0.5671, Test Accuracy: 0.5037\n",
      "Train loss: 1.3239\n",
      "\n",
      " Epoch 238 training:\n"
     ]
    },
    {
     "name": "stderr",
     "output_type": "stream",
     "text": [
      "100%|██████████| 711/711 [01:39<00:00,  7.13it/s]\n"
     ]
    },
    {
     "name": "stdout",
     "output_type": "stream",
     "text": [
      "Train Accuracy: 0.6252, Val Accuracy: 0.5734, Test Accuracy: 0.5128\n",
      "Train loss: 1.3237\n",
      "\n",
      " Epoch 239 training:\n"
     ]
    },
    {
     "name": "stderr",
     "output_type": "stream",
     "text": [
      "100%|██████████| 711/711 [01:39<00:00,  7.16it/s]\n"
     ]
    },
    {
     "name": "stdout",
     "output_type": "stream",
     "text": [
      "Train Accuracy: 0.6169, Val Accuracy: 0.5670, Test Accuracy: 0.5066\n",
      "Train loss: 1.3168\n",
      "\n",
      " Epoch 240 training:\n"
     ]
    },
    {
     "name": "stderr",
     "output_type": "stream",
     "text": [
      "100%|██████████| 711/711 [01:39<00:00,  7.18it/s]\n"
     ]
    },
    {
     "name": "stdout",
     "output_type": "stream",
     "text": [
      "Train Accuracy: 0.6191, Val Accuracy: 0.5650, Test Accuracy: 0.5018\n",
      "Train loss: 1.3191\n",
      "\n",
      " Epoch 241 training:\n"
     ]
    },
    {
     "name": "stderr",
     "output_type": "stream",
     "text": [
      "100%|██████████| 711/711 [01:39<00:00,  7.18it/s]\n"
     ]
    },
    {
     "name": "stdout",
     "output_type": "stream",
     "text": [
      "Train Accuracy: 0.6177, Val Accuracy: 0.5681, Test Accuracy: 0.5082\n",
      "Train loss: 1.3224\n",
      "\n",
      " Epoch 242 training:\n"
     ]
    },
    {
     "name": "stderr",
     "output_type": "stream",
     "text": [
      "100%|██████████| 711/711 [01:38<00:00,  7.18it/s]\n"
     ]
    },
    {
     "name": "stdout",
     "output_type": "stream",
     "text": [
      "Train Accuracy: 0.6238, Val Accuracy: 0.5709, Test Accuracy: 0.5070\n",
      "Train loss: 1.3192\n",
      "\n",
      " Epoch 243 training:\n"
     ]
    },
    {
     "name": "stderr",
     "output_type": "stream",
     "text": [
      "100%|██████████| 711/711 [01:39<00:00,  7.18it/s]\n"
     ]
    },
    {
     "name": "stdout",
     "output_type": "stream",
     "text": [
      "Train Accuracy: 0.6208, Val Accuracy: 0.5675, Test Accuracy: 0.5066\n",
      "Train loss: 1.3225\n",
      "\n",
      " Epoch 244 training:\n"
     ]
    },
    {
     "name": "stderr",
     "output_type": "stream",
     "text": [
      "100%|██████████| 711/711 [01:39<00:00,  7.12it/s]\n"
     ]
    },
    {
     "name": "stdout",
     "output_type": "stream",
     "text": [
      "Train Accuracy: 0.6197, Val Accuracy: 0.5711, Test Accuracy: 0.5088\n",
      "Train loss: 1.3221\n",
      "\n",
      " Epoch 245 training:\n"
     ]
    },
    {
     "name": "stderr",
     "output_type": "stream",
     "text": [
      "100%|██████████| 711/711 [01:38<00:00,  7.22it/s]\n"
     ]
    },
    {
     "name": "stdout",
     "output_type": "stream",
     "text": [
      "Train Accuracy: 0.6222, Val Accuracy: 0.5704, Test Accuracy: 0.5062\n",
      "Train loss: 1.3213\n",
      "\n",
      " Epoch 246 training:\n"
     ]
    },
    {
     "name": "stderr",
     "output_type": "stream",
     "text": [
      "100%|██████████| 711/711 [01:39<00:00,  7.17it/s]\n"
     ]
    },
    {
     "name": "stdout",
     "output_type": "stream",
     "text": [
      "Train Accuracy: 0.6247, Val Accuracy: 0.5706, Test Accuracy: 0.5071\n",
      "Train loss: 1.3231\n",
      "\n",
      " Epoch 247 training:\n"
     ]
    },
    {
     "name": "stderr",
     "output_type": "stream",
     "text": [
      "100%|██████████| 711/711 [01:39<00:00,  7.13it/s]\n"
     ]
    },
    {
     "name": "stdout",
     "output_type": "stream",
     "text": [
      "Train Accuracy: 0.6220, Val Accuracy: 0.5667, Test Accuracy: 0.5069\n",
      "Train loss: 1.3189\n",
      "\n",
      " Epoch 248 training:\n"
     ]
    },
    {
     "name": "stderr",
     "output_type": "stream",
     "text": [
      "100%|██████████| 711/711 [01:39<00:00,  7.16it/s]\n"
     ]
    },
    {
     "name": "stdout",
     "output_type": "stream",
     "text": [
      "Train Accuracy: 0.6247, Val Accuracy: 0.5723, Test Accuracy: 0.5089\n",
      "Train loss: 1.3153\n",
      "\n",
      " Epoch 249 training:\n"
     ]
    },
    {
     "name": "stderr",
     "output_type": "stream",
     "text": [
      "100%|██████████| 711/711 [01:40<00:00,  7.11it/s]\n"
     ]
    },
    {
     "name": "stdout",
     "output_type": "stream",
     "text": [
      "Train Accuracy: 0.6221, Val Accuracy: 0.5658, Test Accuracy: 0.5047\n",
      "Train loss: 1.3203\n",
      "\n",
      " Epoch 0 training:\n"
     ]
    },
    {
     "name": "stderr",
     "output_type": "stream",
     "text": [
      "100%|██████████| 711/711 [01:40<00:00,  7.11it/s]\n"
     ]
    },
    {
     "name": "stdout",
     "output_type": "stream",
     "text": [
      "New best model validation accuracy: 0.39065. Previous: 0.00000\n",
      "Train Accuracy: 0.3698, Val Accuracy: 0.3907, Test Accuracy: 0.3324\n",
      "Train loss: 2.4488\n",
      "\n",
      " Epoch 1 training:\n"
     ]
    },
    {
     "name": "stderr",
     "output_type": "stream",
     "text": [
      "100%|██████████| 711/711 [01:39<00:00,  7.14it/s]\n"
     ]
    },
    {
     "name": "stdout",
     "output_type": "stream",
     "text": [
      "New best model validation accuracy: 0.41569. Previous: 0.39065\n",
      "Train Accuracy: 0.3991, Val Accuracy: 0.4157, Test Accuracy: 0.3427\n",
      "Train loss: 2.1883\n",
      "\n",
      " Epoch 2 training:\n"
     ]
    },
    {
     "name": "stderr",
     "output_type": "stream",
     "text": [
      "100%|██████████| 711/711 [01:39<00:00,  7.16it/s]\n"
     ]
    },
    {
     "name": "stdout",
     "output_type": "stream",
     "text": [
      "New best model validation accuracy: 0.43001. Previous: 0.41569\n",
      "Train Accuracy: 0.4293, Val Accuracy: 0.4300, Test Accuracy: 0.3502\n",
      "Train loss: 2.0770\n",
      "\n",
      " Epoch 3 training:\n"
     ]
    },
    {
     "name": "stderr",
     "output_type": "stream",
     "text": [
      "100%|██████████| 711/711 [01:39<00:00,  7.18it/s]\n"
     ]
    },
    {
     "name": "stdout",
     "output_type": "stream",
     "text": [
      "New best model validation accuracy: 0.46079. Previous: 0.43001\n",
      "Train Accuracy: 0.4487, Val Accuracy: 0.4608, Test Accuracy: 0.3980\n",
      "Train loss: 1.9851\n",
      "\n",
      " Epoch 4 training:\n"
     ]
    },
    {
     "name": "stderr",
     "output_type": "stream",
     "text": [
      "100%|██████████| 711/711 [01:40<00:00,  7.09it/s]\n"
     ]
    },
    {
     "name": "stdout",
     "output_type": "stream",
     "text": [
      "New best model validation accuracy: 0.46153. Previous: 0.46079\n",
      "Train Accuracy: 0.4563, Val Accuracy: 0.4615, Test Accuracy: 0.4130\n",
      "Train loss: 1.9315\n",
      "\n",
      " Epoch 5 training:\n"
     ]
    },
    {
     "name": "stderr",
     "output_type": "stream",
     "text": [
      "100%|██████████| 711/711 [01:39<00:00,  7.16it/s]\n"
     ]
    },
    {
     "name": "stdout",
     "output_type": "stream",
     "text": [
      "New best model validation accuracy: 0.46743. Previous: 0.46153\n",
      "Train Accuracy: 0.4632, Val Accuracy: 0.4674, Test Accuracy: 0.4161\n",
      "Train loss: 1.8886\n",
      "\n",
      " Epoch 6 training:\n"
     ]
    },
    {
     "name": "stderr",
     "output_type": "stream",
     "text": [
      "100%|██████████| 711/711 [01:39<00:00,  7.15it/s]\n"
     ]
    },
    {
     "name": "stdout",
     "output_type": "stream",
     "text": [
      "New best model validation accuracy: 0.47995. Previous: 0.46743\n",
      "Train Accuracy: 0.4736, Val Accuracy: 0.4799, Test Accuracy: 0.4338\n",
      "Train loss: 1.8571\n",
      "\n",
      " Epoch 7 training:\n"
     ]
    },
    {
     "name": "stderr",
     "output_type": "stream",
     "text": [
      "100%|██████████| 711/711 [01:39<00:00,  7.13it/s]\n"
     ]
    },
    {
     "name": "stdout",
     "output_type": "stream",
     "text": [
      "New best model validation accuracy: 0.48542. Previous: 0.47995\n",
      "Train Accuracy: 0.4833, Val Accuracy: 0.4854, Test Accuracy: 0.4469\n",
      "Train loss: 1.8269\n",
      "\n",
      " Epoch 8 training:\n"
     ]
    },
    {
     "name": "stderr",
     "output_type": "stream",
     "text": [
      "100%|██████████| 711/711 [01:39<00:00,  7.15it/s]\n"
     ]
    },
    {
     "name": "stdout",
     "output_type": "stream",
     "text": [
      "New best model validation accuracy: 0.49592. Previous: 0.48542\n",
      "Train Accuracy: 0.4953, Val Accuracy: 0.4959, Test Accuracy: 0.4517\n",
      "Train loss: 1.7979\n",
      "\n",
      " Epoch 9 training:\n"
     ]
    },
    {
     "name": "stderr",
     "output_type": "stream",
     "text": [
      "100%|██████████| 711/711 [01:39<00:00,  7.15it/s]\n"
     ]
    },
    {
     "name": "stdout",
     "output_type": "stream",
     "text": [
      "Train Accuracy: 0.4889, Val Accuracy: 0.4901, Test Accuracy: 0.4396\n",
      "Train loss: 1.7772\n",
      "\n",
      " Epoch 10 training:\n"
     ]
    },
    {
     "name": "stderr",
     "output_type": "stream",
     "text": [
      "100%|██████████| 711/711 [01:39<00:00,  7.13it/s]\n"
     ]
    },
    {
     "name": "stdout",
     "output_type": "stream",
     "text": [
      "New best model validation accuracy: 0.50730. Previous: 0.49592\n",
      "Train Accuracy: 0.5041, Val Accuracy: 0.5073, Test Accuracy: 0.4587\n",
      "Train loss: 1.7621\n",
      "\n",
      " Epoch 11 training:\n"
     ]
    },
    {
     "name": "stderr",
     "output_type": "stream",
     "text": [
      "100%|██████████| 711/711 [01:40<00:00,  7.08it/s]\n"
     ]
    },
    {
     "name": "stdout",
     "output_type": "stream",
     "text": [
      "New best model validation accuracy: 0.51421. Previous: 0.50730\n",
      "Train Accuracy: 0.5117, Val Accuracy: 0.5142, Test Accuracy: 0.4566\n",
      "Train loss: 1.7551\n",
      "\n",
      " Epoch 12 training:\n"
     ]
    },
    {
     "name": "stderr",
     "output_type": "stream",
     "text": [
      "100%|██████████| 711/711 [01:39<00:00,  7.12it/s]\n"
     ]
    },
    {
     "name": "stdout",
     "output_type": "stream",
     "text": [
      "Train Accuracy: 0.5093, Val Accuracy: 0.5070, Test Accuracy: 0.4639\n",
      "Train loss: 1.7318\n",
      "\n",
      " Epoch 13 training:\n"
     ]
    },
    {
     "name": "stderr",
     "output_type": "stream",
     "text": [
      "100%|██████████| 711/711 [01:39<00:00,  7.18it/s]\n"
     ]
    },
    {
     "name": "stdout",
     "output_type": "stream",
     "text": [
      "New best model validation accuracy: 0.51646. Previous: 0.51421\n",
      "Train Accuracy: 0.5170, Val Accuracy: 0.5165, Test Accuracy: 0.4631\n",
      "Train loss: 1.7207\n",
      "\n",
      " Epoch 14 training:\n"
     ]
    },
    {
     "name": "stderr",
     "output_type": "stream",
     "text": [
      "100%|██████████| 711/711 [01:39<00:00,  7.13it/s]\n"
     ]
    },
    {
     "name": "stdout",
     "output_type": "stream",
     "text": [
      "Train Accuracy: 0.5166, Val Accuracy: 0.5128, Test Accuracy: 0.4545\n",
      "Train loss: 1.7055\n",
      "\n",
      " Epoch 15 training:\n"
     ]
    },
    {
     "name": "stderr",
     "output_type": "stream",
     "text": [
      "100%|██████████| 711/711 [01:39<00:00,  7.16it/s]\n"
     ]
    },
    {
     "name": "stdout",
     "output_type": "stream",
     "text": [
      "Train Accuracy: 0.5231, Val Accuracy: 0.5114, Test Accuracy: 0.4579\n",
      "Train loss: 1.6946\n",
      "\n",
      " Epoch 16 training:\n"
     ]
    },
    {
     "name": "stderr",
     "output_type": "stream",
     "text": [
      "100%|██████████| 711/711 [01:39<00:00,  7.12it/s]\n"
     ]
    },
    {
     "name": "stdout",
     "output_type": "stream",
     "text": [
      "New best model validation accuracy: 0.51723. Previous: 0.51646\n",
      "Train Accuracy: 0.5222, Val Accuracy: 0.5172, Test Accuracy: 0.4629\n",
      "Train loss: 1.6848\n",
      "\n",
      " Epoch 17 training:\n"
     ]
    },
    {
     "name": "stderr",
     "output_type": "stream",
     "text": [
      "100%|██████████| 711/711 [01:39<00:00,  7.11it/s]\n"
     ]
    },
    {
     "name": "stdout",
     "output_type": "stream",
     "text": [
      "New best model validation accuracy: 0.51837. Previous: 0.51723\n",
      "Train Accuracy: 0.5317, Val Accuracy: 0.5184, Test Accuracy: 0.4646\n",
      "Train loss: 1.6783\n",
      "\n",
      " Epoch 18 training:\n"
     ]
    },
    {
     "name": "stderr",
     "output_type": "stream",
     "text": [
      "100%|██████████| 711/711 [01:39<00:00,  7.13it/s]\n"
     ]
    },
    {
     "name": "stdout",
     "output_type": "stream",
     "text": [
      "Train Accuracy: 0.5280, Val Accuracy: 0.5159, Test Accuracy: 0.4594\n",
      "Train loss: 1.6635\n",
      "\n",
      " Epoch 19 training:\n"
     ]
    },
    {
     "name": "stderr",
     "output_type": "stream",
     "text": [
      "100%|██████████| 711/711 [01:39<00:00,  7.12it/s]\n"
     ]
    },
    {
     "name": "stdout",
     "output_type": "stream",
     "text": [
      "New best model validation accuracy: 0.51921. Previous: 0.51837\n",
      "Train Accuracy: 0.5303, Val Accuracy: 0.5192, Test Accuracy: 0.4630\n",
      "Train loss: 1.6598\n",
      "\n",
      " Epoch 20 training:\n"
     ]
    },
    {
     "name": "stderr",
     "output_type": "stream",
     "text": [
      "100%|██████████| 711/711 [01:39<00:00,  7.13it/s]\n"
     ]
    },
    {
     "name": "stdout",
     "output_type": "stream",
     "text": [
      "Train Accuracy: 0.5306, Val Accuracy: 0.5160, Test Accuracy: 0.4669\n",
      "Train loss: 1.6523\n",
      "\n",
      " Epoch 21 training:\n"
     ]
    },
    {
     "name": "stderr",
     "output_type": "stream",
     "text": [
      "100%|██████████| 711/711 [01:39<00:00,  7.15it/s]\n"
     ]
    },
    {
     "name": "stdout",
     "output_type": "stream",
     "text": [
      "New best model validation accuracy: 0.52576. Previous: 0.51921\n",
      "Train Accuracy: 0.5385, Val Accuracy: 0.5258, Test Accuracy: 0.4728\n",
      "Train loss: 1.6416\n",
      "\n",
      " Epoch 22 training:\n"
     ]
    },
    {
     "name": "stderr",
     "output_type": "stream",
     "text": [
      "100%|██████████| 711/711 [01:40<00:00,  7.09it/s]\n"
     ]
    },
    {
     "name": "stdout",
     "output_type": "stream",
     "text": [
      "Train Accuracy: 0.5410, Val Accuracy: 0.5241, Test Accuracy: 0.4735\n",
      "Train loss: 1.6318\n",
      "\n",
      " Epoch 23 training:\n"
     ]
    },
    {
     "name": "stderr",
     "output_type": "stream",
     "text": [
      "100%|██████████| 711/711 [01:40<00:00,  7.08it/s]\n"
     ]
    },
    {
     "name": "stdout",
     "output_type": "stream",
     "text": [
      "Train Accuracy: 0.5396, Val Accuracy: 0.5191, Test Accuracy: 0.4680\n",
      "Train loss: 1.6250\n",
      "\n",
      " Epoch 24 training:\n"
     ]
    },
    {
     "name": "stderr",
     "output_type": "stream",
     "text": [
      "100%|██████████| 711/711 [01:39<00:00,  7.13it/s]\n"
     ]
    },
    {
     "name": "stdout",
     "output_type": "stream",
     "text": [
      "Train Accuracy: 0.5427, Val Accuracy: 0.5219, Test Accuracy: 0.4691\n",
      "Train loss: 1.6156\n",
      "\n",
      " Epoch 25 training:\n"
     ]
    },
    {
     "name": "stderr",
     "output_type": "stream",
     "text": [
      "100%|██████████| 711/711 [01:39<00:00,  7.11it/s]\n"
     ]
    },
    {
     "name": "stdout",
     "output_type": "stream",
     "text": [
      "Train Accuracy: 0.5422, Val Accuracy: 0.5193, Test Accuracy: 0.4598\n",
      "Train loss: 1.6097\n",
      "\n",
      " Epoch 26 training:\n"
     ]
    },
    {
     "name": "stderr",
     "output_type": "stream",
     "text": [
      "100%|██████████| 711/711 [01:40<00:00,  7.11it/s]\n"
     ]
    },
    {
     "name": "stdout",
     "output_type": "stream",
     "text": [
      "New best model validation accuracy: 0.53928. Previous: 0.52576\n",
      "Train Accuracy: 0.5512, Val Accuracy: 0.5393, Test Accuracy: 0.4862\n",
      "Train loss: 1.6068\n",
      "\n",
      " Epoch 27 training:\n"
     ]
    },
    {
     "name": "stderr",
     "output_type": "stream",
     "text": [
      "100%|██████████| 711/711 [01:39<00:00,  7.16it/s]\n"
     ]
    },
    {
     "name": "stdout",
     "output_type": "stream",
     "text": [
      "Train Accuracy: 0.5523, Val Accuracy: 0.5329, Test Accuracy: 0.4805\n",
      "Train loss: 1.5970\n",
      "\n",
      " Epoch 28 training:\n"
     ]
    },
    {
     "name": "stderr",
     "output_type": "stream",
     "text": [
      "100%|██████████| 711/711 [01:40<00:00,  7.11it/s]\n"
     ]
    },
    {
     "name": "stdout",
     "output_type": "stream",
     "text": [
      "Train Accuracy: 0.5521, Val Accuracy: 0.5329, Test Accuracy: 0.4783\n",
      "Train loss: 1.5921\n",
      "\n",
      " Epoch 29 training:\n"
     ]
    },
    {
     "name": "stderr",
     "output_type": "stream",
     "text": [
      "100%|██████████| 711/711 [01:39<00:00,  7.17it/s]\n"
     ]
    },
    {
     "name": "stdout",
     "output_type": "stream",
     "text": [
      "Train Accuracy: 0.5484, Val Accuracy: 0.5223, Test Accuracy: 0.4768\n",
      "Train loss: 1.5888\n",
      "\n",
      " Epoch 30 training:\n"
     ]
    },
    {
     "name": "stderr",
     "output_type": "stream",
     "text": [
      "100%|██████████| 711/711 [01:40<00:00,  7.10it/s]\n"
     ]
    },
    {
     "name": "stdout",
     "output_type": "stream",
     "text": [
      "Train Accuracy: 0.5550, Val Accuracy: 0.5375, Test Accuracy: 0.4865\n",
      "Train loss: 1.5824\n",
      "\n",
      " Epoch 31 training:\n"
     ]
    },
    {
     "name": "stderr",
     "output_type": "stream",
     "text": [
      "100%|██████████| 711/711 [01:39<00:00,  7.17it/s]\n"
     ]
    },
    {
     "name": "stdout",
     "output_type": "stream",
     "text": [
      "Train Accuracy: 0.5560, Val Accuracy: 0.5379, Test Accuracy: 0.4811\n",
      "Train loss: 1.5844\n",
      "\n",
      " Epoch 32 training:\n"
     ]
    },
    {
     "name": "stderr",
     "output_type": "stream",
     "text": [
      "100%|██████████| 711/711 [01:39<00:00,  7.17it/s]\n"
     ]
    },
    {
     "name": "stdout",
     "output_type": "stream",
     "text": [
      "Train Accuracy: 0.5532, Val Accuracy: 0.5300, Test Accuracy: 0.4812\n",
      "Train loss: 1.5752\n",
      "\n",
      " Epoch 33 training:\n"
     ]
    },
    {
     "name": "stderr",
     "output_type": "stream",
     "text": [
      "100%|██████████| 711/711 [01:39<00:00,  7.12it/s]\n"
     ]
    },
    {
     "name": "stdout",
     "output_type": "stream",
     "text": [
      "Train Accuracy: 0.5579, Val Accuracy: 0.5360, Test Accuracy: 0.4823\n",
      "Train loss: 1.5685\n",
      "\n",
      " Epoch 34 training:\n"
     ]
    },
    {
     "name": "stderr",
     "output_type": "stream",
     "text": [
      "100%|██████████| 711/711 [01:38<00:00,  7.20it/s]\n"
     ]
    },
    {
     "name": "stdout",
     "output_type": "stream",
     "text": [
      "Train Accuracy: 0.5602, Val Accuracy: 0.5344, Test Accuracy: 0.4794\n",
      "Train loss: 1.5619\n",
      "\n",
      " Epoch 35 training:\n"
     ]
    },
    {
     "name": "stderr",
     "output_type": "stream",
     "text": [
      "100%|██████████| 711/711 [01:40<00:00,  7.10it/s]\n"
     ]
    },
    {
     "name": "stdout",
     "output_type": "stream",
     "text": [
      "Train Accuracy: 0.5565, Val Accuracy: 0.5322, Test Accuracy: 0.4789\n",
      "Train loss: 1.5628\n",
      "\n",
      " Epoch 36 training:\n"
     ]
    },
    {
     "name": "stderr",
     "output_type": "stream",
     "text": [
      "100%|██████████| 711/711 [01:40<00:00,  7.10it/s]\n"
     ]
    },
    {
     "name": "stdout",
     "output_type": "stream",
     "text": [
      "Train Accuracy: 0.5604, Val Accuracy: 0.5354, Test Accuracy: 0.4848\n",
      "Train loss: 1.5556\n",
      "\n",
      " Epoch 37 training:\n"
     ]
    },
    {
     "name": "stderr",
     "output_type": "stream",
     "text": [
      "100%|██████████| 711/711 [01:39<00:00,  7.13it/s]\n"
     ]
    },
    {
     "name": "stdout",
     "output_type": "stream",
     "text": [
      "New best model validation accuracy: 0.54384. Previous: 0.53928\n",
      "Train Accuracy: 0.5623, Val Accuracy: 0.5438, Test Accuracy: 0.4879\n",
      "Train loss: 1.5482\n",
      "\n",
      " Epoch 38 training:\n"
     ]
    },
    {
     "name": "stderr",
     "output_type": "stream",
     "text": [
      "100%|██████████| 711/711 [01:40<00:00,  7.10it/s]\n"
     ]
    },
    {
     "name": "stdout",
     "output_type": "stream",
     "text": [
      "Train Accuracy: 0.5608, Val Accuracy: 0.5409, Test Accuracy: 0.4847\n",
      "Train loss: 1.5489\n",
      "\n",
      " Epoch 39 training:\n"
     ]
    },
    {
     "name": "stderr",
     "output_type": "stream",
     "text": [
      "100%|██████████| 711/711 [01:39<00:00,  7.12it/s]\n"
     ]
    },
    {
     "name": "stdout",
     "output_type": "stream",
     "text": [
      "Train Accuracy: 0.5568, Val Accuracy: 0.5357, Test Accuracy: 0.4877\n",
      "Train loss: 1.5427\n",
      "\n",
      " Epoch 40 training:\n"
     ]
    },
    {
     "name": "stderr",
     "output_type": "stream",
     "text": [
      "100%|██████████| 711/711 [01:39<00:00,  7.16it/s]\n"
     ]
    },
    {
     "name": "stdout",
     "output_type": "stream",
     "text": [
      "Train Accuracy: 0.5660, Val Accuracy: 0.5412, Test Accuracy: 0.4858\n",
      "Train loss: 1.5361\n",
      "\n",
      " Epoch 41 training:\n"
     ]
    },
    {
     "name": "stderr",
     "output_type": "stream",
     "text": [
      "100%|██████████| 711/711 [01:39<00:00,  7.14it/s]\n"
     ]
    },
    {
     "name": "stdout",
     "output_type": "stream",
     "text": [
      "Train Accuracy: 0.5627, Val Accuracy: 0.5369, Test Accuracy: 0.4790\n",
      "Train loss: 1.5380\n",
      "\n",
      " Epoch 42 training:\n"
     ]
    },
    {
     "name": "stderr",
     "output_type": "stream",
     "text": [
      "100%|██████████| 711/711 [01:39<00:00,  7.15it/s]\n"
     ]
    },
    {
     "name": "stdout",
     "output_type": "stream",
     "text": [
      "Train Accuracy: 0.5640, Val Accuracy: 0.5412, Test Accuracy: 0.4889\n",
      "Train loss: 1.5284\n",
      "\n",
      " Epoch 43 training:\n"
     ]
    },
    {
     "name": "stderr",
     "output_type": "stream",
     "text": [
      "100%|██████████| 711/711 [01:40<00:00,  7.10it/s]\n"
     ]
    },
    {
     "name": "stdout",
     "output_type": "stream",
     "text": [
      "Train Accuracy: 0.5678, Val Accuracy: 0.5424, Test Accuracy: 0.4823\n",
      "Train loss: 1.5270\n",
      "\n",
      " Epoch 44 training:\n"
     ]
    },
    {
     "name": "stderr",
     "output_type": "stream",
     "text": [
      "100%|██████████| 711/711 [01:39<00:00,  7.16it/s]\n"
     ]
    },
    {
     "name": "stdout",
     "output_type": "stream",
     "text": [
      "Train Accuracy: 0.5670, Val Accuracy: 0.5421, Test Accuracy: 0.4916\n",
      "Train loss: 1.5217\n",
      "\n",
      " Epoch 45 training:\n"
     ]
    },
    {
     "name": "stderr",
     "output_type": "stream",
     "text": [
      "100%|██████████| 711/711 [01:39<00:00,  7.11it/s]\n"
     ]
    },
    {
     "name": "stdout",
     "output_type": "stream",
     "text": [
      "New best model validation accuracy: 0.54569. Previous: 0.54384\n",
      "Train Accuracy: 0.5700, Val Accuracy: 0.5457, Test Accuracy: 0.4878\n",
      "Train loss: 1.5199\n",
      "\n",
      " Epoch 46 training:\n"
     ]
    },
    {
     "name": "stderr",
     "output_type": "stream",
     "text": [
      "100%|██████████| 711/711 [01:39<00:00,  7.18it/s]\n"
     ]
    },
    {
     "name": "stdout",
     "output_type": "stream",
     "text": [
      "Train Accuracy: 0.5683, Val Accuracy: 0.5416, Test Accuracy: 0.4855\n",
      "Train loss: 1.5142\n",
      "\n",
      " Epoch 47 training:\n"
     ]
    },
    {
     "name": "stderr",
     "output_type": "stream",
     "text": [
      "100%|██████████| 711/711 [01:39<00:00,  7.13it/s]\n"
     ]
    },
    {
     "name": "stdout",
     "output_type": "stream",
     "text": [
      "Train Accuracy: 0.5718, Val Accuracy: 0.5443, Test Accuracy: 0.4876\n",
      "Train loss: 1.5094\n",
      "\n",
      " Epoch 48 training:\n"
     ]
    },
    {
     "name": "stderr",
     "output_type": "stream",
     "text": [
      "100%|██████████| 711/711 [01:39<00:00,  7.15it/s]\n"
     ]
    },
    {
     "name": "stdout",
     "output_type": "stream",
     "text": [
      "Train Accuracy: 0.5686, Val Accuracy: 0.5416, Test Accuracy: 0.4838\n",
      "Train loss: 1.5106\n",
      "\n",
      " Epoch 49 training:\n"
     ]
    },
    {
     "name": "stderr",
     "output_type": "stream",
     "text": [
      "100%|██████████| 711/711 [01:39<00:00,  7.11it/s]\n"
     ]
    },
    {
     "name": "stdout",
     "output_type": "stream",
     "text": [
      "New best model validation accuracy: 0.54629. Previous: 0.54569\n",
      "Train Accuracy: 0.5722, Val Accuracy: 0.5463, Test Accuracy: 0.4884\n",
      "Train loss: 1.5095\n",
      "\n",
      " Epoch 50 training:\n"
     ]
    },
    {
     "name": "stderr",
     "output_type": "stream",
     "text": [
      "100%|██████████| 711/711 [01:40<00:00,  7.10it/s]\n"
     ]
    },
    {
     "name": "stdout",
     "output_type": "stream",
     "text": [
      "New best model validation accuracy: 0.54864. Previous: 0.54629\n",
      "Train Accuracy: 0.5748, Val Accuracy: 0.5486, Test Accuracy: 0.4953\n",
      "Train loss: 1.5073\n",
      "\n",
      " Epoch 51 training:\n"
     ]
    },
    {
     "name": "stderr",
     "output_type": "stream",
     "text": [
      "100%|██████████| 711/711 [01:39<00:00,  7.13it/s]\n"
     ]
    },
    {
     "name": "stdout",
     "output_type": "stream",
     "text": [
      "Train Accuracy: 0.5679, Val Accuracy: 0.5431, Test Accuracy: 0.4908\n",
      "Train loss: 1.5020\n",
      "\n",
      " Epoch 52 training:\n"
     ]
    },
    {
     "name": "stderr",
     "output_type": "stream",
     "text": [
      "100%|██████████| 711/711 [01:39<00:00,  7.17it/s]\n"
     ]
    },
    {
     "name": "stdout",
     "output_type": "stream",
     "text": [
      "Train Accuracy: 0.5748, Val Accuracy: 0.5482, Test Accuracy: 0.4916\n",
      "Train loss: 1.4983\n",
      "\n",
      " Epoch 53 training:\n"
     ]
    },
    {
     "name": "stderr",
     "output_type": "stream",
     "text": [
      "100%|██████████| 711/711 [01:39<00:00,  7.13it/s]\n"
     ]
    },
    {
     "name": "stdout",
     "output_type": "stream",
     "text": [
      "Train Accuracy: 0.5707, Val Accuracy: 0.5420, Test Accuracy: 0.4913\n",
      "Train loss: 1.4971\n",
      "\n",
      " Epoch 54 training:\n"
     ]
    },
    {
     "name": "stderr",
     "output_type": "stream",
     "text": [
      "100%|██████████| 711/711 [01:39<00:00,  7.14it/s]\n"
     ]
    },
    {
     "name": "stdout",
     "output_type": "stream",
     "text": [
      "Train Accuracy: 0.5764, Val Accuracy: 0.5481, Test Accuracy: 0.4946\n",
      "Train loss: 1.4949\n",
      "\n",
      " Epoch 55 training:\n"
     ]
    },
    {
     "name": "stderr",
     "output_type": "stream",
     "text": [
      "100%|██████████| 711/711 [01:39<00:00,  7.15it/s]\n"
     ]
    },
    {
     "name": "stdout",
     "output_type": "stream",
     "text": [
      "New best model validation accuracy: 0.54975. Previous: 0.54864\n",
      "Train Accuracy: 0.5740, Val Accuracy: 0.5497, Test Accuracy: 0.5008\n",
      "Train loss: 1.4929\n",
      "\n",
      " Epoch 56 training:\n"
     ]
    },
    {
     "name": "stderr",
     "output_type": "stream",
     "text": [
      "100%|██████████| 711/711 [01:39<00:00,  7.13it/s]\n"
     ]
    },
    {
     "name": "stdout",
     "output_type": "stream",
     "text": [
      "Train Accuracy: 0.5692, Val Accuracy: 0.5359, Test Accuracy: 0.4890\n",
      "Train loss: 1.4858\n",
      "\n",
      " Epoch 57 training:\n"
     ]
    },
    {
     "name": "stderr",
     "output_type": "stream",
     "text": [
      "100%|██████████| 711/711 [01:40<00:00,  7.09it/s]\n"
     ]
    },
    {
     "name": "stdout",
     "output_type": "stream",
     "text": [
      "Train Accuracy: 0.5762, Val Accuracy: 0.5428, Test Accuracy: 0.4908\n",
      "Train loss: 1.4919\n",
      "\n",
      " Epoch 58 training:\n"
     ]
    },
    {
     "name": "stderr",
     "output_type": "stream",
     "text": [
      "100%|██████████| 711/711 [01:39<00:00,  7.12it/s]\n"
     ]
    },
    {
     "name": "stdout",
     "output_type": "stream",
     "text": [
      "Train Accuracy: 0.5727, Val Accuracy: 0.5450, Test Accuracy: 0.4938\n",
      "Train loss: 1.4831\n",
      "\n",
      " Epoch 59 training:\n"
     ]
    },
    {
     "name": "stderr",
     "output_type": "stream",
     "text": [
      "100%|██████████| 711/711 [01:39<00:00,  7.17it/s]\n"
     ]
    },
    {
     "name": "stdout",
     "output_type": "stream",
     "text": [
      "Train Accuracy: 0.5814, Val Accuracy: 0.5494, Test Accuracy: 0.4969\n",
      "Train loss: 1.4816\n",
      "\n",
      " Epoch 60 training:\n"
     ]
    },
    {
     "name": "stderr",
     "output_type": "stream",
     "text": [
      "100%|██████████| 711/711 [01:39<00:00,  7.12it/s]\n"
     ]
    },
    {
     "name": "stdout",
     "output_type": "stream",
     "text": [
      "New best model validation accuracy: 0.55136. Previous: 0.54975\n",
      "Train Accuracy: 0.5792, Val Accuracy: 0.5514, Test Accuracy: 0.4972\n",
      "Train loss: 1.4827\n",
      "\n",
      " Epoch 61 training:\n"
     ]
    },
    {
     "name": "stderr",
     "output_type": "stream",
     "text": [
      "100%|██████████| 711/711 [01:40<00:00,  7.09it/s]\n"
     ]
    },
    {
     "name": "stdout",
     "output_type": "stream",
     "text": [
      "Train Accuracy: 0.5774, Val Accuracy: 0.5456, Test Accuracy: 0.4930\n",
      "Train loss: 1.4755\n",
      "\n",
      " Epoch 62 training:\n"
     ]
    },
    {
     "name": "stderr",
     "output_type": "stream",
     "text": [
      "100%|██████████| 711/711 [01:39<00:00,  7.14it/s]\n"
     ]
    },
    {
     "name": "stdout",
     "output_type": "stream",
     "text": [
      "New best model validation accuracy: 0.55247. Previous: 0.55136\n",
      "Train Accuracy: 0.5822, Val Accuracy: 0.5525, Test Accuracy: 0.4961\n",
      "Train loss: 1.4820\n",
      "\n",
      " Epoch 63 training:\n"
     ]
    },
    {
     "name": "stderr",
     "output_type": "stream",
     "text": [
      "100%|██████████| 711/711 [01:39<00:00,  7.12it/s]\n"
     ]
    },
    {
     "name": "stdout",
     "output_type": "stream",
     "text": [
      "New best model validation accuracy: 0.55327. Previous: 0.55247\n",
      "Train Accuracy: 0.5828, Val Accuracy: 0.5533, Test Accuracy: 0.4956\n",
      "Train loss: 1.4715\n",
      "\n",
      " Epoch 64 training:\n"
     ]
    },
    {
     "name": "stderr",
     "output_type": "stream",
     "text": [
      "100%|██████████| 711/711 [01:39<00:00,  7.16it/s]\n"
     ]
    },
    {
     "name": "stdout",
     "output_type": "stream",
     "text": [
      "Train Accuracy: 0.5837, Val Accuracy: 0.5507, Test Accuracy: 0.4902\n",
      "Train loss: 1.4742\n",
      "\n",
      " Epoch 65 training:\n"
     ]
    },
    {
     "name": "stderr",
     "output_type": "stream",
     "text": [
      "100%|██████████| 711/711 [01:39<00:00,  7.14it/s]\n"
     ]
    },
    {
     "name": "stdout",
     "output_type": "stream",
     "text": [
      "Train Accuracy: 0.5842, Val Accuracy: 0.5467, Test Accuracy: 0.4938\n",
      "Train loss: 1.4720\n",
      "\n",
      " Epoch 66 training:\n"
     ]
    },
    {
     "name": "stderr",
     "output_type": "stream",
     "text": [
      "100%|██████████| 711/711 [01:39<00:00,  7.14it/s]\n"
     ]
    },
    {
     "name": "stdout",
     "output_type": "stream",
     "text": [
      "Train Accuracy: 0.5843, Val Accuracy: 0.5470, Test Accuracy: 0.4891\n",
      "Train loss: 1.4646\n",
      "\n",
      " Epoch 67 training:\n"
     ]
    },
    {
     "name": "stderr",
     "output_type": "stream",
     "text": [
      "100%|██████████| 711/711 [01:39<00:00,  7.15it/s]\n"
     ]
    },
    {
     "name": "stdout",
     "output_type": "stream",
     "text": [
      "Train Accuracy: 0.5806, Val Accuracy: 0.5429, Test Accuracy: 0.4843\n",
      "Train loss: 1.4644\n",
      "\n",
      " Epoch 68 training:\n"
     ]
    },
    {
     "name": "stderr",
     "output_type": "stream",
     "text": [
      "100%|██████████| 711/711 [01:39<00:00,  7.16it/s]\n"
     ]
    },
    {
     "name": "stdout",
     "output_type": "stream",
     "text": [
      "Train Accuracy: 0.5845, Val Accuracy: 0.5477, Test Accuracy: 0.4933\n",
      "Train loss: 1.4634\n",
      "\n",
      " Epoch 69 training:\n"
     ]
    },
    {
     "name": "stderr",
     "output_type": "stream",
     "text": [
      "100%|██████████| 711/711 [01:39<00:00,  7.15it/s]\n"
     ]
    },
    {
     "name": "stdout",
     "output_type": "stream",
     "text": [
      "Train Accuracy: 0.5781, Val Accuracy: 0.5461, Test Accuracy: 0.4910\n",
      "Train loss: 1.4619\n",
      "\n",
      " Epoch 70 training:\n"
     ]
    },
    {
     "name": "stderr",
     "output_type": "stream",
     "text": [
      "100%|██████████| 711/711 [01:39<00:00,  7.15it/s]\n"
     ]
    },
    {
     "name": "stdout",
     "output_type": "stream",
     "text": [
      "Train Accuracy: 0.5820, Val Accuracy: 0.5452, Test Accuracy: 0.4918\n",
      "Train loss: 1.4652\n",
      "\n",
      " Epoch 71 training:\n"
     ]
    },
    {
     "name": "stderr",
     "output_type": "stream",
     "text": [
      "100%|██████████| 711/711 [01:39<00:00,  7.14it/s]\n"
     ]
    },
    {
     "name": "stdout",
     "output_type": "stream",
     "text": [
      "Train Accuracy: 0.5826, Val Accuracy: 0.5510, Test Accuracy: 0.4950\n",
      "Train loss: 1.4610\n",
      "\n",
      " Epoch 72 training:\n"
     ]
    },
    {
     "name": "stderr",
     "output_type": "stream",
     "text": [
      "100%|██████████| 711/711 [01:39<00:00,  7.13it/s]\n"
     ]
    },
    {
     "name": "stdout",
     "output_type": "stream",
     "text": [
      "Train Accuracy: 0.5852, Val Accuracy: 0.5501, Test Accuracy: 0.4945\n",
      "Train loss: 1.4551\n",
      "\n",
      " Epoch 73 training:\n"
     ]
    },
    {
     "name": "stderr",
     "output_type": "stream",
     "text": [
      "100%|██████████| 711/711 [01:39<00:00,  7.11it/s]\n"
     ]
    },
    {
     "name": "stdout",
     "output_type": "stream",
     "text": [
      "Train Accuracy: 0.5852, Val Accuracy: 0.5509, Test Accuracy: 0.4975\n",
      "Train loss: 1.4537\n",
      "\n",
      " Epoch 74 training:\n"
     ]
    },
    {
     "name": "stderr",
     "output_type": "stream",
     "text": [
      "100%|██████████| 711/711 [01:40<00:00,  7.07it/s]\n"
     ]
    },
    {
     "name": "stdout",
     "output_type": "stream",
     "text": [
      "Train Accuracy: 0.5884, Val Accuracy: 0.5518, Test Accuracy: 0.5004\n",
      "Train loss: 1.4488\n",
      "\n",
      " Epoch 75 training:\n"
     ]
    },
    {
     "name": "stderr",
     "output_type": "stream",
     "text": [
      "100%|██████████| 711/711 [01:40<00:00,  7.10it/s]\n"
     ]
    },
    {
     "name": "stdout",
     "output_type": "stream",
     "text": [
      "Train Accuracy: 0.5811, Val Accuracy: 0.5450, Test Accuracy: 0.4954\n",
      "Train loss: 1.4587\n",
      "\n",
      " Epoch 76 training:\n"
     ]
    },
    {
     "name": "stderr",
     "output_type": "stream",
     "text": [
      "100%|██████████| 711/711 [01:39<00:00,  7.14it/s]\n"
     ]
    },
    {
     "name": "stdout",
     "output_type": "stream",
     "text": [
      "Train Accuracy: 0.5865, Val Accuracy: 0.5469, Test Accuracy: 0.4898\n",
      "Train loss: 1.4490\n",
      "\n",
      " Epoch 77 training:\n"
     ]
    },
    {
     "name": "stderr",
     "output_type": "stream",
     "text": [
      "100%|██████████| 711/711 [01:39<00:00,  7.17it/s]\n"
     ]
    },
    {
     "name": "stdout",
     "output_type": "stream",
     "text": [
      "Train Accuracy: 0.5904, Val Accuracy: 0.5510, Test Accuracy: 0.4944\n",
      "Train loss: 1.4466\n",
      "\n",
      " Epoch 78 training:\n"
     ]
    },
    {
     "name": "stderr",
     "output_type": "stream",
     "text": [
      "100%|██████████| 711/711 [01:40<00:00,  7.09it/s]\n"
     ]
    },
    {
     "name": "stdout",
     "output_type": "stream",
     "text": [
      "Train Accuracy: 0.5910, Val Accuracy: 0.5521, Test Accuracy: 0.4980\n",
      "Train loss: 1.4440\n",
      "\n",
      " Epoch 79 training:\n"
     ]
    },
    {
     "name": "stderr",
     "output_type": "stream",
     "text": [
      "100%|██████████| 711/711 [01:40<00:00,  7.09it/s]\n"
     ]
    },
    {
     "name": "stdout",
     "output_type": "stream",
     "text": [
      "New best model validation accuracy: 0.55371. Previous: 0.55327\n",
      "Train Accuracy: 0.5860, Val Accuracy: 0.5537, Test Accuracy: 0.5010\n",
      "Train loss: 1.4422\n",
      "\n",
      " Epoch 80 training:\n"
     ]
    },
    {
     "name": "stderr",
     "output_type": "stream",
     "text": [
      "100%|██████████| 711/711 [01:40<00:00,  7.09it/s]\n"
     ]
    },
    {
     "name": "stdout",
     "output_type": "stream",
     "text": [
      "New best model validation accuracy: 0.55609. Previous: 0.55371\n",
      "Train Accuracy: 0.5891, Val Accuracy: 0.5561, Test Accuracy: 0.4979\n",
      "Train loss: 1.4450\n",
      "\n",
      " Epoch 81 training:\n"
     ]
    },
    {
     "name": "stderr",
     "output_type": "stream",
     "text": [
      "100%|██████████| 711/711 [01:39<00:00,  7.14it/s]\n"
     ]
    },
    {
     "name": "stdout",
     "output_type": "stream",
     "text": [
      "Train Accuracy: 0.5869, Val Accuracy: 0.5476, Test Accuracy: 0.4978\n",
      "Train loss: 1.4409\n",
      "\n",
      " Epoch 82 training:\n"
     ]
    },
    {
     "name": "stderr",
     "output_type": "stream",
     "text": [
      "100%|██████████| 711/711 [01:40<00:00,  7.11it/s]\n"
     ]
    },
    {
     "name": "stdout",
     "output_type": "stream",
     "text": [
      "Train Accuracy: 0.5898, Val Accuracy: 0.5527, Test Accuracy: 0.4942\n",
      "Train loss: 1.4368\n",
      "\n",
      " Epoch 83 training:\n"
     ]
    },
    {
     "name": "stderr",
     "output_type": "stream",
     "text": [
      "100%|██████████| 711/711 [01:39<00:00,  7.17it/s]\n"
     ]
    },
    {
     "name": "stdout",
     "output_type": "stream",
     "text": [
      "Train Accuracy: 0.5892, Val Accuracy: 0.5542, Test Accuracy: 0.4976\n",
      "Train loss: 1.4389\n",
      "\n",
      " Epoch 84 training:\n"
     ]
    },
    {
     "name": "stderr",
     "output_type": "stream",
     "text": [
      "100%|██████████| 711/711 [01:39<00:00,  7.16it/s]\n"
     ]
    },
    {
     "name": "stdout",
     "output_type": "stream",
     "text": [
      "Train Accuracy: 0.5895, Val Accuracy: 0.5558, Test Accuracy: 0.4973\n",
      "Train loss: 1.4317\n",
      "\n",
      " Epoch 85 training:\n"
     ]
    },
    {
     "name": "stderr",
     "output_type": "stream",
     "text": [
      "100%|██████████| 711/711 [01:38<00:00,  7.19it/s]\n"
     ]
    },
    {
     "name": "stdout",
     "output_type": "stream",
     "text": [
      "Train Accuracy: 0.5915, Val Accuracy: 0.5520, Test Accuracy: 0.4965\n",
      "Train loss: 1.4326\n",
      "\n",
      " Epoch 86 training:\n"
     ]
    },
    {
     "name": "stderr",
     "output_type": "stream",
     "text": [
      "100%|██████████| 711/711 [01:40<00:00,  7.10it/s]\n"
     ]
    },
    {
     "name": "stdout",
     "output_type": "stream",
     "text": [
      "Train Accuracy: 0.5945, Val Accuracy: 0.5555, Test Accuracy: 0.4965\n",
      "Train loss: 1.4343\n",
      "\n",
      " Epoch 87 training:\n"
     ]
    },
    {
     "name": "stderr",
     "output_type": "stream",
     "text": [
      "100%|██████████| 711/711 [01:39<00:00,  7.11it/s]\n"
     ]
    },
    {
     "name": "stdout",
     "output_type": "stream",
     "text": [
      "Train Accuracy: 0.5923, Val Accuracy: 0.5536, Test Accuracy: 0.4980\n",
      "Train loss: 1.4343\n",
      "\n",
      " Epoch 88 training:\n"
     ]
    },
    {
     "name": "stderr",
     "output_type": "stream",
     "text": [
      "100%|██████████| 711/711 [01:39<00:00,  7.16it/s]\n"
     ]
    },
    {
     "name": "stdout",
     "output_type": "stream",
     "text": [
      "Train Accuracy: 0.5937, Val Accuracy: 0.5519, Test Accuracy: 0.4959\n",
      "Train loss: 1.4271\n",
      "\n",
      " Epoch 89 training:\n"
     ]
    },
    {
     "name": "stderr",
     "output_type": "stream",
     "text": [
      "100%|██████████| 711/711 [01:38<00:00,  7.19it/s]\n"
     ]
    },
    {
     "name": "stdout",
     "output_type": "stream",
     "text": [
      "Train Accuracy: 0.5942, Val Accuracy: 0.5559, Test Accuracy: 0.4979\n",
      "Train loss: 1.4331\n",
      "\n",
      " Epoch 90 training:\n"
     ]
    },
    {
     "name": "stderr",
     "output_type": "stream",
     "text": [
      "100%|██████████| 711/711 [01:39<00:00,  7.16it/s]\n"
     ]
    },
    {
     "name": "stdout",
     "output_type": "stream",
     "text": [
      "New best model validation accuracy: 0.55626. Previous: 0.55609\n",
      "Train Accuracy: 0.5944, Val Accuracy: 0.5563, Test Accuracy: 0.4953\n",
      "Train loss: 1.4264\n",
      "\n",
      " Epoch 91 training:\n"
     ]
    },
    {
     "name": "stderr",
     "output_type": "stream",
     "text": [
      "100%|██████████| 711/711 [01:40<00:00,  7.10it/s]\n"
     ]
    },
    {
     "name": "stdout",
     "output_type": "stream",
     "text": [
      "Train Accuracy: 0.5944, Val Accuracy: 0.5532, Test Accuracy: 0.4923\n",
      "Train loss: 1.4253\n",
      "\n",
      " Epoch 92 training:\n"
     ]
    },
    {
     "name": "stderr",
     "output_type": "stream",
     "text": [
      "100%|██████████| 711/711 [01:39<00:00,  7.13it/s]\n"
     ]
    },
    {
     "name": "stdout",
     "output_type": "stream",
     "text": [
      "New best model validation accuracy: 0.55733. Previous: 0.55626\n",
      "Train Accuracy: 0.5966, Val Accuracy: 0.5573, Test Accuracy: 0.4951\n",
      "Train loss: 1.4255\n",
      "\n",
      " Epoch 93 training:\n"
     ]
    },
    {
     "name": "stderr",
     "output_type": "stream",
     "text": [
      "100%|██████████| 711/711 [01:39<00:00,  7.16it/s]\n"
     ]
    },
    {
     "name": "stdout",
     "output_type": "stream",
     "text": [
      "Train Accuracy: 0.5953, Val Accuracy: 0.5538, Test Accuracy: 0.4960\n",
      "Train loss: 1.4208\n",
      "\n",
      " Epoch 94 training:\n"
     ]
    },
    {
     "name": "stderr",
     "output_type": "stream",
     "text": [
      "100%|██████████| 711/711 [01:39<00:00,  7.14it/s]\n"
     ]
    },
    {
     "name": "stdout",
     "output_type": "stream",
     "text": [
      "Train Accuracy: 0.5947, Val Accuracy: 0.5560, Test Accuracy: 0.5004\n",
      "Train loss: 1.4204\n",
      "\n",
      " Epoch 95 training:\n"
     ]
    },
    {
     "name": "stderr",
     "output_type": "stream",
     "text": [
      "100%|██████████| 711/711 [01:39<00:00,  7.13it/s]\n"
     ]
    },
    {
     "name": "stdout",
     "output_type": "stream",
     "text": [
      "Train Accuracy: 0.5935, Val Accuracy: 0.5544, Test Accuracy: 0.4984\n",
      "Train loss: 1.4232\n",
      "\n",
      " Epoch 96 training:\n"
     ]
    },
    {
     "name": "stderr",
     "output_type": "stream",
     "text": [
      "100%|██████████| 711/711 [01:39<00:00,  7.15it/s]\n"
     ]
    },
    {
     "name": "stdout",
     "output_type": "stream",
     "text": [
      "New best model validation accuracy: 0.55901. Previous: 0.55733\n",
      "Train Accuracy: 0.5997, Val Accuracy: 0.5590, Test Accuracy: 0.5009\n",
      "Train loss: 1.4138\n",
      "\n",
      " Epoch 97 training:\n"
     ]
    },
    {
     "name": "stderr",
     "output_type": "stream",
     "text": [
      "100%|██████████| 711/711 [01:39<00:00,  7.13it/s]\n"
     ]
    },
    {
     "name": "stdout",
     "output_type": "stream",
     "text": [
      "Train Accuracy: 0.5963, Val Accuracy: 0.5588, Test Accuracy: 0.5016\n",
      "Train loss: 1.4153\n",
      "\n",
      " Epoch 98 training:\n"
     ]
    },
    {
     "name": "stderr",
     "output_type": "stream",
     "text": [
      "100%|██████████| 711/711 [01:39<00:00,  7.13it/s]\n"
     ]
    },
    {
     "name": "stdout",
     "output_type": "stream",
     "text": [
      "New best model validation accuracy: 0.55968. Previous: 0.55901\n",
      "Train Accuracy: 0.5998, Val Accuracy: 0.5597, Test Accuracy: 0.5017\n",
      "Train loss: 1.4166\n",
      "\n",
      " Epoch 99 training:\n"
     ]
    },
    {
     "name": "stderr",
     "output_type": "stream",
     "text": [
      "100%|██████████| 711/711 [01:39<00:00,  7.14it/s]\n"
     ]
    },
    {
     "name": "stdout",
     "output_type": "stream",
     "text": [
      "Train Accuracy: 0.5970, Val Accuracy: 0.5558, Test Accuracy: 0.4991\n",
      "Train loss: 1.4151\n",
      "\n",
      " Epoch 100 training:\n"
     ]
    },
    {
     "name": "stderr",
     "output_type": "stream",
     "text": [
      "100%|██████████| 711/711 [01:39<00:00,  7.11it/s]\n"
     ]
    },
    {
     "name": "stdout",
     "output_type": "stream",
     "text": [
      "Train Accuracy: 0.5951, Val Accuracy: 0.5544, Test Accuracy: 0.4968\n",
      "Train loss: 1.4154\n",
      "\n",
      " Epoch 101 training:\n"
     ]
    },
    {
     "name": "stderr",
     "output_type": "stream",
     "text": [
      "100%|██████████| 711/711 [01:39<00:00,  7.12it/s]\n"
     ]
    },
    {
     "name": "stdout",
     "output_type": "stream",
     "text": [
      "Train Accuracy: 0.5953, Val Accuracy: 0.5499, Test Accuracy: 0.4956\n",
      "Train loss: 1.4121\n",
      "\n",
      " Epoch 102 training:\n"
     ]
    },
    {
     "name": "stderr",
     "output_type": "stream",
     "text": [
      "100%|██████████| 711/711 [01:39<00:00,  7.11it/s]\n"
     ]
    },
    {
     "name": "stdout",
     "output_type": "stream",
     "text": [
      "Train Accuracy: 0.5998, Val Accuracy: 0.5565, Test Accuracy: 0.4966\n",
      "Train loss: 1.4070\n",
      "\n",
      " Epoch 103 training:\n"
     ]
    },
    {
     "name": "stderr",
     "output_type": "stream",
     "text": [
      "100%|██████████| 711/711 [01:39<00:00,  7.14it/s]\n"
     ]
    },
    {
     "name": "stdout",
     "output_type": "stream",
     "text": [
      "Train Accuracy: 0.6014, Val Accuracy: 0.5596, Test Accuracy: 0.5028\n",
      "Train loss: 1.4081\n",
      "\n",
      " Epoch 104 training:\n"
     ]
    },
    {
     "name": "stderr",
     "output_type": "stream",
     "text": [
      "100%|██████████| 711/711 [01:39<00:00,  7.15it/s]\n"
     ]
    },
    {
     "name": "stdout",
     "output_type": "stream",
     "text": [
      "New best model validation accuracy: 0.55992. Previous: 0.55968\n",
      "Train Accuracy: 0.6013, Val Accuracy: 0.5599, Test Accuracy: 0.5028\n",
      "Train loss: 1.4079\n",
      "\n",
      " Epoch 105 training:\n"
     ]
    },
    {
     "name": "stderr",
     "output_type": "stream",
     "text": [
      "100%|██████████| 711/711 [01:39<00:00,  7.17it/s]\n"
     ]
    },
    {
     "name": "stdout",
     "output_type": "stream",
     "text": [
      "Train Accuracy: 0.6019, Val Accuracy: 0.5599, Test Accuracy: 0.4996\n",
      "Train loss: 1.4086\n",
      "\n",
      " Epoch 106 training:\n"
     ]
    },
    {
     "name": "stderr",
     "output_type": "stream",
     "text": [
      "100%|██████████| 711/711 [01:39<00:00,  7.13it/s]\n"
     ]
    },
    {
     "name": "stdout",
     "output_type": "stream",
     "text": [
      "Train Accuracy: 0.6020, Val Accuracy: 0.5529, Test Accuracy: 0.4958\n",
      "Train loss: 1.4032\n",
      "\n",
      " Epoch 107 training:\n"
     ]
    },
    {
     "name": "stderr",
     "output_type": "stream",
     "text": [
      "100%|██████████| 711/711 [01:39<00:00,  7.16it/s]\n"
     ]
    },
    {
     "name": "stdout",
     "output_type": "stream",
     "text": [
      "Train Accuracy: 0.6027, Val Accuracy: 0.5575, Test Accuracy: 0.4962\n",
      "Train loss: 1.4069\n",
      "\n",
      " Epoch 108 training:\n"
     ]
    },
    {
     "name": "stderr",
     "output_type": "stream",
     "text": [
      "100%|██████████| 711/711 [01:39<00:00,  7.11it/s]\n"
     ]
    },
    {
     "name": "stdout",
     "output_type": "stream",
     "text": [
      "Train Accuracy: 0.5990, Val Accuracy: 0.5568, Test Accuracy: 0.5003\n",
      "Train loss: 1.4010\n",
      "\n",
      " Epoch 109 training:\n"
     ]
    },
    {
     "name": "stderr",
     "output_type": "stream",
     "text": [
      "100%|██████████| 711/711 [01:39<00:00,  7.12it/s]\n"
     ]
    },
    {
     "name": "stdout",
     "output_type": "stream",
     "text": [
      "Train Accuracy: 0.6005, Val Accuracy: 0.5584, Test Accuracy: 0.5029\n",
      "Train loss: 1.4008\n",
      "\n",
      " Epoch 110 training:\n"
     ]
    },
    {
     "name": "stderr",
     "output_type": "stream",
     "text": [
      "100%|██████████| 711/711 [01:39<00:00,  7.11it/s]\n"
     ]
    },
    {
     "name": "stdout",
     "output_type": "stream",
     "text": [
      "New best model validation accuracy: 0.56076. Previous: 0.55992\n",
      "Train Accuracy: 0.6050, Val Accuracy: 0.5608, Test Accuracy: 0.5008\n",
      "Train loss: 1.4054\n",
      "\n",
      " Epoch 111 training:\n"
     ]
    },
    {
     "name": "stderr",
     "output_type": "stream",
     "text": [
      "100%|██████████| 711/711 [01:39<00:00,  7.13it/s]\n"
     ]
    },
    {
     "name": "stdout",
     "output_type": "stream",
     "text": [
      "Train Accuracy: 0.5999, Val Accuracy: 0.5576, Test Accuracy: 0.4982\n",
      "Train loss: 1.4015\n",
      "\n",
      " Epoch 112 training:\n"
     ]
    },
    {
     "name": "stderr",
     "output_type": "stream",
     "text": [
      "100%|██████████| 711/711 [01:40<00:00,  7.10it/s]\n"
     ]
    },
    {
     "name": "stdout",
     "output_type": "stream",
     "text": [
      "New best model validation accuracy: 0.56106. Previous: 0.56076\n",
      "Train Accuracy: 0.6058, Val Accuracy: 0.5611, Test Accuracy: 0.5047\n",
      "Train loss: 1.4016\n",
      "\n",
      " Epoch 113 training:\n"
     ]
    },
    {
     "name": "stderr",
     "output_type": "stream",
     "text": [
      "100%|██████████| 711/711 [01:39<00:00,  7.15it/s]\n"
     ]
    },
    {
     "name": "stdout",
     "output_type": "stream",
     "text": [
      "Train Accuracy: 0.5984, Val Accuracy: 0.5566, Test Accuracy: 0.5032\n",
      "Train loss: 1.3970\n",
      "\n",
      " Epoch 114 training:\n"
     ]
    },
    {
     "name": "stderr",
     "output_type": "stream",
     "text": [
      "100%|██████████| 711/711 [01:39<00:00,  7.16it/s]\n"
     ]
    },
    {
     "name": "stdout",
     "output_type": "stream",
     "text": [
      "Train Accuracy: 0.5968, Val Accuracy: 0.5540, Test Accuracy: 0.4977\n",
      "Train loss: 1.4009\n",
      "\n",
      " Epoch 115 training:\n"
     ]
    },
    {
     "name": "stderr",
     "output_type": "stream",
     "text": [
      "100%|██████████| 711/711 [01:39<00:00,  7.14it/s]\n"
     ]
    },
    {
     "name": "stdout",
     "output_type": "stream",
     "text": [
      "New best model validation accuracy: 0.56217. Previous: 0.56106\n",
      "Train Accuracy: 0.6030, Val Accuracy: 0.5622, Test Accuracy: 0.5019\n",
      "Train loss: 1.3989\n",
      "\n",
      " Epoch 116 training:\n"
     ]
    },
    {
     "name": "stderr",
     "output_type": "stream",
     "text": [
      "100%|██████████| 711/711 [01:39<00:00,  7.15it/s]\n"
     ]
    },
    {
     "name": "stdout",
     "output_type": "stream",
     "text": [
      "Train Accuracy: 0.5983, Val Accuracy: 0.5531, Test Accuracy: 0.4994\n",
      "Train loss: 1.3974\n",
      "\n",
      " Epoch 117 training:\n"
     ]
    },
    {
     "name": "stderr",
     "output_type": "stream",
     "text": [
      "100%|██████████| 711/711 [01:39<00:00,  7.16it/s]\n"
     ]
    },
    {
     "name": "stdout",
     "output_type": "stream",
     "text": [
      "Train Accuracy: 0.5988, Val Accuracy: 0.5541, Test Accuracy: 0.5033\n",
      "Train loss: 1.3934\n",
      "\n",
      " Epoch 118 training:\n"
     ]
    },
    {
     "name": "stderr",
     "output_type": "stream",
     "text": [
      "100%|██████████| 711/711 [01:39<00:00,  7.13it/s]\n"
     ]
    },
    {
     "name": "stdout",
     "output_type": "stream",
     "text": [
      "Train Accuracy: 0.6034, Val Accuracy: 0.5602, Test Accuracy: 0.5035\n",
      "Train loss: 1.3955\n",
      "\n",
      " Epoch 119 training:\n"
     ]
    },
    {
     "name": "stderr",
     "output_type": "stream",
     "text": [
      "100%|██████████| 711/711 [01:40<00:00,  7.10it/s]\n"
     ]
    },
    {
     "name": "stdout",
     "output_type": "stream",
     "text": [
      "Train Accuracy: 0.6042, Val Accuracy: 0.5580, Test Accuracy: 0.5008\n",
      "Train loss: 1.3932\n",
      "\n",
      " Epoch 120 training:\n"
     ]
    },
    {
     "name": "stderr",
     "output_type": "stream",
     "text": [
      "100%|██████████| 711/711 [01:39<00:00,  7.15it/s]\n"
     ]
    },
    {
     "name": "stdout",
     "output_type": "stream",
     "text": [
      "Train Accuracy: 0.6057, Val Accuracy: 0.5615, Test Accuracy: 0.5020\n",
      "Train loss: 1.3958\n",
      "\n",
      " Epoch 121 training:\n"
     ]
    },
    {
     "name": "stderr",
     "output_type": "stream",
     "text": [
      "100%|██████████| 711/711 [01:39<00:00,  7.16it/s]\n"
     ]
    },
    {
     "name": "stdout",
     "output_type": "stream",
     "text": [
      "Train Accuracy: 0.6048, Val Accuracy: 0.5592, Test Accuracy: 0.5042\n",
      "Train loss: 1.3879\n",
      "\n",
      " Epoch 122 training:\n"
     ]
    },
    {
     "name": "stderr",
     "output_type": "stream",
     "text": [
      "100%|██████████| 711/711 [01:40<00:00,  7.08it/s]\n"
     ]
    },
    {
     "name": "stdout",
     "output_type": "stream",
     "text": [
      "New best model validation accuracy: 0.56264. Previous: 0.56217\n",
      "Train Accuracy: 0.6070, Val Accuracy: 0.5626, Test Accuracy: 0.5021\n",
      "Train loss: 1.3854\n",
      "\n",
      " Epoch 123 training:\n"
     ]
    },
    {
     "name": "stderr",
     "output_type": "stream",
     "text": [
      "100%|██████████| 711/711 [01:39<00:00,  7.12it/s]\n"
     ]
    },
    {
     "name": "stdout",
     "output_type": "stream",
     "text": [
      "Train Accuracy: 0.6077, Val Accuracy: 0.5601, Test Accuracy: 0.5023\n",
      "Train loss: 1.3872\n",
      "\n",
      " Epoch 124 training:\n"
     ]
    },
    {
     "name": "stderr",
     "output_type": "stream",
     "text": [
      "100%|██████████| 711/711 [01:39<00:00,  7.14it/s]\n"
     ]
    },
    {
     "name": "stdout",
     "output_type": "stream",
     "text": [
      "Train Accuracy: 0.6065, Val Accuracy: 0.5604, Test Accuracy: 0.5002\n",
      "Train loss: 1.3920\n",
      "\n",
      " Epoch 125 training:\n"
     ]
    },
    {
     "name": "stderr",
     "output_type": "stream",
     "text": [
      "100%|██████████| 711/711 [01:39<00:00,  7.18it/s]\n"
     ]
    },
    {
     "name": "stdout",
     "output_type": "stream",
     "text": [
      "Train Accuracy: 0.6075, Val Accuracy: 0.5577, Test Accuracy: 0.5010\n",
      "Train loss: 1.3883\n",
      "\n",
      " Epoch 126 training:\n"
     ]
    },
    {
     "name": "stderr",
     "output_type": "stream",
     "text": [
      "100%|██████████| 711/711 [01:40<00:00,  7.10it/s]\n"
     ]
    },
    {
     "name": "stdout",
     "output_type": "stream",
     "text": [
      "New best model validation accuracy: 0.56556. Previous: 0.56264\n",
      "Train Accuracy: 0.6088, Val Accuracy: 0.5656, Test Accuracy: 0.5092\n",
      "Train loss: 1.3862\n",
      "\n",
      " Epoch 127 training:\n"
     ]
    },
    {
     "name": "stderr",
     "output_type": "stream",
     "text": [
      "100%|██████████| 711/711 [01:39<00:00,  7.15it/s]\n"
     ]
    },
    {
     "name": "stdout",
     "output_type": "stream",
     "text": [
      "Train Accuracy: 0.6044, Val Accuracy: 0.5571, Test Accuracy: 0.5018\n",
      "Train loss: 1.3909\n",
      "\n",
      " Epoch 128 training:\n"
     ]
    },
    {
     "name": "stderr",
     "output_type": "stream",
     "text": [
      "100%|██████████| 711/711 [01:39<00:00,  7.11it/s]\n"
     ]
    },
    {
     "name": "stdout",
     "output_type": "stream",
     "text": [
      "Train Accuracy: 0.6055, Val Accuracy: 0.5590, Test Accuracy: 0.5025\n",
      "Train loss: 1.3871\n",
      "\n",
      " Epoch 129 training:\n"
     ]
    },
    {
     "name": "stderr",
     "output_type": "stream",
     "text": [
      "100%|██████████| 711/711 [01:39<00:00,  7.13it/s]\n"
     ]
    },
    {
     "name": "stdout",
     "output_type": "stream",
     "text": [
      "Train Accuracy: 0.6100, Val Accuracy: 0.5611, Test Accuracy: 0.4997\n",
      "Train loss: 1.3822\n",
      "\n",
      " Epoch 130 training:\n"
     ]
    },
    {
     "name": "stderr",
     "output_type": "stream",
     "text": [
      "100%|██████████| 711/711 [01:40<00:00,  7.10it/s]\n"
     ]
    },
    {
     "name": "stdout",
     "output_type": "stream",
     "text": [
      "Train Accuracy: 0.6043, Val Accuracy: 0.5564, Test Accuracy: 0.4998\n",
      "Train loss: 1.3803\n",
      "\n",
      " Epoch 131 training:\n"
     ]
    },
    {
     "name": "stderr",
     "output_type": "stream",
     "text": [
      "100%|██████████| 711/711 [01:39<00:00,  7.12it/s]\n"
     ]
    },
    {
     "name": "stdout",
     "output_type": "stream",
     "text": [
      "Train Accuracy: 0.6038, Val Accuracy: 0.5502, Test Accuracy: 0.4986\n",
      "Train loss: 1.3771\n",
      "\n",
      " Epoch 132 training:\n"
     ]
    },
    {
     "name": "stderr",
     "output_type": "stream",
     "text": [
      "100%|██████████| 711/711 [01:39<00:00,  7.13it/s]\n"
     ]
    },
    {
     "name": "stdout",
     "output_type": "stream",
     "text": [
      "Train Accuracy: 0.6048, Val Accuracy: 0.5585, Test Accuracy: 0.5003\n",
      "Train loss: 1.3788\n",
      "\n",
      " Epoch 133 training:\n"
     ]
    },
    {
     "name": "stderr",
     "output_type": "stream",
     "text": [
      "100%|██████████| 711/711 [01:39<00:00,  7.13it/s]\n"
     ]
    },
    {
     "name": "stdout",
     "output_type": "stream",
     "text": [
      "Train Accuracy: 0.6105, Val Accuracy: 0.5597, Test Accuracy: 0.5020\n",
      "Train loss: 1.3792\n",
      "\n",
      " Epoch 134 training:\n"
     ]
    },
    {
     "name": "stderr",
     "output_type": "stream",
     "text": [
      "100%|██████████| 711/711 [01:40<00:00,  7.08it/s]\n"
     ]
    },
    {
     "name": "stdout",
     "output_type": "stream",
     "text": [
      "Train Accuracy: 0.6080, Val Accuracy: 0.5605, Test Accuracy: 0.5014\n",
      "Train loss: 1.3779\n",
      "\n",
      " Epoch 135 training:\n"
     ]
    },
    {
     "name": "stderr",
     "output_type": "stream",
     "text": [
      "100%|██████████| 711/711 [01:39<00:00,  7.11it/s]\n"
     ]
    },
    {
     "name": "stdout",
     "output_type": "stream",
     "text": [
      "Train Accuracy: 0.6015, Val Accuracy: 0.5539, Test Accuracy: 0.5023\n",
      "Train loss: 1.3746\n",
      "\n",
      " Epoch 136 training:\n"
     ]
    },
    {
     "name": "stderr",
     "output_type": "stream",
     "text": [
      "100%|██████████| 711/711 [01:39<00:00,  7.13it/s]\n"
     ]
    },
    {
     "name": "stdout",
     "output_type": "stream",
     "text": [
      "Train Accuracy: 0.6116, Val Accuracy: 0.5644, Test Accuracy: 0.5056\n",
      "Train loss: 1.3746\n",
      "\n",
      " Epoch 137 training:\n"
     ]
    },
    {
     "name": "stderr",
     "output_type": "stream",
     "text": [
      "100%|██████████| 711/711 [01:39<00:00,  7.15it/s]\n"
     ]
    },
    {
     "name": "stdout",
     "output_type": "stream",
     "text": [
      "Train Accuracy: 0.6118, Val Accuracy: 0.5642, Test Accuracy: 0.5050\n",
      "Train loss: 1.3756\n",
      "\n",
      " Epoch 138 training:\n"
     ]
    },
    {
     "name": "stderr",
     "output_type": "stream",
     "text": [
      "100%|██████████| 711/711 [01:39<00:00,  7.17it/s]\n"
     ]
    },
    {
     "name": "stdout",
     "output_type": "stream",
     "text": [
      "Train Accuracy: 0.6075, Val Accuracy: 0.5562, Test Accuracy: 0.4972\n",
      "Train loss: 1.3704\n",
      "\n",
      " Epoch 139 training:\n"
     ]
    },
    {
     "name": "stderr",
     "output_type": "stream",
     "text": [
      "100%|██████████| 711/711 [01:39<00:00,  7.11it/s]\n"
     ]
    },
    {
     "name": "stdout",
     "output_type": "stream",
     "text": [
      "Train Accuracy: 0.6078, Val Accuracy: 0.5598, Test Accuracy: 0.5075\n",
      "Train loss: 1.3769\n",
      "\n",
      " Epoch 140 training:\n"
     ]
    },
    {
     "name": "stderr",
     "output_type": "stream",
     "text": [
      "100%|██████████| 711/711 [01:39<00:00,  7.14it/s]\n"
     ]
    },
    {
     "name": "stdout",
     "output_type": "stream",
     "text": [
      "Train Accuracy: 0.6075, Val Accuracy: 0.5613, Test Accuracy: 0.4981\n",
      "Train loss: 1.3736\n",
      "\n",
      " Epoch 141 training:\n"
     ]
    },
    {
     "name": "stderr",
     "output_type": "stream",
     "text": [
      "100%|██████████| 711/711 [01:39<00:00,  7.16it/s]\n"
     ]
    },
    {
     "name": "stdout",
     "output_type": "stream",
     "text": [
      "Train Accuracy: 0.6075, Val Accuracy: 0.5610, Test Accuracy: 0.5041\n",
      "Train loss: 1.3740\n",
      "\n",
      " Epoch 142 training:\n"
     ]
    },
    {
     "name": "stderr",
     "output_type": "stream",
     "text": [
      "100%|██████████| 711/711 [01:39<00:00,  7.15it/s]\n"
     ]
    },
    {
     "name": "stdout",
     "output_type": "stream",
     "text": [
      "Train Accuracy: 0.6084, Val Accuracy: 0.5590, Test Accuracy: 0.5010\n",
      "Train loss: 1.3759\n",
      "\n",
      " Epoch 143 training:\n"
     ]
    },
    {
     "name": "stderr",
     "output_type": "stream",
     "text": [
      "100%|██████████| 711/711 [01:39<00:00,  7.12it/s]\n"
     ]
    },
    {
     "name": "stdout",
     "output_type": "stream",
     "text": [
      "Train Accuracy: 0.6099, Val Accuracy: 0.5606, Test Accuracy: 0.4993\n",
      "Train loss: 1.3711\n",
      "\n",
      " Epoch 144 training:\n"
     ]
    },
    {
     "name": "stderr",
     "output_type": "stream",
     "text": [
      "100%|██████████| 711/711 [01:39<00:00,  7.14it/s]\n"
     ]
    },
    {
     "name": "stdout",
     "output_type": "stream",
     "text": [
      "Train Accuracy: 0.6095, Val Accuracy: 0.5615, Test Accuracy: 0.5063\n",
      "Train loss: 1.3768\n",
      "\n",
      " Epoch 145 training:\n"
     ]
    },
    {
     "name": "stderr",
     "output_type": "stream",
     "text": [
      "100%|██████████| 711/711 [01:40<00:00,  7.11it/s]\n"
     ]
    },
    {
     "name": "stdout",
     "output_type": "stream",
     "text": [
      "Train Accuracy: 0.6098, Val Accuracy: 0.5623, Test Accuracy: 0.5040\n",
      "Train loss: 1.3703\n",
      "\n",
      " Epoch 146 training:\n"
     ]
    },
    {
     "name": "stderr",
     "output_type": "stream",
     "text": [
      "100%|██████████| 711/711 [01:40<00:00,  7.10it/s]\n"
     ]
    },
    {
     "name": "stdout",
     "output_type": "stream",
     "text": [
      "Train Accuracy: 0.6098, Val Accuracy: 0.5592, Test Accuracy: 0.4985\n",
      "Train loss: 1.3706\n",
      "\n",
      " Epoch 147 training:\n"
     ]
    },
    {
     "name": "stderr",
     "output_type": "stream",
     "text": [
      "100%|██████████| 711/711 [01:40<00:00,  7.10it/s]\n"
     ]
    },
    {
     "name": "stdout",
     "output_type": "stream",
     "text": [
      "Train Accuracy: 0.6108, Val Accuracy: 0.5651, Test Accuracy: 0.5086\n",
      "Train loss: 1.3713\n",
      "\n",
      " Epoch 148 training:\n"
     ]
    },
    {
     "name": "stderr",
     "output_type": "stream",
     "text": [
      "100%|██████████| 711/711 [01:39<00:00,  7.15it/s]\n"
     ]
    },
    {
     "name": "stdout",
     "output_type": "stream",
     "text": [
      "Train Accuracy: 0.6071, Val Accuracy: 0.5614, Test Accuracy: 0.5061\n",
      "Train loss: 1.3672\n",
      "\n",
      " Epoch 149 training:\n"
     ]
    },
    {
     "name": "stderr",
     "output_type": "stream",
     "text": [
      "100%|██████████| 711/711 [01:39<00:00,  7.15it/s]\n"
     ]
    },
    {
     "name": "stdout",
     "output_type": "stream",
     "text": [
      "Train Accuracy: 0.6123, Val Accuracy: 0.5627, Test Accuracy: 0.5022\n",
      "Train loss: 1.3686\n",
      "\n",
      " Epoch 150 training:\n"
     ]
    },
    {
     "name": "stderr",
     "output_type": "stream",
     "text": [
      "100%|██████████| 711/711 [01:40<00:00,  7.08it/s]\n"
     ]
    },
    {
     "name": "stdout",
     "output_type": "stream",
     "text": [
      "Train Accuracy: 0.6114, Val Accuracy: 0.5637, Test Accuracy: 0.5080\n",
      "Train loss: 1.3688\n",
      "\n",
      " Epoch 151 training:\n"
     ]
    },
    {
     "name": "stderr",
     "output_type": "stream",
     "text": [
      "100%|██████████| 711/711 [01:39<00:00,  7.12it/s]\n"
     ]
    },
    {
     "name": "stdout",
     "output_type": "stream",
     "text": [
      "Train Accuracy: 0.6066, Val Accuracy: 0.5583, Test Accuracy: 0.5016\n",
      "Train loss: 1.3646\n",
      "\n",
      " Epoch 152 training:\n"
     ]
    },
    {
     "name": "stderr",
     "output_type": "stream",
     "text": [
      "100%|██████████| 711/711 [01:41<00:00,  7.00it/s]\n"
     ]
    },
    {
     "name": "stdout",
     "output_type": "stream",
     "text": [
      "Train Accuracy: 0.6094, Val Accuracy: 0.5607, Test Accuracy: 0.5032\n",
      "Train loss: 1.3631\n",
      "\n",
      " Epoch 153 training:\n"
     ]
    },
    {
     "name": "stderr",
     "output_type": "stream",
     "text": [
      "100%|██████████| 711/711 [01:41<00:00,  7.00it/s]\n"
     ]
    },
    {
     "name": "stdout",
     "output_type": "stream",
     "text": [
      "Train Accuracy: 0.6123, Val Accuracy: 0.5639, Test Accuracy: 0.5049\n",
      "Train loss: 1.3599\n",
      "\n",
      " Epoch 154 training:\n"
     ]
    },
    {
     "name": "stderr",
     "output_type": "stream",
     "text": [
      "100%|██████████| 711/711 [01:40<00:00,  7.11it/s]\n"
     ]
    },
    {
     "name": "stdout",
     "output_type": "stream",
     "text": [
      "New best model validation accuracy: 0.56636. Previous: 0.56556\n",
      "Train Accuracy: 0.6120, Val Accuracy: 0.5664, Test Accuracy: 0.5081\n",
      "Train loss: 1.3617\n",
      "\n",
      " Epoch 155 training:\n"
     ]
    },
    {
     "name": "stderr",
     "output_type": "stream",
     "text": [
      "100%|██████████| 711/711 [01:39<00:00,  7.12it/s]\n"
     ]
    },
    {
     "name": "stdout",
     "output_type": "stream",
     "text": [
      "Train Accuracy: 0.6112, Val Accuracy: 0.5613, Test Accuracy: 0.5030\n",
      "Train loss: 1.3644\n",
      "\n",
      " Epoch 156 training:\n"
     ]
    },
    {
     "name": "stderr",
     "output_type": "stream",
     "text": [
      "100%|██████████| 711/711 [01:39<00:00,  7.13it/s]\n"
     ]
    },
    {
     "name": "stdout",
     "output_type": "stream",
     "text": [
      "Train Accuracy: 0.6123, Val Accuracy: 0.5612, Test Accuracy: 0.5004\n",
      "Train loss: 1.3652\n",
      "\n",
      " Epoch 157 training:\n"
     ]
    },
    {
     "name": "stderr",
     "output_type": "stream",
     "text": [
      "100%|██████████| 711/711 [01:40<00:00,  7.07it/s]\n"
     ]
    },
    {
     "name": "stdout",
     "output_type": "stream",
     "text": [
      "Train Accuracy: 0.6115, Val Accuracy: 0.5629, Test Accuracy: 0.5070\n",
      "Train loss: 1.3629\n",
      "\n",
      " Epoch 158 training:\n"
     ]
    },
    {
     "name": "stderr",
     "output_type": "stream",
     "text": [
      "100%|██████████| 711/711 [01:40<00:00,  7.06it/s]\n"
     ]
    },
    {
     "name": "stdout",
     "output_type": "stream",
     "text": [
      "Train Accuracy: 0.6121, Val Accuracy: 0.5655, Test Accuracy: 0.5072\n",
      "Train loss: 1.3596\n",
      "\n",
      " Epoch 159 training:\n"
     ]
    },
    {
     "name": "stderr",
     "output_type": "stream",
     "text": [
      "100%|██████████| 711/711 [01:40<00:00,  7.07it/s]\n"
     ]
    },
    {
     "name": "stdout",
     "output_type": "stream",
     "text": [
      "Train Accuracy: 0.6135, Val Accuracy: 0.5637, Test Accuracy: 0.5086\n",
      "Train loss: 1.3580\n",
      "\n",
      " Epoch 160 training:\n"
     ]
    },
    {
     "name": "stderr",
     "output_type": "stream",
     "text": [
      "100%|██████████| 711/711 [01:40<00:00,  7.11it/s]\n"
     ]
    },
    {
     "name": "stdout",
     "output_type": "stream",
     "text": [
      "Train Accuracy: 0.6117, Val Accuracy: 0.5612, Test Accuracy: 0.5072\n",
      "Train loss: 1.3563\n",
      "\n",
      " Epoch 161 training:\n"
     ]
    },
    {
     "name": "stderr",
     "output_type": "stream",
     "text": [
      "100%|██████████| 711/711 [01:39<00:00,  7.12it/s]\n"
     ]
    },
    {
     "name": "stdout",
     "output_type": "stream",
     "text": [
      "Train Accuracy: 0.6096, Val Accuracy: 0.5606, Test Accuracy: 0.5058\n",
      "Train loss: 1.3623\n",
      "\n",
      " Epoch 162 training:\n"
     ]
    },
    {
     "name": "stderr",
     "output_type": "stream",
     "text": [
      "100%|██████████| 711/711 [01:40<00:00,  7.06it/s]\n"
     ]
    },
    {
     "name": "stdout",
     "output_type": "stream",
     "text": [
      "Train Accuracy: 0.6135, Val Accuracy: 0.5637, Test Accuracy: 0.5079\n",
      "Train loss: 1.3591\n",
      "\n",
      " Epoch 163 training:\n"
     ]
    },
    {
     "name": "stderr",
     "output_type": "stream",
     "text": [
      "100%|██████████| 711/711 [01:40<00:00,  7.11it/s]\n"
     ]
    },
    {
     "name": "stdout",
     "output_type": "stream",
     "text": [
      "Train Accuracy: 0.6100, Val Accuracy: 0.5626, Test Accuracy: 0.5034\n",
      "Train loss: 1.3583\n",
      "\n",
      " Epoch 164 training:\n"
     ]
    },
    {
     "name": "stderr",
     "output_type": "stream",
     "text": [
      "100%|██████████| 711/711 [01:39<00:00,  7.12it/s]\n"
     ]
    },
    {
     "name": "stdout",
     "output_type": "stream",
     "text": [
      "Train Accuracy: 0.6093, Val Accuracy: 0.5539, Test Accuracy: 0.4967\n",
      "Train loss: 1.3569\n",
      "\n",
      " Epoch 165 training:\n"
     ]
    },
    {
     "name": "stderr",
     "output_type": "stream",
     "text": [
      "100%|██████████| 711/711 [01:39<00:00,  7.11it/s]\n"
     ]
    },
    {
     "name": "stdout",
     "output_type": "stream",
     "text": [
      "Train Accuracy: 0.6145, Val Accuracy: 0.5622, Test Accuracy: 0.5011\n",
      "Train loss: 1.3577\n",
      "\n",
      " Epoch 166 training:\n"
     ]
    },
    {
     "name": "stderr",
     "output_type": "stream",
     "text": [
      "100%|██████████| 711/711 [01:40<00:00,  7.06it/s]\n"
     ]
    },
    {
     "name": "stdout",
     "output_type": "stream",
     "text": [
      "Train Accuracy: 0.6119, Val Accuracy: 0.5579, Test Accuracy: 0.4992\n",
      "Train loss: 1.3518\n",
      "\n",
      " Epoch 167 training:\n"
     ]
    },
    {
     "name": "stderr",
     "output_type": "stream",
     "text": [
      "100%|██████████| 711/711 [01:40<00:00,  7.10it/s]\n"
     ]
    },
    {
     "name": "stdout",
     "output_type": "stream",
     "text": [
      "Train Accuracy: 0.6115, Val Accuracy: 0.5623, Test Accuracy: 0.5079\n",
      "Train loss: 1.3535\n",
      "\n",
      " Epoch 168 training:\n"
     ]
    },
    {
     "name": "stderr",
     "output_type": "stream",
     "text": [
      "100%|██████████| 711/711 [01:40<00:00,  7.08it/s]\n"
     ]
    },
    {
     "name": "stdout",
     "output_type": "stream",
     "text": [
      "Train Accuracy: 0.6168, Val Accuracy: 0.5663, Test Accuracy: 0.5102\n",
      "Train loss: 1.3536\n",
      "\n",
      " Epoch 169 training:\n"
     ]
    },
    {
     "name": "stderr",
     "output_type": "stream",
     "text": [
      "100%|██████████| 711/711 [01:40<00:00,  7.11it/s]\n"
     ]
    },
    {
     "name": "stdout",
     "output_type": "stream",
     "text": [
      "Train Accuracy: 0.6106, Val Accuracy: 0.5620, Test Accuracy: 0.5031\n",
      "Train loss: 1.3526\n",
      "\n",
      " Epoch 170 training:\n"
     ]
    },
    {
     "name": "stderr",
     "output_type": "stream",
     "text": [
      "100%|██████████| 711/711 [01:39<00:00,  7.15it/s]\n"
     ]
    },
    {
     "name": "stdout",
     "output_type": "stream",
     "text": [
      "Train Accuracy: 0.6087, Val Accuracy: 0.5547, Test Accuracy: 0.5006\n",
      "Train loss: 1.3542\n",
      "\n",
      " Epoch 171 training:\n"
     ]
    },
    {
     "name": "stderr",
     "output_type": "stream",
     "text": [
      "100%|██████████| 711/711 [01:39<00:00,  7.12it/s]\n"
     ]
    },
    {
     "name": "stdout",
     "output_type": "stream",
     "text": [
      "Train Accuracy: 0.6108, Val Accuracy: 0.5604, Test Accuracy: 0.5047\n",
      "Train loss: 1.3513\n",
      "\n",
      " Epoch 172 training:\n"
     ]
    },
    {
     "name": "stderr",
     "output_type": "stream",
     "text": [
      "100%|██████████| 711/711 [01:40<00:00,  7.10it/s]\n"
     ]
    },
    {
     "name": "stdout",
     "output_type": "stream",
     "text": [
      "Train Accuracy: 0.6133, Val Accuracy: 0.5600, Test Accuracy: 0.5038\n",
      "Train loss: 1.3514\n",
      "\n",
      " Epoch 173 training:\n"
     ]
    },
    {
     "name": "stderr",
     "output_type": "stream",
     "text": [
      "100%|██████████| 711/711 [01:40<00:00,  7.07it/s]\n"
     ]
    },
    {
     "name": "stdout",
     "output_type": "stream",
     "text": [
      "Train Accuracy: 0.6159, Val Accuracy: 0.5644, Test Accuracy: 0.5078\n",
      "Train loss: 1.3560\n",
      "\n",
      " Epoch 174 training:\n"
     ]
    },
    {
     "name": "stderr",
     "output_type": "stream",
     "text": [
      "100%|██████████| 711/711 [01:39<00:00,  7.12it/s]\n"
     ]
    },
    {
     "name": "stdout",
     "output_type": "stream",
     "text": [
      "Train Accuracy: 0.6155, Val Accuracy: 0.5635, Test Accuracy: 0.5037\n",
      "Train loss: 1.3479\n",
      "\n",
      " Epoch 175 training:\n"
     ]
    },
    {
     "name": "stderr",
     "output_type": "stream",
     "text": [
      "100%|██████████| 711/711 [01:40<00:00,  7.06it/s]\n"
     ]
    },
    {
     "name": "stdout",
     "output_type": "stream",
     "text": [
      "New best model validation accuracy: 0.56653. Previous: 0.56636\n",
      "Train Accuracy: 0.6150, Val Accuracy: 0.5665, Test Accuracy: 0.5082\n",
      "Train loss: 1.3500\n",
      "\n",
      " Epoch 176 training:\n"
     ]
    },
    {
     "name": "stderr",
     "output_type": "stream",
     "text": [
      "100%|██████████| 711/711 [01:40<00:00,  7.05it/s]\n"
     ]
    },
    {
     "name": "stdout",
     "output_type": "stream",
     "text": [
      "Train Accuracy: 0.6175, Val Accuracy: 0.5643, Test Accuracy: 0.5083\n",
      "Train loss: 1.3521\n",
      "\n",
      " Epoch 177 training:\n"
     ]
    },
    {
     "name": "stderr",
     "output_type": "stream",
     "text": [
      "100%|██████████| 711/711 [01:41<00:00,  7.02it/s]\n"
     ]
    },
    {
     "name": "stdout",
     "output_type": "stream",
     "text": [
      "Train Accuracy: 0.6125, Val Accuracy: 0.5623, Test Accuracy: 0.5070\n",
      "Train loss: 1.3498\n",
      "\n",
      " Epoch 178 training:\n"
     ]
    },
    {
     "name": "stderr",
     "output_type": "stream",
     "text": [
      "100%|██████████| 711/711 [01:40<00:00,  7.05it/s]\n"
     ]
    },
    {
     "name": "stdout",
     "output_type": "stream",
     "text": [
      "New best model validation accuracy: 0.56777. Previous: 0.56653\n",
      "Train Accuracy: 0.6216, Val Accuracy: 0.5678, Test Accuracy: 0.5101\n",
      "Train loss: 1.3479\n",
      "\n",
      " Epoch 179 training:\n"
     ]
    },
    {
     "name": "stderr",
     "output_type": "stream",
     "text": [
      "100%|██████████| 711/711 [01:40<00:00,  7.05it/s]\n"
     ]
    },
    {
     "name": "stdout",
     "output_type": "stream",
     "text": [
      "Train Accuracy: 0.6145, Val Accuracy: 0.5651, Test Accuracy: 0.5071\n",
      "Train loss: 1.3455\n",
      "\n",
      " Epoch 180 training:\n"
     ]
    },
    {
     "name": "stderr",
     "output_type": "stream",
     "text": [
      "100%|██████████| 711/711 [01:40<00:00,  7.09it/s]\n"
     ]
    },
    {
     "name": "stdout",
     "output_type": "stream",
     "text": [
      "Train Accuracy: 0.6144, Val Accuracy: 0.5663, Test Accuracy: 0.5110\n",
      "Train loss: 1.3401\n",
      "\n",
      " Epoch 181 training:\n"
     ]
    },
    {
     "name": "stderr",
     "output_type": "stream",
     "text": [
      "100%|██████████| 711/711 [01:40<00:00,  7.10it/s]\n"
     ]
    },
    {
     "name": "stdout",
     "output_type": "stream",
     "text": [
      "Train Accuracy: 0.6151, Val Accuracy: 0.5604, Test Accuracy: 0.5033\n",
      "Train loss: 1.3440\n",
      "\n",
      " Epoch 182 training:\n"
     ]
    },
    {
     "name": "stderr",
     "output_type": "stream",
     "text": [
      "100%|██████████| 711/711 [01:40<00:00,  7.09it/s]\n"
     ]
    },
    {
     "name": "stdout",
     "output_type": "stream",
     "text": [
      "Train Accuracy: 0.6151, Val Accuracy: 0.5608, Test Accuracy: 0.5013\n",
      "Train loss: 1.3477\n",
      "\n",
      " Epoch 183 training:\n"
     ]
    },
    {
     "name": "stderr",
     "output_type": "stream",
     "text": [
      "100%|██████████| 711/711 [01:39<00:00,  7.12it/s]\n"
     ]
    },
    {
     "name": "stdout",
     "output_type": "stream",
     "text": [
      "Train Accuracy: 0.6160, Val Accuracy: 0.5665, Test Accuracy: 0.5097\n",
      "Train loss: 1.3453\n",
      "\n",
      " Epoch 184 training:\n"
     ]
    },
    {
     "name": "stderr",
     "output_type": "stream",
     "text": [
      "100%|██████████| 711/711 [01:40<00:00,  7.11it/s]\n"
     ]
    },
    {
     "name": "stdout",
     "output_type": "stream",
     "text": [
      "Train Accuracy: 0.6108, Val Accuracy: 0.5600, Test Accuracy: 0.4990\n",
      "Train loss: 1.3443\n",
      "\n",
      " Epoch 185 training:\n"
     ]
    },
    {
     "name": "stderr",
     "output_type": "stream",
     "text": [
      "100%|██████████| 711/711 [01:40<00:00,  7.09it/s]\n"
     ]
    },
    {
     "name": "stdout",
     "output_type": "stream",
     "text": [
      "Train Accuracy: 0.6100, Val Accuracy: 0.5603, Test Accuracy: 0.4988\n",
      "Train loss: 1.3442\n",
      "\n",
      " Epoch 186 training:\n"
     ]
    },
    {
     "name": "stderr",
     "output_type": "stream",
     "text": [
      "100%|██████████| 711/711 [01:40<00:00,  7.10it/s]\n"
     ]
    },
    {
     "name": "stdout",
     "output_type": "stream",
     "text": [
      "Train Accuracy: 0.6159, Val Accuracy: 0.5655, Test Accuracy: 0.5078\n",
      "Train loss: 1.3420\n",
      "\n",
      " Epoch 187 training:\n"
     ]
    },
    {
     "name": "stderr",
     "output_type": "stream",
     "text": [
      "100%|██████████| 711/711 [01:40<00:00,  7.10it/s]\n"
     ]
    },
    {
     "name": "stdout",
     "output_type": "stream",
     "text": [
      "Train Accuracy: 0.6174, Val Accuracy: 0.5648, Test Accuracy: 0.5042\n",
      "Train loss: 1.3446\n",
      "\n",
      " Epoch 188 training:\n"
     ]
    },
    {
     "name": "stderr",
     "output_type": "stream",
     "text": [
      "100%|██████████| 711/711 [01:40<00:00,  7.10it/s]\n"
     ]
    },
    {
     "name": "stdout",
     "output_type": "stream",
     "text": [
      "Train Accuracy: 0.6159, Val Accuracy: 0.5646, Test Accuracy: 0.5092\n",
      "Train loss: 1.3486\n",
      "\n",
      " Epoch 189 training:\n"
     ]
    },
    {
     "name": "stderr",
     "output_type": "stream",
     "text": [
      "100%|██████████| 711/711 [01:39<00:00,  7.12it/s]\n"
     ]
    },
    {
     "name": "stdout",
     "output_type": "stream",
     "text": [
      "New best model validation accuracy: 0.56814. Previous: 0.56777\n",
      "Train Accuracy: 0.6184, Val Accuracy: 0.5681, Test Accuracy: 0.5068\n",
      "Train loss: 1.3415\n",
      "\n",
      " Epoch 190 training:\n"
     ]
    },
    {
     "name": "stderr",
     "output_type": "stream",
     "text": [
      "100%|██████████| 711/711 [01:40<00:00,  7.10it/s]\n"
     ]
    },
    {
     "name": "stdout",
     "output_type": "stream",
     "text": [
      "Train Accuracy: 0.6182, Val Accuracy: 0.5638, Test Accuracy: 0.5035\n",
      "Train loss: 1.3382\n",
      "\n",
      " Epoch 191 training:\n"
     ]
    },
    {
     "name": "stderr",
     "output_type": "stream",
     "text": [
      "100%|██████████| 711/711 [01:39<00:00,  7.14it/s]\n"
     ]
    },
    {
     "name": "stdout",
     "output_type": "stream",
     "text": [
      "Train Accuracy: 0.6171, Val Accuracy: 0.5616, Test Accuracy: 0.5063\n",
      "Train loss: 1.3389\n",
      "\n",
      " Epoch 192 training:\n"
     ]
    },
    {
     "name": "stderr",
     "output_type": "stream",
     "text": [
      "100%|██████████| 711/711 [01:40<00:00,  7.10it/s]\n"
     ]
    },
    {
     "name": "stdout",
     "output_type": "stream",
     "text": [
      "Train Accuracy: 0.6208, Val Accuracy: 0.5674, Test Accuracy: 0.5093\n",
      "Train loss: 1.3406\n",
      "\n",
      " Epoch 193 training:\n"
     ]
    },
    {
     "name": "stderr",
     "output_type": "stream",
     "text": [
      "100%|██████████| 711/711 [01:39<00:00,  7.14it/s]\n"
     ]
    },
    {
     "name": "stdout",
     "output_type": "stream",
     "text": [
      "Train Accuracy: 0.6180, Val Accuracy: 0.5646, Test Accuracy: 0.5052\n",
      "Train loss: 1.3431\n",
      "\n",
      " Epoch 194 training:\n"
     ]
    },
    {
     "name": "stderr",
     "output_type": "stream",
     "text": [
      "100%|██████████| 711/711 [01:39<00:00,  7.12it/s]\n"
     ]
    },
    {
     "name": "stdout",
     "output_type": "stream",
     "text": [
      "Train Accuracy: 0.6203, Val Accuracy: 0.5632, Test Accuracy: 0.4990\n",
      "Train loss: 1.3432\n",
      "\n",
      " Epoch 195 training:\n"
     ]
    },
    {
     "name": "stderr",
     "output_type": "stream",
     "text": [
      "100%|██████████| 711/711 [01:39<00:00,  7.16it/s]\n"
     ]
    },
    {
     "name": "stdout",
     "output_type": "stream",
     "text": [
      "Train Accuracy: 0.6185, Val Accuracy: 0.5633, Test Accuracy: 0.5062\n",
      "Train loss: 1.3432\n",
      "\n",
      " Epoch 196 training:\n"
     ]
    },
    {
     "name": "stderr",
     "output_type": "stream",
     "text": [
      "100%|██████████| 711/711 [01:39<00:00,  7.18it/s]\n"
     ]
    },
    {
     "name": "stdout",
     "output_type": "stream",
     "text": [
      "Train Accuracy: 0.6211, Val Accuracy: 0.5650, Test Accuracy: 0.5049\n",
      "Train loss: 1.3404\n",
      "\n",
      " Epoch 197 training:\n"
     ]
    },
    {
     "name": "stderr",
     "output_type": "stream",
     "text": [
      "100%|██████████| 711/711 [01:38<00:00,  7.19it/s]\n"
     ]
    },
    {
     "name": "stdout",
     "output_type": "stream",
     "text": [
      "Train Accuracy: 0.6166, Val Accuracy: 0.5637, Test Accuracy: 0.5072\n",
      "Train loss: 1.3442\n",
      "\n",
      " Epoch 198 training:\n"
     ]
    },
    {
     "name": "stderr",
     "output_type": "stream",
     "text": [
      "100%|██████████| 711/711 [01:39<00:00,  7.13it/s]\n"
     ]
    },
    {
     "name": "stdout",
     "output_type": "stream",
     "text": [
      "Train Accuracy: 0.6231, Val Accuracy: 0.5675, Test Accuracy: 0.5040\n",
      "Train loss: 1.3370\n",
      "\n",
      " Epoch 199 training:\n"
     ]
    },
    {
     "name": "stderr",
     "output_type": "stream",
     "text": [
      "100%|██████████| 711/711 [01:39<00:00,  7.14it/s]\n"
     ]
    },
    {
     "name": "stdout",
     "output_type": "stream",
     "text": [
      "Train Accuracy: 0.6198, Val Accuracy: 0.5647, Test Accuracy: 0.5040\n",
      "Train loss: 1.3327\n",
      "\n",
      " Epoch 200 training:\n"
     ]
    },
    {
     "name": "stderr",
     "output_type": "stream",
     "text": [
      "100%|██████████| 711/711 [01:39<00:00,  7.16it/s]\n"
     ]
    },
    {
     "name": "stdout",
     "output_type": "stream",
     "text": [
      "Train Accuracy: 0.6175, Val Accuracy: 0.5581, Test Accuracy: 0.5035\n",
      "Train loss: 1.3379\n",
      "\n",
      " Epoch 201 training:\n"
     ]
    },
    {
     "name": "stderr",
     "output_type": "stream",
     "text": [
      "100%|██████████| 711/711 [01:39<00:00,  7.14it/s]\n"
     ]
    },
    {
     "name": "stdout",
     "output_type": "stream",
     "text": [
      "Train Accuracy: 0.6210, Val Accuracy: 0.5657, Test Accuracy: 0.5059\n",
      "Train loss: 1.3400\n",
      "\n",
      " Epoch 202 training:\n"
     ]
    },
    {
     "name": "stderr",
     "output_type": "stream",
     "text": [
      "100%|██████████| 711/711 [01:39<00:00,  7.14it/s]\n"
     ]
    },
    {
     "name": "stdout",
     "output_type": "stream",
     "text": [
      "Train Accuracy: 0.6170, Val Accuracy: 0.5638, Test Accuracy: 0.5056\n",
      "Train loss: 1.3350\n",
      "\n",
      " Epoch 203 training:\n"
     ]
    },
    {
     "name": "stderr",
     "output_type": "stream",
     "text": [
      "100%|██████████| 711/711 [01:39<00:00,  7.15it/s]\n"
     ]
    },
    {
     "name": "stdout",
     "output_type": "stream",
     "text": [
      "Train Accuracy: 0.6180, Val Accuracy: 0.5650, Test Accuracy: 0.5054\n",
      "Train loss: 1.3401\n",
      "\n",
      " Epoch 204 training:\n"
     ]
    },
    {
     "name": "stderr",
     "output_type": "stream",
     "text": [
      "100%|██████████| 711/711 [01:40<00:00,  7.10it/s]\n"
     ]
    },
    {
     "name": "stdout",
     "output_type": "stream",
     "text": [
      "Train Accuracy: 0.6174, Val Accuracy: 0.5648, Test Accuracy: 0.5052\n",
      "Train loss: 1.3290\n",
      "\n",
      " Epoch 205 training:\n"
     ]
    },
    {
     "name": "stderr",
     "output_type": "stream",
     "text": [
      "100%|██████████| 711/711 [01:39<00:00,  7.12it/s]\n"
     ]
    },
    {
     "name": "stdout",
     "output_type": "stream",
     "text": [
      "Train Accuracy: 0.6139, Val Accuracy: 0.5617, Test Accuracy: 0.5019\n",
      "Train loss: 1.3365\n",
      "\n",
      " Epoch 206 training:\n"
     ]
    },
    {
     "name": "stderr",
     "output_type": "stream",
     "text": [
      "100%|██████████| 711/711 [01:40<00:00,  7.10it/s]\n"
     ]
    },
    {
     "name": "stdout",
     "output_type": "stream",
     "text": [
      "Train Accuracy: 0.6167, Val Accuracy: 0.5582, Test Accuracy: 0.5015\n",
      "Train loss: 1.3345\n",
      "\n",
      " Epoch 207 training:\n"
     ]
    },
    {
     "name": "stderr",
     "output_type": "stream",
     "text": [
      "100%|██████████| 711/711 [01:39<00:00,  7.16it/s]\n"
     ]
    },
    {
     "name": "stdout",
     "output_type": "stream",
     "text": [
      "Train Accuracy: 0.6178, Val Accuracy: 0.5653, Test Accuracy: 0.5066\n",
      "Train loss: 1.3346\n",
      "\n",
      " Epoch 208 training:\n"
     ]
    },
    {
     "name": "stderr",
     "output_type": "stream",
     "text": [
      "100%|██████████| 711/711 [01:39<00:00,  7.13it/s]\n"
     ]
    },
    {
     "name": "stdout",
     "output_type": "stream",
     "text": [
      "Train Accuracy: 0.6200, Val Accuracy: 0.5652, Test Accuracy: 0.5030\n",
      "Train loss: 1.3330\n",
      "\n",
      " Epoch 209 training:\n"
     ]
    },
    {
     "name": "stderr",
     "output_type": "stream",
     "text": [
      "100%|██████████| 711/711 [01:38<00:00,  7.19it/s]\n"
     ]
    },
    {
     "name": "stdout",
     "output_type": "stream",
     "text": [
      "Train Accuracy: 0.6167, Val Accuracy: 0.5665, Test Accuracy: 0.5089\n",
      "Train loss: 1.3313\n",
      "\n",
      " Epoch 210 training:\n"
     ]
    },
    {
     "name": "stderr",
     "output_type": "stream",
     "text": [
      "100%|██████████| 711/711 [01:39<00:00,  7.13it/s]\n"
     ]
    },
    {
     "name": "stdout",
     "output_type": "stream",
     "text": [
      "Train Accuracy: 0.6174, Val Accuracy: 0.5593, Test Accuracy: 0.5027\n",
      "Train loss: 1.3320\n",
      "\n",
      " Epoch 211 training:\n"
     ]
    },
    {
     "name": "stderr",
     "output_type": "stream",
     "text": [
      "100%|██████████| 711/711 [01:39<00:00,  7.16it/s]\n"
     ]
    },
    {
     "name": "stdout",
     "output_type": "stream",
     "text": [
      "Train Accuracy: 0.6180, Val Accuracy: 0.5629, Test Accuracy: 0.5017\n",
      "Train loss: 1.3351\n",
      "\n",
      " Epoch 212 training:\n"
     ]
    },
    {
     "name": "stderr",
     "output_type": "stream",
     "text": [
      "100%|██████████| 711/711 [01:39<00:00,  7.14it/s]\n"
     ]
    },
    {
     "name": "stdout",
     "output_type": "stream",
     "text": [
      "Train Accuracy: 0.6191, Val Accuracy: 0.5667, Test Accuracy: 0.5096\n",
      "Train loss: 1.3293\n",
      "\n",
      " Epoch 213 training:\n"
     ]
    },
    {
     "name": "stderr",
     "output_type": "stream",
     "text": [
      "100%|██████████| 711/711 [01:39<00:00,  7.14it/s]\n"
     ]
    },
    {
     "name": "stdout",
     "output_type": "stream",
     "text": [
      "Train Accuracy: 0.6199, Val Accuracy: 0.5672, Test Accuracy: 0.5062\n",
      "Train loss: 1.3300\n",
      "\n",
      " Epoch 214 training:\n"
     ]
    },
    {
     "name": "stderr",
     "output_type": "stream",
     "text": [
      "100%|██████████| 711/711 [01:39<00:00,  7.13it/s]\n"
     ]
    },
    {
     "name": "stdout",
     "output_type": "stream",
     "text": [
      "Train Accuracy: 0.6203, Val Accuracy: 0.5667, Test Accuracy: 0.5085\n",
      "Train loss: 1.3328\n",
      "\n",
      " Epoch 215 training:\n"
     ]
    },
    {
     "name": "stderr",
     "output_type": "stream",
     "text": [
      "100%|██████████| 711/711 [01:40<00:00,  7.11it/s]\n"
     ]
    },
    {
     "name": "stdout",
     "output_type": "stream",
     "text": [
      "Train Accuracy: 0.6166, Val Accuracy: 0.5608, Test Accuracy: 0.5029\n",
      "Train loss: 1.3295\n",
      "\n",
      " Epoch 216 training:\n"
     ]
    },
    {
     "name": "stderr",
     "output_type": "stream",
     "text": [
      "100%|██████████| 711/711 [01:39<00:00,  7.17it/s]\n"
     ]
    },
    {
     "name": "stdout",
     "output_type": "stream",
     "text": [
      "New best model validation accuracy: 0.57119. Previous: 0.56814\n",
      "Train Accuracy: 0.6245, Val Accuracy: 0.5712, Test Accuracy: 0.5106\n",
      "Train loss: 1.3268\n",
      "\n",
      " Epoch 217 training:\n"
     ]
    },
    {
     "name": "stderr",
     "output_type": "stream",
     "text": [
      "100%|██████████| 711/711 [01:39<00:00,  7.18it/s]\n"
     ]
    },
    {
     "name": "stdout",
     "output_type": "stream",
     "text": [
      "Train Accuracy: 0.6184, Val Accuracy: 0.5621, Test Accuracy: 0.5047\n",
      "Train loss: 1.3336\n",
      "\n",
      " Epoch 218 training:\n"
     ]
    },
    {
     "name": "stderr",
     "output_type": "stream",
     "text": [
      "100%|██████████| 711/711 [01:39<00:00,  7.15it/s]\n"
     ]
    },
    {
     "name": "stdout",
     "output_type": "stream",
     "text": [
      "Train Accuracy: 0.6190, Val Accuracy: 0.5611, Test Accuracy: 0.5047\n",
      "Train loss: 1.3307\n",
      "\n",
      " Epoch 219 training:\n"
     ]
    },
    {
     "name": "stderr",
     "output_type": "stream",
     "text": [
      "100%|██████████| 711/711 [01:39<00:00,  7.15it/s]\n"
     ]
    },
    {
     "name": "stdout",
     "output_type": "stream",
     "text": [
      "Train Accuracy: 0.6200, Val Accuracy: 0.5630, Test Accuracy: 0.5067\n",
      "Train loss: 1.3289\n",
      "\n",
      " Epoch 220 training:\n"
     ]
    },
    {
     "name": "stderr",
     "output_type": "stream",
     "text": [
      "100%|██████████| 711/711 [01:39<00:00,  7.12it/s]\n"
     ]
    },
    {
     "name": "stdout",
     "output_type": "stream",
     "text": [
      "Train Accuracy: 0.6216, Val Accuracy: 0.5629, Test Accuracy: 0.5054\n",
      "Train loss: 1.3279\n",
      "\n",
      " Epoch 221 training:\n"
     ]
    },
    {
     "name": "stderr",
     "output_type": "stream",
     "text": [
      "100%|██████████| 711/711 [01:39<00:00,  7.12it/s]\n"
     ]
    },
    {
     "name": "stdout",
     "output_type": "stream",
     "text": [
      "Train Accuracy: 0.6198, Val Accuracy: 0.5664, Test Accuracy: 0.5103\n",
      "Train loss: 1.3259\n",
      "\n",
      " Epoch 222 training:\n"
     ]
    },
    {
     "name": "stderr",
     "output_type": "stream",
     "text": [
      "100%|██████████| 711/711 [01:38<00:00,  7.18it/s]\n"
     ]
    },
    {
     "name": "stdout",
     "output_type": "stream",
     "text": [
      "Train Accuracy: 0.6224, Val Accuracy: 0.5644, Test Accuracy: 0.5087\n",
      "Train loss: 1.3238\n",
      "\n",
      " Epoch 223 training:\n"
     ]
    },
    {
     "name": "stderr",
     "output_type": "stream",
     "text": [
      "100%|██████████| 711/711 [01:40<00:00,  7.10it/s]\n"
     ]
    },
    {
     "name": "stdout",
     "output_type": "stream",
     "text": [
      "Train Accuracy: 0.6202, Val Accuracy: 0.5650, Test Accuracy: 0.5089\n",
      "Train loss: 1.3265\n",
      "\n",
      " Epoch 224 training:\n"
     ]
    },
    {
     "name": "stderr",
     "output_type": "stream",
     "text": [
      "100%|██████████| 711/711 [01:39<00:00,  7.11it/s]\n"
     ]
    },
    {
     "name": "stdout",
     "output_type": "stream",
     "text": [
      "Train Accuracy: 0.6180, Val Accuracy: 0.5611, Test Accuracy: 0.5067\n",
      "Train loss: 1.3258\n",
      "\n",
      " Epoch 225 training:\n"
     ]
    },
    {
     "name": "stderr",
     "output_type": "stream",
     "text": [
      "100%|██████████| 711/711 [01:39<00:00,  7.11it/s]\n"
     ]
    },
    {
     "name": "stdout",
     "output_type": "stream",
     "text": [
      "Train Accuracy: 0.6224, Val Accuracy: 0.5668, Test Accuracy: 0.5094\n",
      "Train loss: 1.3274\n",
      "\n",
      " Epoch 226 training:\n"
     ]
    },
    {
     "name": "stderr",
     "output_type": "stream",
     "text": [
      "100%|██████████| 711/711 [01:40<00:00,  7.09it/s]\n"
     ]
    },
    {
     "name": "stdout",
     "output_type": "stream",
     "text": [
      "Train Accuracy: 0.6217, Val Accuracy: 0.5670, Test Accuracy: 0.5079\n",
      "Train loss: 1.3260\n",
      "\n",
      " Epoch 227 training:\n"
     ]
    },
    {
     "name": "stderr",
     "output_type": "stream",
     "text": [
      "100%|██████████| 711/711 [01:40<00:00,  7.11it/s]\n"
     ]
    },
    {
     "name": "stdout",
     "output_type": "stream",
     "text": [
      "Train Accuracy: 0.6187, Val Accuracy: 0.5601, Test Accuracy: 0.5054\n",
      "Train loss: 1.3232\n",
      "\n",
      " Epoch 228 training:\n"
     ]
    },
    {
     "name": "stderr",
     "output_type": "stream",
     "text": [
      "100%|██████████| 711/711 [01:39<00:00,  7.12it/s]\n"
     ]
    },
    {
     "name": "stdout",
     "output_type": "stream",
     "text": [
      "Train Accuracy: 0.6186, Val Accuracy: 0.5630, Test Accuracy: 0.5037\n",
      "Train loss: 1.3252\n",
      "\n",
      " Epoch 229 training:\n"
     ]
    },
    {
     "name": "stderr",
     "output_type": "stream",
     "text": [
      "100%|██████████| 711/711 [01:39<00:00,  7.15it/s]\n"
     ]
    },
    {
     "name": "stdout",
     "output_type": "stream",
     "text": [
      "Train Accuracy: 0.6201, Val Accuracy: 0.5651, Test Accuracy: 0.5087\n",
      "Train loss: 1.3256\n",
      "\n",
      " Epoch 230 training:\n"
     ]
    },
    {
     "name": "stderr",
     "output_type": "stream",
     "text": [
      "100%|██████████| 711/711 [01:39<00:00,  7.13it/s]\n"
     ]
    },
    {
     "name": "stdout",
     "output_type": "stream",
     "text": [
      "Train Accuracy: 0.6162, Val Accuracy: 0.5612, Test Accuracy: 0.5061\n",
      "Train loss: 1.3283\n",
      "\n",
      " Epoch 231 training:\n"
     ]
    },
    {
     "name": "stderr",
     "output_type": "stream",
     "text": [
      "100%|██████████| 711/711 [01:39<00:00,  7.13it/s]\n"
     ]
    },
    {
     "name": "stdout",
     "output_type": "stream",
     "text": [
      "Train Accuracy: 0.6222, Val Accuracy: 0.5646, Test Accuracy: 0.5088\n",
      "Train loss: 1.3253\n",
      "\n",
      " Epoch 232 training:\n"
     ]
    },
    {
     "name": "stderr",
     "output_type": "stream",
     "text": [
      "100%|██████████| 711/711 [01:40<00:00,  7.11it/s]\n"
     ]
    },
    {
     "name": "stdout",
     "output_type": "stream",
     "text": [
      "Train Accuracy: 0.6229, Val Accuracy: 0.5650, Test Accuracy: 0.5066\n",
      "Train loss: 1.3227\n",
      "\n",
      " Epoch 233 training:\n"
     ]
    },
    {
     "name": "stderr",
     "output_type": "stream",
     "text": [
      "100%|██████████| 711/711 [01:40<00:00,  7.09it/s]\n"
     ]
    },
    {
     "name": "stdout",
     "output_type": "stream",
     "text": [
      "Train Accuracy: 0.6203, Val Accuracy: 0.5635, Test Accuracy: 0.5039\n",
      "Train loss: 1.3193\n",
      "\n",
      " Epoch 234 training:\n"
     ]
    },
    {
     "name": "stderr",
     "output_type": "stream",
     "text": [
      "100%|██████████| 711/711 [01:39<00:00,  7.16it/s]\n"
     ]
    },
    {
     "name": "stdout",
     "output_type": "stream",
     "text": [
      "Train Accuracy: 0.6197, Val Accuracy: 0.5600, Test Accuracy: 0.5031\n",
      "Train loss: 1.3233\n",
      "\n",
      " Epoch 235 training:\n"
     ]
    },
    {
     "name": "stderr",
     "output_type": "stream",
     "text": [
      "100%|██████████| 711/711 [01:39<00:00,  7.12it/s]\n"
     ]
    },
    {
     "name": "stdout",
     "output_type": "stream",
     "text": [
      "Train Accuracy: 0.6213, Val Accuracy: 0.5639, Test Accuracy: 0.5094\n",
      "Train loss: 1.3185\n",
      "\n",
      " Epoch 236 training:\n"
     ]
    },
    {
     "name": "stderr",
     "output_type": "stream",
     "text": [
      "100%|██████████| 711/711 [01:40<00:00,  7.11it/s]\n"
     ]
    },
    {
     "name": "stdout",
     "output_type": "stream",
     "text": [
      "Train Accuracy: 0.6238, Val Accuracy: 0.5658, Test Accuracy: 0.5045\n",
      "Train loss: 1.3291\n",
      "\n",
      " Epoch 237 training:\n"
     ]
    },
    {
     "name": "stderr",
     "output_type": "stream",
     "text": [
      "100%|██████████| 711/711 [01:40<00:00,  7.10it/s]\n"
     ]
    },
    {
     "name": "stdout",
     "output_type": "stream",
     "text": [
      "Train Accuracy: 0.6212, Val Accuracy: 0.5621, Test Accuracy: 0.5038\n",
      "Train loss: 1.3188\n",
      "\n",
      " Epoch 238 training:\n"
     ]
    },
    {
     "name": "stderr",
     "output_type": "stream",
     "text": [
      "100%|██████████| 711/711 [01:40<00:00,  7.08it/s]\n"
     ]
    },
    {
     "name": "stdout",
     "output_type": "stream",
     "text": [
      "Train Accuracy: 0.6227, Val Accuracy: 0.5671, Test Accuracy: 0.5059\n",
      "Train loss: 1.3190\n",
      "\n",
      " Epoch 239 training:\n"
     ]
    },
    {
     "name": "stderr",
     "output_type": "stream",
     "text": [
      "100%|██████████| 711/711 [01:39<00:00,  7.14it/s]\n"
     ]
    },
    {
     "name": "stdout",
     "output_type": "stream",
     "text": [
      "Train Accuracy: 0.6240, Val Accuracy: 0.5673, Test Accuracy: 0.5083\n",
      "Train loss: 1.3233\n",
      "\n",
      " Epoch 240 training:\n"
     ]
    },
    {
     "name": "stderr",
     "output_type": "stream",
     "text": [
      "100%|██████████| 711/711 [01:39<00:00,  7.12it/s]\n"
     ]
    },
    {
     "name": "stdout",
     "output_type": "stream",
     "text": [
      "Train Accuracy: 0.6197, Val Accuracy: 0.5621, Test Accuracy: 0.5108\n",
      "Train loss: 1.3199\n",
      "\n",
      " Epoch 241 training:\n"
     ]
    },
    {
     "name": "stderr",
     "output_type": "stream",
     "text": [
      "100%|██████████| 711/711 [01:39<00:00,  7.16it/s]\n"
     ]
    },
    {
     "name": "stdout",
     "output_type": "stream",
     "text": [
      "Train Accuracy: 0.6239, Val Accuracy: 0.5649, Test Accuracy: 0.5094\n",
      "Train loss: 1.3212\n",
      "\n",
      " Epoch 242 training:\n"
     ]
    },
    {
     "name": "stderr",
     "output_type": "stream",
     "text": [
      "100%|██████████| 711/711 [01:39<00:00,  7.15it/s]\n"
     ]
    },
    {
     "name": "stdout",
     "output_type": "stream",
     "text": [
      "Train Accuracy: 0.6200, Val Accuracy: 0.5630, Test Accuracy: 0.5090\n",
      "Train loss: 1.3234\n",
      "\n",
      " Epoch 243 training:\n"
     ]
    },
    {
     "name": "stderr",
     "output_type": "stream",
     "text": [
      "100%|██████████| 711/711 [01:39<00:00,  7.17it/s]\n"
     ]
    },
    {
     "name": "stdout",
     "output_type": "stream",
     "text": [
      "Train Accuracy: 0.6221, Val Accuracy: 0.5647, Test Accuracy: 0.5055\n",
      "Train loss: 1.3191\n",
      "\n",
      " Epoch 244 training:\n"
     ]
    },
    {
     "name": "stderr",
     "output_type": "stream",
     "text": [
      "100%|██████████| 711/711 [01:40<00:00,  7.09it/s]\n"
     ]
    },
    {
     "name": "stdout",
     "output_type": "stream",
     "text": [
      "Train Accuracy: 0.6245, Val Accuracy: 0.5670, Test Accuracy: 0.5047\n",
      "Train loss: 1.3213\n",
      "\n",
      " Epoch 245 training:\n"
     ]
    },
    {
     "name": "stderr",
     "output_type": "stream",
     "text": [
      "100%|██████████| 711/711 [01:39<00:00,  7.12it/s]\n"
     ]
    },
    {
     "name": "stdout",
     "output_type": "stream",
     "text": [
      "Train Accuracy: 0.6181, Val Accuracy: 0.5547, Test Accuracy: 0.4996\n",
      "Train loss: 1.3239\n",
      "\n",
      " Epoch 246 training:\n"
     ]
    },
    {
     "name": "stderr",
     "output_type": "stream",
     "text": [
      "100%|██████████| 711/711 [01:40<00:00,  7.08it/s]\n"
     ]
    },
    {
     "name": "stdout",
     "output_type": "stream",
     "text": [
      "Train Accuracy: 0.6226, Val Accuracy: 0.5607, Test Accuracy: 0.5032\n",
      "Train loss: 1.3153\n",
      "\n",
      " Epoch 247 training:\n"
     ]
    },
    {
     "name": "stderr",
     "output_type": "stream",
     "text": [
      "100%|██████████| 711/711 [01:39<00:00,  7.13it/s]\n"
     ]
    },
    {
     "name": "stdout",
     "output_type": "stream",
     "text": [
      "Train Accuracy: 0.6223, Val Accuracy: 0.5632, Test Accuracy: 0.5067\n",
      "Train loss: 1.3172\n",
      "\n",
      " Epoch 248 training:\n"
     ]
    },
    {
     "name": "stderr",
     "output_type": "stream",
     "text": [
      "100%|██████████| 711/711 [01:40<00:00,  7.09it/s]\n"
     ]
    },
    {
     "name": "stdout",
     "output_type": "stream",
     "text": [
      "Train Accuracy: 0.6256, Val Accuracy: 0.5662, Test Accuracy: 0.5114\n",
      "Train loss: 1.3178\n",
      "\n",
      " Epoch 249 training:\n"
     ]
    },
    {
     "name": "stderr",
     "output_type": "stream",
     "text": [
      "100%|██████████| 711/711 [01:39<00:00,  7.12it/s]\n"
     ]
    },
    {
     "name": "stdout",
     "output_type": "stream",
     "text": [
      "Train Accuracy: 0.6240, Val Accuracy: 0.5677, Test Accuracy: 0.5086\n",
      "Train loss: 1.3163\n",
      "\n",
      " Epoch 0 training:\n"
     ]
    },
    {
     "name": "stderr",
     "output_type": "stream",
     "text": [
      "100%|██████████| 711/711 [00:05<00:00, 134.46it/s]\n"
     ]
    },
    {
     "name": "stdout",
     "output_type": "stream",
     "text": [
      "New best model validation accuracy: 0.57908. Previous: 0.00000\n",
      "Train Accuracy: 0.5984, Val Accuracy: 0.5791, Test Accuracy: 0.5121\n",
      "Train loss: 1.5741\n",
      "\n",
      " Epoch 1 training:\n"
     ]
    },
    {
     "name": "stderr",
     "output_type": "stream",
     "text": [
      "100%|██████████| 711/711 [00:04<00:00, 163.96it/s]\n"
     ]
    },
    {
     "name": "stdout",
     "output_type": "stream",
     "text": [
      "New best model validation accuracy: 0.59327. Previous: 0.57908\n",
      "Train Accuracy: 0.6107, Val Accuracy: 0.5933, Test Accuracy: 0.5445\n",
      "Train loss: 1.4050\n",
      "\n",
      " Epoch 2 training:\n"
     ]
    },
    {
     "name": "stderr",
     "output_type": "stream",
     "text": [
      "100%|██████████| 711/711 [00:04<00:00, 167.46it/s]\n"
     ]
    },
    {
     "name": "stdout",
     "output_type": "stream",
     "text": [
      "New best model validation accuracy: 0.59687. Previous: 0.59327\n",
      "Train Accuracy: 0.6252, Val Accuracy: 0.5969, Test Accuracy: 0.5412\n",
      "Train loss: 1.3548\n",
      "\n",
      " Epoch 3 training:\n"
     ]
    },
    {
     "name": "stderr",
     "output_type": "stream",
     "text": [
      "100%|██████████| 711/711 [00:04<00:00, 159.19it/s]\n"
     ]
    },
    {
     "name": "stdout",
     "output_type": "stream",
     "text": [
      "New best model validation accuracy: 0.60143. Previous: 0.59687\n",
      "Train Accuracy: 0.6307, Val Accuracy: 0.6014, Test Accuracy: 0.5503\n",
      "Train loss: 1.3203\n",
      "\n",
      " Epoch 4 training:\n"
     ]
    },
    {
     "name": "stderr",
     "output_type": "stream",
     "text": [
      "100%|██████████| 711/711 [00:04<00:00, 154.60it/s]\n"
     ]
    },
    {
     "name": "stdout",
     "output_type": "stream",
     "text": [
      "Train Accuracy: 0.6341, Val Accuracy: 0.5952, Test Accuracy: 0.5316\n",
      "Train loss: 1.3007\n",
      "\n",
      " Epoch 5 training:\n"
     ]
    },
    {
     "name": "stderr",
     "output_type": "stream",
     "text": [
      "100%|██████████| 711/711 [00:04<00:00, 151.80it/s]\n"
     ]
    },
    {
     "name": "stdout",
     "output_type": "stream",
     "text": [
      "Train Accuracy: 0.6439, Val Accuracy: 0.5921, Test Accuracy: 0.5286\n",
      "Train loss: 1.2826\n",
      "\n",
      " Epoch 6 training:\n"
     ]
    },
    {
     "name": "stderr",
     "output_type": "stream",
     "text": [
      "100%|██████████| 711/711 [00:04<00:00, 156.16it/s]\n"
     ]
    },
    {
     "name": "stdout",
     "output_type": "stream",
     "text": [
      "Train Accuracy: 0.6481, Val Accuracy: 0.5964, Test Accuracy: 0.5294\n",
      "Train loss: 1.2687\n",
      "\n",
      " Epoch 7 training:\n"
     ]
    },
    {
     "name": "stderr",
     "output_type": "stream",
     "text": [
      "100%|██████████| 711/711 [00:04<00:00, 160.29it/s]\n"
     ]
    },
    {
     "name": "stdout",
     "output_type": "stream",
     "text": [
      "Train Accuracy: 0.6448, Val Accuracy: 0.5920, Test Accuracy: 0.5218\n",
      "Train loss: 1.2566\n",
      "\n",
      " Epoch 8 training:\n"
     ]
    },
    {
     "name": "stderr",
     "output_type": "stream",
     "text": [
      "100%|██████████| 711/711 [00:04<00:00, 168.78it/s]\n"
     ]
    },
    {
     "name": "stdout",
     "output_type": "stream",
     "text": [
      "Train Accuracy: 0.6485, Val Accuracy: 0.6003, Test Accuracy: 0.5293\n",
      "Train loss: 1.2441\n",
      "\n",
      " Epoch 9 training:\n"
     ]
    },
    {
     "name": "stderr",
     "output_type": "stream",
     "text": [
      "100%|██████████| 711/711 [00:04<00:00, 163.45it/s]\n"
     ]
    },
    {
     "name": "stdout",
     "output_type": "stream",
     "text": [
      "Train Accuracy: 0.6473, Val Accuracy: 0.5936, Test Accuracy: 0.5366\n",
      "Train loss: 1.2350\n",
      "\n",
      " Epoch 10 training:\n"
     ]
    },
    {
     "name": "stderr",
     "output_type": "stream",
     "text": [
      "100%|██████████| 711/711 [00:04<00:00, 154.39it/s]\n"
     ]
    },
    {
     "name": "stdout",
     "output_type": "stream",
     "text": [
      "New best model validation accuracy: 0.60297. Previous: 0.60143\n",
      "Train Accuracy: 0.6509, Val Accuracy: 0.6030, Test Accuracy: 0.5497\n",
      "Train loss: 1.2306\n",
      "\n",
      " Epoch 11 training:\n"
     ]
    },
    {
     "name": "stderr",
     "output_type": "stream",
     "text": [
      "100%|██████████| 711/711 [00:04<00:00, 154.98it/s]\n"
     ]
    },
    {
     "name": "stdout",
     "output_type": "stream",
     "text": [
      "Train Accuracy: 0.6562, Val Accuracy: 0.5935, Test Accuracy: 0.5257\n",
      "Train loss: 1.2214\n",
      "\n",
      " Epoch 12 training:\n"
     ]
    },
    {
     "name": "stderr",
     "output_type": "stream",
     "text": [
      "100%|██████████| 711/711 [00:04<00:00, 162.75it/s]\n"
     ]
    },
    {
     "name": "stdout",
     "output_type": "stream",
     "text": [
      "Train Accuracy: 0.6595, Val Accuracy: 0.6025, Test Accuracy: 0.5350\n",
      "Train loss: 1.2128\n",
      "\n",
      " Epoch 13 training:\n"
     ]
    },
    {
     "name": "stderr",
     "output_type": "stream",
     "text": [
      "100%|██████████| 711/711 [00:04<00:00, 166.49it/s]\n"
     ]
    },
    {
     "name": "stdout",
     "output_type": "stream",
     "text": [
      "Train Accuracy: 0.6584, Val Accuracy: 0.5981, Test Accuracy: 0.5341\n",
      "Train loss: 1.2020\n",
      "\n",
      " Epoch 14 training:\n"
     ]
    },
    {
     "name": "stderr",
     "output_type": "stream",
     "text": [
      "100%|██████████| 711/711 [00:04<00:00, 160.67it/s]\n"
     ]
    },
    {
     "name": "stdout",
     "output_type": "stream",
     "text": [
      "New best model validation accuracy: 0.60754. Previous: 0.60297\n",
      "Train Accuracy: 0.6600, Val Accuracy: 0.6075, Test Accuracy: 0.5538\n",
      "Train loss: 1.2005\n",
      "\n",
      " Epoch 15 training:\n"
     ]
    },
    {
     "name": "stderr",
     "output_type": "stream",
     "text": [
      "100%|██████████| 711/711 [00:04<00:00, 174.56it/s]\n"
     ]
    },
    {
     "name": "stdout",
     "output_type": "stream",
     "text": [
      "Train Accuracy: 0.6619, Val Accuracy: 0.6032, Test Accuracy: 0.5431\n",
      "Train loss: 1.1930\n",
      "\n",
      " Epoch 16 training:\n"
     ]
    },
    {
     "name": "stderr",
     "output_type": "stream",
     "text": [
      "100%|██████████| 711/711 [00:03<00:00, 181.97it/s]\n"
     ]
    },
    {
     "name": "stdout",
     "output_type": "stream",
     "text": [
      "Train Accuracy: 0.6560, Val Accuracy: 0.5948, Test Accuracy: 0.5411\n",
      "Train loss: 1.1918\n",
      "\n",
      " Epoch 17 training:\n"
     ]
    },
    {
     "name": "stderr",
     "output_type": "stream",
     "text": [
      "100%|██████████| 711/711 [00:04<00:00, 161.21it/s]\n"
     ]
    },
    {
     "name": "stdout",
     "output_type": "stream",
     "text": [
      "Train Accuracy: 0.6628, Val Accuracy: 0.5961, Test Accuracy: 0.5341\n",
      "Train loss: 1.1906\n",
      "\n",
      " Epoch 18 training:\n"
     ]
    },
    {
     "name": "stderr",
     "output_type": "stream",
     "text": [
      "100%|██████████| 711/711 [00:04<00:00, 171.55it/s]\n"
     ]
    },
    {
     "name": "stdout",
     "output_type": "stream",
     "text": [
      "Train Accuracy: 0.6655, Val Accuracy: 0.5919, Test Accuracy: 0.5350\n",
      "Train loss: 1.1825\n",
      "\n",
      " Epoch 19 training:\n"
     ]
    },
    {
     "name": "stderr",
     "output_type": "stream",
     "text": [
      "100%|██████████| 711/711 [00:04<00:00, 155.93it/s]\n"
     ]
    },
    {
     "name": "stdout",
     "output_type": "stream",
     "text": [
      "Train Accuracy: 0.6639, Val Accuracy: 0.6001, Test Accuracy: 0.5352\n",
      "Train loss: 1.1765\n",
      "\n",
      " Epoch 20 training:\n"
     ]
    },
    {
     "name": "stderr",
     "output_type": "stream",
     "text": [
      "100%|██████████| 711/711 [00:04<00:00, 160.98it/s]\n"
     ]
    },
    {
     "name": "stdout",
     "output_type": "stream",
     "text": [
      "Train Accuracy: 0.6670, Val Accuracy: 0.5944, Test Accuracy: 0.5331\n",
      "Train loss: 1.1728\n",
      "\n",
      " Epoch 21 training:\n"
     ]
    },
    {
     "name": "stderr",
     "output_type": "stream",
     "text": [
      "100%|██████████| 711/711 [00:04<00:00, 162.37it/s]\n"
     ]
    },
    {
     "name": "stdout",
     "output_type": "stream",
     "text": [
      "Train Accuracy: 0.6695, Val Accuracy: 0.6002, Test Accuracy: 0.5355\n",
      "Train loss: 1.1696\n",
      "\n",
      " Epoch 22 training:\n"
     ]
    },
    {
     "name": "stderr",
     "output_type": "stream",
     "text": [
      "100%|██████████| 711/711 [00:04<00:00, 167.77it/s]\n"
     ]
    },
    {
     "name": "stdout",
     "output_type": "stream",
     "text": [
      "Train Accuracy: 0.6644, Val Accuracy: 0.5899, Test Accuracy: 0.5293\n",
      "Train loss: 1.1625\n",
      "\n",
      " Epoch 23 training:\n"
     ]
    },
    {
     "name": "stderr",
     "output_type": "stream",
     "text": [
      "100%|██████████| 711/711 [00:04<00:00, 177.18it/s]\n"
     ]
    },
    {
     "name": "stdout",
     "output_type": "stream",
     "text": [
      "Train Accuracy: 0.6703, Val Accuracy: 0.5947, Test Accuracy: 0.5357\n",
      "Train loss: 1.1647\n",
      "\n",
      " Epoch 24 training:\n"
     ]
    },
    {
     "name": "stderr",
     "output_type": "stream",
     "text": [
      "100%|██████████| 711/711 [00:04<00:00, 167.18it/s]\n"
     ]
    },
    {
     "name": "stdout",
     "output_type": "stream",
     "text": [
      "Train Accuracy: 0.6622, Val Accuracy: 0.6012, Test Accuracy: 0.5389\n",
      "Train loss: 1.1578\n",
      "\n",
      " Epoch 25 training:\n"
     ]
    },
    {
     "name": "stderr",
     "output_type": "stream",
     "text": [
      "100%|██████████| 711/711 [00:04<00:00, 152.38it/s]\n"
     ]
    },
    {
     "name": "stdout",
     "output_type": "stream",
     "text": [
      "Train Accuracy: 0.6677, Val Accuracy: 0.5891, Test Accuracy: 0.5230\n",
      "Train loss: 1.1595\n",
      "\n",
      " Epoch 26 training:\n"
     ]
    },
    {
     "name": "stderr",
     "output_type": "stream",
     "text": [
      "100%|██████████| 711/711 [00:04<00:00, 158.80it/s]\n"
     ]
    },
    {
     "name": "stdout",
     "output_type": "stream",
     "text": [
      "Train Accuracy: 0.6689, Val Accuracy: 0.5909, Test Accuracy: 0.5256\n",
      "Train loss: 1.1532\n",
      "\n",
      " Epoch 27 training:\n"
     ]
    },
    {
     "name": "stderr",
     "output_type": "stream",
     "text": [
      "100%|██████████| 711/711 [00:04<00:00, 164.12it/s]\n"
     ]
    },
    {
     "name": "stdout",
     "output_type": "stream",
     "text": [
      "Train Accuracy: 0.6714, Val Accuracy: 0.5988, Test Accuracy: 0.5340\n",
      "Train loss: 1.1484\n",
      "\n",
      " Epoch 28 training:\n"
     ]
    },
    {
     "name": "stderr",
     "output_type": "stream",
     "text": [
      "100%|██████████| 711/711 [00:04<00:00, 163.75it/s]\n"
     ]
    },
    {
     "name": "stdout",
     "output_type": "stream",
     "text": [
      "Train Accuracy: 0.6728, Val Accuracy: 0.5956, Test Accuracy: 0.5324\n",
      "Train loss: 1.1465\n",
      "\n",
      " Epoch 29 training:\n"
     ]
    },
    {
     "name": "stderr",
     "output_type": "stream",
     "text": [
      "100%|██████████| 711/711 [00:03<00:00, 182.44it/s]\n"
     ]
    },
    {
     "name": "stdout",
     "output_type": "stream",
     "text": [
      "Train Accuracy: 0.6718, Val Accuracy: 0.5961, Test Accuracy: 0.5260\n",
      "Train loss: 1.1446\n",
      "\n",
      " Epoch 30 training:\n"
     ]
    },
    {
     "name": "stderr",
     "output_type": "stream",
     "text": [
      "100%|██████████| 711/711 [00:04<00:00, 166.14it/s]\n"
     ]
    },
    {
     "name": "stdout",
     "output_type": "stream",
     "text": [
      "Train Accuracy: 0.6716, Val Accuracy: 0.5975, Test Accuracy: 0.5416\n",
      "Train loss: 1.1414\n",
      "\n",
      " Epoch 31 training:\n"
     ]
    },
    {
     "name": "stderr",
     "output_type": "stream",
     "text": [
      "100%|██████████| 711/711 [00:04<00:00, 159.47it/s]\n"
     ]
    },
    {
     "name": "stdout",
     "output_type": "stream",
     "text": [
      "Train Accuracy: 0.6731, Val Accuracy: 0.6066, Test Accuracy: 0.5542\n",
      "Train loss: 1.1428\n",
      "\n",
      " Epoch 32 training:\n"
     ]
    },
    {
     "name": "stderr",
     "output_type": "stream",
     "text": [
      "100%|██████████| 711/711 [00:04<00:00, 155.72it/s]\n"
     ]
    },
    {
     "name": "stdout",
     "output_type": "stream",
     "text": [
      "Train Accuracy: 0.6727, Val Accuracy: 0.5941, Test Accuracy: 0.5290\n",
      "Train loss: 1.1349\n",
      "\n",
      " Epoch 33 training:\n"
     ]
    },
    {
     "name": "stderr",
     "output_type": "stream",
     "text": [
      "100%|██████████| 711/711 [00:04<00:00, 174.60it/s]\n"
     ]
    },
    {
     "name": "stdout",
     "output_type": "stream",
     "text": [
      "Train Accuracy: 0.6764, Val Accuracy: 0.5992, Test Accuracy: 0.5388\n",
      "Train loss: 1.1366\n",
      "\n",
      " Epoch 34 training:\n"
     ]
    },
    {
     "name": "stderr",
     "output_type": "stream",
     "text": [
      "100%|██████████| 711/711 [00:04<00:00, 164.81it/s]\n"
     ]
    },
    {
     "name": "stdout",
     "output_type": "stream",
     "text": [
      "Train Accuracy: 0.6762, Val Accuracy: 0.5960, Test Accuracy: 0.5404\n",
      "Train loss: 1.1335\n",
      "\n",
      " Epoch 35 training:\n"
     ]
    },
    {
     "name": "stderr",
     "output_type": "stream",
     "text": [
      "100%|██████████| 711/711 [00:04<00:00, 162.21it/s]\n"
     ]
    },
    {
     "name": "stdout",
     "output_type": "stream",
     "text": [
      "Train Accuracy: 0.6755, Val Accuracy: 0.5991, Test Accuracy: 0.5379\n",
      "Train loss: 1.1299\n",
      "\n",
      " Epoch 36 training:\n"
     ]
    },
    {
     "name": "stderr",
     "output_type": "stream",
     "text": [
      "100%|██████████| 711/711 [00:04<00:00, 163.60it/s]\n"
     ]
    },
    {
     "name": "stdout",
     "output_type": "stream",
     "text": [
      "Train Accuracy: 0.6777, Val Accuracy: 0.5925, Test Accuracy: 0.5265\n",
      "Train loss: 1.1244\n",
      "\n",
      " Epoch 37 training:\n"
     ]
    },
    {
     "name": "stderr",
     "output_type": "stream",
     "text": [
      "100%|██████████| 711/711 [00:04<00:00, 169.30it/s]\n"
     ]
    },
    {
     "name": "stdout",
     "output_type": "stream",
     "text": [
      "Train Accuracy: 0.6777, Val Accuracy: 0.5955, Test Accuracy: 0.5368\n",
      "Train loss: 1.1288\n",
      "\n",
      " Epoch 38 training:\n"
     ]
    },
    {
     "name": "stderr",
     "output_type": "stream",
     "text": [
      "100%|██████████| 711/711 [00:04<00:00, 174.90it/s]\n"
     ]
    },
    {
     "name": "stdout",
     "output_type": "stream",
     "text": [
      "Train Accuracy: 0.6801, Val Accuracy: 0.5992, Test Accuracy: 0.5364\n",
      "Train loss: 1.1226\n",
      "\n",
      " Epoch 39 training:\n"
     ]
    },
    {
     "name": "stderr",
     "output_type": "stream",
     "text": [
      "100%|██████████| 711/711 [00:04<00:00, 158.23it/s]\n"
     ]
    },
    {
     "name": "stdout",
     "output_type": "stream",
     "text": [
      "Train Accuracy: 0.6745, Val Accuracy: 0.5940, Test Accuracy: 0.5317\n",
      "Train loss: 1.1261\n",
      "\n",
      " Epoch 40 training:\n"
     ]
    },
    {
     "name": "stderr",
     "output_type": "stream",
     "text": [
      "100%|██████████| 711/711 [00:04<00:00, 162.04it/s]\n"
     ]
    },
    {
     "name": "stdout",
     "output_type": "stream",
     "text": [
      "Train Accuracy: 0.6792, Val Accuracy: 0.5948, Test Accuracy: 0.5310\n",
      "Train loss: 1.1203\n",
      "\n",
      " Epoch 41 training:\n"
     ]
    },
    {
     "name": "stderr",
     "output_type": "stream",
     "text": [
      "100%|██████████| 711/711 [00:03<00:00, 180.15it/s]\n"
     ]
    },
    {
     "name": "stdout",
     "output_type": "stream",
     "text": [
      "Train Accuracy: 0.6743, Val Accuracy: 0.5938, Test Accuracy: 0.5333\n",
      "Train loss: 1.1174\n",
      "\n",
      " Epoch 42 training:\n"
     ]
    },
    {
     "name": "stderr",
     "output_type": "stream",
     "text": [
      "100%|██████████| 711/711 [00:04<00:00, 174.51it/s]\n"
     ]
    },
    {
     "name": "stdout",
     "output_type": "stream",
     "text": [
      "Train Accuracy: 0.6789, Val Accuracy: 0.5958, Test Accuracy: 0.5342\n",
      "Train loss: 1.1201\n",
      "\n",
      " Epoch 43 training:\n"
     ]
    },
    {
     "name": "stderr",
     "output_type": "stream",
     "text": [
      "100%|██████████| 711/711 [00:04<00:00, 157.48it/s]\n"
     ]
    },
    {
     "name": "stdout",
     "output_type": "stream",
     "text": [
      "Train Accuracy: 0.6783, Val Accuracy: 0.5989, Test Accuracy: 0.5383\n",
      "Train loss: 1.1163\n",
      "\n",
      " Epoch 44 training:\n"
     ]
    },
    {
     "name": "stderr",
     "output_type": "stream",
     "text": [
      "100%|██████████| 711/711 [00:04<00:00, 160.82it/s]\n"
     ]
    },
    {
     "name": "stdout",
     "output_type": "stream",
     "text": [
      "Train Accuracy: 0.6792, Val Accuracy: 0.5987, Test Accuracy: 0.5374\n",
      "Train loss: 1.1121\n",
      "\n",
      " Epoch 45 training:\n"
     ]
    },
    {
     "name": "stderr",
     "output_type": "stream",
     "text": [
      "100%|██████████| 711/711 [00:04<00:00, 159.19it/s]\n"
     ]
    },
    {
     "name": "stdout",
     "output_type": "stream",
     "text": [
      "Train Accuracy: 0.6791, Val Accuracy: 0.5993, Test Accuracy: 0.5378\n",
      "Train loss: 1.1146\n",
      "\n",
      " Epoch 46 training:\n"
     ]
    },
    {
     "name": "stderr",
     "output_type": "stream",
     "text": [
      "100%|██████████| 711/711 [00:04<00:00, 170.91it/s]\n"
     ]
    },
    {
     "name": "stdout",
     "output_type": "stream",
     "text": [
      "Train Accuracy: 0.6815, Val Accuracy: 0.5928, Test Accuracy: 0.5302\n",
      "Train loss: 1.1106\n",
      "\n",
      " Epoch 47 training:\n"
     ]
    },
    {
     "name": "stderr",
     "output_type": "stream",
     "text": [
      "100%|██████████| 711/711 [00:04<00:00, 160.41it/s]\n"
     ]
    },
    {
     "name": "stdout",
     "output_type": "stream",
     "text": [
      "Train Accuracy: 0.6784, Val Accuracy: 0.5946, Test Accuracy: 0.5318\n",
      "Train loss: 1.1139\n",
      "\n",
      " Epoch 48 training:\n"
     ]
    },
    {
     "name": "stderr",
     "output_type": "stream",
     "text": [
      "100%|██████████| 711/711 [00:04<00:00, 162.09it/s]\n"
     ]
    },
    {
     "name": "stdout",
     "output_type": "stream",
     "text": [
      "Train Accuracy: 0.6815, Val Accuracy: 0.5986, Test Accuracy: 0.5380\n",
      "Train loss: 1.1071\n",
      "\n",
      " Epoch 49 training:\n"
     ]
    },
    {
     "name": "stderr",
     "output_type": "stream",
     "text": [
      "100%|██████████| 711/711 [00:04<00:00, 167.27it/s]\n"
     ]
    },
    {
     "name": "stdout",
     "output_type": "stream",
     "text": [
      "Train Accuracy: 0.6786, Val Accuracy: 0.5916, Test Accuracy: 0.5265\n",
      "Train loss: 1.1067\n",
      "\n",
      " Epoch 50 training:\n"
     ]
    },
    {
     "name": "stderr",
     "output_type": "stream",
     "text": [
      "100%|██████████| 711/711 [00:04<00:00, 174.38it/s]\n"
     ]
    },
    {
     "name": "stdout",
     "output_type": "stream",
     "text": [
      "Train Accuracy: 0.6814, Val Accuracy: 0.5942, Test Accuracy: 0.5309\n",
      "Train loss: 1.1068\n",
      "\n",
      " Epoch 51 training:\n"
     ]
    },
    {
     "name": "stderr",
     "output_type": "stream",
     "text": [
      "100%|██████████| 711/711 [00:04<00:00, 170.88it/s]\n"
     ]
    },
    {
     "name": "stdout",
     "output_type": "stream",
     "text": [
      "Train Accuracy: 0.6788, Val Accuracy: 0.5917, Test Accuracy: 0.5338\n",
      "Train loss: 1.1094\n",
      "\n",
      " Epoch 52 training:\n"
     ]
    },
    {
     "name": "stderr",
     "output_type": "stream",
     "text": [
      "100%|██████████| 711/711 [00:04<00:00, 165.29it/s]\n"
     ]
    },
    {
     "name": "stdout",
     "output_type": "stream",
     "text": [
      "Train Accuracy: 0.6799, Val Accuracy: 0.5922, Test Accuracy: 0.5234\n",
      "Train loss: 1.1045\n",
      "\n",
      " Epoch 53 training:\n"
     ]
    },
    {
     "name": "stderr",
     "output_type": "stream",
     "text": [
      "100%|██████████| 711/711 [00:04<00:00, 156.71it/s]\n"
     ]
    },
    {
     "name": "stdout",
     "output_type": "stream",
     "text": [
      "Train Accuracy: 0.6768, Val Accuracy: 0.5894, Test Accuracy: 0.5238\n",
      "Train loss: 1.0980\n",
      "\n",
      " Epoch 54 training:\n"
     ]
    },
    {
     "name": "stderr",
     "output_type": "stream",
     "text": [
      "100%|██████████| 711/711 [00:04<00:00, 165.04it/s]\n"
     ]
    },
    {
     "name": "stdout",
     "output_type": "stream",
     "text": [
      "Train Accuracy: 0.6806, Val Accuracy: 0.5992, Test Accuracy: 0.5400\n",
      "Train loss: 1.1014\n",
      "\n",
      " Epoch 55 training:\n"
     ]
    },
    {
     "name": "stderr",
     "output_type": "stream",
     "text": [
      "100%|██████████| 711/711 [00:04<00:00, 150.59it/s]\n"
     ]
    },
    {
     "name": "stdout",
     "output_type": "stream",
     "text": [
      "Train Accuracy: 0.6829, Val Accuracy: 0.5952, Test Accuracy: 0.5321\n",
      "Train loss: 1.0979\n",
      "\n",
      " Epoch 56 training:\n"
     ]
    },
    {
     "name": "stderr",
     "output_type": "stream",
     "text": [
      "100%|██████████| 711/711 [00:04<00:00, 158.26it/s]\n"
     ]
    },
    {
     "name": "stdout",
     "output_type": "stream",
     "text": [
      "Train Accuracy: 0.6818, Val Accuracy: 0.5938, Test Accuracy: 0.5341\n",
      "Train loss: 1.0967\n",
      "\n",
      " Epoch 57 training:\n"
     ]
    },
    {
     "name": "stderr",
     "output_type": "stream",
     "text": [
      "100%|██████████| 711/711 [00:04<00:00, 176.16it/s]\n"
     ]
    },
    {
     "name": "stdout",
     "output_type": "stream",
     "text": [
      "Train Accuracy: 0.6817, Val Accuracy: 0.5917, Test Accuracy: 0.5313\n",
      "Train loss: 1.0983\n",
      "\n",
      " Epoch 58 training:\n"
     ]
    },
    {
     "name": "stderr",
     "output_type": "stream",
     "text": [
      "100%|██████████| 711/711 [00:04<00:00, 161.37it/s]\n"
     ]
    },
    {
     "name": "stdout",
     "output_type": "stream",
     "text": [
      "Train Accuracy: 0.6844, Val Accuracy: 0.5974, Test Accuracy: 0.5354\n",
      "Train loss: 1.0961\n",
      "\n",
      " Epoch 59 training:\n"
     ]
    },
    {
     "name": "stderr",
     "output_type": "stream",
     "text": [
      "100%|██████████| 711/711 [00:04<00:00, 158.46it/s]\n"
     ]
    },
    {
     "name": "stdout",
     "output_type": "stream",
     "text": [
      "Train Accuracy: 0.6808, Val Accuracy: 0.5883, Test Accuracy: 0.5231\n",
      "Train loss: 1.0923\n",
      "\n",
      " Epoch 60 training:\n"
     ]
    },
    {
     "name": "stderr",
     "output_type": "stream",
     "text": [
      "100%|██████████| 711/711 [00:04<00:00, 172.77it/s]\n"
     ]
    },
    {
     "name": "stdout",
     "output_type": "stream",
     "text": [
      "Train Accuracy: 0.6839, Val Accuracy: 0.5991, Test Accuracy: 0.5388\n",
      "Train loss: 1.0937\n",
      "\n",
      " Epoch 61 training:\n"
     ]
    },
    {
     "name": "stderr",
     "output_type": "stream",
     "text": [
      "100%|██████████| 711/711 [00:04<00:00, 163.78it/s]\n"
     ]
    },
    {
     "name": "stdout",
     "output_type": "stream",
     "text": [
      "Train Accuracy: 0.6814, Val Accuracy: 0.5965, Test Accuracy: 0.5357\n",
      "Train loss: 1.0939\n",
      "\n",
      " Epoch 62 training:\n"
     ]
    },
    {
     "name": "stderr",
     "output_type": "stream",
     "text": [
      "100%|██████████| 711/711 [00:04<00:00, 174.24it/s]\n"
     ]
    },
    {
     "name": "stdout",
     "output_type": "stream",
     "text": [
      "Train Accuracy: 0.6836, Val Accuracy: 0.5910, Test Accuracy: 0.5312\n",
      "Train loss: 1.0933\n",
      "\n",
      " Epoch 63 training:\n"
     ]
    },
    {
     "name": "stderr",
     "output_type": "stream",
     "text": [
      "100%|██████████| 711/711 [00:04<00:00, 168.79it/s]\n"
     ]
    },
    {
     "name": "stdout",
     "output_type": "stream",
     "text": [
      "Train Accuracy: 0.6820, Val Accuracy: 0.5967, Test Accuracy: 0.5346\n",
      "Train loss: 1.0926\n",
      "\n",
      " Epoch 64 training:\n"
     ]
    },
    {
     "name": "stderr",
     "output_type": "stream",
     "text": [
      "100%|██████████| 711/711 [00:04<00:00, 165.57it/s]\n"
     ]
    },
    {
     "name": "stdout",
     "output_type": "stream",
     "text": [
      "Train Accuracy: 0.6882, Val Accuracy: 0.5954, Test Accuracy: 0.5338\n",
      "Train loss: 1.0863\n",
      "\n",
      " Epoch 65 training:\n"
     ]
    },
    {
     "name": "stderr",
     "output_type": "stream",
     "text": [
      "100%|██████████| 711/711 [00:04<00:00, 173.07it/s]\n"
     ]
    },
    {
     "name": "stdout",
     "output_type": "stream",
     "text": [
      "Train Accuracy: 0.6863, Val Accuracy: 0.5945, Test Accuracy: 0.5322\n",
      "Train loss: 1.0885\n",
      "\n",
      " Epoch 66 training:\n"
     ]
    },
    {
     "name": "stderr",
     "output_type": "stream",
     "text": [
      "100%|██████████| 711/711 [00:04<00:00, 172.19it/s]\n"
     ]
    },
    {
     "name": "stdout",
     "output_type": "stream",
     "text": [
      "Train Accuracy: 0.6841, Val Accuracy: 0.5925, Test Accuracy: 0.5340\n",
      "Train loss: 1.0881\n",
      "\n",
      " Epoch 67 training:\n"
     ]
    },
    {
     "name": "stderr",
     "output_type": "stream",
     "text": [
      "100%|██████████| 711/711 [00:04<00:00, 157.67it/s]\n"
     ]
    },
    {
     "name": "stdout",
     "output_type": "stream",
     "text": [
      "Train Accuracy: 0.6836, Val Accuracy: 0.5870, Test Accuracy: 0.5174\n",
      "Train loss: 1.0819\n",
      "\n",
      " Epoch 68 training:\n"
     ]
    },
    {
     "name": "stderr",
     "output_type": "stream",
     "text": [
      "100%|██████████| 711/711 [00:04<00:00, 170.91it/s]\n"
     ]
    },
    {
     "name": "stdout",
     "output_type": "stream",
     "text": [
      "Train Accuracy: 0.6830, Val Accuracy: 0.5952, Test Accuracy: 0.5299\n",
      "Train loss: 1.0848\n",
      "\n",
      " Epoch 69 training:\n"
     ]
    },
    {
     "name": "stderr",
     "output_type": "stream",
     "text": [
      "100%|██████████| 711/711 [00:04<00:00, 157.75it/s]\n"
     ]
    },
    {
     "name": "stdout",
     "output_type": "stream",
     "text": [
      "Train Accuracy: 0.6856, Val Accuracy: 0.5944, Test Accuracy: 0.5387\n",
      "Train loss: 1.0885\n",
      "\n",
      " Epoch 70 training:\n"
     ]
    },
    {
     "name": "stderr",
     "output_type": "stream",
     "text": [
      "100%|██████████| 711/711 [00:04<00:00, 162.08it/s]\n"
     ]
    },
    {
     "name": "stdout",
     "output_type": "stream",
     "text": [
      "Train Accuracy: 0.6845, Val Accuracy: 0.5911, Test Accuracy: 0.5322\n",
      "Train loss: 1.0818\n",
      "\n",
      " Epoch 71 training:\n"
     ]
    },
    {
     "name": "stderr",
     "output_type": "stream",
     "text": [
      "100%|██████████| 711/711 [00:04<00:00, 161.18it/s]\n"
     ]
    },
    {
     "name": "stdout",
     "output_type": "stream",
     "text": [
      "Train Accuracy: 0.6856, Val Accuracy: 0.5963, Test Accuracy: 0.5353\n",
      "Train loss: 1.0799\n",
      "\n",
      " Epoch 72 training:\n"
     ]
    },
    {
     "name": "stderr",
     "output_type": "stream",
     "text": [
      "100%|██████████| 711/711 [00:04<00:00, 165.37it/s]\n"
     ]
    },
    {
     "name": "stdout",
     "output_type": "stream",
     "text": [
      "Train Accuracy: 0.6868, Val Accuracy: 0.5935, Test Accuracy: 0.5239\n",
      "Train loss: 1.0778\n",
      "\n",
      " Epoch 73 training:\n"
     ]
    },
    {
     "name": "stderr",
     "output_type": "stream",
     "text": [
      "100%|██████████| 711/711 [00:04<00:00, 167.10it/s]\n"
     ]
    },
    {
     "name": "stdout",
     "output_type": "stream",
     "text": [
      "Train Accuracy: 0.6854, Val Accuracy: 0.5826, Test Accuracy: 0.5149\n",
      "Train loss: 1.0801\n",
      "\n",
      " Epoch 74 training:\n"
     ]
    },
    {
     "name": "stderr",
     "output_type": "stream",
     "text": [
      "100%|██████████| 711/711 [00:04<00:00, 170.76it/s]\n"
     ]
    },
    {
     "name": "stdout",
     "output_type": "stream",
     "text": [
      "Train Accuracy: 0.6883, Val Accuracy: 0.5979, Test Accuracy: 0.5360\n",
      "Train loss: 1.0776\n",
      "\n",
      " Epoch 75 training:\n"
     ]
    },
    {
     "name": "stderr",
     "output_type": "stream",
     "text": [
      "100%|██████████| 711/711 [00:04<00:00, 163.66it/s]\n"
     ]
    },
    {
     "name": "stdout",
     "output_type": "stream",
     "text": [
      "Train Accuracy: 0.6838, Val Accuracy: 0.5987, Test Accuracy: 0.5427\n",
      "Train loss: 1.0805\n",
      "\n",
      " Epoch 76 training:\n"
     ]
    },
    {
     "name": "stderr",
     "output_type": "stream",
     "text": [
      "100%|██████████| 711/711 [00:04<00:00, 173.67it/s]\n"
     ]
    },
    {
     "name": "stdout",
     "output_type": "stream",
     "text": [
      "Train Accuracy: 0.6877, Val Accuracy: 0.5935, Test Accuracy: 0.5291\n",
      "Train loss: 1.0758\n",
      "\n",
      " Epoch 77 training:\n"
     ]
    },
    {
     "name": "stderr",
     "output_type": "stream",
     "text": [
      "100%|██████████| 711/711 [00:04<00:00, 169.94it/s]\n"
     ]
    },
    {
     "name": "stdout",
     "output_type": "stream",
     "text": [
      "Train Accuracy: 0.6922, Val Accuracy: 0.5961, Test Accuracy: 0.5302\n",
      "Train loss: 1.0791\n",
      "\n",
      " Epoch 78 training:\n"
     ]
    },
    {
     "name": "stderr",
     "output_type": "stream",
     "text": [
      "100%|██████████| 711/711 [00:04<00:00, 164.71it/s]\n"
     ]
    },
    {
     "name": "stdout",
     "output_type": "stream",
     "text": [
      "Train Accuracy: 0.6894, Val Accuracy: 0.5968, Test Accuracy: 0.5404\n",
      "Train loss: 1.0798\n",
      "\n",
      " Epoch 79 training:\n"
     ]
    },
    {
     "name": "stderr",
     "output_type": "stream",
     "text": [
      "100%|██████████| 711/711 [00:04<00:00, 158.43it/s]\n"
     ]
    },
    {
     "name": "stdout",
     "output_type": "stream",
     "text": [
      "Train Accuracy: 0.6860, Val Accuracy: 0.5915, Test Accuracy: 0.5301\n",
      "Train loss: 1.0783\n",
      "\n",
      " Epoch 80 training:\n"
     ]
    },
    {
     "name": "stderr",
     "output_type": "stream",
     "text": [
      "100%|██████████| 711/711 [00:04<00:00, 169.85it/s]\n"
     ]
    },
    {
     "name": "stdout",
     "output_type": "stream",
     "text": [
      "Train Accuracy: 0.6856, Val Accuracy: 0.5887, Test Accuracy: 0.5231\n",
      "Train loss: 1.0791\n",
      "\n",
      " Epoch 81 training:\n"
     ]
    },
    {
     "name": "stderr",
     "output_type": "stream",
     "text": [
      "100%|██████████| 711/711 [00:04<00:00, 163.51it/s]\n"
     ]
    },
    {
     "name": "stdout",
     "output_type": "stream",
     "text": [
      "Train Accuracy: 0.6891, Val Accuracy: 0.5964, Test Accuracy: 0.5368\n",
      "Train loss: 1.0738\n",
      "\n",
      " Epoch 82 training:\n"
     ]
    },
    {
     "name": "stderr",
     "output_type": "stream",
     "text": [
      "100%|██████████| 711/711 [00:04<00:00, 164.53it/s]\n"
     ]
    },
    {
     "name": "stdout",
     "output_type": "stream",
     "text": [
      "Train Accuracy: 0.6906, Val Accuracy: 0.5937, Test Accuracy: 0.5377\n",
      "Train loss: 1.0728\n",
      "\n",
      " Epoch 83 training:\n"
     ]
    },
    {
     "name": "stderr",
     "output_type": "stream",
     "text": [
      "100%|██████████| 711/711 [00:04<00:00, 170.75it/s]\n"
     ]
    },
    {
     "name": "stdout",
     "output_type": "stream",
     "text": [
      "Train Accuracy: 0.6862, Val Accuracy: 0.5902, Test Accuracy: 0.5273\n",
      "Train loss: 1.0731\n",
      "\n",
      " Epoch 84 training:\n"
     ]
    },
    {
     "name": "stderr",
     "output_type": "stream",
     "text": [
      "100%|██████████| 711/711 [00:04<00:00, 169.48it/s]\n"
     ]
    },
    {
     "name": "stdout",
     "output_type": "stream",
     "text": [
      "Train Accuracy: 0.6869, Val Accuracy: 0.5953, Test Accuracy: 0.5286\n",
      "Train loss: 1.0724\n",
      "\n",
      " Epoch 85 training:\n"
     ]
    },
    {
     "name": "stderr",
     "output_type": "stream",
     "text": [
      "100%|██████████| 711/711 [00:04<00:00, 165.50it/s]\n"
     ]
    },
    {
     "name": "stdout",
     "output_type": "stream",
     "text": [
      "Train Accuracy: 0.6841, Val Accuracy: 0.5885, Test Accuracy: 0.5269\n",
      "Train loss: 1.0704\n",
      "\n",
      " Epoch 86 training:\n"
     ]
    },
    {
     "name": "stderr",
     "output_type": "stream",
     "text": [
      "100%|██████████| 711/711 [00:04<00:00, 160.73it/s]\n"
     ]
    },
    {
     "name": "stdout",
     "output_type": "stream",
     "text": [
      "Train Accuracy: 0.6873, Val Accuracy: 0.5909, Test Accuracy: 0.5342\n",
      "Train loss: 1.0698\n",
      "\n",
      " Epoch 87 training:\n"
     ]
    },
    {
     "name": "stderr",
     "output_type": "stream",
     "text": [
      "100%|██████████| 711/711 [00:04<00:00, 168.22it/s]\n"
     ]
    },
    {
     "name": "stdout",
     "output_type": "stream",
     "text": [
      "Train Accuracy: 0.6850, Val Accuracy: 0.5914, Test Accuracy: 0.5265\n",
      "Train loss: 1.0708\n",
      "\n",
      " Epoch 88 training:\n"
     ]
    },
    {
     "name": "stderr",
     "output_type": "stream",
     "text": [
      "100%|██████████| 711/711 [00:04<00:00, 167.47it/s]\n"
     ]
    },
    {
     "name": "stdout",
     "output_type": "stream",
     "text": [
      "Train Accuracy: 0.6887, Val Accuracy: 0.5843, Test Accuracy: 0.5240\n",
      "Train loss: 1.0681\n",
      "\n",
      " Epoch 89 training:\n"
     ]
    },
    {
     "name": "stderr",
     "output_type": "stream",
     "text": [
      "100%|██████████| 711/711 [00:04<00:00, 174.01it/s]\n"
     ]
    },
    {
     "name": "stdout",
     "output_type": "stream",
     "text": [
      "Train Accuracy: 0.6883, Val Accuracy: 0.5836, Test Accuracy: 0.5148\n",
      "Train loss: 1.0661\n",
      "\n",
      " Epoch 90 training:\n"
     ]
    },
    {
     "name": "stderr",
     "output_type": "stream",
     "text": [
      "100%|██████████| 711/711 [00:04<00:00, 171.11it/s]\n"
     ]
    },
    {
     "name": "stdout",
     "output_type": "stream",
     "text": [
      "Train Accuracy: 0.6855, Val Accuracy: 0.5952, Test Accuracy: 0.5365\n",
      "Train loss: 1.0675\n",
      "\n",
      " Epoch 91 training:\n"
     ]
    },
    {
     "name": "stderr",
     "output_type": "stream",
     "text": [
      "100%|██████████| 711/711 [00:04<00:00, 150.38it/s]\n"
     ]
    },
    {
     "name": "stdout",
     "output_type": "stream",
     "text": [
      "Train Accuracy: 0.6894, Val Accuracy: 0.5885, Test Accuracy: 0.5238\n",
      "Train loss: 1.0628\n",
      "\n",
      " Epoch 92 training:\n"
     ]
    },
    {
     "name": "stderr",
     "output_type": "stream",
     "text": [
      "100%|██████████| 711/711 [00:04<00:00, 165.20it/s]\n"
     ]
    },
    {
     "name": "stdout",
     "output_type": "stream",
     "text": [
      "Train Accuracy: 0.6902, Val Accuracy: 0.5907, Test Accuracy: 0.5354\n",
      "Train loss: 1.0644\n",
      "\n",
      " Epoch 93 training:\n"
     ]
    },
    {
     "name": "stderr",
     "output_type": "stream",
     "text": [
      "100%|██████████| 711/711 [00:04<00:00, 165.73it/s]\n"
     ]
    },
    {
     "name": "stdout",
     "output_type": "stream",
     "text": [
      "Train Accuracy: 0.6876, Val Accuracy: 0.5922, Test Accuracy: 0.5286\n",
      "Train loss: 1.0671\n",
      "\n",
      " Epoch 94 training:\n"
     ]
    },
    {
     "name": "stderr",
     "output_type": "stream",
     "text": [
      "100%|██████████| 711/711 [00:04<00:00, 171.00it/s]\n"
     ]
    },
    {
     "name": "stdout",
     "output_type": "stream",
     "text": [
      "Train Accuracy: 0.6911, Val Accuracy: 0.5950, Test Accuracy: 0.5339\n",
      "Train loss: 1.0662\n",
      "\n",
      " Epoch 95 training:\n"
     ]
    },
    {
     "name": "stderr",
     "output_type": "stream",
     "text": [
      "100%|██████████| 711/711 [00:04<00:00, 167.89it/s]\n"
     ]
    },
    {
     "name": "stdout",
     "output_type": "stream",
     "text": [
      "Train Accuracy: 0.6881, Val Accuracy: 0.5952, Test Accuracy: 0.5340\n",
      "Train loss: 1.0646\n",
      "\n",
      " Epoch 96 training:\n"
     ]
    },
    {
     "name": "stderr",
     "output_type": "stream",
     "text": [
      "100%|██████████| 711/711 [00:04<00:00, 164.92it/s]\n"
     ]
    },
    {
     "name": "stdout",
     "output_type": "stream",
     "text": [
      "Train Accuracy: 0.6918, Val Accuracy: 0.5923, Test Accuracy: 0.5318\n",
      "Train loss: 1.0667\n",
      "\n",
      " Epoch 97 training:\n"
     ]
    },
    {
     "name": "stderr",
     "output_type": "stream",
     "text": [
      "100%|██████████| 711/711 [00:04<00:00, 165.60it/s]\n"
     ]
    },
    {
     "name": "stdout",
     "output_type": "stream",
     "text": [
      "Train Accuracy: 0.6894, Val Accuracy: 0.5905, Test Accuracy: 0.5328\n",
      "Train loss: 1.0603\n",
      "\n",
      " Epoch 98 training:\n"
     ]
    },
    {
     "name": "stderr",
     "output_type": "stream",
     "text": [
      "100%|██████████| 711/711 [00:04<00:00, 171.30it/s]\n"
     ]
    },
    {
     "name": "stdout",
     "output_type": "stream",
     "text": [
      "Train Accuracy: 0.6948, Val Accuracy: 0.5951, Test Accuracy: 0.5309\n",
      "Train loss: 1.0631\n",
      "\n",
      " Epoch 99 training:\n"
     ]
    },
    {
     "name": "stderr",
     "output_type": "stream",
     "text": [
      "100%|██████████| 711/711 [00:04<00:00, 162.09it/s]\n"
     ]
    },
    {
     "name": "stdout",
     "output_type": "stream",
     "text": [
      "Train Accuracy: 0.6865, Val Accuracy: 0.5933, Test Accuracy: 0.5303\n",
      "Train loss: 1.0634\n",
      "\n",
      " Epoch 100 training:\n"
     ]
    },
    {
     "name": "stderr",
     "output_type": "stream",
     "text": [
      "100%|██████████| 711/711 [00:04<00:00, 175.56it/s]\n"
     ]
    },
    {
     "name": "stdout",
     "output_type": "stream",
     "text": [
      "Train Accuracy: 0.6921, Val Accuracy: 0.5916, Test Accuracy: 0.5277\n",
      "Train loss: 1.0622\n",
      "\n",
      " Epoch 101 training:\n"
     ]
    },
    {
     "name": "stderr",
     "output_type": "stream",
     "text": [
      "100%|██████████| 711/711 [00:04<00:00, 174.45it/s]\n"
     ]
    },
    {
     "name": "stdout",
     "output_type": "stream",
     "text": [
      "Train Accuracy: 0.6923, Val Accuracy: 0.5987, Test Accuracy: 0.5406\n",
      "Train loss: 1.0637\n",
      "\n",
      " Epoch 102 training:\n"
     ]
    },
    {
     "name": "stderr",
     "output_type": "stream",
     "text": [
      "100%|██████████| 711/711 [00:04<00:00, 160.23it/s]\n"
     ]
    },
    {
     "name": "stdout",
     "output_type": "stream",
     "text": [
      "Train Accuracy: 0.6847, Val Accuracy: 0.5852, Test Accuracy: 0.5226\n",
      "Train loss: 1.0643\n",
      "\n",
      " Epoch 103 training:\n"
     ]
    },
    {
     "name": "stderr",
     "output_type": "stream",
     "text": [
      "100%|██████████| 711/711 [00:04<00:00, 152.61it/s]\n"
     ]
    },
    {
     "name": "stdout",
     "output_type": "stream",
     "text": [
      "Train Accuracy: 0.6891, Val Accuracy: 0.5901, Test Accuracy: 0.5256\n",
      "Train loss: 1.0616\n",
      "\n",
      " Epoch 104 training:\n"
     ]
    },
    {
     "name": "stderr",
     "output_type": "stream",
     "text": [
      "100%|██████████| 711/711 [00:04<00:00, 164.03it/s]\n"
     ]
    },
    {
     "name": "stdout",
     "output_type": "stream",
     "text": [
      "Train Accuracy: 0.6908, Val Accuracy: 0.5954, Test Accuracy: 0.5367\n",
      "Train loss: 1.0584\n",
      "\n",
      " Epoch 105 training:\n"
     ]
    },
    {
     "name": "stderr",
     "output_type": "stream",
     "text": [
      "100%|██████████| 711/711 [00:04<00:00, 153.96it/s]\n"
     ]
    },
    {
     "name": "stdout",
     "output_type": "stream",
     "text": [
      "Train Accuracy: 0.6915, Val Accuracy: 0.5914, Test Accuracy: 0.5337\n",
      "Train loss: 1.0562\n",
      "\n",
      " Epoch 106 training:\n"
     ]
    },
    {
     "name": "stderr",
     "output_type": "stream",
     "text": [
      "100%|██████████| 711/711 [00:04<00:00, 171.40it/s]\n"
     ]
    },
    {
     "name": "stdout",
     "output_type": "stream",
     "text": [
      "Train Accuracy: 0.6886, Val Accuracy: 0.6003, Test Accuracy: 0.5405\n",
      "Train loss: 1.0564\n",
      "\n",
      " Epoch 107 training:\n"
     ]
    },
    {
     "name": "stderr",
     "output_type": "stream",
     "text": [
      "100%|██████████| 711/711 [00:04<00:00, 163.48it/s]\n"
     ]
    },
    {
     "name": "stdout",
     "output_type": "stream",
     "text": [
      "Train Accuracy: 0.6923, Val Accuracy: 0.5844, Test Accuracy: 0.5240\n",
      "Train loss: 1.0545\n",
      "\n",
      " Epoch 108 training:\n"
     ]
    },
    {
     "name": "stderr",
     "output_type": "stream",
     "text": [
      "100%|██████████| 711/711 [00:04<00:00, 165.78it/s]\n"
     ]
    },
    {
     "name": "stdout",
     "output_type": "stream",
     "text": [
      "Train Accuracy: 0.6935, Val Accuracy: 0.5921, Test Accuracy: 0.5333\n",
      "Train loss: 1.0607\n",
      "\n",
      " Epoch 109 training:\n"
     ]
    },
    {
     "name": "stderr",
     "output_type": "stream",
     "text": [
      "100%|██████████| 711/711 [00:04<00:00, 153.04it/s]\n"
     ]
    },
    {
     "name": "stdout",
     "output_type": "stream",
     "text": [
      "Train Accuracy: 0.6913, Val Accuracy: 0.5871, Test Accuracy: 0.5189\n",
      "Train loss: 1.0551\n",
      "\n",
      " Epoch 110 training:\n"
     ]
    },
    {
     "name": "stderr",
     "output_type": "stream",
     "text": [
      "100%|██████████| 711/711 [00:04<00:00, 175.03it/s]\n"
     ]
    },
    {
     "name": "stdout",
     "output_type": "stream",
     "text": [
      "Train Accuracy: 0.6925, Val Accuracy: 0.5930, Test Accuracy: 0.5313\n",
      "Train loss: 1.0577\n",
      "\n",
      " Epoch 111 training:\n"
     ]
    },
    {
     "name": "stderr",
     "output_type": "stream",
     "text": [
      "100%|██████████| 711/711 [00:04<00:00, 159.39it/s]\n"
     ]
    },
    {
     "name": "stdout",
     "output_type": "stream",
     "text": [
      "Train Accuracy: 0.6951, Val Accuracy: 0.5941, Test Accuracy: 0.5368\n",
      "Train loss: 1.0603\n",
      "\n",
      " Epoch 112 training:\n"
     ]
    },
    {
     "name": "stderr",
     "output_type": "stream",
     "text": [
      "100%|██████████| 711/711 [00:04<00:00, 152.37it/s]\n"
     ]
    },
    {
     "name": "stdout",
     "output_type": "stream",
     "text": [
      "Train Accuracy: 0.6902, Val Accuracy: 0.5962, Test Accuracy: 0.5307\n",
      "Train loss: 1.0545\n",
      "\n",
      " Epoch 113 training:\n"
     ]
    },
    {
     "name": "stderr",
     "output_type": "stream",
     "text": [
      "100%|██████████| 711/711 [00:04<00:00, 160.29it/s]\n"
     ]
    },
    {
     "name": "stdout",
     "output_type": "stream",
     "text": [
      "Train Accuracy: 0.6934, Val Accuracy: 0.5873, Test Accuracy: 0.5224\n",
      "Train loss: 1.0561\n",
      "\n",
      " Epoch 114 training:\n"
     ]
    },
    {
     "name": "stderr",
     "output_type": "stream",
     "text": [
      "100%|██████████| 711/711 [00:04<00:00, 163.66it/s]\n"
     ]
    },
    {
     "name": "stdout",
     "output_type": "stream",
     "text": [
      "Train Accuracy: 0.6893, Val Accuracy: 0.5944, Test Accuracy: 0.5332\n",
      "Train loss: 1.0524\n",
      "\n",
      " Epoch 115 training:\n"
     ]
    },
    {
     "name": "stderr",
     "output_type": "stream",
     "text": [
      "100%|██████████| 711/711 [00:04<00:00, 165.40it/s]\n"
     ]
    },
    {
     "name": "stdout",
     "output_type": "stream",
     "text": [
      "Train Accuracy: 0.6942, Val Accuracy: 0.5953, Test Accuracy: 0.5357\n",
      "Train loss: 1.0584\n",
      "\n",
      " Epoch 116 training:\n"
     ]
    },
    {
     "name": "stderr",
     "output_type": "stream",
     "text": [
      "100%|██████████| 711/711 [00:04<00:00, 160.15it/s]\n"
     ]
    },
    {
     "name": "stdout",
     "output_type": "stream",
     "text": [
      "Train Accuracy: 0.6922, Val Accuracy: 0.5853, Test Accuracy: 0.5167\n",
      "Train loss: 1.0534\n",
      "\n",
      " Epoch 117 training:\n"
     ]
    },
    {
     "name": "stderr",
     "output_type": "stream",
     "text": [
      "100%|██████████| 711/711 [00:04<00:00, 152.33it/s]\n"
     ]
    },
    {
     "name": "stdout",
     "output_type": "stream",
     "text": [
      "Train Accuracy: 0.6952, Val Accuracy: 0.5907, Test Accuracy: 0.5271\n",
      "Train loss: 1.0491\n",
      "\n",
      " Epoch 118 training:\n"
     ]
    },
    {
     "name": "stderr",
     "output_type": "stream",
     "text": [
      "100%|██████████| 711/711 [00:04<00:00, 167.62it/s]\n"
     ]
    },
    {
     "name": "stdout",
     "output_type": "stream",
     "text": [
      "Train Accuracy: 0.6920, Val Accuracy: 0.5915, Test Accuracy: 0.5384\n",
      "Train loss: 1.0517\n",
      "\n",
      " Epoch 119 training:\n"
     ]
    },
    {
     "name": "stderr",
     "output_type": "stream",
     "text": [
      "100%|██████████| 711/711 [00:04<00:00, 160.62it/s]\n"
     ]
    },
    {
     "name": "stdout",
     "output_type": "stream",
     "text": [
      "Train Accuracy: 0.6916, Val Accuracy: 0.5859, Test Accuracy: 0.5260\n",
      "Train loss: 1.0524\n",
      "\n",
      " Epoch 120 training:\n"
     ]
    },
    {
     "name": "stderr",
     "output_type": "stream",
     "text": [
      "100%|██████████| 711/711 [00:04<00:00, 175.08it/s]\n"
     ]
    },
    {
     "name": "stdout",
     "output_type": "stream",
     "text": [
      "Train Accuracy: 0.6944, Val Accuracy: 0.5979, Test Accuracy: 0.5316\n",
      "Train loss: 1.0559\n",
      "\n",
      " Epoch 121 training:\n"
     ]
    },
    {
     "name": "stderr",
     "output_type": "stream",
     "text": [
      "100%|██████████| 711/711 [00:04<00:00, 158.71it/s]\n"
     ]
    },
    {
     "name": "stdout",
     "output_type": "stream",
     "text": [
      "Train Accuracy: 0.6909, Val Accuracy: 0.5912, Test Accuracy: 0.5325\n",
      "Train loss: 1.0487\n",
      "\n",
      " Epoch 122 training:\n"
     ]
    },
    {
     "name": "stderr",
     "output_type": "stream",
     "text": [
      "100%|██████████| 711/711 [00:04<00:00, 168.81it/s]\n"
     ]
    },
    {
     "name": "stdout",
     "output_type": "stream",
     "text": [
      "Train Accuracy: 0.6948, Val Accuracy: 0.5943, Test Accuracy: 0.5275\n",
      "Train loss: 1.0520\n",
      "\n",
      " Epoch 123 training:\n"
     ]
    },
    {
     "name": "stderr",
     "output_type": "stream",
     "text": [
      "100%|██████████| 711/711 [00:04<00:00, 165.86it/s]\n"
     ]
    },
    {
     "name": "stdout",
     "output_type": "stream",
     "text": [
      "Train Accuracy: 0.6889, Val Accuracy: 0.5937, Test Accuracy: 0.5319\n",
      "Train loss: 1.0520\n",
      "\n",
      " Epoch 124 training:\n"
     ]
    },
    {
     "name": "stderr",
     "output_type": "stream",
     "text": [
      "100%|██████████| 711/711 [00:04<00:00, 164.94it/s]\n"
     ]
    },
    {
     "name": "stdout",
     "output_type": "stream",
     "text": [
      "Train Accuracy: 0.6961, Val Accuracy: 0.5854, Test Accuracy: 0.5174\n",
      "Train loss: 1.0518\n",
      "\n",
      " Epoch 125 training:\n"
     ]
    },
    {
     "name": "stderr",
     "output_type": "stream",
     "text": [
      "100%|██████████| 711/711 [00:04<00:00, 163.87it/s]\n"
     ]
    },
    {
     "name": "stdout",
     "output_type": "stream",
     "text": [
      "Train Accuracy: 0.6840, Val Accuracy: 0.5724, Test Accuracy: 0.5126\n",
      "Train loss: 1.0492\n",
      "\n",
      " Epoch 126 training:\n"
     ]
    },
    {
     "name": "stderr",
     "output_type": "stream",
     "text": [
      "100%|██████████| 711/711 [00:04<00:00, 170.86it/s]\n"
     ]
    },
    {
     "name": "stdout",
     "output_type": "stream",
     "text": [
      "Train Accuracy: 0.6934, Val Accuracy: 0.5900, Test Accuracy: 0.5299\n",
      "Train loss: 1.0503\n",
      "\n",
      " Epoch 127 training:\n"
     ]
    },
    {
     "name": "stderr",
     "output_type": "stream",
     "text": [
      "100%|██████████| 711/711 [00:04<00:00, 172.13it/s]\n"
     ]
    },
    {
     "name": "stdout",
     "output_type": "stream",
     "text": [
      "Train Accuracy: 0.6956, Val Accuracy: 0.5890, Test Accuracy: 0.5215\n",
      "Train loss: 1.0485\n",
      "\n",
      " Epoch 128 training:\n"
     ]
    },
    {
     "name": "stderr",
     "output_type": "stream",
     "text": [
      "100%|██████████| 711/711 [00:04<00:00, 171.99it/s]\n"
     ]
    },
    {
     "name": "stdout",
     "output_type": "stream",
     "text": [
      "Train Accuracy: 0.6913, Val Accuracy: 0.5893, Test Accuracy: 0.5323\n",
      "Train loss: 1.0427\n",
      "\n",
      " Epoch 129 training:\n"
     ]
    },
    {
     "name": "stderr",
     "output_type": "stream",
     "text": [
      "100%|██████████| 711/711 [00:04<00:00, 175.83it/s]\n"
     ]
    },
    {
     "name": "stdout",
     "output_type": "stream",
     "text": [
      "Train Accuracy: 0.6952, Val Accuracy: 0.5900, Test Accuracy: 0.5240\n",
      "Train loss: 1.0496\n",
      "\n",
      " Epoch 130 training:\n"
     ]
    },
    {
     "name": "stderr",
     "output_type": "stream",
     "text": [
      "100%|██████████| 711/711 [00:04<00:00, 172.12it/s]\n"
     ]
    },
    {
     "name": "stdout",
     "output_type": "stream",
     "text": [
      "Train Accuracy: 0.6967, Val Accuracy: 0.5896, Test Accuracy: 0.5250\n",
      "Train loss: 1.0494\n",
      "\n",
      " Epoch 131 training:\n"
     ]
    },
    {
     "name": "stderr",
     "output_type": "stream",
     "text": [
      "100%|██████████| 711/711 [00:04<00:00, 157.77it/s]\n"
     ]
    },
    {
     "name": "stdout",
     "output_type": "stream",
     "text": [
      "Train Accuracy: 0.6898, Val Accuracy: 0.5836, Test Accuracy: 0.5159\n",
      "Train loss: 1.0459\n",
      "\n",
      " Epoch 132 training:\n"
     ]
    },
    {
     "name": "stderr",
     "output_type": "stream",
     "text": [
      "100%|██████████| 711/711 [00:04<00:00, 167.72it/s]\n"
     ]
    },
    {
     "name": "stdout",
     "output_type": "stream",
     "text": [
      "Train Accuracy: 0.6957, Val Accuracy: 0.5922, Test Accuracy: 0.5295\n",
      "Train loss: 1.0503\n",
      "\n",
      " Epoch 133 training:\n"
     ]
    },
    {
     "name": "stderr",
     "output_type": "stream",
     "text": [
      "100%|██████████| 711/711 [00:04<00:00, 156.86it/s]\n"
     ]
    },
    {
     "name": "stdout",
     "output_type": "stream",
     "text": [
      "Train Accuracy: 0.6916, Val Accuracy: 0.5906, Test Accuracy: 0.5258\n",
      "Train loss: 1.0459\n",
      "\n",
      " Epoch 134 training:\n"
     ]
    },
    {
     "name": "stderr",
     "output_type": "stream",
     "text": [
      "100%|██████████| 711/711 [00:04<00:00, 160.93it/s]\n"
     ]
    },
    {
     "name": "stdout",
     "output_type": "stream",
     "text": [
      "Train Accuracy: 0.6916, Val Accuracy: 0.5848, Test Accuracy: 0.5167\n",
      "Train loss: 1.0461\n",
      "\n",
      " Epoch 135 training:\n"
     ]
    },
    {
     "name": "stderr",
     "output_type": "stream",
     "text": [
      "100%|██████████| 711/711 [00:04<00:00, 161.56it/s]\n"
     ]
    },
    {
     "name": "stdout",
     "output_type": "stream",
     "text": [
      "Train Accuracy: 0.6932, Val Accuracy: 0.5962, Test Accuracy: 0.5367\n",
      "Train loss: 1.0453\n",
      "\n",
      " Epoch 136 training:\n"
     ]
    },
    {
     "name": "stderr",
     "output_type": "stream",
     "text": [
      "100%|██████████| 711/711 [00:04<00:00, 175.23it/s]\n"
     ]
    },
    {
     "name": "stdout",
     "output_type": "stream",
     "text": [
      "Train Accuracy: 0.6938, Val Accuracy: 0.5909, Test Accuracy: 0.5280\n",
      "Train loss: 1.0448\n",
      "\n",
      " Epoch 137 training:\n"
     ]
    },
    {
     "name": "stderr",
     "output_type": "stream",
     "text": [
      "100%|██████████| 711/711 [00:04<00:00, 167.47it/s]\n"
     ]
    },
    {
     "name": "stdout",
     "output_type": "stream",
     "text": [
      "Train Accuracy: 0.6898, Val Accuracy: 0.5822, Test Accuracy: 0.5164\n",
      "Train loss: 1.0455\n",
      "\n",
      " Epoch 138 training:\n"
     ]
    },
    {
     "name": "stderr",
     "output_type": "stream",
     "text": [
      "100%|██████████| 711/711 [00:04<00:00, 164.24it/s]\n"
     ]
    },
    {
     "name": "stdout",
     "output_type": "stream",
     "text": [
      "Train Accuracy: 0.6883, Val Accuracy: 0.5810, Test Accuracy: 0.5160\n",
      "Train loss: 1.0411\n",
      "\n",
      " Epoch 139 training:\n"
     ]
    },
    {
     "name": "stderr",
     "output_type": "stream",
     "text": [
      "100%|██████████| 711/711 [00:04<00:00, 156.19it/s]\n"
     ]
    },
    {
     "name": "stdout",
     "output_type": "stream",
     "text": [
      "Train Accuracy: 0.6947, Val Accuracy: 0.5835, Test Accuracy: 0.5252\n",
      "Train loss: 1.0443\n",
      "\n",
      " Epoch 140 training:\n"
     ]
    },
    {
     "name": "stderr",
     "output_type": "stream",
     "text": [
      "100%|██████████| 711/711 [00:04<00:00, 162.60it/s]\n"
     ]
    },
    {
     "name": "stdout",
     "output_type": "stream",
     "text": [
      "Train Accuracy: 0.6990, Val Accuracy: 0.5947, Test Accuracy: 0.5339\n",
      "Train loss: 1.0401\n",
      "\n",
      " Epoch 141 training:\n"
     ]
    },
    {
     "name": "stderr",
     "output_type": "stream",
     "text": [
      "100%|██████████| 711/711 [00:04<00:00, 155.90it/s]\n"
     ]
    },
    {
     "name": "stdout",
     "output_type": "stream",
     "text": [
      "Train Accuracy: 0.6951, Val Accuracy: 0.5908, Test Accuracy: 0.5243\n",
      "Train loss: 1.0416\n",
      "\n",
      " Epoch 142 training:\n"
     ]
    },
    {
     "name": "stderr",
     "output_type": "stream",
     "text": [
      "100%|██████████| 711/711 [00:04<00:00, 163.96it/s]\n"
     ]
    },
    {
     "name": "stdout",
     "output_type": "stream",
     "text": [
      "Train Accuracy: 0.6956, Val Accuracy: 0.5961, Test Accuracy: 0.5375\n",
      "Train loss: 1.0420\n",
      "\n",
      " Epoch 143 training:\n"
     ]
    },
    {
     "name": "stderr",
     "output_type": "stream",
     "text": [
      "100%|██████████| 711/711 [00:04<00:00, 158.36it/s]\n"
     ]
    },
    {
     "name": "stdout",
     "output_type": "stream",
     "text": [
      "Train Accuracy: 0.6963, Val Accuracy: 0.5860, Test Accuracy: 0.5260\n",
      "Train loss: 1.0440\n",
      "\n",
      " Epoch 144 training:\n"
     ]
    },
    {
     "name": "stderr",
     "output_type": "stream",
     "text": [
      "100%|██████████| 711/711 [00:04<00:00, 161.25it/s]\n"
     ]
    },
    {
     "name": "stdout",
     "output_type": "stream",
     "text": [
      "Train Accuracy: 0.6933, Val Accuracy: 0.5930, Test Accuracy: 0.5381\n",
      "Train loss: 1.0416\n",
      "\n",
      " Epoch 145 training:\n"
     ]
    },
    {
     "name": "stderr",
     "output_type": "stream",
     "text": [
      "100%|██████████| 711/711 [00:04<00:00, 173.58it/s]\n"
     ]
    },
    {
     "name": "stdout",
     "output_type": "stream",
     "text": [
      "Train Accuracy: 0.6953, Val Accuracy: 0.5890, Test Accuracy: 0.5234\n",
      "Train loss: 1.0369\n",
      "\n",
      " Epoch 146 training:\n"
     ]
    },
    {
     "name": "stderr",
     "output_type": "stream",
     "text": [
      "100%|██████████| 711/711 [00:04<00:00, 161.78it/s]\n"
     ]
    },
    {
     "name": "stdout",
     "output_type": "stream",
     "text": [
      "Train Accuracy: 0.6958, Val Accuracy: 0.5877, Test Accuracy: 0.5249\n",
      "Train loss: 1.0375\n",
      "\n",
      " Epoch 147 training:\n"
     ]
    },
    {
     "name": "stderr",
     "output_type": "stream",
     "text": [
      "100%|██████████| 711/711 [00:04<00:00, 156.27it/s]\n"
     ]
    },
    {
     "name": "stdout",
     "output_type": "stream",
     "text": [
      "Train Accuracy: 0.6943, Val Accuracy: 0.5900, Test Accuracy: 0.5227\n",
      "Train loss: 1.0406\n",
      "\n",
      " Epoch 148 training:\n"
     ]
    },
    {
     "name": "stderr",
     "output_type": "stream",
     "text": [
      "100%|██████████| 711/711 [00:04<00:00, 161.69it/s]\n"
     ]
    },
    {
     "name": "stdout",
     "output_type": "stream",
     "text": [
      "Train Accuracy: 0.6953, Val Accuracy: 0.5916, Test Accuracy: 0.5304\n",
      "Train loss: 1.0384\n",
      "\n",
      " Epoch 149 training:\n"
     ]
    },
    {
     "name": "stderr",
     "output_type": "stream",
     "text": [
      "100%|██████████| 711/711 [00:04<00:00, 161.12it/s]\n"
     ]
    },
    {
     "name": "stdout",
     "output_type": "stream",
     "text": [
      "Train Accuracy: 0.6950, Val Accuracy: 0.5939, Test Accuracy: 0.5299\n",
      "Train loss: 1.0376\n",
      "\n",
      " Epoch 150 training:\n"
     ]
    },
    {
     "name": "stderr",
     "output_type": "stream",
     "text": [
      "100%|██████████| 711/711 [00:04<00:00, 157.61it/s]\n"
     ]
    },
    {
     "name": "stdout",
     "output_type": "stream",
     "text": [
      "Train Accuracy: 0.6959, Val Accuracy: 0.5867, Test Accuracy: 0.5260\n",
      "Train loss: 1.0448\n",
      "\n",
      " Epoch 151 training:\n"
     ]
    },
    {
     "name": "stderr",
     "output_type": "stream",
     "text": [
      "100%|██████████| 711/711 [00:04<00:00, 150.19it/s]\n"
     ]
    },
    {
     "name": "stdout",
     "output_type": "stream",
     "text": [
      "Train Accuracy: 0.6967, Val Accuracy: 0.5873, Test Accuracy: 0.5270\n",
      "Train loss: 1.0399\n",
      "\n",
      " Epoch 152 training:\n"
     ]
    },
    {
     "name": "stderr",
     "output_type": "stream",
     "text": [
      "100%|██████████| 711/711 [00:04<00:00, 166.02it/s]\n"
     ]
    },
    {
     "name": "stdout",
     "output_type": "stream",
     "text": [
      "Train Accuracy: 0.6957, Val Accuracy: 0.5895, Test Accuracy: 0.5282\n",
      "Train loss: 1.0392\n",
      "\n",
      " Epoch 153 training:\n"
     ]
    },
    {
     "name": "stderr",
     "output_type": "stream",
     "text": [
      "100%|██████████| 711/711 [00:04<00:00, 169.72it/s]\n"
     ]
    },
    {
     "name": "stdout",
     "output_type": "stream",
     "text": [
      "Train Accuracy: 0.6949, Val Accuracy: 0.5864, Test Accuracy: 0.5180\n",
      "Train loss: 1.0382\n",
      "\n",
      " Epoch 154 training:\n"
     ]
    },
    {
     "name": "stderr",
     "output_type": "stream",
     "text": [
      "100%|██████████| 711/711 [00:04<00:00, 160.31it/s]\n"
     ]
    },
    {
     "name": "stdout",
     "output_type": "stream",
     "text": [
      "Train Accuracy: 0.6961, Val Accuracy: 0.5855, Test Accuracy: 0.5156\n",
      "Train loss: 1.0390\n",
      "\n",
      " Epoch 155 training:\n"
     ]
    },
    {
     "name": "stderr",
     "output_type": "stream",
     "text": [
      "100%|██████████| 711/711 [00:04<00:00, 158.09it/s]\n"
     ]
    },
    {
     "name": "stdout",
     "output_type": "stream",
     "text": [
      "Train Accuracy: 0.6940, Val Accuracy: 0.5895, Test Accuracy: 0.5284\n",
      "Train loss: 1.0392\n",
      "\n",
      " Epoch 156 training:\n"
     ]
    },
    {
     "name": "stderr",
     "output_type": "stream",
     "text": [
      "100%|██████████| 711/711 [00:04<00:00, 160.36it/s]\n"
     ]
    },
    {
     "name": "stdout",
     "output_type": "stream",
     "text": [
      "Train Accuracy: 0.6890, Val Accuracy: 0.5901, Test Accuracy: 0.5364\n",
      "Train loss: 1.0420\n",
      "\n",
      " Epoch 157 training:\n"
     ]
    },
    {
     "name": "stderr",
     "output_type": "stream",
     "text": [
      "100%|██████████| 711/711 [00:04<00:00, 165.76it/s]\n"
     ]
    },
    {
     "name": "stdout",
     "output_type": "stream",
     "text": [
      "Train Accuracy: 0.6957, Val Accuracy: 0.5903, Test Accuracy: 0.5305\n",
      "Train loss: 1.0383\n",
      "\n",
      " Epoch 158 training:\n"
     ]
    },
    {
     "name": "stderr",
     "output_type": "stream",
     "text": [
      "100%|██████████| 711/711 [00:04<00:00, 161.31it/s]\n"
     ]
    },
    {
     "name": "stdout",
     "output_type": "stream",
     "text": [
      "Train Accuracy: 0.6953, Val Accuracy: 0.5875, Test Accuracy: 0.5244\n",
      "Train loss: 1.0352\n",
      "\n",
      " Epoch 159 training:\n"
     ]
    },
    {
     "name": "stderr",
     "output_type": "stream",
     "text": [
      "100%|██████████| 711/711 [00:04<00:00, 155.03it/s]\n"
     ]
    },
    {
     "name": "stdout",
     "output_type": "stream",
     "text": [
      "Train Accuracy: 0.6993, Val Accuracy: 0.5879, Test Accuracy: 0.5249\n",
      "Train loss: 1.0395\n",
      "\n",
      " Epoch 160 training:\n"
     ]
    },
    {
     "name": "stderr",
     "output_type": "stream",
     "text": [
      "100%|██████████| 711/711 [00:04<00:00, 166.29it/s]\n"
     ]
    },
    {
     "name": "stdout",
     "output_type": "stream",
     "text": [
      "Train Accuracy: 0.6980, Val Accuracy: 0.5921, Test Accuracy: 0.5266\n",
      "Train loss: 1.0361\n",
      "\n",
      " Epoch 161 training:\n"
     ]
    },
    {
     "name": "stderr",
     "output_type": "stream",
     "text": [
      "100%|██████████| 711/711 [00:04<00:00, 162.81it/s]\n"
     ]
    },
    {
     "name": "stdout",
     "output_type": "stream",
     "text": [
      "Train Accuracy: 0.6990, Val Accuracy: 0.5918, Test Accuracy: 0.5246\n",
      "Train loss: 1.0373\n",
      "\n",
      " Epoch 162 training:\n"
     ]
    },
    {
     "name": "stderr",
     "output_type": "stream",
     "text": [
      "100%|██████████| 711/711 [00:04<00:00, 165.29it/s]\n"
     ]
    },
    {
     "name": "stdout",
     "output_type": "stream",
     "text": [
      "Train Accuracy: 0.6912, Val Accuracy: 0.5896, Test Accuracy: 0.5337\n",
      "Train loss: 1.0346\n",
      "\n",
      " Epoch 163 training:\n"
     ]
    },
    {
     "name": "stderr",
     "output_type": "stream",
     "text": [
      "100%|██████████| 711/711 [00:03<00:00, 180.90it/s]\n"
     ]
    },
    {
     "name": "stdout",
     "output_type": "stream",
     "text": [
      "Train Accuracy: 0.6939, Val Accuracy: 0.5867, Test Accuracy: 0.5303\n",
      "Train loss: 1.0358\n",
      "\n",
      " Epoch 164 training:\n"
     ]
    },
    {
     "name": "stderr",
     "output_type": "stream",
     "text": [
      "100%|██████████| 711/711 [00:04<00:00, 169.94it/s]\n"
     ]
    },
    {
     "name": "stdout",
     "output_type": "stream",
     "text": [
      "Train Accuracy: 0.6947, Val Accuracy: 0.5820, Test Accuracy: 0.5200\n",
      "Train loss: 1.0380\n",
      "\n",
      " Epoch 165 training:\n"
     ]
    },
    {
     "name": "stderr",
     "output_type": "stream",
     "text": [
      "100%|██████████| 711/711 [00:03<00:00, 180.30it/s]\n"
     ]
    },
    {
     "name": "stdout",
     "output_type": "stream",
     "text": [
      "Train Accuracy: 0.6998, Val Accuracy: 0.5898, Test Accuracy: 0.5307\n",
      "Train loss: 1.0321\n",
      "\n",
      " Epoch 166 training:\n"
     ]
    },
    {
     "name": "stderr",
     "output_type": "stream",
     "text": [
      "100%|██████████| 711/711 [00:04<00:00, 157.23it/s]\n"
     ]
    },
    {
     "name": "stdout",
     "output_type": "stream",
     "text": [
      "Train Accuracy: 0.6969, Val Accuracy: 0.5855, Test Accuracy: 0.5309\n",
      "Train loss: 1.0372\n",
      "\n",
      " Epoch 167 training:\n"
     ]
    },
    {
     "name": "stderr",
     "output_type": "stream",
     "text": [
      "100%|██████████| 711/711 [00:04<00:00, 175.63it/s]\n"
     ]
    },
    {
     "name": "stdout",
     "output_type": "stream",
     "text": [
      "Train Accuracy: 0.6943, Val Accuracy: 0.5870, Test Accuracy: 0.5243\n",
      "Train loss: 1.0324\n",
      "\n",
      " Epoch 168 training:\n"
     ]
    },
    {
     "name": "stderr",
     "output_type": "stream",
     "text": [
      "100%|██████████| 711/711 [00:04<00:00, 160.94it/s]\n"
     ]
    },
    {
     "name": "stdout",
     "output_type": "stream",
     "text": [
      "Train Accuracy: 0.6961, Val Accuracy: 0.5822, Test Accuracy: 0.5225\n",
      "Train loss: 1.0340\n",
      "\n",
      " Epoch 169 training:\n"
     ]
    },
    {
     "name": "stderr",
     "output_type": "stream",
     "text": [
      "100%|██████████| 711/711 [00:04<00:00, 169.28it/s]\n"
     ]
    },
    {
     "name": "stdout",
     "output_type": "stream",
     "text": [
      "Train Accuracy: 0.6947, Val Accuracy: 0.5877, Test Accuracy: 0.5232\n",
      "Train loss: 1.0332\n",
      "\n",
      " Epoch 170 training:\n"
     ]
    },
    {
     "name": "stderr",
     "output_type": "stream",
     "text": [
      "100%|██████████| 711/711 [00:04<00:00, 164.45it/s]\n"
     ]
    },
    {
     "name": "stdout",
     "output_type": "stream",
     "text": [
      "Train Accuracy: 0.6990, Val Accuracy: 0.5898, Test Accuracy: 0.5374\n",
      "Train loss: 1.0301\n",
      "\n",
      " Epoch 171 training:\n"
     ]
    },
    {
     "name": "stderr",
     "output_type": "stream",
     "text": [
      "100%|██████████| 711/711 [00:04<00:00, 170.80it/s]\n"
     ]
    },
    {
     "name": "stdout",
     "output_type": "stream",
     "text": [
      "Train Accuracy: 0.6938, Val Accuracy: 0.5887, Test Accuracy: 0.5310\n",
      "Train loss: 1.0397\n",
      "\n",
      " Epoch 172 training:\n"
     ]
    },
    {
     "name": "stderr",
     "output_type": "stream",
     "text": [
      "100%|██████████| 711/711 [00:04<00:00, 156.58it/s]\n"
     ]
    },
    {
     "name": "stdout",
     "output_type": "stream",
     "text": [
      "Train Accuracy: 0.6942, Val Accuracy: 0.5862, Test Accuracy: 0.5226\n",
      "Train loss: 1.0368\n",
      "\n",
      " Epoch 173 training:\n"
     ]
    },
    {
     "name": "stderr",
     "output_type": "stream",
     "text": [
      "100%|██████████| 711/711 [00:04<00:00, 170.75it/s]\n"
     ]
    },
    {
     "name": "stdout",
     "output_type": "stream",
     "text": [
      "Train Accuracy: 0.6938, Val Accuracy: 0.5770, Test Accuracy: 0.5139\n",
      "Train loss: 1.0318\n",
      "\n",
      " Epoch 174 training:\n"
     ]
    },
    {
     "name": "stderr",
     "output_type": "stream",
     "text": [
      "100%|██████████| 711/711 [00:04<00:00, 171.43it/s]\n"
     ]
    },
    {
     "name": "stdout",
     "output_type": "stream",
     "text": [
      "Train Accuracy: 0.6968, Val Accuracy: 0.5846, Test Accuracy: 0.5188\n",
      "Train loss: 1.0305\n",
      "\n",
      " Epoch 175 training:\n"
     ]
    },
    {
     "name": "stderr",
     "output_type": "stream",
     "text": [
      "100%|██████████| 711/711 [00:04<00:00, 162.95it/s]\n"
     ]
    },
    {
     "name": "stdout",
     "output_type": "stream",
     "text": [
      "Train Accuracy: 0.6957, Val Accuracy: 0.5957, Test Accuracy: 0.5344\n",
      "Train loss: 1.0313\n",
      "\n",
      " Epoch 176 training:\n"
     ]
    },
    {
     "name": "stderr",
     "output_type": "stream",
     "text": [
      "100%|██████████| 711/711 [00:04<00:00, 149.81it/s]\n"
     ]
    },
    {
     "name": "stdout",
     "output_type": "stream",
     "text": [
      "Train Accuracy: 0.6951, Val Accuracy: 0.5903, Test Accuracy: 0.5268\n",
      "Train loss: 1.0353\n",
      "\n",
      " Epoch 177 training:\n"
     ]
    },
    {
     "name": "stderr",
     "output_type": "stream",
     "text": [
      "100%|██████████| 711/711 [00:04<00:00, 169.40it/s]\n"
     ]
    },
    {
     "name": "stdout",
     "output_type": "stream",
     "text": [
      "Train Accuracy: 0.6999, Val Accuracy: 0.5932, Test Accuracy: 0.5336\n",
      "Train loss: 1.0314\n",
      "\n",
      " Epoch 178 training:\n"
     ]
    },
    {
     "name": "stderr",
     "output_type": "stream",
     "text": [
      "100%|██████████| 711/711 [00:04<00:00, 166.02it/s]\n"
     ]
    },
    {
     "name": "stdout",
     "output_type": "stream",
     "text": [
      "Train Accuracy: 0.6909, Val Accuracy: 0.5836, Test Accuracy: 0.5183\n",
      "Train loss: 1.0309\n",
      "\n",
      " Epoch 179 training:\n"
     ]
    },
    {
     "name": "stderr",
     "output_type": "stream",
     "text": [
      "100%|██████████| 711/711 [00:04<00:00, 157.01it/s]\n"
     ]
    },
    {
     "name": "stdout",
     "output_type": "stream",
     "text": [
      "Train Accuracy: 0.6974, Val Accuracy: 0.5865, Test Accuracy: 0.5260\n",
      "Train loss: 1.0318\n",
      "\n",
      " Epoch 180 training:\n"
     ]
    },
    {
     "name": "stderr",
     "output_type": "stream",
     "text": [
      "100%|██████████| 711/711 [00:04<00:00, 158.41it/s]\n"
     ]
    },
    {
     "name": "stdout",
     "output_type": "stream",
     "text": [
      "Train Accuracy: 0.6935, Val Accuracy: 0.5897, Test Accuracy: 0.5312\n",
      "Train loss: 1.0292\n",
      "\n",
      " Epoch 181 training:\n"
     ]
    },
    {
     "name": "stderr",
     "output_type": "stream",
     "text": [
      "100%|██████████| 711/711 [00:04<00:00, 158.26it/s]\n"
     ]
    },
    {
     "name": "stdout",
     "output_type": "stream",
     "text": [
      "Train Accuracy: 0.6965, Val Accuracy: 0.5834, Test Accuracy: 0.5158\n",
      "Train loss: 1.0292\n",
      "\n",
      " Epoch 182 training:\n"
     ]
    },
    {
     "name": "stderr",
     "output_type": "stream",
     "text": [
      "100%|██████████| 711/711 [00:04<00:00, 165.12it/s]\n"
     ]
    },
    {
     "name": "stdout",
     "output_type": "stream",
     "text": [
      "Train Accuracy: 0.6980, Val Accuracy: 0.5887, Test Accuracy: 0.5375\n",
      "Train loss: 1.0309\n",
      "\n",
      " Epoch 183 training:\n"
     ]
    },
    {
     "name": "stderr",
     "output_type": "stream",
     "text": [
      "100%|██████████| 711/711 [00:04<00:00, 159.04it/s]\n"
     ]
    },
    {
     "name": "stdout",
     "output_type": "stream",
     "text": [
      "Train Accuracy: 0.6972, Val Accuracy: 0.5857, Test Accuracy: 0.5240\n",
      "Train loss: 1.0320\n",
      "\n",
      " Epoch 184 training:\n"
     ]
    },
    {
     "name": "stderr",
     "output_type": "stream",
     "text": [
      "100%|██████████| 711/711 [00:04<00:00, 161.44it/s]\n"
     ]
    },
    {
     "name": "stdout",
     "output_type": "stream",
     "text": [
      "Train Accuracy: 0.7011, Val Accuracy: 0.5861, Test Accuracy: 0.5249\n",
      "Train loss: 1.0312\n",
      "\n",
      " Epoch 185 training:\n"
     ]
    },
    {
     "name": "stderr",
     "output_type": "stream",
     "text": [
      "100%|██████████| 711/711 [00:04<00:00, 166.47it/s]\n"
     ]
    },
    {
     "name": "stdout",
     "output_type": "stream",
     "text": [
      "Train Accuracy: 0.6916, Val Accuracy: 0.5854, Test Accuracy: 0.5266\n",
      "Train loss: 1.0309\n",
      "\n",
      " Epoch 186 training:\n"
     ]
    },
    {
     "name": "stderr",
     "output_type": "stream",
     "text": [
      "100%|██████████| 711/711 [00:04<00:00, 162.31it/s]\n"
     ]
    },
    {
     "name": "stdout",
     "output_type": "stream",
     "text": [
      "Train Accuracy: 0.6970, Val Accuracy: 0.5985, Test Accuracy: 0.5409\n",
      "Train loss: 1.0259\n",
      "\n",
      " Epoch 187 training:\n"
     ]
    },
    {
     "name": "stderr",
     "output_type": "stream",
     "text": [
      "100%|██████████| 711/711 [00:04<00:00, 162.52it/s]\n"
     ]
    },
    {
     "name": "stdout",
     "output_type": "stream",
     "text": [
      "Train Accuracy: 0.6976, Val Accuracy: 0.5856, Test Accuracy: 0.5221\n",
      "Train loss: 1.0293\n",
      "\n",
      " Epoch 188 training:\n"
     ]
    },
    {
     "name": "stderr",
     "output_type": "stream",
     "text": [
      "100%|██████████| 711/711 [00:04<00:00, 163.63it/s]\n"
     ]
    },
    {
     "name": "stdout",
     "output_type": "stream",
     "text": [
      "Train Accuracy: 0.6928, Val Accuracy: 0.5834, Test Accuracy: 0.5163\n",
      "Train loss: 1.0293\n",
      "\n",
      " Epoch 189 training:\n"
     ]
    },
    {
     "name": "stderr",
     "output_type": "stream",
     "text": [
      "100%|██████████| 711/711 [00:04<00:00, 171.51it/s]\n"
     ]
    },
    {
     "name": "stdout",
     "output_type": "stream",
     "text": [
      "Train Accuracy: 0.6980, Val Accuracy: 0.5849, Test Accuracy: 0.5269\n",
      "Train loss: 1.0287\n",
      "\n",
      " Epoch 190 training:\n"
     ]
    },
    {
     "name": "stderr",
     "output_type": "stream",
     "text": [
      "100%|██████████| 711/711 [00:04<00:00, 167.36it/s]\n"
     ]
    },
    {
     "name": "stdout",
     "output_type": "stream",
     "text": [
      "Train Accuracy: 0.6999, Val Accuracy: 0.5879, Test Accuracy: 0.5224\n",
      "Train loss: 1.0296\n",
      "\n",
      " Epoch 191 training:\n"
     ]
    },
    {
     "name": "stderr",
     "output_type": "stream",
     "text": [
      "100%|██████████| 711/711 [00:04<00:00, 168.10it/s]\n"
     ]
    },
    {
     "name": "stdout",
     "output_type": "stream",
     "text": [
      "Train Accuracy: 0.6992, Val Accuracy: 0.5881, Test Accuracy: 0.5252\n",
      "Train loss: 1.0294\n",
      "\n",
      " Epoch 192 training:\n"
     ]
    },
    {
     "name": "stderr",
     "output_type": "stream",
     "text": [
      "100%|██████████| 711/711 [00:04<00:00, 171.19it/s]\n"
     ]
    },
    {
     "name": "stdout",
     "output_type": "stream",
     "text": [
      "Train Accuracy: 0.6937, Val Accuracy: 0.5912, Test Accuracy: 0.5285\n",
      "Train loss: 1.0268\n",
      "\n",
      " Epoch 193 training:\n"
     ]
    },
    {
     "name": "stderr",
     "output_type": "stream",
     "text": [
      "100%|██████████| 711/711 [00:04<00:00, 164.53it/s]\n"
     ]
    },
    {
     "name": "stdout",
     "output_type": "stream",
     "text": [
      "Train Accuracy: 0.6974, Val Accuracy: 0.5895, Test Accuracy: 0.5299\n",
      "Train loss: 1.0272\n",
      "\n",
      " Epoch 194 training:\n"
     ]
    },
    {
     "name": "stderr",
     "output_type": "stream",
     "text": [
      "100%|██████████| 711/711 [00:04<00:00, 164.25it/s]\n"
     ]
    },
    {
     "name": "stdout",
     "output_type": "stream",
     "text": [
      "Train Accuracy: 0.6995, Val Accuracy: 0.5891, Test Accuracy: 0.5215\n",
      "Train loss: 1.0283\n",
      "\n",
      " Epoch 195 training:\n"
     ]
    },
    {
     "name": "stderr",
     "output_type": "stream",
     "text": [
      "100%|██████████| 711/711 [00:04<00:00, 173.41it/s]\n"
     ]
    },
    {
     "name": "stdout",
     "output_type": "stream",
     "text": [
      "Train Accuracy: 0.6965, Val Accuracy: 0.5799, Test Accuracy: 0.5112\n",
      "Train loss: 1.0264\n",
      "\n",
      " Epoch 196 training:\n"
     ]
    },
    {
     "name": "stderr",
     "output_type": "stream",
     "text": [
      "100%|██████████| 711/711 [00:04<00:00, 173.77it/s]\n"
     ]
    },
    {
     "name": "stdout",
     "output_type": "stream",
     "text": [
      "Train Accuracy: 0.6962, Val Accuracy: 0.5822, Test Accuracy: 0.5151\n",
      "Train loss: 1.0312\n",
      "\n",
      " Epoch 197 training:\n"
     ]
    },
    {
     "name": "stderr",
     "output_type": "stream",
     "text": [
      "100%|██████████| 711/711 [00:04<00:00, 175.12it/s]\n"
     ]
    },
    {
     "name": "stdout",
     "output_type": "stream",
     "text": [
      "Train Accuracy: 0.7006, Val Accuracy: 0.5907, Test Accuracy: 0.5320\n",
      "Train loss: 1.0241\n",
      "\n",
      " Epoch 198 training:\n"
     ]
    },
    {
     "name": "stderr",
     "output_type": "stream",
     "text": [
      "100%|██████████| 711/711 [00:04<00:00, 168.75it/s]\n"
     ]
    },
    {
     "name": "stdout",
     "output_type": "stream",
     "text": [
      "Train Accuracy: 0.6980, Val Accuracy: 0.5834, Test Accuracy: 0.5160\n",
      "Train loss: 1.0249\n",
      "\n",
      " Epoch 199 training:\n"
     ]
    },
    {
     "name": "stderr",
     "output_type": "stream",
     "text": [
      "100%|██████████| 711/711 [00:04<00:00, 174.47it/s]\n"
     ]
    },
    {
     "name": "stdout",
     "output_type": "stream",
     "text": [
      "Train Accuracy: 0.7005, Val Accuracy: 0.5823, Test Accuracy: 0.5145\n",
      "Train loss: 1.0254\n",
      "\n",
      " Epoch 200 training:\n"
     ]
    },
    {
     "name": "stderr",
     "output_type": "stream",
     "text": [
      "100%|██████████| 711/711 [00:04<00:00, 162.91it/s]\n"
     ]
    },
    {
     "name": "stdout",
     "output_type": "stream",
     "text": [
      "Train Accuracy: 0.6973, Val Accuracy: 0.5808, Test Accuracy: 0.5146\n",
      "Train loss: 1.0251\n",
      "\n",
      " Epoch 201 training:\n"
     ]
    },
    {
     "name": "stderr",
     "output_type": "stream",
     "text": [
      "100%|██████████| 711/711 [00:04<00:00, 155.43it/s]\n"
     ]
    },
    {
     "name": "stdout",
     "output_type": "stream",
     "text": [
      "Train Accuracy: 0.7006, Val Accuracy: 0.5849, Test Accuracy: 0.5253\n",
      "Train loss: 1.0263\n",
      "\n",
      " Epoch 202 training:\n"
     ]
    },
    {
     "name": "stderr",
     "output_type": "stream",
     "text": [
      "100%|██████████| 711/711 [00:04<00:00, 158.72it/s]\n"
     ]
    },
    {
     "name": "stdout",
     "output_type": "stream",
     "text": [
      "Train Accuracy: 0.6967, Val Accuracy: 0.5916, Test Accuracy: 0.5298\n",
      "Train loss: 1.0246\n",
      "\n",
      " Epoch 203 training:\n"
     ]
    },
    {
     "name": "stderr",
     "output_type": "stream",
     "text": [
      "100%|██████████| 711/711 [00:04<00:00, 171.10it/s]\n"
     ]
    },
    {
     "name": "stdout",
     "output_type": "stream",
     "text": [
      "Train Accuracy: 0.6991, Val Accuracy: 0.5885, Test Accuracy: 0.5261\n",
      "Train loss: 1.0259\n",
      "\n",
      " Epoch 204 training:\n"
     ]
    },
    {
     "name": "stderr",
     "output_type": "stream",
     "text": [
      "100%|██████████| 711/711 [00:04<00:00, 168.86it/s]\n"
     ]
    },
    {
     "name": "stdout",
     "output_type": "stream",
     "text": [
      "Train Accuracy: 0.7009, Val Accuracy: 0.5881, Test Accuracy: 0.5208\n",
      "Train loss: 1.0267\n",
      "\n",
      " Epoch 205 training:\n"
     ]
    },
    {
     "name": "stderr",
     "output_type": "stream",
     "text": [
      "100%|██████████| 711/711 [00:04<00:00, 176.36it/s]\n"
     ]
    },
    {
     "name": "stdout",
     "output_type": "stream",
     "text": [
      "Train Accuracy: 0.6956, Val Accuracy: 0.5900, Test Accuracy: 0.5277\n",
      "Train loss: 1.0244\n",
      "\n",
      " Epoch 206 training:\n"
     ]
    },
    {
     "name": "stderr",
     "output_type": "stream",
     "text": [
      "100%|██████████| 711/711 [00:04<00:00, 164.35it/s]\n"
     ]
    },
    {
     "name": "stdout",
     "output_type": "stream",
     "text": [
      "Train Accuracy: 0.6965, Val Accuracy: 0.5875, Test Accuracy: 0.5240\n",
      "Train loss: 1.0244\n",
      "\n",
      " Epoch 207 training:\n"
     ]
    },
    {
     "name": "stderr",
     "output_type": "stream",
     "text": [
      "100%|██████████| 711/711 [00:04<00:00, 165.21it/s]\n"
     ]
    },
    {
     "name": "stdout",
     "output_type": "stream",
     "text": [
      "Train Accuracy: 0.7004, Val Accuracy: 0.5899, Test Accuracy: 0.5261\n",
      "Train loss: 1.0217\n",
      "\n",
      " Epoch 208 training:\n"
     ]
    },
    {
     "name": "stderr",
     "output_type": "stream",
     "text": [
      "100%|██████████| 711/711 [00:04<00:00, 166.72it/s]\n"
     ]
    },
    {
     "name": "stdout",
     "output_type": "stream",
     "text": [
      "Train Accuracy: 0.6984, Val Accuracy: 0.5828, Test Accuracy: 0.5153\n",
      "Train loss: 1.0243\n",
      "\n",
      " Epoch 209 training:\n"
     ]
    },
    {
     "name": "stderr",
     "output_type": "stream",
     "text": [
      "100%|██████████| 711/711 [00:04<00:00, 168.02it/s]\n"
     ]
    },
    {
     "name": "stdout",
     "output_type": "stream",
     "text": [
      "Train Accuracy: 0.7003, Val Accuracy: 0.5817, Test Accuracy: 0.5201\n",
      "Train loss: 1.0216\n",
      "\n",
      " Epoch 210 training:\n"
     ]
    },
    {
     "name": "stderr",
     "output_type": "stream",
     "text": [
      "100%|██████████| 711/711 [00:04<00:00, 160.07it/s]\n"
     ]
    },
    {
     "name": "stdout",
     "output_type": "stream",
     "text": [
      "Train Accuracy: 0.7019, Val Accuracy: 0.5905, Test Accuracy: 0.5287\n",
      "Train loss: 1.0246\n",
      "\n",
      " Epoch 211 training:\n"
     ]
    },
    {
     "name": "stderr",
     "output_type": "stream",
     "text": [
      "100%|██████████| 711/711 [00:04<00:00, 162.85it/s]\n"
     ]
    },
    {
     "name": "stdout",
     "output_type": "stream",
     "text": [
      "Train Accuracy: 0.6933, Val Accuracy: 0.5882, Test Accuracy: 0.5288\n",
      "Train loss: 1.0190\n",
      "\n",
      " Epoch 212 training:\n"
     ]
    },
    {
     "name": "stderr",
     "output_type": "stream",
     "text": [
      "100%|██████████| 711/711 [00:04<00:00, 167.21it/s]\n"
     ]
    },
    {
     "name": "stdout",
     "output_type": "stream",
     "text": [
      "Train Accuracy: 0.7016, Val Accuracy: 0.5819, Test Accuracy: 0.5207\n",
      "Train loss: 1.0250\n",
      "\n",
      " Epoch 213 training:\n"
     ]
    },
    {
     "name": "stderr",
     "output_type": "stream",
     "text": [
      "100%|██████████| 711/711 [00:04<00:00, 157.88it/s]\n"
     ]
    },
    {
     "name": "stdout",
     "output_type": "stream",
     "text": [
      "Train Accuracy: 0.7017, Val Accuracy: 0.5931, Test Accuracy: 0.5311\n",
      "Train loss: 1.0206\n",
      "\n",
      " Epoch 214 training:\n"
     ]
    },
    {
     "name": "stderr",
     "output_type": "stream",
     "text": [
      "100%|██████████| 711/711 [00:04<00:00, 161.84it/s]\n"
     ]
    },
    {
     "name": "stdout",
     "output_type": "stream",
     "text": [
      "Train Accuracy: 0.6988, Val Accuracy: 0.5909, Test Accuracy: 0.5314\n",
      "Train loss: 1.0261\n",
      "\n",
      " Epoch 215 training:\n"
     ]
    },
    {
     "name": "stderr",
     "output_type": "stream",
     "text": [
      "100%|██████████| 711/711 [00:04<00:00, 164.26it/s]\n"
     ]
    },
    {
     "name": "stdout",
     "output_type": "stream",
     "text": [
      "Train Accuracy: 0.6967, Val Accuracy: 0.5876, Test Accuracy: 0.5281\n",
      "Train loss: 1.0241\n",
      "\n",
      " Epoch 216 training:\n"
     ]
    },
    {
     "name": "stderr",
     "output_type": "stream",
     "text": [
      "100%|██████████| 711/711 [00:04<00:00, 169.45it/s]\n"
     ]
    },
    {
     "name": "stdout",
     "output_type": "stream",
     "text": [
      "Train Accuracy: 0.7014, Val Accuracy: 0.5865, Test Accuracy: 0.5236\n",
      "Train loss: 1.0218\n",
      "\n",
      " Epoch 217 training:\n"
     ]
    },
    {
     "name": "stderr",
     "output_type": "stream",
     "text": [
      "100%|██████████| 711/711 [00:04<00:00, 170.73it/s]\n"
     ]
    },
    {
     "name": "stdout",
     "output_type": "stream",
     "text": [
      "Train Accuracy: 0.6977, Val Accuracy: 0.5906, Test Accuracy: 0.5319\n",
      "Train loss: 1.0229\n",
      "\n",
      " Epoch 218 training:\n"
     ]
    },
    {
     "name": "stderr",
     "output_type": "stream",
     "text": [
      "100%|██████████| 711/711 [00:04<00:00, 160.89it/s]\n"
     ]
    },
    {
     "name": "stdout",
     "output_type": "stream",
     "text": [
      "Train Accuracy: 0.6979, Val Accuracy: 0.5866, Test Accuracy: 0.5248\n",
      "Train loss: 1.0199\n",
      "\n",
      " Epoch 219 training:\n"
     ]
    },
    {
     "name": "stderr",
     "output_type": "stream",
     "text": [
      "100%|██████████| 711/711 [00:04<00:00, 165.34it/s]\n"
     ]
    },
    {
     "name": "stdout",
     "output_type": "stream",
     "text": [
      "Train Accuracy: 0.7008, Val Accuracy: 0.5885, Test Accuracy: 0.5242\n",
      "Train loss: 1.0222\n",
      "\n",
      " Epoch 220 training:\n"
     ]
    },
    {
     "name": "stderr",
     "output_type": "stream",
     "text": [
      "100%|██████████| 711/711 [00:04<00:00, 161.57it/s]\n"
     ]
    },
    {
     "name": "stdout",
     "output_type": "stream",
     "text": [
      "Train Accuracy: 0.6993, Val Accuracy: 0.5824, Test Accuracy: 0.5161\n",
      "Train loss: 1.0227\n",
      "\n",
      " Epoch 221 training:\n"
     ]
    },
    {
     "name": "stderr",
     "output_type": "stream",
     "text": [
      "100%|██████████| 711/711 [00:04<00:00, 160.56it/s]\n"
     ]
    },
    {
     "name": "stdout",
     "output_type": "stream",
     "text": [
      "Train Accuracy: 0.7021, Val Accuracy: 0.5880, Test Accuracy: 0.5255\n",
      "Train loss: 1.0250\n",
      "\n",
      " Epoch 222 training:\n"
     ]
    },
    {
     "name": "stderr",
     "output_type": "stream",
     "text": [
      "100%|██████████| 711/711 [00:04<00:00, 160.20it/s]\n"
     ]
    },
    {
     "name": "stdout",
     "output_type": "stream",
     "text": [
      "Train Accuracy: 0.6978, Val Accuracy: 0.5817, Test Accuracy: 0.5216\n",
      "Train loss: 1.0209\n",
      "\n",
      " Epoch 223 training:\n"
     ]
    },
    {
     "name": "stderr",
     "output_type": "stream",
     "text": [
      "100%|██████████| 711/711 [00:03<00:00, 184.18it/s]\n"
     ]
    },
    {
     "name": "stdout",
     "output_type": "stream",
     "text": [
      "Train Accuracy: 0.7012, Val Accuracy: 0.5907, Test Accuracy: 0.5280\n",
      "Train loss: 1.0169\n",
      "\n",
      " Epoch 224 training:\n"
     ]
    },
    {
     "name": "stderr",
     "output_type": "stream",
     "text": [
      "100%|██████████| 711/711 [00:04<00:00, 165.37it/s]\n"
     ]
    },
    {
     "name": "stdout",
     "output_type": "stream",
     "text": [
      "Train Accuracy: 0.7015, Val Accuracy: 0.5865, Test Accuracy: 0.5240\n",
      "Train loss: 1.0194\n",
      "\n",
      " Epoch 225 training:\n"
     ]
    },
    {
     "name": "stderr",
     "output_type": "stream",
     "text": [
      "100%|██████████| 711/711 [00:04<00:00, 168.84it/s]\n"
     ]
    },
    {
     "name": "stdout",
     "output_type": "stream",
     "text": [
      "Train Accuracy: 0.7025, Val Accuracy: 0.5891, Test Accuracy: 0.5253\n",
      "Train loss: 1.0193\n",
      "\n",
      " Epoch 226 training:\n"
     ]
    },
    {
     "name": "stderr",
     "output_type": "stream",
     "text": [
      "100%|██████████| 711/711 [00:04<00:00, 157.04it/s]\n"
     ]
    },
    {
     "name": "stdout",
     "output_type": "stream",
     "text": [
      "Train Accuracy: 0.7026, Val Accuracy: 0.5900, Test Accuracy: 0.5281\n",
      "Train loss: 1.0199\n",
      "\n",
      " Epoch 227 training:\n"
     ]
    },
    {
     "name": "stderr",
     "output_type": "stream",
     "text": [
      "100%|██████████| 711/711 [00:04<00:00, 160.16it/s]\n"
     ]
    },
    {
     "name": "stdout",
     "output_type": "stream",
     "text": [
      "Train Accuracy: 0.7034, Val Accuracy: 0.5900, Test Accuracy: 0.5266\n",
      "Train loss: 1.0211\n",
      "\n",
      " Epoch 228 training:\n"
     ]
    },
    {
     "name": "stderr",
     "output_type": "stream",
     "text": [
      "100%|██████████| 711/711 [00:04<00:00, 162.36it/s]\n"
     ]
    },
    {
     "name": "stdout",
     "output_type": "stream",
     "text": [
      "Train Accuracy: 0.6987, Val Accuracy: 0.5835, Test Accuracy: 0.5229\n",
      "Train loss: 1.0201\n",
      "\n",
      " Epoch 229 training:\n"
     ]
    },
    {
     "name": "stderr",
     "output_type": "stream",
     "text": [
      "100%|██████████| 711/711 [00:04<00:00, 153.41it/s]\n"
     ]
    },
    {
     "name": "stdout",
     "output_type": "stream",
     "text": [
      "Train Accuracy: 0.7028, Val Accuracy: 0.5890, Test Accuracy: 0.5250\n",
      "Train loss: 1.0176\n",
      "\n",
      " Epoch 230 training:\n"
     ]
    },
    {
     "name": "stderr",
     "output_type": "stream",
     "text": [
      "100%|██████████| 711/711 [00:04<00:00, 163.03it/s]\n"
     ]
    },
    {
     "name": "stdout",
     "output_type": "stream",
     "text": [
      "Train Accuracy: 0.7008, Val Accuracy: 0.5876, Test Accuracy: 0.5235\n",
      "Train loss: 1.0197\n",
      "\n",
      " Epoch 231 training:\n"
     ]
    },
    {
     "name": "stderr",
     "output_type": "stream",
     "text": [
      "100%|██████████| 711/711 [00:04<00:00, 158.95it/s]\n"
     ]
    },
    {
     "name": "stdout",
     "output_type": "stream",
     "text": [
      "Train Accuracy: 0.6956, Val Accuracy: 0.5869, Test Accuracy: 0.5241\n",
      "Train loss: 1.0173\n",
      "\n",
      " Epoch 232 training:\n"
     ]
    },
    {
     "name": "stderr",
     "output_type": "stream",
     "text": [
      "100%|██████████| 711/711 [00:04<00:00, 174.63it/s]\n"
     ]
    },
    {
     "name": "stdout",
     "output_type": "stream",
     "text": [
      "Train Accuracy: 0.6986, Val Accuracy: 0.5821, Test Accuracy: 0.5144\n",
      "Train loss: 1.0230\n",
      "\n",
      " Epoch 233 training:\n"
     ]
    },
    {
     "name": "stderr",
     "output_type": "stream",
     "text": [
      "100%|██████████| 711/711 [00:04<00:00, 177.33it/s]\n"
     ]
    },
    {
     "name": "stdout",
     "output_type": "stream",
     "text": [
      "Train Accuracy: 0.6974, Val Accuracy: 0.5807, Test Accuracy: 0.5151\n",
      "Train loss: 1.0186\n",
      "\n",
      " Epoch 234 training:\n"
     ]
    },
    {
     "name": "stderr",
     "output_type": "stream",
     "text": [
      "100%|██████████| 711/711 [00:04<00:00, 160.35it/s]\n"
     ]
    },
    {
     "name": "stdout",
     "output_type": "stream",
     "text": [
      "Train Accuracy: 0.7024, Val Accuracy: 0.5912, Test Accuracy: 0.5247\n",
      "Train loss: 1.0178\n",
      "\n",
      " Epoch 235 training:\n"
     ]
    },
    {
     "name": "stderr",
     "output_type": "stream",
     "text": [
      "100%|██████████| 711/711 [00:04<00:00, 164.34it/s]\n"
     ]
    },
    {
     "name": "stdout",
     "output_type": "stream",
     "text": [
      "Train Accuracy: 0.6988, Val Accuracy: 0.5833, Test Accuracy: 0.5176\n",
      "Train loss: 1.0166\n",
      "\n",
      " Epoch 236 training:\n"
     ]
    },
    {
     "name": "stderr",
     "output_type": "stream",
     "text": [
      "100%|██████████| 711/711 [00:04<00:00, 162.51it/s]\n"
     ]
    },
    {
     "name": "stdout",
     "output_type": "stream",
     "text": [
      "Train Accuracy: 0.6994, Val Accuracy: 0.5912, Test Accuracy: 0.5255\n",
      "Train loss: 1.0182\n",
      "\n",
      " Epoch 237 training:\n"
     ]
    },
    {
     "name": "stderr",
     "output_type": "stream",
     "text": [
      "100%|██████████| 711/711 [00:04<00:00, 170.84it/s]\n"
     ]
    },
    {
     "name": "stdout",
     "output_type": "stream",
     "text": [
      "Train Accuracy: 0.6994, Val Accuracy: 0.5885, Test Accuracy: 0.5269\n",
      "Train loss: 1.0169\n",
      "\n",
      " Epoch 238 training:\n"
     ]
    },
    {
     "name": "stderr",
     "output_type": "stream",
     "text": [
      "100%|██████████| 711/711 [00:04<00:00, 157.88it/s]\n"
     ]
    },
    {
     "name": "stdout",
     "output_type": "stream",
     "text": [
      "Train Accuracy: 0.6998, Val Accuracy: 0.5869, Test Accuracy: 0.5215\n",
      "Train loss: 1.0174\n",
      "\n",
      " Epoch 239 training:\n"
     ]
    },
    {
     "name": "stderr",
     "output_type": "stream",
     "text": [
      "100%|██████████| 711/711 [00:04<00:00, 154.18it/s]\n"
     ]
    },
    {
     "name": "stdout",
     "output_type": "stream",
     "text": [
      "Train Accuracy: 0.7034, Val Accuracy: 0.5845, Test Accuracy: 0.5225\n",
      "Train loss: 1.0150\n",
      "\n",
      " Epoch 240 training:\n"
     ]
    },
    {
     "name": "stderr",
     "output_type": "stream",
     "text": [
      "100%|██████████| 711/711 [00:04<00:00, 162.33it/s]\n"
     ]
    },
    {
     "name": "stdout",
     "output_type": "stream",
     "text": [
      "Train Accuracy: 0.6984, Val Accuracy: 0.5854, Test Accuracy: 0.5205\n",
      "Train loss: 1.0182\n",
      "\n",
      " Epoch 241 training:\n"
     ]
    },
    {
     "name": "stderr",
     "output_type": "stream",
     "text": [
      "100%|██████████| 711/711 [00:04<00:00, 165.44it/s]\n"
     ]
    },
    {
     "name": "stdout",
     "output_type": "stream",
     "text": [
      "Train Accuracy: 0.7012, Val Accuracy: 0.5869, Test Accuracy: 0.5285\n",
      "Train loss: 1.0160\n",
      "\n",
      " Epoch 242 training:\n"
     ]
    },
    {
     "name": "stderr",
     "output_type": "stream",
     "text": [
      "100%|██████████| 711/711 [00:04<00:00, 159.74it/s]\n"
     ]
    },
    {
     "name": "stdout",
     "output_type": "stream",
     "text": [
      "Train Accuracy: 0.7022, Val Accuracy: 0.5882, Test Accuracy: 0.5199\n",
      "Train loss: 1.0134\n",
      "\n",
      " Epoch 243 training:\n"
     ]
    },
    {
     "name": "stderr",
     "output_type": "stream",
     "text": [
      "100%|██████████| 711/711 [00:04<00:00, 152.78it/s]\n"
     ]
    },
    {
     "name": "stdout",
     "output_type": "stream",
     "text": [
      "Train Accuracy: 0.7028, Val Accuracy: 0.5888, Test Accuracy: 0.5247\n",
      "Train loss: 1.0162\n",
      "\n",
      " Epoch 244 training:\n"
     ]
    },
    {
     "name": "stderr",
     "output_type": "stream",
     "text": [
      "100%|██████████| 711/711 [00:04<00:00, 162.90it/s]\n"
     ]
    },
    {
     "name": "stdout",
     "output_type": "stream",
     "text": [
      "Train Accuracy: 0.6973, Val Accuracy: 0.5885, Test Accuracy: 0.5263\n",
      "Train loss: 1.0169\n",
      "\n",
      " Epoch 245 training:\n"
     ]
    },
    {
     "name": "stderr",
     "output_type": "stream",
     "text": [
      "100%|██████████| 711/711 [00:04<00:00, 155.49it/s]\n"
     ]
    },
    {
     "name": "stdout",
     "output_type": "stream",
     "text": [
      "Train Accuracy: 0.7010, Val Accuracy: 0.5905, Test Accuracy: 0.5317\n",
      "Train loss: 1.0176\n",
      "\n",
      " Epoch 246 training:\n"
     ]
    },
    {
     "name": "stderr",
     "output_type": "stream",
     "text": [
      "100%|██████████| 711/711 [00:04<00:00, 173.40it/s]\n"
     ]
    },
    {
     "name": "stdout",
     "output_type": "stream",
     "text": [
      "Train Accuracy: 0.6974, Val Accuracy: 0.5762, Test Accuracy: 0.5118\n",
      "Train loss: 1.0156\n",
      "\n",
      " Epoch 247 training:\n"
     ]
    },
    {
     "name": "stderr",
     "output_type": "stream",
     "text": [
      "100%|██████████| 711/711 [00:04<00:00, 156.79it/s]\n"
     ]
    },
    {
     "name": "stdout",
     "output_type": "stream",
     "text": [
      "Train Accuracy: 0.6981, Val Accuracy: 0.5858, Test Accuracy: 0.5217\n",
      "Train loss: 1.0190\n",
      "\n",
      " Epoch 248 training:\n"
     ]
    },
    {
     "name": "stderr",
     "output_type": "stream",
     "text": [
      "100%|██████████| 711/711 [00:04<00:00, 162.81it/s]\n"
     ]
    },
    {
     "name": "stdout",
     "output_type": "stream",
     "text": [
      "Train Accuracy: 0.7000, Val Accuracy: 0.5831, Test Accuracy: 0.5200\n",
      "Train loss: 1.0187\n",
      "\n",
      " Epoch 249 training:\n"
     ]
    },
    {
     "name": "stderr",
     "output_type": "stream",
     "text": [
      "100%|██████████| 711/711 [00:04<00:00, 164.57it/s]\n"
     ]
    },
    {
     "name": "stdout",
     "output_type": "stream",
     "text": [
      "Train Accuracy: 0.6991, Val Accuracy: 0.5882, Test Accuracy: 0.5253\n",
      "Train loss: 1.0184\n",
      "\n",
      " Epoch 0 training:\n"
     ]
    },
    {
     "name": "stderr",
     "output_type": "stream",
     "text": [
      "100%|██████████| 711/711 [00:05<00:00, 136.37it/s]\n"
     ]
    },
    {
     "name": "stdout",
     "output_type": "stream",
     "text": [
      "New best model validation accuracy: 0.57609. Previous: 0.00000\n",
      "Train Accuracy: 0.6022, Val Accuracy: 0.5761, Test Accuracy: 0.5010\n",
      "Train loss: 1.5801\n",
      "\n",
      " Epoch 1 training:\n"
     ]
    },
    {
     "name": "stderr",
     "output_type": "stream",
     "text": [
      "100%|██████████| 711/711 [00:04<00:00, 154.36it/s]\n"
     ]
    },
    {
     "name": "stdout",
     "output_type": "stream",
     "text": [
      "New best model validation accuracy: 0.59217. Previous: 0.57609\n",
      "Train Accuracy: 0.6160, Val Accuracy: 0.5922, Test Accuracy: 0.5409\n",
      "Train loss: 1.4066\n",
      "\n",
      " Epoch 2 training:\n"
     ]
    },
    {
     "name": "stderr",
     "output_type": "stream",
     "text": [
      "100%|██████████| 711/711 [00:04<00:00, 161.09it/s]\n"
     ]
    },
    {
     "name": "stdout",
     "output_type": "stream",
     "text": [
      "Train Accuracy: 0.6237, Val Accuracy: 0.5909, Test Accuracy: 0.5320\n",
      "Train loss: 1.3552\n",
      "\n",
      " Epoch 3 training:\n"
     ]
    },
    {
     "name": "stderr",
     "output_type": "stream",
     "text": [
      "100%|██████████| 711/711 [00:04<00:00, 159.77it/s]\n"
     ]
    },
    {
     "name": "stdout",
     "output_type": "stream",
     "text": [
      "New best model validation accuracy: 0.59979. Previous: 0.59217\n",
      "Train Accuracy: 0.6269, Val Accuracy: 0.5998, Test Accuracy: 0.5494\n",
      "Train loss: 1.3242\n",
      "\n",
      " Epoch 4 training:\n"
     ]
    },
    {
     "name": "stderr",
     "output_type": "stream",
     "text": [
      "100%|██████████| 711/711 [00:04<00:00, 158.07it/s]\n"
     ]
    },
    {
     "name": "stdout",
     "output_type": "stream",
     "text": [
      "Train Accuracy: 0.6364, Val Accuracy: 0.5948, Test Accuracy: 0.5295\n",
      "Train loss: 1.3009\n",
      "\n",
      " Epoch 5 training:\n"
     ]
    },
    {
     "name": "stderr",
     "output_type": "stream",
     "text": [
      "100%|██████████| 711/711 [00:04<00:00, 149.96it/s]\n"
     ]
    },
    {
     "name": "stdout",
     "output_type": "stream",
     "text": [
      "Train Accuracy: 0.6374, Val Accuracy: 0.5958, Test Accuracy: 0.5387\n",
      "Train loss: 1.2863\n",
      "\n",
      " Epoch 6 training:\n"
     ]
    },
    {
     "name": "stderr",
     "output_type": "stream",
     "text": [
      "100%|██████████| 711/711 [00:04<00:00, 154.32it/s]\n"
     ]
    },
    {
     "name": "stdout",
     "output_type": "stream",
     "text": [
      "New best model validation accuracy: 0.60824. Previous: 0.59979\n",
      "Train Accuracy: 0.6446, Val Accuracy: 0.6082, Test Accuracy: 0.5494\n",
      "Train loss: 1.2727\n",
      "\n",
      " Epoch 7 training:\n"
     ]
    },
    {
     "name": "stderr",
     "output_type": "stream",
     "text": [
      "100%|██████████| 711/711 [00:04<00:00, 157.05it/s]\n"
     ]
    },
    {
     "name": "stdout",
     "output_type": "stream",
     "text": [
      "Train Accuracy: 0.6438, Val Accuracy: 0.5980, Test Accuracy: 0.5401\n",
      "Train loss: 1.2583\n",
      "\n",
      " Epoch 8 training:\n"
     ]
    },
    {
     "name": "stderr",
     "output_type": "stream",
     "text": [
      "100%|██████████| 711/711 [00:03<00:00, 180.02it/s]\n"
     ]
    },
    {
     "name": "stdout",
     "output_type": "stream",
     "text": [
      "Train Accuracy: 0.6458, Val Accuracy: 0.5904, Test Accuracy: 0.5246\n",
      "Train loss: 1.2485\n",
      "\n",
      " Epoch 9 training:\n"
     ]
    },
    {
     "name": "stderr",
     "output_type": "stream",
     "text": [
      "100%|██████████| 711/711 [00:04<00:00, 172.30it/s]\n"
     ]
    },
    {
     "name": "stdout",
     "output_type": "stream",
     "text": [
      "Train Accuracy: 0.6439, Val Accuracy: 0.5970, Test Accuracy: 0.5422\n",
      "Train loss: 1.2390\n",
      "\n",
      " Epoch 10 training:\n"
     ]
    },
    {
     "name": "stderr",
     "output_type": "stream",
     "text": [
      "100%|██████████| 711/711 [00:04<00:00, 160.17it/s]\n"
     ]
    },
    {
     "name": "stdout",
     "output_type": "stream",
     "text": [
      "Train Accuracy: 0.6496, Val Accuracy: 0.5926, Test Accuracy: 0.5250\n",
      "Train loss: 1.2285\n",
      "\n",
      " Epoch 11 training:\n"
     ]
    },
    {
     "name": "stderr",
     "output_type": "stream",
     "text": [
      "100%|██████████| 711/711 [00:04<00:00, 153.07it/s]\n"
     ]
    },
    {
     "name": "stdout",
     "output_type": "stream",
     "text": [
      "Train Accuracy: 0.6520, Val Accuracy: 0.5997, Test Accuracy: 0.5395\n",
      "Train loss: 1.2221\n",
      "\n",
      " Epoch 12 training:\n"
     ]
    },
    {
     "name": "stderr",
     "output_type": "stream",
     "text": [
      "100%|██████████| 711/711 [00:04<00:00, 155.86it/s]\n"
     ]
    },
    {
     "name": "stdout",
     "output_type": "stream",
     "text": [
      "Train Accuracy: 0.6525, Val Accuracy: 0.5942, Test Accuracy: 0.5370\n",
      "Train loss: 1.2149\n",
      "\n",
      " Epoch 13 training:\n"
     ]
    },
    {
     "name": "stderr",
     "output_type": "stream",
     "text": [
      "100%|██████████| 711/711 [00:04<00:00, 174.37it/s]\n"
     ]
    },
    {
     "name": "stdout",
     "output_type": "stream",
     "text": [
      "Train Accuracy: 0.6569, Val Accuracy: 0.5970, Test Accuracy: 0.5320\n",
      "Train loss: 1.2105\n",
      "\n",
      " Epoch 14 training:\n"
     ]
    },
    {
     "name": "stderr",
     "output_type": "stream",
     "text": [
      "100%|██████████| 711/711 [00:04<00:00, 172.31it/s]\n"
     ]
    },
    {
     "name": "stdout",
     "output_type": "stream",
     "text": [
      "Train Accuracy: 0.6580, Val Accuracy: 0.5991, Test Accuracy: 0.5442\n",
      "Train loss: 1.2042\n",
      "\n",
      " Epoch 15 training:\n"
     ]
    },
    {
     "name": "stderr",
     "output_type": "stream",
     "text": [
      "100%|██████████| 711/711 [00:04<00:00, 157.02it/s]\n"
     ]
    },
    {
     "name": "stdout",
     "output_type": "stream",
     "text": [
      "Train Accuracy: 0.6571, Val Accuracy: 0.5914, Test Accuracy: 0.5323\n",
      "Train loss: 1.1979\n",
      "\n",
      " Epoch 16 training:\n"
     ]
    },
    {
     "name": "stderr",
     "output_type": "stream",
     "text": [
      "100%|██████████| 711/711 [00:04<00:00, 170.18it/s]\n"
     ]
    },
    {
     "name": "stdout",
     "output_type": "stream",
     "text": [
      "Train Accuracy: 0.6566, Val Accuracy: 0.6002, Test Accuracy: 0.5413\n",
      "Train loss: 1.1921\n",
      "\n",
      " Epoch 17 training:\n"
     ]
    },
    {
     "name": "stderr",
     "output_type": "stream",
     "text": [
      "100%|██████████| 711/711 [00:04<00:00, 174.94it/s]\n"
     ]
    },
    {
     "name": "stdout",
     "output_type": "stream",
     "text": [
      "Train Accuracy: 0.6582, Val Accuracy: 0.5991, Test Accuracy: 0.5423\n",
      "Train loss: 1.1901\n",
      "\n",
      " Epoch 18 training:\n"
     ]
    },
    {
     "name": "stderr",
     "output_type": "stream",
     "text": [
      "100%|██████████| 711/711 [00:04<00:00, 173.56it/s]\n"
     ]
    },
    {
     "name": "stdout",
     "output_type": "stream",
     "text": [
      "Train Accuracy: 0.6599, Val Accuracy: 0.5973, Test Accuracy: 0.5337\n",
      "Train loss: 1.1820\n",
      "\n",
      " Epoch 19 training:\n"
     ]
    },
    {
     "name": "stderr",
     "output_type": "stream",
     "text": [
      "100%|██████████| 711/711 [00:04<00:00, 166.65it/s]\n"
     ]
    },
    {
     "name": "stdout",
     "output_type": "stream",
     "text": [
      "Train Accuracy: 0.6649, Val Accuracy: 0.6013, Test Accuracy: 0.5363\n",
      "Train loss: 1.1812\n",
      "\n",
      " Epoch 20 training:\n"
     ]
    },
    {
     "name": "stderr",
     "output_type": "stream",
     "text": [
      "100%|██████████| 711/711 [00:04<00:00, 176.37it/s]\n"
     ]
    },
    {
     "name": "stdout",
     "output_type": "stream",
     "text": [
      "Train Accuracy: 0.6628, Val Accuracy: 0.5994, Test Accuracy: 0.5417\n",
      "Train loss: 1.1704\n",
      "\n",
      " Epoch 21 training:\n"
     ]
    },
    {
     "name": "stderr",
     "output_type": "stream",
     "text": [
      "100%|██████████| 711/711 [00:04<00:00, 164.03it/s]\n"
     ]
    },
    {
     "name": "stdout",
     "output_type": "stream",
     "text": [
      "Train Accuracy: 0.6666, Val Accuracy: 0.5997, Test Accuracy: 0.5374\n",
      "Train loss: 1.1726\n",
      "\n",
      " Epoch 22 training:\n"
     ]
    },
    {
     "name": "stderr",
     "output_type": "stream",
     "text": [
      "100%|██████████| 711/711 [00:04<00:00, 153.98it/s]\n"
     ]
    },
    {
     "name": "stdout",
     "output_type": "stream",
     "text": [
      "Train Accuracy: 0.6640, Val Accuracy: 0.5932, Test Accuracy: 0.5216\n",
      "Train loss: 1.1657\n",
      "\n",
      " Epoch 23 training:\n"
     ]
    },
    {
     "name": "stderr",
     "output_type": "stream",
     "text": [
      "100%|██████████| 711/711 [00:04<00:00, 167.75it/s]\n"
     ]
    },
    {
     "name": "stdout",
     "output_type": "stream",
     "text": [
      "Train Accuracy: 0.6700, Val Accuracy: 0.5987, Test Accuracy: 0.5362\n",
      "Train loss: 1.1625\n",
      "\n",
      " Epoch 24 training:\n"
     ]
    },
    {
     "name": "stderr",
     "output_type": "stream",
     "text": [
      "100%|██████████| 711/711 [00:04<00:00, 162.34it/s]\n"
     ]
    },
    {
     "name": "stdout",
     "output_type": "stream",
     "text": [
      "Train Accuracy: 0.6676, Val Accuracy: 0.5928, Test Accuracy: 0.5276\n",
      "Train loss: 1.1617\n",
      "\n",
      " Epoch 25 training:\n"
     ]
    },
    {
     "name": "stderr",
     "output_type": "stream",
     "text": [
      "100%|██████████| 711/711 [00:04<00:00, 158.13it/s]\n"
     ]
    },
    {
     "name": "stdout",
     "output_type": "stream",
     "text": [
      "Train Accuracy: 0.6605, Val Accuracy: 0.5943, Test Accuracy: 0.5302\n",
      "Train loss: 1.1549\n",
      "\n",
      " Epoch 26 training:\n"
     ]
    },
    {
     "name": "stderr",
     "output_type": "stream",
     "text": [
      "100%|██████████| 711/711 [00:04<00:00, 154.98it/s]\n"
     ]
    },
    {
     "name": "stdout",
     "output_type": "stream",
     "text": [
      "Train Accuracy: 0.6719, Val Accuracy: 0.5998, Test Accuracy: 0.5362\n",
      "Train loss: 1.1556\n",
      "\n",
      " Epoch 27 training:\n"
     ]
    },
    {
     "name": "stderr",
     "output_type": "stream",
     "text": [
      "100%|██████████| 711/711 [00:04<00:00, 152.65it/s]\n"
     ]
    },
    {
     "name": "stdout",
     "output_type": "stream",
     "text": [
      "Train Accuracy: 0.6707, Val Accuracy: 0.6024, Test Accuracy: 0.5362\n",
      "Train loss: 1.1506\n",
      "\n",
      " Epoch 28 training:\n"
     ]
    },
    {
     "name": "stderr",
     "output_type": "stream",
     "text": [
      "100%|██████████| 711/711 [00:04<00:00, 156.53it/s]\n"
     ]
    },
    {
     "name": "stdout",
     "output_type": "stream",
     "text": [
      "Train Accuracy: 0.6659, Val Accuracy: 0.5925, Test Accuracy: 0.5261\n",
      "Train loss: 1.1473\n",
      "\n",
      " Epoch 29 training:\n"
     ]
    },
    {
     "name": "stderr",
     "output_type": "stream",
     "text": [
      "100%|██████████| 711/711 [00:04<00:00, 159.68it/s]\n"
     ]
    },
    {
     "name": "stdout",
     "output_type": "stream",
     "text": [
      "Train Accuracy: 0.6686, Val Accuracy: 0.5942, Test Accuracy: 0.5316\n",
      "Train loss: 1.1445\n",
      "\n",
      " Epoch 30 training:\n"
     ]
    },
    {
     "name": "stderr",
     "output_type": "stream",
     "text": [
      "100%|██████████| 711/711 [00:04<00:00, 158.68it/s]\n"
     ]
    },
    {
     "name": "stdout",
     "output_type": "stream",
     "text": [
      "Train Accuracy: 0.6745, Val Accuracy: 0.5976, Test Accuracy: 0.5327\n",
      "Train loss: 1.1446\n",
      "\n",
      " Epoch 31 training:\n"
     ]
    },
    {
     "name": "stderr",
     "output_type": "stream",
     "text": [
      "100%|██████████| 711/711 [00:04<00:00, 153.97it/s]\n"
     ]
    },
    {
     "name": "stdout",
     "output_type": "stream",
     "text": [
      "Train Accuracy: 0.6721, Val Accuracy: 0.5915, Test Accuracy: 0.5224\n",
      "Train loss: 1.1417\n",
      "\n",
      " Epoch 32 training:\n"
     ]
    },
    {
     "name": "stderr",
     "output_type": "stream",
     "text": [
      "100%|██████████| 711/711 [00:04<00:00, 164.30it/s]\n"
     ]
    },
    {
     "name": "stdout",
     "output_type": "stream",
     "text": [
      "Train Accuracy: 0.6745, Val Accuracy: 0.5963, Test Accuracy: 0.5361\n",
      "Train loss: 1.1368\n",
      "\n",
      " Epoch 33 training:\n"
     ]
    },
    {
     "name": "stderr",
     "output_type": "stream",
     "text": [
      "100%|██████████| 711/711 [00:04<00:00, 167.88it/s]\n"
     ]
    },
    {
     "name": "stdout",
     "output_type": "stream",
     "text": [
      "Train Accuracy: 0.6765, Val Accuracy: 0.6021, Test Accuracy: 0.5413\n",
      "Train loss: 1.1362\n",
      "\n",
      " Epoch 34 training:\n"
     ]
    },
    {
     "name": "stderr",
     "output_type": "stream",
     "text": [
      "100%|██████████| 711/711 [00:04<00:00, 157.16it/s]\n"
     ]
    },
    {
     "name": "stdout",
     "output_type": "stream",
     "text": [
      "Train Accuracy: 0.6742, Val Accuracy: 0.6016, Test Accuracy: 0.5427\n",
      "Train loss: 1.1389\n",
      "\n",
      " Epoch 35 training:\n"
     ]
    },
    {
     "name": "stderr",
     "output_type": "stream",
     "text": [
      "100%|██████████| 711/711 [00:04<00:00, 162.80it/s]\n"
     ]
    },
    {
     "name": "stdout",
     "output_type": "stream",
     "text": [
      "Train Accuracy: 0.6735, Val Accuracy: 0.5926, Test Accuracy: 0.5276\n",
      "Train loss: 1.1336\n",
      "\n",
      " Epoch 36 training:\n"
     ]
    },
    {
     "name": "stderr",
     "output_type": "stream",
     "text": [
      "100%|██████████| 711/711 [00:04<00:00, 159.30it/s]\n"
     ]
    },
    {
     "name": "stdout",
     "output_type": "stream",
     "text": [
      "Train Accuracy: 0.6725, Val Accuracy: 0.5972, Test Accuracy: 0.5277\n",
      "Train loss: 1.1312\n",
      "\n",
      " Epoch 37 training:\n"
     ]
    },
    {
     "name": "stderr",
     "output_type": "stream",
     "text": [
      "100%|██████████| 711/711 [00:04<00:00, 157.80it/s]\n"
     ]
    },
    {
     "name": "stdout",
     "output_type": "stream",
     "text": [
      "Train Accuracy: 0.6729, Val Accuracy: 0.5970, Test Accuracy: 0.5299\n",
      "Train loss: 1.1307\n",
      "\n",
      " Epoch 38 training:\n"
     ]
    },
    {
     "name": "stderr",
     "output_type": "stream",
     "text": [
      "100%|██████████| 711/711 [00:04<00:00, 162.78it/s]\n"
     ]
    },
    {
     "name": "stdout",
     "output_type": "stream",
     "text": [
      "Train Accuracy: 0.6751, Val Accuracy: 0.5969, Test Accuracy: 0.5360\n",
      "Train loss: 1.1240\n",
      "\n",
      " Epoch 39 training:\n"
     ]
    },
    {
     "name": "stderr",
     "output_type": "stream",
     "text": [
      "100%|██████████| 711/711 [00:03<00:00, 181.89it/s]\n"
     ]
    },
    {
     "name": "stdout",
     "output_type": "stream",
     "text": [
      "Train Accuracy: 0.6732, Val Accuracy: 0.5871, Test Accuracy: 0.5194\n",
      "Train loss: 1.1236\n",
      "\n",
      " Epoch 40 training:\n"
     ]
    },
    {
     "name": "stderr",
     "output_type": "stream",
     "text": [
      "100%|██████████| 711/711 [00:04<00:00, 155.40it/s]\n"
     ]
    },
    {
     "name": "stdout",
     "output_type": "stream",
     "text": [
      "Train Accuracy: 0.6759, Val Accuracy: 0.5952, Test Accuracy: 0.5314\n",
      "Train loss: 1.1253\n",
      "\n",
      " Epoch 41 training:\n"
     ]
    },
    {
     "name": "stderr",
     "output_type": "stream",
     "text": [
      "100%|██████████| 711/711 [00:04<00:00, 162.01it/s]\n"
     ]
    },
    {
     "name": "stdout",
     "output_type": "stream",
     "text": [
      "Train Accuracy: 0.6785, Val Accuracy: 0.5910, Test Accuracy: 0.5266\n",
      "Train loss: 1.1208\n",
      "\n",
      " Epoch 42 training:\n"
     ]
    },
    {
     "name": "stderr",
     "output_type": "stream",
     "text": [
      "100%|██████████| 711/711 [00:04<00:00, 155.17it/s]\n"
     ]
    },
    {
     "name": "stdout",
     "output_type": "stream",
     "text": [
      "Train Accuracy: 0.6741, Val Accuracy: 0.5832, Test Accuracy: 0.5217\n",
      "Train loss: 1.1170\n",
      "\n",
      " Epoch 43 training:\n"
     ]
    },
    {
     "name": "stderr",
     "output_type": "stream",
     "text": [
      "100%|██████████| 711/711 [00:04<00:00, 165.52it/s]\n"
     ]
    },
    {
     "name": "stdout",
     "output_type": "stream",
     "text": [
      "Train Accuracy: 0.6728, Val Accuracy: 0.5812, Test Accuracy: 0.5189\n",
      "Train loss: 1.1130\n",
      "\n",
      " Epoch 44 training:\n"
     ]
    },
    {
     "name": "stderr",
     "output_type": "stream",
     "text": [
      "100%|██████████| 711/711 [00:04<00:00, 171.41it/s]\n"
     ]
    },
    {
     "name": "stdout",
     "output_type": "stream",
     "text": [
      "Train Accuracy: 0.6738, Val Accuracy: 0.5876, Test Accuracy: 0.5249\n",
      "Train loss: 1.1178\n",
      "\n",
      " Epoch 45 training:\n"
     ]
    },
    {
     "name": "stderr",
     "output_type": "stream",
     "text": [
      "100%|██████████| 711/711 [00:04<00:00, 166.42it/s]\n"
     ]
    },
    {
     "name": "stdout",
     "output_type": "stream",
     "text": [
      "Train Accuracy: 0.6740, Val Accuracy: 0.5877, Test Accuracy: 0.5240\n",
      "Train loss: 1.1156\n",
      "\n",
      " Epoch 46 training:\n"
     ]
    },
    {
     "name": "stderr",
     "output_type": "stream",
     "text": [
      "100%|██████████| 711/711 [00:04<00:00, 171.45it/s]\n"
     ]
    },
    {
     "name": "stdout",
     "output_type": "stream",
     "text": [
      "Train Accuracy: 0.6753, Val Accuracy: 0.5888, Test Accuracy: 0.5273\n",
      "Train loss: 1.1125\n",
      "\n",
      " Epoch 47 training:\n"
     ]
    },
    {
     "name": "stderr",
     "output_type": "stream",
     "text": [
      "100%|██████████| 711/711 [00:04<00:00, 154.49it/s]\n"
     ]
    },
    {
     "name": "stdout",
     "output_type": "stream",
     "text": [
      "Train Accuracy: 0.6782, Val Accuracy: 0.5908, Test Accuracy: 0.5251\n",
      "Train loss: 1.1091\n",
      "\n",
      " Epoch 48 training:\n"
     ]
    },
    {
     "name": "stderr",
     "output_type": "stream",
     "text": [
      "100%|██████████| 711/711 [00:04<00:00, 156.49it/s]\n"
     ]
    },
    {
     "name": "stdout",
     "output_type": "stream",
     "text": [
      "Train Accuracy: 0.6805, Val Accuracy: 0.5968, Test Accuracy: 0.5337\n",
      "Train loss: 1.1104\n",
      "\n",
      " Epoch 49 training:\n"
     ]
    },
    {
     "name": "stderr",
     "output_type": "stream",
     "text": [
      "100%|██████████| 711/711 [00:04<00:00, 163.04it/s]\n"
     ]
    },
    {
     "name": "stdout",
     "output_type": "stream",
     "text": [
      "Train Accuracy: 0.6806, Val Accuracy: 0.6010, Test Accuracy: 0.5403\n",
      "Train loss: 1.1069\n",
      "\n",
      " Epoch 50 training:\n"
     ]
    },
    {
     "name": "stderr",
     "output_type": "stream",
     "text": [
      "100%|██████████| 711/711 [00:04<00:00, 164.22it/s]\n"
     ]
    },
    {
     "name": "stdout",
     "output_type": "stream",
     "text": [
      "Train Accuracy: 0.6813, Val Accuracy: 0.5940, Test Accuracy: 0.5314\n",
      "Train loss: 1.1073\n",
      "\n",
      " Epoch 51 training:\n"
     ]
    },
    {
     "name": "stderr",
     "output_type": "stream",
     "text": [
      "100%|██████████| 711/711 [00:04<00:00, 172.15it/s]\n"
     ]
    },
    {
     "name": "stdout",
     "output_type": "stream",
     "text": [
      "Train Accuracy: 0.6822, Val Accuracy: 0.5938, Test Accuracy: 0.5323\n",
      "Train loss: 1.1064\n",
      "\n",
      " Epoch 52 training:\n"
     ]
    },
    {
     "name": "stderr",
     "output_type": "stream",
     "text": [
      "100%|██████████| 711/711 [00:04<00:00, 164.60it/s]\n"
     ]
    },
    {
     "name": "stdout",
     "output_type": "stream",
     "text": [
      "Train Accuracy: 0.6814, Val Accuracy: 0.5952, Test Accuracy: 0.5331\n",
      "Train loss: 1.1045\n",
      "\n",
      " Epoch 53 training:\n"
     ]
    },
    {
     "name": "stderr",
     "output_type": "stream",
     "text": [
      "100%|██████████| 711/711 [00:04<00:00, 167.66it/s]\n"
     ]
    },
    {
     "name": "stdout",
     "output_type": "stream",
     "text": [
      "Train Accuracy: 0.6776, Val Accuracy: 0.5958, Test Accuracy: 0.5345\n",
      "Train loss: 1.0960\n",
      "\n",
      " Epoch 54 training:\n"
     ]
    },
    {
     "name": "stderr",
     "output_type": "stream",
     "text": [
      "100%|██████████| 711/711 [00:04<00:00, 171.97it/s]\n"
     ]
    },
    {
     "name": "stdout",
     "output_type": "stream",
     "text": [
      "Train Accuracy: 0.6831, Val Accuracy: 0.5918, Test Accuracy: 0.5260\n",
      "Train loss: 1.1009\n",
      "\n",
      " Epoch 55 training:\n"
     ]
    },
    {
     "name": "stderr",
     "output_type": "stream",
     "text": [
      "100%|██████████| 711/711 [00:04<00:00, 163.15it/s]\n"
     ]
    },
    {
     "name": "stdout",
     "output_type": "stream",
     "text": [
      "Train Accuracy: 0.6803, Val Accuracy: 0.5923, Test Accuracy: 0.5332\n",
      "Train loss: 1.0971\n",
      "\n",
      " Epoch 56 training:\n"
     ]
    },
    {
     "name": "stderr",
     "output_type": "stream",
     "text": [
      "100%|██████████| 711/711 [00:04<00:00, 174.29it/s]\n"
     ]
    },
    {
     "name": "stdout",
     "output_type": "stream",
     "text": [
      "Train Accuracy: 0.6804, Val Accuracy: 0.5905, Test Accuracy: 0.5255\n",
      "Train loss: 1.1013\n",
      "\n",
      " Epoch 57 training:\n"
     ]
    },
    {
     "name": "stderr",
     "output_type": "stream",
     "text": [
      "100%|██████████| 711/711 [00:04<00:00, 159.28it/s]\n"
     ]
    },
    {
     "name": "stdout",
     "output_type": "stream",
     "text": [
      "Train Accuracy: 0.6856, Val Accuracy: 0.5972, Test Accuracy: 0.5312\n",
      "Train loss: 1.0982\n",
      "\n",
      " Epoch 58 training:\n"
     ]
    },
    {
     "name": "stderr",
     "output_type": "stream",
     "text": [
      "100%|██████████| 711/711 [00:04<00:00, 171.10it/s]\n"
     ]
    },
    {
     "name": "stdout",
     "output_type": "stream",
     "text": [
      "Train Accuracy: 0.6837, Val Accuracy: 0.5981, Test Accuracy: 0.5367\n",
      "Train loss: 1.0974\n",
      "\n",
      " Epoch 59 training:\n"
     ]
    },
    {
     "name": "stderr",
     "output_type": "stream",
     "text": [
      "100%|██████████| 711/711 [00:04<00:00, 176.39it/s]\n"
     ]
    },
    {
     "name": "stdout",
     "output_type": "stream",
     "text": [
      "Train Accuracy: 0.6832, Val Accuracy: 0.5913, Test Accuracy: 0.5259\n",
      "Train loss: 1.0939\n",
      "\n",
      " Epoch 60 training:\n"
     ]
    },
    {
     "name": "stderr",
     "output_type": "stream",
     "text": [
      "100%|██████████| 711/711 [00:04<00:00, 166.00it/s]\n"
     ]
    },
    {
     "name": "stdout",
     "output_type": "stream",
     "text": [
      "Train Accuracy: 0.6852, Val Accuracy: 0.5943, Test Accuracy: 0.5278\n",
      "Train loss: 1.0952\n",
      "\n",
      " Epoch 61 training:\n"
     ]
    },
    {
     "name": "stderr",
     "output_type": "stream",
     "text": [
      "100%|██████████| 711/711 [00:04<00:00, 162.30it/s]\n"
     ]
    },
    {
     "name": "stdout",
     "output_type": "stream",
     "text": [
      "Train Accuracy: 0.6850, Val Accuracy: 0.5910, Test Accuracy: 0.5265\n",
      "Train loss: 1.0951\n",
      "\n",
      " Epoch 62 training:\n"
     ]
    },
    {
     "name": "stderr",
     "output_type": "stream",
     "text": [
      "100%|██████████| 711/711 [00:04<00:00, 165.06it/s]\n"
     ]
    },
    {
     "name": "stdout",
     "output_type": "stream",
     "text": [
      "Train Accuracy: 0.6817, Val Accuracy: 0.5917, Test Accuracy: 0.5285\n",
      "Train loss: 1.0911\n",
      "\n",
      " Epoch 63 training:\n"
     ]
    },
    {
     "name": "stderr",
     "output_type": "stream",
     "text": [
      "100%|██████████| 711/711 [00:04<00:00, 150.09it/s]\n"
     ]
    },
    {
     "name": "stdout",
     "output_type": "stream",
     "text": [
      "Train Accuracy: 0.6826, Val Accuracy: 0.5878, Test Accuracy: 0.5257\n",
      "Train loss: 1.0957\n",
      "\n",
      " Epoch 64 training:\n"
     ]
    },
    {
     "name": "stderr",
     "output_type": "stream",
     "text": [
      "100%|██████████| 711/711 [00:04<00:00, 161.57it/s]\n"
     ]
    },
    {
     "name": "stdout",
     "output_type": "stream",
     "text": [
      "Train Accuracy: 0.6852, Val Accuracy: 0.5918, Test Accuracy: 0.5263\n",
      "Train loss: 1.0921\n",
      "\n",
      " Epoch 65 training:\n"
     ]
    },
    {
     "name": "stderr",
     "output_type": "stream",
     "text": [
      "100%|██████████| 711/711 [00:04<00:00, 162.72it/s]\n"
     ]
    },
    {
     "name": "stdout",
     "output_type": "stream",
     "text": [
      "Train Accuracy: 0.6891, Val Accuracy: 0.5878, Test Accuracy: 0.5241\n",
      "Train loss: 1.0908\n",
      "\n",
      " Epoch 66 training:\n"
     ]
    },
    {
     "name": "stderr",
     "output_type": "stream",
     "text": [
      "100%|██████████| 711/711 [00:04<00:00, 160.49it/s]\n"
     ]
    },
    {
     "name": "stdout",
     "output_type": "stream",
     "text": [
      "Train Accuracy: 0.6831, Val Accuracy: 0.5949, Test Accuracy: 0.5354\n",
      "Train loss: 1.0885\n",
      "\n",
      " Epoch 67 training:\n"
     ]
    },
    {
     "name": "stderr",
     "output_type": "stream",
     "text": [
      "100%|██████████| 711/711 [00:04<00:00, 159.38it/s]\n"
     ]
    },
    {
     "name": "stdout",
     "output_type": "stream",
     "text": [
      "Train Accuracy: 0.6843, Val Accuracy: 0.5915, Test Accuracy: 0.5312\n",
      "Train loss: 1.0892\n",
      "\n",
      " Epoch 68 training:\n"
     ]
    },
    {
     "name": "stderr",
     "output_type": "stream",
     "text": [
      "100%|██████████| 711/711 [00:04<00:00, 162.86it/s]\n"
     ]
    },
    {
     "name": "stdout",
     "output_type": "stream",
     "text": [
      "Train Accuracy: 0.6876, Val Accuracy: 0.5949, Test Accuracy: 0.5317\n",
      "Train loss: 1.0878\n",
      "\n",
      " Epoch 69 training:\n"
     ]
    },
    {
     "name": "stderr",
     "output_type": "stream",
     "text": [
      "100%|██████████| 711/711 [00:04<00:00, 162.52it/s]\n"
     ]
    },
    {
     "name": "stdout",
     "output_type": "stream",
     "text": [
      "Train Accuracy: 0.6835, Val Accuracy: 0.5893, Test Accuracy: 0.5241\n",
      "Train loss: 1.0861\n",
      "\n",
      " Epoch 70 training:\n"
     ]
    },
    {
     "name": "stderr",
     "output_type": "stream",
     "text": [
      "100%|██████████| 711/711 [00:04<00:00, 150.13it/s]\n"
     ]
    },
    {
     "name": "stdout",
     "output_type": "stream",
     "text": [
      "Train Accuracy: 0.6882, Val Accuracy: 0.5925, Test Accuracy: 0.5221\n",
      "Train loss: 1.0839\n",
      "\n",
      " Epoch 71 training:\n"
     ]
    },
    {
     "name": "stderr",
     "output_type": "stream",
     "text": [
      "100%|██████████| 711/711 [00:04<00:00, 159.83it/s]\n"
     ]
    },
    {
     "name": "stdout",
     "output_type": "stream",
     "text": [
      "Train Accuracy: 0.6878, Val Accuracy: 0.5958, Test Accuracy: 0.5314\n",
      "Train loss: 1.0869\n",
      "\n",
      " Epoch 72 training:\n"
     ]
    },
    {
     "name": "stderr",
     "output_type": "stream",
     "text": [
      "100%|██████████| 711/711 [00:04<00:00, 155.10it/s]\n"
     ]
    },
    {
     "name": "stdout",
     "output_type": "stream",
     "text": [
      "Train Accuracy: 0.6852, Val Accuracy: 0.5951, Test Accuracy: 0.5335\n",
      "Train loss: 1.0851\n",
      "\n",
      " Epoch 73 training:\n"
     ]
    },
    {
     "name": "stderr",
     "output_type": "stream",
     "text": [
      "100%|██████████| 711/711 [00:04<00:00, 164.27it/s]\n"
     ]
    },
    {
     "name": "stdout",
     "output_type": "stream",
     "text": [
      "Train Accuracy: 0.6879, Val Accuracy: 0.5918, Test Accuracy: 0.5260\n",
      "Train loss: 1.0840\n",
      "\n",
      " Epoch 74 training:\n"
     ]
    },
    {
     "name": "stderr",
     "output_type": "stream",
     "text": [
      "100%|██████████| 711/711 [00:04<00:00, 160.43it/s]\n"
     ]
    },
    {
     "name": "stdout",
     "output_type": "stream",
     "text": [
      "Train Accuracy: 0.6825, Val Accuracy: 0.5953, Test Accuracy: 0.5370\n",
      "Train loss: 1.0804\n",
      "\n",
      " Epoch 75 training:\n"
     ]
    },
    {
     "name": "stderr",
     "output_type": "stream",
     "text": [
      "100%|██████████| 711/711 [00:04<00:00, 166.99it/s]\n"
     ]
    },
    {
     "name": "stdout",
     "output_type": "stream",
     "text": [
      "Train Accuracy: 0.6849, Val Accuracy: 0.5881, Test Accuracy: 0.5243\n",
      "Train loss: 1.0834\n",
      "\n",
      " Epoch 76 training:\n"
     ]
    },
    {
     "name": "stderr",
     "output_type": "stream",
     "text": [
      "100%|██████████| 711/711 [00:04<00:00, 161.57it/s]\n"
     ]
    },
    {
     "name": "stdout",
     "output_type": "stream",
     "text": [
      "Train Accuracy: 0.6847, Val Accuracy: 0.5906, Test Accuracy: 0.5292\n",
      "Train loss: 1.0787\n",
      "\n",
      " Epoch 77 training:\n"
     ]
    },
    {
     "name": "stderr",
     "output_type": "stream",
     "text": [
      "100%|██████████| 711/711 [00:04<00:00, 172.01it/s]\n"
     ]
    },
    {
     "name": "stdout",
     "output_type": "stream",
     "text": [
      "Train Accuracy: 0.6874, Val Accuracy: 0.5927, Test Accuracy: 0.5350\n",
      "Train loss: 1.0769\n",
      "\n",
      " Epoch 78 training:\n"
     ]
    },
    {
     "name": "stderr",
     "output_type": "stream",
     "text": [
      "100%|██████████| 711/711 [00:04<00:00, 162.16it/s]\n"
     ]
    },
    {
     "name": "stdout",
     "output_type": "stream",
     "text": [
      "Train Accuracy: 0.6867, Val Accuracy: 0.5926, Test Accuracy: 0.5329\n",
      "Train loss: 1.0854\n",
      "\n",
      " Epoch 79 training:\n"
     ]
    },
    {
     "name": "stderr",
     "output_type": "stream",
     "text": [
      "100%|██████████| 711/711 [00:04<00:00, 173.31it/s]\n"
     ]
    },
    {
     "name": "stdout",
     "output_type": "stream",
     "text": [
      "Train Accuracy: 0.6879, Val Accuracy: 0.5914, Test Accuracy: 0.5268\n",
      "Train loss: 1.0795\n",
      "\n",
      " Epoch 80 training:\n"
     ]
    },
    {
     "name": "stderr",
     "output_type": "stream",
     "text": [
      "100%|██████████| 711/711 [00:04<00:00, 170.79it/s]\n"
     ]
    },
    {
     "name": "stdout",
     "output_type": "stream",
     "text": [
      "Train Accuracy: 0.6855, Val Accuracy: 0.5894, Test Accuracy: 0.5269\n",
      "Train loss: 1.0800\n",
      "\n",
      " Epoch 81 training:\n"
     ]
    },
    {
     "name": "stderr",
     "output_type": "stream",
     "text": [
      "100%|██████████| 711/711 [00:04<00:00, 168.76it/s]\n"
     ]
    },
    {
     "name": "stdout",
     "output_type": "stream",
     "text": [
      "Train Accuracy: 0.6870, Val Accuracy: 0.5958, Test Accuracy: 0.5346\n",
      "Train loss: 1.0806\n",
      "\n",
      " Epoch 82 training:\n"
     ]
    },
    {
     "name": "stderr",
     "output_type": "stream",
     "text": [
      "100%|██████████| 711/711 [00:04<00:00, 169.36it/s]\n"
     ]
    },
    {
     "name": "stdout",
     "output_type": "stream",
     "text": [
      "Train Accuracy: 0.6854, Val Accuracy: 0.5840, Test Accuracy: 0.5246\n",
      "Train loss: 1.0761\n",
      "\n",
      " Epoch 83 training:\n"
     ]
    },
    {
     "name": "stderr",
     "output_type": "stream",
     "text": [
      "100%|██████████| 711/711 [00:04<00:00, 165.18it/s]\n"
     ]
    },
    {
     "name": "stdout",
     "output_type": "stream",
     "text": [
      "Train Accuracy: 0.6886, Val Accuracy: 0.6009, Test Accuracy: 0.5374\n",
      "Train loss: 1.0715\n",
      "\n",
      " Epoch 84 training:\n"
     ]
    },
    {
     "name": "stderr",
     "output_type": "stream",
     "text": [
      "100%|██████████| 711/711 [00:04<00:00, 160.25it/s]\n"
     ]
    },
    {
     "name": "stdout",
     "output_type": "stream",
     "text": [
      "Train Accuracy: 0.6878, Val Accuracy: 0.5958, Test Accuracy: 0.5375\n",
      "Train loss: 1.0734\n",
      "\n",
      " Epoch 85 training:\n"
     ]
    },
    {
     "name": "stderr",
     "output_type": "stream",
     "text": [
      "100%|██████████| 711/711 [00:04<00:00, 177.07it/s]\n"
     ]
    },
    {
     "name": "stdout",
     "output_type": "stream",
     "text": [
      "Train Accuracy: 0.6862, Val Accuracy: 0.5850, Test Accuracy: 0.5169\n",
      "Train loss: 1.0748\n",
      "\n",
      " Epoch 86 training:\n"
     ]
    },
    {
     "name": "stderr",
     "output_type": "stream",
     "text": [
      "100%|██████████| 711/711 [00:04<00:00, 170.41it/s]\n"
     ]
    },
    {
     "name": "stdout",
     "output_type": "stream",
     "text": [
      "Train Accuracy: 0.6872, Val Accuracy: 0.5865, Test Accuracy: 0.5259\n",
      "Train loss: 1.0776\n",
      "\n",
      " Epoch 87 training:\n"
     ]
    },
    {
     "name": "stderr",
     "output_type": "stream",
     "text": [
      "100%|██████████| 711/711 [00:04<00:00, 166.83it/s]\n"
     ]
    },
    {
     "name": "stdout",
     "output_type": "stream",
     "text": [
      "Train Accuracy: 0.6873, Val Accuracy: 0.5865, Test Accuracy: 0.5222\n",
      "Train loss: 1.0697\n",
      "\n",
      " Epoch 88 training:\n"
     ]
    },
    {
     "name": "stderr",
     "output_type": "stream",
     "text": [
      "100%|██████████| 711/711 [00:04<00:00, 175.13it/s]\n"
     ]
    },
    {
     "name": "stdout",
     "output_type": "stream",
     "text": [
      "Train Accuracy: 0.6873, Val Accuracy: 0.5886, Test Accuracy: 0.5282\n",
      "Train loss: 1.0704\n",
      "\n",
      " Epoch 89 training:\n"
     ]
    },
    {
     "name": "stderr",
     "output_type": "stream",
     "text": [
      "100%|██████████| 711/711 [00:04<00:00, 161.62it/s]\n"
     ]
    },
    {
     "name": "stdout",
     "output_type": "stream",
     "text": [
      "Train Accuracy: 0.6867, Val Accuracy: 0.5872, Test Accuracy: 0.5226\n",
      "Train loss: 1.0731\n",
      "\n",
      " Epoch 90 training:\n"
     ]
    },
    {
     "name": "stderr",
     "output_type": "stream",
     "text": [
      "100%|██████████| 711/711 [00:04<00:00, 156.73it/s]\n"
     ]
    },
    {
     "name": "stdout",
     "output_type": "stream",
     "text": [
      "Train Accuracy: 0.6867, Val Accuracy: 0.5896, Test Accuracy: 0.5332\n",
      "Train loss: 1.0708\n",
      "\n",
      " Epoch 91 training:\n"
     ]
    },
    {
     "name": "stderr",
     "output_type": "stream",
     "text": [
      "100%|██████████| 711/711 [00:04<00:00, 171.09it/s]\n"
     ]
    },
    {
     "name": "stdout",
     "output_type": "stream",
     "text": [
      "Train Accuracy: 0.6906, Val Accuracy: 0.5939, Test Accuracy: 0.5321\n",
      "Train loss: 1.0725\n",
      "\n",
      " Epoch 92 training:\n"
     ]
    },
    {
     "name": "stderr",
     "output_type": "stream",
     "text": [
      "100%|██████████| 711/711 [00:04<00:00, 163.65it/s]\n"
     ]
    },
    {
     "name": "stdout",
     "output_type": "stream",
     "text": [
      "Train Accuracy: 0.6914, Val Accuracy: 0.5917, Test Accuracy: 0.5287\n",
      "Train loss: 1.0713\n",
      "\n",
      " Epoch 93 training:\n"
     ]
    },
    {
     "name": "stderr",
     "output_type": "stream",
     "text": [
      "100%|██████████| 711/711 [00:04<00:00, 151.76it/s]\n"
     ]
    },
    {
     "name": "stdout",
     "output_type": "stream",
     "text": [
      "Train Accuracy: 0.6906, Val Accuracy: 0.5908, Test Accuracy: 0.5273\n",
      "Train loss: 1.0701\n",
      "\n",
      " Epoch 94 training:\n"
     ]
    },
    {
     "name": "stderr",
     "output_type": "stream",
     "text": [
      "100%|██████████| 711/711 [00:04<00:00, 161.76it/s]\n"
     ]
    },
    {
     "name": "stdout",
     "output_type": "stream",
     "text": [
      "Train Accuracy: 0.6861, Val Accuracy: 0.5878, Test Accuracy: 0.5259\n",
      "Train loss: 1.0711\n",
      "\n",
      " Epoch 95 training:\n"
     ]
    },
    {
     "name": "stderr",
     "output_type": "stream",
     "text": [
      "100%|██████████| 711/711 [00:04<00:00, 163.73it/s]\n"
     ]
    },
    {
     "name": "stdout",
     "output_type": "stream",
     "text": [
      "Train Accuracy: 0.6850, Val Accuracy: 0.5968, Test Accuracy: 0.5419\n",
      "Train loss: 1.0668\n",
      "\n",
      " Epoch 96 training:\n"
     ]
    },
    {
     "name": "stderr",
     "output_type": "stream",
     "text": [
      "100%|██████████| 711/711 [00:04<00:00, 153.34it/s]\n"
     ]
    },
    {
     "name": "stdout",
     "output_type": "stream",
     "text": [
      "Train Accuracy: 0.6883, Val Accuracy: 0.5872, Test Accuracy: 0.5239\n",
      "Train loss: 1.0705\n",
      "\n",
      " Epoch 97 training:\n"
     ]
    },
    {
     "name": "stderr",
     "output_type": "stream",
     "text": [
      "100%|██████████| 711/711 [00:04<00:00, 165.51it/s]\n"
     ]
    },
    {
     "name": "stdout",
     "output_type": "stream",
     "text": [
      "Train Accuracy: 0.6879, Val Accuracy: 0.5889, Test Accuracy: 0.5244\n",
      "Train loss: 1.0607\n",
      "\n",
      " Epoch 98 training:\n"
     ]
    },
    {
     "name": "stderr",
     "output_type": "stream",
     "text": [
      "100%|██████████| 711/711 [00:04<00:00, 153.96it/s]\n"
     ]
    },
    {
     "name": "stdout",
     "output_type": "stream",
     "text": [
      "Train Accuracy: 0.6896, Val Accuracy: 0.5897, Test Accuracy: 0.5262\n",
      "Train loss: 1.0668\n",
      "\n",
      " Epoch 99 training:\n"
     ]
    },
    {
     "name": "stderr",
     "output_type": "stream",
     "text": [
      "100%|██████████| 711/711 [00:04<00:00, 164.35it/s]\n"
     ]
    },
    {
     "name": "stdout",
     "output_type": "stream",
     "text": [
      "Train Accuracy: 0.6916, Val Accuracy: 0.5921, Test Accuracy: 0.5237\n",
      "Train loss: 1.0684\n",
      "\n",
      " Epoch 100 training:\n"
     ]
    },
    {
     "name": "stderr",
     "output_type": "stream",
     "text": [
      "100%|██████████| 711/711 [00:04<00:00, 166.68it/s]\n"
     ]
    },
    {
     "name": "stdout",
     "output_type": "stream",
     "text": [
      "Train Accuracy: 0.6889, Val Accuracy: 0.5840, Test Accuracy: 0.5194\n",
      "Train loss: 1.0642\n",
      "\n",
      " Epoch 101 training:\n"
     ]
    },
    {
     "name": "stderr",
     "output_type": "stream",
     "text": [
      "100%|██████████| 711/711 [00:04<00:00, 170.01it/s]\n"
     ]
    },
    {
     "name": "stdout",
     "output_type": "stream",
     "text": [
      "Train Accuracy: 0.6870, Val Accuracy: 0.5878, Test Accuracy: 0.5249\n",
      "Train loss: 1.0613\n",
      "\n",
      " Epoch 102 training:\n"
     ]
    },
    {
     "name": "stderr",
     "output_type": "stream",
     "text": [
      "100%|██████████| 711/711 [00:04<00:00, 154.98it/s]\n"
     ]
    },
    {
     "name": "stdout",
     "output_type": "stream",
     "text": [
      "Train Accuracy: 0.6931, Val Accuracy: 0.5907, Test Accuracy: 0.5240\n",
      "Train loss: 1.0635\n",
      "\n",
      " Epoch 103 training:\n"
     ]
    },
    {
     "name": "stderr",
     "output_type": "stream",
     "text": [
      "100%|██████████| 711/711 [00:04<00:00, 159.67it/s]\n"
     ]
    },
    {
     "name": "stdout",
     "output_type": "stream",
     "text": [
      "Train Accuracy: 0.6887, Val Accuracy: 0.5951, Test Accuracy: 0.5330\n",
      "Train loss: 1.0639\n",
      "\n",
      " Epoch 104 training:\n"
     ]
    },
    {
     "name": "stderr",
     "output_type": "stream",
     "text": [
      "100%|██████████| 711/711 [00:04<00:00, 158.93it/s]\n"
     ]
    },
    {
     "name": "stdout",
     "output_type": "stream",
     "text": [
      "Train Accuracy: 0.6919, Val Accuracy: 0.5999, Test Accuracy: 0.5389\n",
      "Train loss: 1.0641\n",
      "\n",
      " Epoch 105 training:\n"
     ]
    },
    {
     "name": "stderr",
     "output_type": "stream",
     "text": [
      "100%|██████████| 711/711 [00:04<00:00, 170.97it/s]\n"
     ]
    },
    {
     "name": "stdout",
     "output_type": "stream",
     "text": [
      "Train Accuracy: 0.6925, Val Accuracy: 0.5922, Test Accuracy: 0.5278\n",
      "Train loss: 1.0591\n",
      "\n",
      " Epoch 106 training:\n"
     ]
    },
    {
     "name": "stderr",
     "output_type": "stream",
     "text": [
      "100%|██████████| 711/711 [00:04<00:00, 168.45it/s]\n"
     ]
    },
    {
     "name": "stdout",
     "output_type": "stream",
     "text": [
      "Train Accuracy: 0.6913, Val Accuracy: 0.5908, Test Accuracy: 0.5297\n",
      "Train loss: 1.0611\n",
      "\n",
      " Epoch 107 training:\n"
     ]
    },
    {
     "name": "stderr",
     "output_type": "stream",
     "text": [
      "100%|██████████| 711/711 [00:04<00:00, 155.62it/s]\n"
     ]
    },
    {
     "name": "stdout",
     "output_type": "stream",
     "text": [
      "Train Accuracy: 0.6897, Val Accuracy: 0.5872, Test Accuracy: 0.5262\n",
      "Train loss: 1.0619\n",
      "\n",
      " Epoch 108 training:\n"
     ]
    },
    {
     "name": "stderr",
     "output_type": "stream",
     "text": [
      "100%|██████████| 711/711 [00:04<00:00, 156.21it/s]\n"
     ]
    },
    {
     "name": "stdout",
     "output_type": "stream",
     "text": [
      "Train Accuracy: 0.6901, Val Accuracy: 0.5933, Test Accuracy: 0.5368\n",
      "Train loss: 1.0626\n",
      "\n",
      " Epoch 109 training:\n"
     ]
    },
    {
     "name": "stderr",
     "output_type": "stream",
     "text": [
      "100%|██████████| 711/711 [00:04<00:00, 169.61it/s]\n"
     ]
    },
    {
     "name": "stdout",
     "output_type": "stream",
     "text": [
      "Train Accuracy: 0.6912, Val Accuracy: 0.5871, Test Accuracy: 0.5216\n",
      "Train loss: 1.0586\n",
      "\n",
      " Epoch 110 training:\n"
     ]
    },
    {
     "name": "stderr",
     "output_type": "stream",
     "text": [
      "100%|██████████| 711/711 [00:04<00:00, 157.52it/s]\n"
     ]
    },
    {
     "name": "stdout",
     "output_type": "stream",
     "text": [
      "Train Accuracy: 0.6916, Val Accuracy: 0.5950, Test Accuracy: 0.5304\n",
      "Train loss: 1.0608\n",
      "\n",
      " Epoch 111 training:\n"
     ]
    },
    {
     "name": "stderr",
     "output_type": "stream",
     "text": [
      "100%|██████████| 711/711 [00:04<00:00, 158.85it/s]\n"
     ]
    },
    {
     "name": "stdout",
     "output_type": "stream",
     "text": [
      "Train Accuracy: 0.6923, Val Accuracy: 0.5890, Test Accuracy: 0.5230\n",
      "Train loss: 1.0606\n",
      "\n",
      " Epoch 112 training:\n"
     ]
    },
    {
     "name": "stderr",
     "output_type": "stream",
     "text": [
      "100%|██████████| 711/711 [00:04<00:00, 168.74it/s]\n"
     ]
    },
    {
     "name": "stdout",
     "output_type": "stream",
     "text": [
      "Train Accuracy: 0.6937, Val Accuracy: 0.5930, Test Accuracy: 0.5301\n",
      "Train loss: 1.0583\n",
      "\n",
      " Epoch 113 training:\n"
     ]
    },
    {
     "name": "stderr",
     "output_type": "stream",
     "text": [
      "100%|██████████| 711/711 [00:04<00:00, 160.77it/s]\n"
     ]
    },
    {
     "name": "stdout",
     "output_type": "stream",
     "text": [
      "Train Accuracy: 0.6934, Val Accuracy: 0.5923, Test Accuracy: 0.5248\n",
      "Train loss: 1.0595\n",
      "\n",
      " Epoch 114 training:\n"
     ]
    },
    {
     "name": "stderr",
     "output_type": "stream",
     "text": [
      "100%|██████████| 711/711 [00:04<00:00, 161.39it/s]\n"
     ]
    },
    {
     "name": "stdout",
     "output_type": "stream",
     "text": [
      "Train Accuracy: 0.6928, Val Accuracy: 0.5845, Test Accuracy: 0.5192\n",
      "Train loss: 1.0600\n",
      "\n",
      " Epoch 115 training:\n"
     ]
    },
    {
     "name": "stderr",
     "output_type": "stream",
     "text": [
      "100%|██████████| 711/711 [00:04<00:00, 174.26it/s]\n"
     ]
    },
    {
     "name": "stdout",
     "output_type": "stream",
     "text": [
      "Train Accuracy: 0.6904, Val Accuracy: 0.5833, Test Accuracy: 0.5225\n",
      "Train loss: 1.0547\n",
      "\n",
      " Epoch 116 training:\n"
     ]
    },
    {
     "name": "stderr",
     "output_type": "stream",
     "text": [
      "100%|██████████| 711/711 [00:04<00:00, 172.64it/s]\n"
     ]
    },
    {
     "name": "stdout",
     "output_type": "stream",
     "text": [
      "Train Accuracy: 0.6912, Val Accuracy: 0.5892, Test Accuracy: 0.5299\n",
      "Train loss: 1.0608\n",
      "\n",
      " Epoch 117 training:\n"
     ]
    },
    {
     "name": "stderr",
     "output_type": "stream",
     "text": [
      "100%|██████████| 711/711 [00:04<00:00, 161.98it/s]\n"
     ]
    },
    {
     "name": "stdout",
     "output_type": "stream",
     "text": [
      "Train Accuracy: 0.6920, Val Accuracy: 0.5895, Test Accuracy: 0.5249\n",
      "Train loss: 1.0571\n",
      "\n",
      " Epoch 118 training:\n"
     ]
    },
    {
     "name": "stderr",
     "output_type": "stream",
     "text": [
      "100%|██████████| 711/711 [00:04<00:00, 159.32it/s]\n"
     ]
    },
    {
     "name": "stdout",
     "output_type": "stream",
     "text": [
      "Train Accuracy: 0.6933, Val Accuracy: 0.5933, Test Accuracy: 0.5323\n",
      "Train loss: 1.0553\n",
      "\n",
      " Epoch 119 training:\n"
     ]
    },
    {
     "name": "stderr",
     "output_type": "stream",
     "text": [
      "100%|██████████| 711/711 [00:04<00:00, 156.91it/s]\n"
     ]
    },
    {
     "name": "stdout",
     "output_type": "stream",
     "text": [
      "Train Accuracy: 0.6904, Val Accuracy: 0.5855, Test Accuracy: 0.5276\n",
      "Train loss: 1.0553\n",
      "\n",
      " Epoch 120 training:\n"
     ]
    },
    {
     "name": "stderr",
     "output_type": "stream",
     "text": [
      "100%|██████████| 711/711 [00:04<00:00, 154.40it/s]\n"
     ]
    },
    {
     "name": "stdout",
     "output_type": "stream",
     "text": [
      "Train Accuracy: 0.6947, Val Accuracy: 0.5887, Test Accuracy: 0.5224\n",
      "Train loss: 1.0540\n",
      "\n",
      " Epoch 121 training:\n"
     ]
    },
    {
     "name": "stderr",
     "output_type": "stream",
     "text": [
      "100%|██████████| 711/711 [00:04<00:00, 151.79it/s]\n"
     ]
    },
    {
     "name": "stdout",
     "output_type": "stream",
     "text": [
      "Train Accuracy: 0.6952, Val Accuracy: 0.5969, Test Accuracy: 0.5320\n",
      "Train loss: 1.0568\n",
      "\n",
      " Epoch 122 training:\n"
     ]
    },
    {
     "name": "stderr",
     "output_type": "stream",
     "text": [
      "100%|██████████| 711/711 [00:04<00:00, 162.33it/s]\n"
     ]
    },
    {
     "name": "stdout",
     "output_type": "stream",
     "text": [
      "Train Accuracy: 0.6934, Val Accuracy: 0.5926, Test Accuracy: 0.5294\n",
      "Train loss: 1.0508\n",
      "\n",
      " Epoch 123 training:\n"
     ]
    },
    {
     "name": "stderr",
     "output_type": "stream",
     "text": [
      "100%|██████████| 711/711 [00:04<00:00, 166.31it/s]\n"
     ]
    },
    {
     "name": "stdout",
     "output_type": "stream",
     "text": [
      "Train Accuracy: 0.6926, Val Accuracy: 0.5875, Test Accuracy: 0.5266\n",
      "Train loss: 1.0517\n",
      "\n",
      " Epoch 124 training:\n"
     ]
    },
    {
     "name": "stderr",
     "output_type": "stream",
     "text": [
      "100%|██████████| 711/711 [00:04<00:00, 169.93it/s]\n"
     ]
    },
    {
     "name": "stdout",
     "output_type": "stream",
     "text": [
      "Train Accuracy: 0.6902, Val Accuracy: 0.5901, Test Accuracy: 0.5288\n",
      "Train loss: 1.0547\n",
      "\n",
      " Epoch 125 training:\n"
     ]
    },
    {
     "name": "stderr",
     "output_type": "stream",
     "text": [
      "100%|██████████| 711/711 [00:04<00:00, 156.10it/s]\n"
     ]
    },
    {
     "name": "stdout",
     "output_type": "stream",
     "text": [
      "Train Accuracy: 0.6931, Val Accuracy: 0.5923, Test Accuracy: 0.5312\n",
      "Train loss: 1.0530\n",
      "\n",
      " Epoch 126 training:\n"
     ]
    },
    {
     "name": "stderr",
     "output_type": "stream",
     "text": [
      "100%|██████████| 711/711 [00:04<00:00, 164.70it/s]\n"
     ]
    },
    {
     "name": "stdout",
     "output_type": "stream",
     "text": [
      "Train Accuracy: 0.6936, Val Accuracy: 0.5908, Test Accuracy: 0.5235\n",
      "Train loss: 1.0537\n",
      "\n",
      " Epoch 127 training:\n"
     ]
    },
    {
     "name": "stderr",
     "output_type": "stream",
     "text": [
      "100%|██████████| 711/711 [00:04<00:00, 162.48it/s]\n"
     ]
    },
    {
     "name": "stdout",
     "output_type": "stream",
     "text": [
      "Train Accuracy: 0.6864, Val Accuracy: 0.5818, Test Accuracy: 0.5208\n",
      "Train loss: 1.0503\n",
      "\n",
      " Epoch 128 training:\n"
     ]
    },
    {
     "name": "stderr",
     "output_type": "stream",
     "text": [
      "100%|██████████| 711/711 [00:04<00:00, 165.98it/s]\n"
     ]
    },
    {
     "name": "stdout",
     "output_type": "stream",
     "text": [
      "Train Accuracy: 0.6928, Val Accuracy: 0.5926, Test Accuracy: 0.5284\n",
      "Train loss: 1.0516\n",
      "\n",
      " Epoch 129 training:\n"
     ]
    },
    {
     "name": "stderr",
     "output_type": "stream",
     "text": [
      "100%|██████████| 711/711 [00:04<00:00, 169.36it/s]\n"
     ]
    },
    {
     "name": "stdout",
     "output_type": "stream",
     "text": [
      "Train Accuracy: 0.6891, Val Accuracy: 0.5896, Test Accuracy: 0.5281\n",
      "Train loss: 1.0524\n",
      "\n",
      " Epoch 130 training:\n"
     ]
    },
    {
     "name": "stderr",
     "output_type": "stream",
     "text": [
      "100%|██████████| 711/711 [00:04<00:00, 163.25it/s]\n"
     ]
    },
    {
     "name": "stdout",
     "output_type": "stream",
     "text": [
      "Train Accuracy: 0.6920, Val Accuracy: 0.5884, Test Accuracy: 0.5275\n",
      "Train loss: 1.0481\n",
      "\n",
      " Epoch 131 training:\n"
     ]
    },
    {
     "name": "stderr",
     "output_type": "stream",
     "text": [
      "100%|██████████| 711/711 [00:04<00:00, 169.54it/s]\n"
     ]
    },
    {
     "name": "stdout",
     "output_type": "stream",
     "text": [
      "Train Accuracy: 0.6916, Val Accuracy: 0.5811, Test Accuracy: 0.5164\n",
      "Train loss: 1.0465\n",
      "\n",
      " Epoch 132 training:\n"
     ]
    },
    {
     "name": "stderr",
     "output_type": "stream",
     "text": [
      "100%|██████████| 711/711 [00:04<00:00, 155.42it/s]\n"
     ]
    },
    {
     "name": "stdout",
     "output_type": "stream",
     "text": [
      "Train Accuracy: 0.6902, Val Accuracy: 0.5828, Test Accuracy: 0.5209\n",
      "Train loss: 1.0496\n",
      "\n",
      " Epoch 133 training:\n"
     ]
    },
    {
     "name": "stderr",
     "output_type": "stream",
     "text": [
      "100%|██████████| 711/711 [00:04<00:00, 174.17it/s]\n"
     ]
    },
    {
     "name": "stdout",
     "output_type": "stream",
     "text": [
      "Train Accuracy: 0.6921, Val Accuracy: 0.5908, Test Accuracy: 0.5310\n",
      "Train loss: 1.0517\n",
      "\n",
      " Epoch 134 training:\n"
     ]
    },
    {
     "name": "stderr",
     "output_type": "stream",
     "text": [
      "100%|██████████| 711/711 [00:04<00:00, 150.86it/s]\n"
     ]
    },
    {
     "name": "stdout",
     "output_type": "stream",
     "text": [
      "Train Accuracy: 0.6921, Val Accuracy: 0.5938, Test Accuracy: 0.5374\n",
      "Train loss: 1.0515\n",
      "\n",
      " Epoch 135 training:\n"
     ]
    },
    {
     "name": "stderr",
     "output_type": "stream",
     "text": [
      "100%|██████████| 711/711 [00:04<00:00, 163.89it/s]\n"
     ]
    },
    {
     "name": "stdout",
     "output_type": "stream",
     "text": [
      "Train Accuracy: 0.6927, Val Accuracy: 0.5870, Test Accuracy: 0.5261\n",
      "Train loss: 1.0516\n",
      "\n",
      " Epoch 136 training:\n"
     ]
    },
    {
     "name": "stderr",
     "output_type": "stream",
     "text": [
      "100%|██████████| 711/711 [00:04<00:00, 176.99it/s]\n"
     ]
    },
    {
     "name": "stdout",
     "output_type": "stream",
     "text": [
      "Train Accuracy: 0.6855, Val Accuracy: 0.5916, Test Accuracy: 0.5311\n",
      "Train loss: 1.0457\n",
      "\n",
      " Epoch 137 training:\n"
     ]
    },
    {
     "name": "stderr",
     "output_type": "stream",
     "text": [
      "100%|██████████| 711/711 [00:04<00:00, 167.97it/s]\n"
     ]
    },
    {
     "name": "stdout",
     "output_type": "stream",
     "text": [
      "Train Accuracy: 0.6942, Val Accuracy: 0.5877, Test Accuracy: 0.5235\n",
      "Train loss: 1.0440\n",
      "\n",
      " Epoch 138 training:\n"
     ]
    },
    {
     "name": "stderr",
     "output_type": "stream",
     "text": [
      "100%|██████████| 711/711 [00:04<00:00, 167.14it/s]\n"
     ]
    },
    {
     "name": "stdout",
     "output_type": "stream",
     "text": [
      "Train Accuracy: 0.6927, Val Accuracy: 0.5874, Test Accuracy: 0.5206\n",
      "Train loss: 1.0481\n",
      "\n",
      " Epoch 139 training:\n"
     ]
    },
    {
     "name": "stderr",
     "output_type": "stream",
     "text": [
      "100%|██████████| 711/711 [00:04<00:00, 168.43it/s]\n"
     ]
    },
    {
     "name": "stdout",
     "output_type": "stream",
     "text": [
      "Train Accuracy: 0.6965, Val Accuracy: 0.5847, Test Accuracy: 0.5181\n",
      "Train loss: 1.0466\n",
      "\n",
      " Epoch 140 training:\n"
     ]
    },
    {
     "name": "stderr",
     "output_type": "stream",
     "text": [
      "100%|██████████| 711/711 [00:04<00:00, 171.93it/s]\n"
     ]
    },
    {
     "name": "stdout",
     "output_type": "stream",
     "text": [
      "Train Accuracy: 0.6931, Val Accuracy: 0.5866, Test Accuracy: 0.5206\n",
      "Train loss: 1.0451\n",
      "\n",
      " Epoch 141 training:\n"
     ]
    },
    {
     "name": "stderr",
     "output_type": "stream",
     "text": [
      "100%|██████████| 711/711 [00:04<00:00, 164.33it/s]\n"
     ]
    },
    {
     "name": "stdout",
     "output_type": "stream",
     "text": [
      "Train Accuracy: 0.6941, Val Accuracy: 0.5908, Test Accuracy: 0.5205\n",
      "Train loss: 1.0463\n",
      "\n",
      " Epoch 142 training:\n"
     ]
    },
    {
     "name": "stderr",
     "output_type": "stream",
     "text": [
      "100%|██████████| 711/711 [00:04<00:00, 167.80it/s]\n"
     ]
    },
    {
     "name": "stdout",
     "output_type": "stream",
     "text": [
      "Train Accuracy: 0.6942, Val Accuracy: 0.5950, Test Accuracy: 0.5377\n",
      "Train loss: 1.0481\n",
      "\n",
      " Epoch 143 training:\n"
     ]
    },
    {
     "name": "stderr",
     "output_type": "stream",
     "text": [
      "100%|██████████| 711/711 [00:04<00:00, 170.31it/s]\n"
     ]
    },
    {
     "name": "stdout",
     "output_type": "stream",
     "text": [
      "Train Accuracy: 0.6914, Val Accuracy: 0.5884, Test Accuracy: 0.5293\n",
      "Train loss: 1.0455\n",
      "\n",
      " Epoch 144 training:\n"
     ]
    },
    {
     "name": "stderr",
     "output_type": "stream",
     "text": [
      "100%|██████████| 711/711 [00:04<00:00, 164.64it/s]\n"
     ]
    },
    {
     "name": "stdout",
     "output_type": "stream",
     "text": [
      "Train Accuracy: 0.6867, Val Accuracy: 0.5803, Test Accuracy: 0.5198\n",
      "Train loss: 1.0478\n",
      "\n",
      " Epoch 145 training:\n"
     ]
    },
    {
     "name": "stderr",
     "output_type": "stream",
     "text": [
      "100%|██████████| 711/711 [00:04<00:00, 153.88it/s]\n"
     ]
    },
    {
     "name": "stdout",
     "output_type": "stream",
     "text": [
      "Train Accuracy: 0.6956, Val Accuracy: 0.5918, Test Accuracy: 0.5264\n",
      "Train loss: 1.0446\n",
      "\n",
      " Epoch 146 training:\n"
     ]
    },
    {
     "name": "stderr",
     "output_type": "stream",
     "text": [
      "100%|██████████| 711/711 [00:04<00:00, 153.69it/s]\n"
     ]
    },
    {
     "name": "stdout",
     "output_type": "stream",
     "text": [
      "Train Accuracy: 0.6947, Val Accuracy: 0.5892, Test Accuracy: 0.5320\n",
      "Train loss: 1.0459\n",
      "\n",
      " Epoch 147 training:\n"
     ]
    },
    {
     "name": "stderr",
     "output_type": "stream",
     "text": [
      "100%|██████████| 711/711 [00:04<00:00, 162.76it/s]\n"
     ]
    },
    {
     "name": "stdout",
     "output_type": "stream",
     "text": [
      "Train Accuracy: 0.6937, Val Accuracy: 0.5898, Test Accuracy: 0.5305\n",
      "Train loss: 1.0450\n",
      "\n",
      " Epoch 148 training:\n"
     ]
    },
    {
     "name": "stderr",
     "output_type": "stream",
     "text": [
      "100%|██████████| 711/711 [00:04<00:00, 151.07it/s]\n"
     ]
    },
    {
     "name": "stdout",
     "output_type": "stream",
     "text": [
      "Train Accuracy: 0.6949, Val Accuracy: 0.5893, Test Accuracy: 0.5261\n",
      "Train loss: 1.0444\n",
      "\n",
      " Epoch 149 training:\n"
     ]
    },
    {
     "name": "stderr",
     "output_type": "stream",
     "text": [
      "100%|██████████| 711/711 [00:04<00:00, 157.40it/s]\n"
     ]
    },
    {
     "name": "stdout",
     "output_type": "stream",
     "text": [
      "Train Accuracy: 0.6951, Val Accuracy: 0.5823, Test Accuracy: 0.5187\n",
      "Train loss: 1.0412\n",
      "\n",
      " Epoch 150 training:\n"
     ]
    },
    {
     "name": "stderr",
     "output_type": "stream",
     "text": [
      "100%|██████████| 711/711 [00:04<00:00, 164.85it/s]\n"
     ]
    },
    {
     "name": "stdout",
     "output_type": "stream",
     "text": [
      "Train Accuracy: 0.6935, Val Accuracy: 0.5817, Test Accuracy: 0.5179\n",
      "Train loss: 1.0434\n",
      "\n",
      " Epoch 151 training:\n"
     ]
    },
    {
     "name": "stderr",
     "output_type": "stream",
     "text": [
      "100%|██████████| 711/711 [00:04<00:00, 164.24it/s]\n"
     ]
    },
    {
     "name": "stdout",
     "output_type": "stream",
     "text": [
      "Train Accuracy: 0.6953, Val Accuracy: 0.5870, Test Accuracy: 0.5190\n",
      "Train loss: 1.0417\n",
      "\n",
      " Epoch 152 training:\n"
     ]
    },
    {
     "name": "stderr",
     "output_type": "stream",
     "text": [
      "100%|██████████| 711/711 [00:04<00:00, 167.78it/s]\n"
     ]
    },
    {
     "name": "stdout",
     "output_type": "stream",
     "text": [
      "Train Accuracy: 0.6957, Val Accuracy: 0.5916, Test Accuracy: 0.5289\n",
      "Train loss: 1.0425\n",
      "\n",
      " Epoch 153 training:\n"
     ]
    },
    {
     "name": "stderr",
     "output_type": "stream",
     "text": [
      "100%|██████████| 711/711 [00:04<00:00, 165.37it/s]\n"
     ]
    },
    {
     "name": "stdout",
     "output_type": "stream",
     "text": [
      "Train Accuracy: 0.6948, Val Accuracy: 0.5884, Test Accuracy: 0.5205\n",
      "Train loss: 1.0396\n",
      "\n",
      " Epoch 154 training:\n"
     ]
    },
    {
     "name": "stderr",
     "output_type": "stream",
     "text": [
      "100%|██████████| 711/711 [00:04<00:00, 162.31it/s]\n"
     ]
    },
    {
     "name": "stdout",
     "output_type": "stream",
     "text": [
      "Train Accuracy: 0.6967, Val Accuracy: 0.5920, Test Accuracy: 0.5255\n",
      "Train loss: 1.0437\n",
      "\n",
      " Epoch 155 training:\n"
     ]
    },
    {
     "name": "stderr",
     "output_type": "stream",
     "text": [
      "100%|██████████| 711/711 [00:04<00:00, 168.83it/s]\n"
     ]
    },
    {
     "name": "stdout",
     "output_type": "stream",
     "text": [
      "Train Accuracy: 0.6928, Val Accuracy: 0.5877, Test Accuracy: 0.5203\n",
      "Train loss: 1.0420\n",
      "\n",
      " Epoch 156 training:\n"
     ]
    },
    {
     "name": "stderr",
     "output_type": "stream",
     "text": [
      "100%|██████████| 711/711 [00:04<00:00, 155.99it/s]\n"
     ]
    },
    {
     "name": "stdout",
     "output_type": "stream",
     "text": [
      "Train Accuracy: 0.6956, Val Accuracy: 0.5836, Test Accuracy: 0.5174\n",
      "Train loss: 1.0385\n",
      "\n",
      " Epoch 157 training:\n"
     ]
    },
    {
     "name": "stderr",
     "output_type": "stream",
     "text": [
      "100%|██████████| 711/711 [00:04<00:00, 155.67it/s]\n"
     ]
    },
    {
     "name": "stdout",
     "output_type": "stream",
     "text": [
      "Train Accuracy: 0.6966, Val Accuracy: 0.5868, Test Accuracy: 0.5249\n",
      "Train loss: 1.0404\n",
      "\n",
      " Epoch 158 training:\n"
     ]
    },
    {
     "name": "stderr",
     "output_type": "stream",
     "text": [
      "100%|██████████| 711/711 [00:04<00:00, 161.66it/s]\n"
     ]
    },
    {
     "name": "stdout",
     "output_type": "stream",
     "text": [
      "Train Accuracy: 0.6968, Val Accuracy: 0.5892, Test Accuracy: 0.5248\n",
      "Train loss: 1.0407\n",
      "\n",
      " Epoch 159 training:\n"
     ]
    },
    {
     "name": "stderr",
     "output_type": "stream",
     "text": [
      "100%|██████████| 711/711 [00:04<00:00, 164.76it/s]\n"
     ]
    },
    {
     "name": "stdout",
     "output_type": "stream",
     "text": [
      "Train Accuracy: 0.6940, Val Accuracy: 0.5899, Test Accuracy: 0.5204\n",
      "Train loss: 1.0456\n",
      "\n",
      " Epoch 160 training:\n"
     ]
    },
    {
     "name": "stderr",
     "output_type": "stream",
     "text": [
      "100%|██████████| 711/711 [00:04<00:00, 166.79it/s]\n"
     ]
    },
    {
     "name": "stdout",
     "output_type": "stream",
     "text": [
      "Train Accuracy: 0.6959, Val Accuracy: 0.5918, Test Accuracy: 0.5290\n",
      "Train loss: 1.0378\n",
      "\n",
      " Epoch 161 training:\n"
     ]
    },
    {
     "name": "stderr",
     "output_type": "stream",
     "text": [
      "100%|██████████| 711/711 [00:04<00:00, 153.28it/s]\n"
     ]
    },
    {
     "name": "stdout",
     "output_type": "stream",
     "text": [
      "Train Accuracy: 0.6962, Val Accuracy: 0.5932, Test Accuracy: 0.5300\n",
      "Train loss: 1.0384\n",
      "\n",
      " Epoch 162 training:\n"
     ]
    },
    {
     "name": "stderr",
     "output_type": "stream",
     "text": [
      "100%|██████████| 711/711 [00:04<00:00, 160.50it/s]\n"
     ]
    },
    {
     "name": "stdout",
     "output_type": "stream",
     "text": [
      "Train Accuracy: 0.6940, Val Accuracy: 0.5920, Test Accuracy: 0.5270\n",
      "Train loss: 1.0368\n",
      "\n",
      " Epoch 163 training:\n"
     ]
    },
    {
     "name": "stderr",
     "output_type": "stream",
     "text": [
      "100%|██████████| 711/711 [00:04<00:00, 175.22it/s]\n"
     ]
    },
    {
     "name": "stdout",
     "output_type": "stream",
     "text": [
      "Train Accuracy: 0.6911, Val Accuracy: 0.5800, Test Accuracy: 0.5087\n",
      "Train loss: 1.0379\n",
      "\n",
      " Epoch 164 training:\n"
     ]
    },
    {
     "name": "stderr",
     "output_type": "stream",
     "text": [
      "100%|██████████| 711/711 [00:04<00:00, 166.63it/s]\n"
     ]
    },
    {
     "name": "stdout",
     "output_type": "stream",
     "text": [
      "Train Accuracy: 0.6937, Val Accuracy: 0.5878, Test Accuracy: 0.5248\n",
      "Train loss: 1.0360\n",
      "\n",
      " Epoch 165 training:\n"
     ]
    },
    {
     "name": "stderr",
     "output_type": "stream",
     "text": [
      "100%|██████████| 711/711 [00:04<00:00, 159.24it/s]\n"
     ]
    },
    {
     "name": "stdout",
     "output_type": "stream",
     "text": [
      "Train Accuracy: 0.6970, Val Accuracy: 0.5925, Test Accuracy: 0.5292\n",
      "Train loss: 1.0389\n",
      "\n",
      " Epoch 166 training:\n"
     ]
    },
    {
     "name": "stderr",
     "output_type": "stream",
     "text": [
      "100%|██████████| 711/711 [00:04<00:00, 161.01it/s]\n"
     ]
    },
    {
     "name": "stdout",
     "output_type": "stream",
     "text": [
      "Train Accuracy: 0.6930, Val Accuracy: 0.5953, Test Accuracy: 0.5353\n",
      "Train loss: 1.0398\n",
      "\n",
      " Epoch 167 training:\n"
     ]
    },
    {
     "name": "stderr",
     "output_type": "stream",
     "text": [
      "100%|██████████| 711/711 [00:04<00:00, 164.02it/s]\n"
     ]
    },
    {
     "name": "stdout",
     "output_type": "stream",
     "text": [
      "Train Accuracy: 0.6929, Val Accuracy: 0.5922, Test Accuracy: 0.5306\n",
      "Train loss: 1.0371\n",
      "\n",
      " Epoch 168 training:\n"
     ]
    },
    {
     "name": "stderr",
     "output_type": "stream",
     "text": [
      "100%|██████████| 711/711 [00:04<00:00, 155.79it/s]\n"
     ]
    },
    {
     "name": "stdout",
     "output_type": "stream",
     "text": [
      "Train Accuracy: 0.6938, Val Accuracy: 0.5827, Test Accuracy: 0.5144\n",
      "Train loss: 1.0368\n",
      "\n",
      " Epoch 169 training:\n"
     ]
    },
    {
     "name": "stderr",
     "output_type": "stream",
     "text": [
      "100%|██████████| 711/711 [00:04<00:00, 154.61it/s]\n"
     ]
    },
    {
     "name": "stdout",
     "output_type": "stream",
     "text": [
      "Train Accuracy: 0.6959, Val Accuracy: 0.5931, Test Accuracy: 0.5297\n",
      "Train loss: 1.0352\n",
      "\n",
      " Epoch 170 training:\n"
     ]
    },
    {
     "name": "stderr",
     "output_type": "stream",
     "text": [
      "100%|██████████| 711/711 [00:04<00:00, 162.81it/s]\n"
     ]
    },
    {
     "name": "stdout",
     "output_type": "stream",
     "text": [
      "Train Accuracy: 0.6952, Val Accuracy: 0.5886, Test Accuracy: 0.5245\n",
      "Train loss: 1.0342\n",
      "\n",
      " Epoch 171 training:\n"
     ]
    },
    {
     "name": "stderr",
     "output_type": "stream",
     "text": [
      "100%|██████████| 711/711 [00:04<00:00, 165.77it/s]\n"
     ]
    },
    {
     "name": "stdout",
     "output_type": "stream",
     "text": [
      "Train Accuracy: 0.6952, Val Accuracy: 0.5885, Test Accuracy: 0.5219\n",
      "Train loss: 1.0352\n",
      "\n",
      " Epoch 172 training:\n"
     ]
    },
    {
     "name": "stderr",
     "output_type": "stream",
     "text": [
      "100%|██████████| 711/711 [00:04<00:00, 169.79it/s]\n"
     ]
    },
    {
     "name": "stdout",
     "output_type": "stream",
     "text": [
      "Train Accuracy: 0.6958, Val Accuracy: 0.5873, Test Accuracy: 0.5191\n",
      "Train loss: 1.0356\n",
      "\n",
      " Epoch 173 training:\n"
     ]
    },
    {
     "name": "stderr",
     "output_type": "stream",
     "text": [
      "100%|██████████| 711/711 [00:04<00:00, 164.45it/s]\n"
     ]
    },
    {
     "name": "stdout",
     "output_type": "stream",
     "text": [
      "Train Accuracy: 0.6954, Val Accuracy: 0.5912, Test Accuracy: 0.5268\n",
      "Train loss: 1.0353\n",
      "\n",
      " Epoch 174 training:\n"
     ]
    },
    {
     "name": "stderr",
     "output_type": "stream",
     "text": [
      "100%|██████████| 711/711 [00:04<00:00, 170.09it/s]\n"
     ]
    },
    {
     "name": "stdout",
     "output_type": "stream",
     "text": [
      "Train Accuracy: 0.6965, Val Accuracy: 0.5935, Test Accuracy: 0.5272\n",
      "Train loss: 1.0339\n",
      "\n",
      " Epoch 175 training:\n"
     ]
    },
    {
     "name": "stderr",
     "output_type": "stream",
     "text": [
      "100%|██████████| 711/711 [00:04<00:00, 157.30it/s]\n"
     ]
    },
    {
     "name": "stdout",
     "output_type": "stream",
     "text": [
      "Train Accuracy: 0.6941, Val Accuracy: 0.5906, Test Accuracy: 0.5263\n",
      "Train loss: 1.0356\n",
      "\n",
      " Epoch 176 training:\n"
     ]
    },
    {
     "name": "stderr",
     "output_type": "stream",
     "text": [
      "100%|██████████| 711/711 [00:04<00:00, 166.56it/s]\n"
     ]
    },
    {
     "name": "stdout",
     "output_type": "stream",
     "text": [
      "Train Accuracy: 0.6982, Val Accuracy: 0.5826, Test Accuracy: 0.5194\n",
      "Train loss: 1.0310\n",
      "\n",
      " Epoch 177 training:\n"
     ]
    },
    {
     "name": "stderr",
     "output_type": "stream",
     "text": [
      "100%|██████████| 711/711 [00:04<00:00, 170.51it/s]\n"
     ]
    },
    {
     "name": "stdout",
     "output_type": "stream",
     "text": [
      "Train Accuracy: 0.6958, Val Accuracy: 0.5849, Test Accuracy: 0.5187\n",
      "Train loss: 1.0325\n",
      "\n",
      " Epoch 178 training:\n"
     ]
    },
    {
     "name": "stderr",
     "output_type": "stream",
     "text": [
      "100%|██████████| 711/711 [00:04<00:00, 157.28it/s]\n"
     ]
    },
    {
     "name": "stdout",
     "output_type": "stream",
     "text": [
      "Train Accuracy: 0.6915, Val Accuracy: 0.5832, Test Accuracy: 0.5204\n",
      "Train loss: 1.0334\n",
      "\n",
      " Epoch 179 training:\n"
     ]
    },
    {
     "name": "stderr",
     "output_type": "stream",
     "text": [
      "100%|██████████| 711/711 [00:04<00:00, 150.08it/s]\n"
     ]
    },
    {
     "name": "stdout",
     "output_type": "stream",
     "text": [
      "Train Accuracy: 0.6977, Val Accuracy: 0.5856, Test Accuracy: 0.5147\n",
      "Train loss: 1.0326\n",
      "\n",
      " Epoch 180 training:\n"
     ]
    },
    {
     "name": "stderr",
     "output_type": "stream",
     "text": [
      "100%|██████████| 711/711 [00:04<00:00, 166.83it/s]\n"
     ]
    },
    {
     "name": "stdout",
     "output_type": "stream",
     "text": [
      "Train Accuracy: 0.6929, Val Accuracy: 0.5956, Test Accuracy: 0.5311\n",
      "Train loss: 1.0306\n",
      "\n",
      " Epoch 181 training:\n"
     ]
    },
    {
     "name": "stderr",
     "output_type": "stream",
     "text": [
      "100%|██████████| 711/711 [00:04<00:00, 158.89it/s]\n"
     ]
    },
    {
     "name": "stdout",
     "output_type": "stream",
     "text": [
      "Train Accuracy: 0.6923, Val Accuracy: 0.5766, Test Accuracy: 0.5064\n",
      "Train loss: 1.0361\n",
      "\n",
      " Epoch 182 training:\n"
     ]
    },
    {
     "name": "stderr",
     "output_type": "stream",
     "text": [
      "100%|██████████| 711/711 [00:04<00:00, 155.14it/s]\n"
     ]
    },
    {
     "name": "stdout",
     "output_type": "stream",
     "text": [
      "Train Accuracy: 0.6987, Val Accuracy: 0.5877, Test Accuracy: 0.5191\n",
      "Train loss: 1.0363\n",
      "\n",
      " Epoch 183 training:\n"
     ]
    },
    {
     "name": "stderr",
     "output_type": "stream",
     "text": [
      "100%|██████████| 711/711 [00:04<00:00, 160.37it/s]\n"
     ]
    },
    {
     "name": "stdout",
     "output_type": "stream",
     "text": [
      "Train Accuracy: 0.6964, Val Accuracy: 0.5892, Test Accuracy: 0.5278\n",
      "Train loss: 1.0331\n",
      "\n",
      " Epoch 184 training:\n"
     ]
    },
    {
     "name": "stderr",
     "output_type": "stream",
     "text": [
      "100%|██████████| 711/711 [00:04<00:00, 155.40it/s]\n"
     ]
    },
    {
     "name": "stdout",
     "output_type": "stream",
     "text": [
      "Train Accuracy: 0.6952, Val Accuracy: 0.5860, Test Accuracy: 0.5233\n",
      "Train loss: 1.0341\n",
      "\n",
      " Epoch 185 training:\n"
     ]
    },
    {
     "name": "stderr",
     "output_type": "stream",
     "text": [
      "100%|██████████| 711/711 [00:04<00:00, 163.81it/s]\n"
     ]
    },
    {
     "name": "stdout",
     "output_type": "stream",
     "text": [
      "Train Accuracy: 0.6970, Val Accuracy: 0.5883, Test Accuracy: 0.5206\n",
      "Train loss: 1.0340\n",
      "\n",
      " Epoch 186 training:\n"
     ]
    },
    {
     "name": "stderr",
     "output_type": "stream",
     "text": [
      "100%|██████████| 711/711 [00:04<00:00, 163.44it/s]\n"
     ]
    },
    {
     "name": "stdout",
     "output_type": "stream",
     "text": [
      "Train Accuracy: 0.7003, Val Accuracy: 0.5903, Test Accuracy: 0.5278\n",
      "Train loss: 1.0345\n",
      "\n",
      " Epoch 187 training:\n"
     ]
    },
    {
     "name": "stderr",
     "output_type": "stream",
     "text": [
      "100%|██████████| 711/711 [00:04<00:00, 176.21it/s]\n"
     ]
    },
    {
     "name": "stdout",
     "output_type": "stream",
     "text": [
      "Train Accuracy: 0.6960, Val Accuracy: 0.5894, Test Accuracy: 0.5271\n",
      "Train loss: 1.0304\n",
      "\n",
      " Epoch 188 training:\n"
     ]
    },
    {
     "name": "stderr",
     "output_type": "stream",
     "text": [
      "100%|██████████| 711/711 [00:04<00:00, 175.08it/s]\n"
     ]
    },
    {
     "name": "stdout",
     "output_type": "stream",
     "text": [
      "Train Accuracy: 0.6976, Val Accuracy: 0.5856, Test Accuracy: 0.5212\n",
      "Train loss: 1.0342\n",
      "\n",
      " Epoch 189 training:\n"
     ]
    },
    {
     "name": "stderr",
     "output_type": "stream",
     "text": [
      "100%|██████████| 711/711 [00:04<00:00, 165.90it/s]\n"
     ]
    },
    {
     "name": "stdout",
     "output_type": "stream",
     "text": [
      "Train Accuracy: 0.6939, Val Accuracy: 0.5809, Test Accuracy: 0.5148\n",
      "Train loss: 1.0308\n",
      "\n",
      " Epoch 190 training:\n"
     ]
    },
    {
     "name": "stderr",
     "output_type": "stream",
     "text": [
      "100%|██████████| 711/711 [00:04<00:00, 172.41it/s]\n"
     ]
    },
    {
     "name": "stdout",
     "output_type": "stream",
     "text": [
      "Train Accuracy: 0.6963, Val Accuracy: 0.5934, Test Accuracy: 0.5317\n",
      "Train loss: 1.0352\n",
      "\n",
      " Epoch 191 training:\n"
     ]
    },
    {
     "name": "stderr",
     "output_type": "stream",
     "text": [
      "100%|██████████| 711/711 [00:04<00:00, 159.88it/s]\n"
     ]
    },
    {
     "name": "stdout",
     "output_type": "stream",
     "text": [
      "Train Accuracy: 0.6929, Val Accuracy: 0.5852, Test Accuracy: 0.5211\n",
      "Train loss: 1.0309\n",
      "\n",
      " Epoch 192 training:\n"
     ]
    },
    {
     "name": "stderr",
     "output_type": "stream",
     "text": [
      "100%|██████████| 711/711 [00:04<00:00, 163.55it/s]\n"
     ]
    },
    {
     "name": "stdout",
     "output_type": "stream",
     "text": [
      "Train Accuracy: 0.6905, Val Accuracy: 0.5877, Test Accuracy: 0.5285\n",
      "Train loss: 1.0320\n",
      "\n",
      " Epoch 193 training:\n"
     ]
    },
    {
     "name": "stderr",
     "output_type": "stream",
     "text": [
      "100%|██████████| 711/711 [00:04<00:00, 168.33it/s]\n"
     ]
    },
    {
     "name": "stdout",
     "output_type": "stream",
     "text": [
      "Train Accuracy: 0.6971, Val Accuracy: 0.5867, Test Accuracy: 0.5258\n",
      "Train loss: 1.0303\n",
      "\n",
      " Epoch 194 training:\n"
     ]
    },
    {
     "name": "stderr",
     "output_type": "stream",
     "text": [
      "100%|██████████| 711/711 [00:04<00:00, 165.76it/s]\n"
     ]
    },
    {
     "name": "stdout",
     "output_type": "stream",
     "text": [
      "Train Accuracy: 0.6995, Val Accuracy: 0.5879, Test Accuracy: 0.5196\n",
      "Train loss: 1.0331\n",
      "\n",
      " Epoch 195 training:\n"
     ]
    },
    {
     "name": "stderr",
     "output_type": "stream",
     "text": [
      "100%|██████████| 711/711 [00:04<00:00, 160.20it/s]\n"
     ]
    },
    {
     "name": "stdout",
     "output_type": "stream",
     "text": [
      "Train Accuracy: 0.6969, Val Accuracy: 0.5924, Test Accuracy: 0.5270\n",
      "Train loss: 1.0280\n",
      "\n",
      " Epoch 196 training:\n"
     ]
    },
    {
     "name": "stderr",
     "output_type": "stream",
     "text": [
      "100%|██████████| 711/711 [00:04<00:00, 156.46it/s]\n"
     ]
    },
    {
     "name": "stdout",
     "output_type": "stream",
     "text": [
      "Train Accuracy: 0.6949, Val Accuracy: 0.5923, Test Accuracy: 0.5305\n",
      "Train loss: 1.0320\n",
      "\n",
      " Epoch 197 training:\n"
     ]
    },
    {
     "name": "stderr",
     "output_type": "stream",
     "text": [
      "100%|██████████| 711/711 [00:04<00:00, 155.24it/s]\n"
     ]
    },
    {
     "name": "stdout",
     "output_type": "stream",
     "text": [
      "Train Accuracy: 0.6942, Val Accuracy: 0.5867, Test Accuracy: 0.5191\n",
      "Train loss: 1.0299\n",
      "\n",
      " Epoch 198 training:\n"
     ]
    },
    {
     "name": "stderr",
     "output_type": "stream",
     "text": [
      "100%|██████████| 711/711 [00:04<00:00, 166.89it/s]\n"
     ]
    },
    {
     "name": "stdout",
     "output_type": "stream",
     "text": [
      "Train Accuracy: 0.6923, Val Accuracy: 0.5921, Test Accuracy: 0.5306\n",
      "Train loss: 1.0302\n",
      "\n",
      " Epoch 199 training:\n"
     ]
    },
    {
     "name": "stderr",
     "output_type": "stream",
     "text": [
      "100%|██████████| 711/711 [00:04<00:00, 165.76it/s]\n"
     ]
    },
    {
     "name": "stdout",
     "output_type": "stream",
     "text": [
      "Train Accuracy: 0.7002, Val Accuracy: 0.5862, Test Accuracy: 0.5228\n",
      "Train loss: 1.0313\n",
      "\n",
      " Epoch 200 training:\n"
     ]
    },
    {
     "name": "stderr",
     "output_type": "stream",
     "text": [
      "100%|██████████| 711/711 [00:04<00:00, 165.05it/s]\n"
     ]
    },
    {
     "name": "stdout",
     "output_type": "stream",
     "text": [
      "Train Accuracy: 0.6985, Val Accuracy: 0.5904, Test Accuracy: 0.5263\n",
      "Train loss: 1.0320\n",
      "\n",
      " Epoch 201 training:\n"
     ]
    },
    {
     "name": "stderr",
     "output_type": "stream",
     "text": [
      "100%|██████████| 711/711 [00:04<00:00, 162.15it/s]\n"
     ]
    },
    {
     "name": "stdout",
     "output_type": "stream",
     "text": [
      "Train Accuracy: 0.6972, Val Accuracy: 0.5912, Test Accuracy: 0.5258\n",
      "Train loss: 1.0311\n",
      "\n",
      " Epoch 202 training:\n"
     ]
    },
    {
     "name": "stderr",
     "output_type": "stream",
     "text": [
      "100%|██████████| 711/711 [00:04<00:00, 157.11it/s]\n"
     ]
    },
    {
     "name": "stdout",
     "output_type": "stream",
     "text": [
      "Train Accuracy: 0.6993, Val Accuracy: 0.5900, Test Accuracy: 0.5293\n",
      "Train loss: 1.0298\n",
      "\n",
      " Epoch 203 training:\n"
     ]
    },
    {
     "name": "stderr",
     "output_type": "stream",
     "text": [
      "100%|██████████| 711/711 [00:04<00:00, 152.74it/s]\n"
     ]
    },
    {
     "name": "stdout",
     "output_type": "stream",
     "text": [
      "Train Accuracy: 0.6984, Val Accuracy: 0.5923, Test Accuracy: 0.5310\n",
      "Train loss: 1.0265\n",
      "\n",
      " Epoch 204 training:\n"
     ]
    },
    {
     "name": "stderr",
     "output_type": "stream",
     "text": [
      "100%|██████████| 711/711 [00:04<00:00, 163.81it/s]\n"
     ]
    },
    {
     "name": "stdout",
     "output_type": "stream",
     "text": [
      "Train Accuracy: 0.6951, Val Accuracy: 0.5855, Test Accuracy: 0.5204\n",
      "Train loss: 1.0255\n",
      "\n",
      " Epoch 205 training:\n"
     ]
    },
    {
     "name": "stderr",
     "output_type": "stream",
     "text": [
      "100%|██████████| 711/711 [00:04<00:00, 154.36it/s]\n"
     ]
    },
    {
     "name": "stdout",
     "output_type": "stream",
     "text": [
      "Train Accuracy: 0.6936, Val Accuracy: 0.5744, Test Accuracy: 0.5094\n",
      "Train loss: 1.0304\n",
      "\n",
      " Epoch 206 training:\n"
     ]
    },
    {
     "name": "stderr",
     "output_type": "stream",
     "text": [
      "100%|██████████| 711/711 [00:04<00:00, 157.48it/s]\n"
     ]
    },
    {
     "name": "stdout",
     "output_type": "stream",
     "text": [
      "Train Accuracy: 0.6995, Val Accuracy: 0.5950, Test Accuracy: 0.5347\n",
      "Train loss: 1.0274\n",
      "\n",
      " Epoch 207 training:\n"
     ]
    },
    {
     "name": "stderr",
     "output_type": "stream",
     "text": [
      "100%|██████████| 711/711 [00:04<00:00, 165.80it/s]\n"
     ]
    },
    {
     "name": "stdout",
     "output_type": "stream",
     "text": [
      "Train Accuracy: 0.6979, Val Accuracy: 0.5852, Test Accuracy: 0.5250\n",
      "Train loss: 1.0284\n",
      "\n",
      " Epoch 208 training:\n"
     ]
    },
    {
     "name": "stderr",
     "output_type": "stream",
     "text": [
      "100%|██████████| 711/711 [00:04<00:00, 174.67it/s]\n"
     ]
    },
    {
     "name": "stdout",
     "output_type": "stream",
     "text": [
      "Train Accuracy: 0.6969, Val Accuracy: 0.5862, Test Accuracy: 0.5224\n",
      "Train loss: 1.0252\n",
      "\n",
      " Epoch 209 training:\n"
     ]
    },
    {
     "name": "stderr",
     "output_type": "stream",
     "text": [
      "100%|██████████| 711/711 [00:04<00:00, 163.17it/s]\n"
     ]
    },
    {
     "name": "stdout",
     "output_type": "stream",
     "text": [
      "Train Accuracy: 0.6966, Val Accuracy: 0.5895, Test Accuracy: 0.5269\n",
      "Train loss: 1.0252\n",
      "\n",
      " Epoch 210 training:\n"
     ]
    },
    {
     "name": "stderr",
     "output_type": "stream",
     "text": [
      "100%|██████████| 711/711 [00:04<00:00, 158.83it/s]\n"
     ]
    },
    {
     "name": "stdout",
     "output_type": "stream",
     "text": [
      "Train Accuracy: 0.6990, Val Accuracy: 0.5899, Test Accuracy: 0.5244\n",
      "Train loss: 1.0276\n",
      "\n",
      " Epoch 211 training:\n"
     ]
    },
    {
     "name": "stderr",
     "output_type": "stream",
     "text": [
      "100%|██████████| 711/711 [00:04<00:00, 171.53it/s]\n"
     ]
    },
    {
     "name": "stdout",
     "output_type": "stream",
     "text": [
      "Train Accuracy: 0.6953, Val Accuracy: 0.5880, Test Accuracy: 0.5268\n",
      "Train loss: 1.0253\n",
      "\n",
      " Epoch 212 training:\n"
     ]
    },
    {
     "name": "stderr",
     "output_type": "stream",
     "text": [
      "100%|██████████| 711/711 [00:04<00:00, 167.56it/s]\n"
     ]
    },
    {
     "name": "stdout",
     "output_type": "stream",
     "text": [
      "Train Accuracy: 0.6979, Val Accuracy: 0.5869, Test Accuracy: 0.5235\n",
      "Train loss: 1.0237\n",
      "\n",
      " Epoch 213 training:\n"
     ]
    },
    {
     "name": "stderr",
     "output_type": "stream",
     "text": [
      "100%|██████████| 711/711 [00:04<00:00, 158.22it/s]\n"
     ]
    },
    {
     "name": "stdout",
     "output_type": "stream",
     "text": [
      "Train Accuracy: 0.6996, Val Accuracy: 0.5908, Test Accuracy: 0.5262\n",
      "Train loss: 1.0263\n",
      "\n",
      " Epoch 214 training:\n"
     ]
    },
    {
     "name": "stderr",
     "output_type": "stream",
     "text": [
      "100%|██████████| 711/711 [00:04<00:00, 175.91it/s]\n"
     ]
    },
    {
     "name": "stdout",
     "output_type": "stream",
     "text": [
      "Train Accuracy: 0.6989, Val Accuracy: 0.5825, Test Accuracy: 0.5170\n",
      "Train loss: 1.0237\n",
      "\n",
      " Epoch 215 training:\n"
     ]
    },
    {
     "name": "stderr",
     "output_type": "stream",
     "text": [
      "100%|██████████| 711/711 [00:04<00:00, 164.03it/s]\n"
     ]
    },
    {
     "name": "stdout",
     "output_type": "stream",
     "text": [
      "Train Accuracy: 0.6993, Val Accuracy: 0.5865, Test Accuracy: 0.5212\n",
      "Train loss: 1.0249\n",
      "\n",
      " Epoch 216 training:\n"
     ]
    },
    {
     "name": "stderr",
     "output_type": "stream",
     "text": [
      "100%|██████████| 711/711 [00:04<00:00, 173.88it/s]\n"
     ]
    },
    {
     "name": "stdout",
     "output_type": "stream",
     "text": [
      "Train Accuracy: 0.6969, Val Accuracy: 0.5881, Test Accuracy: 0.5230\n",
      "Train loss: 1.0223\n",
      "\n",
      " Epoch 217 training:\n"
     ]
    },
    {
     "name": "stderr",
     "output_type": "stream",
     "text": [
      "100%|██████████| 711/711 [00:04<00:00, 160.54it/s]\n"
     ]
    },
    {
     "name": "stdout",
     "output_type": "stream",
     "text": [
      "Train Accuracy: 0.7001, Val Accuracy: 0.5922, Test Accuracy: 0.5280\n",
      "Train loss: 1.0270\n",
      "\n",
      " Epoch 218 training:\n"
     ]
    },
    {
     "name": "stderr",
     "output_type": "stream",
     "text": [
      "100%|██████████| 711/711 [00:04<00:00, 171.34it/s]\n"
     ]
    },
    {
     "name": "stdout",
     "output_type": "stream",
     "text": [
      "Train Accuracy: 0.6996, Val Accuracy: 0.5836, Test Accuracy: 0.5172\n",
      "Train loss: 1.0273\n",
      "\n",
      " Epoch 219 training:\n"
     ]
    },
    {
     "name": "stderr",
     "output_type": "stream",
     "text": [
      "100%|██████████| 711/711 [00:04<00:00, 156.31it/s]\n"
     ]
    },
    {
     "name": "stdout",
     "output_type": "stream",
     "text": [
      "Train Accuracy: 0.6965, Val Accuracy: 0.5908, Test Accuracy: 0.5256\n",
      "Train loss: 1.0212\n",
      "\n",
      " Epoch 220 training:\n"
     ]
    },
    {
     "name": "stderr",
     "output_type": "stream",
     "text": [
      "100%|██████████| 711/711 [00:04<00:00, 172.90it/s]\n"
     ]
    },
    {
     "name": "stdout",
     "output_type": "stream",
     "text": [
      "Train Accuracy: 0.6989, Val Accuracy: 0.5856, Test Accuracy: 0.5215\n",
      "Train loss: 1.0200\n",
      "\n",
      " Epoch 221 training:\n"
     ]
    },
    {
     "name": "stderr",
     "output_type": "stream",
     "text": [
      "100%|██████████| 711/711 [00:04<00:00, 156.01it/s]\n"
     ]
    },
    {
     "name": "stdout",
     "output_type": "stream",
     "text": [
      "Train Accuracy: 0.6956, Val Accuracy: 0.5854, Test Accuracy: 0.5264\n",
      "Train loss: 1.0244\n",
      "\n",
      " Epoch 222 training:\n"
     ]
    },
    {
     "name": "stderr",
     "output_type": "stream",
     "text": [
      "100%|██████████| 711/711 [00:04<00:00, 169.86it/s]\n"
     ]
    },
    {
     "name": "stdout",
     "output_type": "stream",
     "text": [
      "Train Accuracy: 0.6971, Val Accuracy: 0.5855, Test Accuracy: 0.5209\n",
      "Train loss: 1.0240\n",
      "\n",
      " Epoch 223 training:\n"
     ]
    },
    {
     "name": "stderr",
     "output_type": "stream",
     "text": [
      "100%|██████████| 711/711 [00:04<00:00, 162.92it/s]\n"
     ]
    },
    {
     "name": "stdout",
     "output_type": "stream",
     "text": [
      "Train Accuracy: 0.6985, Val Accuracy: 0.5867, Test Accuracy: 0.5214\n",
      "Train loss: 1.0250\n",
      "\n",
      " Epoch 224 training:\n"
     ]
    },
    {
     "name": "stderr",
     "output_type": "stream",
     "text": [
      "100%|██████████| 711/711 [00:04<00:00, 153.80it/s]\n"
     ]
    },
    {
     "name": "stdout",
     "output_type": "stream",
     "text": [
      "Train Accuracy: 0.6993, Val Accuracy: 0.5851, Test Accuracy: 0.5179\n",
      "Train loss: 1.0258\n",
      "\n",
      " Epoch 225 training:\n"
     ]
    },
    {
     "name": "stderr",
     "output_type": "stream",
     "text": [
      "100%|██████████| 711/711 [00:04<00:00, 160.87it/s]\n"
     ]
    },
    {
     "name": "stdout",
     "output_type": "stream",
     "text": [
      "Train Accuracy: 0.6994, Val Accuracy: 0.5879, Test Accuracy: 0.5227\n",
      "Train loss: 1.0245\n",
      "\n",
      " Epoch 226 training:\n"
     ]
    },
    {
     "name": "stderr",
     "output_type": "stream",
     "text": [
      "100%|██████████| 711/711 [00:04<00:00, 171.33it/s]\n"
     ]
    },
    {
     "name": "stdout",
     "output_type": "stream",
     "text": [
      "Train Accuracy: 0.6988, Val Accuracy: 0.5871, Test Accuracy: 0.5191\n",
      "Train loss: 1.0262\n",
      "\n",
      " Epoch 227 training:\n"
     ]
    },
    {
     "name": "stderr",
     "output_type": "stream",
     "text": [
      "100%|██████████| 711/711 [00:04<00:00, 167.02it/s]\n"
     ]
    },
    {
     "name": "stdout",
     "output_type": "stream",
     "text": [
      "Train Accuracy: 0.6966, Val Accuracy: 0.5939, Test Accuracy: 0.5300\n",
      "Train loss: 1.0258\n",
      "\n",
      " Epoch 228 training:\n"
     ]
    },
    {
     "name": "stderr",
     "output_type": "stream",
     "text": [
      "100%|██████████| 711/711 [00:04<00:00, 167.46it/s]\n"
     ]
    },
    {
     "name": "stdout",
     "output_type": "stream",
     "text": [
      "Train Accuracy: 0.6996, Val Accuracy: 0.5894, Test Accuracy: 0.5212\n",
      "Train loss: 1.0242\n",
      "\n",
      " Epoch 229 training:\n"
     ]
    },
    {
     "name": "stderr",
     "output_type": "stream",
     "text": [
      "100%|██████████| 711/711 [00:04<00:00, 164.64it/s]\n"
     ]
    },
    {
     "name": "stdout",
     "output_type": "stream",
     "text": [
      "Train Accuracy: 0.6975, Val Accuracy: 0.5892, Test Accuracy: 0.5280\n",
      "Train loss: 1.0263\n",
      "\n",
      " Epoch 230 training:\n"
     ]
    },
    {
     "name": "stderr",
     "output_type": "stream",
     "text": [
      "100%|██████████| 711/711 [00:04<00:00, 162.81it/s]\n"
     ]
    },
    {
     "name": "stdout",
     "output_type": "stream",
     "text": [
      "Train Accuracy: 0.6995, Val Accuracy: 0.5884, Test Accuracy: 0.5279\n",
      "Train loss: 1.0215\n",
      "\n",
      " Epoch 231 training:\n"
     ]
    },
    {
     "name": "stderr",
     "output_type": "stream",
     "text": [
      "100%|██████████| 711/711 [00:04<00:00, 172.40it/s]\n"
     ]
    },
    {
     "name": "stdout",
     "output_type": "stream",
     "text": [
      "Train Accuracy: 0.6991, Val Accuracy: 0.5843, Test Accuracy: 0.5259\n",
      "Train loss: 1.0210\n",
      "\n",
      " Epoch 232 training:\n"
     ]
    },
    {
     "name": "stderr",
     "output_type": "stream",
     "text": [
      "100%|██████████| 711/711 [00:04<00:00, 164.92it/s]\n"
     ]
    },
    {
     "name": "stdout",
     "output_type": "stream",
     "text": [
      "Train Accuracy: 0.6948, Val Accuracy: 0.5801, Test Accuracy: 0.5167\n",
      "Train loss: 1.0226\n",
      "\n",
      " Epoch 233 training:\n"
     ]
    },
    {
     "name": "stderr",
     "output_type": "stream",
     "text": [
      "100%|██████████| 711/711 [00:04<00:00, 162.25it/s]\n"
     ]
    },
    {
     "name": "stdout",
     "output_type": "stream",
     "text": [
      "Train Accuracy: 0.7012, Val Accuracy: 0.5856, Test Accuracy: 0.5232\n",
      "Train loss: 1.0232\n",
      "\n",
      " Epoch 234 training:\n"
     ]
    },
    {
     "name": "stderr",
     "output_type": "stream",
     "text": [
      "100%|██████████| 711/711 [00:04<00:00, 165.61it/s]\n"
     ]
    },
    {
     "name": "stdout",
     "output_type": "stream",
     "text": [
      "Train Accuracy: 0.6981, Val Accuracy: 0.5905, Test Accuracy: 0.5301\n",
      "Train loss: 1.0209\n",
      "\n",
      " Epoch 235 training:\n"
     ]
    },
    {
     "name": "stderr",
     "output_type": "stream",
     "text": [
      "100%|██████████| 711/711 [00:04<00:00, 161.10it/s]\n"
     ]
    },
    {
     "name": "stdout",
     "output_type": "stream",
     "text": [
      "Train Accuracy: 0.7030, Val Accuracy: 0.5863, Test Accuracy: 0.5212\n",
      "Train loss: 1.0180\n",
      "\n",
      " Epoch 236 training:\n"
     ]
    },
    {
     "name": "stderr",
     "output_type": "stream",
     "text": [
      "100%|██████████| 711/711 [00:04<00:00, 159.92it/s]\n"
     ]
    },
    {
     "name": "stdout",
     "output_type": "stream",
     "text": [
      "Train Accuracy: 0.6971, Val Accuracy: 0.5861, Test Accuracy: 0.5262\n",
      "Train loss: 1.0227\n",
      "\n",
      " Epoch 237 training:\n"
     ]
    },
    {
     "name": "stderr",
     "output_type": "stream",
     "text": [
      "100%|██████████| 711/711 [00:04<00:00, 173.72it/s]\n"
     ]
    },
    {
     "name": "stdout",
     "output_type": "stream",
     "text": [
      "Train Accuracy: 0.7021, Val Accuracy: 0.5929, Test Accuracy: 0.5248\n",
      "Train loss: 1.0227\n",
      "\n",
      " Epoch 238 training:\n"
     ]
    },
    {
     "name": "stderr",
     "output_type": "stream",
     "text": [
      "100%|██████████| 711/711 [00:04<00:00, 161.74it/s]\n"
     ]
    },
    {
     "name": "stdout",
     "output_type": "stream",
     "text": [
      "Train Accuracy: 0.6960, Val Accuracy: 0.5824, Test Accuracy: 0.5138\n",
      "Train loss: 1.0210\n",
      "\n",
      " Epoch 239 training:\n"
     ]
    },
    {
     "name": "stderr",
     "output_type": "stream",
     "text": [
      "100%|██████████| 711/711 [00:04<00:00, 153.04it/s]\n"
     ]
    },
    {
     "name": "stdout",
     "output_type": "stream",
     "text": [
      "Train Accuracy: 0.6994, Val Accuracy: 0.5872, Test Accuracy: 0.5202\n",
      "Train loss: 1.0209\n",
      "\n",
      " Epoch 240 training:\n"
     ]
    },
    {
     "name": "stderr",
     "output_type": "stream",
     "text": [
      "100%|██████████| 711/711 [00:04<00:00, 160.47it/s]\n"
     ]
    },
    {
     "name": "stdout",
     "output_type": "stream",
     "text": [
      "Train Accuracy: 0.6925, Val Accuracy: 0.5840, Test Accuracy: 0.5189\n",
      "Train loss: 1.0241\n",
      "\n",
      " Epoch 241 training:\n"
     ]
    },
    {
     "name": "stderr",
     "output_type": "stream",
     "text": [
      "100%|██████████| 711/711 [00:04<00:00, 164.59it/s]\n"
     ]
    },
    {
     "name": "stdout",
     "output_type": "stream",
     "text": [
      "Train Accuracy: 0.6964, Val Accuracy: 0.5931, Test Accuracy: 0.5251\n",
      "Train loss: 1.0179\n",
      "\n",
      " Epoch 242 training:\n"
     ]
    },
    {
     "name": "stderr",
     "output_type": "stream",
     "text": [
      "100%|██████████| 711/711 [00:04<00:00, 151.73it/s]\n"
     ]
    },
    {
     "name": "stdout",
     "output_type": "stream",
     "text": [
      "Train Accuracy: 0.6979, Val Accuracy: 0.5836, Test Accuracy: 0.5189\n",
      "Train loss: 1.0173\n",
      "\n",
      " Epoch 243 training:\n"
     ]
    },
    {
     "name": "stderr",
     "output_type": "stream",
     "text": [
      "100%|██████████| 711/711 [00:04<00:00, 158.05it/s]\n"
     ]
    },
    {
     "name": "stdout",
     "output_type": "stream",
     "text": [
      "Train Accuracy: 0.7030, Val Accuracy: 0.5870, Test Accuracy: 0.5226\n",
      "Train loss: 1.0185\n",
      "\n",
      " Epoch 244 training:\n"
     ]
    },
    {
     "name": "stderr",
     "output_type": "stream",
     "text": [
      "100%|██████████| 711/711 [00:04<00:00, 167.82it/s]\n"
     ]
    },
    {
     "name": "stdout",
     "output_type": "stream",
     "text": [
      "Train Accuracy: 0.7008, Val Accuracy: 0.5861, Test Accuracy: 0.5229\n",
      "Train loss: 1.0213\n",
      "\n",
      " Epoch 245 training:\n"
     ]
    },
    {
     "name": "stderr",
     "output_type": "stream",
     "text": [
      "100%|██████████| 711/711 [00:04<00:00, 165.04it/s]\n"
     ]
    },
    {
     "name": "stdout",
     "output_type": "stream",
     "text": [
      "Train Accuracy: 0.6938, Val Accuracy: 0.5847, Test Accuracy: 0.5238\n",
      "Train loss: 1.0237\n",
      "\n",
      " Epoch 246 training:\n"
     ]
    },
    {
     "name": "stderr",
     "output_type": "stream",
     "text": [
      "100%|██████████| 711/711 [00:04<00:00, 159.33it/s]\n"
     ]
    },
    {
     "name": "stdout",
     "output_type": "stream",
     "text": [
      "Train Accuracy: 0.7019, Val Accuracy: 0.5867, Test Accuracy: 0.5249\n",
      "Train loss: 1.0195\n",
      "\n",
      " Epoch 247 training:\n"
     ]
    },
    {
     "name": "stderr",
     "output_type": "stream",
     "text": [
      "100%|██████████| 711/711 [00:04<00:00, 163.30it/s]\n"
     ]
    },
    {
     "name": "stdout",
     "output_type": "stream",
     "text": [
      "Train Accuracy: 0.7000, Val Accuracy: 0.5833, Test Accuracy: 0.5220\n",
      "Train loss: 1.0192\n",
      "\n",
      " Epoch 248 training:\n"
     ]
    },
    {
     "name": "stderr",
     "output_type": "stream",
     "text": [
      "100%|██████████| 711/711 [00:04<00:00, 169.18it/s]\n"
     ]
    },
    {
     "name": "stdout",
     "output_type": "stream",
     "text": [
      "Train Accuracy: 0.6971, Val Accuracy: 0.5848, Test Accuracy: 0.5180\n",
      "Train loss: 1.0197\n",
      "\n",
      " Epoch 249 training:\n"
     ]
    },
    {
     "name": "stderr",
     "output_type": "stream",
     "text": [
      "100%|██████████| 711/711 [00:04<00:00, 160.03it/s]\n"
     ]
    },
    {
     "name": "stdout",
     "output_type": "stream",
     "text": [
      "Train Accuracy: 0.6965, Val Accuracy: 0.5877, Test Accuracy: 0.5305\n",
      "Train loss: 1.0200\n",
      "\n",
      " Epoch 0 training:\n"
     ]
    },
    {
     "name": "stderr",
     "output_type": "stream",
     "text": [
      "100%|██████████| 711/711 [00:05<00:00, 132.48it/s]\n"
     ]
    },
    {
     "name": "stdout",
     "output_type": "stream",
     "text": [
      "New best model validation accuracy: 0.59143. Previous: 0.00000\n",
      "Train Accuracy: 0.6075, Val Accuracy: 0.5914, Test Accuracy: 0.5328\n",
      "Train loss: 1.5780\n",
      "\n",
      " Epoch 1 training:\n"
     ]
    },
    {
     "name": "stderr",
     "output_type": "stream",
     "text": [
      "100%|██████████| 711/711 [00:04<00:00, 157.39it/s]\n"
     ]
    },
    {
     "name": "stdout",
     "output_type": "stream",
     "text": [
      "New best model validation accuracy: 0.59445. Previous: 0.59143\n",
      "Train Accuracy: 0.6185, Val Accuracy: 0.5944, Test Accuracy: 0.5374\n",
      "Train loss: 1.3997\n",
      "\n",
      " Epoch 2 training:\n"
     ]
    },
    {
     "name": "stderr",
     "output_type": "stream",
     "text": [
      "100%|██████████| 711/711 [00:04<00:00, 168.81it/s]\n"
     ]
    },
    {
     "name": "stdout",
     "output_type": "stream",
     "text": [
      "New best model validation accuracy: 0.60344. Previous: 0.59445\n",
      "Train Accuracy: 0.6283, Val Accuracy: 0.6034, Test Accuracy: 0.5430\n",
      "Train loss: 1.3511\n",
      "\n",
      " Epoch 3 training:\n"
     ]
    },
    {
     "name": "stderr",
     "output_type": "stream",
     "text": [
      "100%|██████████| 711/711 [00:04<00:00, 169.82it/s]\n"
     ]
    },
    {
     "name": "stdout",
     "output_type": "stream",
     "text": [
      "Train Accuracy: 0.6284, Val Accuracy: 0.5993, Test Accuracy: 0.5486\n",
      "Train loss: 1.3241\n",
      "\n",
      " Epoch 4 training:\n"
     ]
    },
    {
     "name": "stderr",
     "output_type": "stream",
     "text": [
      "100%|██████████| 711/711 [00:04<00:00, 155.74it/s]\n"
     ]
    },
    {
     "name": "stdout",
     "output_type": "stream",
     "text": [
      "Train Accuracy: 0.6396, Val Accuracy: 0.6005, Test Accuracy: 0.5400\n",
      "Train loss: 1.2992\n",
      "\n",
      " Epoch 5 training:\n"
     ]
    },
    {
     "name": "stderr",
     "output_type": "stream",
     "text": [
      "100%|██████████| 711/711 [00:04<00:00, 165.63it/s]\n"
     ]
    },
    {
     "name": "stdout",
     "output_type": "stream",
     "text": [
      "Train Accuracy: 0.6420, Val Accuracy: 0.5990, Test Accuracy: 0.5462\n",
      "Train loss: 1.2825\n",
      "\n",
      " Epoch 6 training:\n"
     ]
    },
    {
     "name": "stderr",
     "output_type": "stream",
     "text": [
      "100%|██████████| 711/711 [00:04<00:00, 170.39it/s]\n"
     ]
    },
    {
     "name": "stdout",
     "output_type": "stream",
     "text": [
      "Train Accuracy: 0.6381, Val Accuracy: 0.5870, Test Accuracy: 0.5225\n",
      "Train loss: 1.2681\n",
      "\n",
      " Epoch 7 training:\n"
     ]
    },
    {
     "name": "stderr",
     "output_type": "stream",
     "text": [
      "100%|██████████| 711/711 [00:04<00:00, 163.06it/s]\n"
     ]
    },
    {
     "name": "stdout",
     "output_type": "stream",
     "text": [
      "New best model validation accuracy: 0.60462. Previous: 0.60344\n",
      "Train Accuracy: 0.6434, Val Accuracy: 0.6046, Test Accuracy: 0.5502\n",
      "Train loss: 1.2559\n",
      "\n",
      " Epoch 8 training:\n"
     ]
    },
    {
     "name": "stderr",
     "output_type": "stream",
     "text": [
      "100%|██████████| 711/711 [00:04<00:00, 161.12it/s]\n"
     ]
    },
    {
     "name": "stdout",
     "output_type": "stream",
     "text": [
      "Train Accuracy: 0.6483, Val Accuracy: 0.5951, Test Accuracy: 0.5335\n",
      "Train loss: 1.2471\n",
      "\n",
      " Epoch 9 training:\n"
     ]
    },
    {
     "name": "stderr",
     "output_type": "stream",
     "text": [
      "100%|██████████| 711/711 [00:04<00:00, 162.04it/s]\n"
     ]
    },
    {
     "name": "stdout",
     "output_type": "stream",
     "text": [
      "Train Accuracy: 0.6488, Val Accuracy: 0.5973, Test Accuracy: 0.5430\n",
      "Train loss: 1.2372\n",
      "\n",
      " Epoch 10 training:\n"
     ]
    },
    {
     "name": "stderr",
     "output_type": "stream",
     "text": [
      "100%|██████████| 711/711 [00:04<00:00, 167.13it/s]\n"
     ]
    },
    {
     "name": "stdout",
     "output_type": "stream",
     "text": [
      "Train Accuracy: 0.6521, Val Accuracy: 0.5994, Test Accuracy: 0.5440\n",
      "Train loss: 1.2265\n",
      "\n",
      " Epoch 11 training:\n"
     ]
    },
    {
     "name": "stderr",
     "output_type": "stream",
     "text": [
      "100%|██████████| 711/711 [00:04<00:00, 151.19it/s]\n"
     ]
    },
    {
     "name": "stdout",
     "output_type": "stream",
     "text": [
      "New best model validation accuracy: 0.60576. Previous: 0.60462\n",
      "Train Accuracy: 0.6514, Val Accuracy: 0.6058, Test Accuracy: 0.5423\n",
      "Train loss: 1.2242\n",
      "\n",
      " Epoch 12 training:\n"
     ]
    },
    {
     "name": "stderr",
     "output_type": "stream",
     "text": [
      "100%|██████████| 711/711 [00:04<00:00, 169.81it/s]\n"
     ]
    },
    {
     "name": "stdout",
     "output_type": "stream",
     "text": [
      "Train Accuracy: 0.6529, Val Accuracy: 0.5986, Test Accuracy: 0.5374\n",
      "Train loss: 1.2132\n",
      "\n",
      " Epoch 13 training:\n"
     ]
    },
    {
     "name": "stderr",
     "output_type": "stream",
     "text": [
      "100%|██████████| 711/711 [00:04<00:00, 165.82it/s]\n"
     ]
    },
    {
     "name": "stdout",
     "output_type": "stream",
     "text": [
      "Train Accuracy: 0.6548, Val Accuracy: 0.6008, Test Accuracy: 0.5399\n",
      "Train loss: 1.2064\n",
      "\n",
      " Epoch 14 training:\n"
     ]
    },
    {
     "name": "stderr",
     "output_type": "stream",
     "text": [
      "100%|██████████| 711/711 [00:04<00:00, 166.44it/s]\n"
     ]
    },
    {
     "name": "stdout",
     "output_type": "stream",
     "text": [
      "Train Accuracy: 0.6590, Val Accuracy: 0.6023, Test Accuracy: 0.5436\n",
      "Train loss: 1.2020\n",
      "\n",
      " Epoch 15 training:\n"
     ]
    },
    {
     "name": "stderr",
     "output_type": "stream",
     "text": [
      "100%|██████████| 711/711 [00:04<00:00, 170.32it/s]\n"
     ]
    },
    {
     "name": "stdout",
     "output_type": "stream",
     "text": [
      "Train Accuracy: 0.6578, Val Accuracy: 0.5990, Test Accuracy: 0.5379\n",
      "Train loss: 1.1913\n",
      "\n",
      " Epoch 16 training:\n"
     ]
    },
    {
     "name": "stderr",
     "output_type": "stream",
     "text": [
      "100%|██████████| 711/711 [00:04<00:00, 161.69it/s]\n"
     ]
    },
    {
     "name": "stdout",
     "output_type": "stream",
     "text": [
      "Train Accuracy: 0.6602, Val Accuracy: 0.5931, Test Accuracy: 0.5247\n",
      "Train loss: 1.1875\n",
      "\n",
      " Epoch 17 training:\n"
     ]
    },
    {
     "name": "stderr",
     "output_type": "stream",
     "text": [
      "100%|██████████| 711/711 [00:04<00:00, 162.49it/s]\n"
     ]
    },
    {
     "name": "stdout",
     "output_type": "stream",
     "text": [
      "Train Accuracy: 0.6555, Val Accuracy: 0.6044, Test Accuracy: 0.5510\n",
      "Train loss: 1.1858\n",
      "\n",
      " Epoch 18 training:\n"
     ]
    },
    {
     "name": "stderr",
     "output_type": "stream",
     "text": [
      "100%|██████████| 711/711 [00:04<00:00, 160.17it/s]\n"
     ]
    },
    {
     "name": "stdout",
     "output_type": "stream",
     "text": [
      "Train Accuracy: 0.6659, Val Accuracy: 0.6017, Test Accuracy: 0.5337\n",
      "Train loss: 1.1833\n",
      "\n",
      " Epoch 19 training:\n"
     ]
    },
    {
     "name": "stderr",
     "output_type": "stream",
     "text": [
      "100%|██████████| 711/711 [00:04<00:00, 157.27it/s]\n"
     ]
    },
    {
     "name": "stdout",
     "output_type": "stream",
     "text": [
      "Train Accuracy: 0.6673, Val Accuracy: 0.6004, Test Accuracy: 0.5383\n",
      "Train loss: 1.1789\n",
      "\n",
      " Epoch 20 training:\n"
     ]
    },
    {
     "name": "stderr",
     "output_type": "stream",
     "text": [
      "100%|██████████| 711/711 [00:04<00:00, 153.19it/s]\n"
     ]
    },
    {
     "name": "stdout",
     "output_type": "stream",
     "text": [
      "Train Accuracy: 0.6666, Val Accuracy: 0.6016, Test Accuracy: 0.5420\n",
      "Train loss: 1.1727\n",
      "\n",
      " Epoch 21 training:\n"
     ]
    },
    {
     "name": "stderr",
     "output_type": "stream",
     "text": [
      "100%|██████████| 711/711 [00:04<00:00, 157.54it/s]\n"
     ]
    },
    {
     "name": "stdout",
     "output_type": "stream",
     "text": [
      "Train Accuracy: 0.6657, Val Accuracy: 0.6021, Test Accuracy: 0.5414\n",
      "Train loss: 1.1698\n",
      "\n",
      " Epoch 22 training:\n"
     ]
    },
    {
     "name": "stderr",
     "output_type": "stream",
     "text": [
      "100%|██████████| 711/711 [00:04<00:00, 167.16it/s]\n"
     ]
    },
    {
     "name": "stdout",
     "output_type": "stream",
     "text": [
      "Train Accuracy: 0.6650, Val Accuracy: 0.5940, Test Accuracy: 0.5297\n",
      "Train loss: 1.1658\n",
      "\n",
      " Epoch 23 training:\n"
     ]
    },
    {
     "name": "stderr",
     "output_type": "stream",
     "text": [
      "100%|██████████| 711/711 [00:03<00:00, 178.63it/s]\n"
     ]
    },
    {
     "name": "stdout",
     "output_type": "stream",
     "text": [
      "Train Accuracy: 0.6686, Val Accuracy: 0.5972, Test Accuracy: 0.5354\n",
      "Train loss: 1.1652\n",
      "\n",
      " Epoch 24 training:\n"
     ]
    },
    {
     "name": "stderr",
     "output_type": "stream",
     "text": [
      "100%|██████████| 711/711 [00:04<00:00, 172.75it/s]\n"
     ]
    },
    {
     "name": "stdout",
     "output_type": "stream",
     "text": [
      "Train Accuracy: 0.6619, Val Accuracy: 0.6053, Test Accuracy: 0.5522\n",
      "Train loss: 1.1592\n",
      "\n",
      " Epoch 25 training:\n"
     ]
    },
    {
     "name": "stderr",
     "output_type": "stream",
     "text": [
      "100%|██████████| 711/711 [00:04<00:00, 166.07it/s]\n"
     ]
    },
    {
     "name": "stdout",
     "output_type": "stream",
     "text": [
      "Train Accuracy: 0.6719, Val Accuracy: 0.5950, Test Accuracy: 0.5302\n",
      "Train loss: 1.1591\n",
      "\n",
      " Epoch 26 training:\n"
     ]
    },
    {
     "name": "stderr",
     "output_type": "stream",
     "text": [
      "100%|██████████| 711/711 [00:04<00:00, 150.35it/s]\n"
     ]
    },
    {
     "name": "stdout",
     "output_type": "stream",
     "text": [
      "Train Accuracy: 0.6712, Val Accuracy: 0.6005, Test Accuracy: 0.5384\n",
      "Train loss: 1.1555\n",
      "\n",
      " Epoch 27 training:\n"
     ]
    },
    {
     "name": "stderr",
     "output_type": "stream",
     "text": [
      "100%|██████████| 711/711 [00:04<00:00, 156.92it/s]\n"
     ]
    },
    {
     "name": "stdout",
     "output_type": "stream",
     "text": [
      "Train Accuracy: 0.6714, Val Accuracy: 0.5995, Test Accuracy: 0.5405\n",
      "Train loss: 1.1463\n",
      "\n",
      " Epoch 28 training:\n"
     ]
    },
    {
     "name": "stderr",
     "output_type": "stream",
     "text": [
      "100%|██████████| 711/711 [00:04<00:00, 161.22it/s]\n"
     ]
    },
    {
     "name": "stdout",
     "output_type": "stream",
     "text": [
      "Train Accuracy: 0.6714, Val Accuracy: 0.6022, Test Accuracy: 0.5431\n",
      "Train loss: 1.1471\n",
      "\n",
      " Epoch 29 training:\n"
     ]
    },
    {
     "name": "stderr",
     "output_type": "stream",
     "text": [
      "100%|██████████| 711/711 [00:04<00:00, 158.41it/s]\n"
     ]
    },
    {
     "name": "stdout",
     "output_type": "stream",
     "text": [
      "Train Accuracy: 0.6714, Val Accuracy: 0.5963, Test Accuracy: 0.5390\n",
      "Train loss: 1.1427\n",
      "\n",
      " Epoch 30 training:\n"
     ]
    },
    {
     "name": "stderr",
     "output_type": "stream",
     "text": [
      "100%|██████████| 711/711 [00:04<00:00, 163.74it/s]\n"
     ]
    },
    {
     "name": "stdout",
     "output_type": "stream",
     "text": [
      "Train Accuracy: 0.6699, Val Accuracy: 0.5937, Test Accuracy: 0.5288\n",
      "Train loss: 1.1403\n",
      "\n",
      " Epoch 31 training:\n"
     ]
    },
    {
     "name": "stderr",
     "output_type": "stream",
     "text": [
      "100%|██████████| 711/711 [00:04<00:00, 158.07it/s]\n"
     ]
    },
    {
     "name": "stdout",
     "output_type": "stream",
     "text": [
      "Train Accuracy: 0.6721, Val Accuracy: 0.6029, Test Accuracy: 0.5418\n",
      "Train loss: 1.1377\n",
      "\n",
      " Epoch 32 training:\n"
     ]
    },
    {
     "name": "stderr",
     "output_type": "stream",
     "text": [
      "100%|██████████| 711/711 [00:04<00:00, 156.93it/s]\n"
     ]
    },
    {
     "name": "stdout",
     "output_type": "stream",
     "text": [
      "Train Accuracy: 0.6727, Val Accuracy: 0.5972, Test Accuracy: 0.5330\n",
      "Train loss: 1.1369\n",
      "\n",
      " Epoch 33 training:\n"
     ]
    },
    {
     "name": "stderr",
     "output_type": "stream",
     "text": [
      "100%|██████████| 711/711 [00:04<00:00, 173.68it/s]\n"
     ]
    },
    {
     "name": "stdout",
     "output_type": "stream",
     "text": [
      "Train Accuracy: 0.6708, Val Accuracy: 0.5931, Test Accuracy: 0.5318\n",
      "Train loss: 1.1332\n",
      "\n",
      " Epoch 34 training:\n"
     ]
    },
    {
     "name": "stderr",
     "output_type": "stream",
     "text": [
      "100%|██████████| 711/711 [00:04<00:00, 156.81it/s]\n"
     ]
    },
    {
     "name": "stdout",
     "output_type": "stream",
     "text": [
      "Train Accuracy: 0.6745, Val Accuracy: 0.5944, Test Accuracy: 0.5317\n",
      "Train loss: 1.1284\n",
      "\n",
      " Epoch 35 training:\n"
     ]
    },
    {
     "name": "stderr",
     "output_type": "stream",
     "text": [
      "100%|██████████| 711/711 [00:04<00:00, 169.88it/s]\n"
     ]
    },
    {
     "name": "stdout",
     "output_type": "stream",
     "text": [
      "Train Accuracy: 0.6760, Val Accuracy: 0.6017, Test Accuracy: 0.5360\n",
      "Train loss: 1.1281\n",
      "\n",
      " Epoch 36 training:\n"
     ]
    },
    {
     "name": "stderr",
     "output_type": "stream",
     "text": [
      "100%|██████████| 711/711 [00:04<00:00, 164.13it/s]\n"
     ]
    },
    {
     "name": "stdout",
     "output_type": "stream",
     "text": [
      "New best model validation accuracy: 0.60606. Previous: 0.60576\n",
      "Train Accuracy: 0.6767, Val Accuracy: 0.6061, Test Accuracy: 0.5457\n",
      "Train loss: 1.1306\n",
      "\n",
      " Epoch 37 training:\n"
     ]
    },
    {
     "name": "stderr",
     "output_type": "stream",
     "text": [
      "100%|██████████| 711/711 [00:04<00:00, 168.78it/s]\n"
     ]
    },
    {
     "name": "stdout",
     "output_type": "stream",
     "text": [
      "Train Accuracy: 0.6747, Val Accuracy: 0.5898, Test Accuracy: 0.5190\n",
      "Train loss: 1.1240\n",
      "\n",
      " Epoch 38 training:\n"
     ]
    },
    {
     "name": "stderr",
     "output_type": "stream",
     "text": [
      "100%|██████████| 711/711 [00:04<00:00, 165.83it/s]\n"
     ]
    },
    {
     "name": "stdout",
     "output_type": "stream",
     "text": [
      "Train Accuracy: 0.6725, Val Accuracy: 0.5973, Test Accuracy: 0.5318\n",
      "Train loss: 1.1277\n",
      "\n",
      " Epoch 39 training:\n"
     ]
    },
    {
     "name": "stderr",
     "output_type": "stream",
     "text": [
      "100%|██████████| 711/711 [00:04<00:00, 169.03it/s]\n"
     ]
    },
    {
     "name": "stdout",
     "output_type": "stream",
     "text": [
      "Train Accuracy: 0.6742, Val Accuracy: 0.5956, Test Accuracy: 0.5355\n",
      "Train loss: 1.1233\n",
      "\n",
      " Epoch 40 training:\n"
     ]
    },
    {
     "name": "stderr",
     "output_type": "stream",
     "text": [
      "100%|██████████| 711/711 [00:04<00:00, 169.76it/s]\n"
     ]
    },
    {
     "name": "stdout",
     "output_type": "stream",
     "text": [
      "Train Accuracy: 0.6746, Val Accuracy: 0.5981, Test Accuracy: 0.5340\n",
      "Train loss: 1.1191\n",
      "\n",
      " Epoch 41 training:\n"
     ]
    },
    {
     "name": "stderr",
     "output_type": "stream",
     "text": [
      "100%|██████████| 711/711 [00:04<00:00, 163.52it/s]\n"
     ]
    },
    {
     "name": "stdout",
     "output_type": "stream",
     "text": [
      "Train Accuracy: 0.6761, Val Accuracy: 0.5974, Test Accuracy: 0.5342\n",
      "Train loss: 1.1195\n",
      "\n",
      " Epoch 42 training:\n"
     ]
    },
    {
     "name": "stderr",
     "output_type": "stream",
     "text": [
      "100%|██████████| 711/711 [00:04<00:00, 169.67it/s]\n"
     ]
    },
    {
     "name": "stdout",
     "output_type": "stream",
     "text": [
      "Train Accuracy: 0.6732, Val Accuracy: 0.6046, Test Accuracy: 0.5468\n",
      "Train loss: 1.1139\n",
      "\n",
      " Epoch 43 training:\n"
     ]
    },
    {
     "name": "stderr",
     "output_type": "stream",
     "text": [
      "100%|██████████| 711/711 [00:04<00:00, 173.14it/s]\n"
     ]
    },
    {
     "name": "stdout",
     "output_type": "stream",
     "text": [
      "Train Accuracy: 0.6689, Val Accuracy: 0.5937, Test Accuracy: 0.5335\n",
      "Train loss: 1.1187\n",
      "\n",
      " Epoch 44 training:\n"
     ]
    },
    {
     "name": "stderr",
     "output_type": "stream",
     "text": [
      "100%|██████████| 711/711 [00:04<00:00, 155.86it/s]\n"
     ]
    },
    {
     "name": "stdout",
     "output_type": "stream",
     "text": [
      "Train Accuracy: 0.6778, Val Accuracy: 0.5954, Test Accuracy: 0.5260\n",
      "Train loss: 1.1123\n",
      "\n",
      " Epoch 45 training:\n"
     ]
    },
    {
     "name": "stderr",
     "output_type": "stream",
     "text": [
      "100%|██████████| 711/711 [00:04<00:00, 159.37it/s]\n"
     ]
    },
    {
     "name": "stdout",
     "output_type": "stream",
     "text": [
      "Train Accuracy: 0.6777, Val Accuracy: 0.5922, Test Accuracy: 0.5268\n",
      "Train loss: 1.1109\n",
      "\n",
      " Epoch 46 training:\n"
     ]
    },
    {
     "name": "stderr",
     "output_type": "stream",
     "text": [
      "100%|██████████| 711/711 [00:04<00:00, 162.70it/s]\n"
     ]
    },
    {
     "name": "stdout",
     "output_type": "stream",
     "text": [
      "Train Accuracy: 0.6760, Val Accuracy: 0.5960, Test Accuracy: 0.5297\n",
      "Train loss: 1.1106\n",
      "\n",
      " Epoch 47 training:\n"
     ]
    },
    {
     "name": "stderr",
     "output_type": "stream",
     "text": [
      "100%|██████████| 711/711 [00:04<00:00, 173.22it/s]\n"
     ]
    },
    {
     "name": "stdout",
     "output_type": "stream",
     "text": [
      "Train Accuracy: 0.6757, Val Accuracy: 0.5975, Test Accuracy: 0.5447\n",
      "Train loss: 1.1104\n",
      "\n",
      " Epoch 48 training:\n"
     ]
    },
    {
     "name": "stderr",
     "output_type": "stream",
     "text": [
      "100%|██████████| 711/711 [00:04<00:00, 164.75it/s]\n"
     ]
    },
    {
     "name": "stdout",
     "output_type": "stream",
     "text": [
      "Train Accuracy: 0.6821, Val Accuracy: 0.5968, Test Accuracy: 0.5400\n",
      "Train loss: 1.1083\n",
      "\n",
      " Epoch 49 training:\n"
     ]
    },
    {
     "name": "stderr",
     "output_type": "stream",
     "text": [
      "100%|██████████| 711/711 [00:04<00:00, 173.53it/s]\n"
     ]
    },
    {
     "name": "stdout",
     "output_type": "stream",
     "text": [
      "Train Accuracy: 0.6821, Val Accuracy: 0.5885, Test Accuracy: 0.5223\n",
      "Train loss: 1.1084\n",
      "\n",
      " Epoch 50 training:\n"
     ]
    },
    {
     "name": "stderr",
     "output_type": "stream",
     "text": [
      "100%|██████████| 711/711 [00:04<00:00, 160.59it/s]\n"
     ]
    },
    {
     "name": "stdout",
     "output_type": "stream",
     "text": [
      "Train Accuracy: 0.6793, Val Accuracy: 0.5972, Test Accuracy: 0.5384\n",
      "Train loss: 1.1084\n",
      "\n",
      " Epoch 51 training:\n"
     ]
    },
    {
     "name": "stderr",
     "output_type": "stream",
     "text": [
      "100%|██████████| 711/711 [00:04<00:00, 161.89it/s]\n"
     ]
    },
    {
     "name": "stdout",
     "output_type": "stream",
     "text": [
      "Train Accuracy: 0.6767, Val Accuracy: 0.5959, Test Accuracy: 0.5331\n",
      "Train loss: 1.1042\n",
      "\n",
      " Epoch 52 training:\n"
     ]
    },
    {
     "name": "stderr",
     "output_type": "stream",
     "text": [
      "100%|██████████| 711/711 [00:04<00:00, 158.88it/s]\n"
     ]
    },
    {
     "name": "stdout",
     "output_type": "stream",
     "text": [
      "Train Accuracy: 0.6775, Val Accuracy: 0.5964, Test Accuracy: 0.5376\n",
      "Train loss: 1.1032\n",
      "\n",
      " Epoch 53 training:\n"
     ]
    },
    {
     "name": "stderr",
     "output_type": "stream",
     "text": [
      "100%|██████████| 711/711 [00:04<00:00, 168.59it/s]\n"
     ]
    },
    {
     "name": "stdout",
     "output_type": "stream",
     "text": [
      "Train Accuracy: 0.6764, Val Accuracy: 0.5943, Test Accuracy: 0.5268\n",
      "Train loss: 1.1036\n",
      "\n",
      " Epoch 54 training:\n"
     ]
    },
    {
     "name": "stderr",
     "output_type": "stream",
     "text": [
      "100%|██████████| 711/711 [00:03<00:00, 180.54it/s]\n"
     ]
    },
    {
     "name": "stdout",
     "output_type": "stream",
     "text": [
      "Train Accuracy: 0.6762, Val Accuracy: 0.5999, Test Accuracy: 0.5349\n",
      "Train loss: 1.1010\n",
      "\n",
      " Epoch 55 training:\n"
     ]
    },
    {
     "name": "stderr",
     "output_type": "stream",
     "text": [
      "100%|██████████| 711/711 [00:04<00:00, 160.03it/s]\n"
     ]
    },
    {
     "name": "stdout",
     "output_type": "stream",
     "text": [
      "Train Accuracy: 0.6787, Val Accuracy: 0.5941, Test Accuracy: 0.5325\n",
      "Train loss: 1.0987\n",
      "\n",
      " Epoch 56 training:\n"
     ]
    },
    {
     "name": "stderr",
     "output_type": "stream",
     "text": [
      "100%|██████████| 711/711 [00:04<00:00, 164.57it/s]\n"
     ]
    },
    {
     "name": "stdout",
     "output_type": "stream",
     "text": [
      "Train Accuracy: 0.6749, Val Accuracy: 0.5968, Test Accuracy: 0.5346\n",
      "Train loss: 1.0972\n",
      "\n",
      " Epoch 57 training:\n"
     ]
    },
    {
     "name": "stderr",
     "output_type": "stream",
     "text": [
      "100%|██████████| 711/711 [00:04<00:00, 164.14it/s]\n"
     ]
    },
    {
     "name": "stdout",
     "output_type": "stream",
     "text": [
      "Train Accuracy: 0.6823, Val Accuracy: 0.6006, Test Accuracy: 0.5363\n",
      "Train loss: 1.0996\n",
      "\n",
      " Epoch 58 training:\n"
     ]
    },
    {
     "name": "stderr",
     "output_type": "stream",
     "text": [
      "100%|██████████| 711/711 [00:04<00:00, 167.25it/s]\n"
     ]
    },
    {
     "name": "stdout",
     "output_type": "stream",
     "text": [
      "Train Accuracy: 0.6790, Val Accuracy: 0.5938, Test Accuracy: 0.5311\n",
      "Train loss: 1.0961\n",
      "\n",
      " Epoch 59 training:\n"
     ]
    },
    {
     "name": "stderr",
     "output_type": "stream",
     "text": [
      "100%|██████████| 711/711 [00:04<00:00, 164.28it/s]\n"
     ]
    },
    {
     "name": "stdout",
     "output_type": "stream",
     "text": [
      "Train Accuracy: 0.6812, Val Accuracy: 0.5926, Test Accuracy: 0.5289\n",
      "Train loss: 1.0935\n",
      "\n",
      " Epoch 60 training:\n"
     ]
    },
    {
     "name": "stderr",
     "output_type": "stream",
     "text": [
      "100%|██████████| 711/711 [00:04<00:00, 162.33it/s]\n"
     ]
    },
    {
     "name": "stdout",
     "output_type": "stream",
     "text": [
      "Train Accuracy: 0.6853, Val Accuracy: 0.5941, Test Accuracy: 0.5321\n",
      "Train loss: 1.0935\n",
      "\n",
      " Epoch 61 training:\n"
     ]
    },
    {
     "name": "stderr",
     "output_type": "stream",
     "text": [
      "100%|██████████| 711/711 [00:04<00:00, 160.36it/s]\n"
     ]
    },
    {
     "name": "stdout",
     "output_type": "stream",
     "text": [
      "Train Accuracy: 0.6786, Val Accuracy: 0.5873, Test Accuracy: 0.5236\n",
      "Train loss: 1.0930\n",
      "\n",
      " Epoch 62 training:\n"
     ]
    },
    {
     "name": "stderr",
     "output_type": "stream",
     "text": [
      "100%|██████████| 711/711 [00:04<00:00, 153.18it/s]\n"
     ]
    },
    {
     "name": "stdout",
     "output_type": "stream",
     "text": [
      "Train Accuracy: 0.6842, Val Accuracy: 0.5970, Test Accuracy: 0.5332\n",
      "Train loss: 1.0953\n",
      "\n",
      " Epoch 63 training:\n"
     ]
    },
    {
     "name": "stderr",
     "output_type": "stream",
     "text": [
      "100%|██████████| 711/711 [00:04<00:00, 161.65it/s]\n"
     ]
    },
    {
     "name": "stdout",
     "output_type": "stream",
     "text": [
      "Train Accuracy: 0.6826, Val Accuracy: 0.5983, Test Accuracy: 0.5360\n",
      "Train loss: 1.0913\n",
      "\n",
      " Epoch 64 training:\n"
     ]
    },
    {
     "name": "stderr",
     "output_type": "stream",
     "text": [
      "100%|██████████| 711/711 [00:04<00:00, 160.19it/s]\n"
     ]
    },
    {
     "name": "stdout",
     "output_type": "stream",
     "text": [
      "Train Accuracy: 0.6818, Val Accuracy: 0.5960, Test Accuracy: 0.5332\n",
      "Train loss: 1.0904\n",
      "\n",
      " Epoch 65 training:\n"
     ]
    },
    {
     "name": "stderr",
     "output_type": "stream",
     "text": [
      "100%|██████████| 711/711 [00:04<00:00, 164.16it/s]\n"
     ]
    },
    {
     "name": "stdout",
     "output_type": "stream",
     "text": [
      "Train Accuracy: 0.6814, Val Accuracy: 0.5937, Test Accuracy: 0.5347\n",
      "Train loss: 1.0887\n",
      "\n",
      " Epoch 66 training:\n"
     ]
    },
    {
     "name": "stderr",
     "output_type": "stream",
     "text": [
      "100%|██████████| 711/711 [00:04<00:00, 165.59it/s]\n"
     ]
    },
    {
     "name": "stdout",
     "output_type": "stream",
     "text": [
      "Train Accuracy: 0.6799, Val Accuracy: 0.5983, Test Accuracy: 0.5353\n",
      "Train loss: 1.0891\n",
      "\n",
      " Epoch 67 training:\n"
     ]
    },
    {
     "name": "stderr",
     "output_type": "stream",
     "text": [
      "100%|██████████| 711/711 [00:04<00:00, 176.15it/s]\n"
     ]
    },
    {
     "name": "stdout",
     "output_type": "stream",
     "text": [
      "Train Accuracy: 0.6828, Val Accuracy: 0.5992, Test Accuracy: 0.5375\n",
      "Train loss: 1.0883\n",
      "\n",
      " Epoch 68 training:\n"
     ]
    },
    {
     "name": "stderr",
     "output_type": "stream",
     "text": [
      "100%|██████████| 711/711 [00:04<00:00, 161.12it/s]\n"
     ]
    },
    {
     "name": "stdout",
     "output_type": "stream",
     "text": [
      "Train Accuracy: 0.6851, Val Accuracy: 0.5964, Test Accuracy: 0.5345\n",
      "Train loss: 1.0898\n",
      "\n",
      " Epoch 69 training:\n"
     ]
    },
    {
     "name": "stderr",
     "output_type": "stream",
     "text": [
      "100%|██████████| 711/711 [00:04<00:00, 160.75it/s]\n"
     ]
    },
    {
     "name": "stdout",
     "output_type": "stream",
     "text": [
      "Train Accuracy: 0.6831, Val Accuracy: 0.5931, Test Accuracy: 0.5321\n",
      "Train loss: 1.0836\n",
      "\n",
      " Epoch 70 training:\n"
     ]
    },
    {
     "name": "stderr",
     "output_type": "stream",
     "text": [
      "100%|██████████| 711/711 [00:04<00:00, 163.85it/s]\n"
     ]
    },
    {
     "name": "stdout",
     "output_type": "stream",
     "text": [
      "Train Accuracy: 0.6840, Val Accuracy: 0.5933, Test Accuracy: 0.5253\n",
      "Train loss: 1.0871\n",
      "\n",
      " Epoch 71 training:\n"
     ]
    },
    {
     "name": "stderr",
     "output_type": "stream",
     "text": [
      "100%|██████████| 711/711 [00:04<00:00, 156.69it/s]\n"
     ]
    },
    {
     "name": "stdout",
     "output_type": "stream",
     "text": [
      "Train Accuracy: 0.6863, Val Accuracy: 0.5973, Test Accuracy: 0.5302\n",
      "Train loss: 1.0856\n",
      "\n",
      " Epoch 72 training:\n"
     ]
    },
    {
     "name": "stderr",
     "output_type": "stream",
     "text": [
      "100%|██████████| 711/711 [00:04<00:00, 160.35it/s]\n"
     ]
    },
    {
     "name": "stdout",
     "output_type": "stream",
     "text": [
      "Train Accuracy: 0.6886, Val Accuracy: 0.5986, Test Accuracy: 0.5343\n",
      "Train loss: 1.0836\n",
      "\n",
      " Epoch 73 training:\n"
     ]
    },
    {
     "name": "stderr",
     "output_type": "stream",
     "text": [
      "100%|██████████| 711/711 [00:04<00:00, 160.05it/s]\n"
     ]
    },
    {
     "name": "stdout",
     "output_type": "stream",
     "text": [
      "Train Accuracy: 0.6836, Val Accuracy: 0.5942, Test Accuracy: 0.5199\n",
      "Train loss: 1.0834\n",
      "\n",
      " Epoch 74 training:\n"
     ]
    },
    {
     "name": "stderr",
     "output_type": "stream",
     "text": [
      "100%|██████████| 711/711 [00:04<00:00, 150.70it/s]\n"
     ]
    },
    {
     "name": "stdout",
     "output_type": "stream",
     "text": [
      "Train Accuracy: 0.6850, Val Accuracy: 0.5953, Test Accuracy: 0.5333\n",
      "Train loss: 1.0814\n",
      "\n",
      " Epoch 75 training:\n"
     ]
    },
    {
     "name": "stderr",
     "output_type": "stream",
     "text": [
      "100%|██████████| 711/711 [00:04<00:00, 166.18it/s]\n"
     ]
    },
    {
     "name": "stdout",
     "output_type": "stream",
     "text": [
      "Train Accuracy: 0.6846, Val Accuracy: 0.6009, Test Accuracy: 0.5373\n",
      "Train loss: 1.0803\n",
      "\n",
      " Epoch 76 training:\n"
     ]
    },
    {
     "name": "stderr",
     "output_type": "stream",
     "text": [
      "100%|██████████| 711/711 [00:04<00:00, 164.96it/s]\n"
     ]
    },
    {
     "name": "stdout",
     "output_type": "stream",
     "text": [
      "Train Accuracy: 0.6852, Val Accuracy: 0.5932, Test Accuracy: 0.5296\n",
      "Train loss: 1.0781\n",
      "\n",
      " Epoch 77 training:\n"
     ]
    },
    {
     "name": "stderr",
     "output_type": "stream",
     "text": [
      "100%|██████████| 711/711 [00:04<00:00, 166.65it/s]\n"
     ]
    },
    {
     "name": "stdout",
     "output_type": "stream",
     "text": [
      "Train Accuracy: 0.6836, Val Accuracy: 0.5968, Test Accuracy: 0.5345\n",
      "Train loss: 1.0799\n",
      "\n",
      " Epoch 78 training:\n"
     ]
    },
    {
     "name": "stderr",
     "output_type": "stream",
     "text": [
      "100%|██████████| 711/711 [00:04<00:00, 156.19it/s]\n"
     ]
    },
    {
     "name": "stdout",
     "output_type": "stream",
     "text": [
      "Train Accuracy: 0.6855, Val Accuracy: 0.5884, Test Accuracy: 0.5227\n",
      "Train loss: 1.0785\n",
      "\n",
      " Epoch 79 training:\n"
     ]
    },
    {
     "name": "stderr",
     "output_type": "stream",
     "text": [
      "100%|██████████| 711/711 [00:04<00:00, 166.85it/s]\n"
     ]
    },
    {
     "name": "stdout",
     "output_type": "stream",
     "text": [
      "Train Accuracy: 0.6840, Val Accuracy: 0.5972, Test Accuracy: 0.5357\n",
      "Train loss: 1.0786\n",
      "\n",
      " Epoch 80 training:\n"
     ]
    },
    {
     "name": "stderr",
     "output_type": "stream",
     "text": [
      "100%|██████████| 711/711 [00:04<00:00, 158.72it/s]\n"
     ]
    },
    {
     "name": "stdout",
     "output_type": "stream",
     "text": [
      "Train Accuracy: 0.6872, Val Accuracy: 0.5908, Test Accuracy: 0.5293\n",
      "Train loss: 1.0741\n",
      "\n",
      " Epoch 81 training:\n"
     ]
    },
    {
     "name": "stderr",
     "output_type": "stream",
     "text": [
      "100%|██████████| 711/711 [00:04<00:00, 161.36it/s]\n"
     ]
    },
    {
     "name": "stdout",
     "output_type": "stream",
     "text": [
      "Train Accuracy: 0.6848, Val Accuracy: 0.5947, Test Accuracy: 0.5374\n",
      "Train loss: 1.0781\n",
      "\n",
      " Epoch 82 training:\n"
     ]
    },
    {
     "name": "stderr",
     "output_type": "stream",
     "text": [
      "100%|██████████| 711/711 [00:04<00:00, 158.21it/s]\n"
     ]
    },
    {
     "name": "stdout",
     "output_type": "stream",
     "text": [
      "Train Accuracy: 0.6857, Val Accuracy: 0.5912, Test Accuracy: 0.5237\n",
      "Train loss: 1.0777\n",
      "\n",
      " Epoch 83 training:\n"
     ]
    },
    {
     "name": "stderr",
     "output_type": "stream",
     "text": [
      "100%|██████████| 711/711 [00:04<00:00, 177.06it/s]\n"
     ]
    },
    {
     "name": "stdout",
     "output_type": "stream",
     "text": [
      "Train Accuracy: 0.6828, Val Accuracy: 0.5886, Test Accuracy: 0.5280\n",
      "Train loss: 1.0754\n",
      "\n",
      " Epoch 84 training:\n"
     ]
    },
    {
     "name": "stderr",
     "output_type": "stream",
     "text": [
      "100%|██████████| 711/711 [00:04<00:00, 168.02it/s]\n"
     ]
    },
    {
     "name": "stdout",
     "output_type": "stream",
     "text": [
      "Train Accuracy: 0.6845, Val Accuracy: 0.5881, Test Accuracy: 0.5230\n",
      "Train loss: 1.0746\n",
      "\n",
      " Epoch 85 training:\n"
     ]
    },
    {
     "name": "stderr",
     "output_type": "stream",
     "text": [
      "100%|██████████| 711/711 [00:04<00:00, 160.24it/s]\n"
     ]
    },
    {
     "name": "stdout",
     "output_type": "stream",
     "text": [
      "Train Accuracy: 0.6884, Val Accuracy: 0.5924, Test Accuracy: 0.5216\n",
      "Train loss: 1.0695\n",
      "\n",
      " Epoch 86 training:\n"
     ]
    },
    {
     "name": "stderr",
     "output_type": "stream",
     "text": [
      "100%|██████████| 711/711 [00:04<00:00, 155.46it/s]\n"
     ]
    },
    {
     "name": "stdout",
     "output_type": "stream",
     "text": [
      "Train Accuracy: 0.6888, Val Accuracy: 0.5941, Test Accuracy: 0.5308\n",
      "Train loss: 1.0704\n",
      "\n",
      " Epoch 87 training:\n"
     ]
    },
    {
     "name": "stderr",
     "output_type": "stream",
     "text": [
      "100%|██████████| 711/711 [00:04<00:00, 163.47it/s]\n"
     ]
    },
    {
     "name": "stdout",
     "output_type": "stream",
     "text": [
      "Train Accuracy: 0.6861, Val Accuracy: 0.5905, Test Accuracy: 0.5246\n",
      "Train loss: 1.0693\n",
      "\n",
      " Epoch 88 training:\n"
     ]
    },
    {
     "name": "stderr",
     "output_type": "stream",
     "text": [
      "100%|██████████| 711/711 [00:04<00:00, 163.24it/s]\n"
     ]
    },
    {
     "name": "stdout",
     "output_type": "stream",
     "text": [
      "Train Accuracy: 0.6886, Val Accuracy: 0.5967, Test Accuracy: 0.5327\n",
      "Train loss: 1.0703\n",
      "\n",
      " Epoch 89 training:\n"
     ]
    },
    {
     "name": "stderr",
     "output_type": "stream",
     "text": [
      "100%|██████████| 711/711 [00:04<00:00, 165.62it/s]\n"
     ]
    },
    {
     "name": "stdout",
     "output_type": "stream",
     "text": [
      "Train Accuracy: 0.6849, Val Accuracy: 0.5953, Test Accuracy: 0.5341\n",
      "Train loss: 1.0712\n",
      "\n",
      " Epoch 90 training:\n"
     ]
    },
    {
     "name": "stderr",
     "output_type": "stream",
     "text": [
      "100%|██████████| 711/711 [00:04<00:00, 164.78it/s]\n"
     ]
    },
    {
     "name": "stdout",
     "output_type": "stream",
     "text": [
      "Train Accuracy: 0.6893, Val Accuracy: 0.5910, Test Accuracy: 0.5265\n",
      "Train loss: 1.0694\n",
      "\n",
      " Epoch 91 training:\n"
     ]
    },
    {
     "name": "stderr",
     "output_type": "stream",
     "text": [
      "100%|██████████| 711/711 [00:04<00:00, 172.61it/s]\n"
     ]
    },
    {
     "name": "stdout",
     "output_type": "stream",
     "text": [
      "Train Accuracy: 0.6855, Val Accuracy: 0.5974, Test Accuracy: 0.5305\n",
      "Train loss: 1.0694\n",
      "\n",
      " Epoch 92 training:\n"
     ]
    },
    {
     "name": "stderr",
     "output_type": "stream",
     "text": [
      "100%|██████████| 711/711 [00:04<00:00, 161.87it/s]\n"
     ]
    },
    {
     "name": "stdout",
     "output_type": "stream",
     "text": [
      "Train Accuracy: 0.6900, Val Accuracy: 0.5920, Test Accuracy: 0.5265\n",
      "Train loss: 1.0713\n",
      "\n",
      " Epoch 93 training:\n"
     ]
    },
    {
     "name": "stderr",
     "output_type": "stream",
     "text": [
      "100%|██████████| 711/711 [00:04<00:00, 159.98it/s]\n"
     ]
    },
    {
     "name": "stdout",
     "output_type": "stream",
     "text": [
      "Train Accuracy: 0.6876, Val Accuracy: 0.5942, Test Accuracy: 0.5285\n",
      "Train loss: 1.0657\n",
      "\n",
      " Epoch 94 training:\n"
     ]
    },
    {
     "name": "stderr",
     "output_type": "stream",
     "text": [
      "100%|██████████| 711/711 [00:04<00:00, 161.31it/s]\n"
     ]
    },
    {
     "name": "stdout",
     "output_type": "stream",
     "text": [
      "Train Accuracy: 0.6875, Val Accuracy: 0.5985, Test Accuracy: 0.5402\n",
      "Train loss: 1.0661\n",
      "\n",
      " Epoch 95 training:\n"
     ]
    },
    {
     "name": "stderr",
     "output_type": "stream",
     "text": [
      "100%|██████████| 711/711 [00:04<00:00, 172.67it/s]\n"
     ]
    },
    {
     "name": "stdout",
     "output_type": "stream",
     "text": [
      "Train Accuracy: 0.6906, Val Accuracy: 0.5956, Test Accuracy: 0.5349\n",
      "Train loss: 1.0610\n",
      "\n",
      " Epoch 96 training:\n"
     ]
    },
    {
     "name": "stderr",
     "output_type": "stream",
     "text": [
      "100%|██████████| 711/711 [00:03<00:00, 178.43it/s]\n"
     ]
    },
    {
     "name": "stdout",
     "output_type": "stream",
     "text": [
      "Train Accuracy: 0.6886, Val Accuracy: 0.5946, Test Accuracy: 0.5330\n",
      "Train loss: 1.0689\n",
      "\n",
      " Epoch 97 training:\n"
     ]
    },
    {
     "name": "stderr",
     "output_type": "stream",
     "text": [
      "100%|██████████| 711/711 [00:04<00:00, 167.34it/s]\n"
     ]
    },
    {
     "name": "stdout",
     "output_type": "stream",
     "text": [
      "Train Accuracy: 0.6886, Val Accuracy: 0.5944, Test Accuracy: 0.5277\n",
      "Train loss: 1.0679\n",
      "\n",
      " Epoch 98 training:\n"
     ]
    },
    {
     "name": "stderr",
     "output_type": "stream",
     "text": [
      "100%|██████████| 711/711 [00:04<00:00, 162.73it/s]\n"
     ]
    },
    {
     "name": "stdout",
     "output_type": "stream",
     "text": [
      "Train Accuracy: 0.6905, Val Accuracy: 0.6020, Test Accuracy: 0.5401\n",
      "Train loss: 1.0637\n",
      "\n",
      " Epoch 99 training:\n"
     ]
    },
    {
     "name": "stderr",
     "output_type": "stream",
     "text": [
      "100%|██████████| 711/711 [00:04<00:00, 168.25it/s]\n"
     ]
    },
    {
     "name": "stdout",
     "output_type": "stream",
     "text": [
      "Train Accuracy: 0.6877, Val Accuracy: 0.5928, Test Accuracy: 0.5274\n",
      "Train loss: 1.0608\n",
      "\n",
      " Epoch 100 training:\n"
     ]
    },
    {
     "name": "stderr",
     "output_type": "stream",
     "text": [
      "100%|██████████| 711/711 [00:04<00:00, 159.82it/s]\n"
     ]
    },
    {
     "name": "stdout",
     "output_type": "stream",
     "text": [
      "Train Accuracy: 0.6891, Val Accuracy: 0.5895, Test Accuracy: 0.5225\n",
      "Train loss: 1.0660\n",
      "\n",
      " Epoch 101 training:\n"
     ]
    },
    {
     "name": "stderr",
     "output_type": "stream",
     "text": [
      "100%|██████████| 711/711 [00:04<00:00, 171.54it/s]\n"
     ]
    },
    {
     "name": "stdout",
     "output_type": "stream",
     "text": [
      "Train Accuracy: 0.6879, Val Accuracy: 0.5943, Test Accuracy: 0.5317\n",
      "Train loss: 1.0622\n",
      "\n",
      " Epoch 102 training:\n"
     ]
    },
    {
     "name": "stderr",
     "output_type": "stream",
     "text": [
      "100%|██████████| 711/711 [00:04<00:00, 169.06it/s]\n"
     ]
    },
    {
     "name": "stdout",
     "output_type": "stream",
     "text": [
      "Train Accuracy: 0.6892, Val Accuracy: 0.5905, Test Accuracy: 0.5297\n",
      "Train loss: 1.0648\n",
      "\n",
      " Epoch 103 training:\n"
     ]
    },
    {
     "name": "stderr",
     "output_type": "stream",
     "text": [
      "100%|██████████| 711/711 [00:04<00:00, 162.19it/s]\n"
     ]
    },
    {
     "name": "stdout",
     "output_type": "stream",
     "text": [
      "Train Accuracy: 0.6873, Val Accuracy: 0.5946, Test Accuracy: 0.5326\n",
      "Train loss: 1.0580\n",
      "\n",
      " Epoch 104 training:\n"
     ]
    },
    {
     "name": "stderr",
     "output_type": "stream",
     "text": [
      "100%|██████████| 711/711 [00:04<00:00, 166.31it/s]\n"
     ]
    },
    {
     "name": "stdout",
     "output_type": "stream",
     "text": [
      "Train Accuracy: 0.6889, Val Accuracy: 0.5944, Test Accuracy: 0.5307\n",
      "Train loss: 1.0625\n",
      "\n",
      " Epoch 105 training:\n"
     ]
    },
    {
     "name": "stderr",
     "output_type": "stream",
     "text": [
      "100%|██████████| 711/711 [00:04<00:00, 169.59it/s]\n"
     ]
    },
    {
     "name": "stdout",
     "output_type": "stream",
     "text": [
      "Train Accuracy: 0.6897, Val Accuracy: 0.5946, Test Accuracy: 0.5333\n",
      "Train loss: 1.0608\n",
      "\n",
      " Epoch 106 training:\n"
     ]
    },
    {
     "name": "stderr",
     "output_type": "stream",
     "text": [
      "100%|██████████| 711/711 [00:04<00:00, 145.14it/s]\n"
     ]
    },
    {
     "name": "stdout",
     "output_type": "stream",
     "text": [
      "Train Accuracy: 0.6841, Val Accuracy: 0.5892, Test Accuracy: 0.5255\n",
      "Train loss: 1.0598\n",
      "\n",
      " Epoch 107 training:\n"
     ]
    },
    {
     "name": "stderr",
     "output_type": "stream",
     "text": [
      "100%|██████████| 711/711 [00:04<00:00, 175.53it/s]\n"
     ]
    },
    {
     "name": "stdout",
     "output_type": "stream",
     "text": [
      "Train Accuracy: 0.6919, Val Accuracy: 0.5998, Test Accuracy: 0.5320\n",
      "Train loss: 1.0588\n",
      "\n",
      " Epoch 108 training:\n"
     ]
    },
    {
     "name": "stderr",
     "output_type": "stream",
     "text": [
      "100%|██████████| 711/711 [00:04<00:00, 163.92it/s]\n"
     ]
    },
    {
     "name": "stdout",
     "output_type": "stream",
     "text": [
      "Train Accuracy: 0.6864, Val Accuracy: 0.5915, Test Accuracy: 0.5257\n",
      "Train loss: 1.0565\n",
      "\n",
      " Epoch 109 training:\n"
     ]
    },
    {
     "name": "stderr",
     "output_type": "stream",
     "text": [
      "100%|██████████| 711/711 [00:04<00:00, 157.81it/s]\n"
     ]
    },
    {
     "name": "stdout",
     "output_type": "stream",
     "text": [
      "Train Accuracy: 0.6896, Val Accuracy: 0.5904, Test Accuracy: 0.5263\n",
      "Train loss: 1.0570\n",
      "\n",
      " Epoch 110 training:\n"
     ]
    },
    {
     "name": "stderr",
     "output_type": "stream",
     "text": [
      "100%|██████████| 711/711 [00:04<00:00, 157.32it/s]\n"
     ]
    },
    {
     "name": "stdout",
     "output_type": "stream",
     "text": [
      "Train Accuracy: 0.6865, Val Accuracy: 0.5863, Test Accuracy: 0.5202\n",
      "Train loss: 1.0586\n",
      "\n",
      " Epoch 111 training:\n"
     ]
    },
    {
     "name": "stderr",
     "output_type": "stream",
     "text": [
      "100%|██████████| 711/711 [00:04<00:00, 166.13it/s]\n"
     ]
    },
    {
     "name": "stdout",
     "output_type": "stream",
     "text": [
      "Train Accuracy: 0.6899, Val Accuracy: 0.5923, Test Accuracy: 0.5303\n",
      "Train loss: 1.0590\n",
      "\n",
      " Epoch 112 training:\n"
     ]
    },
    {
     "name": "stderr",
     "output_type": "stream",
     "text": [
      "100%|██████████| 711/711 [00:04<00:00, 170.13it/s]\n"
     ]
    },
    {
     "name": "stdout",
     "output_type": "stream",
     "text": [
      "Train Accuracy: 0.6877, Val Accuracy: 0.5957, Test Accuracy: 0.5348\n",
      "Train loss: 1.0586\n",
      "\n",
      " Epoch 113 training:\n"
     ]
    },
    {
     "name": "stderr",
     "output_type": "stream",
     "text": [
      "100%|██████████| 711/711 [00:04<00:00, 164.18it/s]\n"
     ]
    },
    {
     "name": "stdout",
     "output_type": "stream",
     "text": [
      "Train Accuracy: 0.6888, Val Accuracy: 0.5890, Test Accuracy: 0.5220\n",
      "Train loss: 1.0606\n",
      "\n",
      " Epoch 114 training:\n"
     ]
    },
    {
     "name": "stderr",
     "output_type": "stream",
     "text": [
      "100%|██████████| 711/711 [00:04<00:00, 167.84it/s]\n"
     ]
    },
    {
     "name": "stdout",
     "output_type": "stream",
     "text": [
      "Train Accuracy: 0.6870, Val Accuracy: 0.5891, Test Accuracy: 0.5224\n",
      "Train loss: 1.0559\n",
      "\n",
      " Epoch 115 training:\n"
     ]
    },
    {
     "name": "stderr",
     "output_type": "stream",
     "text": [
      "100%|██████████| 711/711 [00:04<00:00, 154.06it/s]\n"
     ]
    },
    {
     "name": "stdout",
     "output_type": "stream",
     "text": [
      "Train Accuracy: 0.6902, Val Accuracy: 0.5859, Test Accuracy: 0.5204\n",
      "Train loss: 1.0562\n",
      "\n",
      " Epoch 116 training:\n"
     ]
    },
    {
     "name": "stderr",
     "output_type": "stream",
     "text": [
      "100%|██████████| 711/711 [00:05<00:00, 138.58it/s]\n"
     ]
    },
    {
     "name": "stdout",
     "output_type": "stream",
     "text": [
      "Train Accuracy: 0.6925, Val Accuracy: 0.5954, Test Accuracy: 0.5314\n",
      "Train loss: 1.0547\n",
      "\n",
      " Epoch 117 training:\n"
     ]
    },
    {
     "name": "stderr",
     "output_type": "stream",
     "text": [
      "100%|██████████| 711/711 [00:04<00:00, 167.05it/s]\n"
     ]
    },
    {
     "name": "stdout",
     "output_type": "stream",
     "text": [
      "Train Accuracy: 0.6908, Val Accuracy: 0.5923, Test Accuracy: 0.5279\n",
      "Train loss: 1.0518\n",
      "\n",
      " Epoch 118 training:\n"
     ]
    },
    {
     "name": "stderr",
     "output_type": "stream",
     "text": [
      "100%|██████████| 711/711 [00:04<00:00, 156.81it/s]\n"
     ]
    },
    {
     "name": "stdout",
     "output_type": "stream",
     "text": [
      "Train Accuracy: 0.6916, Val Accuracy: 0.5948, Test Accuracy: 0.5316\n",
      "Train loss: 1.0562\n",
      "\n",
      " Epoch 119 training:\n"
     ]
    },
    {
     "name": "stderr",
     "output_type": "stream",
     "text": [
      "100%|██████████| 711/711 [00:04<00:00, 166.52it/s]\n"
     ]
    },
    {
     "name": "stdout",
     "output_type": "stream",
     "text": [
      "Train Accuracy: 0.6906, Val Accuracy: 0.5887, Test Accuracy: 0.5277\n",
      "Train loss: 1.0519\n",
      "\n",
      " Epoch 120 training:\n"
     ]
    },
    {
     "name": "stderr",
     "output_type": "stream",
     "text": [
      "100%|██████████| 711/711 [00:04<00:00, 165.58it/s]\n"
     ]
    },
    {
     "name": "stdout",
     "output_type": "stream",
     "text": [
      "Train Accuracy: 0.6894, Val Accuracy: 0.5966, Test Accuracy: 0.5361\n",
      "Train loss: 1.0550\n",
      "\n",
      " Epoch 121 training:\n"
     ]
    },
    {
     "name": "stderr",
     "output_type": "stream",
     "text": [
      "100%|██████████| 711/711 [00:04<00:00, 156.88it/s]\n"
     ]
    },
    {
     "name": "stdout",
     "output_type": "stream",
     "text": [
      "Train Accuracy: 0.6889, Val Accuracy: 0.5914, Test Accuracy: 0.5279\n",
      "Train loss: 1.0487\n",
      "\n",
      " Epoch 122 training:\n"
     ]
    },
    {
     "name": "stderr",
     "output_type": "stream",
     "text": [
      "100%|██████████| 711/711 [00:04<00:00, 159.94it/s]\n"
     ]
    },
    {
     "name": "stdout",
     "output_type": "stream",
     "text": [
      "Train Accuracy: 0.6903, Val Accuracy: 0.6017, Test Accuracy: 0.5434\n",
      "Train loss: 1.0503\n",
      "\n",
      " Epoch 123 training:\n"
     ]
    },
    {
     "name": "stderr",
     "output_type": "stream",
     "text": [
      "100%|██████████| 711/711 [00:04<00:00, 155.27it/s]\n"
     ]
    },
    {
     "name": "stdout",
     "output_type": "stream",
     "text": [
      "Train Accuracy: 0.6915, Val Accuracy: 0.5936, Test Accuracy: 0.5264\n",
      "Train loss: 1.0558\n",
      "\n",
      " Epoch 124 training:\n"
     ]
    },
    {
     "name": "stderr",
     "output_type": "stream",
     "text": [
      "100%|██████████| 711/711 [00:04<00:00, 172.47it/s]\n"
     ]
    },
    {
     "name": "stdout",
     "output_type": "stream",
     "text": [
      "Train Accuracy: 0.6873, Val Accuracy: 0.5866, Test Accuracy: 0.5270\n",
      "Train loss: 1.0541\n",
      "\n",
      " Epoch 125 training:\n"
     ]
    },
    {
     "name": "stderr",
     "output_type": "stream",
     "text": [
      "100%|██████████| 711/711 [00:04<00:00, 168.96it/s]\n"
     ]
    },
    {
     "name": "stdout",
     "output_type": "stream",
     "text": [
      "Train Accuracy: 0.6919, Val Accuracy: 0.5863, Test Accuracy: 0.5159\n",
      "Train loss: 1.0492\n",
      "\n",
      " Epoch 126 training:\n"
     ]
    },
    {
     "name": "stderr",
     "output_type": "stream",
     "text": [
      "100%|██████████| 711/711 [00:04<00:00, 165.53it/s]\n"
     ]
    },
    {
     "name": "stdout",
     "output_type": "stream",
     "text": [
      "Train Accuracy: 0.6912, Val Accuracy: 0.5982, Test Accuracy: 0.5385\n",
      "Train loss: 1.0541\n",
      "\n",
      " Epoch 127 training:\n"
     ]
    },
    {
     "name": "stderr",
     "output_type": "stream",
     "text": [
      "100%|██████████| 711/711 [00:04<00:00, 156.73it/s]\n"
     ]
    },
    {
     "name": "stdout",
     "output_type": "stream",
     "text": [
      "Train Accuracy: 0.6922, Val Accuracy: 0.5890, Test Accuracy: 0.5242\n",
      "Train loss: 1.0511\n",
      "\n",
      " Epoch 128 training:\n"
     ]
    },
    {
     "name": "stderr",
     "output_type": "stream",
     "text": [
      "100%|██████████| 711/711 [00:04<00:00, 162.97it/s]\n"
     ]
    },
    {
     "name": "stdout",
     "output_type": "stream",
     "text": [
      "Train Accuracy: 0.6898, Val Accuracy: 0.5924, Test Accuracy: 0.5359\n",
      "Train loss: 1.0522\n",
      "\n",
      " Epoch 129 training:\n"
     ]
    },
    {
     "name": "stderr",
     "output_type": "stream",
     "text": [
      "100%|██████████| 711/711 [00:04<00:00, 164.46it/s]\n"
     ]
    },
    {
     "name": "stdout",
     "output_type": "stream",
     "text": [
      "Train Accuracy: 0.6857, Val Accuracy: 0.5996, Test Accuracy: 0.5425\n",
      "Train loss: 1.0481\n",
      "\n",
      " Epoch 130 training:\n"
     ]
    },
    {
     "name": "stderr",
     "output_type": "stream",
     "text": [
      "100%|██████████| 711/711 [00:04<00:00, 158.13it/s]\n"
     ]
    },
    {
     "name": "stdout",
     "output_type": "stream",
     "text": [
      "Train Accuracy: 0.6923, Val Accuracy: 0.5870, Test Accuracy: 0.5170\n",
      "Train loss: 1.0477\n",
      "\n",
      " Epoch 131 training:\n"
     ]
    },
    {
     "name": "stderr",
     "output_type": "stream",
     "text": [
      "100%|██████████| 711/711 [00:04<00:00, 163.95it/s]\n"
     ]
    },
    {
     "name": "stdout",
     "output_type": "stream",
     "text": [
      "Train Accuracy: 0.6907, Val Accuracy: 0.5932, Test Accuracy: 0.5293\n",
      "Train loss: 1.0508\n",
      "\n",
      " Epoch 132 training:\n"
     ]
    },
    {
     "name": "stderr",
     "output_type": "stream",
     "text": [
      "100%|██████████| 711/711 [00:04<00:00, 169.18it/s]\n"
     ]
    },
    {
     "name": "stdout",
     "output_type": "stream",
     "text": [
      "Train Accuracy: 0.6931, Val Accuracy: 0.5926, Test Accuracy: 0.5249\n",
      "Train loss: 1.0464\n",
      "\n",
      " Epoch 133 training:\n"
     ]
    },
    {
     "name": "stderr",
     "output_type": "stream",
     "text": [
      "100%|██████████| 711/711 [00:04<00:00, 167.08it/s]\n"
     ]
    },
    {
     "name": "stdout",
     "output_type": "stream",
     "text": [
      "Train Accuracy: 0.6933, Val Accuracy: 0.6013, Test Accuracy: 0.5398\n",
      "Train loss: 1.0503\n",
      "\n",
      " Epoch 134 training:\n"
     ]
    },
    {
     "name": "stderr",
     "output_type": "stream",
     "text": [
      "100%|██████████| 711/711 [00:04<00:00, 168.90it/s]\n"
     ]
    },
    {
     "name": "stdout",
     "output_type": "stream",
     "text": [
      "Train Accuracy: 0.6911, Val Accuracy: 0.5999, Test Accuracy: 0.5398\n",
      "Train loss: 1.0466\n",
      "\n",
      " Epoch 135 training:\n"
     ]
    },
    {
     "name": "stderr",
     "output_type": "stream",
     "text": [
      "100%|██████████| 711/711 [00:04<00:00, 159.82it/s]\n"
     ]
    },
    {
     "name": "stdout",
     "output_type": "stream",
     "text": [
      "Train Accuracy: 0.6865, Val Accuracy: 0.5983, Test Accuracy: 0.5395\n",
      "Train loss: 1.0477\n",
      "\n",
      " Epoch 136 training:\n"
     ]
    },
    {
     "name": "stderr",
     "output_type": "stream",
     "text": [
      "100%|██████████| 711/711 [00:04<00:00, 147.73it/s]\n"
     ]
    },
    {
     "name": "stdout",
     "output_type": "stream",
     "text": [
      "Train Accuracy: 0.6948, Val Accuracy: 0.5962, Test Accuracy: 0.5351\n",
      "Train loss: 1.0455\n",
      "\n",
      " Epoch 137 training:\n"
     ]
    },
    {
     "name": "stderr",
     "output_type": "stream",
     "text": [
      "100%|██████████| 711/711 [00:04<00:00, 160.87it/s]\n"
     ]
    },
    {
     "name": "stdout",
     "output_type": "stream",
     "text": [
      "Train Accuracy: 0.6949, Val Accuracy: 0.5900, Test Accuracy: 0.5243\n",
      "Train loss: 1.0482\n",
      "\n",
      " Epoch 138 training:\n"
     ]
    },
    {
     "name": "stderr",
     "output_type": "stream",
     "text": [
      "100%|██████████| 711/711 [00:04<00:00, 157.36it/s]\n"
     ]
    },
    {
     "name": "stdout",
     "output_type": "stream",
     "text": [
      "Train Accuracy: 0.6935, Val Accuracy: 0.5930, Test Accuracy: 0.5259\n",
      "Train loss: 1.0472\n",
      "\n",
      " Epoch 139 training:\n"
     ]
    },
    {
     "name": "stderr",
     "output_type": "stream",
     "text": [
      "100%|██████████| 711/711 [00:04<00:00, 159.36it/s]\n"
     ]
    },
    {
     "name": "stdout",
     "output_type": "stream",
     "text": [
      "Train Accuracy: 0.6952, Val Accuracy: 0.5923, Test Accuracy: 0.5254\n",
      "Train loss: 1.0465\n",
      "\n",
      " Epoch 140 training:\n"
     ]
    },
    {
     "name": "stderr",
     "output_type": "stream",
     "text": [
      "100%|██████████| 711/711 [00:04<00:00, 162.72it/s]\n"
     ]
    },
    {
     "name": "stdout",
     "output_type": "stream",
     "text": [
      "Train Accuracy: 0.6925, Val Accuracy: 0.5968, Test Accuracy: 0.5337\n",
      "Train loss: 1.0460\n",
      "\n",
      " Epoch 141 training:\n"
     ]
    },
    {
     "name": "stderr",
     "output_type": "stream",
     "text": [
      "100%|██████████| 711/711 [00:04<00:00, 159.64it/s]\n"
     ]
    },
    {
     "name": "stdout",
     "output_type": "stream",
     "text": [
      "Train Accuracy: 0.6879, Val Accuracy: 0.5859, Test Accuracy: 0.5198\n",
      "Train loss: 1.0466\n",
      "\n",
      " Epoch 142 training:\n"
     ]
    },
    {
     "name": "stderr",
     "output_type": "stream",
     "text": [
      "100%|██████████| 711/711 [00:04<00:00, 162.59it/s]\n"
     ]
    },
    {
     "name": "stdout",
     "output_type": "stream",
     "text": [
      "Train Accuracy: 0.6922, Val Accuracy: 0.5957, Test Accuracy: 0.5253\n",
      "Train loss: 1.0461\n",
      "\n",
      " Epoch 143 training:\n"
     ]
    },
    {
     "name": "stderr",
     "output_type": "stream",
     "text": [
      "100%|██████████| 711/711 [00:04<00:00, 166.81it/s]\n"
     ]
    },
    {
     "name": "stdout",
     "output_type": "stream",
     "text": [
      "Train Accuracy: 0.6911, Val Accuracy: 0.5937, Test Accuracy: 0.5312\n",
      "Train loss: 1.0466\n",
      "\n",
      " Epoch 144 training:\n"
     ]
    },
    {
     "name": "stderr",
     "output_type": "stream",
     "text": [
      "100%|██████████| 711/711 [00:04<00:00, 155.86it/s]\n"
     ]
    },
    {
     "name": "stdout",
     "output_type": "stream",
     "text": [
      "Train Accuracy: 0.6940, Val Accuracy: 0.5882, Test Accuracy: 0.5190\n",
      "Train loss: 1.0479\n",
      "\n",
      " Epoch 145 training:\n"
     ]
    },
    {
     "name": "stderr",
     "output_type": "stream",
     "text": [
      "100%|██████████| 711/711 [00:04<00:00, 172.30it/s]\n"
     ]
    },
    {
     "name": "stdout",
     "output_type": "stream",
     "text": [
      "Train Accuracy: 0.6908, Val Accuracy: 0.5932, Test Accuracy: 0.5311\n",
      "Train loss: 1.0456\n",
      "\n",
      " Epoch 146 training:\n"
     ]
    },
    {
     "name": "stderr",
     "output_type": "stream",
     "text": [
      "100%|██████████| 711/711 [00:04<00:00, 168.34it/s]\n"
     ]
    },
    {
     "name": "stdout",
     "output_type": "stream",
     "text": [
      "Train Accuracy: 0.6924, Val Accuracy: 0.5942, Test Accuracy: 0.5277\n",
      "Train loss: 1.0463\n",
      "\n",
      " Epoch 147 training:\n"
     ]
    },
    {
     "name": "stderr",
     "output_type": "stream",
     "text": [
      "100%|██████████| 711/711 [00:04<00:00, 174.55it/s]\n"
     ]
    },
    {
     "name": "stdout",
     "output_type": "stream",
     "text": [
      "Train Accuracy: 0.6946, Val Accuracy: 0.5902, Test Accuracy: 0.5275\n",
      "Train loss: 1.0450\n",
      "\n",
      " Epoch 148 training:\n"
     ]
    },
    {
     "name": "stderr",
     "output_type": "stream",
     "text": [
      "100%|██████████| 711/711 [00:04<00:00, 167.32it/s]\n"
     ]
    },
    {
     "name": "stdout",
     "output_type": "stream",
     "text": [
      "Train Accuracy: 0.6927, Val Accuracy: 0.5914, Test Accuracy: 0.5271\n",
      "Train loss: 1.0427\n",
      "\n",
      " Epoch 149 training:\n"
     ]
    },
    {
     "name": "stderr",
     "output_type": "stream",
     "text": [
      "100%|██████████| 711/711 [00:04<00:00, 164.30it/s]\n"
     ]
    },
    {
     "name": "stdout",
     "output_type": "stream",
     "text": [
      "Train Accuracy: 0.6931, Val Accuracy: 0.5920, Test Accuracy: 0.5315\n",
      "Train loss: 1.0460\n",
      "\n",
      " Epoch 150 training:\n"
     ]
    },
    {
     "name": "stderr",
     "output_type": "stream",
     "text": [
      "100%|██████████| 711/711 [00:04<00:00, 166.91it/s]\n"
     ]
    },
    {
     "name": "stdout",
     "output_type": "stream",
     "text": [
      "Train Accuracy: 0.6916, Val Accuracy: 0.5910, Test Accuracy: 0.5290\n",
      "Train loss: 1.0371\n",
      "\n",
      " Epoch 151 training:\n"
     ]
    },
    {
     "name": "stderr",
     "output_type": "stream",
     "text": [
      "100%|██████████| 711/711 [00:04<00:00, 167.44it/s]\n"
     ]
    },
    {
     "name": "stdout",
     "output_type": "stream",
     "text": [
      "Train Accuracy: 0.6949, Val Accuracy: 0.5995, Test Accuracy: 0.5383\n",
      "Train loss: 1.0422\n",
      "\n",
      " Epoch 152 training:\n"
     ]
    },
    {
     "name": "stderr",
     "output_type": "stream",
     "text": [
      "100%|██████████| 711/711 [00:04<00:00, 165.36it/s]\n"
     ]
    },
    {
     "name": "stdout",
     "output_type": "stream",
     "text": [
      "Train Accuracy: 0.6917, Val Accuracy: 0.5879, Test Accuracy: 0.5215\n",
      "Train loss: 1.0432\n",
      "\n",
      " Epoch 153 training:\n"
     ]
    },
    {
     "name": "stderr",
     "output_type": "stream",
     "text": [
      "100%|██████████| 711/711 [00:04<00:00, 159.19it/s]\n"
     ]
    },
    {
     "name": "stdout",
     "output_type": "stream",
     "text": [
      "Train Accuracy: 0.6857, Val Accuracy: 0.5943, Test Accuracy: 0.5386\n",
      "Train loss: 1.0412\n",
      "\n",
      " Epoch 154 training:\n"
     ]
    },
    {
     "name": "stderr",
     "output_type": "stream",
     "text": [
      "100%|██████████| 711/711 [00:04<00:00, 154.57it/s]\n"
     ]
    },
    {
     "name": "stdout",
     "output_type": "stream",
     "text": [
      "Train Accuracy: 0.6932, Val Accuracy: 0.5930, Test Accuracy: 0.5264\n",
      "Train loss: 1.0392\n",
      "\n",
      " Epoch 155 training:\n"
     ]
    },
    {
     "name": "stderr",
     "output_type": "stream",
     "text": [
      "100%|██████████| 711/711 [00:04<00:00, 159.14it/s]\n"
     ]
    },
    {
     "name": "stdout",
     "output_type": "stream",
     "text": [
      "Train Accuracy: 0.6899, Val Accuracy: 0.5962, Test Accuracy: 0.5353\n",
      "Train loss: 1.0440\n",
      "\n",
      " Epoch 156 training:\n"
     ]
    },
    {
     "name": "stderr",
     "output_type": "stream",
     "text": [
      "100%|██████████| 711/711 [00:04<00:00, 164.73it/s]\n"
     ]
    },
    {
     "name": "stdout",
     "output_type": "stream",
     "text": [
      "Train Accuracy: 0.6937, Val Accuracy: 0.5901, Test Accuracy: 0.5242\n",
      "Train loss: 1.0431\n",
      "\n",
      " Epoch 157 training:\n"
     ]
    },
    {
     "name": "stderr",
     "output_type": "stream",
     "text": [
      "100%|██████████| 711/711 [00:04<00:00, 169.13it/s]\n"
     ]
    },
    {
     "name": "stdout",
     "output_type": "stream",
     "text": [
      "Train Accuracy: 0.6931, Val Accuracy: 0.5869, Test Accuracy: 0.5181\n",
      "Train loss: 1.0419\n",
      "\n",
      " Epoch 158 training:\n"
     ]
    },
    {
     "name": "stderr",
     "output_type": "stream",
     "text": [
      "100%|██████████| 711/711 [00:04<00:00, 171.42it/s]\n"
     ]
    },
    {
     "name": "stdout",
     "output_type": "stream",
     "text": [
      "Train Accuracy: 0.6968, Val Accuracy: 0.5917, Test Accuracy: 0.5266\n",
      "Train loss: 1.0413\n",
      "\n",
      " Epoch 159 training:\n"
     ]
    },
    {
     "name": "stderr",
     "output_type": "stream",
     "text": [
      "100%|██████████| 711/711 [00:04<00:00, 168.97it/s]\n"
     ]
    },
    {
     "name": "stdout",
     "output_type": "stream",
     "text": [
      "Train Accuracy: 0.6922, Val Accuracy: 0.5976, Test Accuracy: 0.5366\n",
      "Train loss: 1.0387\n",
      "\n",
      " Epoch 160 training:\n"
     ]
    },
    {
     "name": "stderr",
     "output_type": "stream",
     "text": [
      "100%|██████████| 711/711 [00:04<00:00, 157.88it/s]\n"
     ]
    },
    {
     "name": "stdout",
     "output_type": "stream",
     "text": [
      "Train Accuracy: 0.6928, Val Accuracy: 0.5906, Test Accuracy: 0.5245\n",
      "Train loss: 1.0397\n",
      "\n",
      " Epoch 161 training:\n"
     ]
    },
    {
     "name": "stderr",
     "output_type": "stream",
     "text": [
      "100%|██████████| 711/711 [00:04<00:00, 165.66it/s]\n"
     ]
    },
    {
     "name": "stdout",
     "output_type": "stream",
     "text": [
      "Train Accuracy: 0.6919, Val Accuracy: 0.5973, Test Accuracy: 0.5307\n",
      "Train loss: 1.0374\n",
      "\n",
      " Epoch 162 training:\n"
     ]
    },
    {
     "name": "stderr",
     "output_type": "stream",
     "text": [
      "100%|██████████| 711/711 [00:04<00:00, 166.80it/s]\n"
     ]
    },
    {
     "name": "stdout",
     "output_type": "stream",
     "text": [
      "Train Accuracy: 0.6955, Val Accuracy: 0.5868, Test Accuracy: 0.5222\n",
      "Train loss: 1.0396\n",
      "\n",
      " Epoch 163 training:\n"
     ]
    },
    {
     "name": "stderr",
     "output_type": "stream",
     "text": [
      "100%|██████████| 711/711 [00:04<00:00, 155.50it/s]\n"
     ]
    },
    {
     "name": "stdout",
     "output_type": "stream",
     "text": [
      "Train Accuracy: 0.6921, Val Accuracy: 0.5941, Test Accuracy: 0.5302\n",
      "Train loss: 1.0382\n",
      "\n",
      " Epoch 164 training:\n"
     ]
    },
    {
     "name": "stderr",
     "output_type": "stream",
     "text": [
      "100%|██████████| 711/711 [00:04<00:00, 166.08it/s]\n"
     ]
    },
    {
     "name": "stdout",
     "output_type": "stream",
     "text": [
      "Train Accuracy: 0.6953, Val Accuracy: 0.5928, Test Accuracy: 0.5246\n",
      "Train loss: 1.0361\n",
      "\n",
      " Epoch 165 training:\n"
     ]
    },
    {
     "name": "stderr",
     "output_type": "stream",
     "text": [
      "100%|██████████| 711/711 [00:04<00:00, 162.98it/s]\n"
     ]
    },
    {
     "name": "stdout",
     "output_type": "stream",
     "text": [
      "Train Accuracy: 0.6943, Val Accuracy: 0.5975, Test Accuracy: 0.5367\n",
      "Train loss: 1.0326\n",
      "\n",
      " Epoch 166 training:\n"
     ]
    },
    {
     "name": "stderr",
     "output_type": "stream",
     "text": [
      "100%|██████████| 711/711 [00:04<00:00, 157.38it/s]\n"
     ]
    },
    {
     "name": "stdout",
     "output_type": "stream",
     "text": [
      "Train Accuracy: 0.6899, Val Accuracy: 0.5900, Test Accuracy: 0.5336\n",
      "Train loss: 1.0350\n",
      "\n",
      " Epoch 167 training:\n"
     ]
    },
    {
     "name": "stderr",
     "output_type": "stream",
     "text": [
      "100%|██████████| 711/711 [00:04<00:00, 167.39it/s]\n"
     ]
    },
    {
     "name": "stdout",
     "output_type": "stream",
     "text": [
      "Train Accuracy: 0.6934, Val Accuracy: 0.5876, Test Accuracy: 0.5217\n",
      "Train loss: 1.0383\n",
      "\n",
      " Epoch 168 training:\n"
     ]
    },
    {
     "name": "stderr",
     "output_type": "stream",
     "text": [
      "100%|██████████| 711/711 [00:04<00:00, 172.75it/s]\n"
     ]
    },
    {
     "name": "stdout",
     "output_type": "stream",
     "text": [
      "Train Accuracy: 0.6939, Val Accuracy: 0.5987, Test Accuracy: 0.5341\n",
      "Train loss: 1.0413\n",
      "\n",
      " Epoch 169 training:\n"
     ]
    },
    {
     "name": "stderr",
     "output_type": "stream",
     "text": [
      "100%|██████████| 711/711 [00:04<00:00, 164.81it/s]\n"
     ]
    },
    {
     "name": "stdout",
     "output_type": "stream",
     "text": [
      "Train Accuracy: 0.6918, Val Accuracy: 0.5909, Test Accuracy: 0.5240\n",
      "Train loss: 1.0341\n",
      "\n",
      " Epoch 170 training:\n"
     ]
    },
    {
     "name": "stderr",
     "output_type": "stream",
     "text": [
      "100%|██████████| 711/711 [00:03<00:00, 179.02it/s]\n"
     ]
    },
    {
     "name": "stdout",
     "output_type": "stream",
     "text": [
      "Train Accuracy: 0.6940, Val Accuracy: 0.5893, Test Accuracy: 0.5196\n",
      "Train loss: 1.0395\n",
      "\n",
      " Epoch 171 training:\n"
     ]
    },
    {
     "name": "stderr",
     "output_type": "stream",
     "text": [
      "100%|██████████| 711/711 [00:04<00:00, 165.04it/s]\n"
     ]
    },
    {
     "name": "stdout",
     "output_type": "stream",
     "text": [
      "Train Accuracy: 0.6962, Val Accuracy: 0.5960, Test Accuracy: 0.5318\n",
      "Train loss: 1.0383\n",
      "\n",
      " Epoch 172 training:\n"
     ]
    },
    {
     "name": "stderr",
     "output_type": "stream",
     "text": [
      "100%|██████████| 711/711 [00:04<00:00, 156.35it/s]\n"
     ]
    },
    {
     "name": "stdout",
     "output_type": "stream",
     "text": [
      "Train Accuracy: 0.6961, Val Accuracy: 0.5916, Test Accuracy: 0.5261\n",
      "Train loss: 1.0363\n",
      "\n",
      " Epoch 173 training:\n"
     ]
    },
    {
     "name": "stderr",
     "output_type": "stream",
     "text": [
      "100%|██████████| 711/711 [00:04<00:00, 158.15it/s]\n"
     ]
    },
    {
     "name": "stdout",
     "output_type": "stream",
     "text": [
      "Train Accuracy: 0.6932, Val Accuracy: 0.5890, Test Accuracy: 0.5205\n",
      "Train loss: 1.0359\n",
      "\n",
      " Epoch 174 training:\n"
     ]
    },
    {
     "name": "stderr",
     "output_type": "stream",
     "text": [
      "100%|██████████| 711/711 [00:04<00:00, 153.61it/s]\n"
     ]
    },
    {
     "name": "stdout",
     "output_type": "stream",
     "text": [
      "Train Accuracy: 0.6967, Val Accuracy: 0.5916, Test Accuracy: 0.5289\n",
      "Train loss: 1.0354\n",
      "\n",
      " Epoch 175 training:\n"
     ]
    },
    {
     "name": "stderr",
     "output_type": "stream",
     "text": [
      "100%|██████████| 711/711 [00:04<00:00, 159.60it/s]\n"
     ]
    },
    {
     "name": "stdout",
     "output_type": "stream",
     "text": [
      "Train Accuracy: 0.6966, Val Accuracy: 0.5897, Test Accuracy: 0.5221\n",
      "Train loss: 1.0360\n",
      "\n",
      " Epoch 176 training:\n"
     ]
    },
    {
     "name": "stderr",
     "output_type": "stream",
     "text": [
      "100%|██████████| 711/711 [00:04<00:00, 170.90it/s]\n"
     ]
    },
    {
     "name": "stdout",
     "output_type": "stream",
     "text": [
      "Train Accuracy: 0.6984, Val Accuracy: 0.5920, Test Accuracy: 0.5278\n",
      "Train loss: 1.0381\n",
      "\n",
      " Epoch 177 training:\n"
     ]
    },
    {
     "name": "stderr",
     "output_type": "stream",
     "text": [
      "100%|██████████| 711/711 [00:04<00:00, 160.08it/s]\n"
     ]
    },
    {
     "name": "stdout",
     "output_type": "stream",
     "text": [
      "Train Accuracy: 0.6963, Val Accuracy: 0.5907, Test Accuracy: 0.5226\n",
      "Train loss: 1.0393\n",
      "\n",
      " Epoch 178 training:\n"
     ]
    },
    {
     "name": "stderr",
     "output_type": "stream",
     "text": [
      "100%|██████████| 711/711 [00:04<00:00, 163.28it/s]\n"
     ]
    },
    {
     "name": "stdout",
     "output_type": "stream",
     "text": [
      "Train Accuracy: 0.6949, Val Accuracy: 0.5936, Test Accuracy: 0.5341\n",
      "Train loss: 1.0378\n",
      "\n",
      " Epoch 179 training:\n"
     ]
    },
    {
     "name": "stderr",
     "output_type": "stream",
     "text": [
      "100%|██████████| 711/711 [00:04<00:00, 168.13it/s]\n"
     ]
    },
    {
     "name": "stdout",
     "output_type": "stream",
     "text": [
      "Train Accuracy: 0.6974, Val Accuracy: 0.5912, Test Accuracy: 0.5253\n",
      "Train loss: 1.0351\n",
      "\n",
      " Epoch 180 training:\n"
     ]
    },
    {
     "name": "stderr",
     "output_type": "stream",
     "text": [
      "100%|██████████| 711/711 [00:04<00:00, 156.24it/s]\n"
     ]
    },
    {
     "name": "stdout",
     "output_type": "stream",
     "text": [
      "Train Accuracy: 0.6974, Val Accuracy: 0.5954, Test Accuracy: 0.5356\n",
      "Train loss: 1.0354\n",
      "\n",
      " Epoch 181 training:\n"
     ]
    },
    {
     "name": "stderr",
     "output_type": "stream",
     "text": [
      "100%|██████████| 711/711 [00:04<00:00, 161.14it/s]\n"
     ]
    },
    {
     "name": "stdout",
     "output_type": "stream",
     "text": [
      "Train Accuracy: 0.6954, Val Accuracy: 0.5885, Test Accuracy: 0.5187\n",
      "Train loss: 1.0318\n",
      "\n",
      " Epoch 182 training:\n"
     ]
    },
    {
     "name": "stderr",
     "output_type": "stream",
     "text": [
      "100%|██████████| 711/711 [00:04<00:00, 155.83it/s]\n"
     ]
    },
    {
     "name": "stdout",
     "output_type": "stream",
     "text": [
      "Train Accuracy: 0.6969, Val Accuracy: 0.5861, Test Accuracy: 0.5198\n",
      "Train loss: 1.0329\n",
      "\n",
      " Epoch 183 training:\n"
     ]
    },
    {
     "name": "stderr",
     "output_type": "stream",
     "text": [
      "100%|██████████| 711/711 [00:04<00:00, 169.39it/s]\n"
     ]
    },
    {
     "name": "stdout",
     "output_type": "stream",
     "text": [
      "Train Accuracy: 0.6955, Val Accuracy: 0.5890, Test Accuracy: 0.5240\n",
      "Train loss: 1.0353\n",
      "\n",
      " Epoch 184 training:\n"
     ]
    },
    {
     "name": "stderr",
     "output_type": "stream",
     "text": [
      "100%|██████████| 711/711 [00:04<00:00, 163.90it/s]\n"
     ]
    },
    {
     "name": "stdout",
     "output_type": "stream",
     "text": [
      "Train Accuracy: 0.6965, Val Accuracy: 0.5901, Test Accuracy: 0.5211\n",
      "Train loss: 1.0300\n",
      "\n",
      " Epoch 185 training:\n"
     ]
    },
    {
     "name": "stderr",
     "output_type": "stream",
     "text": [
      "100%|██████████| 711/711 [00:04<00:00, 155.94it/s]\n"
     ]
    },
    {
     "name": "stdout",
     "output_type": "stream",
     "text": [
      "Train Accuracy: 0.6972, Val Accuracy: 0.5909, Test Accuracy: 0.5294\n",
      "Train loss: 1.0315\n",
      "\n",
      " Epoch 186 training:\n"
     ]
    },
    {
     "name": "stderr",
     "output_type": "stream",
     "text": [
      "100%|██████████| 711/711 [00:04<00:00, 165.13it/s]\n"
     ]
    },
    {
     "name": "stdout",
     "output_type": "stream",
     "text": [
      "Train Accuracy: 0.6954, Val Accuracy: 0.5930, Test Accuracy: 0.5333\n",
      "Train loss: 1.0316\n",
      "\n",
      " Epoch 187 training:\n"
     ]
    },
    {
     "name": "stderr",
     "output_type": "stream",
     "text": [
      "100%|██████████| 711/711 [00:04<00:00, 171.35it/s]\n"
     ]
    },
    {
     "name": "stdout",
     "output_type": "stream",
     "text": [
      "Train Accuracy: 0.6957, Val Accuracy: 0.5885, Test Accuracy: 0.5230\n",
      "Train loss: 1.0287\n",
      "\n",
      " Epoch 188 training:\n"
     ]
    },
    {
     "name": "stderr",
     "output_type": "stream",
     "text": [
      "100%|██████████| 711/711 [00:04<00:00, 168.93it/s]\n"
     ]
    },
    {
     "name": "stdout",
     "output_type": "stream",
     "text": [
      "Train Accuracy: 0.6977, Val Accuracy: 0.5888, Test Accuracy: 0.5234\n",
      "Train loss: 1.0285\n",
      "\n",
      " Epoch 189 training:\n"
     ]
    },
    {
     "name": "stderr",
     "output_type": "stream",
     "text": [
      "100%|██████████| 711/711 [00:04<00:00, 163.22it/s]\n"
     ]
    },
    {
     "name": "stdout",
     "output_type": "stream",
     "text": [
      "Train Accuracy: 0.6992, Val Accuracy: 0.5918, Test Accuracy: 0.5272\n",
      "Train loss: 1.0287\n",
      "\n",
      " Epoch 190 training:\n"
     ]
    },
    {
     "name": "stderr",
     "output_type": "stream",
     "text": [
      "100%|██████████| 711/711 [00:04<00:00, 157.75it/s]\n"
     ]
    },
    {
     "name": "stdout",
     "output_type": "stream",
     "text": [
      "Train Accuracy: 0.6959, Val Accuracy: 0.5930, Test Accuracy: 0.5287\n",
      "Train loss: 1.0309\n",
      "\n",
      " Epoch 191 training:\n"
     ]
    },
    {
     "name": "stderr",
     "output_type": "stream",
     "text": [
      "100%|██████████| 711/711 [00:04<00:00, 169.17it/s]\n"
     ]
    },
    {
     "name": "stdout",
     "output_type": "stream",
     "text": [
      "Train Accuracy: 0.6940, Val Accuracy: 0.5961, Test Accuracy: 0.5350\n",
      "Train loss: 1.0317\n",
      "\n",
      " Epoch 192 training:\n"
     ]
    },
    {
     "name": "stderr",
     "output_type": "stream",
     "text": [
      "100%|██████████| 711/711 [00:04<00:00, 148.58it/s]\n"
     ]
    },
    {
     "name": "stdout",
     "output_type": "stream",
     "text": [
      "Train Accuracy: 0.6974, Val Accuracy: 0.5840, Test Accuracy: 0.5167\n",
      "Train loss: 1.0321\n",
      "\n",
      " Epoch 193 training:\n"
     ]
    },
    {
     "name": "stderr",
     "output_type": "stream",
     "text": [
      "100%|██████████| 711/711 [00:04<00:00, 164.93it/s]\n"
     ]
    },
    {
     "name": "stdout",
     "output_type": "stream",
     "text": [
      "Train Accuracy: 0.6977, Val Accuracy: 0.5902, Test Accuracy: 0.5260\n",
      "Train loss: 1.0313\n",
      "\n",
      " Epoch 194 training:\n"
     ]
    },
    {
     "name": "stderr",
     "output_type": "stream",
     "text": [
      "100%|██████████| 711/711 [00:04<00:00, 152.63it/s]\n"
     ]
    },
    {
     "name": "stdout",
     "output_type": "stream",
     "text": [
      "Train Accuracy: 0.6927, Val Accuracy: 0.5959, Test Accuracy: 0.5391\n",
      "Train loss: 1.0266\n",
      "\n",
      " Epoch 195 training:\n"
     ]
    },
    {
     "name": "stderr",
     "output_type": "stream",
     "text": [
      "100%|██████████| 711/711 [00:04<00:00, 163.10it/s]\n"
     ]
    },
    {
     "name": "stdout",
     "output_type": "stream",
     "text": [
      "Train Accuracy: 0.6983, Val Accuracy: 0.5957, Test Accuracy: 0.5325\n",
      "Train loss: 1.0284\n",
      "\n",
      " Epoch 196 training:\n"
     ]
    },
    {
     "name": "stderr",
     "output_type": "stream",
     "text": [
      "100%|██████████| 711/711 [00:04<00:00, 159.74it/s]\n"
     ]
    },
    {
     "name": "stdout",
     "output_type": "stream",
     "text": [
      "Train Accuracy: 0.6966, Val Accuracy: 0.5865, Test Accuracy: 0.5211\n",
      "Train loss: 1.0298\n",
      "\n",
      " Epoch 197 training:\n"
     ]
    },
    {
     "name": "stderr",
     "output_type": "stream",
     "text": [
      "100%|██████████| 711/711 [00:04<00:00, 160.36it/s]\n"
     ]
    },
    {
     "name": "stdout",
     "output_type": "stream",
     "text": [
      "Train Accuracy: 0.6986, Val Accuracy: 0.5910, Test Accuracy: 0.5265\n",
      "Train loss: 1.0296\n",
      "\n",
      " Epoch 198 training:\n"
     ]
    },
    {
     "name": "stderr",
     "output_type": "stream",
     "text": [
      "100%|██████████| 711/711 [00:04<00:00, 161.71it/s]\n"
     ]
    },
    {
     "name": "stdout",
     "output_type": "stream",
     "text": [
      "Train Accuracy: 0.6992, Val Accuracy: 0.5905, Test Accuracy: 0.5236\n",
      "Train loss: 1.0300\n",
      "\n",
      " Epoch 199 training:\n"
     ]
    },
    {
     "name": "stderr",
     "output_type": "stream",
     "text": [
      "100%|██████████| 711/711 [00:04<00:00, 168.74it/s]\n"
     ]
    },
    {
     "name": "stdout",
     "output_type": "stream",
     "text": [
      "Train Accuracy: 0.6954, Val Accuracy: 0.5913, Test Accuracy: 0.5264\n",
      "Train loss: 1.0288\n",
      "\n",
      " Epoch 200 training:\n"
     ]
    },
    {
     "name": "stderr",
     "output_type": "stream",
     "text": [
      "100%|██████████| 711/711 [00:04<00:00, 172.07it/s]\n"
     ]
    },
    {
     "name": "stdout",
     "output_type": "stream",
     "text": [
      "Train Accuracy: 0.6951, Val Accuracy: 0.5914, Test Accuracy: 0.5305\n",
      "Train loss: 1.0293\n",
      "\n",
      " Epoch 201 training:\n"
     ]
    },
    {
     "name": "stderr",
     "output_type": "stream",
     "text": [
      "100%|██████████| 711/711 [00:04<00:00, 152.45it/s]\n"
     ]
    },
    {
     "name": "stdout",
     "output_type": "stream",
     "text": [
      "Train Accuracy: 0.6978, Val Accuracy: 0.5891, Test Accuracy: 0.5244\n",
      "Train loss: 1.0296\n",
      "\n",
      " Epoch 202 training:\n"
     ]
    },
    {
     "name": "stderr",
     "output_type": "stream",
     "text": [
      "100%|██████████| 711/711 [00:04<00:00, 164.63it/s]\n"
     ]
    },
    {
     "name": "stdout",
     "output_type": "stream",
     "text": [
      "Train Accuracy: 0.6949, Val Accuracy: 0.5906, Test Accuracy: 0.5273\n",
      "Train loss: 1.0326\n",
      "\n",
      " Epoch 203 training:\n"
     ]
    },
    {
     "name": "stderr",
     "output_type": "stream",
     "text": [
      "100%|██████████| 711/711 [00:04<00:00, 164.31it/s]\n"
     ]
    },
    {
     "name": "stdout",
     "output_type": "stream",
     "text": [
      "Train Accuracy: 0.6935, Val Accuracy: 0.5936, Test Accuracy: 0.5321\n",
      "Train loss: 1.0293\n",
      "\n",
      " Epoch 204 training:\n"
     ]
    },
    {
     "name": "stderr",
     "output_type": "stream",
     "text": [
      "100%|██████████| 711/711 [00:04<00:00, 150.37it/s]\n"
     ]
    },
    {
     "name": "stdout",
     "output_type": "stream",
     "text": [
      "Train Accuracy: 0.6964, Val Accuracy: 0.5917, Test Accuracy: 0.5324\n",
      "Train loss: 1.0340\n",
      "\n",
      " Epoch 205 training:\n"
     ]
    },
    {
     "name": "stderr",
     "output_type": "stream",
     "text": [
      "100%|██████████| 711/711 [00:04<00:00, 162.38it/s]\n"
     ]
    },
    {
     "name": "stdout",
     "output_type": "stream",
     "text": [
      "Train Accuracy: 0.6952, Val Accuracy: 0.5910, Test Accuracy: 0.5288\n",
      "Train loss: 1.0262\n",
      "\n",
      " Epoch 206 training:\n"
     ]
    },
    {
     "name": "stderr",
     "output_type": "stream",
     "text": [
      "100%|██████████| 711/711 [00:04<00:00, 169.47it/s]\n"
     ]
    },
    {
     "name": "stdout",
     "output_type": "stream",
     "text": [
      "Train Accuracy: 0.6980, Val Accuracy: 0.5819, Test Accuracy: 0.5120\n",
      "Train loss: 1.0238\n",
      "\n",
      " Epoch 207 training:\n"
     ]
    },
    {
     "name": "stderr",
     "output_type": "stream",
     "text": [
      "100%|██████████| 711/711 [00:04<00:00, 158.34it/s]\n"
     ]
    },
    {
     "name": "stdout",
     "output_type": "stream",
     "text": [
      "Train Accuracy: 0.6972, Val Accuracy: 0.5927, Test Accuracy: 0.5330\n",
      "Train loss: 1.0315\n",
      "\n",
      " Epoch 208 training:\n"
     ]
    },
    {
     "name": "stderr",
     "output_type": "stream",
     "text": [
      "100%|██████████| 711/711 [00:04<00:00, 162.32it/s]\n"
     ]
    },
    {
     "name": "stdout",
     "output_type": "stream",
     "text": [
      "Train Accuracy: 0.6963, Val Accuracy: 0.5878, Test Accuracy: 0.5183\n",
      "Train loss: 1.0257\n",
      "\n",
      " Epoch 209 training:\n"
     ]
    },
    {
     "name": "stderr",
     "output_type": "stream",
     "text": [
      "100%|██████████| 711/711 [00:04<00:00, 163.67it/s]\n"
     ]
    },
    {
     "name": "stdout",
     "output_type": "stream",
     "text": [
      "Train Accuracy: 0.6985, Val Accuracy: 0.5894, Test Accuracy: 0.5222\n",
      "Train loss: 1.0248\n",
      "\n",
      " Epoch 210 training:\n"
     ]
    },
    {
     "name": "stderr",
     "output_type": "stream",
     "text": [
      "100%|██████████| 711/711 [00:04<00:00, 155.37it/s]\n"
     ]
    },
    {
     "name": "stdout",
     "output_type": "stream",
     "text": [
      "Train Accuracy: 0.6941, Val Accuracy: 0.5947, Test Accuracy: 0.5300\n",
      "Train loss: 1.0264\n",
      "\n",
      " Epoch 211 training:\n"
     ]
    },
    {
     "name": "stderr",
     "output_type": "stream",
     "text": [
      "100%|██████████| 711/711 [00:04<00:00, 164.90it/s]\n"
     ]
    },
    {
     "name": "stdout",
     "output_type": "stream",
     "text": [
      "Train Accuracy: 0.6974, Val Accuracy: 0.5859, Test Accuracy: 0.5187\n",
      "Train loss: 1.0269\n",
      "\n",
      " Epoch 212 training:\n"
     ]
    },
    {
     "name": "stderr",
     "output_type": "stream",
     "text": [
      "100%|██████████| 711/711 [00:04<00:00, 155.60it/s]\n"
     ]
    },
    {
     "name": "stdout",
     "output_type": "stream",
     "text": [
      "Train Accuracy: 0.6994, Val Accuracy: 0.5882, Test Accuracy: 0.5223\n",
      "Train loss: 1.0249\n",
      "\n",
      " Epoch 213 training:\n"
     ]
    },
    {
     "name": "stderr",
     "output_type": "stream",
     "text": [
      "100%|██████████| 711/711 [00:04<00:00, 158.15it/s]\n"
     ]
    },
    {
     "name": "stdout",
     "output_type": "stream",
     "text": [
      "Train Accuracy: 0.6980, Val Accuracy: 0.5905, Test Accuracy: 0.5287\n",
      "Train loss: 1.0252\n",
      "\n",
      " Epoch 214 training:\n"
     ]
    },
    {
     "name": "stderr",
     "output_type": "stream",
     "text": [
      "100%|██████████| 711/711 [00:04<00:00, 155.07it/s]\n"
     ]
    },
    {
     "name": "stdout",
     "output_type": "stream",
     "text": [
      "Train Accuracy: 0.6996, Val Accuracy: 0.5872, Test Accuracy: 0.5210\n",
      "Train loss: 1.0255\n",
      "\n",
      " Epoch 215 training:\n"
     ]
    },
    {
     "name": "stderr",
     "output_type": "stream",
     "text": [
      "100%|██████████| 711/711 [00:04<00:00, 163.98it/s]\n"
     ]
    },
    {
     "name": "stdout",
     "output_type": "stream",
     "text": [
      "Train Accuracy: 0.6988, Val Accuracy: 0.5930, Test Accuracy: 0.5252\n",
      "Train loss: 1.0240\n",
      "\n",
      " Epoch 216 training:\n"
     ]
    },
    {
     "name": "stderr",
     "output_type": "stream",
     "text": [
      "100%|██████████| 711/711 [00:04<00:00, 156.61it/s]\n"
     ]
    },
    {
     "name": "stdout",
     "output_type": "stream",
     "text": [
      "Train Accuracy: 0.6968, Val Accuracy: 0.5874, Test Accuracy: 0.5288\n",
      "Train loss: 1.0276\n",
      "\n",
      " Epoch 217 training:\n"
     ]
    },
    {
     "name": "stderr",
     "output_type": "stream",
     "text": [
      "100%|██████████| 711/711 [00:04<00:00, 163.85it/s]\n"
     ]
    },
    {
     "name": "stdout",
     "output_type": "stream",
     "text": [
      "Train Accuracy: 0.7003, Val Accuracy: 0.5895, Test Accuracy: 0.5252\n",
      "Train loss: 1.0248\n",
      "\n",
      " Epoch 218 training:\n"
     ]
    },
    {
     "name": "stderr",
     "output_type": "stream",
     "text": [
      "100%|██████████| 711/711 [00:04<00:00, 162.55it/s]\n"
     ]
    },
    {
     "name": "stdout",
     "output_type": "stream",
     "text": [
      "Train Accuracy: 0.7000, Val Accuracy: 0.5872, Test Accuracy: 0.5282\n",
      "Train loss: 1.0269\n",
      "\n",
      " Epoch 219 training:\n"
     ]
    },
    {
     "name": "stderr",
     "output_type": "stream",
     "text": [
      "100%|██████████| 711/711 [00:04<00:00, 174.84it/s]\n"
     ]
    },
    {
     "name": "stdout",
     "output_type": "stream",
     "text": [
      "Train Accuracy: 0.6977, Val Accuracy: 0.5885, Test Accuracy: 0.5197\n",
      "Train loss: 1.0279\n",
      "\n",
      " Epoch 220 training:\n"
     ]
    },
    {
     "name": "stderr",
     "output_type": "stream",
     "text": [
      "100%|██████████| 711/711 [00:04<00:00, 158.47it/s]\n"
     ]
    },
    {
     "name": "stdout",
     "output_type": "stream",
     "text": [
      "Train Accuracy: 0.6974, Val Accuracy: 0.5892, Test Accuracy: 0.5263\n",
      "Train loss: 1.0272\n",
      "\n",
      " Epoch 221 training:\n"
     ]
    },
    {
     "name": "stderr",
     "output_type": "stream",
     "text": [
      "100%|██████████| 711/711 [00:04<00:00, 161.91it/s]\n"
     ]
    },
    {
     "name": "stdout",
     "output_type": "stream",
     "text": [
      "Train Accuracy: 0.6995, Val Accuracy: 0.5934, Test Accuracy: 0.5360\n",
      "Train loss: 1.0241\n",
      "\n",
      " Epoch 222 training:\n"
     ]
    },
    {
     "name": "stderr",
     "output_type": "stream",
     "text": [
      "100%|██████████| 711/711 [00:04<00:00, 175.91it/s]\n"
     ]
    },
    {
     "name": "stdout",
     "output_type": "stream",
     "text": [
      "Train Accuracy: 0.7000, Val Accuracy: 0.5834, Test Accuracy: 0.5224\n",
      "Train loss: 1.0260\n",
      "\n",
      " Epoch 223 training:\n"
     ]
    },
    {
     "name": "stderr",
     "output_type": "stream",
     "text": [
      "100%|██████████| 711/711 [00:04<00:00, 159.71it/s]\n"
     ]
    },
    {
     "name": "stdout",
     "output_type": "stream",
     "text": [
      "Train Accuracy: 0.6969, Val Accuracy: 0.5832, Test Accuracy: 0.5153\n",
      "Train loss: 1.0235\n",
      "\n",
      " Epoch 224 training:\n"
     ]
    },
    {
     "name": "stderr",
     "output_type": "stream",
     "text": [
      "100%|██████████| 711/711 [00:04<00:00, 158.55it/s]\n"
     ]
    },
    {
     "name": "stdout",
     "output_type": "stream",
     "text": [
      "Train Accuracy: 0.7006, Val Accuracy: 0.5900, Test Accuracy: 0.5288\n",
      "Train loss: 1.0229\n",
      "\n",
      " Epoch 225 training:\n"
     ]
    },
    {
     "name": "stderr",
     "output_type": "stream",
     "text": [
      "100%|██████████| 711/711 [00:04<00:00, 157.42it/s]\n"
     ]
    },
    {
     "name": "stdout",
     "output_type": "stream",
     "text": [
      "Train Accuracy: 0.6978, Val Accuracy: 0.5938, Test Accuracy: 0.5303\n",
      "Train loss: 1.0226\n",
      "\n",
      " Epoch 226 training:\n"
     ]
    },
    {
     "name": "stderr",
     "output_type": "stream",
     "text": [
      "100%|██████████| 711/711 [00:03<00:00, 178.21it/s]\n"
     ]
    },
    {
     "name": "stdout",
     "output_type": "stream",
     "text": [
      "Train Accuracy: 0.6972, Val Accuracy: 0.5915, Test Accuracy: 0.5254\n",
      "Train loss: 1.0215\n",
      "\n",
      " Epoch 227 training:\n"
     ]
    },
    {
     "name": "stderr",
     "output_type": "stream",
     "text": [
      "100%|██████████| 711/711 [00:04<00:00, 160.29it/s]\n"
     ]
    },
    {
     "name": "stdout",
     "output_type": "stream",
     "text": [
      "Train Accuracy: 0.6984, Val Accuracy: 0.5878, Test Accuracy: 0.5194\n",
      "Train loss: 1.0258\n",
      "\n",
      " Epoch 228 training:\n"
     ]
    },
    {
     "name": "stderr",
     "output_type": "stream",
     "text": [
      "100%|██████████| 711/711 [00:04<00:00, 166.99it/s]\n"
     ]
    },
    {
     "name": "stdout",
     "output_type": "stream",
     "text": [
      "Train Accuracy: 0.6955, Val Accuracy: 0.5916, Test Accuracy: 0.5291\n",
      "Train loss: 1.0209\n",
      "\n",
      " Epoch 229 training:\n"
     ]
    },
    {
     "name": "stderr",
     "output_type": "stream",
     "text": [
      "100%|██████████| 711/711 [00:04<00:00, 156.20it/s]\n"
     ]
    },
    {
     "name": "stdout",
     "output_type": "stream",
     "text": [
      "Train Accuracy: 0.7009, Val Accuracy: 0.5918, Test Accuracy: 0.5264\n",
      "Train loss: 1.0285\n",
      "\n",
      " Epoch 230 training:\n"
     ]
    },
    {
     "name": "stderr",
     "output_type": "stream",
     "text": [
      "100%|██████████| 711/711 [00:04<00:00, 171.86it/s]\n"
     ]
    },
    {
     "name": "stdout",
     "output_type": "stream",
     "text": [
      "Train Accuracy: 0.6976, Val Accuracy: 0.5914, Test Accuracy: 0.5287\n",
      "Train loss: 1.0232\n",
      "\n",
      " Epoch 231 training:\n"
     ]
    },
    {
     "name": "stderr",
     "output_type": "stream",
     "text": [
      "100%|██████████| 711/711 [00:04<00:00, 168.62it/s]\n"
     ]
    },
    {
     "name": "stdout",
     "output_type": "stream",
     "text": [
      "Train Accuracy: 0.7009, Val Accuracy: 0.5874, Test Accuracy: 0.5224\n",
      "Train loss: 1.0236\n",
      "\n",
      " Epoch 232 training:\n"
     ]
    },
    {
     "name": "stderr",
     "output_type": "stream",
     "text": [
      "100%|██████████| 711/711 [00:04<00:00, 162.88it/s]\n"
     ]
    },
    {
     "name": "stdout",
     "output_type": "stream",
     "text": [
      "Train Accuracy: 0.6967, Val Accuracy: 0.5958, Test Accuracy: 0.5392\n",
      "Train loss: 1.0175\n",
      "\n",
      " Epoch 233 training:\n"
     ]
    },
    {
     "name": "stderr",
     "output_type": "stream",
     "text": [
      "100%|██████████| 711/711 [00:04<00:00, 168.15it/s]\n"
     ]
    },
    {
     "name": "stdout",
     "output_type": "stream",
     "text": [
      "Train Accuracy: 0.6970, Val Accuracy: 0.5832, Test Accuracy: 0.5166\n",
      "Train loss: 1.0194\n",
      "\n",
      " Epoch 234 training:\n"
     ]
    },
    {
     "name": "stderr",
     "output_type": "stream",
     "text": [
      "100%|██████████| 711/711 [00:04<00:00, 167.34it/s]\n"
     ]
    },
    {
     "name": "stdout",
     "output_type": "stream",
     "text": [
      "Train Accuracy: 0.6997, Val Accuracy: 0.5930, Test Accuracy: 0.5261\n",
      "Train loss: 1.0216\n",
      "\n",
      " Epoch 235 training:\n"
     ]
    },
    {
     "name": "stderr",
     "output_type": "stream",
     "text": [
      "100%|██████████| 711/711 [00:04<00:00, 155.71it/s]\n"
     ]
    },
    {
     "name": "stdout",
     "output_type": "stream",
     "text": [
      "Train Accuracy: 0.6993, Val Accuracy: 0.5868, Test Accuracy: 0.5237\n",
      "Train loss: 1.0234\n",
      "\n",
      " Epoch 236 training:\n"
     ]
    },
    {
     "name": "stderr",
     "output_type": "stream",
     "text": [
      "100%|██████████| 711/711 [00:04<00:00, 156.83it/s]\n"
     ]
    },
    {
     "name": "stdout",
     "output_type": "stream",
     "text": [
      "Train Accuracy: 0.6981, Val Accuracy: 0.5902, Test Accuracy: 0.5216\n",
      "Train loss: 1.0255\n",
      "\n",
      " Epoch 237 training:\n"
     ]
    },
    {
     "name": "stderr",
     "output_type": "stream",
     "text": [
      "100%|██████████| 711/711 [00:04<00:00, 156.50it/s]\n"
     ]
    },
    {
     "name": "stdout",
     "output_type": "stream",
     "text": [
      "Train Accuracy: 0.6902, Val Accuracy: 0.5811, Test Accuracy: 0.5201\n",
      "Train loss: 1.0211\n",
      "\n",
      " Epoch 238 training:\n"
     ]
    },
    {
     "name": "stderr",
     "output_type": "stream",
     "text": [
      "100%|██████████| 711/711 [00:04<00:00, 172.17it/s]\n"
     ]
    },
    {
     "name": "stdout",
     "output_type": "stream",
     "text": [
      "Train Accuracy: 0.6999, Val Accuracy: 0.5979, Test Accuracy: 0.5361\n",
      "Train loss: 1.0233\n",
      "\n",
      " Epoch 239 training:\n"
     ]
    },
    {
     "name": "stderr",
     "output_type": "stream",
     "text": [
      "100%|██████████| 711/711 [00:04<00:00, 156.69it/s]\n"
     ]
    },
    {
     "name": "stdout",
     "output_type": "stream",
     "text": [
      "Train Accuracy: 0.6984, Val Accuracy: 0.5899, Test Accuracy: 0.5238\n",
      "Train loss: 1.0206\n",
      "\n",
      " Epoch 240 training:\n"
     ]
    },
    {
     "name": "stderr",
     "output_type": "stream",
     "text": [
      "100%|██████████| 711/711 [00:04<00:00, 168.99it/s]\n"
     ]
    },
    {
     "name": "stdout",
     "output_type": "stream",
     "text": [
      "Train Accuracy: 0.7004, Val Accuracy: 0.5827, Test Accuracy: 0.5159\n",
      "Train loss: 1.0176\n",
      "\n",
      " Epoch 241 training:\n"
     ]
    },
    {
     "name": "stderr",
     "output_type": "stream",
     "text": [
      "100%|██████████| 711/711 [00:04<00:00, 161.79it/s]\n"
     ]
    },
    {
     "name": "stdout",
     "output_type": "stream",
     "text": [
      "Train Accuracy: 0.6975, Val Accuracy: 0.5897, Test Accuracy: 0.5280\n",
      "Train loss: 1.0189\n",
      "\n",
      " Epoch 242 training:\n"
     ]
    },
    {
     "name": "stderr",
     "output_type": "stream",
     "text": [
      "100%|██████████| 711/711 [00:04<00:00, 165.47it/s]\n"
     ]
    },
    {
     "name": "stdout",
     "output_type": "stream",
     "text": [
      "Train Accuracy: 0.6970, Val Accuracy: 0.5904, Test Accuracy: 0.5282\n",
      "Train loss: 1.0249\n",
      "\n",
      " Epoch 243 training:\n"
     ]
    },
    {
     "name": "stderr",
     "output_type": "stream",
     "text": [
      "100%|██████████| 711/711 [00:03<00:00, 178.61it/s]\n"
     ]
    },
    {
     "name": "stdout",
     "output_type": "stream",
     "text": [
      "Train Accuracy: 0.7005, Val Accuracy: 0.5852, Test Accuracy: 0.5166\n",
      "Train loss: 1.0208\n",
      "\n",
      " Epoch 244 training:\n"
     ]
    },
    {
     "name": "stderr",
     "output_type": "stream",
     "text": [
      "100%|██████████| 711/711 [00:04<00:00, 160.77it/s]\n"
     ]
    },
    {
     "name": "stdout",
     "output_type": "stream",
     "text": [
      "Train Accuracy: 0.6990, Val Accuracy: 0.5834, Test Accuracy: 0.5186\n",
      "Train loss: 1.0181\n",
      "\n",
      " Epoch 245 training:\n"
     ]
    },
    {
     "name": "stderr",
     "output_type": "stream",
     "text": [
      "100%|██████████| 711/711 [00:04<00:00, 161.14it/s]\n"
     ]
    },
    {
     "name": "stdout",
     "output_type": "stream",
     "text": [
      "Train Accuracy: 0.6974, Val Accuracy: 0.5870, Test Accuracy: 0.5190\n",
      "Train loss: 1.0209\n",
      "\n",
      " Epoch 246 training:\n"
     ]
    },
    {
     "name": "stderr",
     "output_type": "stream",
     "text": [
      "100%|██████████| 711/711 [00:04<00:00, 152.47it/s]\n"
     ]
    },
    {
     "name": "stdout",
     "output_type": "stream",
     "text": [
      "Train Accuracy: 0.6969, Val Accuracy: 0.5824, Test Accuracy: 0.5172\n",
      "Train loss: 1.0195\n",
      "\n",
      " Epoch 247 training:\n"
     ]
    },
    {
     "name": "stderr",
     "output_type": "stream",
     "text": [
      "100%|██████████| 711/711 [00:04<00:00, 167.98it/s]\n"
     ]
    },
    {
     "name": "stdout",
     "output_type": "stream",
     "text": [
      "Train Accuracy: 0.7011, Val Accuracy: 0.5910, Test Accuracy: 0.5270\n",
      "Train loss: 1.0208\n",
      "\n",
      " Epoch 248 training:\n"
     ]
    },
    {
     "name": "stderr",
     "output_type": "stream",
     "text": [
      "100%|██████████| 711/711 [00:04<00:00, 167.65it/s]\n"
     ]
    },
    {
     "name": "stdout",
     "output_type": "stream",
     "text": [
      "Train Accuracy: 0.7005, Val Accuracy: 0.5849, Test Accuracy: 0.5190\n",
      "Train loss: 1.0196\n",
      "\n",
      " Epoch 249 training:\n"
     ]
    },
    {
     "name": "stderr",
     "output_type": "stream",
     "text": [
      "100%|██████████| 711/711 [00:04<00:00, 175.24it/s]\n"
     ]
    },
    {
     "name": "stdout",
     "output_type": "stream",
     "text": [
      "Train Accuracy: 0.6969, Val Accuracy: 0.5881, Test Accuracy: 0.5225\n",
      "Train loss: 1.0166\n",
      "\n",
      " Epoch 0 training:\n"
     ]
    },
    {
     "name": "stderr",
     "output_type": "stream",
     "text": [
      "100%|██████████| 711/711 [01:22<00:00,  8.61it/s]\n"
     ]
    },
    {
     "name": "stdout",
     "output_type": "stream",
     "text": [
      "New best model validation accuracy: 0.41954. Previous: 0.00000\n",
      "Train Accuracy: 0.4270, Val Accuracy: 0.4195, Test Accuracy: 0.3540\n",
      "Train loss: 2.2268\n",
      "\n",
      " Epoch 1 training:\n"
     ]
    },
    {
     "name": "stderr",
     "output_type": "stream",
     "text": [
      "100%|██████████| 711/711 [01:21<00:00,  8.71it/s]\n"
     ]
    },
    {
     "name": "stdout",
     "output_type": "stream",
     "text": [
      "New best model validation accuracy: 0.45767. Previous: 0.41954\n",
      "Train Accuracy: 0.4524, Val Accuracy: 0.4577, Test Accuracy: 0.3908\n",
      "Train loss: 1.9039\n",
      "\n",
      " Epoch 2 training:\n"
     ]
    },
    {
     "name": "stderr",
     "output_type": "stream",
     "text": [
      "100%|██████████| 711/711 [01:22<00:00,  8.66it/s]\n"
     ]
    },
    {
     "name": "stdout",
     "output_type": "stream",
     "text": [
      "Train Accuracy: 0.4604, Val Accuracy: 0.4477, Test Accuracy: 0.3701\n",
      "Train loss: 1.8158\n",
      "\n",
      " Epoch 3 training:\n"
     ]
    },
    {
     "name": "stderr",
     "output_type": "stream",
     "text": [
      "100%|██████████| 711/711 [01:21<00:00,  8.70it/s]\n"
     ]
    },
    {
     "name": "stdout",
     "output_type": "stream",
     "text": [
      "New best model validation accuracy: 0.48374. Previous: 0.45767\n",
      "Train Accuracy: 0.4955, Val Accuracy: 0.4837, Test Accuracy: 0.4053\n",
      "Train loss: 1.7507\n",
      "\n",
      " Epoch 4 training:\n"
     ]
    },
    {
     "name": "stderr",
     "output_type": "stream",
     "text": [
      "100%|██████████| 711/711 [01:21<00:00,  8.76it/s]\n"
     ]
    },
    {
     "name": "stdout",
     "output_type": "stream",
     "text": [
      "Train Accuracy: 0.5067, Val Accuracy: 0.4781, Test Accuracy: 0.4025\n",
      "Train loss: 1.7067\n",
      "\n",
      " Epoch 5 training:\n"
     ]
    },
    {
     "name": "stderr",
     "output_type": "stream",
     "text": [
      "100%|██████████| 711/711 [01:21<00:00,  8.72it/s]\n"
     ]
    },
    {
     "name": "stdout",
     "output_type": "stream",
     "text": [
      "New best model validation accuracy: 0.50777. Previous: 0.48374\n",
      "Train Accuracy: 0.5307, Val Accuracy: 0.5078, Test Accuracy: 0.4228\n",
      "Train loss: 1.6737\n",
      "\n",
      " Epoch 6 training:\n"
     ]
    },
    {
     "name": "stderr",
     "output_type": "stream",
     "text": [
      "100%|██████████| 711/711 [01:22<00:00,  8.59it/s]\n"
     ]
    },
    {
     "name": "stdout",
     "output_type": "stream",
     "text": [
      "Train Accuracy: 0.5193, Val Accuracy: 0.4972, Test Accuracy: 0.4189\n",
      "Train loss: 1.6765\n",
      "\n",
      " Epoch 7 training:\n"
     ]
    },
    {
     "name": "stderr",
     "output_type": "stream",
     "text": [
      "100%|██████████| 711/711 [01:22<00:00,  8.63it/s]\n"
     ]
    },
    {
     "name": "stdout",
     "output_type": "stream",
     "text": [
      "New best model validation accuracy: 0.51331. Previous: 0.50777\n",
      "Train Accuracy: 0.5356, Val Accuracy: 0.5133, Test Accuracy: 0.4276\n",
      "Train loss: 1.6463\n",
      "\n",
      " Epoch 8 training:\n"
     ]
    },
    {
     "name": "stderr",
     "output_type": "stream",
     "text": [
      "100%|██████████| 711/711 [01:22<00:00,  8.65it/s]\n"
     ]
    },
    {
     "name": "stdout",
     "output_type": "stream",
     "text": [
      "Train Accuracy: 0.5161, Val Accuracy: 0.4798, Test Accuracy: 0.4014\n",
      "Train loss: 1.6174\n",
      "\n",
      " Epoch 9 training:\n"
     ]
    },
    {
     "name": "stderr",
     "output_type": "stream",
     "text": [
      "100%|██████████| 711/711 [01:20<00:00,  8.78it/s]\n"
     ]
    },
    {
     "name": "stdout",
     "output_type": "stream",
     "text": [
      "Train Accuracy: 0.5316, Val Accuracy: 0.5062, Test Accuracy: 0.4264\n",
      "Train loss: 1.5988\n",
      "\n",
      " Epoch 10 training:\n"
     ]
    },
    {
     "name": "stderr",
     "output_type": "stream",
     "text": [
      "100%|██████████| 711/711 [01:21<00:00,  8.77it/s]\n"
     ]
    },
    {
     "name": "stdout",
     "output_type": "stream",
     "text": [
      "New best model validation accuracy: 0.51844. Previous: 0.51331\n",
      "Train Accuracy: 0.5449, Val Accuracy: 0.5184, Test Accuracy: 0.4491\n",
      "Train loss: 1.5793\n",
      "\n",
      " Epoch 11 training:\n"
     ]
    },
    {
     "name": "stderr",
     "output_type": "stream",
     "text": [
      "100%|██████████| 711/711 [01:20<00:00,  8.82it/s]\n"
     ]
    },
    {
     "name": "stdout",
     "output_type": "stream",
     "text": [
      "Train Accuracy: 0.5244, Val Accuracy: 0.5163, Test Accuracy: 0.4407\n",
      "Train loss: 1.5479\n",
      "\n",
      " Epoch 12 training:\n"
     ]
    },
    {
     "name": "stderr",
     "output_type": "stream",
     "text": [
      "100%|██████████| 711/711 [01:20<00:00,  8.86it/s]\n"
     ]
    },
    {
     "name": "stdout",
     "output_type": "stream",
     "text": [
      "Train Accuracy: 0.5303, Val Accuracy: 0.5074, Test Accuracy: 0.4202\n",
      "Train loss: 1.5430\n",
      "\n",
      " Epoch 13 training:\n"
     ]
    },
    {
     "name": "stderr",
     "output_type": "stream",
     "text": [
      "100%|██████████| 711/711 [01:20<00:00,  8.85it/s]\n"
     ]
    },
    {
     "name": "stdout",
     "output_type": "stream",
     "text": [
      "New best model validation accuracy: 0.54035. Previous: 0.51844\n",
      "Train Accuracy: 0.5638, Val Accuracy: 0.5404, Test Accuracy: 0.4721\n",
      "Train loss: 1.5231\n",
      "\n",
      " Epoch 14 training:\n"
     ]
    },
    {
     "name": "stderr",
     "output_type": "stream",
     "text": [
      "100%|██████████| 711/711 [01:20<00:00,  8.82it/s]\n"
     ]
    },
    {
     "name": "stdout",
     "output_type": "stream",
     "text": [
      "Train Accuracy: 0.5713, Val Accuracy: 0.5378, Test Accuracy: 0.4625\n",
      "Train loss: 1.5356\n",
      "\n",
      " Epoch 15 training:\n"
     ]
    },
    {
     "name": "stderr",
     "output_type": "stream",
     "text": [
      "100%|██████████| 711/711 [01:19<00:00,  8.94it/s]\n"
     ]
    },
    {
     "name": "stdout",
     "output_type": "stream",
     "text": [
      "Train Accuracy: 0.5546, Val Accuracy: 0.5308, Test Accuracy: 0.4535\n",
      "Train loss: 1.5029\n",
      "\n",
      " Epoch 16 training:\n"
     ]
    },
    {
     "name": "stderr",
     "output_type": "stream",
     "text": [
      "100%|██████████| 711/711 [01:21<00:00,  8.73it/s]\n"
     ]
    },
    {
     "name": "stdout",
     "output_type": "stream",
     "text": [
      "Train Accuracy: 0.5588, Val Accuracy: 0.5390, Test Accuracy: 0.4671\n",
      "Train loss: 1.5333\n",
      "\n",
      " Epoch 17 training:\n"
     ]
    },
    {
     "name": "stderr",
     "output_type": "stream",
     "text": [
      "100%|██████████| 711/711 [01:21<00:00,  8.74it/s]\n"
     ]
    },
    {
     "name": "stdout",
     "output_type": "stream",
     "text": [
      "Train Accuracy: 0.5587, Val Accuracy: 0.5395, Test Accuracy: 0.4636\n",
      "Train loss: 1.5125\n",
      "\n",
      " Epoch 18 training:\n"
     ]
    },
    {
     "name": "stderr",
     "output_type": "stream",
     "text": [
      "100%|██████████| 711/711 [01:19<00:00,  8.90it/s]\n"
     ]
    },
    {
     "name": "stdout",
     "output_type": "stream",
     "text": [
      "New best model validation accuracy: 0.54683. Previous: 0.54035\n",
      "Train Accuracy: 0.5742, Val Accuracy: 0.5468, Test Accuracy: 0.4741\n",
      "Train loss: 1.4856\n",
      "\n",
      " Epoch 19 training:\n"
     ]
    },
    {
     "name": "stderr",
     "output_type": "stream",
     "text": [
      "100%|██████████| 711/711 [01:20<00:00,  8.82it/s]\n"
     ]
    },
    {
     "name": "stdout",
     "output_type": "stream",
     "text": [
      "Train Accuracy: 0.5683, Val Accuracy: 0.5441, Test Accuracy: 0.4636\n",
      "Train loss: 1.4949\n",
      "\n",
      " Epoch 20 training:\n"
     ]
    },
    {
     "name": "stderr",
     "output_type": "stream",
     "text": [
      "100%|██████████| 711/711 [01:21<00:00,  8.68it/s]\n"
     ]
    },
    {
     "name": "stdout",
     "output_type": "stream",
     "text": [
      "New best model validation accuracy: 0.54797. Previous: 0.54683\n",
      "Train Accuracy: 0.5716, Val Accuracy: 0.5480, Test Accuracy: 0.4743\n",
      "Train loss: 1.4999\n",
      "\n",
      " Epoch 21 training:\n"
     ]
    },
    {
     "name": "stderr",
     "output_type": "stream",
     "text": [
      "100%|██████████| 711/711 [01:21<00:00,  8.75it/s]\n"
     ]
    },
    {
     "name": "stdout",
     "output_type": "stream",
     "text": [
      "Train Accuracy: 0.5679, Val Accuracy: 0.5442, Test Accuracy: 0.4719\n",
      "Train loss: 1.4921\n",
      "\n",
      " Epoch 22 training:\n"
     ]
    },
    {
     "name": "stderr",
     "output_type": "stream",
     "text": [
      "100%|██████████| 711/711 [01:22<00:00,  8.62it/s]\n"
     ]
    },
    {
     "name": "stdout",
     "output_type": "stream",
     "text": [
      "Train Accuracy: 0.5608, Val Accuracy: 0.5473, Test Accuracy: 0.4844\n",
      "Train loss: 1.4993\n",
      "\n",
      " Epoch 23 training:\n"
     ]
    },
    {
     "name": "stderr",
     "output_type": "stream",
     "text": [
      "100%|██████████| 711/711 [01:21<00:00,  8.76it/s]\n"
     ]
    },
    {
     "name": "stdout",
     "output_type": "stream",
     "text": [
      "New best model validation accuracy: 0.55512. Previous: 0.54797\n",
      "Train Accuracy: 0.5798, Val Accuracy: 0.5551, Test Accuracy: 0.4880\n",
      "Train loss: 1.4818\n",
      "\n",
      " Epoch 24 training:\n"
     ]
    },
    {
     "name": "stderr",
     "output_type": "stream",
     "text": [
      "100%|██████████| 711/711 [01:21<00:00,  8.77it/s]\n"
     ]
    },
    {
     "name": "stdout",
     "output_type": "stream",
     "text": [
      "Train Accuracy: 0.5772, Val Accuracy: 0.5532, Test Accuracy: 0.4848\n",
      "Train loss: 1.4635\n",
      "\n",
      " Epoch 25 training:\n"
     ]
    },
    {
     "name": "stderr",
     "output_type": "stream",
     "text": [
      "100%|██████████| 711/711 [01:21<00:00,  8.72it/s]\n"
     ]
    },
    {
     "name": "stdout",
     "output_type": "stream",
     "text": [
      "Train Accuracy: 0.5624, Val Accuracy: 0.5381, Test Accuracy: 0.4630\n",
      "Train loss: 1.4754\n",
      "\n",
      " Epoch 26 training:\n"
     ]
    },
    {
     "name": "stderr",
     "output_type": "stream",
     "text": [
      "100%|██████████| 711/711 [01:21<00:00,  8.75it/s]\n"
     ]
    },
    {
     "name": "stdout",
     "output_type": "stream",
     "text": [
      "Train Accuracy: 0.5825, Val Accuracy: 0.5537, Test Accuracy: 0.4887\n",
      "Train loss: 1.4620\n",
      "\n",
      " Epoch 27 training:\n"
     ]
    },
    {
     "name": "stderr",
     "output_type": "stream",
     "text": [
      "100%|██████████| 711/711 [01:20<00:00,  8.82it/s]\n"
     ]
    },
    {
     "name": "stdout",
     "output_type": "stream",
     "text": [
      "Train Accuracy: 0.5696, Val Accuracy: 0.5424, Test Accuracy: 0.4754\n",
      "Train loss: 1.4533\n",
      "\n",
      " Epoch 28 training:\n"
     ]
    },
    {
     "name": "stderr",
     "output_type": "stream",
     "text": [
      "100%|██████████| 711/711 [01:20<00:00,  8.81it/s]\n"
     ]
    },
    {
     "name": "stdout",
     "output_type": "stream",
     "text": [
      "Train Accuracy: 0.5789, Val Accuracy: 0.5476, Test Accuracy: 0.4750\n",
      "Train loss: 1.4534\n",
      "\n",
      " Epoch 29 training:\n"
     ]
    },
    {
     "name": "stderr",
     "output_type": "stream",
     "text": [
      "100%|██████████| 711/711 [01:21<00:00,  8.77it/s]\n"
     ]
    },
    {
     "name": "stdout",
     "output_type": "stream",
     "text": [
      "Train Accuracy: 0.5633, Val Accuracy: 0.5401, Test Accuracy: 0.4721\n",
      "Train loss: 1.4402\n",
      "\n",
      " Epoch 30 training:\n"
     ]
    },
    {
     "name": "stderr",
     "output_type": "stream",
     "text": [
      "100%|██████████| 711/711 [01:21<00:00,  8.68it/s]\n"
     ]
    },
    {
     "name": "stdout",
     "output_type": "stream",
     "text": [
      "Train Accuracy: 0.5803, Val Accuracy: 0.5524, Test Accuracy: 0.4845\n",
      "Train loss: 1.4555\n",
      "\n",
      " Epoch 31 training:\n"
     ]
    },
    {
     "name": "stderr",
     "output_type": "stream",
     "text": [
      "100%|██████████| 711/711 [01:20<00:00,  8.83it/s]\n"
     ]
    },
    {
     "name": "stdout",
     "output_type": "stream",
     "text": [
      "New best model validation accuracy: 0.55814. Previous: 0.55512\n",
      "Train Accuracy: 0.5764, Val Accuracy: 0.5581, Test Accuracy: 0.4995\n",
      "Train loss: 1.4357\n",
      "\n",
      " Epoch 32 training:\n"
     ]
    },
    {
     "name": "stderr",
     "output_type": "stream",
     "text": [
      "100%|██████████| 711/711 [01:21<00:00,  8.77it/s]\n"
     ]
    },
    {
     "name": "stdout",
     "output_type": "stream",
     "text": [
      "New best model validation accuracy: 0.56509. Previous: 0.55814\n",
      "Train Accuracy: 0.5985, Val Accuracy: 0.5651, Test Accuracy: 0.5004\n",
      "Train loss: 1.4374\n",
      "\n",
      " Epoch 33 training:\n"
     ]
    },
    {
     "name": "stderr",
     "output_type": "stream",
     "text": [
      "100%|██████████| 711/711 [01:20<00:00,  8.80it/s]\n"
     ]
    },
    {
     "name": "stdout",
     "output_type": "stream",
     "text": [
      "Train Accuracy: 0.5625, Val Accuracy: 0.5441, Test Accuracy: 0.4815\n",
      "Train loss: 1.4234\n",
      "\n",
      " Epoch 34 training:\n"
     ]
    },
    {
     "name": "stderr",
     "output_type": "stream",
     "text": [
      "100%|██████████| 711/711 [01:20<00:00,  8.84it/s]\n"
     ]
    },
    {
     "name": "stdout",
     "output_type": "stream",
     "text": [
      "New best model validation accuracy: 0.56599. Previous: 0.56509\n",
      "Train Accuracy: 0.5904, Val Accuracy: 0.5660, Test Accuracy: 0.4984\n",
      "Train loss: 1.4290\n",
      "\n",
      " Epoch 35 training:\n"
     ]
    },
    {
     "name": "stderr",
     "output_type": "stream",
     "text": [
      "100%|██████████| 711/711 [01:20<00:00,  8.78it/s]\n"
     ]
    },
    {
     "name": "stdout",
     "output_type": "stream",
     "text": [
      "Train Accuracy: 0.5783, Val Accuracy: 0.5531, Test Accuracy: 0.4857\n",
      "Train loss: 1.4294\n",
      "\n",
      " Epoch 36 training:\n"
     ]
    },
    {
     "name": "stderr",
     "output_type": "stream",
     "text": [
      "100%|██████████| 711/711 [01:21<00:00,  8.72it/s]\n"
     ]
    },
    {
     "name": "stdout",
     "output_type": "stream",
     "text": [
      "Train Accuracy: 0.5931, Val Accuracy: 0.5601, Test Accuracy: 0.5023\n",
      "Train loss: 1.4311\n",
      "\n",
      " Epoch 37 training:\n"
     ]
    },
    {
     "name": "stderr",
     "output_type": "stream",
     "text": [
      "100%|██████████| 711/711 [01:22<00:00,  8.64it/s]\n"
     ]
    },
    {
     "name": "stdout",
     "output_type": "stream",
     "text": [
      "Train Accuracy: 0.5802, Val Accuracy: 0.5553, Test Accuracy: 0.4997\n",
      "Train loss: 1.4338\n",
      "\n",
      " Epoch 38 training:\n"
     ]
    },
    {
     "name": "stderr",
     "output_type": "stream",
     "text": [
      "100%|██████████| 711/711 [01:20<00:00,  8.80it/s]\n"
     ]
    },
    {
     "name": "stdout",
     "output_type": "stream",
     "text": [
      "New best model validation accuracy: 0.56760. Previous: 0.56599\n",
      "Train Accuracy: 0.5967, Val Accuracy: 0.5676, Test Accuracy: 0.5064\n",
      "Train loss: 1.4164\n",
      "\n",
      " Epoch 39 training:\n"
     ]
    },
    {
     "name": "stderr",
     "output_type": "stream",
     "text": [
      "100%|██████████| 711/711 [01:20<00:00,  8.87it/s]\n"
     ]
    },
    {
     "name": "stdout",
     "output_type": "stream",
     "text": [
      "Train Accuracy: 0.6025, Val Accuracy: 0.5648, Test Accuracy: 0.5020\n",
      "Train loss: 1.4056\n",
      "\n",
      " Epoch 40 training:\n"
     ]
    },
    {
     "name": "stderr",
     "output_type": "stream",
     "text": [
      "100%|██████████| 711/711 [01:21<00:00,  8.74it/s]\n"
     ]
    },
    {
     "name": "stdout",
     "output_type": "stream",
     "text": [
      "New best model validation accuracy: 0.57911. Previous: 0.56760\n",
      "Train Accuracy: 0.6148, Val Accuracy: 0.5791, Test Accuracy: 0.5181\n",
      "Train loss: 1.4145\n",
      "\n",
      " Epoch 41 training:\n"
     ]
    },
    {
     "name": "stderr",
     "output_type": "stream",
     "text": [
      "100%|██████████| 711/711 [01:22<00:00,  8.59it/s]\n"
     ]
    },
    {
     "name": "stdout",
     "output_type": "stream",
     "text": [
      "Train Accuracy: 0.5617, Val Accuracy: 0.5433, Test Accuracy: 0.4899\n",
      "Train loss: 1.4207\n",
      "\n",
      " Epoch 42 training:\n"
     ]
    },
    {
     "name": "stderr",
     "output_type": "stream",
     "text": [
      "100%|██████████| 711/711 [01:21<00:00,  8.71it/s]\n"
     ]
    },
    {
     "name": "stdout",
     "output_type": "stream",
     "text": [
      "Train Accuracy: 0.5872, Val Accuracy: 0.5591, Test Accuracy: 0.5047\n",
      "Train loss: 1.4074\n",
      "\n",
      " Epoch 43 training:\n"
     ]
    },
    {
     "name": "stderr",
     "output_type": "stream",
     "text": [
      "100%|██████████| 711/711 [01:21<00:00,  8.69it/s]\n"
     ]
    },
    {
     "name": "stdout",
     "output_type": "stream",
     "text": [
      "Train Accuracy: 0.6095, Val Accuracy: 0.5762, Test Accuracy: 0.5155\n",
      "Train loss: 1.4132\n",
      "\n",
      " Epoch 44 training:\n"
     ]
    },
    {
     "name": "stderr",
     "output_type": "stream",
     "text": [
      "100%|██████████| 711/711 [01:23<00:00,  8.51it/s]\n"
     ]
    },
    {
     "name": "stdout",
     "output_type": "stream",
     "text": [
      "Train Accuracy: 0.6009, Val Accuracy: 0.5677, Test Accuracy: 0.5045\n",
      "Train loss: 1.4154\n",
      "\n",
      " Epoch 45 training:\n"
     ]
    },
    {
     "name": "stderr",
     "output_type": "stream",
     "text": [
      "100%|██████████| 711/711 [01:21<00:00,  8.78it/s]\n"
     ]
    },
    {
     "name": "stdout",
     "output_type": "stream",
     "text": [
      "Train Accuracy: 0.5988, Val Accuracy: 0.5650, Test Accuracy: 0.5021\n",
      "Train loss: 1.3937\n",
      "\n",
      " Epoch 46 training:\n"
     ]
    },
    {
     "name": "stderr",
     "output_type": "stream",
     "text": [
      "100%|██████████| 711/711 [01:19<00:00,  8.89it/s]\n"
     ]
    },
    {
     "name": "stdout",
     "output_type": "stream",
     "text": [
      "Train Accuracy: 0.5869, Val Accuracy: 0.5608, Test Accuracy: 0.5034\n",
      "Train loss: 1.3820\n",
      "\n",
      " Epoch 47 training:\n"
     ]
    },
    {
     "name": "stderr",
     "output_type": "stream",
     "text": [
      "100%|██████████| 711/711 [01:20<00:00,  8.84it/s]\n"
     ]
    },
    {
     "name": "stdout",
     "output_type": "stream",
     "text": [
      "Train Accuracy: 0.5841, Val Accuracy: 0.5542, Test Accuracy: 0.4906\n",
      "Train loss: 1.3843\n",
      "\n",
      " Epoch 48 training:\n"
     ]
    },
    {
     "name": "stderr",
     "output_type": "stream",
     "text": [
      "100%|██████████| 711/711 [01:21<00:00,  8.70it/s]\n"
     ]
    },
    {
     "name": "stdout",
     "output_type": "stream",
     "text": [
      "Train Accuracy: 0.6011, Val Accuracy: 0.5656, Test Accuracy: 0.5012\n",
      "Train loss: 1.3958\n",
      "\n",
      " Epoch 49 training:\n"
     ]
    },
    {
     "name": "stderr",
     "output_type": "stream",
     "text": [
      "100%|██████████| 711/711 [01:21<00:00,  8.68it/s]\n"
     ]
    },
    {
     "name": "stdout",
     "output_type": "stream",
     "text": [
      "Train Accuracy: 0.5976, Val Accuracy: 0.5648, Test Accuracy: 0.5031\n",
      "Train loss: 1.3844\n",
      "\n",
      " Epoch 50 training:\n"
     ]
    },
    {
     "name": "stderr",
     "output_type": "stream",
     "text": [
      "100%|██████████| 711/711 [01:20<00:00,  8.87it/s]\n"
     ]
    },
    {
     "name": "stdout",
     "output_type": "stream",
     "text": [
      "Train Accuracy: 0.5991, Val Accuracy: 0.5651, Test Accuracy: 0.5055\n",
      "Train loss: 1.3689\n",
      "\n",
      " Epoch 51 training:\n"
     ]
    },
    {
     "name": "stderr",
     "output_type": "stream",
     "text": [
      "100%|██████████| 711/711 [01:20<00:00,  8.83it/s]\n"
     ]
    },
    {
     "name": "stdout",
     "output_type": "stream",
     "text": [
      "Train Accuracy: 0.6049, Val Accuracy: 0.5660, Test Accuracy: 0.5020\n",
      "Train loss: 1.3786\n",
      "\n",
      " Epoch 52 training:\n"
     ]
    },
    {
     "name": "stderr",
     "output_type": "stream",
     "text": [
      "100%|██████████| 711/711 [01:20<00:00,  8.79it/s]\n"
     ]
    },
    {
     "name": "stdout",
     "output_type": "stream",
     "text": [
      "Train Accuracy: 0.5955, Val Accuracy: 0.5586, Test Accuracy: 0.4921\n",
      "Train loss: 1.3750\n",
      "\n",
      " Epoch 53 training:\n"
     ]
    },
    {
     "name": "stderr",
     "output_type": "stream",
     "text": [
      "100%|██████████| 711/711 [01:20<00:00,  8.84it/s]\n"
     ]
    },
    {
     "name": "stdout",
     "output_type": "stream",
     "text": [
      "Train Accuracy: 0.5910, Val Accuracy: 0.5575, Test Accuracy: 0.4961\n",
      "Train loss: 1.3668\n",
      "\n",
      " Epoch 54 training:\n"
     ]
    },
    {
     "name": "stderr",
     "output_type": "stream",
     "text": [
      "100%|██████████| 711/711 [01:21<00:00,  8.73it/s]\n"
     ]
    },
    {
     "name": "stdout",
     "output_type": "stream",
     "text": [
      "Train Accuracy: 0.6006, Val Accuracy: 0.5623, Test Accuracy: 0.5046\n",
      "Train loss: 1.3833\n",
      "\n",
      " Epoch 55 training:\n"
     ]
    },
    {
     "name": "stderr",
     "output_type": "stream",
     "text": [
      "100%|██████████| 711/711 [01:22<00:00,  8.66it/s]\n"
     ]
    },
    {
     "name": "stdout",
     "output_type": "stream",
     "text": [
      "Train Accuracy: 0.5864, Val Accuracy: 0.5555, Test Accuracy: 0.5025\n",
      "Train loss: 1.3725\n",
      "\n",
      " Epoch 56 training:\n"
     ]
    },
    {
     "name": "stderr",
     "output_type": "stream",
     "text": [
      "100%|██████████| 711/711 [01:21<00:00,  8.73it/s]\n"
     ]
    },
    {
     "name": "stdout",
     "output_type": "stream",
     "text": [
      "Train Accuracy: 0.6017, Val Accuracy: 0.5701, Test Accuracy: 0.5080\n",
      "Train loss: 1.3710\n",
      "\n",
      " Epoch 57 training:\n"
     ]
    },
    {
     "name": "stderr",
     "output_type": "stream",
     "text": [
      "100%|██████████| 711/711 [01:22<00:00,  8.65it/s]\n"
     ]
    },
    {
     "name": "stdout",
     "output_type": "stream",
     "text": [
      "Train Accuracy: 0.6165, Val Accuracy: 0.5712, Test Accuracy: 0.5079\n",
      "Train loss: 1.3799\n",
      "\n",
      " Epoch 58 training:\n"
     ]
    },
    {
     "name": "stderr",
     "output_type": "stream",
     "text": [
      "100%|██████████| 711/711 [01:22<00:00,  8.60it/s]\n"
     ]
    },
    {
     "name": "stdout",
     "output_type": "stream",
     "text": [
      "Train Accuracy: 0.5905, Val Accuracy: 0.5545, Test Accuracy: 0.4966\n",
      "Train loss: 1.3801\n",
      "\n",
      " Epoch 59 training:\n"
     ]
    },
    {
     "name": "stderr",
     "output_type": "stream",
     "text": [
      "100%|██████████| 711/711 [01:20<00:00,  8.85it/s]\n"
     ]
    },
    {
     "name": "stdout",
     "output_type": "stream",
     "text": [
      "Train Accuracy: 0.6039, Val Accuracy: 0.5670, Test Accuracy: 0.5054\n",
      "Train loss: 1.3583\n",
      "\n",
      " Epoch 60 training:\n"
     ]
    },
    {
     "name": "stderr",
     "output_type": "stream",
     "text": [
      "100%|██████████| 711/711 [01:21<00:00,  8.74it/s]\n"
     ]
    },
    {
     "name": "stdout",
     "output_type": "stream",
     "text": [
      "Train Accuracy: 0.5980, Val Accuracy: 0.5633, Test Accuracy: 0.5079\n",
      "Train loss: 1.3609\n",
      "\n",
      " Epoch 61 training:\n"
     ]
    },
    {
     "name": "stderr",
     "output_type": "stream",
     "text": [
      "100%|██████████| 711/711 [01:21<00:00,  8.70it/s]\n"
     ]
    },
    {
     "name": "stdout",
     "output_type": "stream",
     "text": [
      "New best model validation accuracy: 0.58173. Previous: 0.57911\n",
      "Train Accuracy: 0.6296, Val Accuracy: 0.5817, Test Accuracy: 0.5179\n",
      "Train loss: 1.3630\n",
      "\n",
      " Epoch 62 training:\n"
     ]
    },
    {
     "name": "stderr",
     "output_type": "stream",
     "text": [
      "100%|██████████| 711/711 [01:22<00:00,  8.61it/s]\n"
     ]
    },
    {
     "name": "stdout",
     "output_type": "stream",
     "text": [
      "Train Accuracy: 0.5911, Val Accuracy: 0.5559, Test Accuracy: 0.4904\n",
      "Train loss: 1.3723\n",
      "\n",
      " Epoch 63 training:\n"
     ]
    },
    {
     "name": "stderr",
     "output_type": "stream",
     "text": [
      "100%|██████████| 711/711 [01:21<00:00,  8.68it/s]\n"
     ]
    },
    {
     "name": "stdout",
     "output_type": "stream",
     "text": [
      "Train Accuracy: 0.6099, Val Accuracy: 0.5683, Test Accuracy: 0.5039\n",
      "Train loss: 1.3698\n",
      "\n",
      " Epoch 64 training:\n"
     ]
    },
    {
     "name": "stderr",
     "output_type": "stream",
     "text": [
      "100%|██████████| 711/711 [01:21<00:00,  8.71it/s]\n"
     ]
    },
    {
     "name": "stdout",
     "output_type": "stream",
     "text": [
      "Train Accuracy: 0.6128, Val Accuracy: 0.5676, Test Accuracy: 0.5050\n",
      "Train loss: 1.3510\n",
      "\n",
      " Epoch 65 training:\n"
     ]
    },
    {
     "name": "stderr",
     "output_type": "stream",
     "text": [
      "100%|██████████| 711/711 [01:21<00:00,  8.75it/s]\n"
     ]
    },
    {
     "name": "stdout",
     "output_type": "stream",
     "text": [
      "Train Accuracy: 0.6083, Val Accuracy: 0.5694, Test Accuracy: 0.5051\n",
      "Train loss: 1.3508\n",
      "\n",
      " Epoch 66 training:\n"
     ]
    },
    {
     "name": "stderr",
     "output_type": "stream",
     "text": [
      "100%|██████████| 711/711 [01:20<00:00,  8.79it/s]\n"
     ]
    },
    {
     "name": "stdout",
     "output_type": "stream",
     "text": [
      "Train Accuracy: 0.6126, Val Accuracy: 0.5690, Test Accuracy: 0.5056\n",
      "Train loss: 1.3521\n",
      "\n",
      " Epoch 67 training:\n"
     ]
    },
    {
     "name": "stderr",
     "output_type": "stream",
     "text": [
      "100%|██████████| 711/711 [01:21<00:00,  8.71it/s]\n"
     ]
    },
    {
     "name": "stdout",
     "output_type": "stream",
     "text": [
      "Train Accuracy: 0.6136, Val Accuracy: 0.5736, Test Accuracy: 0.5113\n",
      "Train loss: 1.3573\n",
      "\n",
      " Epoch 68 training:\n"
     ]
    },
    {
     "name": "stderr",
     "output_type": "stream",
     "text": [
      "100%|██████████| 711/711 [01:21<00:00,  8.73it/s]\n"
     ]
    },
    {
     "name": "stdout",
     "output_type": "stream",
     "text": [
      "Train Accuracy: 0.6101, Val Accuracy: 0.5731, Test Accuracy: 0.5090\n",
      "Train loss: 1.3513\n",
      "\n",
      " Epoch 69 training:\n"
     ]
    },
    {
     "name": "stderr",
     "output_type": "stream",
     "text": [
      "100%|██████████| 711/711 [01:20<00:00,  8.79it/s]\n"
     ]
    },
    {
     "name": "stdout",
     "output_type": "stream",
     "text": [
      "Train Accuracy: 0.6176, Val Accuracy: 0.5721, Test Accuracy: 0.5115\n",
      "Train loss: 1.3469\n",
      "\n",
      " Epoch 70 training:\n"
     ]
    },
    {
     "name": "stderr",
     "output_type": "stream",
     "text": [
      "100%|██████████| 711/711 [01:20<00:00,  8.81it/s]\n"
     ]
    },
    {
     "name": "stdout",
     "output_type": "stream",
     "text": [
      "Train Accuracy: 0.6115, Val Accuracy: 0.5680, Test Accuracy: 0.5067\n",
      "Train loss: 1.3354\n",
      "\n",
      " Epoch 71 training:\n"
     ]
    },
    {
     "name": "stderr",
     "output_type": "stream",
     "text": [
      "100%|██████████| 711/711 [01:21<00:00,  8.78it/s]\n"
     ]
    },
    {
     "name": "stdout",
     "output_type": "stream",
     "text": [
      "Train Accuracy: 0.6059, Val Accuracy: 0.5639, Test Accuracy: 0.5079\n",
      "Train loss: 1.3365\n",
      "\n",
      " Epoch 72 training:\n"
     ]
    },
    {
     "name": "stderr",
     "output_type": "stream",
     "text": [
      "100%|██████████| 711/711 [01:20<00:00,  8.83it/s]\n"
     ]
    },
    {
     "name": "stdout",
     "output_type": "stream",
     "text": [
      "Train Accuracy: 0.6120, Val Accuracy: 0.5685, Test Accuracy: 0.5024\n",
      "Train loss: 1.3398\n",
      "\n",
      " Epoch 73 training:\n"
     ]
    },
    {
     "name": "stderr",
     "output_type": "stream",
     "text": [
      "100%|██████████| 711/711 [01:22<00:00,  8.66it/s]\n"
     ]
    },
    {
     "name": "stdout",
     "output_type": "stream",
     "text": [
      "Train Accuracy: 0.6019, Val Accuracy: 0.5670, Test Accuracy: 0.5073\n",
      "Train loss: 1.3430\n",
      "\n",
      " Epoch 74 training:\n"
     ]
    },
    {
     "name": "stderr",
     "output_type": "stream",
     "text": [
      "100%|██████████| 711/711 [01:21<00:00,  8.72it/s]\n"
     ]
    },
    {
     "name": "stdout",
     "output_type": "stream",
     "text": [
      "Train Accuracy: 0.6155, Val Accuracy: 0.5693, Test Accuracy: 0.5051\n",
      "Train loss: 1.3406\n",
      "\n",
      " Epoch 75 training:\n"
     ]
    },
    {
     "name": "stderr",
     "output_type": "stream",
     "text": [
      "100%|██████████| 711/711 [01:21<00:00,  8.76it/s]\n"
     ]
    },
    {
     "name": "stdout",
     "output_type": "stream",
     "text": [
      "Train Accuracy: 0.6237, Val Accuracy: 0.5752, Test Accuracy: 0.5119\n",
      "Train loss: 1.3416\n",
      "\n",
      " Epoch 76 training:\n"
     ]
    },
    {
     "name": "stderr",
     "output_type": "stream",
     "text": [
      "100%|██████████| 711/711 [01:21<00:00,  8.75it/s]\n"
     ]
    },
    {
     "name": "stdout",
     "output_type": "stream",
     "text": [
      "Train Accuracy: 0.6013, Val Accuracy: 0.5593, Test Accuracy: 0.4991\n",
      "Train loss: 1.3386\n",
      "\n",
      " Epoch 77 training:\n"
     ]
    },
    {
     "name": "stderr",
     "output_type": "stream",
     "text": [
      "100%|██████████| 711/711 [01:21<00:00,  8.75it/s]\n"
     ]
    },
    {
     "name": "stdout",
     "output_type": "stream",
     "text": [
      "Train Accuracy: 0.6113, Val Accuracy: 0.5646, Test Accuracy: 0.5049\n",
      "Train loss: 1.3436\n",
      "\n",
      " Epoch 78 training:\n"
     ]
    },
    {
     "name": "stderr",
     "output_type": "stream",
     "text": [
      "100%|██████████| 711/711 [01:21<00:00,  8.72it/s]\n"
     ]
    },
    {
     "name": "stdout",
     "output_type": "stream",
     "text": [
      "Train Accuracy: 0.6186, Val Accuracy: 0.5760, Test Accuracy: 0.5118\n",
      "Train loss: 1.3355\n",
      "\n",
      " Epoch 79 training:\n"
     ]
    },
    {
     "name": "stderr",
     "output_type": "stream",
     "text": [
      "100%|██████████| 711/711 [01:21<00:00,  8.70it/s]\n"
     ]
    },
    {
     "name": "stdout",
     "output_type": "stream",
     "text": [
      "Train Accuracy: 0.6288, Val Accuracy: 0.5775, Test Accuracy: 0.5135\n",
      "Train loss: 1.3310\n",
      "\n",
      " Epoch 80 training:\n"
     ]
    },
    {
     "name": "stderr",
     "output_type": "stream",
     "text": [
      "100%|██████████| 711/711 [01:21<00:00,  8.77it/s]\n"
     ]
    },
    {
     "name": "stdout",
     "output_type": "stream",
     "text": [
      "Train Accuracy: 0.6090, Val Accuracy: 0.5657, Test Accuracy: 0.5035\n",
      "Train loss: 1.3290\n",
      "\n",
      " Epoch 81 training:\n"
     ]
    },
    {
     "name": "stderr",
     "output_type": "stream",
     "text": [
      "100%|██████████| 711/711 [01:21<00:00,  8.70it/s]\n"
     ]
    },
    {
     "name": "stdout",
     "output_type": "stream",
     "text": [
      "Train Accuracy: 0.6164, Val Accuracy: 0.5707, Test Accuracy: 0.5057\n",
      "Train loss: 1.3310\n",
      "\n",
      " Epoch 82 training:\n"
     ]
    },
    {
     "name": "stderr",
     "output_type": "stream",
     "text": [
      "100%|██████████| 711/711 [01:21<00:00,  8.71it/s]\n"
     ]
    },
    {
     "name": "stdout",
     "output_type": "stream",
     "text": [
      "Train Accuracy: 0.6034, Val Accuracy: 0.5651, Test Accuracy: 0.5038\n",
      "Train loss: 1.3361\n",
      "\n",
      " Epoch 83 training:\n"
     ]
    },
    {
     "name": "stderr",
     "output_type": "stream",
     "text": [
      "100%|██████████| 711/711 [01:23<00:00,  8.56it/s]\n"
     ]
    },
    {
     "name": "stdout",
     "output_type": "stream",
     "text": [
      "Train Accuracy: 0.6076, Val Accuracy: 0.5709, Test Accuracy: 0.5117\n",
      "Train loss: 1.3439\n",
      "\n",
      " Epoch 84 training:\n"
     ]
    },
    {
     "name": "stderr",
     "output_type": "stream",
     "text": [
      "100%|██████████| 711/711 [01:21<00:00,  8.77it/s]\n"
     ]
    },
    {
     "name": "stdout",
     "output_type": "stream",
     "text": [
      "Train Accuracy: 0.6196, Val Accuracy: 0.5699, Test Accuracy: 0.5025\n",
      "Train loss: 1.3271\n",
      "\n",
      " Epoch 85 training:\n"
     ]
    },
    {
     "name": "stderr",
     "output_type": "stream",
     "text": [
      "100%|██████████| 711/711 [01:21<00:00,  8.71it/s]\n"
     ]
    },
    {
     "name": "stdout",
     "output_type": "stream",
     "text": [
      "Train Accuracy: 0.6187, Val Accuracy: 0.5695, Test Accuracy: 0.5083\n",
      "Train loss: 1.3281\n",
      "\n",
      " Epoch 86 training:\n"
     ]
    },
    {
     "name": "stderr",
     "output_type": "stream",
     "text": [
      "100%|██████████| 711/711 [01:21<00:00,  8.75it/s]\n"
     ]
    },
    {
     "name": "stdout",
     "output_type": "stream",
     "text": [
      "Train Accuracy: 0.6128, Val Accuracy: 0.5619, Test Accuracy: 0.4995\n",
      "Train loss: 1.3311\n",
      "\n",
      " Epoch 87 training:\n"
     ]
    },
    {
     "name": "stderr",
     "output_type": "stream",
     "text": [
      "100%|██████████| 711/711 [01:21<00:00,  8.68it/s]\n"
     ]
    },
    {
     "name": "stdout",
     "output_type": "stream",
     "text": [
      "Train Accuracy: 0.6223, Val Accuracy: 0.5710, Test Accuracy: 0.5081\n",
      "Train loss: 1.3329\n",
      "\n",
      " Epoch 88 training:\n"
     ]
    },
    {
     "name": "stderr",
     "output_type": "stream",
     "text": [
      "100%|██████████| 711/711 [01:20<00:00,  8.82it/s]\n"
     ]
    },
    {
     "name": "stdout",
     "output_type": "stream",
     "text": [
      "Train Accuracy: 0.6147, Val Accuracy: 0.5705, Test Accuracy: 0.5081\n",
      "Train loss: 1.3139\n",
      "\n",
      " Epoch 89 training:\n"
     ]
    },
    {
     "name": "stderr",
     "output_type": "stream",
     "text": [
      "100%|██████████| 711/711 [01:20<00:00,  8.86it/s]\n"
     ]
    },
    {
     "name": "stdout",
     "output_type": "stream",
     "text": [
      "Train Accuracy: 0.6203, Val Accuracy: 0.5774, Test Accuracy: 0.5127\n",
      "Train loss: 1.3082\n",
      "\n",
      " Epoch 90 training:\n"
     ]
    },
    {
     "name": "stderr",
     "output_type": "stream",
     "text": [
      "100%|██████████| 711/711 [01:20<00:00,  8.85it/s]\n"
     ]
    },
    {
     "name": "stdout",
     "output_type": "stream",
     "text": [
      "Train Accuracy: 0.6234, Val Accuracy: 0.5760, Test Accuracy: 0.5109\n",
      "Train loss: 1.3114\n",
      "\n",
      " Epoch 91 training:\n"
     ]
    },
    {
     "name": "stderr",
     "output_type": "stream",
     "text": [
      "100%|██████████| 711/711 [01:19<00:00,  8.90it/s]\n"
     ]
    },
    {
     "name": "stdout",
     "output_type": "stream",
     "text": [
      "Train Accuracy: 0.6197, Val Accuracy: 0.5684, Test Accuracy: 0.5079\n",
      "Train loss: 1.3004\n",
      "\n",
      " Epoch 92 training:\n"
     ]
    },
    {
     "name": "stderr",
     "output_type": "stream",
     "text": [
      "100%|██████████| 711/711 [01:21<00:00,  8.69it/s]\n"
     ]
    },
    {
     "name": "stdout",
     "output_type": "stream",
     "text": [
      "Train Accuracy: 0.6138, Val Accuracy: 0.5645, Test Accuracy: 0.5024\n",
      "Train loss: 1.3180\n",
      "\n",
      " Epoch 93 training:\n"
     ]
    },
    {
     "name": "stderr",
     "output_type": "stream",
     "text": [
      "100%|██████████| 711/711 [01:20<00:00,  8.88it/s]\n"
     ]
    },
    {
     "name": "stdout",
     "output_type": "stream",
     "text": [
      "Train Accuracy: 0.6151, Val Accuracy: 0.5690, Test Accuracy: 0.5075\n",
      "Train loss: 1.3102\n",
      "\n",
      " Epoch 94 training:\n"
     ]
    },
    {
     "name": "stderr",
     "output_type": "stream",
     "text": [
      "100%|██████████| 711/711 [01:21<00:00,  8.75it/s]\n"
     ]
    },
    {
     "name": "stdout",
     "output_type": "stream",
     "text": [
      "Train Accuracy: 0.6265, Val Accuracy: 0.5726, Test Accuracy: 0.5112\n",
      "Train loss: 1.3062\n",
      "\n",
      " Epoch 95 training:\n"
     ]
    },
    {
     "name": "stderr",
     "output_type": "stream",
     "text": [
      "100%|██████████| 711/711 [01:19<00:00,  8.90it/s]\n"
     ]
    },
    {
     "name": "stdout",
     "output_type": "stream",
     "text": [
      "Train Accuracy: 0.6275, Val Accuracy: 0.5802, Test Accuracy: 0.5135\n",
      "Train loss: 1.3059\n",
      "\n",
      " Epoch 96 training:\n"
     ]
    },
    {
     "name": "stderr",
     "output_type": "stream",
     "text": [
      "100%|██████████| 711/711 [01:21<00:00,  8.69it/s]\n"
     ]
    },
    {
     "name": "stdout",
     "output_type": "stream",
     "text": [
      "Train Accuracy: 0.6194, Val Accuracy: 0.5685, Test Accuracy: 0.5096\n",
      "Train loss: 1.3252\n",
      "\n",
      " Epoch 97 training:\n"
     ]
    },
    {
     "name": "stderr",
     "output_type": "stream",
     "text": [
      "100%|██████████| 711/711 [01:21<00:00,  8.70it/s]\n"
     ]
    },
    {
     "name": "stdout",
     "output_type": "stream",
     "text": [
      "Train Accuracy: 0.6285, Val Accuracy: 0.5747, Test Accuracy: 0.5135\n",
      "Train loss: 1.3132\n",
      "\n",
      " Epoch 98 training:\n"
     ]
    },
    {
     "name": "stderr",
     "output_type": "stream",
     "text": [
      "100%|██████████| 711/711 [01:21<00:00,  8.72it/s]\n"
     ]
    },
    {
     "name": "stdout",
     "output_type": "stream",
     "text": [
      "Train Accuracy: 0.6180, Val Accuracy: 0.5671, Test Accuracy: 0.5020\n",
      "Train loss: 1.3229\n",
      "\n",
      " Epoch 99 training:\n"
     ]
    },
    {
     "name": "stderr",
     "output_type": "stream",
     "text": [
      "100%|██████████| 711/711 [01:20<00:00,  8.79it/s]\n"
     ]
    },
    {
     "name": "stdout",
     "output_type": "stream",
     "text": [
      "Train Accuracy: 0.6205, Val Accuracy: 0.5700, Test Accuracy: 0.5056\n",
      "Train loss: 1.3061\n",
      "\n",
      " Epoch 100 training:\n"
     ]
    },
    {
     "name": "stderr",
     "output_type": "stream",
     "text": [
      "100%|██████████| 711/711 [01:20<00:00,  8.88it/s]\n"
     ]
    },
    {
     "name": "stdout",
     "output_type": "stream",
     "text": [
      "Train Accuracy: 0.6217, Val Accuracy: 0.5738, Test Accuracy: 0.5080\n",
      "Train loss: 1.2972\n",
      "\n",
      " Epoch 101 training:\n"
     ]
    },
    {
     "name": "stderr",
     "output_type": "stream",
     "text": [
      "100%|██████████| 711/711 [01:21<00:00,  8.71it/s]\n"
     ]
    },
    {
     "name": "stdout",
     "output_type": "stream",
     "text": [
      "Train Accuracy: 0.6276, Val Accuracy: 0.5791, Test Accuracy: 0.5158\n",
      "Train loss: 1.3137\n",
      "\n",
      " Epoch 102 training:\n"
     ]
    },
    {
     "name": "stderr",
     "output_type": "stream",
     "text": [
      "100%|██████████| 711/711 [01:21<00:00,  8.70it/s]\n"
     ]
    },
    {
     "name": "stdout",
     "output_type": "stream",
     "text": [
      "Train Accuracy: 0.6264, Val Accuracy: 0.5744, Test Accuracy: 0.5135\n",
      "Train loss: 1.3161\n",
      "\n",
      " Epoch 103 training:\n"
     ]
    },
    {
     "name": "stderr",
     "output_type": "stream",
     "text": [
      "100%|██████████| 711/711 [01:20<00:00,  8.86it/s]\n"
     ]
    },
    {
     "name": "stdout",
     "output_type": "stream",
     "text": [
      "Train Accuracy: 0.6307, Val Accuracy: 0.5791, Test Accuracy: 0.5167\n",
      "Train loss: 1.2999\n",
      "\n",
      " Epoch 104 training:\n"
     ]
    },
    {
     "name": "stderr",
     "output_type": "stream",
     "text": [
      "100%|██████████| 711/711 [01:20<00:00,  8.78it/s]\n"
     ]
    },
    {
     "name": "stdout",
     "output_type": "stream",
     "text": [
      "Train Accuracy: 0.6287, Val Accuracy: 0.5766, Test Accuracy: 0.5127\n",
      "Train loss: 1.2977\n",
      "\n",
      " Epoch 105 training:\n"
     ]
    },
    {
     "name": "stderr",
     "output_type": "stream",
     "text": [
      "100%|██████████| 711/711 [01:22<00:00,  8.62it/s]\n"
     ]
    },
    {
     "name": "stdout",
     "output_type": "stream",
     "text": [
      "Train Accuracy: 0.6223, Val Accuracy: 0.5710, Test Accuracy: 0.5099\n",
      "Train loss: 1.3191\n",
      "\n",
      " Epoch 106 training:\n"
     ]
    },
    {
     "name": "stderr",
     "output_type": "stream",
     "text": [
      "100%|██████████| 711/711 [01:21<00:00,  8.67it/s]\n"
     ]
    },
    {
     "name": "stdout",
     "output_type": "stream",
     "text": [
      "Train Accuracy: 0.6250, Val Accuracy: 0.5778, Test Accuracy: 0.5188\n",
      "Train loss: 1.3070\n",
      "\n",
      " Epoch 107 training:\n"
     ]
    },
    {
     "name": "stderr",
     "output_type": "stream",
     "text": [
      "100%|██████████| 711/711 [01:21<00:00,  8.77it/s]\n"
     ]
    },
    {
     "name": "stdout",
     "output_type": "stream",
     "text": [
      "Train Accuracy: 0.6279, Val Accuracy: 0.5799, Test Accuracy: 0.5202\n",
      "Train loss: 1.3018\n",
      "\n",
      " Epoch 108 training:\n"
     ]
    },
    {
     "name": "stderr",
     "output_type": "stream",
     "text": [
      "100%|██████████| 711/711 [01:21<00:00,  8.74it/s]\n"
     ]
    },
    {
     "name": "stdout",
     "output_type": "stream",
     "text": [
      "Train Accuracy: 0.6230, Val Accuracy: 0.5723, Test Accuracy: 0.5108\n",
      "Train loss: 1.2957\n",
      "\n",
      " Epoch 109 training:\n"
     ]
    },
    {
     "name": "stderr",
     "output_type": "stream",
     "text": [
      "100%|██████████| 711/711 [01:21<00:00,  8.69it/s]\n"
     ]
    },
    {
     "name": "stdout",
     "output_type": "stream",
     "text": [
      "Train Accuracy: 0.6311, Val Accuracy: 0.5805, Test Accuracy: 0.5205\n",
      "Train loss: 1.3028\n",
      "\n",
      " Epoch 110 training:\n"
     ]
    },
    {
     "name": "stderr",
     "output_type": "stream",
     "text": [
      "100%|██████████| 711/711 [01:22<00:00,  8.63it/s]\n"
     ]
    },
    {
     "name": "stdout",
     "output_type": "stream",
     "text": [
      "Train Accuracy: 0.6143, Val Accuracy: 0.5673, Test Accuracy: 0.5079\n",
      "Train loss: 1.3187\n",
      "\n",
      " Epoch 111 training:\n"
     ]
    },
    {
     "name": "stderr",
     "output_type": "stream",
     "text": [
      "100%|██████████| 711/711 [01:22<00:00,  8.62it/s]\n"
     ]
    },
    {
     "name": "stdout",
     "output_type": "stream",
     "text": [
      "Train Accuracy: 0.6203, Val Accuracy: 0.5690, Test Accuracy: 0.5089\n",
      "Train loss: 1.3042\n",
      "\n",
      " Epoch 112 training:\n"
     ]
    },
    {
     "name": "stderr",
     "output_type": "stream",
     "text": [
      "100%|██████████| 711/711 [01:22<00:00,  8.66it/s]\n"
     ]
    },
    {
     "name": "stdout",
     "output_type": "stream",
     "text": [
      "New best model validation accuracy: 0.58291. Previous: 0.58173\n",
      "Train Accuracy: 0.6286, Val Accuracy: 0.5829, Test Accuracy: 0.5167\n",
      "Train loss: 1.3045\n",
      "\n",
      " Epoch 113 training:\n"
     ]
    },
    {
     "name": "stderr",
     "output_type": "stream",
     "text": [
      "100%|██████████| 711/711 [01:22<00:00,  8.65it/s]\n"
     ]
    },
    {
     "name": "stdout",
     "output_type": "stream",
     "text": [
      "Train Accuracy: 0.6306, Val Accuracy: 0.5790, Test Accuracy: 0.5147\n",
      "Train loss: 1.3023\n",
      "\n",
      " Epoch 114 training:\n"
     ]
    },
    {
     "name": "stderr",
     "output_type": "stream",
     "text": [
      "100%|██████████| 711/711 [01:21<00:00,  8.74it/s]\n"
     ]
    },
    {
     "name": "stdout",
     "output_type": "stream",
     "text": [
      "Train Accuracy: 0.6169, Val Accuracy: 0.5702, Test Accuracy: 0.5112\n",
      "Train loss: 1.2992\n",
      "\n",
      " Epoch 115 training:\n"
     ]
    },
    {
     "name": "stderr",
     "output_type": "stream",
     "text": [
      "100%|██████████| 711/711 [01:20<00:00,  8.87it/s]\n"
     ]
    },
    {
     "name": "stdout",
     "output_type": "stream",
     "text": [
      "Train Accuracy: 0.6345, Val Accuracy: 0.5795, Test Accuracy: 0.5221\n",
      "Train loss: 1.2964\n",
      "\n",
      " Epoch 116 training:\n"
     ]
    },
    {
     "name": "stderr",
     "output_type": "stream",
     "text": [
      "100%|██████████| 711/711 [01:21<00:00,  8.73it/s]\n"
     ]
    },
    {
     "name": "stdout",
     "output_type": "stream",
     "text": [
      "Train Accuracy: 0.6307, Val Accuracy: 0.5763, Test Accuracy: 0.5151\n",
      "Train loss: 1.2974\n",
      "\n",
      " Epoch 117 training:\n"
     ]
    },
    {
     "name": "stderr",
     "output_type": "stream",
     "text": [
      "100%|██████████| 711/711 [01:20<00:00,  8.80it/s]\n"
     ]
    },
    {
     "name": "stdout",
     "output_type": "stream",
     "text": [
      "Train Accuracy: 0.6277, Val Accuracy: 0.5757, Test Accuracy: 0.5154\n",
      "Train loss: 1.2912\n",
      "\n",
      " Epoch 118 training:\n"
     ]
    },
    {
     "name": "stderr",
     "output_type": "stream",
     "text": [
      "100%|██████████| 711/711 [01:20<00:00,  8.78it/s]\n"
     ]
    },
    {
     "name": "stdout",
     "output_type": "stream",
     "text": [
      "Train Accuracy: 0.6201, Val Accuracy: 0.5720, Test Accuracy: 0.5113\n",
      "Train loss: 1.2898\n",
      "\n",
      " Epoch 119 training:\n"
     ]
    },
    {
     "name": "stderr",
     "output_type": "stream",
     "text": [
      "100%|██████████| 711/711 [01:21<00:00,  8.74it/s]\n"
     ]
    },
    {
     "name": "stdout",
     "output_type": "stream",
     "text": [
      "Train Accuracy: 0.6348, Val Accuracy: 0.5765, Test Accuracy: 0.5096\n",
      "Train loss: 1.2906\n",
      "\n",
      " Epoch 120 training:\n"
     ]
    },
    {
     "name": "stderr",
     "output_type": "stream",
     "text": [
      "100%|██████████| 711/711 [01:20<00:00,  8.80it/s]\n"
     ]
    },
    {
     "name": "stdout",
     "output_type": "stream",
     "text": [
      "Train Accuracy: 0.6297, Val Accuracy: 0.5730, Test Accuracy: 0.5111\n",
      "Train loss: 1.2881\n",
      "\n",
      " Epoch 121 training:\n"
     ]
    },
    {
     "name": "stderr",
     "output_type": "stream",
     "text": [
      "100%|██████████| 711/711 [01:22<00:00,  8.65it/s]\n"
     ]
    },
    {
     "name": "stdout",
     "output_type": "stream",
     "text": [
      "Train Accuracy: 0.6212, Val Accuracy: 0.5679, Test Accuracy: 0.5023\n",
      "Train loss: 1.2948\n",
      "\n",
      " Epoch 122 training:\n"
     ]
    },
    {
     "name": "stderr",
     "output_type": "stream",
     "text": [
      "100%|██████████| 711/711 [01:22<00:00,  8.67it/s]\n"
     ]
    },
    {
     "name": "stdout",
     "output_type": "stream",
     "text": [
      "Train Accuracy: 0.6305, Val Accuracy: 0.5743, Test Accuracy: 0.5149\n",
      "Train loss: 1.2937\n",
      "\n",
      " Epoch 123 training:\n"
     ]
    },
    {
     "name": "stderr",
     "output_type": "stream",
     "text": [
      "100%|██████████| 711/711 [01:23<00:00,  8.54it/s]\n"
     ]
    },
    {
     "name": "stdout",
     "output_type": "stream",
     "text": [
      "Train Accuracy: 0.6172, Val Accuracy: 0.5721, Test Accuracy: 0.5108\n",
      "Train loss: 1.3065\n",
      "\n",
      " Epoch 124 training:\n"
     ]
    },
    {
     "name": "stderr",
     "output_type": "stream",
     "text": [
      "100%|██████████| 711/711 [01:21<00:00,  8.69it/s]\n"
     ]
    },
    {
     "name": "stdout",
     "output_type": "stream",
     "text": [
      "Train Accuracy: 0.6405, Val Accuracy: 0.5815, Test Accuracy: 0.5199\n",
      "Train loss: 1.2937\n",
      "\n",
      " Epoch 125 training:\n"
     ]
    },
    {
     "name": "stderr",
     "output_type": "stream",
     "text": [
      "100%|██████████| 711/711 [01:20<00:00,  8.79it/s]\n"
     ]
    },
    {
     "name": "stdout",
     "output_type": "stream",
     "text": [
      "Train Accuracy: 0.6339, Val Accuracy: 0.5794, Test Accuracy: 0.5210\n",
      "Train loss: 1.2862\n",
      "\n",
      " Epoch 126 training:\n"
     ]
    },
    {
     "name": "stderr",
     "output_type": "stream",
     "text": [
      "100%|██████████| 711/711 [01:21<00:00,  8.73it/s]\n"
     ]
    },
    {
     "name": "stdout",
     "output_type": "stream",
     "text": [
      "Train Accuracy: 0.6329, Val Accuracy: 0.5795, Test Accuracy: 0.5175\n",
      "Train loss: 1.2891\n",
      "\n",
      " Epoch 127 training:\n"
     ]
    },
    {
     "name": "stderr",
     "output_type": "stream",
     "text": [
      "100%|██████████| 711/711 [01:20<00:00,  8.79it/s]\n"
     ]
    },
    {
     "name": "stdout",
     "output_type": "stream",
     "text": [
      "Train Accuracy: 0.6367, Val Accuracy: 0.5825, Test Accuracy: 0.5199\n",
      "Train loss: 1.2789\n",
      "\n",
      " Epoch 128 training:\n"
     ]
    },
    {
     "name": "stderr",
     "output_type": "stream",
     "text": [
      "100%|██████████| 711/711 [01:21<00:00,  8.71it/s]\n"
     ]
    },
    {
     "name": "stdout",
     "output_type": "stream",
     "text": [
      "Train Accuracy: 0.6341, Val Accuracy: 0.5795, Test Accuracy: 0.5224\n",
      "Train loss: 1.2909\n",
      "\n",
      " Epoch 129 training:\n"
     ]
    },
    {
     "name": "stderr",
     "output_type": "stream",
     "text": [
      "100%|██████████| 711/711 [01:20<00:00,  8.81it/s]\n"
     ]
    },
    {
     "name": "stdout",
     "output_type": "stream",
     "text": [
      "Train Accuracy: 0.6298, Val Accuracy: 0.5788, Test Accuracy: 0.5167\n",
      "Train loss: 1.2852\n",
      "\n",
      " Epoch 130 training:\n"
     ]
    },
    {
     "name": "stderr",
     "output_type": "stream",
     "text": [
      "100%|██████████| 711/711 [01:21<00:00,  8.77it/s]\n"
     ]
    },
    {
     "name": "stdout",
     "output_type": "stream",
     "text": [
      "Train Accuracy: 0.6278, Val Accuracy: 0.5767, Test Accuracy: 0.5124\n",
      "Train loss: 1.2807\n",
      "\n",
      " Epoch 131 training:\n"
     ]
    },
    {
     "name": "stderr",
     "output_type": "stream",
     "text": [
      "100%|██████████| 711/711 [01:20<00:00,  8.86it/s]\n"
     ]
    },
    {
     "name": "stdout",
     "output_type": "stream",
     "text": [
      "Train Accuracy: 0.6326, Val Accuracy: 0.5786, Test Accuracy: 0.5131\n",
      "Train loss: 1.2799\n",
      "\n",
      " Epoch 132 training:\n"
     ]
    },
    {
     "name": "stderr",
     "output_type": "stream",
     "text": [
      "100%|██████████| 711/711 [01:21<00:00,  8.69it/s]\n"
     ]
    },
    {
     "name": "stdout",
     "output_type": "stream",
     "text": [
      "Train Accuracy: 0.6281, Val Accuracy: 0.5767, Test Accuracy: 0.5143\n",
      "Train loss: 1.2947\n",
      "\n",
      " Epoch 133 training:\n"
     ]
    },
    {
     "name": "stderr",
     "output_type": "stream",
     "text": [
      "100%|██████████| 711/711 [01:22<00:00,  8.59it/s]\n"
     ]
    },
    {
     "name": "stdout",
     "output_type": "stream",
     "text": [
      "Train Accuracy: 0.6258, Val Accuracy: 0.5693, Test Accuracy: 0.5068\n",
      "Train loss: 1.2898\n",
      "\n",
      " Epoch 134 training:\n"
     ]
    },
    {
     "name": "stderr",
     "output_type": "stream",
     "text": [
      "100%|██████████| 711/711 [01:21<00:00,  8.71it/s]\n"
     ]
    },
    {
     "name": "stdout",
     "output_type": "stream",
     "text": [
      "Train Accuracy: 0.6340, Val Accuracy: 0.5808, Test Accuracy: 0.5212\n",
      "Train loss: 1.2920\n",
      "\n",
      " Epoch 135 training:\n"
     ]
    },
    {
     "name": "stderr",
     "output_type": "stream",
     "text": [
      "100%|██████████| 711/711 [01:19<00:00,  8.89it/s]\n"
     ]
    },
    {
     "name": "stdout",
     "output_type": "stream",
     "text": [
      "Train Accuracy: 0.6361, Val Accuracy: 0.5812, Test Accuracy: 0.5172\n",
      "Train loss: 1.2680\n",
      "\n",
      " Epoch 136 training:\n"
     ]
    },
    {
     "name": "stderr",
     "output_type": "stream",
     "text": [
      "100%|██████████| 711/711 [01:22<00:00,  8.65it/s]\n"
     ]
    },
    {
     "name": "stdout",
     "output_type": "stream",
     "text": [
      "Train Accuracy: 0.6378, Val Accuracy: 0.5817, Test Accuracy: 0.5225\n",
      "Train loss: 1.2906\n",
      "\n",
      " Epoch 137 training:\n"
     ]
    },
    {
     "name": "stderr",
     "output_type": "stream",
     "text": [
      "100%|██████████| 711/711 [01:20<00:00,  8.78it/s]\n"
     ]
    },
    {
     "name": "stdout",
     "output_type": "stream",
     "text": [
      "Train Accuracy: 0.6329, Val Accuracy: 0.5752, Test Accuracy: 0.5127\n",
      "Train loss: 1.2764\n",
      "\n",
      " Epoch 138 training:\n"
     ]
    },
    {
     "name": "stderr",
     "output_type": "stream",
     "text": [
      "100%|██████████| 711/711 [01:20<00:00,  8.89it/s]\n"
     ]
    },
    {
     "name": "stdout",
     "output_type": "stream",
     "text": [
      "Train Accuracy: 0.6249, Val Accuracy: 0.5737, Test Accuracy: 0.5162\n",
      "Train loss: 1.2684\n",
      "\n",
      " Epoch 139 training:\n"
     ]
    },
    {
     "name": "stderr",
     "output_type": "stream",
     "text": [
      "100%|██████████| 711/711 [01:21<00:00,  8.77it/s]\n"
     ]
    },
    {
     "name": "stdout",
     "output_type": "stream",
     "text": [
      "Train Accuracy: 0.6329, Val Accuracy: 0.5766, Test Accuracy: 0.5138\n",
      "Train loss: 1.2796\n",
      "\n",
      " Epoch 140 training:\n"
     ]
    },
    {
     "name": "stderr",
     "output_type": "stream",
     "text": [
      "100%|██████████| 711/711 [01:21<00:00,  8.72it/s]\n"
     ]
    },
    {
     "name": "stdout",
     "output_type": "stream",
     "text": [
      "Train Accuracy: 0.6326, Val Accuracy: 0.5771, Test Accuracy: 0.5200\n",
      "Train loss: 1.2807\n",
      "\n",
      " Epoch 141 training:\n"
     ]
    },
    {
     "name": "stderr",
     "output_type": "stream",
     "text": [
      "100%|██████████| 711/711 [01:21<00:00,  8.74it/s]\n"
     ]
    },
    {
     "name": "stdout",
     "output_type": "stream",
     "text": [
      "Train Accuracy: 0.6374, Val Accuracy: 0.5811, Test Accuracy: 0.5211\n",
      "Train loss: 1.2705\n",
      "\n",
      " Epoch 142 training:\n"
     ]
    },
    {
     "name": "stderr",
     "output_type": "stream",
     "text": [
      "100%|██████████| 711/711 [01:21<00:00,  8.69it/s]\n"
     ]
    },
    {
     "name": "stdout",
     "output_type": "stream",
     "text": [
      "Train Accuracy: 0.6254, Val Accuracy: 0.5753, Test Accuracy: 0.5119\n",
      "Train loss: 1.2772\n",
      "\n",
      " Epoch 143 training:\n"
     ]
    },
    {
     "name": "stderr",
     "output_type": "stream",
     "text": [
      "100%|██████████| 711/711 [01:21<00:00,  8.71it/s]\n"
     ]
    },
    {
     "name": "stdout",
     "output_type": "stream",
     "text": [
      "Train Accuracy: 0.6292, Val Accuracy: 0.5753, Test Accuracy: 0.5141\n",
      "Train loss: 1.2797\n",
      "\n",
      " Epoch 144 training:\n"
     ]
    },
    {
     "name": "stderr",
     "output_type": "stream",
     "text": [
      "100%|██████████| 711/711 [01:21<00:00,  8.73it/s]\n"
     ]
    },
    {
     "name": "stdout",
     "output_type": "stream",
     "text": [
      "New best model validation accuracy: 0.58536. Previous: 0.58291\n",
      "Train Accuracy: 0.6405, Val Accuracy: 0.5854, Test Accuracy: 0.5256\n",
      "Train loss: 1.2787\n",
      "\n",
      " Epoch 145 training:\n"
     ]
    },
    {
     "name": "stderr",
     "output_type": "stream",
     "text": [
      "100%|██████████| 711/711 [01:20<00:00,  8.84it/s]\n"
     ]
    },
    {
     "name": "stdout",
     "output_type": "stream",
     "text": [
      "Train Accuracy: 0.6255, Val Accuracy: 0.5727, Test Accuracy: 0.5160\n",
      "Train loss: 1.2675\n",
      "\n",
      " Epoch 146 training:\n"
     ]
    },
    {
     "name": "stderr",
     "output_type": "stream",
     "text": [
      "100%|██████████| 711/711 [01:21<00:00,  8.78it/s]\n"
     ]
    },
    {
     "name": "stdout",
     "output_type": "stream",
     "text": [
      "Train Accuracy: 0.6286, Val Accuracy: 0.5724, Test Accuracy: 0.5140\n",
      "Train loss: 1.2711\n",
      "\n",
      " Epoch 147 training:\n"
     ]
    },
    {
     "name": "stderr",
     "output_type": "stream",
     "text": [
      "100%|██████████| 711/711 [01:21<00:00,  8.70it/s]\n"
     ]
    },
    {
     "name": "stdout",
     "output_type": "stream",
     "text": [
      "New best model validation accuracy: 0.58609. Previous: 0.58536\n",
      "Train Accuracy: 0.6412, Val Accuracy: 0.5861, Test Accuracy: 0.5260\n",
      "Train loss: 1.2800\n",
      "\n",
      " Epoch 148 training:\n"
     ]
    },
    {
     "name": "stderr",
     "output_type": "stream",
     "text": [
      "100%|██████████| 711/711 [01:20<00:00,  8.87it/s]\n"
     ]
    },
    {
     "name": "stdout",
     "output_type": "stream",
     "text": [
      "Train Accuracy: 0.6262, Val Accuracy: 0.5753, Test Accuracy: 0.5173\n",
      "Train loss: 1.2660\n",
      "\n",
      " Epoch 149 training:\n"
     ]
    },
    {
     "name": "stderr",
     "output_type": "stream",
     "text": [
      "100%|██████████| 711/711 [01:22<00:00,  8.66it/s]\n"
     ]
    },
    {
     "name": "stdout",
     "output_type": "stream",
     "text": [
      "Train Accuracy: 0.6329, Val Accuracy: 0.5756, Test Accuracy: 0.5139\n",
      "Train loss: 1.2792\n",
      "\n",
      " Epoch 150 training:\n"
     ]
    },
    {
     "name": "stderr",
     "output_type": "stream",
     "text": [
      "100%|██████████| 711/711 [01:22<00:00,  8.60it/s]\n"
     ]
    },
    {
     "name": "stdout",
     "output_type": "stream",
     "text": [
      "Train Accuracy: 0.6260, Val Accuracy: 0.5728, Test Accuracy: 0.5096\n",
      "Train loss: 1.2852\n",
      "\n",
      " Epoch 151 training:\n"
     ]
    },
    {
     "name": "stderr",
     "output_type": "stream",
     "text": [
      "100%|██████████| 711/711 [01:20<00:00,  8.79it/s]\n"
     ]
    },
    {
     "name": "stdout",
     "output_type": "stream",
     "text": [
      "Train Accuracy: 0.6389, Val Accuracy: 0.5810, Test Accuracy: 0.5173\n",
      "Train loss: 1.2694\n",
      "\n",
      " Epoch 152 training:\n"
     ]
    },
    {
     "name": "stderr",
     "output_type": "stream",
     "text": [
      "100%|██████████| 711/711 [01:21<00:00,  8.77it/s]\n"
     ]
    },
    {
     "name": "stdout",
     "output_type": "stream",
     "text": [
      "Train Accuracy: 0.6411, Val Accuracy: 0.5840, Test Accuracy: 0.5238\n",
      "Train loss: 1.2712\n",
      "\n",
      " Epoch 153 training:\n"
     ]
    },
    {
     "name": "stderr",
     "output_type": "stream",
     "text": [
      "100%|██████████| 711/711 [01:20<00:00,  8.84it/s]\n"
     ]
    },
    {
     "name": "stdout",
     "output_type": "stream",
     "text": [
      "Train Accuracy: 0.6360, Val Accuracy: 0.5793, Test Accuracy: 0.5182\n",
      "Train loss: 1.2637\n",
      "\n",
      " Epoch 154 training:\n"
     ]
    },
    {
     "name": "stderr",
     "output_type": "stream",
     "text": [
      "100%|██████████| 711/711 [01:22<00:00,  8.64it/s]\n"
     ]
    },
    {
     "name": "stdout",
     "output_type": "stream",
     "text": [
      "Train Accuracy: 0.6393, Val Accuracy: 0.5821, Test Accuracy: 0.5193\n",
      "Train loss: 1.2748\n",
      "\n",
      " Epoch 155 training:\n"
     ]
    },
    {
     "name": "stderr",
     "output_type": "stream",
     "text": [
      "100%|██████████| 711/711 [01:22<00:00,  8.63it/s]\n"
     ]
    },
    {
     "name": "stdout",
     "output_type": "stream",
     "text": [
      "Train Accuracy: 0.6341, Val Accuracy: 0.5768, Test Accuracy: 0.5166\n",
      "Train loss: 1.2757\n",
      "\n",
      " Epoch 156 training:\n"
     ]
    },
    {
     "name": "stderr",
     "output_type": "stream",
     "text": [
      "100%|██████████| 711/711 [01:20<00:00,  8.79it/s]\n"
     ]
    },
    {
     "name": "stdout",
     "output_type": "stream",
     "text": [
      "Train Accuracy: 0.6343, Val Accuracy: 0.5806, Test Accuracy: 0.5162\n",
      "Train loss: 1.2674\n",
      "\n",
      " Epoch 157 training:\n"
     ]
    },
    {
     "name": "stderr",
     "output_type": "stream",
     "text": [
      "100%|██████████| 711/711 [01:20<00:00,  8.80it/s]\n"
     ]
    },
    {
     "name": "stdout",
     "output_type": "stream",
     "text": [
      "Train Accuracy: 0.6327, Val Accuracy: 0.5766, Test Accuracy: 0.5139\n",
      "Train loss: 1.2662\n",
      "\n",
      " Epoch 158 training:\n"
     ]
    },
    {
     "name": "stderr",
     "output_type": "stream",
     "text": [
      "100%|██████████| 711/711 [01:21<00:00,  8.73it/s]\n"
     ]
    },
    {
     "name": "stdout",
     "output_type": "stream",
     "text": [
      "Train Accuracy: 0.6199, Val Accuracy: 0.5640, Test Accuracy: 0.5086\n",
      "Train loss: 1.2649\n",
      "\n",
      " Epoch 159 training:\n"
     ]
    },
    {
     "name": "stderr",
     "output_type": "stream",
     "text": [
      "100%|██████████| 711/711 [01:21<00:00,  8.77it/s]\n"
     ]
    },
    {
     "name": "stdout",
     "output_type": "stream",
     "text": [
      "Train Accuracy: 0.6402, Val Accuracy: 0.5848, Test Accuracy: 0.5223\n",
      "Train loss: 1.2636\n",
      "\n",
      " Epoch 160 training:\n"
     ]
    },
    {
     "name": "stderr",
     "output_type": "stream",
     "text": [
      "100%|██████████| 711/711 [01:20<00:00,  8.85it/s]\n"
     ]
    },
    {
     "name": "stdout",
     "output_type": "stream",
     "text": [
      "New best model validation accuracy: 0.58804. Previous: 0.58609\n",
      "Train Accuracy: 0.6516, Val Accuracy: 0.5880, Test Accuracy: 0.5221\n",
      "Train loss: 1.2582\n",
      "\n",
      " Epoch 161 training:\n"
     ]
    },
    {
     "name": "stderr",
     "output_type": "stream",
     "text": [
      "100%|██████████| 711/711 [01:20<00:00,  8.84it/s]\n"
     ]
    },
    {
     "name": "stdout",
     "output_type": "stream",
     "text": [
      "Train Accuracy: 0.6274, Val Accuracy: 0.5736, Test Accuracy: 0.5137\n",
      "Train loss: 1.2676\n",
      "\n",
      " Epoch 162 training:\n"
     ]
    },
    {
     "name": "stderr",
     "output_type": "stream",
     "text": [
      "100%|██████████| 711/711 [01:21<00:00,  8.74it/s]\n"
     ]
    },
    {
     "name": "stdout",
     "output_type": "stream",
     "text": [
      "Train Accuracy: 0.6340, Val Accuracy: 0.5738, Test Accuracy: 0.5117\n",
      "Train loss: 1.2597\n",
      "\n",
      " Epoch 163 training:\n"
     ]
    },
    {
     "name": "stderr",
     "output_type": "stream",
     "text": [
      "100%|██████████| 711/711 [01:21<00:00,  8.76it/s]\n"
     ]
    },
    {
     "name": "stdout",
     "output_type": "stream",
     "text": [
      "Train Accuracy: 0.6311, Val Accuracy: 0.5757, Test Accuracy: 0.5138\n",
      "Train loss: 1.2736\n",
      "\n",
      " Epoch 164 training:\n"
     ]
    },
    {
     "name": "stderr",
     "output_type": "stream",
     "text": [
      "100%|██████████| 711/711 [01:20<00:00,  8.81it/s]\n"
     ]
    },
    {
     "name": "stdout",
     "output_type": "stream",
     "text": [
      "Train Accuracy: 0.6312, Val Accuracy: 0.5778, Test Accuracy: 0.5164\n",
      "Train loss: 1.2582\n",
      "\n",
      " Epoch 165 training:\n"
     ]
    },
    {
     "name": "stderr",
     "output_type": "stream",
     "text": [
      "100%|██████████| 711/711 [01:20<00:00,  8.85it/s]\n"
     ]
    },
    {
     "name": "stdout",
     "output_type": "stream",
     "text": [
      "Train Accuracy: 0.6263, Val Accuracy: 0.5692, Test Accuracy: 0.5084\n",
      "Train loss: 1.2579\n",
      "\n",
      " Epoch 166 training:\n"
     ]
    },
    {
     "name": "stderr",
     "output_type": "stream",
     "text": [
      "100%|██████████| 711/711 [01:21<00:00,  8.75it/s]\n"
     ]
    },
    {
     "name": "stdout",
     "output_type": "stream",
     "text": [
      "Train Accuracy: 0.6398, Val Accuracy: 0.5838, Test Accuracy: 0.5206\n",
      "Train loss: 1.2622\n",
      "\n",
      " Epoch 167 training:\n"
     ]
    },
    {
     "name": "stderr",
     "output_type": "stream",
     "text": [
      "100%|██████████| 711/711 [01:21<00:00,  8.76it/s]\n"
     ]
    },
    {
     "name": "stdout",
     "output_type": "stream",
     "text": [
      "Train Accuracy: 0.6320, Val Accuracy: 0.5773, Test Accuracy: 0.5128\n",
      "Train loss: 1.2575\n",
      "\n",
      " Epoch 168 training:\n"
     ]
    },
    {
     "name": "stderr",
     "output_type": "stream",
     "text": [
      "100%|██████████| 711/711 [01:21<00:00,  8.74it/s]\n"
     ]
    },
    {
     "name": "stdout",
     "output_type": "stream",
     "text": [
      "Train Accuracy: 0.6349, Val Accuracy: 0.5771, Test Accuracy: 0.5161\n",
      "Train loss: 1.2650\n",
      "\n",
      " Epoch 169 training:\n"
     ]
    },
    {
     "name": "stderr",
     "output_type": "stream",
     "text": [
      "100%|██████████| 711/711 [01:21<00:00,  8.72it/s]\n"
     ]
    },
    {
     "name": "stdout",
     "output_type": "stream",
     "text": [
      "Train Accuracy: 0.6440, Val Accuracy: 0.5854, Test Accuracy: 0.5246\n",
      "Train loss: 1.2636\n",
      "\n",
      " Epoch 170 training:\n"
     ]
    },
    {
     "name": "stderr",
     "output_type": "stream",
     "text": [
      "100%|██████████| 711/711 [01:21<00:00,  8.73it/s]\n"
     ]
    },
    {
     "name": "stdout",
     "output_type": "stream",
     "text": [
      "Train Accuracy: 0.6311, Val Accuracy: 0.5731, Test Accuracy: 0.5098\n",
      "Train loss: 1.2684\n",
      "\n",
      " Epoch 171 training:\n"
     ]
    },
    {
     "name": "stderr",
     "output_type": "stream",
     "text": [
      "100%|██████████| 711/711 [01:21<00:00,  8.77it/s]\n"
     ]
    },
    {
     "name": "stdout",
     "output_type": "stream",
     "text": [
      "Train Accuracy: 0.6373, Val Accuracy: 0.5841, Test Accuracy: 0.5259\n",
      "Train loss: 1.2643\n",
      "\n",
      " Epoch 172 training:\n"
     ]
    },
    {
     "name": "stderr",
     "output_type": "stream",
     "text": [
      "100%|██████████| 711/711 [01:21<00:00,  8.73it/s]\n"
     ]
    },
    {
     "name": "stdout",
     "output_type": "stream",
     "text": [
      "Train Accuracy: 0.6266, Val Accuracy: 0.5724, Test Accuracy: 0.5149\n",
      "Train loss: 1.2599\n",
      "\n",
      " Epoch 173 training:\n"
     ]
    },
    {
     "name": "stderr",
     "output_type": "stream",
     "text": [
      "100%|██████████| 711/711 [01:21<00:00,  8.74it/s]\n"
     ]
    },
    {
     "name": "stdout",
     "output_type": "stream",
     "text": [
      "Train Accuracy: 0.6306, Val Accuracy: 0.5774, Test Accuracy: 0.5141\n",
      "Train loss: 1.2577\n",
      "\n",
      " Epoch 174 training:\n"
     ]
    },
    {
     "name": "stderr",
     "output_type": "stream",
     "text": [
      "100%|██████████| 711/711 [01:22<00:00,  8.67it/s]\n"
     ]
    },
    {
     "name": "stdout",
     "output_type": "stream",
     "text": [
      "Train Accuracy: 0.6325, Val Accuracy: 0.5773, Test Accuracy: 0.5138\n",
      "Train loss: 1.2699\n",
      "\n",
      " Epoch 175 training:\n"
     ]
    },
    {
     "name": "stderr",
     "output_type": "stream",
     "text": [
      "100%|██████████| 711/711 [01:20<00:00,  8.83it/s]\n"
     ]
    },
    {
     "name": "stdout",
     "output_type": "stream",
     "text": [
      "Train Accuracy: 0.6393, Val Accuracy: 0.5814, Test Accuracy: 0.5141\n",
      "Train loss: 1.2541\n",
      "\n",
      " Epoch 176 training:\n"
     ]
    },
    {
     "name": "stderr",
     "output_type": "stream",
     "text": [
      "100%|██████████| 711/711 [01:19<00:00,  8.93it/s]\n"
     ]
    },
    {
     "name": "stdout",
     "output_type": "stream",
     "text": [
      "Train Accuracy: 0.6414, Val Accuracy: 0.5843, Test Accuracy: 0.5218\n",
      "Train loss: 1.2383\n",
      "\n",
      " Epoch 177 training:\n"
     ]
    },
    {
     "name": "stderr",
     "output_type": "stream",
     "text": [
      "100%|██████████| 711/711 [01:23<00:00,  8.54it/s]\n"
     ]
    },
    {
     "name": "stdout",
     "output_type": "stream",
     "text": [
      "Train Accuracy: 0.6358, Val Accuracy: 0.5795, Test Accuracy: 0.5191\n",
      "Train loss: 1.2752\n",
      "\n",
      " Epoch 178 training:\n"
     ]
    },
    {
     "name": "stderr",
     "output_type": "stream",
     "text": [
      "100%|██████████| 711/711 [01:22<00:00,  8.61it/s]\n"
     ]
    },
    {
     "name": "stdout",
     "output_type": "stream",
     "text": [
      "Train Accuracy: 0.6396, Val Accuracy: 0.5838, Test Accuracy: 0.5198\n",
      "Train loss: 1.2687\n",
      "\n",
      " Epoch 179 training:\n"
     ]
    },
    {
     "name": "stderr",
     "output_type": "stream",
     "text": [
      "100%|██████████| 711/711 [01:22<00:00,  8.66it/s]\n"
     ]
    },
    {
     "name": "stdout",
     "output_type": "stream",
     "text": [
      "Train Accuracy: 0.6392, Val Accuracy: 0.5789, Test Accuracy: 0.5155\n",
      "Train loss: 1.2604\n",
      "\n",
      " Epoch 180 training:\n"
     ]
    },
    {
     "name": "stderr",
     "output_type": "stream",
     "text": [
      "100%|██████████| 711/711 [01:20<00:00,  8.79it/s]\n"
     ]
    },
    {
     "name": "stdout",
     "output_type": "stream",
     "text": [
      "Train Accuracy: 0.6290, Val Accuracy: 0.5760, Test Accuracy: 0.5121\n",
      "Train loss: 1.2559\n",
      "\n",
      " Epoch 181 training:\n"
     ]
    },
    {
     "name": "stderr",
     "output_type": "stream",
     "text": [
      "100%|██████████| 711/711 [01:21<00:00,  8.72it/s]\n"
     ]
    },
    {
     "name": "stdout",
     "output_type": "stream",
     "text": [
      "Train Accuracy: 0.6407, Val Accuracy: 0.5788, Test Accuracy: 0.5153\n",
      "Train loss: 1.2580\n",
      "\n",
      " Epoch 182 training:\n"
     ]
    },
    {
     "name": "stderr",
     "output_type": "stream",
     "text": [
      "100%|██████████| 711/711 [01:20<00:00,  8.85it/s]\n"
     ]
    },
    {
     "name": "stdout",
     "output_type": "stream",
     "text": [
      "Train Accuracy: 0.6391, Val Accuracy: 0.5767, Test Accuracy: 0.5176\n",
      "Train loss: 1.2421\n",
      "\n",
      " Epoch 183 training:\n"
     ]
    },
    {
     "name": "stderr",
     "output_type": "stream",
     "text": [
      "100%|██████████| 711/711 [01:21<00:00,  8.71it/s]\n"
     ]
    },
    {
     "name": "stdout",
     "output_type": "stream",
     "text": [
      "Train Accuracy: 0.6346, Val Accuracy: 0.5806, Test Accuracy: 0.5169\n",
      "Train loss: 1.2660\n",
      "\n",
      " Epoch 184 training:\n"
     ]
    },
    {
     "name": "stderr",
     "output_type": "stream",
     "text": [
      "100%|██████████| 711/711 [01:22<00:00,  8.64it/s]\n"
     ]
    },
    {
     "name": "stdout",
     "output_type": "stream",
     "text": [
      "Train Accuracy: 0.6386, Val Accuracy: 0.5782, Test Accuracy: 0.5162\n",
      "Train loss: 1.2625\n",
      "\n",
      " Epoch 185 training:\n"
     ]
    },
    {
     "name": "stderr",
     "output_type": "stream",
     "text": [
      "100%|██████████| 711/711 [01:21<00:00,  8.70it/s]\n"
     ]
    },
    {
     "name": "stdout",
     "output_type": "stream",
     "text": [
      "Train Accuracy: 0.6442, Val Accuracy: 0.5793, Test Accuracy: 0.5159\n",
      "Train loss: 1.2586\n",
      "\n",
      " Epoch 186 training:\n"
     ]
    },
    {
     "name": "stderr",
     "output_type": "stream",
     "text": [
      "100%|██████████| 711/711 [01:20<00:00,  8.78it/s]\n"
     ]
    },
    {
     "name": "stdout",
     "output_type": "stream",
     "text": [
      "Train Accuracy: 0.6310, Val Accuracy: 0.5689, Test Accuracy: 0.5072\n",
      "Train loss: 1.2558\n",
      "\n",
      " Epoch 187 training:\n"
     ]
    },
    {
     "name": "stderr",
     "output_type": "stream",
     "text": [
      "100%|██████████| 711/711 [01:20<00:00,  8.86it/s]\n"
     ]
    },
    {
     "name": "stdout",
     "output_type": "stream",
     "text": [
      "Train Accuracy: 0.6341, Val Accuracy: 0.5778, Test Accuracy: 0.5180\n",
      "Train loss: 1.2470\n",
      "\n",
      " Epoch 188 training:\n"
     ]
    },
    {
     "name": "stderr",
     "output_type": "stream",
     "text": [
      "100%|██████████| 711/711 [01:21<00:00,  8.74it/s]\n"
     ]
    },
    {
     "name": "stdout",
     "output_type": "stream",
     "text": [
      "Train Accuracy: 0.6303, Val Accuracy: 0.5736, Test Accuracy: 0.5100\n",
      "Train loss: 1.2491\n",
      "\n",
      " Epoch 189 training:\n"
     ]
    },
    {
     "name": "stderr",
     "output_type": "stream",
     "text": [
      "100%|██████████| 711/711 [01:21<00:00,  8.73it/s]\n"
     ]
    },
    {
     "name": "stdout",
     "output_type": "stream",
     "text": [
      "Train Accuracy: 0.6510, Val Accuracy: 0.5857, Test Accuracy: 0.5215\n",
      "Train loss: 1.2574\n",
      "\n",
      " Epoch 190 training:\n"
     ]
    },
    {
     "name": "stderr",
     "output_type": "stream",
     "text": [
      "100%|██████████| 711/711 [01:21<00:00,  8.72it/s]\n"
     ]
    },
    {
     "name": "stdout",
     "output_type": "stream",
     "text": [
      "Train Accuracy: 0.6432, Val Accuracy: 0.5815, Test Accuracy: 0.5176\n",
      "Train loss: 1.2540\n",
      "\n",
      " Epoch 191 training:\n"
     ]
    },
    {
     "name": "stderr",
     "output_type": "stream",
     "text": [
      "100%|██████████| 711/711 [01:21<00:00,  8.69it/s]\n"
     ]
    },
    {
     "name": "stdout",
     "output_type": "stream",
     "text": [
      "Train Accuracy: 0.6314, Val Accuracy: 0.5734, Test Accuracy: 0.5137\n",
      "Train loss: 1.2610\n",
      "\n",
      " Epoch 192 training:\n"
     ]
    },
    {
     "name": "stderr",
     "output_type": "stream",
     "text": [
      "100%|██████████| 711/711 [01:22<00:00,  8.65it/s]\n"
     ]
    },
    {
     "name": "stdout",
     "output_type": "stream",
     "text": [
      "Train Accuracy: 0.6469, Val Accuracy: 0.5871, Test Accuracy: 0.5238\n",
      "Train loss: 1.2572\n",
      "\n",
      " Epoch 193 training:\n"
     ]
    },
    {
     "name": "stderr",
     "output_type": "stream",
     "text": [
      "100%|██████████| 711/711 [01:21<00:00,  8.71it/s]\n"
     ]
    },
    {
     "name": "stdout",
     "output_type": "stream",
     "text": [
      "Train Accuracy: 0.6442, Val Accuracy: 0.5862, Test Accuracy: 0.5183\n",
      "Train loss: 1.2630\n",
      "\n",
      " Epoch 194 training:\n"
     ]
    },
    {
     "name": "stderr",
     "output_type": "stream",
     "text": [
      "100%|██████████| 711/711 [01:22<00:00,  8.58it/s]\n"
     ]
    },
    {
     "name": "stdout",
     "output_type": "stream",
     "text": [
      "Train Accuracy: 0.6419, Val Accuracy: 0.5791, Test Accuracy: 0.5139\n",
      "Train loss: 1.2624\n",
      "\n",
      " Epoch 195 training:\n"
     ]
    },
    {
     "name": "stderr",
     "output_type": "stream",
     "text": [
      "100%|██████████| 711/711 [01:21<00:00,  8.72it/s]\n"
     ]
    },
    {
     "name": "stdout",
     "output_type": "stream",
     "text": [
      "Train Accuracy: 0.6308, Val Accuracy: 0.5760, Test Accuracy: 0.5143\n",
      "Train loss: 1.2495\n",
      "\n",
      " Epoch 196 training:\n"
     ]
    },
    {
     "name": "stderr",
     "output_type": "stream",
     "text": [
      "100%|██████████| 711/711 [01:20<00:00,  8.88it/s]\n"
     ]
    },
    {
     "name": "stdout",
     "output_type": "stream",
     "text": [
      "Train Accuracy: 0.6337, Val Accuracy: 0.5758, Test Accuracy: 0.5125\n",
      "Train loss: 1.2430\n",
      "\n",
      " Epoch 197 training:\n"
     ]
    },
    {
     "name": "stderr",
     "output_type": "stream",
     "text": [
      "100%|██████████| 711/711 [01:21<00:00,  8.69it/s]\n"
     ]
    },
    {
     "name": "stdout",
     "output_type": "stream",
     "text": [
      "Train Accuracy: 0.6337, Val Accuracy: 0.5732, Test Accuracy: 0.5109\n",
      "Train loss: 1.2592\n",
      "\n",
      " Epoch 198 training:\n"
     ]
    },
    {
     "name": "stderr",
     "output_type": "stream",
     "text": [
      "100%|██████████| 711/711 [01:21<00:00,  8.72it/s]\n"
     ]
    },
    {
     "name": "stdout",
     "output_type": "stream",
     "text": [
      "Train Accuracy: 0.6430, Val Accuracy: 0.5851, Test Accuracy: 0.5203\n",
      "Train loss: 1.2508\n",
      "\n",
      " Epoch 199 training:\n"
     ]
    },
    {
     "name": "stderr",
     "output_type": "stream",
     "text": [
      "100%|██████████| 711/711 [01:21<00:00,  8.75it/s]\n"
     ]
    },
    {
     "name": "stdout",
     "output_type": "stream",
     "text": [
      "Train Accuracy: 0.6482, Val Accuracy: 0.5838, Test Accuracy: 0.5177\n",
      "Train loss: 1.2561\n",
      "\n",
      " Epoch 200 training:\n"
     ]
    },
    {
     "name": "stderr",
     "output_type": "stream",
     "text": [
      "100%|██████████| 711/711 [01:20<00:00,  8.81it/s]\n"
     ]
    },
    {
     "name": "stdout",
     "output_type": "stream",
     "text": [
      "Train Accuracy: 0.6324, Val Accuracy: 0.5747, Test Accuracy: 0.5133\n",
      "Train loss: 1.2391\n",
      "\n",
      " Epoch 201 training:\n"
     ]
    },
    {
     "name": "stderr",
     "output_type": "stream",
     "text": [
      "100%|██████████| 711/711 [01:21<00:00,  8.71it/s]\n"
     ]
    },
    {
     "name": "stdout",
     "output_type": "stream",
     "text": [
      "Train Accuracy: 0.6392, Val Accuracy: 0.5751, Test Accuracy: 0.5121\n",
      "Train loss: 1.2524\n",
      "\n",
      " Epoch 202 training:\n"
     ]
    },
    {
     "name": "stderr",
     "output_type": "stream",
     "text": [
      "100%|██████████| 711/711 [01:21<00:00,  8.78it/s]\n"
     ]
    },
    {
     "name": "stdout",
     "output_type": "stream",
     "text": [
      "Train Accuracy: 0.6442, Val Accuracy: 0.5830, Test Accuracy: 0.5224\n",
      "Train loss: 1.2523\n",
      "\n",
      " Epoch 203 training:\n"
     ]
    },
    {
     "name": "stderr",
     "output_type": "stream",
     "text": [
      "100%|██████████| 711/711 [01:21<00:00,  8.70it/s]\n"
     ]
    },
    {
     "name": "stdout",
     "output_type": "stream",
     "text": [
      "Train Accuracy: 0.6443, Val Accuracy: 0.5839, Test Accuracy: 0.5222\n",
      "Train loss: 1.2574\n",
      "\n",
      " Epoch 204 training:\n"
     ]
    },
    {
     "name": "stderr",
     "output_type": "stream",
     "text": [
      "100%|██████████| 711/711 [01:21<00:00,  8.75it/s]\n"
     ]
    },
    {
     "name": "stdout",
     "output_type": "stream",
     "text": [
      "Train Accuracy: 0.6355, Val Accuracy: 0.5787, Test Accuracy: 0.5155\n",
      "Train loss: 1.2517\n",
      "\n",
      " Epoch 205 training:\n"
     ]
    },
    {
     "name": "stderr",
     "output_type": "stream",
     "text": [
      "100%|██████████| 711/711 [01:20<00:00,  8.85it/s]\n"
     ]
    },
    {
     "name": "stdout",
     "output_type": "stream",
     "text": [
      "Train Accuracy: 0.6427, Val Accuracy: 0.5822, Test Accuracy: 0.5217\n",
      "Train loss: 1.2438\n",
      "\n",
      " Epoch 206 training:\n"
     ]
    },
    {
     "name": "stderr",
     "output_type": "stream",
     "text": [
      "100%|██████████| 711/711 [01:21<00:00,  8.75it/s]\n"
     ]
    },
    {
     "name": "stdout",
     "output_type": "stream",
     "text": [
      "Train Accuracy: 0.6313, Val Accuracy: 0.5755, Test Accuracy: 0.5117\n",
      "Train loss: 1.2460\n",
      "\n",
      " Epoch 207 training:\n"
     ]
    },
    {
     "name": "stderr",
     "output_type": "stream",
     "text": [
      "100%|██████████| 711/711 [01:22<00:00,  8.64it/s]\n"
     ]
    },
    {
     "name": "stdout",
     "output_type": "stream",
     "text": [
      "Train Accuracy: 0.6372, Val Accuracy: 0.5796, Test Accuracy: 0.5172\n",
      "Train loss: 1.2501\n",
      "\n",
      " Epoch 208 training:\n"
     ]
    },
    {
     "name": "stderr",
     "output_type": "stream",
     "text": [
      "100%|██████████| 711/711 [01:21<00:00,  8.71it/s]\n"
     ]
    },
    {
     "name": "stdout",
     "output_type": "stream",
     "text": [
      "Train Accuracy: 0.6468, Val Accuracy: 0.5826, Test Accuracy: 0.5188\n",
      "Train loss: 1.2456\n",
      "\n",
      " Epoch 209 training:\n"
     ]
    },
    {
     "name": "stderr",
     "output_type": "stream",
     "text": [
      "100%|██████████| 711/711 [01:21<00:00,  8.74it/s]\n"
     ]
    },
    {
     "name": "stdout",
     "output_type": "stream",
     "text": [
      "Train Accuracy: 0.6385, Val Accuracy: 0.5743, Test Accuracy: 0.5148\n",
      "Train loss: 1.2506\n",
      "\n",
      " Epoch 210 training:\n"
     ]
    },
    {
     "name": "stderr",
     "output_type": "stream",
     "text": [
      "100%|██████████| 711/711 [01:21<00:00,  8.68it/s]\n"
     ]
    },
    {
     "name": "stdout",
     "output_type": "stream",
     "text": [
      "Train Accuracy: 0.6338, Val Accuracy: 0.5752, Test Accuracy: 0.5154\n",
      "Train loss: 1.2485\n",
      "\n",
      " Epoch 211 training:\n"
     ]
    },
    {
     "name": "stderr",
     "output_type": "stream",
     "text": [
      "100%|██████████| 711/711 [01:21<00:00,  8.71it/s]\n"
     ]
    },
    {
     "name": "stdout",
     "output_type": "stream",
     "text": [
      "Train Accuracy: 0.6386, Val Accuracy: 0.5815, Test Accuracy: 0.5184\n",
      "Train loss: 1.2434\n",
      "\n",
      " Epoch 212 training:\n"
     ]
    },
    {
     "name": "stderr",
     "output_type": "stream",
     "text": [
      "100%|██████████| 711/711 [01:22<00:00,  8.57it/s]\n"
     ]
    },
    {
     "name": "stdout",
     "output_type": "stream",
     "text": [
      "Train Accuracy: 0.6362, Val Accuracy: 0.5791, Test Accuracy: 0.5182\n",
      "Train loss: 1.2494\n",
      "\n",
      " Epoch 213 training:\n"
     ]
    },
    {
     "name": "stderr",
     "output_type": "stream",
     "text": [
      "100%|██████████| 711/711 [01:22<00:00,  8.66it/s]\n"
     ]
    },
    {
     "name": "stdout",
     "output_type": "stream",
     "text": [
      "Train Accuracy: 0.6345, Val Accuracy: 0.5705, Test Accuracy: 0.5098\n",
      "Train loss: 1.2403\n",
      "\n",
      " Epoch 214 training:\n"
     ]
    },
    {
     "name": "stderr",
     "output_type": "stream",
     "text": [
      "100%|██████████| 711/711 [01:21<00:00,  8.75it/s]\n"
     ]
    },
    {
     "name": "stdout",
     "output_type": "stream",
     "text": [
      "Train Accuracy: 0.6397, Val Accuracy: 0.5760, Test Accuracy: 0.5156\n",
      "Train loss: 1.2458\n",
      "\n",
      " Epoch 215 training:\n"
     ]
    },
    {
     "name": "stderr",
     "output_type": "stream",
     "text": [
      "100%|██████████| 711/711 [01:20<00:00,  8.81it/s]\n"
     ]
    },
    {
     "name": "stdout",
     "output_type": "stream",
     "text": [
      "Train Accuracy: 0.6395, Val Accuracy: 0.5783, Test Accuracy: 0.5148\n",
      "Train loss: 1.2467\n",
      "\n",
      " Epoch 216 training:\n"
     ]
    },
    {
     "name": "stderr",
     "output_type": "stream",
     "text": [
      "100%|██████████| 711/711 [01:21<00:00,  8.74it/s]\n"
     ]
    },
    {
     "name": "stdout",
     "output_type": "stream",
     "text": [
      "Train Accuracy: 0.6440, Val Accuracy: 0.5797, Test Accuracy: 0.5163\n",
      "Train loss: 1.2479\n",
      "\n",
      " Epoch 217 training:\n"
     ]
    },
    {
     "name": "stderr",
     "output_type": "stream",
     "text": [
      "100%|██████████| 711/711 [01:20<00:00,  8.83it/s]\n"
     ]
    },
    {
     "name": "stdout",
     "output_type": "stream",
     "text": [
      "Train Accuracy: 0.6429, Val Accuracy: 0.5757, Test Accuracy: 0.5119\n",
      "Train loss: 1.2368\n",
      "\n",
      " Epoch 218 training:\n"
     ]
    },
    {
     "name": "stderr",
     "output_type": "stream",
     "text": [
      "100%|██████████| 711/711 [01:20<00:00,  8.83it/s]\n"
     ]
    },
    {
     "name": "stdout",
     "output_type": "stream",
     "text": [
      "Train Accuracy: 0.6483, Val Accuracy: 0.5869, Test Accuracy: 0.5211\n",
      "Train loss: 1.2387\n",
      "\n",
      " Epoch 219 training:\n"
     ]
    },
    {
     "name": "stderr",
     "output_type": "stream",
     "text": [
      "100%|██████████| 711/711 [01:22<00:00,  8.64it/s]\n"
     ]
    },
    {
     "name": "stdout",
     "output_type": "stream",
     "text": [
      "Train Accuracy: 0.6490, Val Accuracy: 0.5840, Test Accuracy: 0.5199\n",
      "Train loss: 1.2511\n",
      "\n",
      " Epoch 220 training:\n"
     ]
    },
    {
     "name": "stderr",
     "output_type": "stream",
     "text": [
      "100%|██████████| 711/711 [01:21<00:00,  8.70it/s]\n"
     ]
    },
    {
     "name": "stdout",
     "output_type": "stream",
     "text": [
      "New best model validation accuracy: 0.58821. Previous: 0.58804\n",
      "Train Accuracy: 0.6507, Val Accuracy: 0.5882, Test Accuracy: 0.5225\n",
      "Train loss: 1.2483\n",
      "\n",
      " Epoch 221 training:\n"
     ]
    },
    {
     "name": "stderr",
     "output_type": "stream",
     "text": [
      "100%|██████████| 711/711 [01:21<00:00,  8.68it/s]\n"
     ]
    },
    {
     "name": "stdout",
     "output_type": "stream",
     "text": [
      "Train Accuracy: 0.6427, Val Accuracy: 0.5830, Test Accuracy: 0.5189\n",
      "Train loss: 1.2438\n",
      "\n",
      " Epoch 222 training:\n"
     ]
    },
    {
     "name": "stderr",
     "output_type": "stream",
     "text": [
      "100%|██████████| 711/711 [01:21<00:00,  8.75it/s]\n"
     ]
    },
    {
     "name": "stdout",
     "output_type": "stream",
     "text": [
      "Train Accuracy: 0.6445, Val Accuracy: 0.5810, Test Accuracy: 0.5208\n",
      "Train loss: 1.2407\n",
      "\n",
      " Epoch 223 training:\n"
     ]
    },
    {
     "name": "stderr",
     "output_type": "stream",
     "text": [
      "100%|██████████| 711/711 [01:22<00:00,  8.58it/s]\n"
     ]
    },
    {
     "name": "stdout",
     "output_type": "stream",
     "text": [
      "Train Accuracy: 0.6414, Val Accuracy: 0.5792, Test Accuracy: 0.5147\n",
      "Train loss: 1.2592\n",
      "\n",
      " Epoch 224 training:\n"
     ]
    },
    {
     "name": "stderr",
     "output_type": "stream",
     "text": [
      "100%|██████████| 711/711 [01:21<00:00,  8.70it/s]\n"
     ]
    },
    {
     "name": "stdout",
     "output_type": "stream",
     "text": [
      "Train Accuracy: 0.6418, Val Accuracy: 0.5794, Test Accuracy: 0.5168\n",
      "Train loss: 1.2375\n",
      "\n",
      " Epoch 225 training:\n"
     ]
    },
    {
     "name": "stderr",
     "output_type": "stream",
     "text": [
      "100%|██████████| 711/711 [01:21<00:00,  8.70it/s]\n"
     ]
    },
    {
     "name": "stdout",
     "output_type": "stream",
     "text": [
      "Train Accuracy: 0.6348, Val Accuracy: 0.5724, Test Accuracy: 0.5114\n",
      "Train loss: 1.2426\n",
      "\n",
      " Epoch 226 training:\n"
     ]
    },
    {
     "name": "stderr",
     "output_type": "stream",
     "text": [
      "100%|██████████| 711/711 [01:20<00:00,  8.82it/s]\n"
     ]
    },
    {
     "name": "stdout",
     "output_type": "stream",
     "text": [
      "Train Accuracy: 0.6374, Val Accuracy: 0.5756, Test Accuracy: 0.5138\n",
      "Train loss: 1.2366\n",
      "\n",
      " Epoch 227 training:\n"
     ]
    },
    {
     "name": "stderr",
     "output_type": "stream",
     "text": [
      "100%|██████████| 711/711 [01:21<00:00,  8.69it/s]\n"
     ]
    },
    {
     "name": "stdout",
     "output_type": "stream",
     "text": [
      "Train Accuracy: 0.6398, Val Accuracy: 0.5800, Test Accuracy: 0.5191\n",
      "Train loss: 1.2446\n",
      "\n",
      " Epoch 228 training:\n"
     ]
    },
    {
     "name": "stderr",
     "output_type": "stream",
     "text": [
      "100%|██████████| 711/711 [01:21<00:00,  8.72it/s]\n"
     ]
    },
    {
     "name": "stdout",
     "output_type": "stream",
     "text": [
      "Train Accuracy: 0.6360, Val Accuracy: 0.5741, Test Accuracy: 0.5153\n",
      "Train loss: 1.2440\n",
      "\n",
      " Epoch 229 training:\n"
     ]
    },
    {
     "name": "stderr",
     "output_type": "stream",
     "text": [
      "100%|██████████| 711/711 [01:20<00:00,  8.83it/s]\n"
     ]
    },
    {
     "name": "stdout",
     "output_type": "stream",
     "text": [
      "Train Accuracy: 0.6354, Val Accuracy: 0.5762, Test Accuracy: 0.5156\n",
      "Train loss: 1.2416\n",
      "\n",
      " Epoch 230 training:\n"
     ]
    },
    {
     "name": "stderr",
     "output_type": "stream",
     "text": [
      "100%|██████████| 711/711 [01:22<00:00,  8.60it/s]\n"
     ]
    },
    {
     "name": "stdout",
     "output_type": "stream",
     "text": [
      "Train Accuracy: 0.6371, Val Accuracy: 0.5756, Test Accuracy: 0.5129\n",
      "Train loss: 1.2493\n",
      "\n",
      " Epoch 231 training:\n"
     ]
    },
    {
     "name": "stderr",
     "output_type": "stream",
     "text": [
      "100%|██████████| 711/711 [01:22<00:00,  8.63it/s]\n"
     ]
    },
    {
     "name": "stdout",
     "output_type": "stream",
     "text": [
      "Train Accuracy: 0.6481, Val Accuracy: 0.5858, Test Accuracy: 0.5205\n",
      "Train loss: 1.2377\n",
      "\n",
      " Epoch 232 training:\n"
     ]
    },
    {
     "name": "stderr",
     "output_type": "stream",
     "text": [
      "100%|██████████| 711/711 [01:21<00:00,  8.67it/s]\n"
     ]
    },
    {
     "name": "stdout",
     "output_type": "stream",
     "text": [
      "Train Accuracy: 0.6387, Val Accuracy: 0.5765, Test Accuracy: 0.5155\n",
      "Train loss: 1.2446\n",
      "\n",
      " Epoch 233 training:\n"
     ]
    },
    {
     "name": "stderr",
     "output_type": "stream",
     "text": [
      "100%|██████████| 711/711 [01:19<00:00,  8.89it/s]\n"
     ]
    },
    {
     "name": "stdout",
     "output_type": "stream",
     "text": [
      "Train Accuracy: 0.6354, Val Accuracy: 0.5744, Test Accuracy: 0.5159\n",
      "Train loss: 1.2251\n",
      "\n",
      " Epoch 234 training:\n"
     ]
    },
    {
     "name": "stderr",
     "output_type": "stream",
     "text": [
      "100%|██████████| 711/711 [01:20<00:00,  8.86it/s]\n"
     ]
    },
    {
     "name": "stdout",
     "output_type": "stream",
     "text": [
      "Train Accuracy: 0.6365, Val Accuracy: 0.5792, Test Accuracy: 0.5174\n",
      "Train loss: 1.2313\n",
      "\n",
      " Epoch 235 training:\n"
     ]
    },
    {
     "name": "stderr",
     "output_type": "stream",
     "text": [
      "100%|██████████| 711/711 [01:22<00:00,  8.66it/s]\n"
     ]
    },
    {
     "name": "stdout",
     "output_type": "stream",
     "text": [
      "Train Accuracy: 0.6450, Val Accuracy: 0.5824, Test Accuracy: 0.5191\n",
      "Train loss: 1.2501\n",
      "\n",
      " Epoch 236 training:\n"
     ]
    },
    {
     "name": "stderr",
     "output_type": "stream",
     "text": [
      "100%|██████████| 711/711 [01:21<00:00,  8.78it/s]\n"
     ]
    },
    {
     "name": "stdout",
     "output_type": "stream",
     "text": [
      "Train Accuracy: 0.6495, Val Accuracy: 0.5842, Test Accuracy: 0.5220\n",
      "Train loss: 1.2330\n",
      "\n",
      " Epoch 237 training:\n"
     ]
    },
    {
     "name": "stderr",
     "output_type": "stream",
     "text": [
      "100%|██████████| 711/711 [01:19<00:00,  8.91it/s]\n"
     ]
    },
    {
     "name": "stdout",
     "output_type": "stream",
     "text": [
      "Train Accuracy: 0.6469, Val Accuracy: 0.5824, Test Accuracy: 0.5218\n",
      "Train loss: 1.2223\n",
      "\n",
      " Epoch 238 training:\n"
     ]
    },
    {
     "name": "stderr",
     "output_type": "stream",
     "text": [
      "100%|██████████| 711/711 [01:21<00:00,  8.68it/s]\n"
     ]
    },
    {
     "name": "stdout",
     "output_type": "stream",
     "text": [
      "Train Accuracy: 0.6445, Val Accuracy: 0.5817, Test Accuracy: 0.5191\n",
      "Train loss: 1.2478\n",
      "\n",
      " Epoch 239 training:\n"
     ]
    },
    {
     "name": "stderr",
     "output_type": "stream",
     "text": [
      "100%|██████████| 711/711 [01:20<00:00,  8.78it/s]\n"
     ]
    },
    {
     "name": "stdout",
     "output_type": "stream",
     "text": [
      "Train Accuracy: 0.6442, Val Accuracy: 0.5845, Test Accuracy: 0.5224\n",
      "Train loss: 1.2352\n",
      "\n",
      " Epoch 240 training:\n"
     ]
    },
    {
     "name": "stderr",
     "output_type": "stream",
     "text": [
      "100%|██████████| 711/711 [01:20<00:00,  8.82it/s]\n"
     ]
    },
    {
     "name": "stdout",
     "output_type": "stream",
     "text": [
      "Train Accuracy: 0.6384, Val Accuracy: 0.5784, Test Accuracy: 0.5152\n",
      "Train loss: 1.2365\n",
      "\n",
      " Epoch 241 training:\n"
     ]
    },
    {
     "name": "stderr",
     "output_type": "stream",
     "text": [
      "100%|██████████| 711/711 [01:21<00:00,  8.72it/s]\n"
     ]
    },
    {
     "name": "stdout",
     "output_type": "stream",
     "text": [
      "Train Accuracy: 0.6432, Val Accuracy: 0.5799, Test Accuracy: 0.5141\n",
      "Train loss: 1.2405\n",
      "\n",
      " Epoch 242 training:\n"
     ]
    },
    {
     "name": "stderr",
     "output_type": "stream",
     "text": [
      "100%|██████████| 711/711 [01:20<00:00,  8.87it/s]\n"
     ]
    },
    {
     "name": "stdout",
     "output_type": "stream",
     "text": [
      "Train Accuracy: 0.6397, Val Accuracy: 0.5726, Test Accuracy: 0.5136\n",
      "Train loss: 1.2312\n",
      "\n",
      " Epoch 243 training:\n"
     ]
    },
    {
     "name": "stderr",
     "output_type": "stream",
     "text": [
      "100%|██████████| 711/711 [01:21<00:00,  8.71it/s]\n"
     ]
    },
    {
     "name": "stdout",
     "output_type": "stream",
     "text": [
      "Train Accuracy: 0.6420, Val Accuracy: 0.5774, Test Accuracy: 0.5183\n",
      "Train loss: 1.2403\n",
      "\n",
      " Epoch 244 training:\n"
     ]
    },
    {
     "name": "stderr",
     "output_type": "stream",
     "text": [
      "100%|██████████| 711/711 [01:19<00:00,  8.90it/s]\n"
     ]
    },
    {
     "name": "stdout",
     "output_type": "stream",
     "text": [
      "Train Accuracy: 0.6387, Val Accuracy: 0.5778, Test Accuracy: 0.5123\n",
      "Train loss: 1.2213\n",
      "\n",
      " Epoch 245 training:\n"
     ]
    },
    {
     "name": "stderr",
     "output_type": "stream",
     "text": [
      "100%|██████████| 711/711 [01:22<00:00,  8.67it/s]\n"
     ]
    },
    {
     "name": "stdout",
     "output_type": "stream",
     "text": [
      "Train Accuracy: 0.6501, Val Accuracy: 0.5847, Test Accuracy: 0.5224\n",
      "Train loss: 1.2394\n",
      "\n",
      " Epoch 246 training:\n"
     ]
    },
    {
     "name": "stderr",
     "output_type": "stream",
     "text": [
      "100%|██████████| 711/711 [01:21<00:00,  8.70it/s]\n"
     ]
    },
    {
     "name": "stdout",
     "output_type": "stream",
     "text": [
      "Train Accuracy: 0.6425, Val Accuracy: 0.5814, Test Accuracy: 0.5186\n",
      "Train loss: 1.2365\n",
      "\n",
      " Epoch 247 training:\n"
     ]
    },
    {
     "name": "stderr",
     "output_type": "stream",
     "text": [
      "100%|██████████| 711/711 [01:22<00:00,  8.67it/s]\n"
     ]
    },
    {
     "name": "stdout",
     "output_type": "stream",
     "text": [
      "Train Accuracy: 0.6458, Val Accuracy: 0.5837, Test Accuracy: 0.5219\n",
      "Train loss: 1.2383\n",
      "\n",
      " Epoch 248 training:\n"
     ]
    },
    {
     "name": "stderr",
     "output_type": "stream",
     "text": [
      "100%|██████████| 711/711 [01:22<00:00,  8.66it/s]\n"
     ]
    },
    {
     "name": "stdout",
     "output_type": "stream",
     "text": [
      "Train Accuracy: 0.6470, Val Accuracy: 0.5858, Test Accuracy: 0.5241\n",
      "Train loss: 1.2399\n",
      "\n",
      " Epoch 249 training:\n"
     ]
    },
    {
     "name": "stderr",
     "output_type": "stream",
     "text": [
      "100%|██████████| 711/711 [01:20<00:00,  8.82it/s]\n"
     ]
    },
    {
     "name": "stdout",
     "output_type": "stream",
     "text": [
      "Train Accuracy: 0.6451, Val Accuracy: 0.5839, Test Accuracy: 0.5209\n",
      "Train loss: 1.2268\n",
      "\n",
      " Epoch 0 training:\n"
     ]
    },
    {
     "name": "stderr",
     "output_type": "stream",
     "text": [
      "100%|██████████| 711/711 [01:21<00:00,  8.70it/s]\n"
     ]
    },
    {
     "name": "stdout",
     "output_type": "stream",
     "text": [
      "New best model validation accuracy: 0.47280. Previous: 0.00000\n",
      "Train Accuracy: 0.4748, Val Accuracy: 0.4728, Test Accuracy: 0.4198\n",
      "Train loss: 2.2340\n",
      "\n",
      " Epoch 1 training:\n"
     ]
    },
    {
     "name": "stderr",
     "output_type": "stream",
     "text": [
      "100%|██████████| 711/711 [01:21<00:00,  8.76it/s]\n"
     ]
    },
    {
     "name": "stdout",
     "output_type": "stream",
     "text": [
      "Train Accuracy: 0.4672, Val Accuracy: 0.4691, Test Accuracy: 0.3980\n",
      "Train loss: 1.9088\n",
      "\n",
      " Epoch 2 training:\n"
     ]
    },
    {
     "name": "stderr",
     "output_type": "stream",
     "text": [
      "100%|██████████| 711/711 [01:20<00:00,  8.82it/s]\n"
     ]
    },
    {
     "name": "stdout",
     "output_type": "stream",
     "text": [
      "New best model validation accuracy: 0.50435. Previous: 0.47280\n",
      "Train Accuracy: 0.5067, Val Accuracy: 0.5043, Test Accuracy: 0.4430\n",
      "Train loss: 1.7831\n",
      "\n",
      " Epoch 3 training:\n"
     ]
    },
    {
     "name": "stderr",
     "output_type": "stream",
     "text": [
      "100%|██████████| 711/711 [01:22<00:00,  8.66it/s]\n"
     ]
    },
    {
     "name": "stdout",
     "output_type": "stream",
     "text": [
      "Train Accuracy: 0.5152, Val Accuracy: 0.5031, Test Accuracy: 0.4279\n",
      "Train loss: 1.7597\n",
      "\n",
      " Epoch 4 training:\n"
     ]
    },
    {
     "name": "stderr",
     "output_type": "stream",
     "text": [
      "100%|██████████| 711/711 [01:20<00:00,  8.80it/s]\n"
     ]
    },
    {
     "name": "stdout",
     "output_type": "stream",
     "text": [
      "New best model validation accuracy: 0.51485. Previous: 0.50435\n",
      "Train Accuracy: 0.5191, Val Accuracy: 0.5148, Test Accuracy: 0.4471\n",
      "Train loss: 1.7033\n",
      "\n",
      " Epoch 5 training:\n"
     ]
    },
    {
     "name": "stderr",
     "output_type": "stream",
     "text": [
      "100%|██████████| 711/711 [01:21<00:00,  8.75it/s]\n"
     ]
    },
    {
     "name": "stdout",
     "output_type": "stream",
     "text": [
      "Train Accuracy: 0.5137, Val Accuracy: 0.5079, Test Accuracy: 0.4363\n",
      "Train loss: 1.6754\n",
      "\n",
      " Epoch 6 training:\n"
     ]
    },
    {
     "name": "stderr",
     "output_type": "stream",
     "text": [
      "100%|██████████| 711/711 [01:20<00:00,  8.84it/s]\n"
     ]
    },
    {
     "name": "stdout",
     "output_type": "stream",
     "text": [
      "New best model validation accuracy: 0.52106. Previous: 0.51485\n",
      "Train Accuracy: 0.5261, Val Accuracy: 0.5211, Test Accuracy: 0.4488\n",
      "Train loss: 1.6447\n",
      "\n",
      " Epoch 7 training:\n"
     ]
    },
    {
     "name": "stderr",
     "output_type": "stream",
     "text": [
      "100%|██████████| 711/711 [01:20<00:00,  8.82it/s]\n"
     ]
    },
    {
     "name": "stdout",
     "output_type": "stream",
     "text": [
      "Train Accuracy: 0.5042, Val Accuracy: 0.4945, Test Accuracy: 0.4178\n",
      "Train loss: 1.6343\n",
      "\n",
      " Epoch 8 training:\n"
     ]
    },
    {
     "name": "stderr",
     "output_type": "stream",
     "text": [
      "100%|██████████| 711/711 [01:21<00:00,  8.68it/s]\n"
     ]
    },
    {
     "name": "stdout",
     "output_type": "stream",
     "text": [
      "New best model validation accuracy: 0.53633. Previous: 0.52106\n",
      "Train Accuracy: 0.5589, Val Accuracy: 0.5363, Test Accuracy: 0.4631\n",
      "Train loss: 1.6268\n",
      "\n",
      " Epoch 9 training:\n"
     ]
    },
    {
     "name": "stderr",
     "output_type": "stream",
     "text": [
      "100%|██████████| 711/711 [01:20<00:00,  8.81it/s]\n"
     ]
    },
    {
     "name": "stdout",
     "output_type": "stream",
     "text": [
      "Train Accuracy: 0.5490, Val Accuracy: 0.5283, Test Accuracy: 0.4575\n",
      "Train loss: 1.5871\n",
      "\n",
      " Epoch 10 training:\n"
     ]
    },
    {
     "name": "stderr",
     "output_type": "stream",
     "text": [
      "100%|██████████| 711/711 [01:21<00:00,  8.78it/s]\n"
     ]
    },
    {
     "name": "stdout",
     "output_type": "stream",
     "text": [
      "Train Accuracy: 0.5461, Val Accuracy: 0.5346, Test Accuracy: 0.4644\n",
      "Train loss: 1.5807\n",
      "\n",
      " Epoch 11 training:\n"
     ]
    },
    {
     "name": "stderr",
     "output_type": "stream",
     "text": [
      "100%|██████████| 711/711 [01:20<00:00,  8.82it/s]\n"
     ]
    },
    {
     "name": "stdout",
     "output_type": "stream",
     "text": [
      "Train Accuracy: 0.5432, Val Accuracy: 0.5216, Test Accuracy: 0.4575\n",
      "Train loss: 1.5647\n",
      "\n",
      " Epoch 12 training:\n"
     ]
    },
    {
     "name": "stderr",
     "output_type": "stream",
     "text": [
      "100%|██████████| 711/711 [01:21<00:00,  8.72it/s]\n"
     ]
    },
    {
     "name": "stdout",
     "output_type": "stream",
     "text": [
      "Train Accuracy: 0.5342, Val Accuracy: 0.5195, Test Accuracy: 0.4511\n",
      "Train loss: 1.5546\n",
      "\n",
      " Epoch 13 training:\n"
     ]
    },
    {
     "name": "stderr",
     "output_type": "stream",
     "text": [
      "100%|██████████| 711/711 [01:21<00:00,  8.73it/s]\n"
     ]
    },
    {
     "name": "stdout",
     "output_type": "stream",
     "text": [
      "Train Accuracy: 0.5552, Val Accuracy: 0.5349, Test Accuracy: 0.4673\n",
      "Train loss: 1.5393\n",
      "\n",
      " Epoch 14 training:\n"
     ]
    },
    {
     "name": "stderr",
     "output_type": "stream",
     "text": [
      "100%|██████████| 711/711 [01:21<00:00,  8.74it/s]\n"
     ]
    },
    {
     "name": "stdout",
     "output_type": "stream",
     "text": [
      "New best model validation accuracy: 0.53868. Previous: 0.53633\n",
      "Train Accuracy: 0.5592, Val Accuracy: 0.5387, Test Accuracy: 0.4762\n",
      "Train loss: 1.5280\n",
      "\n",
      " Epoch 15 training:\n"
     ]
    },
    {
     "name": "stderr",
     "output_type": "stream",
     "text": [
      "100%|██████████| 711/711 [01:21<00:00,  8.74it/s]\n"
     ]
    },
    {
     "name": "stdout",
     "output_type": "stream",
     "text": [
      "New best model validation accuracy: 0.54364. Previous: 0.53868\n",
      "Train Accuracy: 0.5678, Val Accuracy: 0.5436, Test Accuracy: 0.4826\n",
      "Train loss: 1.5264\n",
      "\n",
      " Epoch 16 training:\n"
     ]
    },
    {
     "name": "stderr",
     "output_type": "stream",
     "text": [
      "100%|██████████| 711/711 [01:21<00:00,  8.74it/s]\n"
     ]
    },
    {
     "name": "stdout",
     "output_type": "stream",
     "text": [
      "New best model validation accuracy: 0.55260. Previous: 0.54364\n",
      "Train Accuracy: 0.5811, Val Accuracy: 0.5526, Test Accuracy: 0.4940\n",
      "Train loss: 1.4966\n",
      "\n",
      " Epoch 17 training:\n"
     ]
    },
    {
     "name": "stderr",
     "output_type": "stream",
     "text": [
      "100%|██████████| 711/711 [01:21<00:00,  8.77it/s]\n"
     ]
    },
    {
     "name": "stdout",
     "output_type": "stream",
     "text": [
      "Train Accuracy: 0.5767, Val Accuracy: 0.5500, Test Accuracy: 0.4883\n",
      "Train loss: 1.4930\n",
      "\n",
      " Epoch 18 training:\n"
     ]
    },
    {
     "name": "stderr",
     "output_type": "stream",
     "text": [
      "100%|██████████| 711/711 [01:20<00:00,  8.80it/s]\n"
     ]
    },
    {
     "name": "stdout",
     "output_type": "stream",
     "text": [
      "Train Accuracy: 0.5630, Val Accuracy: 0.5424, Test Accuracy: 0.4783\n",
      "Train loss: 1.4888\n",
      "\n",
      " Epoch 19 training:\n"
     ]
    },
    {
     "name": "stderr",
     "output_type": "stream",
     "text": [
      "100%|██████████| 711/711 [01:22<00:00,  8.64it/s]\n"
     ]
    },
    {
     "name": "stdout",
     "output_type": "stream",
     "text": [
      "Train Accuracy: 0.5751, Val Accuracy: 0.5455, Test Accuracy: 0.4801\n",
      "Train loss: 1.4970\n",
      "\n",
      " Epoch 20 training:\n"
     ]
    },
    {
     "name": "stderr",
     "output_type": "stream",
     "text": [
      "100%|██████████| 711/711 [01:20<00:00,  8.85it/s]\n"
     ]
    },
    {
     "name": "stdout",
     "output_type": "stream",
     "text": [
      "New best model validation accuracy: 0.56076. Previous: 0.55260\n",
      "Train Accuracy: 0.5944, Val Accuracy: 0.5608, Test Accuracy: 0.4961\n",
      "Train loss: 1.4684\n",
      "\n",
      " Epoch 21 training:\n"
     ]
    },
    {
     "name": "stderr",
     "output_type": "stream",
     "text": [
      "100%|██████████| 711/711 [01:21<00:00,  8.73it/s]\n"
     ]
    },
    {
     "name": "stdout",
     "output_type": "stream",
     "text": [
      "Train Accuracy: 0.5870, Val Accuracy: 0.5594, Test Accuracy: 0.4956\n",
      "Train loss: 1.4675\n",
      "\n",
      " Epoch 22 training:\n"
     ]
    },
    {
     "name": "stderr",
     "output_type": "stream",
     "text": [
      "100%|██████████| 711/711 [01:19<00:00,  8.90it/s]\n"
     ]
    },
    {
     "name": "stdout",
     "output_type": "stream",
     "text": [
      "Train Accuracy: 0.5868, Val Accuracy: 0.5567, Test Accuracy: 0.4947\n",
      "Train loss: 1.4501\n",
      "\n",
      " Epoch 23 training:\n"
     ]
    },
    {
     "name": "stderr",
     "output_type": "stream",
     "text": [
      "100%|██████████| 711/711 [01:21<00:00,  8.74it/s]\n"
     ]
    },
    {
     "name": "stdout",
     "output_type": "stream",
     "text": [
      "Train Accuracy: 0.5827, Val Accuracy: 0.5541, Test Accuracy: 0.4875\n",
      "Train loss: 1.4583\n",
      "\n",
      " Epoch 24 training:\n"
     ]
    },
    {
     "name": "stderr",
     "output_type": "stream",
     "text": [
      "100%|██████████| 711/711 [01:23<00:00,  8.56it/s]\n"
     ]
    },
    {
     "name": "stdout",
     "output_type": "stream",
     "text": [
      "Train Accuracy: 0.5850, Val Accuracy: 0.5556, Test Accuracy: 0.4897\n",
      "Train loss: 1.4676\n",
      "\n",
      " Epoch 25 training:\n"
     ]
    },
    {
     "name": "stderr",
     "output_type": "stream",
     "text": [
      "100%|██████████| 711/711 [01:21<00:00,  8.74it/s]\n"
     ]
    },
    {
     "name": "stdout",
     "output_type": "stream",
     "text": [
      "Train Accuracy: 0.5922, Val Accuracy: 0.5592, Test Accuracy: 0.4980\n",
      "Train loss: 1.4462\n",
      "\n",
      " Epoch 26 training:\n"
     ]
    },
    {
     "name": "stderr",
     "output_type": "stream",
     "text": [
      "100%|██████████| 711/711 [01:20<00:00,  8.85it/s]\n"
     ]
    },
    {
     "name": "stdout",
     "output_type": "stream",
     "text": [
      "Train Accuracy: 0.5811, Val Accuracy: 0.5510, Test Accuracy: 0.4869\n",
      "Train loss: 1.4361\n",
      "\n",
      " Epoch 27 training:\n"
     ]
    },
    {
     "name": "stderr",
     "output_type": "stream",
     "text": [
      "100%|██████████| 711/711 [01:20<00:00,  8.86it/s]\n"
     ]
    },
    {
     "name": "stdout",
     "output_type": "stream",
     "text": [
      "Train Accuracy: 0.5935, Val Accuracy: 0.5581, Test Accuracy: 0.4999\n",
      "Train loss: 1.4214\n",
      "\n",
      " Epoch 28 training:\n"
     ]
    },
    {
     "name": "stderr",
     "output_type": "stream",
     "text": [
      "100%|██████████| 711/711 [01:21<00:00,  8.73it/s]\n"
     ]
    },
    {
     "name": "stdout",
     "output_type": "stream",
     "text": [
      "Train Accuracy: 0.5967, Val Accuracy: 0.5601, Test Accuracy: 0.4960\n",
      "Train loss: 1.4295\n",
      "\n",
      " Epoch 29 training:\n"
     ]
    },
    {
     "name": "stderr",
     "output_type": "stream",
     "text": [
      "100%|██████████| 711/711 [01:21<00:00,  8.73it/s]\n"
     ]
    },
    {
     "name": "stdout",
     "output_type": "stream",
     "text": [
      "Train Accuracy: 0.5912, Val Accuracy: 0.5605, Test Accuracy: 0.4947\n",
      "Train loss: 1.4243\n",
      "\n",
      " Epoch 30 training:\n"
     ]
    },
    {
     "name": "stderr",
     "output_type": "stream",
     "text": [
      "100%|██████████| 711/711 [01:21<00:00,  8.77it/s]\n"
     ]
    },
    {
     "name": "stdout",
     "output_type": "stream",
     "text": [
      "Train Accuracy: 0.5941, Val Accuracy: 0.5606, Test Accuracy: 0.4973\n",
      "Train loss: 1.4228\n",
      "\n",
      " Epoch 31 training:\n"
     ]
    },
    {
     "name": "stderr",
     "output_type": "stream",
     "text": [
      "100%|██████████| 711/711 [01:21<00:00,  8.72it/s]\n"
     ]
    },
    {
     "name": "stdout",
     "output_type": "stream",
     "text": [
      "Train Accuracy: 0.5940, Val Accuracy: 0.5587, Test Accuracy: 0.4939\n",
      "Train loss: 1.4173\n",
      "\n",
      " Epoch 32 training:\n"
     ]
    },
    {
     "name": "stderr",
     "output_type": "stream",
     "text": [
      "100%|██████████| 711/711 [01:22<00:00,  8.62it/s]\n"
     ]
    },
    {
     "name": "stdout",
     "output_type": "stream",
     "text": [
      "Train Accuracy: 0.5883, Val Accuracy: 0.5510, Test Accuracy: 0.4890\n",
      "Train loss: 1.4282\n",
      "\n",
      " Epoch 33 training:\n"
     ]
    },
    {
     "name": "stderr",
     "output_type": "stream",
     "text": [
      "100%|██████████| 711/711 [01:21<00:00,  8.72it/s]\n"
     ]
    },
    {
     "name": "stdout",
     "output_type": "stream",
     "text": [
      "New best model validation accuracy: 0.56603. Previous: 0.56076\n",
      "Train Accuracy: 0.5995, Val Accuracy: 0.5660, Test Accuracy: 0.5066\n",
      "Train loss: 1.4196\n",
      "\n",
      " Epoch 34 training:\n"
     ]
    },
    {
     "name": "stderr",
     "output_type": "stream",
     "text": [
      "100%|██████████| 711/711 [01:22<00:00,  8.62it/s]\n"
     ]
    },
    {
     "name": "stdout",
     "output_type": "stream",
     "text": [
      "Train Accuracy: 0.5933, Val Accuracy: 0.5600, Test Accuracy: 0.4988\n",
      "Train loss: 1.4241\n",
      "\n",
      " Epoch 35 training:\n"
     ]
    },
    {
     "name": "stderr",
     "output_type": "stream",
     "text": [
      "100%|██████████| 711/711 [01:20<00:00,  8.80it/s]\n"
     ]
    },
    {
     "name": "stdout",
     "output_type": "stream",
     "text": [
      "New best model validation accuracy: 0.57321. Previous: 0.56603\n",
      "Train Accuracy: 0.6053, Val Accuracy: 0.5732, Test Accuracy: 0.5096\n",
      "Train loss: 1.3999\n",
      "\n",
      " Epoch 36 training:\n"
     ]
    },
    {
     "name": "stderr",
     "output_type": "stream",
     "text": [
      "100%|██████████| 711/711 [01:22<00:00,  8.67it/s]\n"
     ]
    },
    {
     "name": "stdout",
     "output_type": "stream",
     "text": [
      "Train Accuracy: 0.5993, Val Accuracy: 0.5619, Test Accuracy: 0.4959\n",
      "Train loss: 1.4138\n",
      "\n",
      " Epoch 37 training:\n"
     ]
    },
    {
     "name": "stderr",
     "output_type": "stream",
     "text": [
      "100%|██████████| 711/711 [01:20<00:00,  8.82it/s]\n"
     ]
    },
    {
     "name": "stdout",
     "output_type": "stream",
     "text": [
      "Train Accuracy: 0.5984, Val Accuracy: 0.5633, Test Accuracy: 0.4998\n",
      "Train loss: 1.3959\n",
      "\n",
      " Epoch 38 training:\n"
     ]
    },
    {
     "name": "stderr",
     "output_type": "stream",
     "text": [
      "100%|██████████| 711/711 [01:20<00:00,  8.79it/s]\n"
     ]
    },
    {
     "name": "stdout",
     "output_type": "stream",
     "text": [
      "Train Accuracy: 0.5931, Val Accuracy: 0.5594, Test Accuracy: 0.4991\n",
      "Train loss: 1.3964\n",
      "\n",
      " Epoch 39 training:\n"
     ]
    },
    {
     "name": "stderr",
     "output_type": "stream",
     "text": [
      "100%|██████████| 711/711 [01:20<00:00,  8.78it/s]\n"
     ]
    },
    {
     "name": "stdout",
     "output_type": "stream",
     "text": [
      "Train Accuracy: 0.6055, Val Accuracy: 0.5681, Test Accuracy: 0.5042\n",
      "Train loss: 1.3937\n",
      "\n",
      " Epoch 40 training:\n"
     ]
    },
    {
     "name": "stderr",
     "output_type": "stream",
     "text": [
      "100%|██████████| 711/711 [01:20<00:00,  8.83it/s]\n"
     ]
    },
    {
     "name": "stdout",
     "output_type": "stream",
     "text": [
      "Train Accuracy: 0.5868, Val Accuracy: 0.5535, Test Accuracy: 0.4947\n",
      "Train loss: 1.3824\n",
      "\n",
      " Epoch 41 training:\n"
     ]
    },
    {
     "name": "stderr",
     "output_type": "stream",
     "text": [
      "100%|██████████| 711/711 [01:21<00:00,  8.77it/s]\n"
     ]
    },
    {
     "name": "stdout",
     "output_type": "stream",
     "text": [
      "Train Accuracy: 0.5855, Val Accuracy: 0.5513, Test Accuracy: 0.4907\n",
      "Train loss: 1.3876\n",
      "\n",
      " Epoch 42 training:\n"
     ]
    },
    {
     "name": "stderr",
     "output_type": "stream",
     "text": [
      "100%|██████████| 711/711 [01:21<00:00,  8.69it/s]\n"
     ]
    },
    {
     "name": "stdout",
     "output_type": "stream",
     "text": [
      "Train Accuracy: 0.6088, Val Accuracy: 0.5662, Test Accuracy: 0.5001\n",
      "Train loss: 1.3883\n",
      "\n",
      " Epoch 43 training:\n"
     ]
    },
    {
     "name": "stderr",
     "output_type": "stream",
     "text": [
      "100%|██████████| 711/711 [01:21<00:00,  8.69it/s]\n"
     ]
    },
    {
     "name": "stdout",
     "output_type": "stream",
     "text": [
      "Train Accuracy: 0.5952, Val Accuracy: 0.5602, Test Accuracy: 0.4974\n",
      "Train loss: 1.3958\n",
      "\n",
      " Epoch 44 training:\n"
     ]
    },
    {
     "name": "stderr",
     "output_type": "stream",
     "text": [
      "100%|██████████| 711/711 [01:22<00:00,  8.62it/s]\n"
     ]
    },
    {
     "name": "stdout",
     "output_type": "stream",
     "text": [
      "Train Accuracy: 0.6022, Val Accuracy: 0.5623, Test Accuracy: 0.5032\n",
      "Train loss: 1.4028\n",
      "\n",
      " Epoch 45 training:\n"
     ]
    },
    {
     "name": "stderr",
     "output_type": "stream",
     "text": [
      "100%|██████████| 711/711 [01:21<00:00,  8.77it/s]\n"
     ]
    },
    {
     "name": "stdout",
     "output_type": "stream",
     "text": [
      "Train Accuracy: 0.6059, Val Accuracy: 0.5668, Test Accuracy: 0.5037\n",
      "Train loss: 1.3776\n",
      "\n",
      " Epoch 46 training:\n"
     ]
    },
    {
     "name": "stderr",
     "output_type": "stream",
     "text": [
      "100%|██████████| 711/711 [01:21<00:00,  8.74it/s]\n"
     ]
    },
    {
     "name": "stdout",
     "output_type": "stream",
     "text": [
      "Train Accuracy: 0.5861, Val Accuracy: 0.5530, Test Accuracy: 0.4900\n",
      "Train loss: 1.3826\n",
      "\n",
      " Epoch 47 training:\n"
     ]
    },
    {
     "name": "stderr",
     "output_type": "stream",
     "text": [
      "100%|██████████| 711/711 [01:20<00:00,  8.82it/s]\n"
     ]
    },
    {
     "name": "stdout",
     "output_type": "stream",
     "text": [
      "Train Accuracy: 0.6118, Val Accuracy: 0.5715, Test Accuracy: 0.5125\n",
      "Train loss: 1.3659\n",
      "\n",
      " Epoch 48 training:\n"
     ]
    },
    {
     "name": "stderr",
     "output_type": "stream",
     "text": [
      "100%|██████████| 711/711 [01:21<00:00,  8.76it/s]\n"
     ]
    },
    {
     "name": "stdout",
     "output_type": "stream",
     "text": [
      "Train Accuracy: 0.6090, Val Accuracy: 0.5674, Test Accuracy: 0.5078\n",
      "Train loss: 1.3787\n",
      "\n",
      " Epoch 49 training:\n"
     ]
    },
    {
     "name": "stderr",
     "output_type": "stream",
     "text": [
      "100%|██████████| 711/711 [01:22<00:00,  8.67it/s]\n"
     ]
    },
    {
     "name": "stdout",
     "output_type": "stream",
     "text": [
      "Train Accuracy: 0.6013, Val Accuracy: 0.5619, Test Accuracy: 0.4977\n",
      "Train loss: 1.3677\n",
      "\n",
      " Epoch 50 training:\n"
     ]
    },
    {
     "name": "stderr",
     "output_type": "stream",
     "text": [
      "100%|██████████| 711/711 [01:19<00:00,  8.95it/s]\n"
     ]
    },
    {
     "name": "stdout",
     "output_type": "stream",
     "text": [
      "Train Accuracy: 0.5955, Val Accuracy: 0.5615, Test Accuracy: 0.5001\n",
      "Train loss: 1.3529\n",
      "\n",
      " Epoch 51 training:\n"
     ]
    },
    {
     "name": "stderr",
     "output_type": "stream",
     "text": [
      "100%|██████████| 711/711 [01:21<00:00,  8.76it/s]\n"
     ]
    },
    {
     "name": "stdout",
     "output_type": "stream",
     "text": [
      "Train Accuracy: 0.6002, Val Accuracy: 0.5576, Test Accuracy: 0.4972\n",
      "Train loss: 1.3662\n",
      "\n",
      " Epoch 52 training:\n"
     ]
    },
    {
     "name": "stderr",
     "output_type": "stream",
     "text": [
      "100%|██████████| 711/711 [01:20<00:00,  8.79it/s]\n"
     ]
    },
    {
     "name": "stdout",
     "output_type": "stream",
     "text": [
      "Train Accuracy: 0.5976, Val Accuracy: 0.5571, Test Accuracy: 0.4996\n",
      "Train loss: 1.3662\n",
      "\n",
      " Epoch 53 training:\n"
     ]
    },
    {
     "name": "stderr",
     "output_type": "stream",
     "text": [
      "100%|██████████| 711/711 [01:20<00:00,  8.84it/s]\n"
     ]
    },
    {
     "name": "stdout",
     "output_type": "stream",
     "text": [
      "Train Accuracy: 0.6057, Val Accuracy: 0.5628, Test Accuracy: 0.4991\n",
      "Train loss: 1.3600\n",
      "\n",
      " Epoch 54 training:\n"
     ]
    },
    {
     "name": "stderr",
     "output_type": "stream",
     "text": [
      "100%|██████████| 711/711 [01:21<00:00,  8.77it/s]\n"
     ]
    },
    {
     "name": "stdout",
     "output_type": "stream",
     "text": [
      "Train Accuracy: 0.6008, Val Accuracy: 0.5613, Test Accuracy: 0.4974\n",
      "Train loss: 1.3619\n",
      "\n",
      " Epoch 55 training:\n"
     ]
    },
    {
     "name": "stderr",
     "output_type": "stream",
     "text": [
      "100%|██████████| 711/711 [01:20<00:00,  8.81it/s]\n"
     ]
    },
    {
     "name": "stdout",
     "output_type": "stream",
     "text": [
      "Train Accuracy: 0.5953, Val Accuracy: 0.5558, Test Accuracy: 0.4943\n",
      "Train loss: 1.3613\n",
      "\n",
      " Epoch 56 training:\n"
     ]
    },
    {
     "name": "stderr",
     "output_type": "stream",
     "text": [
      "100%|██████████| 711/711 [01:20<00:00,  8.82it/s]\n"
     ]
    },
    {
     "name": "stdout",
     "output_type": "stream",
     "text": [
      "New best model validation accuracy: 0.57827. Previous: 0.57321\n",
      "Train Accuracy: 0.6184, Val Accuracy: 0.5783, Test Accuracy: 0.5181\n",
      "Train loss: 1.3527\n",
      "\n",
      " Epoch 57 training:\n"
     ]
    },
    {
     "name": "stderr",
     "output_type": "stream",
     "text": [
      "100%|██████████| 711/711 [01:20<00:00,  8.81it/s]\n"
     ]
    },
    {
     "name": "stdout",
     "output_type": "stream",
     "text": [
      "Train Accuracy: 0.6045, Val Accuracy: 0.5639, Test Accuracy: 0.5048\n",
      "Train loss: 1.3507\n",
      "\n",
      " Epoch 58 training:\n"
     ]
    },
    {
     "name": "stderr",
     "output_type": "stream",
     "text": [
      "100%|██████████| 711/711 [01:22<00:00,  8.59it/s]\n"
     ]
    },
    {
     "name": "stdout",
     "output_type": "stream",
     "text": [
      "Train Accuracy: 0.5955, Val Accuracy: 0.5586, Test Accuracy: 0.4977\n",
      "Train loss: 1.3624\n",
      "\n",
      " Epoch 59 training:\n"
     ]
    },
    {
     "name": "stderr",
     "output_type": "stream",
     "text": [
      "100%|██████████| 711/711 [01:21<00:00,  8.72it/s]\n"
     ]
    },
    {
     "name": "stdout",
     "output_type": "stream",
     "text": [
      "Train Accuracy: 0.6199, Val Accuracy: 0.5775, Test Accuracy: 0.5147\n",
      "Train loss: 1.3601\n",
      "\n",
      " Epoch 60 training:\n"
     ]
    },
    {
     "name": "stderr",
     "output_type": "stream",
     "text": [
      "100%|██████████| 711/711 [01:22<00:00,  8.65it/s]\n"
     ]
    },
    {
     "name": "stdout",
     "output_type": "stream",
     "text": [
      "Train Accuracy: 0.6061, Val Accuracy: 0.5656, Test Accuracy: 0.5065\n",
      "Train loss: 1.3505\n",
      "\n",
      " Epoch 61 training:\n"
     ]
    },
    {
     "name": "stderr",
     "output_type": "stream",
     "text": [
      "100%|██████████| 711/711 [01:21<00:00,  8.72it/s]\n"
     ]
    },
    {
     "name": "stdout",
     "output_type": "stream",
     "text": [
      "Train Accuracy: 0.6226, Val Accuracy: 0.5735, Test Accuracy: 0.5143\n",
      "Train loss: 1.3465\n",
      "\n",
      " Epoch 62 training:\n"
     ]
    },
    {
     "name": "stderr",
     "output_type": "stream",
     "text": [
      "100%|██████████| 711/711 [01:19<00:00,  8.90it/s]\n"
     ]
    },
    {
     "name": "stdout",
     "output_type": "stream",
     "text": [
      "Train Accuracy: 0.6012, Val Accuracy: 0.5630, Test Accuracy: 0.4992\n",
      "Train loss: 1.3323\n",
      "\n",
      " Epoch 63 training:\n"
     ]
    },
    {
     "name": "stderr",
     "output_type": "stream",
     "text": [
      "100%|██████████| 711/711 [01:19<00:00,  8.89it/s]\n"
     ]
    },
    {
     "name": "stdout",
     "output_type": "stream",
     "text": [
      "Train Accuracy: 0.6096, Val Accuracy: 0.5656, Test Accuracy: 0.5068\n",
      "Train loss: 1.3435\n",
      "\n",
      " Epoch 64 training:\n"
     ]
    },
    {
     "name": "stderr",
     "output_type": "stream",
     "text": [
      "100%|██████████| 711/711 [01:21<00:00,  8.76it/s]\n"
     ]
    },
    {
     "name": "stdout",
     "output_type": "stream",
     "text": [
      "Train Accuracy: 0.6113, Val Accuracy: 0.5721, Test Accuracy: 0.5104\n",
      "Train loss: 1.3475\n",
      "\n",
      " Epoch 65 training:\n"
     ]
    },
    {
     "name": "stderr",
     "output_type": "stream",
     "text": [
      "100%|██████████| 711/711 [01:21<00:00,  8.74it/s]\n"
     ]
    },
    {
     "name": "stdout",
     "output_type": "stream",
     "text": [
      "Train Accuracy: 0.5993, Val Accuracy: 0.5653, Test Accuracy: 0.5031\n",
      "Train loss: 1.3429\n",
      "\n",
      " Epoch 66 training:\n"
     ]
    },
    {
     "name": "stderr",
     "output_type": "stream",
     "text": [
      "100%|██████████| 711/711 [01:21<00:00,  8.77it/s]\n"
     ]
    },
    {
     "name": "stdout",
     "output_type": "stream",
     "text": [
      "Train Accuracy: 0.6195, Val Accuracy: 0.5738, Test Accuracy: 0.5124\n",
      "Train loss: 1.3367\n",
      "\n",
      " Epoch 67 training:\n"
     ]
    },
    {
     "name": "stderr",
     "output_type": "stream",
     "text": [
      "100%|██████████| 711/711 [01:21<00:00,  8.75it/s]\n"
     ]
    },
    {
     "name": "stdout",
     "output_type": "stream",
     "text": [
      "Train Accuracy: 0.6091, Val Accuracy: 0.5703, Test Accuracy: 0.5071\n",
      "Train loss: 1.3358\n",
      "\n",
      " Epoch 68 training:\n"
     ]
    },
    {
     "name": "stderr",
     "output_type": "stream",
     "text": [
      "100%|██████████| 711/711 [01:21<00:00,  8.68it/s]\n"
     ]
    },
    {
     "name": "stdout",
     "output_type": "stream",
     "text": [
      "Train Accuracy: 0.5960, Val Accuracy: 0.5564, Test Accuracy: 0.4985\n",
      "Train loss: 1.3395\n",
      "\n",
      " Epoch 69 training:\n"
     ]
    },
    {
     "name": "stderr",
     "output_type": "stream",
     "text": [
      "100%|██████████| 711/711 [01:20<00:00,  8.78it/s]\n"
     ]
    },
    {
     "name": "stdout",
     "output_type": "stream",
     "text": [
      "Train Accuracy: 0.6148, Val Accuracy: 0.5711, Test Accuracy: 0.5095\n",
      "Train loss: 1.3333\n",
      "\n",
      " Epoch 70 training:\n"
     ]
    },
    {
     "name": "stderr",
     "output_type": "stream",
     "text": [
      "100%|██████████| 711/711 [01:21<00:00,  8.74it/s]\n"
     ]
    },
    {
     "name": "stdout",
     "output_type": "stream",
     "text": [
      "Train Accuracy: 0.6115, Val Accuracy: 0.5693, Test Accuracy: 0.5102\n",
      "Train loss: 1.3386\n",
      "\n",
      " Epoch 71 training:\n"
     ]
    },
    {
     "name": "stderr",
     "output_type": "stream",
     "text": [
      "100%|██████████| 711/711 [01:19<00:00,  8.89it/s]\n"
     ]
    },
    {
     "name": "stdout",
     "output_type": "stream",
     "text": [
      "Train Accuracy: 0.6129, Val Accuracy: 0.5708, Test Accuracy: 0.5068\n",
      "Train loss: 1.3275\n",
      "\n",
      " Epoch 72 training:\n"
     ]
    },
    {
     "name": "stderr",
     "output_type": "stream",
     "text": [
      "100%|██████████| 711/711 [01:20<00:00,  8.80it/s]\n"
     ]
    },
    {
     "name": "stdout",
     "output_type": "stream",
     "text": [
      "Train Accuracy: 0.6218, Val Accuracy: 0.5749, Test Accuracy: 0.5092\n",
      "Train loss: 1.3280\n",
      "\n",
      " Epoch 73 training:\n"
     ]
    },
    {
     "name": "stderr",
     "output_type": "stream",
     "text": [
      "100%|██████████| 711/711 [01:21<00:00,  8.74it/s]\n"
     ]
    },
    {
     "name": "stdout",
     "output_type": "stream",
     "text": [
      "Train Accuracy: 0.6062, Val Accuracy: 0.5641, Test Accuracy: 0.5022\n",
      "Train loss: 1.3334\n",
      "\n",
      " Epoch 74 training:\n"
     ]
    },
    {
     "name": "stderr",
     "output_type": "stream",
     "text": [
      "100%|██████████| 711/711 [01:20<00:00,  8.84it/s]\n"
     ]
    },
    {
     "name": "stdout",
     "output_type": "stream",
     "text": [
      "Train Accuracy: 0.6169, Val Accuracy: 0.5719, Test Accuracy: 0.5101\n",
      "Train loss: 1.3263\n",
      "\n",
      " Epoch 75 training:\n"
     ]
    },
    {
     "name": "stderr",
     "output_type": "stream",
     "text": [
      "100%|██████████| 711/711 [01:20<00:00,  8.82it/s]\n"
     ]
    },
    {
     "name": "stdout",
     "output_type": "stream",
     "text": [
      "Train Accuracy: 0.6197, Val Accuracy: 0.5711, Test Accuracy: 0.5104\n",
      "Train loss: 1.3271\n",
      "\n",
      " Epoch 76 training:\n"
     ]
    },
    {
     "name": "stderr",
     "output_type": "stream",
     "text": [
      "100%|██████████| 711/711 [01:22<00:00,  8.57it/s]\n"
     ]
    },
    {
     "name": "stdout",
     "output_type": "stream",
     "text": [
      "Train Accuracy: 0.6138, Val Accuracy: 0.5702, Test Accuracy: 0.5060\n",
      "Train loss: 1.3421\n",
      "\n",
      " Epoch 77 training:\n"
     ]
    },
    {
     "name": "stderr",
     "output_type": "stream",
     "text": [
      "100%|██████████| 711/711 [01:20<00:00,  8.82it/s]\n"
     ]
    },
    {
     "name": "stdout",
     "output_type": "stream",
     "text": [
      "Train Accuracy: 0.6134, Val Accuracy: 0.5717, Test Accuracy: 0.5145\n",
      "Train loss: 1.3201\n",
      "\n",
      " Epoch 78 training:\n"
     ]
    },
    {
     "name": "stderr",
     "output_type": "stream",
     "text": [
      "100%|██████████| 711/711 [01:22<00:00,  8.64it/s]\n"
     ]
    },
    {
     "name": "stdout",
     "output_type": "stream",
     "text": [
      "Train Accuracy: 0.6196, Val Accuracy: 0.5720, Test Accuracy: 0.5121\n",
      "Train loss: 1.3433\n",
      "\n",
      " Epoch 79 training:\n"
     ]
    },
    {
     "name": "stderr",
     "output_type": "stream",
     "text": [
      "100%|██████████| 711/711 [01:20<00:00,  8.84it/s]\n"
     ]
    },
    {
     "name": "stdout",
     "output_type": "stream",
     "text": [
      "Train Accuracy: 0.6224, Val Accuracy: 0.5751, Test Accuracy: 0.5140\n",
      "Train loss: 1.3223\n",
      "\n",
      " Epoch 80 training:\n"
     ]
    },
    {
     "name": "stderr",
     "output_type": "stream",
     "text": [
      "100%|██████████| 711/711 [01:21<00:00,  8.73it/s]\n"
     ]
    },
    {
     "name": "stdout",
     "output_type": "stream",
     "text": [
      "Train Accuracy: 0.6237, Val Accuracy: 0.5750, Test Accuracy: 0.5131\n",
      "Train loss: 1.3229\n",
      "\n",
      " Epoch 81 training:\n"
     ]
    },
    {
     "name": "stderr",
     "output_type": "stream",
     "text": [
      "100%|██████████| 711/711 [01:22<00:00,  8.60it/s]\n"
     ]
    },
    {
     "name": "stdout",
     "output_type": "stream",
     "text": [
      "Train Accuracy: 0.6057, Val Accuracy: 0.5613, Test Accuracy: 0.4996\n",
      "Train loss: 1.3403\n",
      "\n",
      " Epoch 82 training:\n"
     ]
    },
    {
     "name": "stderr",
     "output_type": "stream",
     "text": [
      "100%|██████████| 711/711 [01:21<00:00,  8.74it/s]\n"
     ]
    },
    {
     "name": "stdout",
     "output_type": "stream",
     "text": [
      "Train Accuracy: 0.6155, Val Accuracy: 0.5632, Test Accuracy: 0.5010\n",
      "Train loss: 1.3245\n",
      "\n",
      " Epoch 83 training:\n"
     ]
    },
    {
     "name": "stderr",
     "output_type": "stream",
     "text": [
      "100%|██████████| 711/711 [01:21<00:00,  8.77it/s]\n"
     ]
    },
    {
     "name": "stdout",
     "output_type": "stream",
     "text": [
      "Train Accuracy: 0.6215, Val Accuracy: 0.5703, Test Accuracy: 0.5062\n",
      "Train loss: 1.3223\n",
      "\n",
      " Epoch 84 training:\n"
     ]
    },
    {
     "name": "stderr",
     "output_type": "stream",
     "text": [
      "100%|██████████| 711/711 [01:21<00:00,  8.72it/s]\n"
     ]
    },
    {
     "name": "stdout",
     "output_type": "stream",
     "text": [
      "Train Accuracy: 0.6159, Val Accuracy: 0.5651, Test Accuracy: 0.5051\n",
      "Train loss: 1.3198\n",
      "\n",
      " Epoch 85 training:\n"
     ]
    },
    {
     "name": "stderr",
     "output_type": "stream",
     "text": [
      "100%|██████████| 711/711 [01:20<00:00,  8.80it/s]\n"
     ]
    },
    {
     "name": "stdout",
     "output_type": "stream",
     "text": [
      "Train Accuracy: 0.6167, Val Accuracy: 0.5686, Test Accuracy: 0.5137\n",
      "Train loss: 1.3180\n",
      "\n",
      " Epoch 86 training:\n"
     ]
    },
    {
     "name": "stderr",
     "output_type": "stream",
     "text": [
      "100%|██████████| 711/711 [01:22<00:00,  8.62it/s]\n"
     ]
    },
    {
     "name": "stdout",
     "output_type": "stream",
     "text": [
      "Train Accuracy: 0.6215, Val Accuracy: 0.5729, Test Accuracy: 0.5125\n",
      "Train loss: 1.3283\n",
      "\n",
      " Epoch 87 training:\n"
     ]
    },
    {
     "name": "stderr",
     "output_type": "stream",
     "text": [
      "100%|██████████| 711/711 [01:21<00:00,  8.76it/s]\n"
     ]
    },
    {
     "name": "stdout",
     "output_type": "stream",
     "text": [
      "New best model validation accuracy: 0.58250. Previous: 0.57827\n",
      "Train Accuracy: 0.6375, Val Accuracy: 0.5825, Test Accuracy: 0.5207\n",
      "Train loss: 1.3104\n",
      "\n",
      " Epoch 88 training:\n"
     ]
    },
    {
     "name": "stderr",
     "output_type": "stream",
     "text": [
      "100%|██████████| 711/711 [01:20<00:00,  8.79it/s]\n"
     ]
    },
    {
     "name": "stdout",
     "output_type": "stream",
     "text": [
      "Train Accuracy: 0.6130, Val Accuracy: 0.5653, Test Accuracy: 0.5074\n",
      "Train loss: 1.3015\n",
      "\n",
      " Epoch 89 training:\n"
     ]
    },
    {
     "name": "stderr",
     "output_type": "stream",
     "text": [
      "100%|██████████| 711/711 [01:20<00:00,  8.83it/s]\n"
     ]
    },
    {
     "name": "stdout",
     "output_type": "stream",
     "text": [
      "Train Accuracy: 0.6325, Val Accuracy: 0.5759, Test Accuracy: 0.5113\n",
      "Train loss: 1.3033\n",
      "\n",
      " Epoch 90 training:\n"
     ]
    },
    {
     "name": "stderr",
     "output_type": "stream",
     "text": [
      "100%|██████████| 711/711 [01:20<00:00,  8.78it/s]\n"
     ]
    },
    {
     "name": "stdout",
     "output_type": "stream",
     "text": [
      "Train Accuracy: 0.6247, Val Accuracy: 0.5731, Test Accuracy: 0.5113\n",
      "Train loss: 1.3236\n",
      "\n",
      " Epoch 91 training:\n"
     ]
    },
    {
     "name": "stderr",
     "output_type": "stream",
     "text": [
      "100%|██████████| 711/711 [01:21<00:00,  8.68it/s]\n"
     ]
    },
    {
     "name": "stdout",
     "output_type": "stream",
     "text": [
      "Train Accuracy: 0.6174, Val Accuracy: 0.5698, Test Accuracy: 0.5110\n",
      "Train loss: 1.3133\n",
      "\n",
      " Epoch 92 training:\n"
     ]
    },
    {
     "name": "stderr",
     "output_type": "stream",
     "text": [
      "100%|██████████| 711/711 [01:20<00:00,  8.84it/s]\n"
     ]
    },
    {
     "name": "stdout",
     "output_type": "stream",
     "text": [
      "Train Accuracy: 0.6095, Val Accuracy: 0.5626, Test Accuracy: 0.4989\n",
      "Train loss: 1.3090\n",
      "\n",
      " Epoch 93 training:\n"
     ]
    },
    {
     "name": "stderr",
     "output_type": "stream",
     "text": [
      "100%|██████████| 711/711 [01:21<00:00,  8.71it/s]\n"
     ]
    },
    {
     "name": "stdout",
     "output_type": "stream",
     "text": [
      "Train Accuracy: 0.6217, Val Accuracy: 0.5721, Test Accuracy: 0.5107\n",
      "Train loss: 1.3178\n",
      "\n",
      " Epoch 94 training:\n"
     ]
    },
    {
     "name": "stderr",
     "output_type": "stream",
     "text": [
      "100%|██████████| 711/711 [01:22<00:00,  8.67it/s]\n"
     ]
    },
    {
     "name": "stdout",
     "output_type": "stream",
     "text": [
      "Train Accuracy: 0.6307, Val Accuracy: 0.5749, Test Accuracy: 0.5127\n",
      "Train loss: 1.3158\n",
      "\n",
      " Epoch 95 training:\n"
     ]
    },
    {
     "name": "stderr",
     "output_type": "stream",
     "text": [
      "100%|██████████| 711/711 [01:21<00:00,  8.71it/s]\n"
     ]
    },
    {
     "name": "stdout",
     "output_type": "stream",
     "text": [
      "Train Accuracy: 0.6104, Val Accuracy: 0.5642, Test Accuracy: 0.4981\n",
      "Train loss: 1.3104\n",
      "\n",
      " Epoch 96 training:\n"
     ]
    },
    {
     "name": "stderr",
     "output_type": "stream",
     "text": [
      "100%|██████████| 711/711 [01:22<00:00,  8.65it/s]\n"
     ]
    },
    {
     "name": "stdout",
     "output_type": "stream",
     "text": [
      "Train Accuracy: 0.6050, Val Accuracy: 0.5625, Test Accuracy: 0.4997\n",
      "Train loss: 1.3203\n",
      "\n",
      " Epoch 97 training:\n"
     ]
    },
    {
     "name": "stderr",
     "output_type": "stream",
     "text": [
      "100%|██████████| 711/711 [01:19<00:00,  8.93it/s]\n"
     ]
    },
    {
     "name": "stdout",
     "output_type": "stream",
     "text": [
      "Train Accuracy: 0.6239, Val Accuracy: 0.5764, Test Accuracy: 0.5081\n",
      "Train loss: 1.2906\n",
      "\n",
      " Epoch 98 training:\n"
     ]
    },
    {
     "name": "stderr",
     "output_type": "stream",
     "text": [
      "100%|██████████| 711/711 [01:21<00:00,  8.70it/s]\n"
     ]
    },
    {
     "name": "stdout",
     "output_type": "stream",
     "text": [
      "Train Accuracy: 0.6252, Val Accuracy: 0.5742, Test Accuracy: 0.5116\n",
      "Train loss: 1.3221\n",
      "\n",
      " Epoch 99 training:\n"
     ]
    },
    {
     "name": "stderr",
     "output_type": "stream",
     "text": [
      "100%|██████████| 711/711 [01:22<00:00,  8.58it/s]\n"
     ]
    },
    {
     "name": "stdout",
     "output_type": "stream",
     "text": [
      "Train Accuracy: 0.6180, Val Accuracy: 0.5659, Test Accuracy: 0.5062\n",
      "Train loss: 1.3153\n",
      "\n",
      " Epoch 100 training:\n"
     ]
    },
    {
     "name": "stderr",
     "output_type": "stream",
     "text": [
      "100%|██████████| 711/711 [01:22<00:00,  8.65it/s]\n"
     ]
    },
    {
     "name": "stdout",
     "output_type": "stream",
     "text": [
      "Train Accuracy: 0.6242, Val Accuracy: 0.5744, Test Accuracy: 0.5090\n",
      "Train loss: 1.3181\n",
      "\n",
      " Epoch 101 training:\n"
     ]
    },
    {
     "name": "stderr",
     "output_type": "stream",
     "text": [
      "100%|██████████| 711/711 [01:20<00:00,  8.84it/s]\n"
     ]
    },
    {
     "name": "stdout",
     "output_type": "stream",
     "text": [
      "New best model validation accuracy: 0.58549. Previous: 0.58250\n",
      "Train Accuracy: 0.6474, Val Accuracy: 0.5855, Test Accuracy: 0.5177\n",
      "Train loss: 1.2998\n",
      "\n",
      " Epoch 102 training:\n"
     ]
    },
    {
     "name": "stderr",
     "output_type": "stream",
     "text": [
      "100%|██████████| 711/711 [01:21<00:00,  8.74it/s]\n"
     ]
    },
    {
     "name": "stdout",
     "output_type": "stream",
     "text": [
      "Train Accuracy: 0.6267, Val Accuracy: 0.5740, Test Accuracy: 0.5134\n",
      "Train loss: 1.2999\n",
      "\n",
      " Epoch 103 training:\n"
     ]
    },
    {
     "name": "stderr",
     "output_type": "stream",
     "text": [
      "100%|██████████| 711/711 [01:21<00:00,  8.73it/s]\n"
     ]
    },
    {
     "name": "stdout",
     "output_type": "stream",
     "text": [
      "Train Accuracy: 0.6364, Val Accuracy: 0.5787, Test Accuracy: 0.5162\n",
      "Train loss: 1.3117\n",
      "\n",
      " Epoch 104 training:\n"
     ]
    },
    {
     "name": "stderr",
     "output_type": "stream",
     "text": [
      "100%|██████████| 711/711 [01:21<00:00,  8.68it/s]\n"
     ]
    },
    {
     "name": "stdout",
     "output_type": "stream",
     "text": [
      "Train Accuracy: 0.6196, Val Accuracy: 0.5737, Test Accuracy: 0.5081\n",
      "Train loss: 1.3087\n",
      "\n",
      " Epoch 105 training:\n"
     ]
    },
    {
     "name": "stderr",
     "output_type": "stream",
     "text": [
      "100%|██████████| 711/711 [01:22<00:00,  8.63it/s]\n"
     ]
    },
    {
     "name": "stdout",
     "output_type": "stream",
     "text": [
      "Train Accuracy: 0.6332, Val Accuracy: 0.5805, Test Accuracy: 0.5160\n",
      "Train loss: 1.3104\n",
      "\n",
      " Epoch 106 training:\n"
     ]
    },
    {
     "name": "stderr",
     "output_type": "stream",
     "text": [
      "100%|██████████| 711/711 [01:21<00:00,  8.77it/s]\n"
     ]
    },
    {
     "name": "stdout",
     "output_type": "stream",
     "text": [
      "Train Accuracy: 0.6364, Val Accuracy: 0.5826, Test Accuracy: 0.5184\n",
      "Train loss: 1.3026\n",
      "\n",
      " Epoch 107 training:\n"
     ]
    },
    {
     "name": "stderr",
     "output_type": "stream",
     "text": [
      "100%|██████████| 711/711 [01:22<00:00,  8.62it/s]\n"
     ]
    },
    {
     "name": "stdout",
     "output_type": "stream",
     "text": [
      "Train Accuracy: 0.6249, Val Accuracy: 0.5762, Test Accuracy: 0.5126\n",
      "Train loss: 1.3093\n",
      "\n",
      " Epoch 108 training:\n"
     ]
    },
    {
     "name": "stderr",
     "output_type": "stream",
     "text": [
      "100%|██████████| 711/711 [01:23<00:00,  8.55it/s]\n"
     ]
    },
    {
     "name": "stdout",
     "output_type": "stream",
     "text": [
      "Train Accuracy: 0.6200, Val Accuracy: 0.5658, Test Accuracy: 0.5046\n",
      "Train loss: 1.3170\n",
      "\n",
      " Epoch 109 training:\n"
     ]
    },
    {
     "name": "stderr",
     "output_type": "stream",
     "text": [
      "100%|██████████| 711/711 [01:21<00:00,  8.68it/s]\n"
     ]
    },
    {
     "name": "stdout",
     "output_type": "stream",
     "text": [
      "Train Accuracy: 0.6216, Val Accuracy: 0.5650, Test Accuracy: 0.5033\n",
      "Train loss: 1.3038\n",
      "\n",
      " Epoch 110 training:\n"
     ]
    },
    {
     "name": "stderr",
     "output_type": "stream",
     "text": [
      "100%|██████████| 711/711 [01:21<00:00,  8.68it/s]\n"
     ]
    },
    {
     "name": "stdout",
     "output_type": "stream",
     "text": [
      "Train Accuracy: 0.6320, Val Accuracy: 0.5777, Test Accuracy: 0.5155\n",
      "Train loss: 1.3063\n",
      "\n",
      " Epoch 111 training:\n"
     ]
    },
    {
     "name": "stderr",
     "output_type": "stream",
     "text": [
      "100%|██████████| 711/711 [01:20<00:00,  8.81it/s]\n"
     ]
    },
    {
     "name": "stdout",
     "output_type": "stream",
     "text": [
      "Train Accuracy: 0.6300, Val Accuracy: 0.5706, Test Accuracy: 0.5097\n",
      "Train loss: 1.2888\n",
      "\n",
      " Epoch 112 training:\n"
     ]
    },
    {
     "name": "stderr",
     "output_type": "stream",
     "text": [
      "100%|██████████| 711/711 [01:22<00:00,  8.60it/s]\n"
     ]
    },
    {
     "name": "stdout",
     "output_type": "stream",
     "text": [
      "Train Accuracy: 0.6313, Val Accuracy: 0.5789, Test Accuracy: 0.5147\n",
      "Train loss: 1.3051\n",
      "\n",
      " Epoch 113 training:\n"
     ]
    },
    {
     "name": "stderr",
     "output_type": "stream",
     "text": [
      "100%|██████████| 711/711 [01:20<00:00,  8.85it/s]\n"
     ]
    },
    {
     "name": "stdout",
     "output_type": "stream",
     "text": [
      "Train Accuracy: 0.6204, Val Accuracy: 0.5646, Test Accuracy: 0.5026\n",
      "Train loss: 1.2899\n",
      "\n",
      " Epoch 114 training:\n"
     ]
    },
    {
     "name": "stderr",
     "output_type": "stream",
     "text": [
      "100%|██████████| 711/711 [01:20<00:00,  8.82it/s]\n"
     ]
    },
    {
     "name": "stdout",
     "output_type": "stream",
     "text": [
      "Train Accuracy: 0.6255, Val Accuracy: 0.5710, Test Accuracy: 0.5094\n",
      "Train loss: 1.2891\n",
      "\n",
      " Epoch 115 training:\n"
     ]
    },
    {
     "name": "stderr",
     "output_type": "stream",
     "text": [
      "100%|██████████| 711/711 [01:21<00:00,  8.74it/s]\n"
     ]
    },
    {
     "name": "stdout",
     "output_type": "stream",
     "text": [
      "Train Accuracy: 0.6272, Val Accuracy: 0.5711, Test Accuracy: 0.5110\n",
      "Train loss: 1.2884\n",
      "\n",
      " Epoch 116 training:\n"
     ]
    },
    {
     "name": "stderr",
     "output_type": "stream",
     "text": [
      "100%|██████████| 711/711 [01:19<00:00,  8.92it/s]\n"
     ]
    },
    {
     "name": "stdout",
     "output_type": "stream",
     "text": [
      "Train Accuracy: 0.6177, Val Accuracy: 0.5652, Test Accuracy: 0.5055\n",
      "Train loss: 1.2802\n",
      "\n",
      " Epoch 117 training:\n"
     ]
    },
    {
     "name": "stderr",
     "output_type": "stream",
     "text": [
      "100%|██████████| 711/711 [01:20<00:00,  8.86it/s]\n"
     ]
    },
    {
     "name": "stdout",
     "output_type": "stream",
     "text": [
      "Train Accuracy: 0.6260, Val Accuracy: 0.5670, Test Accuracy: 0.5054\n",
      "Train loss: 1.2821\n",
      "\n",
      " Epoch 118 training:\n"
     ]
    },
    {
     "name": "stderr",
     "output_type": "stream",
     "text": [
      "100%|██████████| 711/711 [01:20<00:00,  8.78it/s]\n"
     ]
    },
    {
     "name": "stdout",
     "output_type": "stream",
     "text": [
      "Train Accuracy: 0.6123, Val Accuracy: 0.5649, Test Accuracy: 0.5008\n",
      "Train loss: 1.2898\n",
      "\n",
      " Epoch 119 training:\n"
     ]
    },
    {
     "name": "stderr",
     "output_type": "stream",
     "text": [
      "100%|██████████| 711/711 [01:21<00:00,  8.77it/s]\n"
     ]
    },
    {
     "name": "stdout",
     "output_type": "stream",
     "text": [
      "Train Accuracy: 0.6297, Val Accuracy: 0.5755, Test Accuracy: 0.5149\n",
      "Train loss: 1.2952\n",
      "\n",
      " Epoch 120 training:\n"
     ]
    },
    {
     "name": "stderr",
     "output_type": "stream",
     "text": [
      "100%|██████████| 711/711 [01:20<00:00,  8.79it/s]\n"
     ]
    },
    {
     "name": "stdout",
     "output_type": "stream",
     "text": [
      "Train Accuracy: 0.6295, Val Accuracy: 0.5736, Test Accuracy: 0.5097\n",
      "Train loss: 1.2869\n",
      "\n",
      " Epoch 121 training:\n"
     ]
    },
    {
     "name": "stderr",
     "output_type": "stream",
     "text": [
      "100%|██████████| 711/711 [01:21<00:00,  8.71it/s]\n"
     ]
    },
    {
     "name": "stdout",
     "output_type": "stream",
     "text": [
      "Train Accuracy: 0.6233, Val Accuracy: 0.5718, Test Accuracy: 0.5077\n",
      "Train loss: 1.2924\n",
      "\n",
      " Epoch 122 training:\n"
     ]
    },
    {
     "name": "stderr",
     "output_type": "stream",
     "text": [
      "100%|██████████| 711/711 [01:21<00:00,  8.68it/s]\n"
     ]
    },
    {
     "name": "stdout",
     "output_type": "stream",
     "text": [
      "Train Accuracy: 0.6343, Val Accuracy: 0.5769, Test Accuracy: 0.5132\n",
      "Train loss: 1.2888\n",
      "\n",
      " Epoch 123 training:\n"
     ]
    },
    {
     "name": "stderr",
     "output_type": "stream",
     "text": [
      "100%|██████████| 711/711 [01:20<00:00,  8.78it/s]\n"
     ]
    },
    {
     "name": "stdout",
     "output_type": "stream",
     "text": [
      "Train Accuracy: 0.6275, Val Accuracy: 0.5716, Test Accuracy: 0.5109\n",
      "Train loss: 1.2870\n",
      "\n",
      " Epoch 124 training:\n"
     ]
    },
    {
     "name": "stderr",
     "output_type": "stream",
     "text": [
      "100%|██████████| 711/711 [01:20<00:00,  8.80it/s]\n"
     ]
    },
    {
     "name": "stdout",
     "output_type": "stream",
     "text": [
      "Train Accuracy: 0.6207, Val Accuracy: 0.5685, Test Accuracy: 0.5120\n",
      "Train loss: 1.2877\n",
      "\n",
      " Epoch 125 training:\n"
     ]
    },
    {
     "name": "stderr",
     "output_type": "stream",
     "text": [
      "100%|██████████| 711/711 [01:21<00:00,  8.72it/s]\n"
     ]
    },
    {
     "name": "stdout",
     "output_type": "stream",
     "text": [
      "Train Accuracy: 0.6308, Val Accuracy: 0.5759, Test Accuracy: 0.5143\n",
      "Train loss: 1.2841\n",
      "\n",
      " Epoch 126 training:\n"
     ]
    },
    {
     "name": "stderr",
     "output_type": "stream",
     "text": [
      "100%|██████████| 711/711 [01:22<00:00,  8.64it/s]\n"
     ]
    },
    {
     "name": "stdout",
     "output_type": "stream",
     "text": [
      "Train Accuracy: 0.6246, Val Accuracy: 0.5709, Test Accuracy: 0.5078\n",
      "Train loss: 1.2972\n",
      "\n",
      " Epoch 127 training:\n"
     ]
    },
    {
     "name": "stderr",
     "output_type": "stream",
     "text": [
      "100%|██████████| 711/711 [01:22<00:00,  8.63it/s]\n"
     ]
    },
    {
     "name": "stdout",
     "output_type": "stream",
     "text": [
      "Train Accuracy: 0.6231, Val Accuracy: 0.5718, Test Accuracy: 0.5104\n",
      "Train loss: 1.2914\n",
      "\n",
      " Epoch 128 training:\n"
     ]
    },
    {
     "name": "stderr",
     "output_type": "stream",
     "text": [
      "100%|██████████| 711/711 [01:23<00:00,  8.53it/s]\n"
     ]
    },
    {
     "name": "stdout",
     "output_type": "stream",
     "text": [
      "Train Accuracy: 0.6329, Val Accuracy: 0.5768, Test Accuracy: 0.5141\n",
      "Train loss: 1.2980\n",
      "\n",
      " Epoch 129 training:\n"
     ]
    },
    {
     "name": "stderr",
     "output_type": "stream",
     "text": [
      "100%|██████████| 711/711 [01:22<00:00,  8.65it/s]\n"
     ]
    },
    {
     "name": "stdout",
     "output_type": "stream",
     "text": [
      "Train Accuracy: 0.6301, Val Accuracy: 0.5710, Test Accuracy: 0.5072\n",
      "Train loss: 1.2859\n",
      "\n",
      " Epoch 130 training:\n"
     ]
    },
    {
     "name": "stderr",
     "output_type": "stream",
     "text": [
      "100%|██████████| 711/711 [01:21<00:00,  8.74it/s]\n"
     ]
    },
    {
     "name": "stdout",
     "output_type": "stream",
     "text": [
      "Train Accuracy: 0.6219, Val Accuracy: 0.5700, Test Accuracy: 0.5077\n",
      "Train loss: 1.2835\n",
      "\n",
      " Epoch 131 training:\n"
     ]
    },
    {
     "name": "stderr",
     "output_type": "stream",
     "text": [
      "100%|██████████| 711/711 [01:21<00:00,  8.76it/s]\n"
     ]
    },
    {
     "name": "stdout",
     "output_type": "stream",
     "text": [
      "Train Accuracy: 0.6195, Val Accuracy: 0.5690, Test Accuracy: 0.5067\n",
      "Train loss: 1.2796\n",
      "\n",
      " Epoch 132 training:\n"
     ]
    },
    {
     "name": "stderr",
     "output_type": "stream",
     "text": [
      "100%|██████████| 711/711 [01:21<00:00,  8.69it/s]\n"
     ]
    },
    {
     "name": "stdout",
     "output_type": "stream",
     "text": [
      "Train Accuracy: 0.6276, Val Accuracy: 0.5712, Test Accuracy: 0.5098\n",
      "Train loss: 1.2801\n",
      "\n",
      " Epoch 133 training:\n"
     ]
    },
    {
     "name": "stderr",
     "output_type": "stream",
     "text": [
      "100%|██████████| 711/711 [01:21<00:00,  8.74it/s]\n"
     ]
    },
    {
     "name": "stdout",
     "output_type": "stream",
     "text": [
      "Train Accuracy: 0.6253, Val Accuracy: 0.5709, Test Accuracy: 0.5092\n",
      "Train loss: 1.2856\n",
      "\n",
      " Epoch 134 training:\n"
     ]
    },
    {
     "name": "stderr",
     "output_type": "stream",
     "text": [
      "100%|██████████| 711/711 [01:21<00:00,  8.71it/s]\n"
     ]
    },
    {
     "name": "stdout",
     "output_type": "stream",
     "text": [
      "Train Accuracy: 0.6354, Val Accuracy: 0.5752, Test Accuracy: 0.5106\n",
      "Train loss: 1.2907\n",
      "\n",
      " Epoch 135 training:\n"
     ]
    },
    {
     "name": "stderr",
     "output_type": "stream",
     "text": [
      "100%|██████████| 711/711 [01:19<00:00,  8.90it/s]\n"
     ]
    },
    {
     "name": "stdout",
     "output_type": "stream",
     "text": [
      "Train Accuracy: 0.6258, Val Accuracy: 0.5717, Test Accuracy: 0.5096\n",
      "Train loss: 1.2734\n",
      "\n",
      " Epoch 136 training:\n"
     ]
    },
    {
     "name": "stderr",
     "output_type": "stream",
     "text": [
      "100%|██████████| 711/711 [01:22<00:00,  8.66it/s]\n"
     ]
    },
    {
     "name": "stdout",
     "output_type": "stream",
     "text": [
      "Train Accuracy: 0.6275, Val Accuracy: 0.5707, Test Accuracy: 0.5106\n",
      "Train loss: 1.2910\n",
      "\n",
      " Epoch 137 training:\n"
     ]
    },
    {
     "name": "stderr",
     "output_type": "stream",
     "text": [
      "100%|██████████| 711/711 [01:21<00:00,  8.76it/s]\n"
     ]
    },
    {
     "name": "stdout",
     "output_type": "stream",
     "text": [
      "Train Accuracy: 0.6354, Val Accuracy: 0.5809, Test Accuracy: 0.5150\n",
      "Train loss: 1.2787\n",
      "\n",
      " Epoch 138 training:\n"
     ]
    },
    {
     "name": "stderr",
     "output_type": "stream",
     "text": [
      "100%|██████████| 711/711 [01:21<00:00,  8.75it/s]\n"
     ]
    },
    {
     "name": "stdout",
     "output_type": "stream",
     "text": [
      "Train Accuracy: 0.6308, Val Accuracy: 0.5750, Test Accuracy: 0.5112\n",
      "Train loss: 1.2810\n",
      "\n",
      " Epoch 139 training:\n"
     ]
    },
    {
     "name": "stderr",
     "output_type": "stream",
     "text": [
      "100%|██████████| 711/711 [01:20<00:00,  8.79it/s]\n"
     ]
    },
    {
     "name": "stdout",
     "output_type": "stream",
     "text": [
      "Train Accuracy: 0.6244, Val Accuracy: 0.5710, Test Accuracy: 0.5128\n",
      "Train loss: 1.2750\n",
      "\n",
      " Epoch 140 training:\n"
     ]
    },
    {
     "name": "stderr",
     "output_type": "stream",
     "text": [
      "100%|██████████| 711/711 [01:21<00:00,  8.74it/s]\n"
     ]
    },
    {
     "name": "stdout",
     "output_type": "stream",
     "text": [
      "Train Accuracy: 0.6309, Val Accuracy: 0.5768, Test Accuracy: 0.5148\n",
      "Train loss: 1.2815\n",
      "\n",
      " Epoch 141 training:\n"
     ]
    },
    {
     "name": "stderr",
     "output_type": "stream",
     "text": [
      "100%|██████████| 711/711 [01:21<00:00,  8.78it/s]\n"
     ]
    },
    {
     "name": "stdout",
     "output_type": "stream",
     "text": [
      "Train Accuracy: 0.6338, Val Accuracy: 0.5797, Test Accuracy: 0.5155\n",
      "Train loss: 1.2722\n",
      "\n",
      " Epoch 142 training:\n"
     ]
    },
    {
     "name": "stderr",
     "output_type": "stream",
     "text": [
      "100%|██████████| 711/711 [01:22<00:00,  8.64it/s]\n"
     ]
    },
    {
     "name": "stdout",
     "output_type": "stream",
     "text": [
      "Train Accuracy: 0.6328, Val Accuracy: 0.5726, Test Accuracy: 0.5125\n",
      "Train loss: 1.2795\n",
      "\n",
      " Epoch 143 training:\n"
     ]
    },
    {
     "name": "stderr",
     "output_type": "stream",
     "text": [
      "100%|██████████| 711/711 [01:21<00:00,  8.74it/s]\n"
     ]
    },
    {
     "name": "stdout",
     "output_type": "stream",
     "text": [
      "Train Accuracy: 0.6199, Val Accuracy: 0.5665, Test Accuracy: 0.5093\n",
      "Train loss: 1.2751\n",
      "\n",
      " Epoch 144 training:\n"
     ]
    },
    {
     "name": "stderr",
     "output_type": "stream",
     "text": [
      "100%|██████████| 711/711 [01:22<00:00,  8.63it/s]\n"
     ]
    },
    {
     "name": "stdout",
     "output_type": "stream",
     "text": [
      "Train Accuracy: 0.6225, Val Accuracy: 0.5707, Test Accuracy: 0.5112\n",
      "Train loss: 1.2807\n",
      "\n",
      " Epoch 145 training:\n"
     ]
    },
    {
     "name": "stderr",
     "output_type": "stream",
     "text": [
      "100%|██████████| 711/711 [01:21<00:00,  8.76it/s]\n"
     ]
    },
    {
     "name": "stdout",
     "output_type": "stream",
     "text": [
      "Train Accuracy: 0.6360, Val Accuracy: 0.5770, Test Accuracy: 0.5181\n",
      "Train loss: 1.2690\n",
      "\n",
      " Epoch 146 training:\n"
     ]
    },
    {
     "name": "stderr",
     "output_type": "stream",
     "text": [
      "100%|██████████| 711/711 [01:21<00:00,  8.72it/s]\n"
     ]
    },
    {
     "name": "stdout",
     "output_type": "stream",
     "text": [
      "Train Accuracy: 0.6261, Val Accuracy: 0.5738, Test Accuracy: 0.5099\n",
      "Train loss: 1.2779\n",
      "\n",
      " Epoch 147 training:\n"
     ]
    },
    {
     "name": "stderr",
     "output_type": "stream",
     "text": [
      "100%|██████████| 711/711 [01:21<00:00,  8.75it/s]\n"
     ]
    },
    {
     "name": "stdout",
     "output_type": "stream",
     "text": [
      "Train Accuracy: 0.6400, Val Accuracy: 0.5763, Test Accuracy: 0.5113\n",
      "Train loss: 1.2719\n",
      "\n",
      " Epoch 148 training:\n"
     ]
    },
    {
     "name": "stderr",
     "output_type": "stream",
     "text": [
      "100%|██████████| 711/711 [01:21<00:00,  8.70it/s]\n"
     ]
    },
    {
     "name": "stdout",
     "output_type": "stream",
     "text": [
      "Train Accuracy: 0.6328, Val Accuracy: 0.5780, Test Accuracy: 0.5161\n",
      "Train loss: 1.2748\n",
      "\n",
      " Epoch 149 training:\n"
     ]
    },
    {
     "name": "stderr",
     "output_type": "stream",
     "text": [
      "100%|██████████| 711/711 [01:21<00:00,  8.69it/s]\n"
     ]
    },
    {
     "name": "stdout",
     "output_type": "stream",
     "text": [
      "Train Accuracy: 0.6328, Val Accuracy: 0.5773, Test Accuracy: 0.5163\n",
      "Train loss: 1.2738\n",
      "\n",
      " Epoch 150 training:\n"
     ]
    },
    {
     "name": "stderr",
     "output_type": "stream",
     "text": [
      "100%|██████████| 711/711 [01:22<00:00,  8.66it/s]\n"
     ]
    },
    {
     "name": "stdout",
     "output_type": "stream",
     "text": [
      "Train Accuracy: 0.6198, Val Accuracy: 0.5697, Test Accuracy: 0.5094\n",
      "Train loss: 1.2728\n",
      "\n",
      " Epoch 151 training:\n"
     ]
    },
    {
     "name": "stderr",
     "output_type": "stream",
     "text": [
      "100%|██████████| 711/711 [01:20<00:00,  8.82it/s]\n"
     ]
    },
    {
     "name": "stdout",
     "output_type": "stream",
     "text": [
      "Train Accuracy: 0.6352, Val Accuracy: 0.5783, Test Accuracy: 0.5144\n",
      "Train loss: 1.2644\n",
      "\n",
      " Epoch 152 training:\n"
     ]
    },
    {
     "name": "stderr",
     "output_type": "stream",
     "text": [
      "100%|██████████| 711/711 [01:21<00:00,  8.72it/s]\n"
     ]
    },
    {
     "name": "stdout",
     "output_type": "stream",
     "text": [
      "Train Accuracy: 0.6357, Val Accuracy: 0.5797, Test Accuracy: 0.5161\n",
      "Train loss: 1.2751\n",
      "\n",
      " Epoch 153 training:\n"
     ]
    },
    {
     "name": "stderr",
     "output_type": "stream",
     "text": [
      "100%|██████████| 711/711 [01:20<00:00,  8.79it/s]\n"
     ]
    },
    {
     "name": "stdout",
     "output_type": "stream",
     "text": [
      "Train Accuracy: 0.6325, Val Accuracy: 0.5771, Test Accuracy: 0.5141\n",
      "Train loss: 1.2655\n",
      "\n",
      " Epoch 154 training:\n"
     ]
    },
    {
     "name": "stderr",
     "output_type": "stream",
     "text": [
      "100%|██████████| 711/711 [01:21<00:00,  8.74it/s]\n"
     ]
    },
    {
     "name": "stdout",
     "output_type": "stream",
     "text": [
      "Train Accuracy: 0.6318, Val Accuracy: 0.5763, Test Accuracy: 0.5134\n",
      "Train loss: 1.2681\n",
      "\n",
      " Epoch 155 training:\n"
     ]
    },
    {
     "name": "stderr",
     "output_type": "stream",
     "text": [
      "100%|██████████| 711/711 [01:21<00:00,  8.77it/s]\n"
     ]
    },
    {
     "name": "stdout",
     "output_type": "stream",
     "text": [
      "Train Accuracy: 0.6348, Val Accuracy: 0.5743, Test Accuracy: 0.5143\n",
      "Train loss: 1.2612\n",
      "\n",
      " Epoch 156 training:\n"
     ]
    },
    {
     "name": "stderr",
     "output_type": "stream",
     "text": [
      "100%|██████████| 711/711 [01:21<00:00,  8.75it/s]\n"
     ]
    },
    {
     "name": "stdout",
     "output_type": "stream",
     "text": [
      "Train Accuracy: 0.6347, Val Accuracy: 0.5763, Test Accuracy: 0.5171\n",
      "Train loss: 1.2588\n",
      "\n",
      " Epoch 157 training:\n"
     ]
    },
    {
     "name": "stderr",
     "output_type": "stream",
     "text": [
      "100%|██████████| 711/711 [01:20<00:00,  8.81it/s]\n"
     ]
    },
    {
     "name": "stdout",
     "output_type": "stream",
     "text": [
      "Train Accuracy: 0.6257, Val Accuracy: 0.5734, Test Accuracy: 0.5129\n",
      "Train loss: 1.2614\n",
      "\n",
      " Epoch 158 training:\n"
     ]
    },
    {
     "name": "stderr",
     "output_type": "stream",
     "text": [
      "100%|██████████| 711/711 [01:21<00:00,  8.75it/s]\n"
     ]
    },
    {
     "name": "stdout",
     "output_type": "stream",
     "text": [
      "Train Accuracy: 0.6309, Val Accuracy: 0.5733, Test Accuracy: 0.5092\n",
      "Train loss: 1.2689\n",
      "\n",
      " Epoch 159 training:\n"
     ]
    },
    {
     "name": "stderr",
     "output_type": "stream",
     "text": [
      "100%|██████████| 711/711 [01:21<00:00,  8.68it/s]\n"
     ]
    },
    {
     "name": "stdout",
     "output_type": "stream",
     "text": [
      "Train Accuracy: 0.6207, Val Accuracy: 0.5664, Test Accuracy: 0.5049\n",
      "Train loss: 1.2617\n",
      "\n",
      " Epoch 160 training:\n"
     ]
    },
    {
     "name": "stderr",
     "output_type": "stream",
     "text": [
      "100%|██████████| 711/711 [01:21<00:00,  8.70it/s]\n"
     ]
    },
    {
     "name": "stdout",
     "output_type": "stream",
     "text": [
      "Train Accuracy: 0.6393, Val Accuracy: 0.5796, Test Accuracy: 0.5167\n",
      "Train loss: 1.2730\n",
      "\n",
      " Epoch 161 training:\n"
     ]
    },
    {
     "name": "stderr",
     "output_type": "stream",
     "text": [
      "100%|██████████| 711/711 [01:19<00:00,  8.95it/s]\n"
     ]
    },
    {
     "name": "stdout",
     "output_type": "stream",
     "text": [
      "Train Accuracy: 0.6461, Val Accuracy: 0.5839, Test Accuracy: 0.5188\n",
      "Train loss: 1.2514\n",
      "\n",
      " Epoch 162 training:\n"
     ]
    },
    {
     "name": "stderr",
     "output_type": "stream",
     "text": [
      "100%|██████████| 711/711 [01:22<00:00,  8.64it/s]\n"
     ]
    },
    {
     "name": "stdout",
     "output_type": "stream",
     "text": [
      "Train Accuracy: 0.6255, Val Accuracy: 0.5698, Test Accuracy: 0.5089\n",
      "Train loss: 1.2688\n",
      "\n",
      " Epoch 163 training:\n"
     ]
    },
    {
     "name": "stderr",
     "output_type": "stream",
     "text": [
      "100%|██████████| 711/711 [01:21<00:00,  8.76it/s]\n"
     ]
    },
    {
     "name": "stdout",
     "output_type": "stream",
     "text": [
      "Train Accuracy: 0.6307, Val Accuracy: 0.5740, Test Accuracy: 0.5149\n",
      "Train loss: 1.2669\n",
      "\n",
      " Epoch 164 training:\n"
     ]
    },
    {
     "name": "stderr",
     "output_type": "stream",
     "text": [
      "100%|██████████| 711/711 [01:22<00:00,  8.59it/s]\n"
     ]
    },
    {
     "name": "stdout",
     "output_type": "stream",
     "text": [
      "Train Accuracy: 0.6307, Val Accuracy: 0.5767, Test Accuracy: 0.5141\n",
      "Train loss: 1.2736\n",
      "\n",
      " Epoch 165 training:\n"
     ]
    },
    {
     "name": "stderr",
     "output_type": "stream",
     "text": [
      "100%|██████████| 711/711 [01:22<00:00,  8.66it/s]\n"
     ]
    },
    {
     "name": "stdout",
     "output_type": "stream",
     "text": [
      "Train Accuracy: 0.6320, Val Accuracy: 0.5726, Test Accuracy: 0.5047\n",
      "Train loss: 1.2718\n",
      "\n",
      " Epoch 166 training:\n"
     ]
    },
    {
     "name": "stderr",
     "output_type": "stream",
     "text": [
      "100%|██████████| 711/711 [01:22<00:00,  8.66it/s]\n"
     ]
    },
    {
     "name": "stdout",
     "output_type": "stream",
     "text": [
      "Train Accuracy: 0.6357, Val Accuracy: 0.5742, Test Accuracy: 0.5125\n",
      "Train loss: 1.2645\n",
      "\n",
      " Epoch 167 training:\n"
     ]
    },
    {
     "name": "stderr",
     "output_type": "stream",
     "text": [
      "100%|██████████| 711/711 [01:21<00:00,  8.75it/s]\n"
     ]
    },
    {
     "name": "stdout",
     "output_type": "stream",
     "text": [
      "Train Accuracy: 0.6206, Val Accuracy: 0.5628, Test Accuracy: 0.5063\n",
      "Train loss: 1.2653\n",
      "\n",
      " Epoch 168 training:\n"
     ]
    },
    {
     "name": "stderr",
     "output_type": "stream",
     "text": [
      "100%|██████████| 711/711 [01:20<00:00,  8.86it/s]\n"
     ]
    },
    {
     "name": "stdout",
     "output_type": "stream",
     "text": [
      "Train Accuracy: 0.6437, Val Accuracy: 0.5795, Test Accuracy: 0.5162\n",
      "Train loss: 1.2578\n",
      "\n",
      " Epoch 169 training:\n"
     ]
    },
    {
     "name": "stderr",
     "output_type": "stream",
     "text": [
      "100%|██████████| 711/711 [01:21<00:00,  8.73it/s]\n"
     ]
    },
    {
     "name": "stdout",
     "output_type": "stream",
     "text": [
      "Train Accuracy: 0.6367, Val Accuracy: 0.5756, Test Accuracy: 0.5177\n",
      "Train loss: 1.2611\n",
      "\n",
      " Epoch 170 training:\n"
     ]
    },
    {
     "name": "stderr",
     "output_type": "stream",
     "text": [
      "100%|██████████| 711/711 [01:21<00:00,  8.71it/s]\n"
     ]
    },
    {
     "name": "stdout",
     "output_type": "stream",
     "text": [
      "Train Accuracy: 0.6292, Val Accuracy: 0.5750, Test Accuracy: 0.5113\n",
      "Train loss: 1.2614\n",
      "\n",
      " Epoch 171 training:\n"
     ]
    },
    {
     "name": "stderr",
     "output_type": "stream",
     "text": [
      "100%|██████████| 711/711 [01:21<00:00,  8.73it/s]\n"
     ]
    },
    {
     "name": "stdout",
     "output_type": "stream",
     "text": [
      "Train Accuracy: 0.6399, Val Accuracy: 0.5789, Test Accuracy: 0.5170\n",
      "Train loss: 1.2685\n",
      "\n",
      " Epoch 172 training:\n"
     ]
    },
    {
     "name": "stderr",
     "output_type": "stream",
     "text": [
      "100%|██████████| 711/711 [01:22<00:00,  8.66it/s]\n"
     ]
    },
    {
     "name": "stdout",
     "output_type": "stream",
     "text": [
      "Train Accuracy: 0.6425, Val Accuracy: 0.5825, Test Accuracy: 0.5217\n",
      "Train loss: 1.2756\n",
      "\n",
      " Epoch 173 training:\n"
     ]
    },
    {
     "name": "stderr",
     "output_type": "stream",
     "text": [
      "100%|██████████| 711/711 [01:20<00:00,  8.79it/s]\n"
     ]
    },
    {
     "name": "stdout",
     "output_type": "stream",
     "text": [
      "Train Accuracy: 0.6415, Val Accuracy: 0.5831, Test Accuracy: 0.5170\n",
      "Train loss: 1.2605\n",
      "\n",
      " Epoch 174 training:\n"
     ]
    },
    {
     "name": "stderr",
     "output_type": "stream",
     "text": [
      "100%|██████████| 711/711 [01:20<00:00,  8.79it/s]\n"
     ]
    },
    {
     "name": "stdout",
     "output_type": "stream",
     "text": [
      "Train Accuracy: 0.6433, Val Accuracy: 0.5804, Test Accuracy: 0.5155\n",
      "Train loss: 1.2606\n",
      "\n",
      " Epoch 175 training:\n"
     ]
    },
    {
     "name": "stderr",
     "output_type": "stream",
     "text": [
      "100%|██████████| 711/711 [01:22<00:00,  8.66it/s]\n"
     ]
    },
    {
     "name": "stdout",
     "output_type": "stream",
     "text": [
      "Train Accuracy: 0.6371, Val Accuracy: 0.5789, Test Accuracy: 0.5165\n",
      "Train loss: 1.2701\n",
      "\n",
      " Epoch 176 training:\n"
     ]
    },
    {
     "name": "stderr",
     "output_type": "stream",
     "text": [
      "100%|██████████| 711/711 [01:20<00:00,  8.84it/s]\n"
     ]
    },
    {
     "name": "stdout",
     "output_type": "stream",
     "text": [
      "Train Accuracy: 0.6370, Val Accuracy: 0.5770, Test Accuracy: 0.5142\n",
      "Train loss: 1.2549\n",
      "\n",
      " Epoch 177 training:\n"
     ]
    },
    {
     "name": "stderr",
     "output_type": "stream",
     "text": [
      "100%|██████████| 711/711 [01:21<00:00,  8.69it/s]\n"
     ]
    },
    {
     "name": "stdout",
     "output_type": "stream",
     "text": [
      "Train Accuracy: 0.6236, Val Accuracy: 0.5666, Test Accuracy: 0.5070\n",
      "Train loss: 1.2590\n",
      "\n",
      " Epoch 178 training:\n"
     ]
    },
    {
     "name": "stderr",
     "output_type": "stream",
     "text": [
      "100%|██████████| 711/711 [01:21<00:00,  8.72it/s]\n"
     ]
    },
    {
     "name": "stdout",
     "output_type": "stream",
     "text": [
      "Train Accuracy: 0.6293, Val Accuracy: 0.5731, Test Accuracy: 0.5112\n",
      "Train loss: 1.2635\n",
      "\n",
      " Epoch 179 training:\n"
     ]
    },
    {
     "name": "stderr",
     "output_type": "stream",
     "text": [
      "100%|██████████| 711/711 [01:21<00:00,  8.67it/s]\n"
     ]
    },
    {
     "name": "stdout",
     "output_type": "stream",
     "text": [
      "Train Accuracy: 0.6277, Val Accuracy: 0.5682, Test Accuracy: 0.5094\n",
      "Train loss: 1.2594\n",
      "\n",
      " Epoch 180 training:\n"
     ]
    },
    {
     "name": "stderr",
     "output_type": "stream",
     "text": [
      "100%|██████████| 711/711 [01:21<00:00,  8.75it/s]\n"
     ]
    },
    {
     "name": "stdout",
     "output_type": "stream",
     "text": [
      "Train Accuracy: 0.6325, Val Accuracy: 0.5711, Test Accuracy: 0.5081\n",
      "Train loss: 1.2566\n",
      "\n",
      " Epoch 181 training:\n"
     ]
    },
    {
     "name": "stderr",
     "output_type": "stream",
     "text": [
      "100%|██████████| 711/711 [01:21<00:00,  8.71it/s]\n"
     ]
    },
    {
     "name": "stdout",
     "output_type": "stream",
     "text": [
      "Train Accuracy: 0.6305, Val Accuracy: 0.5726, Test Accuracy: 0.5116\n",
      "Train loss: 1.2553\n",
      "\n",
      " Epoch 182 training:\n"
     ]
    },
    {
     "name": "stderr",
     "output_type": "stream",
     "text": [
      "100%|██████████| 711/711 [01:22<00:00,  8.63it/s]\n"
     ]
    },
    {
     "name": "stdout",
     "output_type": "stream",
     "text": [
      "Train Accuracy: 0.6318, Val Accuracy: 0.5764, Test Accuracy: 0.5131\n",
      "Train loss: 1.2583\n",
      "\n",
      " Epoch 183 training:\n"
     ]
    },
    {
     "name": "stderr",
     "output_type": "stream",
     "text": [
      "100%|██████████| 711/711 [01:21<00:00,  8.77it/s]\n"
     ]
    },
    {
     "name": "stdout",
     "output_type": "stream",
     "text": [
      "Train Accuracy: 0.6426, Val Accuracy: 0.5772, Test Accuracy: 0.5136\n",
      "Train loss: 1.2571\n",
      "\n",
      " Epoch 184 training:\n"
     ]
    },
    {
     "name": "stderr",
     "output_type": "stream",
     "text": [
      "100%|██████████| 711/711 [01:21<00:00,  8.70it/s]\n"
     ]
    },
    {
     "name": "stdout",
     "output_type": "stream",
     "text": [
      "Train Accuracy: 0.6354, Val Accuracy: 0.5787, Test Accuracy: 0.5156\n",
      "Train loss: 1.2615\n",
      "\n",
      " Epoch 185 training:\n"
     ]
    },
    {
     "name": "stderr",
     "output_type": "stream",
     "text": [
      "100%|██████████| 711/711 [01:20<00:00,  8.80it/s]\n"
     ]
    },
    {
     "name": "stdout",
     "output_type": "stream",
     "text": [
      "Train Accuracy: 0.6242, Val Accuracy: 0.5673, Test Accuracy: 0.5047\n",
      "Train loss: 1.2574\n",
      "\n",
      " Epoch 186 training:\n"
     ]
    },
    {
     "name": "stderr",
     "output_type": "stream",
     "text": [
      "100%|██████████| 711/711 [01:20<00:00,  8.86it/s]\n"
     ]
    },
    {
     "name": "stdout",
     "output_type": "stream",
     "text": [
      "Train Accuracy: 0.6294, Val Accuracy: 0.5694, Test Accuracy: 0.5077\n",
      "Train loss: 1.2456\n",
      "\n",
      " Epoch 187 training:\n"
     ]
    },
    {
     "name": "stderr",
     "output_type": "stream",
     "text": [
      "100%|██████████| 711/711 [01:21<00:00,  8.76it/s]\n"
     ]
    },
    {
     "name": "stdout",
     "output_type": "stream",
     "text": [
      "Train Accuracy: 0.6292, Val Accuracy: 0.5695, Test Accuracy: 0.5123\n",
      "Train loss: 1.2544\n",
      "\n",
      " Epoch 188 training:\n"
     ]
    },
    {
     "name": "stderr",
     "output_type": "stream",
     "text": [
      "100%|██████████| 711/711 [01:19<00:00,  8.97it/s]\n"
     ]
    },
    {
     "name": "stdout",
     "output_type": "stream",
     "text": [
      "Train Accuracy: 0.6371, Val Accuracy: 0.5776, Test Accuracy: 0.5144\n",
      "Train loss: 1.2391\n",
      "\n",
      " Epoch 189 training:\n"
     ]
    },
    {
     "name": "stderr",
     "output_type": "stream",
     "text": [
      "100%|██████████| 711/711 [01:21<00:00,  8.78it/s]\n"
     ]
    },
    {
     "name": "stdout",
     "output_type": "stream",
     "text": [
      "Train Accuracy: 0.6323, Val Accuracy: 0.5752, Test Accuracy: 0.5106\n",
      "Train loss: 1.2486\n",
      "\n",
      " Epoch 190 training:\n"
     ]
    },
    {
     "name": "stderr",
     "output_type": "stream",
     "text": [
      "100%|██████████| 711/711 [01:21<00:00,  8.73it/s]\n"
     ]
    },
    {
     "name": "stdout",
     "output_type": "stream",
     "text": [
      "Train Accuracy: 0.6308, Val Accuracy: 0.5688, Test Accuracy: 0.5068\n",
      "Train loss: 1.2505\n",
      "\n",
      " Epoch 191 training:\n"
     ]
    },
    {
     "name": "stderr",
     "output_type": "stream",
     "text": [
      "100%|██████████| 711/711 [01:20<00:00,  8.84it/s]\n"
     ]
    },
    {
     "name": "stdout",
     "output_type": "stream",
     "text": [
      "Train Accuracy: 0.6290, Val Accuracy: 0.5689, Test Accuracy: 0.5054\n",
      "Train loss: 1.2521\n",
      "\n",
      " Epoch 192 training:\n"
     ]
    },
    {
     "name": "stderr",
     "output_type": "stream",
     "text": [
      "100%|██████████| 711/711 [01:21<00:00,  8.77it/s]\n"
     ]
    },
    {
     "name": "stdout",
     "output_type": "stream",
     "text": [
      "Train Accuracy: 0.6331, Val Accuracy: 0.5760, Test Accuracy: 0.5111\n",
      "Train loss: 1.2576\n",
      "\n",
      " Epoch 193 training:\n"
     ]
    },
    {
     "name": "stderr",
     "output_type": "stream",
     "text": [
      "100%|██████████| 711/711 [01:20<00:00,  8.81it/s]\n"
     ]
    },
    {
     "name": "stdout",
     "output_type": "stream",
     "text": [
      "Train Accuracy: 0.6462, Val Accuracy: 0.5832, Test Accuracy: 0.5124\n",
      "Train loss: 1.2533\n",
      "\n",
      " Epoch 194 training:\n"
     ]
    },
    {
     "name": "stderr",
     "output_type": "stream",
     "text": [
      "100%|██████████| 711/711 [01:22<00:00,  8.67it/s]\n"
     ]
    },
    {
     "name": "stdout",
     "output_type": "stream",
     "text": [
      "Train Accuracy: 0.6403, Val Accuracy: 0.5809, Test Accuracy: 0.5142\n",
      "Train loss: 1.2543\n",
      "\n",
      " Epoch 195 training:\n"
     ]
    },
    {
     "name": "stderr",
     "output_type": "stream",
     "text": [
      "100%|██████████| 711/711 [01:21<00:00,  8.74it/s]\n"
     ]
    },
    {
     "name": "stdout",
     "output_type": "stream",
     "text": [
      "Train Accuracy: 0.6348, Val Accuracy: 0.5728, Test Accuracy: 0.5062\n",
      "Train loss: 1.2520\n",
      "\n",
      " Epoch 196 training:\n"
     ]
    },
    {
     "name": "stderr",
     "output_type": "stream",
     "text": [
      "100%|██████████| 711/711 [01:20<00:00,  8.79it/s]\n"
     ]
    },
    {
     "name": "stdout",
     "output_type": "stream",
     "text": [
      "Train Accuracy: 0.6391, Val Accuracy: 0.5782, Test Accuracy: 0.5141\n",
      "Train loss: 1.2471\n",
      "\n",
      " Epoch 197 training:\n"
     ]
    },
    {
     "name": "stderr",
     "output_type": "stream",
     "text": [
      "100%|██████████| 711/711 [01:21<00:00,  8.70it/s]\n"
     ]
    },
    {
     "name": "stdout",
     "output_type": "stream",
     "text": [
      "Train Accuracy: 0.6285, Val Accuracy: 0.5705, Test Accuracy: 0.5076\n",
      "Train loss: 1.2552\n",
      "\n",
      " Epoch 198 training:\n"
     ]
    },
    {
     "name": "stderr",
     "output_type": "stream",
     "text": [
      "100%|██████████| 711/711 [01:21<00:00,  8.75it/s]\n"
     ]
    },
    {
     "name": "stdout",
     "output_type": "stream",
     "text": [
      "New best model validation accuracy: 0.58921. Previous: 0.58549\n",
      "Train Accuracy: 0.6544, Val Accuracy: 0.5892, Test Accuracy: 0.5248\n",
      "Train loss: 1.2536\n",
      "\n",
      " Epoch 199 training:\n"
     ]
    },
    {
     "name": "stderr",
     "output_type": "stream",
     "text": [
      "100%|██████████| 711/711 [01:20<00:00,  8.78it/s]\n"
     ]
    },
    {
     "name": "stdout",
     "output_type": "stream",
     "text": [
      "Train Accuracy: 0.6256, Val Accuracy: 0.5681, Test Accuracy: 0.5054\n",
      "Train loss: 1.2384\n",
      "\n",
      " Epoch 200 training:\n"
     ]
    },
    {
     "name": "stderr",
     "output_type": "stream",
     "text": [
      "100%|██████████| 711/711 [01:21<00:00,  8.77it/s]\n"
     ]
    },
    {
     "name": "stdout",
     "output_type": "stream",
     "text": [
      "Train Accuracy: 0.6435, Val Accuracy: 0.5823, Test Accuracy: 0.5188\n",
      "Train loss: 1.2481\n",
      "\n",
      " Epoch 201 training:\n"
     ]
    },
    {
     "name": "stderr",
     "output_type": "stream",
     "text": [
      "100%|██████████| 711/711 [01:21<00:00,  8.69it/s]\n"
     ]
    },
    {
     "name": "stdout",
     "output_type": "stream",
     "text": [
      "Train Accuracy: 0.6287, Val Accuracy: 0.5712, Test Accuracy: 0.5083\n",
      "Train loss: 1.2596\n",
      "\n",
      " Epoch 202 training:\n"
     ]
    },
    {
     "name": "stderr",
     "output_type": "stream",
     "text": [
      "100%|██████████| 711/711 [01:21<00:00,  8.73it/s]\n"
     ]
    },
    {
     "name": "stdout",
     "output_type": "stream",
     "text": [
      "Train Accuracy: 0.6466, Val Accuracy: 0.5841, Test Accuracy: 0.5195\n",
      "Train loss: 1.2514\n",
      "\n",
      " Epoch 203 training:\n"
     ]
    },
    {
     "name": "stderr",
     "output_type": "stream",
     "text": [
      "100%|██████████| 711/711 [01:21<00:00,  8.70it/s]\n"
     ]
    },
    {
     "name": "stdout",
     "output_type": "stream",
     "text": [
      "Train Accuracy: 0.6387, Val Accuracy: 0.5784, Test Accuracy: 0.5162\n",
      "Train loss: 1.2565\n",
      "\n",
      " Epoch 204 training:\n"
     ]
    },
    {
     "name": "stderr",
     "output_type": "stream",
     "text": [
      "100%|██████████| 711/711 [01:21<00:00,  8.72it/s]\n"
     ]
    },
    {
     "name": "stdout",
     "output_type": "stream",
     "text": [
      "Train Accuracy: 0.6297, Val Accuracy: 0.5715, Test Accuracy: 0.5121\n",
      "Train loss: 1.2475\n",
      "\n",
      " Epoch 205 training:\n"
     ]
    },
    {
     "name": "stderr",
     "output_type": "stream",
     "text": [
      "100%|██████████| 711/711 [01:21<00:00,  8.76it/s]\n"
     ]
    },
    {
     "name": "stdout",
     "output_type": "stream",
     "text": [
      "Train Accuracy: 0.6334, Val Accuracy: 0.5727, Test Accuracy: 0.5134\n",
      "Train loss: 1.2500\n",
      "\n",
      " Epoch 206 training:\n"
     ]
    },
    {
     "name": "stderr",
     "output_type": "stream",
     "text": [
      "100%|██████████| 711/711 [01:21<00:00,  8.77it/s]\n"
     ]
    },
    {
     "name": "stdout",
     "output_type": "stream",
     "text": [
      "Train Accuracy: 0.6424, Val Accuracy: 0.5788, Test Accuracy: 0.5213\n",
      "Train loss: 1.2493\n",
      "\n",
      " Epoch 207 training:\n"
     ]
    },
    {
     "name": "stderr",
     "output_type": "stream",
     "text": [
      "100%|██████████| 711/711 [01:22<00:00,  8.57it/s]\n"
     ]
    },
    {
     "name": "stdout",
     "output_type": "stream",
     "text": [
      "Train Accuracy: 0.6436, Val Accuracy: 0.5848, Test Accuracy: 0.5219\n",
      "Train loss: 1.2650\n",
      "\n",
      " Epoch 208 training:\n"
     ]
    },
    {
     "name": "stderr",
     "output_type": "stream",
     "text": [
      "100%|██████████| 711/711 [01:20<00:00,  8.85it/s]\n"
     ]
    },
    {
     "name": "stdout",
     "output_type": "stream",
     "text": [
      "Train Accuracy: 0.6355, Val Accuracy: 0.5770, Test Accuracy: 0.5144\n",
      "Train loss: 1.2425\n",
      "\n",
      " Epoch 209 training:\n"
     ]
    },
    {
     "name": "stderr",
     "output_type": "stream",
     "text": [
      "100%|██████████| 711/711 [01:20<00:00,  8.87it/s]\n"
     ]
    },
    {
     "name": "stdout",
     "output_type": "stream",
     "text": [
      "Train Accuracy: 0.6432, Val Accuracy: 0.5785, Test Accuracy: 0.5148\n",
      "Train loss: 1.2326\n",
      "\n",
      " Epoch 210 training:\n"
     ]
    },
    {
     "name": "stderr",
     "output_type": "stream",
     "text": [
      "100%|██████████| 711/711 [01:21<00:00,  8.77it/s]\n"
     ]
    },
    {
     "name": "stdout",
     "output_type": "stream",
     "text": [
      "Train Accuracy: 0.6453, Val Accuracy: 0.5808, Test Accuracy: 0.5159\n",
      "Train loss: 1.2391\n",
      "\n",
      " Epoch 211 training:\n"
     ]
    },
    {
     "name": "stderr",
     "output_type": "stream",
     "text": [
      "100%|██████████| 711/711 [01:20<00:00,  8.79it/s]\n"
     ]
    },
    {
     "name": "stdout",
     "output_type": "stream",
     "text": [
      "Train Accuracy: 0.6350, Val Accuracy: 0.5752, Test Accuracy: 0.5123\n",
      "Train loss: 1.2450\n",
      "\n",
      " Epoch 212 training:\n"
     ]
    },
    {
     "name": "stderr",
     "output_type": "stream",
     "text": [
      "100%|██████████| 711/711 [01:21<00:00,  8.72it/s]\n"
     ]
    },
    {
     "name": "stdout",
     "output_type": "stream",
     "text": [
      "Train Accuracy: 0.6421, Val Accuracy: 0.5775, Test Accuracy: 0.5155\n",
      "Train loss: 1.2452\n",
      "\n",
      " Epoch 213 training:\n"
     ]
    },
    {
     "name": "stderr",
     "output_type": "stream",
     "text": [
      "100%|██████████| 711/711 [01:20<00:00,  8.82it/s]\n"
     ]
    },
    {
     "name": "stdout",
     "output_type": "stream",
     "text": [
      "Train Accuracy: 0.6341, Val Accuracy: 0.5760, Test Accuracy: 0.5105\n",
      "Train loss: 1.2420\n",
      "\n",
      " Epoch 214 training:\n"
     ]
    },
    {
     "name": "stderr",
     "output_type": "stream",
     "text": [
      "100%|██████████| 711/711 [01:20<00:00,  8.81it/s]\n"
     ]
    },
    {
     "name": "stdout",
     "output_type": "stream",
     "text": [
      "Train Accuracy: 0.6464, Val Accuracy: 0.5842, Test Accuracy: 0.5181\n",
      "Train loss: 1.2431\n",
      "\n",
      " Epoch 215 training:\n"
     ]
    },
    {
     "name": "stderr",
     "output_type": "stream",
     "text": [
      "100%|██████████| 711/711 [01:21<00:00,  8.76it/s]\n"
     ]
    },
    {
     "name": "stdout",
     "output_type": "stream",
     "text": [
      "Train Accuracy: 0.6392, Val Accuracy: 0.5750, Test Accuracy: 0.5105\n",
      "Train loss: 1.2471\n",
      "\n",
      " Epoch 216 training:\n"
     ]
    },
    {
     "name": "stderr",
     "output_type": "stream",
     "text": [
      "100%|██████████| 711/711 [01:22<00:00,  8.66it/s]\n"
     ]
    },
    {
     "name": "stdout",
     "output_type": "stream",
     "text": [
      "Train Accuracy: 0.6413, Val Accuracy: 0.5773, Test Accuracy: 0.5178\n",
      "Train loss: 1.2550\n",
      "\n",
      " Epoch 217 training:\n"
     ]
    },
    {
     "name": "stderr",
     "output_type": "stream",
     "text": [
      "100%|██████████| 711/711 [01:21<00:00,  8.77it/s]\n"
     ]
    },
    {
     "name": "stdout",
     "output_type": "stream",
     "text": [
      "Train Accuracy: 0.6340, Val Accuracy: 0.5702, Test Accuracy: 0.5058\n",
      "Train loss: 1.2487\n",
      "\n",
      " Epoch 218 training:\n"
     ]
    },
    {
     "name": "stderr",
     "output_type": "stream",
     "text": [
      "100%|██████████| 711/711 [01:21<00:00,  8.75it/s]\n"
     ]
    },
    {
     "name": "stdout",
     "output_type": "stream",
     "text": [
      "Train Accuracy: 0.6406, Val Accuracy: 0.5747, Test Accuracy: 0.5154\n",
      "Train loss: 1.2417\n",
      "\n",
      " Epoch 219 training:\n"
     ]
    },
    {
     "name": "stderr",
     "output_type": "stream",
     "text": [
      "100%|██████████| 711/711 [01:22<00:00,  8.64it/s]\n"
     ]
    },
    {
     "name": "stdout",
     "output_type": "stream",
     "text": [
      "Train Accuracy: 0.6338, Val Accuracy: 0.5736, Test Accuracy: 0.5128\n",
      "Train loss: 1.2569\n",
      "\n",
      " Epoch 220 training:\n"
     ]
    },
    {
     "name": "stderr",
     "output_type": "stream",
     "text": [
      "100%|██████████| 711/711 [01:20<00:00,  8.85it/s]\n"
     ]
    },
    {
     "name": "stdout",
     "output_type": "stream",
     "text": [
      "Train Accuracy: 0.6307, Val Accuracy: 0.5749, Test Accuracy: 0.5090\n",
      "Train loss: 1.2406\n",
      "\n",
      " Epoch 221 training:\n"
     ]
    },
    {
     "name": "stderr",
     "output_type": "stream",
     "text": [
      "100%|██████████| 711/711 [01:22<00:00,  8.67it/s]\n"
     ]
    },
    {
     "name": "stdout",
     "output_type": "stream",
     "text": [
      "Train Accuracy: 0.6347, Val Accuracy: 0.5787, Test Accuracy: 0.5123\n",
      "Train loss: 1.2485\n",
      "\n",
      " Epoch 222 training:\n"
     ]
    },
    {
     "name": "stderr",
     "output_type": "stream",
     "text": [
      "100%|██████████| 711/711 [01:22<00:00,  8.57it/s]\n"
     ]
    },
    {
     "name": "stdout",
     "output_type": "stream",
     "text": [
      "Train Accuracy: 0.6382, Val Accuracy: 0.5819, Test Accuracy: 0.5157\n",
      "Train loss: 1.2517\n",
      "\n",
      " Epoch 223 training:\n"
     ]
    },
    {
     "name": "stderr",
     "output_type": "stream",
     "text": [
      "100%|██████████| 711/711 [01:19<00:00,  8.90it/s]\n"
     ]
    },
    {
     "name": "stdout",
     "output_type": "stream",
     "text": [
      "Train Accuracy: 0.6299, Val Accuracy: 0.5721, Test Accuracy: 0.5138\n",
      "Train loss: 1.2338\n",
      "\n",
      " Epoch 224 training:\n"
     ]
    },
    {
     "name": "stderr",
     "output_type": "stream",
     "text": [
      "100%|██████████| 711/711 [01:21<00:00,  8.77it/s]\n"
     ]
    },
    {
     "name": "stdout",
     "output_type": "stream",
     "text": [
      "Train Accuracy: 0.6383, Val Accuracy: 0.5787, Test Accuracy: 0.5135\n",
      "Train loss: 1.2472\n",
      "\n",
      " Epoch 225 training:\n"
     ]
    },
    {
     "name": "stderr",
     "output_type": "stream",
     "text": [
      "100%|██████████| 711/711 [01:19<00:00,  8.92it/s]\n"
     ]
    },
    {
     "name": "stdout",
     "output_type": "stream",
     "text": [
      "Train Accuracy: 0.6379, Val Accuracy: 0.5774, Test Accuracy: 0.5170\n",
      "Train loss: 1.2313\n",
      "\n",
      " Epoch 226 training:\n"
     ]
    },
    {
     "name": "stderr",
     "output_type": "stream",
     "text": [
      "100%|██████████| 711/711 [01:22<00:00,  8.66it/s]\n"
     ]
    },
    {
     "name": "stdout",
     "output_type": "stream",
     "text": [
      "Train Accuracy: 0.6397, Val Accuracy: 0.5801, Test Accuracy: 0.5145\n",
      "Train loss: 1.2556\n",
      "\n",
      " Epoch 227 training:\n"
     ]
    },
    {
     "name": "stderr",
     "output_type": "stream",
     "text": [
      "100%|██████████| 711/711 [01:20<00:00,  8.84it/s]\n"
     ]
    },
    {
     "name": "stdout",
     "output_type": "stream",
     "text": [
      "Train Accuracy: 0.6439, Val Accuracy: 0.5782, Test Accuracy: 0.5164\n",
      "Train loss: 1.2454\n",
      "\n",
      " Epoch 228 training:\n"
     ]
    },
    {
     "name": "stderr",
     "output_type": "stream",
     "text": [
      "100%|██████████| 711/711 [01:20<00:00,  8.79it/s]\n"
     ]
    },
    {
     "name": "stdout",
     "output_type": "stream",
     "text": [
      "Train Accuracy: 0.6407, Val Accuracy: 0.5768, Test Accuracy: 0.5112\n",
      "Train loss: 1.2414\n",
      "\n",
      " Epoch 229 training:\n"
     ]
    },
    {
     "name": "stderr",
     "output_type": "stream",
     "text": [
      "100%|██████████| 711/711 [01:19<00:00,  8.90it/s]\n"
     ]
    },
    {
     "name": "stdout",
     "output_type": "stream",
     "text": [
      "Train Accuracy: 0.6405, Val Accuracy: 0.5750, Test Accuracy: 0.5144\n",
      "Train loss: 1.2323\n",
      "\n",
      " Epoch 230 training:\n"
     ]
    },
    {
     "name": "stderr",
     "output_type": "stream",
     "text": [
      "100%|██████████| 711/711 [01:20<00:00,  8.80it/s]\n"
     ]
    },
    {
     "name": "stdout",
     "output_type": "stream",
     "text": [
      "Train Accuracy: 0.6380, Val Accuracy: 0.5757, Test Accuracy: 0.5151\n",
      "Train loss: 1.2337\n",
      "\n",
      " Epoch 231 training:\n"
     ]
    },
    {
     "name": "stderr",
     "output_type": "stream",
     "text": [
      "100%|██████████| 711/711 [01:21<00:00,  8.67it/s]\n"
     ]
    },
    {
     "name": "stdout",
     "output_type": "stream",
     "text": [
      "Train Accuracy: 0.6313, Val Accuracy: 0.5693, Test Accuracy: 0.5085\n",
      "Train loss: 1.2483\n",
      "\n",
      " Epoch 232 training:\n"
     ]
    },
    {
     "name": "stderr",
     "output_type": "stream",
     "text": [
      "100%|██████████| 711/711 [01:20<00:00,  8.80it/s]\n"
     ]
    },
    {
     "name": "stdout",
     "output_type": "stream",
     "text": [
      "Train Accuracy: 0.6399, Val Accuracy: 0.5800, Test Accuracy: 0.5156\n",
      "Train loss: 1.2370\n",
      "\n",
      " Epoch 233 training:\n"
     ]
    },
    {
     "name": "stderr",
     "output_type": "stream",
     "text": [
      "100%|██████████| 711/711 [01:21<00:00,  8.77it/s]\n"
     ]
    },
    {
     "name": "stdout",
     "output_type": "stream",
     "text": [
      "Train Accuracy: 0.6465, Val Accuracy: 0.5821, Test Accuracy: 0.5214\n",
      "Train loss: 1.2376\n",
      "\n",
      " Epoch 234 training:\n"
     ]
    },
    {
     "name": "stderr",
     "output_type": "stream",
     "text": [
      "100%|██████████| 711/711 [01:21<00:00,  8.77it/s]\n"
     ]
    },
    {
     "name": "stdout",
     "output_type": "stream",
     "text": [
      "Train Accuracy: 0.6346, Val Accuracy: 0.5709, Test Accuracy: 0.5123\n",
      "Train loss: 1.2428\n",
      "\n",
      " Epoch 235 training:\n"
     ]
    },
    {
     "name": "stderr",
     "output_type": "stream",
     "text": [
      "100%|██████████| 711/711 [01:20<00:00,  8.78it/s]\n"
     ]
    },
    {
     "name": "stdout",
     "output_type": "stream",
     "text": [
      "Train Accuracy: 0.6428, Val Accuracy: 0.5789, Test Accuracy: 0.5153\n",
      "Train loss: 1.2407\n",
      "\n",
      " Epoch 236 training:\n"
     ]
    },
    {
     "name": "stderr",
     "output_type": "stream",
     "text": [
      "100%|██████████| 711/711 [01:20<00:00,  8.82it/s]\n"
     ]
    },
    {
     "name": "stdout",
     "output_type": "stream",
     "text": [
      "Train Accuracy: 0.6438, Val Accuracy: 0.5796, Test Accuracy: 0.5148\n",
      "Train loss: 1.2378\n",
      "\n",
      " Epoch 237 training:\n"
     ]
    },
    {
     "name": "stderr",
     "output_type": "stream",
     "text": [
      "100%|██████████| 711/711 [01:20<00:00,  8.78it/s]\n"
     ]
    },
    {
     "name": "stdout",
     "output_type": "stream",
     "text": [
      "Train Accuracy: 0.6461, Val Accuracy: 0.5811, Test Accuracy: 0.5188\n",
      "Train loss: 1.2315\n",
      "\n",
      " Epoch 238 training:\n"
     ]
    },
    {
     "name": "stderr",
     "output_type": "stream",
     "text": [
      "100%|██████████| 711/711 [01:22<00:00,  8.63it/s]\n"
     ]
    },
    {
     "name": "stdout",
     "output_type": "stream",
     "text": [
      "Train Accuracy: 0.6438, Val Accuracy: 0.5793, Test Accuracy: 0.5160\n",
      "Train loss: 1.2489\n",
      "\n",
      " Epoch 239 training:\n"
     ]
    },
    {
     "name": "stderr",
     "output_type": "stream",
     "text": [
      "100%|██████████| 711/711 [01:19<00:00,  8.90it/s]\n"
     ]
    },
    {
     "name": "stdout",
     "output_type": "stream",
     "text": [
      "Train Accuracy: 0.6454, Val Accuracy: 0.5817, Test Accuracy: 0.5146\n",
      "Train loss: 1.2319\n",
      "\n",
      " Epoch 240 training:\n"
     ]
    },
    {
     "name": "stderr",
     "output_type": "stream",
     "text": [
      "100%|██████████| 711/711 [01:21<00:00,  8.68it/s]\n"
     ]
    },
    {
     "name": "stdout",
     "output_type": "stream",
     "text": [
      "Train Accuracy: 0.6333, Val Accuracy: 0.5722, Test Accuracy: 0.5128\n",
      "Train loss: 1.2536\n",
      "\n",
      " Epoch 241 training:\n"
     ]
    },
    {
     "name": "stderr",
     "output_type": "stream",
     "text": [
      "100%|██████████| 711/711 [01:21<00:00,  8.74it/s]\n"
     ]
    },
    {
     "name": "stdout",
     "output_type": "stream",
     "text": [
      "Train Accuracy: 0.6461, Val Accuracy: 0.5810, Test Accuracy: 0.5223\n",
      "Train loss: 1.2350\n",
      "\n",
      " Epoch 242 training:\n"
     ]
    },
    {
     "name": "stderr",
     "output_type": "stream",
     "text": [
      "100%|██████████| 711/711 [01:21<00:00,  8.76it/s]\n"
     ]
    },
    {
     "name": "stdout",
     "output_type": "stream",
     "text": [
      "Train Accuracy: 0.6449, Val Accuracy: 0.5817, Test Accuracy: 0.5191\n",
      "Train loss: 1.2399\n",
      "\n",
      " Epoch 243 training:\n"
     ]
    },
    {
     "name": "stderr",
     "output_type": "stream",
     "text": [
      "100%|██████████| 711/711 [01:20<00:00,  8.79it/s]\n"
     ]
    },
    {
     "name": "stdout",
     "output_type": "stream",
     "text": [
      "Train Accuracy: 0.6364, Val Accuracy: 0.5739, Test Accuracy: 0.5117\n",
      "Train loss: 1.2386\n",
      "\n",
      " Epoch 244 training:\n"
     ]
    },
    {
     "name": "stderr",
     "output_type": "stream",
     "text": [
      "100%|██████████| 711/711 [01:20<00:00,  8.80it/s]\n"
     ]
    },
    {
     "name": "stdout",
     "output_type": "stream",
     "text": [
      "Train Accuracy: 0.6431, Val Accuracy: 0.5775, Test Accuracy: 0.5125\n",
      "Train loss: 1.2418\n",
      "\n",
      " Epoch 245 training:\n"
     ]
    },
    {
     "name": "stderr",
     "output_type": "stream",
     "text": [
      "100%|██████████| 711/711 [01:20<00:00,  8.87it/s]\n"
     ]
    },
    {
     "name": "stdout",
     "output_type": "stream",
     "text": [
      "Train Accuracy: 0.6450, Val Accuracy: 0.5808, Test Accuracy: 0.5133\n",
      "Train loss: 1.2276\n",
      "\n",
      " Epoch 246 training:\n"
     ]
    },
    {
     "name": "stderr",
     "output_type": "stream",
     "text": [
      "100%|██████████| 711/711 [01:21<00:00,  8.73it/s]\n"
     ]
    },
    {
     "name": "stdout",
     "output_type": "stream",
     "text": [
      "Train Accuracy: 0.6385, Val Accuracy: 0.5739, Test Accuracy: 0.5066\n",
      "Train loss: 1.2374\n",
      "\n",
      " Epoch 247 training:\n"
     ]
    },
    {
     "name": "stderr",
     "output_type": "stream",
     "text": [
      "100%|██████████| 711/711 [01:20<00:00,  8.82it/s]\n"
     ]
    },
    {
     "name": "stdout",
     "output_type": "stream",
     "text": [
      "Train Accuracy: 0.6377, Val Accuracy: 0.5756, Test Accuracy: 0.5098\n",
      "Train loss: 1.2296\n",
      "\n",
      " Epoch 248 training:\n"
     ]
    },
    {
     "name": "stderr",
     "output_type": "stream",
     "text": [
      "100%|██████████| 711/711 [01:19<00:00,  8.97it/s]\n"
     ]
    },
    {
     "name": "stdout",
     "output_type": "stream",
     "text": [
      "Train Accuracy: 0.6436, Val Accuracy: 0.5778, Test Accuracy: 0.5148\n",
      "Train loss: 1.2163\n",
      "\n",
      " Epoch 249 training:\n"
     ]
    },
    {
     "name": "stderr",
     "output_type": "stream",
     "text": [
      "100%|██████████| 711/711 [01:21<00:00,  8.76it/s]\n"
     ]
    },
    {
     "name": "stdout",
     "output_type": "stream",
     "text": [
      "Train Accuracy: 0.6346, Val Accuracy: 0.5725, Test Accuracy: 0.5092\n",
      "Train loss: 1.2359\n",
      "\n",
      " Epoch 0 training:\n"
     ]
    },
    {
     "name": "stderr",
     "output_type": "stream",
     "text": [
      "100%|██████████| 711/711 [01:21<00:00,  8.77it/s]\n"
     ]
    },
    {
     "name": "stdout",
     "output_type": "stream",
     "text": [
      "New best model validation accuracy: 0.41199. Previous: 0.00000\n",
      "Train Accuracy: 0.4302, Val Accuracy: 0.4120, Test Accuracy: 0.3459\n",
      "Train loss: 2.1909\n",
      "\n",
      " Epoch 1 training:\n"
     ]
    },
    {
     "name": "stderr",
     "output_type": "stream",
     "text": [
      "100%|██████████| 711/711 [01:21<00:00,  8.68it/s]\n"
     ]
    },
    {
     "name": "stdout",
     "output_type": "stream",
     "text": [
      "New best model validation accuracy: 0.45512. Previous: 0.41199\n",
      "Train Accuracy: 0.4575, Val Accuracy: 0.4551, Test Accuracy: 0.3923\n",
      "Train loss: 1.9006\n",
      "\n",
      " Epoch 2 training:\n"
     ]
    },
    {
     "name": "stderr",
     "output_type": "stream",
     "text": [
      "100%|██████████| 711/711 [01:20<00:00,  8.83it/s]\n"
     ]
    },
    {
     "name": "stdout",
     "output_type": "stream",
     "text": [
      "New best model validation accuracy: 0.50374. Previous: 0.45512\n",
      "Train Accuracy: 0.5106, Val Accuracy: 0.5037, Test Accuracy: 0.4362\n",
      "Train loss: 1.8034\n",
      "\n",
      " Epoch 3 training:\n"
     ]
    },
    {
     "name": "stderr",
     "output_type": "stream",
     "text": [
      "100%|██████████| 711/711 [01:21<00:00,  8.74it/s]\n"
     ]
    },
    {
     "name": "stdout",
     "output_type": "stream",
     "text": [
      "New best model validation accuracy: 0.50569. Previous: 0.50374\n",
      "Train Accuracy: 0.5106, Val Accuracy: 0.5057, Test Accuracy: 0.4370\n",
      "Train loss: 1.7440\n",
      "\n",
      " Epoch 4 training:\n"
     ]
    },
    {
     "name": "stderr",
     "output_type": "stream",
     "text": [
      "100%|██████████| 711/711 [01:20<00:00,  8.87it/s]\n"
     ]
    },
    {
     "name": "stdout",
     "output_type": "stream",
     "text": [
      "New best model validation accuracy: 0.52676. Previous: 0.50569\n",
      "Train Accuracy: 0.5370, Val Accuracy: 0.5268, Test Accuracy: 0.4594\n",
      "Train loss: 1.6715\n",
      "\n",
      " Epoch 5 training:\n"
     ]
    },
    {
     "name": "stderr",
     "output_type": "stream",
     "text": [
      "100%|██████████| 711/711 [01:20<00:00,  8.79it/s]\n"
     ]
    },
    {
     "name": "stdout",
     "output_type": "stream",
     "text": [
      "Train Accuracy: 0.5318, Val Accuracy: 0.5175, Test Accuracy: 0.4505\n",
      "Train loss: 1.6608\n",
      "\n",
      " Epoch 6 training:\n"
     ]
    },
    {
     "name": "stderr",
     "output_type": "stream",
     "text": [
      "100%|██████████| 711/711 [01:20<00:00,  8.85it/s]\n"
     ]
    },
    {
     "name": "stdout",
     "output_type": "stream",
     "text": [
      "New best model validation accuracy: 0.53200. Previous: 0.52676\n",
      "Train Accuracy: 0.5449, Val Accuracy: 0.5320, Test Accuracy: 0.4716\n",
      "Train loss: 1.6170\n",
      "\n",
      " Epoch 7 training:\n"
     ]
    },
    {
     "name": "stderr",
     "output_type": "stream",
     "text": [
      "100%|██████████| 711/711 [01:22<00:00,  8.65it/s]\n"
     ]
    },
    {
     "name": "stdout",
     "output_type": "stream",
     "text": [
      "Train Accuracy: 0.5317, Val Accuracy: 0.5262, Test Accuracy: 0.4740\n",
      "Train loss: 1.6146\n",
      "\n",
      " Epoch 8 training:\n"
     ]
    },
    {
     "name": "stderr",
     "output_type": "stream",
     "text": [
      "100%|██████████| 711/711 [01:20<00:00,  8.87it/s]\n"
     ]
    },
    {
     "name": "stdout",
     "output_type": "stream",
     "text": [
      "New best model validation accuracy: 0.54391. Previous: 0.53200\n",
      "Train Accuracy: 0.5565, Val Accuracy: 0.5439, Test Accuracy: 0.4778\n",
      "Train loss: 1.5763\n",
      "\n",
      " Epoch 9 training:\n"
     ]
    },
    {
     "name": "stderr",
     "output_type": "stream",
     "text": [
      "100%|██████████| 711/711 [01:20<00:00,  8.78it/s]\n"
     ]
    },
    {
     "name": "stdout",
     "output_type": "stream",
     "text": [
      "New best model validation accuracy: 0.55139. Previous: 0.54391\n",
      "Train Accuracy: 0.5601, Val Accuracy: 0.5514, Test Accuracy: 0.4886\n",
      "Train loss: 1.5732\n",
      "\n",
      " Epoch 10 training:\n"
     ]
    },
    {
     "name": "stderr",
     "output_type": "stream",
     "text": [
      "100%|██████████| 711/711 [01:20<00:00,  8.79it/s]\n"
     ]
    },
    {
     "name": "stdout",
     "output_type": "stream",
     "text": [
      "Train Accuracy: 0.5419, Val Accuracy: 0.5343, Test Accuracy: 0.4677\n",
      "Train loss: 1.5534\n",
      "\n",
      " Epoch 11 training:\n"
     ]
    },
    {
     "name": "stderr",
     "output_type": "stream",
     "text": [
      "100%|██████████| 711/711 [01:21<00:00,  8.74it/s]\n"
     ]
    },
    {
     "name": "stdout",
     "output_type": "stream",
     "text": [
      "New best model validation accuracy: 0.55233. Previous: 0.55139\n",
      "Train Accuracy: 0.5700, Val Accuracy: 0.5523, Test Accuracy: 0.4916\n",
      "Train loss: 1.5420\n",
      "\n",
      " Epoch 12 training:\n"
     ]
    },
    {
     "name": "stderr",
     "output_type": "stream",
     "text": [
      "100%|██████████| 711/711 [01:21<00:00,  8.74it/s]\n"
     ]
    },
    {
     "name": "stdout",
     "output_type": "stream",
     "text": [
      "Train Accuracy: 0.5636, Val Accuracy: 0.5443, Test Accuracy: 0.4828\n",
      "Train loss: 1.5357\n",
      "\n",
      " Epoch 13 training:\n"
     ]
    },
    {
     "name": "stderr",
     "output_type": "stream",
     "text": [
      "100%|██████████| 711/711 [01:19<00:00,  8.95it/s]\n"
     ]
    },
    {
     "name": "stdout",
     "output_type": "stream",
     "text": [
      "Train Accuracy: 0.5681, Val Accuracy: 0.5471, Test Accuracy: 0.4931\n",
      "Train loss: 1.5078\n",
      "\n",
      " Epoch 14 training:\n"
     ]
    },
    {
     "name": "stderr",
     "output_type": "stream",
     "text": [
      "100%|██████████| 711/711 [01:22<00:00,  8.58it/s]\n"
     ]
    },
    {
     "name": "stdout",
     "output_type": "stream",
     "text": [
      "New best model validation accuracy: 0.55334. Previous: 0.55233\n",
      "Train Accuracy: 0.5746, Val Accuracy: 0.5533, Test Accuracy: 0.4955\n",
      "Train loss: 1.5222\n",
      "\n",
      " Epoch 15 training:\n"
     ]
    },
    {
     "name": "stderr",
     "output_type": "stream",
     "text": [
      "100%|██████████| 711/711 [01:21<00:00,  8.76it/s]\n"
     ]
    },
    {
     "name": "stdout",
     "output_type": "stream",
     "text": [
      "Train Accuracy: 0.5534, Val Accuracy: 0.5397, Test Accuracy: 0.4737\n",
      "Train loss: 1.5009\n",
      "\n",
      " Epoch 16 training:\n"
     ]
    },
    {
     "name": "stderr",
     "output_type": "stream",
     "text": [
      "100%|██████████| 711/711 [01:20<00:00,  8.86it/s]\n"
     ]
    },
    {
     "name": "stdout",
     "output_type": "stream",
     "text": [
      "New best model validation accuracy: 0.55888. Previous: 0.55334\n",
      "Train Accuracy: 0.5883, Val Accuracy: 0.5589, Test Accuracy: 0.4962\n",
      "Train loss: 1.4832\n",
      "\n",
      " Epoch 17 training:\n"
     ]
    },
    {
     "name": "stderr",
     "output_type": "stream",
     "text": [
      "100%|██████████| 711/711 [01:21<00:00,  8.77it/s]\n"
     ]
    },
    {
     "name": "stdout",
     "output_type": "stream",
     "text": [
      "Train Accuracy: 0.5804, Val Accuracy: 0.5554, Test Accuracy: 0.4978\n",
      "Train loss: 1.4896\n",
      "\n",
      " Epoch 18 training:\n"
     ]
    },
    {
     "name": "stderr",
     "output_type": "stream",
     "text": [
      "100%|██████████| 711/711 [01:22<00:00,  8.66it/s]\n"
     ]
    },
    {
     "name": "stdout",
     "output_type": "stream",
     "text": [
      "New best model validation accuracy: 0.56401. Previous: 0.55888\n",
      "Train Accuracy: 0.5883, Val Accuracy: 0.5640, Test Accuracy: 0.5056\n",
      "Train loss: 1.4923\n",
      "\n",
      " Epoch 19 training:\n"
     ]
    },
    {
     "name": "stderr",
     "output_type": "stream",
     "text": [
      "100%|██████████| 711/711 [01:21<00:00,  8.69it/s]\n"
     ]
    },
    {
     "name": "stdout",
     "output_type": "stream",
     "text": [
      "Train Accuracy: 0.5813, Val Accuracy: 0.5513, Test Accuracy: 0.4945\n",
      "Train loss: 1.4787\n",
      "\n",
      " Epoch 20 training:\n"
     ]
    },
    {
     "name": "stderr",
     "output_type": "stream",
     "text": [
      "100%|██████████| 711/711 [01:20<00:00,  8.84it/s]\n"
     ]
    },
    {
     "name": "stdout",
     "output_type": "stream",
     "text": [
      "Train Accuracy: 0.5870, Val Accuracy: 0.5572, Test Accuracy: 0.4969\n",
      "Train loss: 1.4687\n",
      "\n",
      " Epoch 21 training:\n"
     ]
    },
    {
     "name": "stderr",
     "output_type": "stream",
     "text": [
      "100%|██████████| 711/711 [01:20<00:00,  8.89it/s]\n"
     ]
    },
    {
     "name": "stdout",
     "output_type": "stream",
     "text": [
      "Train Accuracy: 0.5754, Val Accuracy: 0.5519, Test Accuracy: 0.4924\n",
      "Train loss: 1.4448\n",
      "\n",
      " Epoch 22 training:\n"
     ]
    },
    {
     "name": "stderr",
     "output_type": "stream",
     "text": [
      "100%|██████████| 711/711 [01:21<00:00,  8.70it/s]\n"
     ]
    },
    {
     "name": "stdout",
     "output_type": "stream",
     "text": [
      "New best model validation accuracy: 0.56780. Previous: 0.56401\n",
      "Train Accuracy: 0.5917, Val Accuracy: 0.5678, Test Accuracy: 0.5026\n",
      "Train loss: 1.4643\n",
      "\n",
      " Epoch 23 training:\n"
     ]
    },
    {
     "name": "stderr",
     "output_type": "stream",
     "text": [
      "100%|██████████| 711/711 [01:21<00:00,  8.72it/s]\n"
     ]
    },
    {
     "name": "stdout",
     "output_type": "stream",
     "text": [
      "Train Accuracy: 0.5779, Val Accuracy: 0.5521, Test Accuracy: 0.4895\n",
      "Train loss: 1.4562\n",
      "\n",
      " Epoch 24 training:\n"
     ]
    },
    {
     "name": "stderr",
     "output_type": "stream",
     "text": [
      "100%|██████████| 711/711 [01:20<00:00,  8.89it/s]\n"
     ]
    },
    {
     "name": "stdout",
     "output_type": "stream",
     "text": [
      "Train Accuracy: 0.5937, Val Accuracy: 0.5655, Test Accuracy: 0.5001\n",
      "Train loss: 1.4348\n",
      "\n",
      " Epoch 25 training:\n"
     ]
    },
    {
     "name": "stderr",
     "output_type": "stream",
     "text": [
      "100%|██████████| 711/711 [01:20<00:00,  8.78it/s]\n"
     ]
    },
    {
     "name": "stdout",
     "output_type": "stream",
     "text": [
      "Train Accuracy: 0.5862, Val Accuracy: 0.5601, Test Accuracy: 0.4987\n",
      "Train loss: 1.4541\n",
      "\n",
      " Epoch 26 training:\n"
     ]
    },
    {
     "name": "stderr",
     "output_type": "stream",
     "text": [
      "100%|██████████| 711/711 [01:20<00:00,  8.87it/s]\n"
     ]
    },
    {
     "name": "stdout",
     "output_type": "stream",
     "text": [
      "Train Accuracy: 0.5741, Val Accuracy: 0.5465, Test Accuracy: 0.4901\n",
      "Train loss: 1.4361\n",
      "\n",
      " Epoch 27 training:\n"
     ]
    },
    {
     "name": "stderr",
     "output_type": "stream",
     "text": [
      "100%|██████████| 711/711 [01:21<00:00,  8.67it/s]\n"
     ]
    },
    {
     "name": "stdout",
     "output_type": "stream",
     "text": [
      "Train Accuracy: 0.5861, Val Accuracy: 0.5588, Test Accuracy: 0.4986\n",
      "Train loss: 1.4425\n",
      "\n",
      " Epoch 28 training:\n"
     ]
    },
    {
     "name": "stderr",
     "output_type": "stream",
     "text": [
      "100%|██████████| 711/711 [01:20<00:00,  8.79it/s]\n"
     ]
    },
    {
     "name": "stdout",
     "output_type": "stream",
     "text": [
      "Train Accuracy: 0.5767, Val Accuracy: 0.5484, Test Accuracy: 0.4891\n",
      "Train loss: 1.4355\n",
      "\n",
      " Epoch 29 training:\n"
     ]
    },
    {
     "name": "stderr",
     "output_type": "stream",
     "text": [
      "100%|██████████| 711/711 [01:21<00:00,  8.71it/s]\n"
     ]
    },
    {
     "name": "stdout",
     "output_type": "stream",
     "text": [
      "Train Accuracy: 0.5870, Val Accuracy: 0.5603, Test Accuracy: 0.5007\n",
      "Train loss: 1.4353\n",
      "\n",
      " Epoch 30 training:\n"
     ]
    },
    {
     "name": "stderr",
     "output_type": "stream",
     "text": [
      "100%|██████████| 711/711 [01:20<00:00,  8.79it/s]\n"
     ]
    },
    {
     "name": "stdout",
     "output_type": "stream",
     "text": [
      "Train Accuracy: 0.5922, Val Accuracy: 0.5601, Test Accuracy: 0.5015\n",
      "Train loss: 1.4264\n",
      "\n",
      " Epoch 31 training:\n"
     ]
    },
    {
     "name": "stderr",
     "output_type": "stream",
     "text": [
      "100%|██████████| 711/711 [01:21<00:00,  8.74it/s]\n"
     ]
    },
    {
     "name": "stdout",
     "output_type": "stream",
     "text": [
      "Train Accuracy: 0.5977, Val Accuracy: 0.5607, Test Accuracy: 0.4980\n",
      "Train loss: 1.4233\n",
      "\n",
      " Epoch 32 training:\n"
     ]
    },
    {
     "name": "stderr",
     "output_type": "stream",
     "text": [
      "100%|██████████| 711/711 [01:19<00:00,  8.92it/s]\n"
     ]
    },
    {
     "name": "stdout",
     "output_type": "stream",
     "text": [
      "Train Accuracy: 0.5751, Val Accuracy: 0.5463, Test Accuracy: 0.4849\n",
      "Train loss: 1.4040\n",
      "\n",
      " Epoch 33 training:\n"
     ]
    },
    {
     "name": "stderr",
     "output_type": "stream",
     "text": [
      "100%|██████████| 711/711 [01:21<00:00,  8.71it/s]\n"
     ]
    },
    {
     "name": "stdout",
     "output_type": "stream",
     "text": [
      "New best model validation accuracy: 0.57337. Previous: 0.56780\n",
      "Train Accuracy: 0.6051, Val Accuracy: 0.5734, Test Accuracy: 0.5097\n",
      "Train loss: 1.4215\n",
      "\n",
      " Epoch 34 training:\n"
     ]
    },
    {
     "name": "stderr",
     "output_type": "stream",
     "text": [
      "100%|██████████| 711/711 [01:21<00:00,  8.75it/s]\n"
     ]
    },
    {
     "name": "stdout",
     "output_type": "stream",
     "text": [
      "Train Accuracy: 0.5903, Val Accuracy: 0.5569, Test Accuracy: 0.4911\n",
      "Train loss: 1.4196\n",
      "\n",
      " Epoch 35 training:\n"
     ]
    },
    {
     "name": "stderr",
     "output_type": "stream",
     "text": [
      "100%|██████████| 711/711 [01:20<00:00,  8.88it/s]\n"
     ]
    },
    {
     "name": "stdout",
     "output_type": "stream",
     "text": [
      "Train Accuracy: 0.5871, Val Accuracy: 0.5539, Test Accuracy: 0.4903\n",
      "Train loss: 1.3959\n",
      "\n",
      " Epoch 36 training:\n"
     ]
    },
    {
     "name": "stderr",
     "output_type": "stream",
     "text": [
      "100%|██████████| 711/711 [01:20<00:00,  8.82it/s]\n"
     ]
    },
    {
     "name": "stdout",
     "output_type": "stream",
     "text": [
      "Train Accuracy: 0.6015, Val Accuracy: 0.5648, Test Accuracy: 0.5002\n",
      "Train loss: 1.3984\n",
      "\n",
      " Epoch 37 training:\n"
     ]
    },
    {
     "name": "stderr",
     "output_type": "stream",
     "text": [
      "100%|██████████| 711/711 [01:21<00:00,  8.74it/s]\n"
     ]
    },
    {
     "name": "stdout",
     "output_type": "stream",
     "text": [
      "Train Accuracy: 0.6048, Val Accuracy: 0.5677, Test Accuracy: 0.5031\n",
      "Train loss: 1.4135\n",
      "\n",
      " Epoch 38 training:\n"
     ]
    },
    {
     "name": "stderr",
     "output_type": "stream",
     "text": [
      "100%|██████████| 711/711 [01:20<00:00,  8.84it/s]\n"
     ]
    },
    {
     "name": "stdout",
     "output_type": "stream",
     "text": [
      "Train Accuracy: 0.5994, Val Accuracy: 0.5629, Test Accuracy: 0.4981\n",
      "Train loss: 1.3862\n",
      "\n",
      " Epoch 39 training:\n"
     ]
    },
    {
     "name": "stderr",
     "output_type": "stream",
     "text": [
      "100%|██████████| 711/711 [01:20<00:00,  8.88it/s]\n"
     ]
    },
    {
     "name": "stdout",
     "output_type": "stream",
     "text": [
      "Train Accuracy: 0.5934, Val Accuracy: 0.5570, Test Accuracy: 0.4931\n",
      "Train loss: 1.3937\n",
      "\n",
      " Epoch 40 training:\n"
     ]
    },
    {
     "name": "stderr",
     "output_type": "stream",
     "text": [
      "100%|██████████| 711/711 [01:22<00:00,  8.60it/s]\n"
     ]
    },
    {
     "name": "stdout",
     "output_type": "stream",
     "text": [
      "Train Accuracy: 0.5833, Val Accuracy: 0.5467, Test Accuracy: 0.4787\n",
      "Train loss: 1.4184\n",
      "\n",
      " Epoch 41 training:\n"
     ]
    },
    {
     "name": "stderr",
     "output_type": "stream",
     "text": [
      "100%|██████████| 711/711 [01:21<00:00,  8.69it/s]\n"
     ]
    },
    {
     "name": "stdout",
     "output_type": "stream",
     "text": [
      "Train Accuracy: 0.6076, Val Accuracy: 0.5681, Test Accuracy: 0.5017\n",
      "Train loss: 1.4091\n",
      "\n",
      " Epoch 42 training:\n"
     ]
    },
    {
     "name": "stderr",
     "output_type": "stream",
     "text": [
      "100%|██████████| 711/711 [01:20<00:00,  8.86it/s]\n"
     ]
    },
    {
     "name": "stdout",
     "output_type": "stream",
     "text": [
      "Train Accuracy: 0.5986, Val Accuracy: 0.5615, Test Accuracy: 0.4997\n",
      "Train loss: 1.3877\n",
      "\n",
      " Epoch 43 training:\n"
     ]
    },
    {
     "name": "stderr",
     "output_type": "stream",
     "text": [
      "100%|██████████| 711/711 [01:19<00:00,  8.90it/s]\n"
     ]
    },
    {
     "name": "stdout",
     "output_type": "stream",
     "text": [
      "Train Accuracy: 0.5964, Val Accuracy: 0.5629, Test Accuracy: 0.4968\n",
      "Train loss: 1.3812\n",
      "\n",
      " Epoch 44 training:\n"
     ]
    },
    {
     "name": "stderr",
     "output_type": "stream",
     "text": [
      "100%|██████████| 711/711 [01:19<00:00,  8.92it/s]\n"
     ]
    },
    {
     "name": "stdout",
     "output_type": "stream",
     "text": [
      "Train Accuracy: 0.5937, Val Accuracy: 0.5608, Test Accuracy: 0.4955\n",
      "Train loss: 1.3727\n",
      "\n",
      " Epoch 45 training:\n"
     ]
    },
    {
     "name": "stderr",
     "output_type": "stream",
     "text": [
      "100%|██████████| 711/711 [01:21<00:00,  8.74it/s]\n"
     ]
    },
    {
     "name": "stdout",
     "output_type": "stream",
     "text": [
      "Train Accuracy: 0.5823, Val Accuracy: 0.5451, Test Accuracy: 0.4797\n",
      "Train loss: 1.3918\n",
      "\n",
      " Epoch 46 training:\n"
     ]
    },
    {
     "name": "stderr",
     "output_type": "stream",
     "text": [
      "100%|██████████| 711/711 [01:20<00:00,  8.80it/s]\n"
     ]
    },
    {
     "name": "stdout",
     "output_type": "stream",
     "text": [
      "New best model validation accuracy: 0.57838. Previous: 0.57337\n",
      "Train Accuracy: 0.6239, Val Accuracy: 0.5784, Test Accuracy: 0.5154\n",
      "Train loss: 1.3805\n",
      "\n",
      " Epoch 47 training:\n"
     ]
    },
    {
     "name": "stderr",
     "output_type": "stream",
     "text": [
      "100%|██████████| 711/711 [01:20<00:00,  8.78it/s]\n"
     ]
    },
    {
     "name": "stdout",
     "output_type": "stream",
     "text": [
      "Train Accuracy: 0.6034, Val Accuracy: 0.5634, Test Accuracy: 0.5035\n",
      "Train loss: 1.3848\n",
      "\n",
      " Epoch 48 training:\n"
     ]
    },
    {
     "name": "stderr",
     "output_type": "stream",
     "text": [
      "100%|██████████| 711/711 [01:20<00:00,  8.84it/s]\n"
     ]
    },
    {
     "name": "stdout",
     "output_type": "stream",
     "text": [
      "Train Accuracy: 0.6012, Val Accuracy: 0.5642, Test Accuracy: 0.4991\n",
      "Train loss: 1.3747\n",
      "\n",
      " Epoch 49 training:\n"
     ]
    },
    {
     "name": "stderr",
     "output_type": "stream",
     "text": [
      "100%|██████████| 711/711 [01:21<00:00,  8.77it/s]\n"
     ]
    },
    {
     "name": "stdout",
     "output_type": "stream",
     "text": [
      "Train Accuracy: 0.5892, Val Accuracy: 0.5541, Test Accuracy: 0.4941\n",
      "Train loss: 1.3848\n",
      "\n",
      " Epoch 50 training:\n"
     ]
    },
    {
     "name": "stderr",
     "output_type": "stream",
     "text": [
      "100%|██████████| 711/711 [01:20<00:00,  8.80it/s]\n"
     ]
    },
    {
     "name": "stdout",
     "output_type": "stream",
     "text": [
      "Train Accuracy: 0.5964, Val Accuracy: 0.5589, Test Accuracy: 0.4997\n",
      "Train loss: 1.3735\n",
      "\n",
      " Epoch 51 training:\n"
     ]
    },
    {
     "name": "stderr",
     "output_type": "stream",
     "text": [
      "100%|██████████| 711/711 [01:21<00:00,  8.69it/s]\n"
     ]
    },
    {
     "name": "stdout",
     "output_type": "stream",
     "text": [
      "Train Accuracy: 0.6044, Val Accuracy: 0.5632, Test Accuracy: 0.4968\n",
      "Train loss: 1.3802\n",
      "\n",
      " Epoch 52 training:\n"
     ]
    },
    {
     "name": "stderr",
     "output_type": "stream",
     "text": [
      "100%|██████████| 711/711 [01:21<00:00,  8.73it/s]\n"
     ]
    },
    {
     "name": "stdout",
     "output_type": "stream",
     "text": [
      "Train Accuracy: 0.6062, Val Accuracy: 0.5664, Test Accuracy: 0.5004\n",
      "Train loss: 1.3816\n",
      "\n",
      " Epoch 53 training:\n"
     ]
    },
    {
     "name": "stderr",
     "output_type": "stream",
     "text": [
      "100%|██████████| 711/711 [01:21<00:00,  8.76it/s]\n"
     ]
    },
    {
     "name": "stdout",
     "output_type": "stream",
     "text": [
      "Train Accuracy: 0.5943, Val Accuracy: 0.5528, Test Accuracy: 0.4926\n",
      "Train loss: 1.3627\n",
      "\n",
      " Epoch 54 training:\n"
     ]
    },
    {
     "name": "stderr",
     "output_type": "stream",
     "text": [
      "100%|██████████| 711/711 [01:20<00:00,  8.84it/s]\n"
     ]
    },
    {
     "name": "stdout",
     "output_type": "stream",
     "text": [
      "Train Accuracy: 0.5900, Val Accuracy: 0.5569, Test Accuracy: 0.4963\n",
      "Train loss: 1.3693\n",
      "\n",
      " Epoch 55 training:\n"
     ]
    },
    {
     "name": "stderr",
     "output_type": "stream",
     "text": [
      "100%|██████████| 711/711 [01:20<00:00,  8.87it/s]\n"
     ]
    },
    {
     "name": "stdout",
     "output_type": "stream",
     "text": [
      "Train Accuracy: 0.6213, Val Accuracy: 0.5767, Test Accuracy: 0.5163\n",
      "Train loss: 1.3563\n",
      "\n",
      " Epoch 56 training:\n"
     ]
    },
    {
     "name": "stderr",
     "output_type": "stream",
     "text": [
      "100%|██████████| 711/711 [01:21<00:00,  8.68it/s]\n"
     ]
    },
    {
     "name": "stdout",
     "output_type": "stream",
     "text": [
      "Train Accuracy: 0.6005, Val Accuracy: 0.5596, Test Accuracy: 0.5028\n",
      "Train loss: 1.3774\n",
      "\n",
      " Epoch 57 training:\n"
     ]
    },
    {
     "name": "stderr",
     "output_type": "stream",
     "text": [
      "100%|██████████| 711/711 [01:21<00:00,  8.69it/s]\n"
     ]
    },
    {
     "name": "stdout",
     "output_type": "stream",
     "text": [
      "Train Accuracy: 0.6142, Val Accuracy: 0.5717, Test Accuracy: 0.5121\n",
      "Train loss: 1.3762\n",
      "\n",
      " Epoch 58 training:\n"
     ]
    },
    {
     "name": "stderr",
     "output_type": "stream",
     "text": [
      "100%|██████████| 711/711 [01:21<00:00,  8.73it/s]\n"
     ]
    },
    {
     "name": "stdout",
     "output_type": "stream",
     "text": [
      "Train Accuracy: 0.6195, Val Accuracy: 0.5752, Test Accuracy: 0.5161\n",
      "Train loss: 1.3686\n",
      "\n",
      " Epoch 59 training:\n"
     ]
    },
    {
     "name": "stderr",
     "output_type": "stream",
     "text": [
      "100%|██████████| 711/711 [01:20<00:00,  8.81it/s]\n"
     ]
    },
    {
     "name": "stdout",
     "output_type": "stream",
     "text": [
      "Train Accuracy: 0.6039, Val Accuracy: 0.5671, Test Accuracy: 0.5036\n",
      "Train loss: 1.3530\n",
      "\n",
      " Epoch 60 training:\n"
     ]
    },
    {
     "name": "stderr",
     "output_type": "stream",
     "text": [
      "100%|██████████| 711/711 [01:21<00:00,  8.75it/s]\n"
     ]
    },
    {
     "name": "stdout",
     "output_type": "stream",
     "text": [
      "Train Accuracy: 0.6118, Val Accuracy: 0.5653, Test Accuracy: 0.5033\n",
      "Train loss: 1.3587\n",
      "\n",
      " Epoch 61 training:\n"
     ]
    },
    {
     "name": "stderr",
     "output_type": "stream",
     "text": [
      "100%|██████████| 711/711 [01:20<00:00,  8.78it/s]\n"
     ]
    },
    {
     "name": "stdout",
     "output_type": "stream",
     "text": [
      "Train Accuracy: 0.6083, Val Accuracy: 0.5674, Test Accuracy: 0.5037\n",
      "Train loss: 1.3582\n",
      "\n",
      " Epoch 62 training:\n"
     ]
    },
    {
     "name": "stderr",
     "output_type": "stream",
     "text": [
      "100%|██████████| 711/711 [01:21<00:00,  8.68it/s]\n"
     ]
    },
    {
     "name": "stdout",
     "output_type": "stream",
     "text": [
      "Train Accuracy: 0.6129, Val Accuracy: 0.5700, Test Accuracy: 0.5086\n",
      "Train loss: 1.3731\n",
      "\n",
      " Epoch 63 training:\n"
     ]
    },
    {
     "name": "stderr",
     "output_type": "stream",
     "text": [
      "100%|██████████| 711/711 [01:20<00:00,  8.79it/s]\n"
     ]
    },
    {
     "name": "stdout",
     "output_type": "stream",
     "text": [
      "Train Accuracy: 0.6152, Val Accuracy: 0.5713, Test Accuracy: 0.5090\n",
      "Train loss: 1.3471\n",
      "\n",
      " Epoch 64 training:\n"
     ]
    },
    {
     "name": "stderr",
     "output_type": "stream",
     "text": [
      "100%|██████████| 711/711 [01:21<00:00,  8.71it/s]\n"
     ]
    },
    {
     "name": "stdout",
     "output_type": "stream",
     "text": [
      "Train Accuracy: 0.6178, Val Accuracy: 0.5750, Test Accuracy: 0.5159\n",
      "Train loss: 1.3536\n",
      "\n",
      " Epoch 65 training:\n"
     ]
    },
    {
     "name": "stderr",
     "output_type": "stream",
     "text": [
      "100%|██████████| 711/711 [01:20<00:00,  8.78it/s]\n"
     ]
    },
    {
     "name": "stdout",
     "output_type": "stream",
     "text": [
      "Train Accuracy: 0.5951, Val Accuracy: 0.5556, Test Accuracy: 0.4972\n",
      "Train loss: 1.3501\n",
      "\n",
      " Epoch 66 training:\n"
     ]
    },
    {
     "name": "stderr",
     "output_type": "stream",
     "text": [
      "100%|██████████| 711/711 [01:20<00:00,  8.79it/s]\n"
     ]
    },
    {
     "name": "stdout",
     "output_type": "stream",
     "text": [
      "Train Accuracy: 0.6045, Val Accuracy: 0.5617, Test Accuracy: 0.5029\n",
      "Train loss: 1.3473\n",
      "\n",
      " Epoch 67 training:\n"
     ]
    },
    {
     "name": "stderr",
     "output_type": "stream",
     "text": [
      "100%|██████████| 711/711 [01:21<00:00,  8.73it/s]\n"
     ]
    },
    {
     "name": "stdout",
     "output_type": "stream",
     "text": [
      "Train Accuracy: 0.6062, Val Accuracy: 0.5638, Test Accuracy: 0.5017\n",
      "Train loss: 1.3551\n",
      "\n",
      " Epoch 68 training:\n"
     ]
    },
    {
     "name": "stderr",
     "output_type": "stream",
     "text": [
      "100%|██████████| 711/711 [01:22<00:00,  8.66it/s]\n"
     ]
    },
    {
     "name": "stdout",
     "output_type": "stream",
     "text": [
      "Train Accuracy: 0.6059, Val Accuracy: 0.5686, Test Accuracy: 0.5052\n",
      "Train loss: 1.3525\n",
      "\n",
      " Epoch 69 training:\n"
     ]
    },
    {
     "name": "stderr",
     "output_type": "stream",
     "text": [
      "100%|██████████| 711/711 [01:22<00:00,  8.66it/s]\n"
     ]
    },
    {
     "name": "stdout",
     "output_type": "stream",
     "text": [
      "Train Accuracy: 0.6156, Val Accuracy: 0.5713, Test Accuracy: 0.5112\n",
      "Train loss: 1.3569\n",
      "\n",
      " Epoch 70 training:\n"
     ]
    },
    {
     "name": "stderr",
     "output_type": "stream",
     "text": [
      "100%|██████████| 711/711 [01:23<00:00,  8.57it/s]\n"
     ]
    },
    {
     "name": "stdout",
     "output_type": "stream",
     "text": [
      "Train Accuracy: 0.6193, Val Accuracy: 0.5724, Test Accuracy: 0.5156\n",
      "Train loss: 1.3636\n",
      "\n",
      " Epoch 71 training:\n"
     ]
    },
    {
     "name": "stderr",
     "output_type": "stream",
     "text": [
      "100%|██████████| 711/711 [01:20<00:00,  8.81it/s]\n"
     ]
    },
    {
     "name": "stdout",
     "output_type": "stream",
     "text": [
      "Train Accuracy: 0.6170, Val Accuracy: 0.5714, Test Accuracy: 0.5103\n",
      "Train loss: 1.3397\n",
      "\n",
      " Epoch 72 training:\n"
     ]
    },
    {
     "name": "stderr",
     "output_type": "stream",
     "text": [
      "100%|██████████| 711/711 [01:21<00:00,  8.72it/s]\n"
     ]
    },
    {
     "name": "stdout",
     "output_type": "stream",
     "text": [
      "Train Accuracy: 0.6113, Val Accuracy: 0.5720, Test Accuracy: 0.5071\n",
      "Train loss: 1.3513\n",
      "\n",
      " Epoch 73 training:\n"
     ]
    },
    {
     "name": "stderr",
     "output_type": "stream",
     "text": [
      "100%|██████████| 711/711 [01:20<00:00,  8.80it/s]\n"
     ]
    },
    {
     "name": "stdout",
     "output_type": "stream",
     "text": [
      "Train Accuracy: 0.6231, Val Accuracy: 0.5706, Test Accuracy: 0.5067\n",
      "Train loss: 1.3357\n",
      "\n",
      " Epoch 74 training:\n"
     ]
    },
    {
     "name": "stderr",
     "output_type": "stream",
     "text": [
      "100%|██████████| 711/711 [01:21<00:00,  8.70it/s]\n"
     ]
    },
    {
     "name": "stdout",
     "output_type": "stream",
     "text": [
      "Train Accuracy: 0.6006, Val Accuracy: 0.5592, Test Accuracy: 0.4987\n",
      "Train loss: 1.3467\n",
      "\n",
      " Epoch 75 training:\n"
     ]
    },
    {
     "name": "stderr",
     "output_type": "stream",
     "text": [
      "100%|██████████| 711/711 [01:20<00:00,  8.81it/s]\n"
     ]
    },
    {
     "name": "stdout",
     "output_type": "stream",
     "text": [
      "Train Accuracy: 0.6199, Val Accuracy: 0.5753, Test Accuracy: 0.5141\n",
      "Train loss: 1.3334\n",
      "\n",
      " Epoch 76 training:\n"
     ]
    },
    {
     "name": "stderr",
     "output_type": "stream",
     "text": [
      "100%|██████████| 711/711 [01:20<00:00,  8.79it/s]\n"
     ]
    },
    {
     "name": "stdout",
     "output_type": "stream",
     "text": [
      "Train Accuracy: 0.6278, Val Accuracy: 0.5770, Test Accuracy: 0.5141\n",
      "Train loss: 1.3325\n",
      "\n",
      " Epoch 77 training:\n"
     ]
    },
    {
     "name": "stderr",
     "output_type": "stream",
     "text": [
      "100%|██████████| 711/711 [01:20<00:00,  8.83it/s]\n"
     ]
    },
    {
     "name": "stdout",
     "output_type": "stream",
     "text": [
      "New best model validation accuracy: 0.57935. Previous: 0.57838\n",
      "Train Accuracy: 0.6231, Val Accuracy: 0.5793, Test Accuracy: 0.5204\n",
      "Train loss: 1.3284\n",
      "\n",
      " Epoch 78 training:\n"
     ]
    },
    {
     "name": "stderr",
     "output_type": "stream",
     "text": [
      "100%|██████████| 711/711 [01:20<00:00,  8.82it/s]\n"
     ]
    },
    {
     "name": "stdout",
     "output_type": "stream",
     "text": [
      "Train Accuracy: 0.6112, Val Accuracy: 0.5655, Test Accuracy: 0.5049\n",
      "Train loss: 1.3314\n",
      "\n",
      " Epoch 79 training:\n"
     ]
    },
    {
     "name": "stderr",
     "output_type": "stream",
     "text": [
      "100%|██████████| 711/711 [01:20<00:00,  8.78it/s]\n"
     ]
    },
    {
     "name": "stdout",
     "output_type": "stream",
     "text": [
      "Train Accuracy: 0.6253, Val Accuracy: 0.5749, Test Accuracy: 0.5127\n",
      "Train loss: 1.3303\n",
      "\n",
      " Epoch 80 training:\n"
     ]
    },
    {
     "name": "stderr",
     "output_type": "stream",
     "text": [
      "100%|██████████| 711/711 [01:19<00:00,  8.92it/s]\n"
     ]
    },
    {
     "name": "stdout",
     "output_type": "stream",
     "text": [
      "Train Accuracy: 0.6059, Val Accuracy: 0.5613, Test Accuracy: 0.5033\n",
      "Train loss: 1.3254\n",
      "\n",
      " Epoch 81 training:\n"
     ]
    },
    {
     "name": "stderr",
     "output_type": "stream",
     "text": [
      "100%|██████████| 711/711 [01:22<00:00,  8.57it/s]\n"
     ]
    },
    {
     "name": "stdout",
     "output_type": "stream",
     "text": [
      "Train Accuracy: 0.6200, Val Accuracy: 0.5728, Test Accuracy: 0.5115\n",
      "Train loss: 1.3505\n",
      "\n",
      " Epoch 82 training:\n"
     ]
    },
    {
     "name": "stderr",
     "output_type": "stream",
     "text": [
      "100%|██████████| 711/711 [01:20<00:00,  8.83it/s]\n"
     ]
    },
    {
     "name": "stdout",
     "output_type": "stream",
     "text": [
      "Train Accuracy: 0.6015, Val Accuracy: 0.5648, Test Accuracy: 0.5078\n",
      "Train loss: 1.3280\n",
      "\n",
      " Epoch 83 training:\n"
     ]
    },
    {
     "name": "stderr",
     "output_type": "stream",
     "text": [
      "100%|██████████| 711/711 [01:22<00:00,  8.64it/s]\n"
     ]
    },
    {
     "name": "stdout",
     "output_type": "stream",
     "text": [
      "Train Accuracy: 0.6129, Val Accuracy: 0.5672, Test Accuracy: 0.5091\n",
      "Train loss: 1.3478\n",
      "\n",
      " Epoch 84 training:\n"
     ]
    },
    {
     "name": "stderr",
     "output_type": "stream",
     "text": [
      "100%|██████████| 711/711 [01:20<00:00,  8.84it/s]\n"
     ]
    },
    {
     "name": "stdout",
     "output_type": "stream",
     "text": [
      "Train Accuracy: 0.6237, Val Accuracy: 0.5745, Test Accuracy: 0.5176\n",
      "Train loss: 1.3268\n",
      "\n",
      " Epoch 85 training:\n"
     ]
    },
    {
     "name": "stderr",
     "output_type": "stream",
     "text": [
      "100%|██████████| 711/711 [01:19<00:00,  8.92it/s]\n"
     ]
    },
    {
     "name": "stdout",
     "output_type": "stream",
     "text": [
      "Train Accuracy: 0.6195, Val Accuracy: 0.5713, Test Accuracy: 0.5165\n",
      "Train loss: 1.3133\n",
      "\n",
      " Epoch 86 training:\n"
     ]
    },
    {
     "name": "stderr",
     "output_type": "stream",
     "text": [
      "100%|██████████| 711/711 [01:21<00:00,  8.75it/s]\n"
     ]
    },
    {
     "name": "stdout",
     "output_type": "stream",
     "text": [
      "Train Accuracy: 0.6154, Val Accuracy: 0.5699, Test Accuracy: 0.5102\n",
      "Train loss: 1.3349\n",
      "\n",
      " Epoch 87 training:\n"
     ]
    },
    {
     "name": "stderr",
     "output_type": "stream",
     "text": [
      "100%|██████████| 711/711 [01:21<00:00,  8.71it/s]\n"
     ]
    },
    {
     "name": "stdout",
     "output_type": "stream",
     "text": [
      "Train Accuracy: 0.6166, Val Accuracy: 0.5687, Test Accuracy: 0.5092\n",
      "Train loss: 1.3347\n",
      "\n",
      " Epoch 88 training:\n"
     ]
    },
    {
     "name": "stderr",
     "output_type": "stream",
     "text": [
      "100%|██████████| 711/711 [01:21<00:00,  8.74it/s]\n"
     ]
    },
    {
     "name": "stdout",
     "output_type": "stream",
     "text": [
      "Train Accuracy: 0.6079, Val Accuracy: 0.5632, Test Accuracy: 0.5041\n",
      "Train loss: 1.3284\n",
      "\n",
      " Epoch 89 training:\n"
     ]
    },
    {
     "name": "stderr",
     "output_type": "stream",
     "text": [
      "100%|██████████| 711/711 [01:21<00:00,  8.70it/s]\n"
     ]
    },
    {
     "name": "stdout",
     "output_type": "stream",
     "text": [
      "Train Accuracy: 0.6097, Val Accuracy: 0.5669, Test Accuracy: 0.5064\n",
      "Train loss: 1.3241\n",
      "\n",
      " Epoch 90 training:\n"
     ]
    },
    {
     "name": "stderr",
     "output_type": "stream",
     "text": [
      "100%|██████████| 711/711 [01:20<00:00,  8.79it/s]\n"
     ]
    },
    {
     "name": "stdout",
     "output_type": "stream",
     "text": [
      "Train Accuracy: 0.6194, Val Accuracy: 0.5686, Test Accuracy: 0.5093\n",
      "Train loss: 1.3207\n",
      "\n",
      " Epoch 91 training:\n"
     ]
    },
    {
     "name": "stderr",
     "output_type": "stream",
     "text": [
      "100%|██████████| 711/711 [01:22<00:00,  8.66it/s]\n"
     ]
    },
    {
     "name": "stdout",
     "output_type": "stream",
     "text": [
      "Train Accuracy: 0.6071, Val Accuracy: 0.5611, Test Accuracy: 0.5025\n",
      "Train loss: 1.3289\n",
      "\n",
      " Epoch 92 training:\n"
     ]
    },
    {
     "name": "stderr",
     "output_type": "stream",
     "text": [
      "100%|██████████| 711/711 [01:20<00:00,  8.82it/s]\n"
     ]
    },
    {
     "name": "stdout",
     "output_type": "stream",
     "text": [
      "Train Accuracy: 0.6263, Val Accuracy: 0.5767, Test Accuracy: 0.5151\n",
      "Train loss: 1.3210\n",
      "\n",
      " Epoch 93 training:\n"
     ]
    },
    {
     "name": "stderr",
     "output_type": "stream",
     "text": [
      "100%|██████████| 711/711 [01:20<00:00,  8.79it/s]\n"
     ]
    },
    {
     "name": "stdout",
     "output_type": "stream",
     "text": [
      "Train Accuracy: 0.6174, Val Accuracy: 0.5672, Test Accuracy: 0.5078\n",
      "Train loss: 1.3235\n",
      "\n",
      " Epoch 94 training:\n"
     ]
    },
    {
     "name": "stderr",
     "output_type": "stream",
     "text": [
      "100%|██████████| 711/711 [01:21<00:00,  8.74it/s]\n"
     ]
    },
    {
     "name": "stdout",
     "output_type": "stream",
     "text": [
      "Train Accuracy: 0.6127, Val Accuracy: 0.5672, Test Accuracy: 0.5077\n",
      "Train loss: 1.3216\n",
      "\n",
      " Epoch 95 training:\n"
     ]
    },
    {
     "name": "stderr",
     "output_type": "stream",
     "text": [
      "100%|██████████| 711/711 [01:20<00:00,  8.80it/s]\n"
     ]
    },
    {
     "name": "stdout",
     "output_type": "stream",
     "text": [
      "Train Accuracy: 0.6262, Val Accuracy: 0.5735, Test Accuracy: 0.5100\n",
      "Train loss: 1.3154\n",
      "\n",
      " Epoch 96 training:\n"
     ]
    },
    {
     "name": "stderr",
     "output_type": "stream",
     "text": [
      "100%|██████████| 711/711 [01:21<00:00,  8.70it/s]\n"
     ]
    },
    {
     "name": "stdout",
     "output_type": "stream",
     "text": [
      "Train Accuracy: 0.6200, Val Accuracy: 0.5686, Test Accuracy: 0.5065\n",
      "Train loss: 1.3124\n",
      "\n",
      " Epoch 97 training:\n"
     ]
    },
    {
     "name": "stderr",
     "output_type": "stream",
     "text": [
      "100%|██████████| 711/711 [01:20<00:00,  8.88it/s]\n"
     ]
    },
    {
     "name": "stdout",
     "output_type": "stream",
     "text": [
      "Train Accuracy: 0.6218, Val Accuracy: 0.5737, Test Accuracy: 0.5140\n",
      "Train loss: 1.3078\n",
      "\n",
      " Epoch 98 training:\n"
     ]
    },
    {
     "name": "stderr",
     "output_type": "stream",
     "text": [
      "100%|██████████| 711/711 [01:20<00:00,  8.83it/s]\n"
     ]
    },
    {
     "name": "stdout",
     "output_type": "stream",
     "text": [
      "Train Accuracy: 0.6197, Val Accuracy: 0.5713, Test Accuracy: 0.5072\n",
      "Train loss: 1.3122\n",
      "\n",
      " Epoch 99 training:\n"
     ]
    },
    {
     "name": "stderr",
     "output_type": "stream",
     "text": [
      "100%|██████████| 711/711 [01:20<00:00,  8.78it/s]\n"
     ]
    },
    {
     "name": "stdout",
     "output_type": "stream",
     "text": [
      "Train Accuracy: 0.6261, Val Accuracy: 0.5751, Test Accuracy: 0.5136\n",
      "Train loss: 1.3171\n",
      "\n",
      " Epoch 100 training:\n"
     ]
    },
    {
     "name": "stderr",
     "output_type": "stream",
     "text": [
      "100%|██████████| 711/711 [01:19<00:00,  8.99it/s]\n"
     ]
    },
    {
     "name": "stdout",
     "output_type": "stream",
     "text": [
      "Train Accuracy: 0.6078, Val Accuracy: 0.5622, Test Accuracy: 0.5074\n",
      "Train loss: 1.3045\n",
      "\n",
      " Epoch 101 training:\n"
     ]
    },
    {
     "name": "stderr",
     "output_type": "stream",
     "text": [
      "100%|██████████| 711/711 [01:21<00:00,  8.74it/s]\n"
     ]
    },
    {
     "name": "stdout",
     "output_type": "stream",
     "text": [
      "Train Accuracy: 0.6266, Val Accuracy: 0.5720, Test Accuracy: 0.5100\n",
      "Train loss: 1.3066\n",
      "\n",
      " Epoch 102 training:\n"
     ]
    },
    {
     "name": "stderr",
     "output_type": "stream",
     "text": [
      "100%|██████████| 711/711 [01:21<00:00,  8.73it/s]\n"
     ]
    },
    {
     "name": "stdout",
     "output_type": "stream",
     "text": [
      "Train Accuracy: 0.6282, Val Accuracy: 0.5790, Test Accuracy: 0.5187\n",
      "Train loss: 1.3168\n",
      "\n",
      " Epoch 103 training:\n"
     ]
    },
    {
     "name": "stderr",
     "output_type": "stream",
     "text": [
      "100%|██████████| 711/711 [01:20<00:00,  8.78it/s]\n"
     ]
    },
    {
     "name": "stdout",
     "output_type": "stream",
     "text": [
      "Train Accuracy: 0.6255, Val Accuracy: 0.5764, Test Accuracy: 0.5150\n",
      "Train loss: 1.3096\n",
      "\n",
      " Epoch 104 training:\n"
     ]
    },
    {
     "name": "stderr",
     "output_type": "stream",
     "text": [
      "100%|██████████| 711/711 [01:20<00:00,  8.79it/s]\n"
     ]
    },
    {
     "name": "stdout",
     "output_type": "stream",
     "text": [
      "Train Accuracy: 0.6256, Val Accuracy: 0.5731, Test Accuracy: 0.5113\n",
      "Train loss: 1.3021\n",
      "\n",
      " Epoch 105 training:\n"
     ]
    },
    {
     "name": "stderr",
     "output_type": "stream",
     "text": [
      "100%|██████████| 711/711 [01:21<00:00,  8.67it/s]\n"
     ]
    },
    {
     "name": "stdout",
     "output_type": "stream",
     "text": [
      "Train Accuracy: 0.6222, Val Accuracy: 0.5706, Test Accuracy: 0.5102\n",
      "Train loss: 1.3210\n",
      "\n",
      " Epoch 106 training:\n"
     ]
    },
    {
     "name": "stderr",
     "output_type": "stream",
     "text": [
      "100%|██████████| 711/711 [01:20<00:00,  8.86it/s]\n"
     ]
    },
    {
     "name": "stdout",
     "output_type": "stream",
     "text": [
      "Train Accuracy: 0.6296, Val Accuracy: 0.5756, Test Accuracy: 0.5115\n",
      "Train loss: 1.3031\n",
      "\n",
      " Epoch 107 training:\n"
     ]
    },
    {
     "name": "stderr",
     "output_type": "stream",
     "text": [
      "100%|██████████| 711/711 [01:19<00:00,  8.90it/s]\n"
     ]
    },
    {
     "name": "stdout",
     "output_type": "stream",
     "text": [
      "Train Accuracy: 0.6182, Val Accuracy: 0.5669, Test Accuracy: 0.5106\n",
      "Train loss: 1.2970\n",
      "\n",
      " Epoch 108 training:\n"
     ]
    },
    {
     "name": "stderr",
     "output_type": "stream",
     "text": [
      "100%|██████████| 711/711 [01:22<00:00,  8.65it/s]\n"
     ]
    },
    {
     "name": "stdout",
     "output_type": "stream",
     "text": [
      "Train Accuracy: 0.6251, Val Accuracy: 0.5751, Test Accuracy: 0.5162\n",
      "Train loss: 1.3138\n",
      "\n",
      " Epoch 109 training:\n"
     ]
    },
    {
     "name": "stderr",
     "output_type": "stream",
     "text": [
      "100%|██████████| 711/711 [01:21<00:00,  8.76it/s]\n"
     ]
    },
    {
     "name": "stdout",
     "output_type": "stream",
     "text": [
      "Train Accuracy: 0.6244, Val Accuracy: 0.5729, Test Accuracy: 0.5116\n",
      "Train loss: 1.3115\n",
      "\n",
      " Epoch 110 training:\n"
     ]
    },
    {
     "name": "stderr",
     "output_type": "stream",
     "text": [
      "100%|██████████| 711/711 [01:20<00:00,  8.86it/s]\n"
     ]
    },
    {
     "name": "stdout",
     "output_type": "stream",
     "text": [
      "Train Accuracy: 0.6225, Val Accuracy: 0.5718, Test Accuracy: 0.5129\n",
      "Train loss: 1.3060\n",
      "\n",
      " Epoch 111 training:\n"
     ]
    },
    {
     "name": "stderr",
     "output_type": "stream",
     "text": [
      "100%|██████████| 711/711 [01:20<00:00,  8.80it/s]\n"
     ]
    },
    {
     "name": "stdout",
     "output_type": "stream",
     "text": [
      "New best model validation accuracy: 0.57952. Previous: 0.57935\n",
      "Train Accuracy: 0.6240, Val Accuracy: 0.5795, Test Accuracy: 0.5187\n",
      "Train loss: 1.3047\n",
      "\n",
      " Epoch 112 training:\n"
     ]
    },
    {
     "name": "stderr",
     "output_type": "stream",
     "text": [
      "100%|██████████| 711/711 [01:20<00:00,  8.83it/s]\n"
     ]
    },
    {
     "name": "stdout",
     "output_type": "stream",
     "text": [
      "Train Accuracy: 0.6173, Val Accuracy: 0.5716, Test Accuracy: 0.5130\n",
      "Train loss: 1.2944\n",
      "\n",
      " Epoch 113 training:\n"
     ]
    },
    {
     "name": "stderr",
     "output_type": "stream",
     "text": [
      "100%|██████████| 711/711 [01:21<00:00,  8.77it/s]\n"
     ]
    },
    {
     "name": "stdout",
     "output_type": "stream",
     "text": [
      "Train Accuracy: 0.6089, Val Accuracy: 0.5641, Test Accuracy: 0.5070\n",
      "Train loss: 1.3009\n",
      "\n",
      " Epoch 114 training:\n"
     ]
    },
    {
     "name": "stderr",
     "output_type": "stream",
     "text": [
      "100%|██████████| 711/711 [01:21<00:00,  8.74it/s]\n"
     ]
    },
    {
     "name": "stdout",
     "output_type": "stream",
     "text": [
      "Train Accuracy: 0.6263, Val Accuracy: 0.5766, Test Accuracy: 0.5171\n",
      "Train loss: 1.3069\n",
      "\n",
      " Epoch 115 training:\n"
     ]
    },
    {
     "name": "stderr",
     "output_type": "stream",
     "text": [
      "100%|██████████| 711/711 [01:21<00:00,  8.69it/s]\n"
     ]
    },
    {
     "name": "stdout",
     "output_type": "stream",
     "text": [
      "Train Accuracy: 0.6171, Val Accuracy: 0.5702, Test Accuracy: 0.5135\n",
      "Train loss: 1.2957\n",
      "\n",
      " Epoch 116 training:\n"
     ]
    },
    {
     "name": "stderr",
     "output_type": "stream",
     "text": [
      "100%|██████████| 711/711 [01:20<00:00,  8.79it/s]\n"
     ]
    },
    {
     "name": "stdout",
     "output_type": "stream",
     "text": [
      "Train Accuracy: 0.6200, Val Accuracy: 0.5707, Test Accuracy: 0.5107\n",
      "Train loss: 1.2949\n",
      "\n",
      " Epoch 117 training:\n"
     ]
    },
    {
     "name": "stderr",
     "output_type": "stream",
     "text": [
      "100%|██████████| 711/711 [01:21<00:00,  8.70it/s]\n"
     ]
    },
    {
     "name": "stdout",
     "output_type": "stream",
     "text": [
      "Train Accuracy: 0.6229, Val Accuracy: 0.5750, Test Accuracy: 0.5170\n",
      "Train loss: 1.3044\n",
      "\n",
      " Epoch 118 training:\n"
     ]
    },
    {
     "name": "stderr",
     "output_type": "stream",
     "text": [
      "100%|██████████| 711/711 [01:21<00:00,  8.76it/s]\n"
     ]
    },
    {
     "name": "stdout",
     "output_type": "stream",
     "text": [
      "New best model validation accuracy: 0.58338. Previous: 0.57952\n",
      "Train Accuracy: 0.6368, Val Accuracy: 0.5834, Test Accuracy: 0.5208\n",
      "Train loss: 1.2976\n",
      "\n",
      " Epoch 119 training:\n"
     ]
    },
    {
     "name": "stderr",
     "output_type": "stream",
     "text": [
      "100%|██████████| 711/711 [01:19<00:00,  8.92it/s]\n"
     ]
    },
    {
     "name": "stdout",
     "output_type": "stream",
     "text": [
      "Train Accuracy: 0.6280, Val Accuracy: 0.5801, Test Accuracy: 0.5201\n",
      "Train loss: 1.2898\n",
      "\n",
      " Epoch 120 training:\n"
     ]
    },
    {
     "name": "stderr",
     "output_type": "stream",
     "text": [
      "100%|██████████| 711/711 [01:21<00:00,  8.76it/s]\n"
     ]
    },
    {
     "name": "stdout",
     "output_type": "stream",
     "text": [
      "Train Accuracy: 0.6249, Val Accuracy: 0.5718, Test Accuracy: 0.5123\n",
      "Train loss: 1.2923\n",
      "\n",
      " Epoch 121 training:\n"
     ]
    },
    {
     "name": "stderr",
     "output_type": "stream",
     "text": [
      "100%|██████████| 711/711 [01:20<00:00,  8.79it/s]\n"
     ]
    },
    {
     "name": "stdout",
     "output_type": "stream",
     "text": [
      "Train Accuracy: 0.6275, Val Accuracy: 0.5755, Test Accuracy: 0.5156\n",
      "Train loss: 1.2918\n",
      "\n",
      " Epoch 122 training:\n"
     ]
    },
    {
     "name": "stderr",
     "output_type": "stream",
     "text": [
      "100%|██████████| 711/711 [01:21<00:00,  8.73it/s]\n"
     ]
    },
    {
     "name": "stdout",
     "output_type": "stream",
     "text": [
      "Train Accuracy: 0.6184, Val Accuracy: 0.5696, Test Accuracy: 0.5126\n",
      "Train loss: 1.3016\n",
      "\n",
      " Epoch 123 training:\n"
     ]
    },
    {
     "name": "stderr",
     "output_type": "stream",
     "text": [
      "100%|██████████| 711/711 [01:20<00:00,  8.82it/s]\n"
     ]
    },
    {
     "name": "stdout",
     "output_type": "stream",
     "text": [
      "Train Accuracy: 0.6241, Val Accuracy: 0.5782, Test Accuracy: 0.5156\n",
      "Train loss: 1.2866\n",
      "\n",
      " Epoch 124 training:\n"
     ]
    },
    {
     "name": "stderr",
     "output_type": "stream",
     "text": [
      "100%|██████████| 711/711 [01:20<00:00,  8.83it/s]\n"
     ]
    },
    {
     "name": "stdout",
     "output_type": "stream",
     "text": [
      "Train Accuracy: 0.6309, Val Accuracy: 0.5755, Test Accuracy: 0.5125\n",
      "Train loss: 1.2964\n",
      "\n",
      " Epoch 125 training:\n"
     ]
    },
    {
     "name": "stderr",
     "output_type": "stream",
     "text": [
      "100%|██████████| 711/711 [01:20<00:00,  8.89it/s]\n"
     ]
    },
    {
     "name": "stdout",
     "output_type": "stream",
     "text": [
      "Train Accuracy: 0.6199, Val Accuracy: 0.5722, Test Accuracy: 0.5154\n",
      "Train loss: 1.2843\n",
      "\n",
      " Epoch 126 training:\n"
     ]
    },
    {
     "name": "stderr",
     "output_type": "stream",
     "text": [
      "100%|██████████| 711/711 [01:19<00:00,  8.91it/s]\n"
     ]
    },
    {
     "name": "stdout",
     "output_type": "stream",
     "text": [
      "Train Accuracy: 0.6310, Val Accuracy: 0.5801, Test Accuracy: 0.5160\n",
      "Train loss: 1.2849\n",
      "\n",
      " Epoch 127 training:\n"
     ]
    },
    {
     "name": "stderr",
     "output_type": "stream",
     "text": [
      "100%|██████████| 711/711 [01:21<00:00,  8.67it/s]\n"
     ]
    },
    {
     "name": "stdout",
     "output_type": "stream",
     "text": [
      "Train Accuracy: 0.6340, Val Accuracy: 0.5791, Test Accuracy: 0.5138\n",
      "Train loss: 1.2983\n",
      "\n",
      " Epoch 128 training:\n"
     ]
    },
    {
     "name": "stderr",
     "output_type": "stream",
     "text": [
      "100%|██████████| 711/711 [01:19<00:00,  8.93it/s]\n"
     ]
    },
    {
     "name": "stdout",
     "output_type": "stream",
     "text": [
      "Train Accuracy: 0.6339, Val Accuracy: 0.5759, Test Accuracy: 0.5156\n",
      "Train loss: 1.2800\n",
      "\n",
      " Epoch 129 training:\n"
     ]
    },
    {
     "name": "stderr",
     "output_type": "stream",
     "text": [
      "100%|██████████| 711/711 [01:21<00:00,  8.73it/s]\n"
     ]
    },
    {
     "name": "stdout",
     "output_type": "stream",
     "text": [
      "Train Accuracy: 0.6271, Val Accuracy: 0.5712, Test Accuracy: 0.5057\n",
      "Train loss: 1.2980\n",
      "\n",
      " Epoch 130 training:\n"
     ]
    },
    {
     "name": "stderr",
     "output_type": "stream",
     "text": [
      "100%|██████████| 711/711 [01:20<00:00,  8.81it/s]\n"
     ]
    },
    {
     "name": "stdout",
     "output_type": "stream",
     "text": [
      "Train Accuracy: 0.6215, Val Accuracy: 0.5721, Test Accuracy: 0.5128\n",
      "Train loss: 1.2868\n",
      "\n",
      " Epoch 131 training:\n"
     ]
    },
    {
     "name": "stderr",
     "output_type": "stream",
     "text": [
      "100%|██████████| 711/711 [01:21<00:00,  8.77it/s]\n"
     ]
    },
    {
     "name": "stdout",
     "output_type": "stream",
     "text": [
      "Train Accuracy: 0.6366, Val Accuracy: 0.5832, Test Accuracy: 0.5182\n",
      "Train loss: 1.2844\n",
      "\n",
      " Epoch 132 training:\n"
     ]
    },
    {
     "name": "stderr",
     "output_type": "stream",
     "text": [
      "100%|██████████| 711/711 [01:21<00:00,  8.74it/s]\n"
     ]
    },
    {
     "name": "stdout",
     "output_type": "stream",
     "text": [
      "Train Accuracy: 0.6310, Val Accuracy: 0.5784, Test Accuracy: 0.5189\n",
      "Train loss: 1.2869\n",
      "\n",
      " Epoch 133 training:\n"
     ]
    },
    {
     "name": "stderr",
     "output_type": "stream",
     "text": [
      "100%|██████████| 711/711 [01:22<00:00,  8.58it/s]\n"
     ]
    },
    {
     "name": "stdout",
     "output_type": "stream",
     "text": [
      "Train Accuracy: 0.6267, Val Accuracy: 0.5736, Test Accuracy: 0.5103\n",
      "Train loss: 1.3003\n",
      "\n",
      " Epoch 134 training:\n"
     ]
    },
    {
     "name": "stderr",
     "output_type": "stream",
     "text": [
      "100%|██████████| 711/711 [01:21<00:00,  8.76it/s]\n"
     ]
    },
    {
     "name": "stdout",
     "output_type": "stream",
     "text": [
      "Train Accuracy: 0.6320, Val Accuracy: 0.5717, Test Accuracy: 0.5158\n",
      "Train loss: 1.2819\n",
      "\n",
      " Epoch 135 training:\n"
     ]
    },
    {
     "name": "stderr",
     "output_type": "stream",
     "text": [
      "100%|██████████| 711/711 [01:21<00:00,  8.75it/s]\n"
     ]
    },
    {
     "name": "stdout",
     "output_type": "stream",
     "text": [
      "Train Accuracy: 0.6386, Val Accuracy: 0.5817, Test Accuracy: 0.5202\n",
      "Train loss: 1.2866\n",
      "\n",
      " Epoch 136 training:\n"
     ]
    },
    {
     "name": "stderr",
     "output_type": "stream",
     "text": [
      "100%|██████████| 711/711 [01:20<00:00,  8.78it/s]\n"
     ]
    },
    {
     "name": "stdout",
     "output_type": "stream",
     "text": [
      "Train Accuracy: 0.6281, Val Accuracy: 0.5721, Test Accuracy: 0.5145\n",
      "Train loss: 1.2850\n",
      "\n",
      " Epoch 137 training:\n"
     ]
    },
    {
     "name": "stderr",
     "output_type": "stream",
     "text": [
      "100%|██████████| 711/711 [01:22<00:00,  8.63it/s]\n"
     ]
    },
    {
     "name": "stdout",
     "output_type": "stream",
     "text": [
      "Train Accuracy: 0.6246, Val Accuracy: 0.5727, Test Accuracy: 0.5143\n",
      "Train loss: 1.2932\n",
      "\n",
      " Epoch 138 training:\n"
     ]
    },
    {
     "name": "stderr",
     "output_type": "stream",
     "text": [
      "100%|██████████| 711/711 [01:20<00:00,  8.81it/s]\n"
     ]
    },
    {
     "name": "stdout",
     "output_type": "stream",
     "text": [
      "Train Accuracy: 0.6316, Val Accuracy: 0.5773, Test Accuracy: 0.5149\n",
      "Train loss: 1.2748\n",
      "\n",
      " Epoch 139 training:\n"
     ]
    },
    {
     "name": "stderr",
     "output_type": "stream",
     "text": [
      "100%|██████████| 711/711 [01:20<00:00,  8.81it/s]\n"
     ]
    },
    {
     "name": "stdout",
     "output_type": "stream",
     "text": [
      "Train Accuracy: 0.6350, Val Accuracy: 0.5775, Test Accuracy: 0.5147\n",
      "Train loss: 1.2836\n",
      "\n",
      " Epoch 140 training:\n"
     ]
    },
    {
     "name": "stderr",
     "output_type": "stream",
     "text": [
      "100%|██████████| 711/711 [01:20<00:00,  8.84it/s]\n"
     ]
    },
    {
     "name": "stdout",
     "output_type": "stream",
     "text": [
      "Train Accuracy: 0.6344, Val Accuracy: 0.5823, Test Accuracy: 0.5188\n",
      "Train loss: 1.2796\n",
      "\n",
      " Epoch 141 training:\n"
     ]
    },
    {
     "name": "stderr",
     "output_type": "stream",
     "text": [
      "100%|██████████| 711/711 [01:19<00:00,  8.89it/s]\n"
     ]
    },
    {
     "name": "stdout",
     "output_type": "stream",
     "text": [
      "Train Accuracy: 0.6186, Val Accuracy: 0.5681, Test Accuracy: 0.5084\n",
      "Train loss: 1.2716\n",
      "\n",
      " Epoch 142 training:\n"
     ]
    },
    {
     "name": "stderr",
     "output_type": "stream",
     "text": [
      "100%|██████████| 711/711 [01:22<00:00,  8.65it/s]\n"
     ]
    },
    {
     "name": "stdout",
     "output_type": "stream",
     "text": [
      "Train Accuracy: 0.6242, Val Accuracy: 0.5696, Test Accuracy: 0.5076\n",
      "Train loss: 1.2878\n",
      "\n",
      " Epoch 143 training:\n"
     ]
    },
    {
     "name": "stderr",
     "output_type": "stream",
     "text": [
      "100%|██████████| 711/711 [01:21<00:00,  8.73it/s]\n"
     ]
    },
    {
     "name": "stdout",
     "output_type": "stream",
     "text": [
      "Train Accuracy: 0.6232, Val Accuracy: 0.5689, Test Accuracy: 0.5049\n",
      "Train loss: 1.2826\n",
      "\n",
      " Epoch 144 training:\n"
     ]
    },
    {
     "name": "stderr",
     "output_type": "stream",
     "text": [
      "100%|██████████| 711/711 [01:20<00:00,  8.83it/s]\n"
     ]
    },
    {
     "name": "stdout",
     "output_type": "stream",
     "text": [
      "New best model validation accuracy: 0.58703. Previous: 0.58338\n",
      "Train Accuracy: 0.6419, Val Accuracy: 0.5870, Test Accuracy: 0.5229\n",
      "Train loss: 1.2779\n",
      "\n",
      " Epoch 145 training:\n"
     ]
    },
    {
     "name": "stderr",
     "output_type": "stream",
     "text": [
      "100%|██████████| 711/711 [01:20<00:00,  8.86it/s]\n"
     ]
    },
    {
     "name": "stdout",
     "output_type": "stream",
     "text": [
      "Train Accuracy: 0.6225, Val Accuracy: 0.5750, Test Accuracy: 0.5107\n",
      "Train loss: 1.2774\n",
      "\n",
      " Epoch 146 training:\n"
     ]
    },
    {
     "name": "stderr",
     "output_type": "stream",
     "text": [
      "100%|██████████| 711/711 [01:19<00:00,  8.90it/s]\n"
     ]
    },
    {
     "name": "stdout",
     "output_type": "stream",
     "text": [
      "Train Accuracy: 0.6219, Val Accuracy: 0.5718, Test Accuracy: 0.5099\n",
      "Train loss: 1.2727\n",
      "\n",
      " Epoch 147 training:\n"
     ]
    },
    {
     "name": "stderr",
     "output_type": "stream",
     "text": [
      "100%|██████████| 711/711 [01:20<00:00,  8.82it/s]\n"
     ]
    },
    {
     "name": "stdout",
     "output_type": "stream",
     "text": [
      "Train Accuracy: 0.6266, Val Accuracy: 0.5764, Test Accuracy: 0.5132\n",
      "Train loss: 1.2750\n",
      "\n",
      " Epoch 148 training:\n"
     ]
    },
    {
     "name": "stderr",
     "output_type": "stream",
     "text": [
      "100%|██████████| 711/711 [01:20<00:00,  8.78it/s]\n"
     ]
    },
    {
     "name": "stdout",
     "output_type": "stream",
     "text": [
      "Train Accuracy: 0.6393, Val Accuracy: 0.5869, Test Accuracy: 0.5214\n",
      "Train loss: 1.2762\n",
      "\n",
      " Epoch 149 training:\n"
     ]
    },
    {
     "name": "stderr",
     "output_type": "stream",
     "text": [
      "100%|██████████| 711/711 [01:20<00:00,  8.87it/s]\n"
     ]
    },
    {
     "name": "stdout",
     "output_type": "stream",
     "text": [
      "Train Accuracy: 0.6395, Val Accuracy: 0.5858, Test Accuracy: 0.5186\n",
      "Train loss: 1.2667\n",
      "\n",
      " Epoch 150 training:\n"
     ]
    },
    {
     "name": "stderr",
     "output_type": "stream",
     "text": [
      "100%|██████████| 711/711 [01:20<00:00,  8.81it/s]\n"
     ]
    },
    {
     "name": "stdout",
     "output_type": "stream",
     "text": [
      "Train Accuracy: 0.6312, Val Accuracy: 0.5808, Test Accuracy: 0.5229\n",
      "Train loss: 1.2764\n",
      "\n",
      " Epoch 151 training:\n"
     ]
    },
    {
     "name": "stderr",
     "output_type": "stream",
     "text": [
      "100%|██████████| 711/711 [01:21<00:00,  8.68it/s]\n"
     ]
    },
    {
     "name": "stdout",
     "output_type": "stream",
     "text": [
      "Train Accuracy: 0.6390, Val Accuracy: 0.5831, Test Accuracy: 0.5209\n",
      "Train loss: 1.2833\n",
      "\n",
      " Epoch 152 training:\n"
     ]
    },
    {
     "name": "stderr",
     "output_type": "stream",
     "text": [
      "100%|██████████| 711/711 [01:21<00:00,  8.75it/s]\n"
     ]
    },
    {
     "name": "stdout",
     "output_type": "stream",
     "text": [
      "Train Accuracy: 0.6286, Val Accuracy: 0.5766, Test Accuracy: 0.5185\n",
      "Train loss: 1.2779\n",
      "\n",
      " Epoch 153 training:\n"
     ]
    },
    {
     "name": "stderr",
     "output_type": "stream",
     "text": [
      "100%|██████████| 711/711 [01:21<00:00,  8.74it/s]\n"
     ]
    },
    {
     "name": "stdout",
     "output_type": "stream",
     "text": [
      "Train Accuracy: 0.6328, Val Accuracy: 0.5797, Test Accuracy: 0.5185\n",
      "Train loss: 1.2847\n",
      "\n",
      " Epoch 154 training:\n"
     ]
    },
    {
     "name": "stderr",
     "output_type": "stream",
     "text": [
      "100%|██████████| 711/711 [01:20<00:00,  8.85it/s]\n"
     ]
    },
    {
     "name": "stdout",
     "output_type": "stream",
     "text": [
      "Train Accuracy: 0.6346, Val Accuracy: 0.5810, Test Accuracy: 0.5201\n",
      "Train loss: 1.2670\n",
      "\n",
      " Epoch 155 training:\n"
     ]
    },
    {
     "name": "stderr",
     "output_type": "stream",
     "text": [
      "100%|██████████| 711/711 [01:21<00:00,  8.74it/s]\n"
     ]
    },
    {
     "name": "stdout",
     "output_type": "stream",
     "text": [
      "Train Accuracy: 0.6298, Val Accuracy: 0.5755, Test Accuracy: 0.5146\n",
      "Train loss: 1.2795\n",
      "\n",
      " Epoch 156 training:\n"
     ]
    },
    {
     "name": "stderr",
     "output_type": "stream",
     "text": [
      "100%|██████████| 711/711 [01:22<00:00,  8.61it/s]\n"
     ]
    },
    {
     "name": "stdout",
     "output_type": "stream",
     "text": [
      "Train Accuracy: 0.6316, Val Accuracy: 0.5759, Test Accuracy: 0.5106\n",
      "Train loss: 1.2751\n",
      "\n",
      " Epoch 157 training:\n"
     ]
    },
    {
     "name": "stderr",
     "output_type": "stream",
     "text": [
      "100%|██████████| 711/711 [01:21<00:00,  8.75it/s]\n"
     ]
    },
    {
     "name": "stdout",
     "output_type": "stream",
     "text": [
      "Train Accuracy: 0.6230, Val Accuracy: 0.5701, Test Accuracy: 0.5103\n",
      "Train loss: 1.2718\n",
      "\n",
      " Epoch 158 training:\n"
     ]
    },
    {
     "name": "stderr",
     "output_type": "stream",
     "text": [
      "100%|██████████| 711/711 [01:20<00:00,  8.88it/s]\n"
     ]
    },
    {
     "name": "stdout",
     "output_type": "stream",
     "text": [
      "Train Accuracy: 0.6374, Val Accuracy: 0.5800, Test Accuracy: 0.5147\n",
      "Train loss: 1.2624\n",
      "\n",
      " Epoch 159 training:\n"
     ]
    },
    {
     "name": "stderr",
     "output_type": "stream",
     "text": [
      "100%|██████████| 711/711 [01:21<00:00,  8.69it/s]\n"
     ]
    },
    {
     "name": "stdout",
     "output_type": "stream",
     "text": [
      "Train Accuracy: 0.6315, Val Accuracy: 0.5762, Test Accuracy: 0.5098\n",
      "Train loss: 1.2788\n",
      "\n",
      " Epoch 160 training:\n"
     ]
    },
    {
     "name": "stderr",
     "output_type": "stream",
     "text": [
      "100%|██████████| 711/711 [01:21<00:00,  8.75it/s]\n"
     ]
    },
    {
     "name": "stdout",
     "output_type": "stream",
     "text": [
      "Train Accuracy: 0.6333, Val Accuracy: 0.5774, Test Accuracy: 0.5140\n",
      "Train loss: 1.2770\n",
      "\n",
      " Epoch 161 training:\n"
     ]
    },
    {
     "name": "stderr",
     "output_type": "stream",
     "text": [
      "100%|██████████| 711/711 [01:21<00:00,  8.72it/s]\n"
     ]
    },
    {
     "name": "stdout",
     "output_type": "stream",
     "text": [
      "Train Accuracy: 0.6280, Val Accuracy: 0.5752, Test Accuracy: 0.5151\n",
      "Train loss: 1.2700\n",
      "\n",
      " Epoch 162 training:\n"
     ]
    },
    {
     "name": "stderr",
     "output_type": "stream",
     "text": [
      "100%|██████████| 711/711 [01:21<00:00,  8.74it/s]\n"
     ]
    },
    {
     "name": "stdout",
     "output_type": "stream",
     "text": [
      "Train Accuracy: 0.6372, Val Accuracy: 0.5811, Test Accuracy: 0.5160\n",
      "Train loss: 1.2632\n",
      "\n",
      " Epoch 163 training:\n"
     ]
    },
    {
     "name": "stderr",
     "output_type": "stream",
     "text": [
      "100%|██████████| 711/711 [01:21<00:00,  8.68it/s]\n"
     ]
    },
    {
     "name": "stdout",
     "output_type": "stream",
     "text": [
      "Train Accuracy: 0.6278, Val Accuracy: 0.5769, Test Accuracy: 0.5179\n",
      "Train loss: 1.2824\n",
      "\n",
      " Epoch 164 training:\n"
     ]
    },
    {
     "name": "stderr",
     "output_type": "stream",
     "text": [
      "100%|██████████| 711/711 [01:20<00:00,  8.88it/s]\n"
     ]
    },
    {
     "name": "stdout",
     "output_type": "stream",
     "text": [
      "Train Accuracy: 0.6304, Val Accuracy: 0.5758, Test Accuracy: 0.5124\n",
      "Train loss: 1.2571\n",
      "\n",
      " Epoch 165 training:\n"
     ]
    },
    {
     "name": "stderr",
     "output_type": "stream",
     "text": [
      "100%|██████████| 711/711 [01:19<00:00,  8.96it/s]\n"
     ]
    },
    {
     "name": "stdout",
     "output_type": "stream",
     "text": [
      "Train Accuracy: 0.6270, Val Accuracy: 0.5706, Test Accuracy: 0.5050\n",
      "Train loss: 1.2568\n",
      "\n",
      " Epoch 166 training:\n"
     ]
    },
    {
     "name": "stderr",
     "output_type": "stream",
     "text": [
      "100%|██████████| 711/711 [01:22<00:00,  8.58it/s]\n"
     ]
    },
    {
     "name": "stdout",
     "output_type": "stream",
     "text": [
      "Train Accuracy: 0.6248, Val Accuracy: 0.5685, Test Accuracy: 0.5063\n",
      "Train loss: 1.2869\n",
      "\n",
      " Epoch 167 training:\n"
     ]
    },
    {
     "name": "stderr",
     "output_type": "stream",
     "text": [
      "100%|██████████| 711/711 [01:20<00:00,  8.86it/s]\n"
     ]
    },
    {
     "name": "stdout",
     "output_type": "stream",
     "text": [
      "Train Accuracy: 0.6257, Val Accuracy: 0.5741, Test Accuracy: 0.5128\n",
      "Train loss: 1.2635\n",
      "\n",
      " Epoch 168 training:\n"
     ]
    },
    {
     "name": "stderr",
     "output_type": "stream",
     "text": [
      "100%|██████████| 711/711 [01:21<00:00,  8.68it/s]\n"
     ]
    },
    {
     "name": "stdout",
     "output_type": "stream",
     "text": [
      "Train Accuracy: 0.6352, Val Accuracy: 0.5814, Test Accuracy: 0.5179\n",
      "Train loss: 1.2842\n",
      "\n",
      " Epoch 169 training:\n"
     ]
    },
    {
     "name": "stderr",
     "output_type": "stream",
     "text": [
      "100%|██████████| 711/711 [01:20<00:00,  8.80it/s]\n"
     ]
    },
    {
     "name": "stdout",
     "output_type": "stream",
     "text": [
      "Train Accuracy: 0.6331, Val Accuracy: 0.5804, Test Accuracy: 0.5190\n",
      "Train loss: 1.2706\n",
      "\n",
      " Epoch 170 training:\n"
     ]
    },
    {
     "name": "stderr",
     "output_type": "stream",
     "text": [
      "100%|██████████| 711/711 [01:20<00:00,  8.89it/s]\n"
     ]
    },
    {
     "name": "stdout",
     "output_type": "stream",
     "text": [
      "Train Accuracy: 0.6334, Val Accuracy: 0.5795, Test Accuracy: 0.5206\n",
      "Train loss: 1.2543\n",
      "\n",
      " Epoch 171 training:\n"
     ]
    },
    {
     "name": "stderr",
     "output_type": "stream",
     "text": [
      "100%|██████████| 711/711 [01:20<00:00,  8.86it/s]\n"
     ]
    },
    {
     "name": "stdout",
     "output_type": "stream",
     "text": [
      "Train Accuracy: 0.6160, Val Accuracy: 0.5654, Test Accuracy: 0.5094\n",
      "Train loss: 1.2605\n",
      "\n",
      " Epoch 172 training:\n"
     ]
    },
    {
     "name": "stderr",
     "output_type": "stream",
     "text": [
      "100%|██████████| 711/711 [01:20<00:00,  8.83it/s]\n"
     ]
    },
    {
     "name": "stdout",
     "output_type": "stream",
     "text": [
      "Train Accuracy: 0.6251, Val Accuracy: 0.5689, Test Accuracy: 0.5099\n",
      "Train loss: 1.2669\n",
      "\n",
      " Epoch 173 training:\n"
     ]
    },
    {
     "name": "stderr",
     "output_type": "stream",
     "text": [
      "100%|██████████| 711/711 [01:20<00:00,  8.80it/s]\n"
     ]
    },
    {
     "name": "stdout",
     "output_type": "stream",
     "text": [
      "Train Accuracy: 0.6376, Val Accuracy: 0.5771, Test Accuracy: 0.5124\n",
      "Train loss: 1.2624\n",
      "\n",
      " Epoch 174 training:\n"
     ]
    },
    {
     "name": "stderr",
     "output_type": "stream",
     "text": [
      "100%|██████████| 711/711 [01:21<00:00,  8.74it/s]\n"
     ]
    },
    {
     "name": "stdout",
     "output_type": "stream",
     "text": [
      "Train Accuracy: 0.6338, Val Accuracy: 0.5756, Test Accuracy: 0.5164\n",
      "Train loss: 1.2683\n",
      "\n",
      " Epoch 175 training:\n"
     ]
    },
    {
     "name": "stderr",
     "output_type": "stream",
     "text": [
      "100%|██████████| 711/711 [01:21<00:00,  8.70it/s]\n"
     ]
    },
    {
     "name": "stdout",
     "output_type": "stream",
     "text": [
      "Train Accuracy: 0.6266, Val Accuracy: 0.5704, Test Accuracy: 0.5106\n",
      "Train loss: 1.2724\n",
      "\n",
      " Epoch 176 training:\n"
     ]
    },
    {
     "name": "stderr",
     "output_type": "stream",
     "text": [
      "100%|██████████| 711/711 [01:19<00:00,  8.93it/s]\n"
     ]
    },
    {
     "name": "stdout",
     "output_type": "stream",
     "text": [
      "Train Accuracy: 0.6328, Val Accuracy: 0.5751, Test Accuracy: 0.5148\n",
      "Train loss: 1.2556\n",
      "\n",
      " Epoch 177 training:\n"
     ]
    },
    {
     "name": "stderr",
     "output_type": "stream",
     "text": [
      "100%|██████████| 711/711 [01:20<00:00,  8.87it/s]\n"
     ]
    },
    {
     "name": "stdout",
     "output_type": "stream",
     "text": [
      "Train Accuracy: 0.6420, Val Accuracy: 0.5799, Test Accuracy: 0.5186\n",
      "Train loss: 1.2571\n",
      "\n",
      " Epoch 178 training:\n"
     ]
    },
    {
     "name": "stderr",
     "output_type": "stream",
     "text": [
      "100%|██████████| 711/711 [01:20<00:00,  8.82it/s]\n"
     ]
    },
    {
     "name": "stdout",
     "output_type": "stream",
     "text": [
      "Train Accuracy: 0.6342, Val Accuracy: 0.5757, Test Accuracy: 0.5155\n",
      "Train loss: 1.2654\n",
      "\n",
      " Epoch 179 training:\n"
     ]
    },
    {
     "name": "stderr",
     "output_type": "stream",
     "text": [
      "100%|██████████| 711/711 [01:18<00:00,  9.00it/s]\n"
     ]
    },
    {
     "name": "stdout",
     "output_type": "stream",
     "text": [
      "Train Accuracy: 0.6377, Val Accuracy: 0.5788, Test Accuracy: 0.5185\n",
      "Train loss: 1.2493\n",
      "\n",
      " Epoch 180 training:\n"
     ]
    },
    {
     "name": "stderr",
     "output_type": "stream",
     "text": [
      "100%|██████████| 711/711 [01:21<00:00,  8.72it/s]\n"
     ]
    },
    {
     "name": "stdout",
     "output_type": "stream",
     "text": [
      "Train Accuracy: 0.6297, Val Accuracy: 0.5740, Test Accuracy: 0.5172\n",
      "Train loss: 1.2678\n",
      "\n",
      " Epoch 181 training:\n"
     ]
    },
    {
     "name": "stderr",
     "output_type": "stream",
     "text": [
      "100%|██████████| 711/711 [01:20<00:00,  8.80it/s]\n"
     ]
    },
    {
     "name": "stdout",
     "output_type": "stream",
     "text": [
      "Train Accuracy: 0.6344, Val Accuracy: 0.5713, Test Accuracy: 0.5147\n",
      "Train loss: 1.2600\n",
      "\n",
      " Epoch 182 training:\n"
     ]
    },
    {
     "name": "stderr",
     "output_type": "stream",
     "text": [
      "100%|██████████| 711/711 [01:21<00:00,  8.73it/s]\n"
     ]
    },
    {
     "name": "stdout",
     "output_type": "stream",
     "text": [
      "Train Accuracy: 0.6366, Val Accuracy: 0.5819, Test Accuracy: 0.5192\n",
      "Train loss: 1.2660\n",
      "\n",
      " Epoch 183 training:\n"
     ]
    },
    {
     "name": "stderr",
     "output_type": "stream",
     "text": [
      "100%|██████████| 711/711 [01:20<00:00,  8.86it/s]\n"
     ]
    },
    {
     "name": "stdout",
     "output_type": "stream",
     "text": [
      "Train Accuracy: 0.6337, Val Accuracy: 0.5753, Test Accuracy: 0.5134\n",
      "Train loss: 1.2516\n",
      "\n",
      " Epoch 184 training:\n"
     ]
    },
    {
     "name": "stderr",
     "output_type": "stream",
     "text": [
      "100%|██████████| 711/711 [01:20<00:00,  8.84it/s]\n"
     ]
    },
    {
     "name": "stdout",
     "output_type": "stream",
     "text": [
      "Train Accuracy: 0.6390, Val Accuracy: 0.5822, Test Accuracy: 0.5209\n",
      "Train loss: 1.2601\n",
      "\n",
      " Epoch 185 training:\n"
     ]
    },
    {
     "name": "stderr",
     "output_type": "stream",
     "text": [
      "100%|██████████| 711/711 [01:19<00:00,  8.98it/s]\n"
     ]
    },
    {
     "name": "stdout",
     "output_type": "stream",
     "text": [
      "Train Accuracy: 0.6349, Val Accuracy: 0.5760, Test Accuracy: 0.5151\n",
      "Train loss: 1.2510\n",
      "\n",
      " Epoch 186 training:\n"
     ]
    },
    {
     "name": "stderr",
     "output_type": "stream",
     "text": [
      "100%|██████████| 711/711 [01:21<00:00,  8.76it/s]\n"
     ]
    },
    {
     "name": "stdout",
     "output_type": "stream",
     "text": [
      "Train Accuracy: 0.6355, Val Accuracy: 0.5774, Test Accuracy: 0.5172\n",
      "Train loss: 1.2596\n",
      "\n",
      " Epoch 187 training:\n"
     ]
    },
    {
     "name": "stderr",
     "output_type": "stream",
     "text": [
      "100%|██████████| 711/711 [01:18<00:00,  9.00it/s]\n"
     ]
    },
    {
     "name": "stdout",
     "output_type": "stream",
     "text": [
      "Train Accuracy: 0.6421, Val Accuracy: 0.5813, Test Accuracy: 0.5208\n",
      "Train loss: 1.2441\n",
      "\n",
      " Epoch 188 training:\n"
     ]
    },
    {
     "name": "stderr",
     "output_type": "stream",
     "text": [
      "100%|██████████| 711/711 [01:19<00:00,  8.96it/s]\n"
     ]
    },
    {
     "name": "stdout",
     "output_type": "stream",
     "text": [
      "Train Accuracy: 0.6414, Val Accuracy: 0.5816, Test Accuracy: 0.5187\n",
      "Train loss: 1.2423\n",
      "\n",
      " Epoch 189 training:\n"
     ]
    },
    {
     "name": "stderr",
     "output_type": "stream",
     "text": [
      "100%|██████████| 711/711 [01:20<00:00,  8.79it/s]\n"
     ]
    },
    {
     "name": "stdout",
     "output_type": "stream",
     "text": [
      "Train Accuracy: 0.6357, Val Accuracy: 0.5818, Test Accuracy: 0.5149\n",
      "Train loss: 1.2592\n",
      "\n",
      " Epoch 190 training:\n"
     ]
    },
    {
     "name": "stderr",
     "output_type": "stream",
     "text": [
      "100%|██████████| 711/711 [01:21<00:00,  8.73it/s]\n"
     ]
    },
    {
     "name": "stdout",
     "output_type": "stream",
     "text": [
      "Train Accuracy: 0.6333, Val Accuracy: 0.5769, Test Accuracy: 0.5137\n",
      "Train loss: 1.2611\n",
      "\n",
      " Epoch 191 training:\n"
     ]
    },
    {
     "name": "stderr",
     "output_type": "stream",
     "text": [
      "100%|██████████| 711/711 [01:21<00:00,  8.77it/s]\n"
     ]
    },
    {
     "name": "stdout",
     "output_type": "stream",
     "text": [
      "Train Accuracy: 0.6413, Val Accuracy: 0.5810, Test Accuracy: 0.5196\n",
      "Train loss: 1.2515\n",
      "\n",
      " Epoch 192 training:\n"
     ]
    },
    {
     "name": "stderr",
     "output_type": "stream",
     "text": [
      "100%|██████████| 711/711 [01:22<00:00,  8.67it/s]\n"
     ]
    },
    {
     "name": "stdout",
     "output_type": "stream",
     "text": [
      "Train Accuracy: 0.6435, Val Accuracy: 0.5841, Test Accuracy: 0.5204\n",
      "Train loss: 1.2530\n",
      "\n",
      " Epoch 193 training:\n"
     ]
    },
    {
     "name": "stderr",
     "output_type": "stream",
     "text": [
      "100%|██████████| 711/711 [01:20<00:00,  8.78it/s]\n"
     ]
    },
    {
     "name": "stdout",
     "output_type": "stream",
     "text": [
      "Train Accuracy: 0.6420, Val Accuracy: 0.5817, Test Accuracy: 0.5197\n",
      "Train loss: 1.2589\n",
      "\n",
      " Epoch 194 training:\n"
     ]
    },
    {
     "name": "stderr",
     "output_type": "stream",
     "text": [
      "100%|██████████| 711/711 [01:21<00:00,  8.73it/s]\n"
     ]
    },
    {
     "name": "stdout",
     "output_type": "stream",
     "text": [
      "Train Accuracy: 0.6392, Val Accuracy: 0.5802, Test Accuracy: 0.5178\n",
      "Train loss: 1.2555\n",
      "\n",
      " Epoch 195 training:\n"
     ]
    },
    {
     "name": "stderr",
     "output_type": "stream",
     "text": [
      "100%|██████████| 711/711 [01:22<00:00,  8.67it/s]\n"
     ]
    },
    {
     "name": "stdout",
     "output_type": "stream",
     "text": [
      "Train Accuracy: 0.6287, Val Accuracy: 0.5724, Test Accuracy: 0.5112\n",
      "Train loss: 1.2611\n",
      "\n",
      " Epoch 196 training:\n"
     ]
    },
    {
     "name": "stderr",
     "output_type": "stream",
     "text": [
      "100%|██████████| 711/711 [01:21<00:00,  8.69it/s]\n"
     ]
    },
    {
     "name": "stdout",
     "output_type": "stream",
     "text": [
      "Train Accuracy: 0.6361, Val Accuracy: 0.5806, Test Accuracy: 0.5170\n",
      "Train loss: 1.2569\n",
      "\n",
      " Epoch 197 training:\n"
     ]
    },
    {
     "name": "stderr",
     "output_type": "stream",
     "text": [
      "100%|██████████| 711/711 [01:21<00:00,  8.73it/s]\n"
     ]
    },
    {
     "name": "stdout",
     "output_type": "stream",
     "text": [
      "Train Accuracy: 0.6442, Val Accuracy: 0.5832, Test Accuracy: 0.5226\n",
      "Train loss: 1.2596\n",
      "\n",
      " Epoch 198 training:\n"
     ]
    },
    {
     "name": "stderr",
     "output_type": "stream",
     "text": [
      "100%|██████████| 711/711 [01:21<00:00,  8.77it/s]\n"
     ]
    },
    {
     "name": "stdout",
     "output_type": "stream",
     "text": [
      "Train Accuracy: 0.6271, Val Accuracy: 0.5695, Test Accuracy: 0.5056\n",
      "Train loss: 1.2559\n",
      "\n",
      " Epoch 199 training:\n"
     ]
    },
    {
     "name": "stderr",
     "output_type": "stream",
     "text": [
      "100%|██████████| 711/711 [01:21<00:00,  8.77it/s]\n"
     ]
    },
    {
     "name": "stdout",
     "output_type": "stream",
     "text": [
      "Train Accuracy: 0.6316, Val Accuracy: 0.5728, Test Accuracy: 0.5167\n",
      "Train loss: 1.2566\n",
      "\n",
      " Epoch 200 training:\n"
     ]
    },
    {
     "name": "stderr",
     "output_type": "stream",
     "text": [
      "100%|██████████| 711/711 [01:22<00:00,  8.66it/s]\n"
     ]
    },
    {
     "name": "stdout",
     "output_type": "stream",
     "text": [
      "Train Accuracy: 0.6342, Val Accuracy: 0.5784, Test Accuracy: 0.5188\n",
      "Train loss: 1.2582\n",
      "\n",
      " Epoch 201 training:\n"
     ]
    },
    {
     "name": "stderr",
     "output_type": "stream",
     "text": [
      "100%|██████████| 711/711 [01:21<00:00,  8.77it/s]\n"
     ]
    },
    {
     "name": "stdout",
     "output_type": "stream",
     "text": [
      "Train Accuracy: 0.6439, Val Accuracy: 0.5852, Test Accuracy: 0.5254\n",
      "Train loss: 1.2545\n",
      "\n",
      " Epoch 202 training:\n"
     ]
    },
    {
     "name": "stderr",
     "output_type": "stream",
     "text": [
      "100%|██████████| 711/711 [01:21<00:00,  8.68it/s]\n"
     ]
    },
    {
     "name": "stdout",
     "output_type": "stream",
     "text": [
      "Train Accuracy: 0.6256, Val Accuracy: 0.5682, Test Accuracy: 0.5076\n",
      "Train loss: 1.2562\n",
      "\n",
      " Epoch 203 training:\n"
     ]
    },
    {
     "name": "stderr",
     "output_type": "stream",
     "text": [
      "100%|██████████| 711/711 [01:20<00:00,  8.81it/s]\n"
     ]
    },
    {
     "name": "stdout",
     "output_type": "stream",
     "text": [
      "Train Accuracy: 0.6310, Val Accuracy: 0.5734, Test Accuracy: 0.5149\n",
      "Train loss: 1.2499\n",
      "\n",
      " Epoch 204 training:\n"
     ]
    },
    {
     "name": "stderr",
     "output_type": "stream",
     "text": [
      "100%|██████████| 711/711 [01:21<00:00,  8.68it/s]\n"
     ]
    },
    {
     "name": "stdout",
     "output_type": "stream",
     "text": [
      "Train Accuracy: 0.6253, Val Accuracy: 0.5665, Test Accuracy: 0.5042\n",
      "Train loss: 1.2575\n",
      "\n",
      " Epoch 205 training:\n"
     ]
    },
    {
     "name": "stderr",
     "output_type": "stream",
     "text": [
      "100%|██████████| 711/711 [01:22<00:00,  8.59it/s]\n"
     ]
    },
    {
     "name": "stdout",
     "output_type": "stream",
     "text": [
      "Train Accuracy: 0.6391, Val Accuracy: 0.5813, Test Accuracy: 0.5230\n",
      "Train loss: 1.2626\n",
      "\n",
      " Epoch 206 training:\n"
     ]
    },
    {
     "name": "stderr",
     "output_type": "stream",
     "text": [
      "100%|██████████| 711/711 [01:22<00:00,  8.58it/s]\n"
     ]
    },
    {
     "name": "stdout",
     "output_type": "stream",
     "text": [
      "Train Accuracy: 0.6339, Val Accuracy: 0.5729, Test Accuracy: 0.5138\n",
      "Train loss: 1.2575\n",
      "\n",
      " Epoch 207 training:\n"
     ]
    },
    {
     "name": "stderr",
     "output_type": "stream",
     "text": [
      "100%|██████████| 711/711 [01:20<00:00,  8.79it/s]\n"
     ]
    },
    {
     "name": "stdout",
     "output_type": "stream",
     "text": [
      "Train Accuracy: 0.6514, Val Accuracy: 0.5847, Test Accuracy: 0.5200\n",
      "Train loss: 1.2522\n",
      "\n",
      " Epoch 208 training:\n"
     ]
    },
    {
     "name": "stderr",
     "output_type": "stream",
     "text": [
      "100%|██████████| 711/711 [01:20<00:00,  8.79it/s]\n"
     ]
    },
    {
     "name": "stdout",
     "output_type": "stream",
     "text": [
      "Train Accuracy: 0.6275, Val Accuracy: 0.5700, Test Accuracy: 0.5152\n",
      "Train loss: 1.2423\n",
      "\n",
      " Epoch 209 training:\n"
     ]
    },
    {
     "name": "stderr",
     "output_type": "stream",
     "text": [
      "100%|██████████| 711/711 [01:19<00:00,  8.99it/s]\n"
     ]
    },
    {
     "name": "stdout",
     "output_type": "stream",
     "text": [
      "Train Accuracy: 0.6489, Val Accuracy: 0.5843, Test Accuracy: 0.5164\n",
      "Train loss: 1.2365\n",
      "\n",
      " Epoch 210 training:\n"
     ]
    },
    {
     "name": "stderr",
     "output_type": "stream",
     "text": [
      "100%|██████████| 711/711 [01:21<00:00,  8.73it/s]\n"
     ]
    },
    {
     "name": "stdout",
     "output_type": "stream",
     "text": [
      "Train Accuracy: 0.6402, Val Accuracy: 0.5839, Test Accuracy: 0.5236\n",
      "Train loss: 1.2480\n",
      "\n",
      " Epoch 211 training:\n"
     ]
    },
    {
     "name": "stderr",
     "output_type": "stream",
     "text": [
      "100%|██████████| 711/711 [01:20<00:00,  8.84it/s]\n"
     ]
    },
    {
     "name": "stdout",
     "output_type": "stream",
     "text": [
      "Train Accuracy: 0.6428, Val Accuracy: 0.5814, Test Accuracy: 0.5206\n",
      "Train loss: 1.2455\n",
      "\n",
      " Epoch 212 training:\n"
     ]
    },
    {
     "name": "stderr",
     "output_type": "stream",
     "text": [
      "100%|██████████| 711/711 [01:20<00:00,  8.88it/s]\n"
     ]
    },
    {
     "name": "stdout",
     "output_type": "stream",
     "text": [
      "Train Accuracy: 0.6418, Val Accuracy: 0.5809, Test Accuracy: 0.5155\n",
      "Train loss: 1.2493\n",
      "\n",
      " Epoch 213 training:\n"
     ]
    },
    {
     "name": "stderr",
     "output_type": "stream",
     "text": [
      "100%|██████████| 711/711 [01:22<00:00,  8.67it/s]\n"
     ]
    },
    {
     "name": "stdout",
     "output_type": "stream",
     "text": [
      "Train Accuracy: 0.6406, Val Accuracy: 0.5777, Test Accuracy: 0.5148\n",
      "Train loss: 1.2480\n",
      "\n",
      " Epoch 214 training:\n"
     ]
    },
    {
     "name": "stderr",
     "output_type": "stream",
     "text": [
      "100%|██████████| 711/711 [01:20<00:00,  8.79it/s]\n"
     ]
    },
    {
     "name": "stdout",
     "output_type": "stream",
     "text": [
      "Train Accuracy: 0.6359, Val Accuracy: 0.5777, Test Accuracy: 0.5140\n",
      "Train loss: 1.2440\n",
      "\n",
      " Epoch 215 training:\n"
     ]
    },
    {
     "name": "stderr",
     "output_type": "stream",
     "text": [
      "100%|██████████| 711/711 [01:20<00:00,  8.85it/s]\n"
     ]
    },
    {
     "name": "stdout",
     "output_type": "stream",
     "text": [
      "Train Accuracy: 0.6367, Val Accuracy: 0.5769, Test Accuracy: 0.5176\n",
      "Train loss: 1.2457\n",
      "\n",
      " Epoch 216 training:\n"
     ]
    },
    {
     "name": "stderr",
     "output_type": "stream",
     "text": [
      "100%|██████████| 711/711 [01:20<00:00,  8.85it/s]\n"
     ]
    },
    {
     "name": "stdout",
     "output_type": "stream",
     "text": [
      "Train Accuracy: 0.6457, Val Accuracy: 0.5843, Test Accuracy: 0.5220\n",
      "Train loss: 1.2384\n",
      "\n",
      " Epoch 217 training:\n"
     ]
    },
    {
     "name": "stderr",
     "output_type": "stream",
     "text": [
      "100%|██████████| 711/711 [01:20<00:00,  8.84it/s]\n"
     ]
    },
    {
     "name": "stdout",
     "output_type": "stream",
     "text": [
      "Train Accuracy: 0.6422, Val Accuracy: 0.5811, Test Accuracy: 0.5171\n",
      "Train loss: 1.2475\n",
      "\n",
      " Epoch 218 training:\n"
     ]
    },
    {
     "name": "stderr",
     "output_type": "stream",
     "text": [
      "100%|██████████| 711/711 [01:21<00:00,  8.73it/s]\n"
     ]
    },
    {
     "name": "stdout",
     "output_type": "stream",
     "text": [
      "Train Accuracy: 0.6443, Val Accuracy: 0.5827, Test Accuracy: 0.5216\n",
      "Train loss: 1.2518\n",
      "\n",
      " Epoch 219 training:\n"
     ]
    },
    {
     "name": "stderr",
     "output_type": "stream",
     "text": [
      "100%|██████████| 711/711 [01:20<00:00,  8.88it/s]\n"
     ]
    },
    {
     "name": "stdout",
     "output_type": "stream",
     "text": [
      "Train Accuracy: 0.6331, Val Accuracy: 0.5710, Test Accuracy: 0.5121\n",
      "Train loss: 1.2359\n",
      "\n",
      " Epoch 220 training:\n"
     ]
    },
    {
     "name": "stderr",
     "output_type": "stream",
     "text": [
      "100%|██████████| 711/711 [01:20<00:00,  8.80it/s]\n"
     ]
    },
    {
     "name": "stdout",
     "output_type": "stream",
     "text": [
      "Train Accuracy: 0.6444, Val Accuracy: 0.5820, Test Accuracy: 0.5198\n",
      "Train loss: 1.2373\n",
      "\n",
      " Epoch 221 training:\n"
     ]
    },
    {
     "name": "stderr",
     "output_type": "stream",
     "text": [
      "100%|██████████| 711/711 [01:20<00:00,  8.79it/s]\n"
     ]
    },
    {
     "name": "stdout",
     "output_type": "stream",
     "text": [
      "Train Accuracy: 0.6392, Val Accuracy: 0.5784, Test Accuracy: 0.5186\n",
      "Train loss: 1.2410\n",
      "\n",
      " Epoch 222 training:\n"
     ]
    },
    {
     "name": "stderr",
     "output_type": "stream",
     "text": [
      "100%|██████████| 711/711 [01:20<00:00,  8.81it/s]\n"
     ]
    },
    {
     "name": "stdout",
     "output_type": "stream",
     "text": [
      "Train Accuracy: 0.6455, Val Accuracy: 0.5859, Test Accuracy: 0.5219\n",
      "Train loss: 1.2387\n",
      "\n",
      " Epoch 223 training:\n"
     ]
    },
    {
     "name": "stderr",
     "output_type": "stream",
     "text": [
      "100%|██████████| 711/711 [01:19<00:00,  8.92it/s]\n"
     ]
    },
    {
     "name": "stdout",
     "output_type": "stream",
     "text": [
      "Train Accuracy: 0.6487, Val Accuracy: 0.5860, Test Accuracy: 0.5247\n",
      "Train loss: 1.2391\n",
      "\n",
      " Epoch 224 training:\n"
     ]
    },
    {
     "name": "stderr",
     "output_type": "stream",
     "text": [
      "100%|██████████| 711/711 [01:21<00:00,  8.67it/s]\n"
     ]
    },
    {
     "name": "stdout",
     "output_type": "stream",
     "text": [
      "Train Accuracy: 0.6424, Val Accuracy: 0.5794, Test Accuracy: 0.5172\n",
      "Train loss: 1.2477\n",
      "\n",
      " Epoch 225 training:\n"
     ]
    },
    {
     "name": "stderr",
     "output_type": "stream",
     "text": [
      "100%|██████████| 711/711 [01:20<00:00,  8.82it/s]\n"
     ]
    },
    {
     "name": "stdout",
     "output_type": "stream",
     "text": [
      "Train Accuracy: 0.6445, Val Accuracy: 0.5803, Test Accuracy: 0.5194\n",
      "Train loss: 1.2386\n",
      "\n",
      " Epoch 226 training:\n"
     ]
    },
    {
     "name": "stderr",
     "output_type": "stream",
     "text": [
      "100%|██████████| 711/711 [01:22<00:00,  8.65it/s]\n"
     ]
    },
    {
     "name": "stdout",
     "output_type": "stream",
     "text": [
      "Train Accuracy: 0.6488, Val Accuracy: 0.5838, Test Accuracy: 0.5201\n",
      "Train loss: 1.2543\n",
      "\n",
      " Epoch 227 training:\n"
     ]
    },
    {
     "name": "stderr",
     "output_type": "stream",
     "text": [
      "100%|██████████| 711/711 [01:20<00:00,  8.78it/s]\n"
     ]
    },
    {
     "name": "stdout",
     "output_type": "stream",
     "text": [
      "Train Accuracy: 0.6366, Val Accuracy: 0.5799, Test Accuracy: 0.5189\n",
      "Train loss: 1.2471\n",
      "\n",
      " Epoch 228 training:\n"
     ]
    },
    {
     "name": "stderr",
     "output_type": "stream",
     "text": [
      "100%|██████████| 711/711 [01:20<00:00,  8.80it/s]\n"
     ]
    },
    {
     "name": "stdout",
     "output_type": "stream",
     "text": [
      "Train Accuracy: 0.6335, Val Accuracy: 0.5763, Test Accuracy: 0.5179\n",
      "Train loss: 1.2415\n",
      "\n",
      " Epoch 229 training:\n"
     ]
    },
    {
     "name": "stderr",
     "output_type": "stream",
     "text": [
      "100%|██████████| 711/711 [01:19<00:00,  8.92it/s]\n"
     ]
    },
    {
     "name": "stdout",
     "output_type": "stream",
     "text": [
      "Train Accuracy: 0.6449, Val Accuracy: 0.5830, Test Accuracy: 0.5191\n",
      "Train loss: 1.2372\n",
      "\n",
      " Epoch 230 training:\n"
     ]
    },
    {
     "name": "stderr",
     "output_type": "stream",
     "text": [
      "100%|██████████| 711/711 [01:22<00:00,  8.66it/s]\n"
     ]
    },
    {
     "name": "stdout",
     "output_type": "stream",
     "text": [
      "Train Accuracy: 0.6428, Val Accuracy: 0.5824, Test Accuracy: 0.5172\n",
      "Train loss: 1.2417\n",
      "\n",
      " Epoch 231 training:\n"
     ]
    },
    {
     "name": "stderr",
     "output_type": "stream",
     "text": [
      "100%|██████████| 711/711 [01:21<00:00,  8.77it/s]\n"
     ]
    },
    {
     "name": "stdout",
     "output_type": "stream",
     "text": [
      "Train Accuracy: 0.6424, Val Accuracy: 0.5804, Test Accuracy: 0.5173\n",
      "Train loss: 1.2433\n",
      "\n",
      " Epoch 232 training:\n"
     ]
    },
    {
     "name": "stderr",
     "output_type": "stream",
     "text": [
      "100%|██████████| 711/711 [01:20<00:00,  8.88it/s]\n"
     ]
    },
    {
     "name": "stdout",
     "output_type": "stream",
     "text": [
      "Train Accuracy: 0.6372, Val Accuracy: 0.5765, Test Accuracy: 0.5151\n",
      "Train loss: 1.2349\n",
      "\n",
      " Epoch 233 training:\n"
     ]
    },
    {
     "name": "stderr",
     "output_type": "stream",
     "text": [
      "100%|██████████| 711/711 [01:19<00:00,  8.89it/s]\n"
     ]
    },
    {
     "name": "stdout",
     "output_type": "stream",
     "text": [
      "Train Accuracy: 0.6433, Val Accuracy: 0.5837, Test Accuracy: 0.5193\n",
      "Train loss: 1.2360\n",
      "\n",
      " Epoch 234 training:\n"
     ]
    },
    {
     "name": "stderr",
     "output_type": "stream",
     "text": [
      "100%|██████████| 711/711 [01:21<00:00,  8.68it/s]\n"
     ]
    },
    {
     "name": "stdout",
     "output_type": "stream",
     "text": [
      "Train Accuracy: 0.6380, Val Accuracy: 0.5789, Test Accuracy: 0.5193\n",
      "Train loss: 1.2505\n",
      "\n",
      " Epoch 235 training:\n"
     ]
    },
    {
     "name": "stderr",
     "output_type": "stream",
     "text": [
      "100%|██████████| 711/711 [01:21<00:00,  8.68it/s]\n"
     ]
    },
    {
     "name": "stdout",
     "output_type": "stream",
     "text": [
      "Train Accuracy: 0.6417, Val Accuracy: 0.5839, Test Accuracy: 0.5206\n",
      "Train loss: 1.2522\n",
      "\n",
      " Epoch 236 training:\n"
     ]
    },
    {
     "name": "stderr",
     "output_type": "stream",
     "text": [
      "100%|██████████| 711/711 [01:19<00:00,  8.90it/s]\n"
     ]
    },
    {
     "name": "stdout",
     "output_type": "stream",
     "text": [
      "Train Accuracy: 0.6436, Val Accuracy: 0.5830, Test Accuracy: 0.5179\n",
      "Train loss: 1.2321\n",
      "\n",
      " Epoch 237 training:\n"
     ]
    },
    {
     "name": "stderr",
     "output_type": "stream",
     "text": [
      "100%|██████████| 711/711 [01:21<00:00,  8.73it/s]\n"
     ]
    },
    {
     "name": "stdout",
     "output_type": "stream",
     "text": [
      "Train Accuracy: 0.6320, Val Accuracy: 0.5761, Test Accuracy: 0.5178\n",
      "Train loss: 1.2450\n",
      "\n",
      " Epoch 238 training:\n"
     ]
    },
    {
     "name": "stderr",
     "output_type": "stream",
     "text": [
      "100%|██████████| 711/711 [01:20<00:00,  8.87it/s]\n"
     ]
    },
    {
     "name": "stdout",
     "output_type": "stream",
     "text": [
      "Train Accuracy: 0.6386, Val Accuracy: 0.5786, Test Accuracy: 0.5143\n",
      "Train loss: 1.2362\n",
      "\n",
      " Epoch 239 training:\n"
     ]
    },
    {
     "name": "stderr",
     "output_type": "stream",
     "text": [
      "100%|██████████| 711/711 [01:22<00:00,  8.66it/s]\n"
     ]
    },
    {
     "name": "stdout",
     "output_type": "stream",
     "text": [
      "Train Accuracy: 0.6397, Val Accuracy: 0.5824, Test Accuracy: 0.5217\n",
      "Train loss: 1.2449\n",
      "\n",
      " Epoch 240 training:\n"
     ]
    },
    {
     "name": "stderr",
     "output_type": "stream",
     "text": [
      "100%|██████████| 711/711 [01:21<00:00,  8.73it/s]\n"
     ]
    },
    {
     "name": "stdout",
     "output_type": "stream",
     "text": [
      "Train Accuracy: 0.6309, Val Accuracy: 0.5720, Test Accuracy: 0.5103\n",
      "Train loss: 1.2434\n",
      "\n",
      " Epoch 241 training:\n"
     ]
    },
    {
     "name": "stderr",
     "output_type": "stream",
     "text": [
      "100%|██████████| 711/711 [01:21<00:00,  8.75it/s]\n"
     ]
    },
    {
     "name": "stdout",
     "output_type": "stream",
     "text": [
      "Train Accuracy: 0.6352, Val Accuracy: 0.5753, Test Accuracy: 0.5172\n",
      "Train loss: 1.2378\n",
      "\n",
      " Epoch 242 training:\n"
     ]
    },
    {
     "name": "stderr",
     "output_type": "stream",
     "text": [
      "100%|██████████| 711/711 [01:20<00:00,  8.82it/s]\n"
     ]
    },
    {
     "name": "stdout",
     "output_type": "stream",
     "text": [
      "Train Accuracy: 0.6432, Val Accuracy: 0.5813, Test Accuracy: 0.5185\n",
      "Train loss: 1.2407\n",
      "\n",
      " Epoch 243 training:\n"
     ]
    },
    {
     "name": "stderr",
     "output_type": "stream",
     "text": [
      "100%|██████████| 711/711 [01:19<00:00,  8.94it/s]\n"
     ]
    },
    {
     "name": "stdout",
     "output_type": "stream",
     "text": [
      "Train Accuracy: 0.6383, Val Accuracy: 0.5794, Test Accuracy: 0.5166\n",
      "Train loss: 1.2299\n",
      "\n",
      " Epoch 244 training:\n"
     ]
    },
    {
     "name": "stderr",
     "output_type": "stream",
     "text": [
      "100%|██████████| 711/711 [01:22<00:00,  8.67it/s]\n"
     ]
    },
    {
     "name": "stdout",
     "output_type": "stream",
     "text": [
      "Train Accuracy: 0.6348, Val Accuracy: 0.5778, Test Accuracy: 0.5165\n",
      "Train loss: 1.2488\n",
      "\n",
      " Epoch 245 training:\n"
     ]
    },
    {
     "name": "stderr",
     "output_type": "stream",
     "text": [
      "100%|██████████| 711/711 [01:20<00:00,  8.78it/s]\n"
     ]
    },
    {
     "name": "stdout",
     "output_type": "stream",
     "text": [
      "Train Accuracy: 0.6438, Val Accuracy: 0.5776, Test Accuracy: 0.5176\n",
      "Train loss: 1.2388\n",
      "\n",
      " Epoch 246 training:\n"
     ]
    },
    {
     "name": "stderr",
     "output_type": "stream",
     "text": [
      "100%|██████████| 711/711 [01:20<00:00,  8.86it/s]\n"
     ]
    },
    {
     "name": "stdout",
     "output_type": "stream",
     "text": [
      "Train Accuracy: 0.6367, Val Accuracy: 0.5816, Test Accuracy: 0.5210\n",
      "Train loss: 1.2289\n",
      "\n",
      " Epoch 247 training:\n"
     ]
    },
    {
     "name": "stderr",
     "output_type": "stream",
     "text": [
      "100%|██████████| 711/711 [01:21<00:00,  8.68it/s]\n"
     ]
    },
    {
     "name": "stdout",
     "output_type": "stream",
     "text": [
      "Train Accuracy: 0.6382, Val Accuracy: 0.5730, Test Accuracy: 0.5096\n",
      "Train loss: 1.2483\n",
      "\n",
      " Epoch 248 training:\n"
     ]
    },
    {
     "name": "stderr",
     "output_type": "stream",
     "text": [
      "100%|██████████| 711/711 [01:20<00:00,  8.82it/s]\n"
     ]
    },
    {
     "name": "stdout",
     "output_type": "stream",
     "text": [
      "Train Accuracy: 0.6329, Val Accuracy: 0.5762, Test Accuracy: 0.5134\n",
      "Train loss: 1.2349\n",
      "\n",
      " Epoch 249 training:\n"
     ]
    },
    {
     "name": "stderr",
     "output_type": "stream",
     "text": [
      "100%|██████████| 711/711 [01:21<00:00,  8.77it/s]\n"
     ]
    },
    {
     "name": "stdout",
     "output_type": "stream",
     "text": [
      "Train Accuracy: 0.6404, Val Accuracy: 0.5808, Test Accuracy: 0.5182\n",
      "Train loss: 1.2346\n"
     ]
    }
   ],
   "source": [
    "# train\n",
    "for depth, depths_list in depths_dict.items():\n",
    "    for model_type in gnn_model_types:\n",
    "        cfg['model_type'] = model_type\n",
    "        trainer = Trainer(cfg=cfg, model_dir=f'{depth}_{model_type}')\n",
    "        trainer.run(data, split_idx, num_classes, evaluator, depths_list, epochs)"
   ]
  }
 ],
 "metadata": {
  "kernelspec": {
   "display_name": "Python 3.9.13 ('baskin': conda)",
   "language": "python",
   "name": "python3"
  },
  "language_info": {
   "codemirror_mode": {
    "name": "ipython",
    "version": 3
   },
   "file_extension": ".py",
   "mimetype": "text/x-python",
   "name": "python",
   "nbconvert_exporter": "python",
   "pygments_lexer": "ipython3",
   "version": "3.9.13"
  },
  "orig_nbformat": 4,
  "vscode": {
   "interpreter": {
    "hash": "e591c4f2b87a250375ca884dffd1dc17c4ce3268c519c9ae9b05ed9c4bef7107"
   }
  }
 },
 "nbformat": 4,
 "nbformat_minor": 2
}
