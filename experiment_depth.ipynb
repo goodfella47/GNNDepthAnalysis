{
 "cells": [
  {
   "cell_type": "code",
   "execution_count": 1,
   "metadata": {},
   "outputs": [
    {
     "name": "stderr",
     "output_type": "stream",
     "text": [
      "/data/home/spektor/miniconda3/envs/baskin/lib/python3.9/site-packages/tqdm/auto.py:22: TqdmWarning: IProgress not found. Please update jupyter and ipywidgets. See https://ipywidgets.readthedocs.io/en/stable/user_install.html\n",
      "  from .autonotebook import tqdm as notebook_tqdm\n"
     ]
    }
   ],
   "source": [
    "import os\n",
    "import sys\n",
    "directory_path = os.path.abspath(os.path.join('..'))\n",
    "if directory_path not in sys.path:\n",
    "    sys.path.append(directory_path)\n",
    "    \n",
    "from trainer import Trainer\n",
    "from dataset import get_ogb_data\n",
    "from torch_geometric import seed_everything\n",
    "from ogb.nodeproppred import Evaluator\n",
    "from predict import evaluate_test\n",
    "import pandas as pd\n",
    "import torch\n",
    "import numpy as np\n",
    "from tqdm import tqdm"
   ]
  },
  {
   "cell_type": "code",
   "execution_count": 2,
   "metadata": {},
   "outputs": [
    {
     "name": "stdout",
     "output_type": "stream",
     "text": [
      "Number of nodes in the graph: 169343\n",
      "Number of edges in the graph: 1166243\n",
      "Number of training nodes: 90941\n",
      "Number of validation nodes: 29799\n",
      "Number of test nodes: 48603\n",
      "Node feature matrix with shape: torch.Size([169343, 128])\n",
      "Graph connectivity in COO format with shape: torch.Size([2, 1166243])\n",
      "Target to train against : torch.Size([169343, 1])\n",
      "Node feature length 128\n",
      "number of target categories: 40\n"
     ]
    }
   ],
   "source": [
    "d_name = 'arxiv'\n",
    "data, split_idx, num_classes = get_ogb_data('arxiv')\n",
    "evaluator = Evaluator(name=f'ogbn-{d_name}')"
   ]
  },
  {
   "cell_type": "code",
   "execution_count": 5,
   "metadata": {},
   "outputs": [
    {
     "name": "stdout",
     "output_type": "stream",
     "text": [
      "\n",
      " Epoch 0 training:\n"
     ]
    },
    {
     "name": "stderr",
     "output_type": "stream",
     "text": [
      "100%|██████████| 711/711 [00:05<00:00, 135.24it/s]\n"
     ]
    },
    {
     "name": "stdout",
     "output_type": "stream",
     "text": [
      "New best model validation accuracy: 0.57643. Previous: 0.00000\n",
      "Train Accuracy: 0.6032, Val Accuracy: 0.5764, Test Accuracy: 0.5201\n",
      "Train loss: 1.5741\n",
      "\n",
      " Epoch 1 training:\n"
     ]
    },
    {
     "name": "stderr",
     "output_type": "stream",
     "text": [
      "100%|██████████| 711/711 [00:04<00:00, 161.61it/s]\n"
     ]
    },
    {
     "name": "stdout",
     "output_type": "stream",
     "text": [
      "New best model validation accuracy: 0.59522. Previous: 0.57643\n",
      "Train Accuracy: 0.6174, Val Accuracy: 0.5952, Test Accuracy: 0.5407\n",
      "Train loss: 1.4029\n",
      "\n",
      " Epoch 2 training:\n"
     ]
    },
    {
     "name": "stderr",
     "output_type": "stream",
     "text": [
      "100%|██████████| 711/711 [00:04<00:00, 168.58it/s]\n"
     ]
    },
    {
     "name": "stdout",
     "output_type": "stream",
     "text": [
      "Train Accuracy: 0.6225, Val Accuracy: 0.5843, Test Accuracy: 0.5188\n",
      "Train loss: 1.3519\n",
      "\n",
      " Epoch 3 training:\n"
     ]
    },
    {
     "name": "stderr",
     "output_type": "stream",
     "text": [
      "100%|██████████| 711/711 [00:04<00:00, 174.22it/s]\n"
     ]
    },
    {
     "name": "stdout",
     "output_type": "stream",
     "text": [
      "New best model validation accuracy: 0.60294. Previous: 0.59522\n",
      "Train Accuracy: 0.6294, Val Accuracy: 0.6029, Test Accuracy: 0.5388\n",
      "Train loss: 1.3244\n",
      "\n",
      " Epoch 4 training:\n"
     ]
    },
    {
     "name": "stderr",
     "output_type": "stream",
     "text": [
      "100%|██████████| 711/711 [00:03<00:00, 186.00it/s]\n"
     ]
    },
    {
     "name": "stdout",
     "output_type": "stream",
     "text": [
      "Train Accuracy: 0.6323, Val Accuracy: 0.5972, Test Accuracy: 0.5409\n",
      "Train loss: 1.3010\n",
      "\n",
      " Epoch 5 training:\n"
     ]
    },
    {
     "name": "stderr",
     "output_type": "stream",
     "text": [
      "100%|██████████| 711/711 [00:04<00:00, 157.20it/s]\n"
     ]
    },
    {
     "name": "stdout",
     "output_type": "stream",
     "text": [
      "Train Accuracy: 0.6414, Val Accuracy: 0.5997, Test Accuracy: 0.5362\n",
      "Train loss: 1.2875\n",
      "\n",
      " Epoch 6 training:\n"
     ]
    },
    {
     "name": "stderr",
     "output_type": "stream",
     "text": [
      "100%|██████████| 711/711 [00:04<00:00, 176.52it/s]\n"
     ]
    },
    {
     "name": "stdout",
     "output_type": "stream",
     "text": [
      "Train Accuracy: 0.6437, Val Accuracy: 0.6023, Test Accuracy: 0.5391\n",
      "Train loss: 1.2706\n",
      "\n",
      " Epoch 7 training:\n"
     ]
    },
    {
     "name": "stderr",
     "output_type": "stream",
     "text": [
      "100%|██████████| 711/711 [00:04<00:00, 162.86it/s]\n"
     ]
    },
    {
     "name": "stdout",
     "output_type": "stream",
     "text": [
      "Train Accuracy: 0.6431, Val Accuracy: 0.5878, Test Accuracy: 0.5274\n",
      "Train loss: 1.2598\n",
      "\n",
      " Epoch 8 training:\n"
     ]
    },
    {
     "name": "stderr",
     "output_type": "stream",
     "text": [
      "100%|██████████| 711/711 [00:04<00:00, 171.75it/s]\n"
     ]
    },
    {
     "name": "stdout",
     "output_type": "stream",
     "text": [
      "New best model validation accuracy: 0.60324. Previous: 0.60294\n",
      "Train Accuracy: 0.6446, Val Accuracy: 0.6032, Test Accuracy: 0.5392\n",
      "Train loss: 1.2484\n",
      "\n",
      " Epoch 9 training:\n"
     ]
    },
    {
     "name": "stderr",
     "output_type": "stream",
     "text": [
      "100%|██████████| 711/711 [00:04<00:00, 158.90it/s]\n"
     ]
    },
    {
     "name": "stdout",
     "output_type": "stream",
     "text": [
      "Train Accuracy: 0.6504, Val Accuracy: 0.6022, Test Accuracy: 0.5382\n",
      "Train loss: 1.2388\n",
      "\n",
      " Epoch 10 training:\n"
     ]
    },
    {
     "name": "stderr",
     "output_type": "stream",
     "text": [
      "100%|██████████| 711/711 [00:04<00:00, 160.55it/s]\n"
     ]
    },
    {
     "name": "stdout",
     "output_type": "stream",
     "text": [
      "New best model validation accuracy: 0.60395. Previous: 0.60324\n",
      "Train Accuracy: 0.6494, Val Accuracy: 0.6039, Test Accuracy: 0.5464\n",
      "Train loss: 1.2318\n",
      "\n",
      " Epoch 11 training:\n"
     ]
    },
    {
     "name": "stderr",
     "output_type": "stream",
     "text": [
      "100%|██████████| 711/711 [00:04<00:00, 173.80it/s]\n"
     ]
    },
    {
     "name": "stdout",
     "output_type": "stream",
     "text": [
      "Train Accuracy: 0.6535, Val Accuracy: 0.5920, Test Accuracy: 0.5258\n",
      "Train loss: 1.2267\n",
      "\n",
      " Epoch 12 training:\n"
     ]
    },
    {
     "name": "stderr",
     "output_type": "stream",
     "text": [
      "100%|██████████| 711/711 [00:04<00:00, 173.27it/s]\n"
     ]
    },
    {
     "name": "stdout",
     "output_type": "stream",
     "text": [
      "Train Accuracy: 0.6545, Val Accuracy: 0.6014, Test Accuracy: 0.5410\n",
      "Train loss: 1.2176\n",
      "\n",
      " Epoch 13 training:\n"
     ]
    },
    {
     "name": "stderr",
     "output_type": "stream",
     "text": [
      "100%|██████████| 711/711 [00:04<00:00, 164.49it/s]\n"
     ]
    },
    {
     "name": "stdout",
     "output_type": "stream",
     "text": [
      "Train Accuracy: 0.6483, Val Accuracy: 0.5859, Test Accuracy: 0.5298\n",
      "Train loss: 1.2110\n",
      "\n",
      " Epoch 14 training:\n"
     ]
    },
    {
     "name": "stderr",
     "output_type": "stream",
     "text": [
      "100%|██████████| 711/711 [00:04<00:00, 172.16it/s]\n"
     ]
    },
    {
     "name": "stdout",
     "output_type": "stream",
     "text": [
      "Train Accuracy: 0.6601, Val Accuracy: 0.6022, Test Accuracy: 0.5461\n",
      "Train loss: 1.2053\n",
      "\n",
      " Epoch 15 training:\n"
     ]
    },
    {
     "name": "stderr",
     "output_type": "stream",
     "text": [
      "100%|██████████| 711/711 [00:04<00:00, 154.22it/s]\n"
     ]
    },
    {
     "name": "stdout",
     "output_type": "stream",
     "text": [
      "Train Accuracy: 0.6588, Val Accuracy: 0.5999, Test Accuracy: 0.5405\n",
      "Train loss: 1.2013\n",
      "\n",
      " Epoch 16 training:\n"
     ]
    },
    {
     "name": "stderr",
     "output_type": "stream",
     "text": [
      "100%|██████████| 711/711 [00:03<00:00, 181.22it/s]\n"
     ]
    },
    {
     "name": "stdout",
     "output_type": "stream",
     "text": [
      "Train Accuracy: 0.6632, Val Accuracy: 0.6011, Test Accuracy: 0.5430\n",
      "Train loss: 1.1944\n",
      "\n",
      " Epoch 17 training:\n"
     ]
    },
    {
     "name": "stderr",
     "output_type": "stream",
     "text": [
      "100%|██████████| 711/711 [00:04<00:00, 163.12it/s]\n"
     ]
    },
    {
     "name": "stdout",
     "output_type": "stream",
     "text": [
      "Train Accuracy: 0.6596, Val Accuracy: 0.5949, Test Accuracy: 0.5325\n",
      "Train loss: 1.1867\n",
      "\n",
      " Epoch 18 training:\n"
     ]
    },
    {
     "name": "stderr",
     "output_type": "stream",
     "text": [
      "100%|██████████| 711/711 [00:04<00:00, 164.16it/s]\n"
     ]
    },
    {
     "name": "stdout",
     "output_type": "stream",
     "text": [
      "Train Accuracy: 0.6635, Val Accuracy: 0.5969, Test Accuracy: 0.5342\n",
      "Train loss: 1.1867\n",
      "\n",
      " Epoch 19 training:\n"
     ]
    },
    {
     "name": "stderr",
     "output_type": "stream",
     "text": [
      "100%|██████████| 711/711 [00:04<00:00, 164.97it/s]\n"
     ]
    },
    {
     "name": "stdout",
     "output_type": "stream",
     "text": [
      "Train Accuracy: 0.6653, Val Accuracy: 0.5987, Test Accuracy: 0.5409\n",
      "Train loss: 1.1805\n",
      "\n",
      " Epoch 20 training:\n"
     ]
    },
    {
     "name": "stderr",
     "output_type": "stream",
     "text": [
      "100%|██████████| 711/711 [00:04<00:00, 159.43it/s]\n"
     ]
    },
    {
     "name": "stdout",
     "output_type": "stream",
     "text": [
      "Train Accuracy: 0.6645, Val Accuracy: 0.5963, Test Accuracy: 0.5399\n",
      "Train loss: 1.1757\n",
      "\n",
      " Epoch 21 training:\n"
     ]
    },
    {
     "name": "stderr",
     "output_type": "stream",
     "text": [
      "100%|██████████| 711/711 [00:04<00:00, 163.81it/s]\n"
     ]
    },
    {
     "name": "stdout",
     "output_type": "stream",
     "text": [
      "Train Accuracy: 0.6664, Val Accuracy: 0.6002, Test Accuracy: 0.5406\n",
      "Train loss: 1.1730\n",
      "\n",
      " Epoch 22 training:\n"
     ]
    },
    {
     "name": "stderr",
     "output_type": "stream",
     "text": [
      "100%|██████████| 711/711 [00:04<00:00, 164.72it/s]\n"
     ]
    },
    {
     "name": "stdout",
     "output_type": "stream",
     "text": [
      "New best model validation accuracy: 0.60499. Previous: 0.60395\n",
      "Train Accuracy: 0.6611, Val Accuracy: 0.6050, Test Accuracy: 0.5496\n",
      "Train loss: 1.1716\n",
      "\n",
      " Epoch 23 training:\n"
     ]
    },
    {
     "name": "stderr",
     "output_type": "stream",
     "text": [
      "100%|██████████| 711/711 [00:04<00:00, 168.68it/s]\n"
     ]
    },
    {
     "name": "stdout",
     "output_type": "stream",
     "text": [
      "Train Accuracy: 0.6643, Val Accuracy: 0.5931, Test Accuracy: 0.5287\n",
      "Train loss: 1.1664\n",
      "\n",
      " Epoch 24 training:\n"
     ]
    },
    {
     "name": "stderr",
     "output_type": "stream",
     "text": [
      "100%|██████████| 711/711 [00:04<00:00, 156.76it/s]\n"
     ]
    },
    {
     "name": "stdout",
     "output_type": "stream",
     "text": [
      "Train Accuracy: 0.6685, Val Accuracy: 0.5962, Test Accuracy: 0.5391\n",
      "Train loss: 1.1653\n",
      "\n",
      " Epoch 25 training:\n"
     ]
    },
    {
     "name": "stderr",
     "output_type": "stream",
     "text": [
      "100%|██████████| 711/711 [00:04<00:00, 160.86it/s]\n"
     ]
    },
    {
     "name": "stdout",
     "output_type": "stream",
     "text": [
      "Train Accuracy: 0.6704, Val Accuracy: 0.6009, Test Accuracy: 0.5435\n",
      "Train loss: 1.1565\n",
      "\n",
      " Epoch 26 training:\n"
     ]
    },
    {
     "name": "stderr",
     "output_type": "stream",
     "text": [
      "100%|██████████| 711/711 [00:04<00:00, 169.57it/s]\n"
     ]
    },
    {
     "name": "stdout",
     "output_type": "stream",
     "text": [
      "Train Accuracy: 0.6700, Val Accuracy: 0.5953, Test Accuracy: 0.5334\n",
      "Train loss: 1.1569\n",
      "\n",
      " Epoch 27 training:\n"
     ]
    },
    {
     "name": "stderr",
     "output_type": "stream",
     "text": [
      "100%|██████████| 711/711 [00:04<00:00, 165.76it/s]\n"
     ]
    },
    {
     "name": "stdout",
     "output_type": "stream",
     "text": [
      "Train Accuracy: 0.6679, Val Accuracy: 0.6025, Test Accuracy: 0.5411\n",
      "Train loss: 1.1543\n",
      "\n",
      " Epoch 28 training:\n"
     ]
    },
    {
     "name": "stderr",
     "output_type": "stream",
     "text": [
      "100%|██████████| 711/711 [00:04<00:00, 169.91it/s]\n"
     ]
    },
    {
     "name": "stdout",
     "output_type": "stream",
     "text": [
      "Train Accuracy: 0.6708, Val Accuracy: 0.5999, Test Accuracy: 0.5349\n",
      "Train loss: 1.1486\n",
      "\n",
      " Epoch 29 training:\n"
     ]
    },
    {
     "name": "stderr",
     "output_type": "stream",
     "text": [
      "100%|██████████| 711/711 [00:04<00:00, 157.93it/s]\n"
     ]
    },
    {
     "name": "stdout",
     "output_type": "stream",
     "text": [
      "Train Accuracy: 0.6695, Val Accuracy: 0.6019, Test Accuracy: 0.5424\n",
      "Train loss: 1.1470\n",
      "\n",
      " Epoch 30 training:\n"
     ]
    },
    {
     "name": "stderr",
     "output_type": "stream",
     "text": [
      "100%|██████████| 711/711 [00:03<00:00, 179.49it/s]\n"
     ]
    },
    {
     "name": "stdout",
     "output_type": "stream",
     "text": [
      "Train Accuracy: 0.6699, Val Accuracy: 0.5916, Test Accuracy: 0.5301\n",
      "Train loss: 1.1471\n",
      "\n",
      " Epoch 31 training:\n"
     ]
    },
    {
     "name": "stderr",
     "output_type": "stream",
     "text": [
      "100%|██████████| 711/711 [00:04<00:00, 173.12it/s]\n"
     ]
    },
    {
     "name": "stdout",
     "output_type": "stream",
     "text": [
      "Train Accuracy: 0.6726, Val Accuracy: 0.5915, Test Accuracy: 0.5255\n",
      "Train loss: 1.1419\n",
      "\n",
      " Epoch 32 training:\n"
     ]
    },
    {
     "name": "stderr",
     "output_type": "stream",
     "text": [
      "100%|██████████| 711/711 [00:04<00:00, 173.03it/s]\n"
     ]
    },
    {
     "name": "stdout",
     "output_type": "stream",
     "text": [
      "Train Accuracy: 0.6758, Val Accuracy: 0.6006, Test Accuracy: 0.5379\n",
      "Train loss: 1.1412\n",
      "\n",
      " Epoch 33 training:\n"
     ]
    },
    {
     "name": "stderr",
     "output_type": "stream",
     "text": [
      "100%|██████████| 711/711 [00:04<00:00, 175.22it/s]\n"
     ]
    },
    {
     "name": "stdout",
     "output_type": "stream",
     "text": [
      "Train Accuracy: 0.6748, Val Accuracy: 0.5927, Test Accuracy: 0.5300\n",
      "Train loss: 1.1364\n",
      "\n",
      " Epoch 34 training:\n"
     ]
    },
    {
     "name": "stderr",
     "output_type": "stream",
     "text": [
      "100%|██████████| 711/711 [00:03<00:00, 182.86it/s]\n"
     ]
    },
    {
     "name": "stdout",
     "output_type": "stream",
     "text": [
      "Train Accuracy: 0.6735, Val Accuracy: 0.6012, Test Accuracy: 0.5442\n",
      "Train loss: 1.1388\n",
      "\n",
      " Epoch 35 training:\n"
     ]
    },
    {
     "name": "stderr",
     "output_type": "stream",
     "text": [
      "100%|██████████| 711/711 [00:04<00:00, 168.28it/s]\n"
     ]
    },
    {
     "name": "stdout",
     "output_type": "stream",
     "text": [
      "Train Accuracy: 0.6741, Val Accuracy: 0.6003, Test Accuracy: 0.5398\n",
      "Train loss: 1.1388\n",
      "\n",
      " Epoch 36 training:\n"
     ]
    },
    {
     "name": "stderr",
     "output_type": "stream",
     "text": [
      "100%|██████████| 711/711 [00:04<00:00, 171.29it/s]\n"
     ]
    },
    {
     "name": "stdout",
     "output_type": "stream",
     "text": [
      "Train Accuracy: 0.6717, Val Accuracy: 0.5982, Test Accuracy: 0.5385\n",
      "Train loss: 1.1334\n",
      "\n",
      " Epoch 37 training:\n"
     ]
    },
    {
     "name": "stderr",
     "output_type": "stream",
     "text": [
      "100%|██████████| 711/711 [00:04<00:00, 170.12it/s]\n"
     ]
    },
    {
     "name": "stdout",
     "output_type": "stream",
     "text": [
      "Train Accuracy: 0.6753, Val Accuracy: 0.5940, Test Accuracy: 0.5357\n",
      "Train loss: 1.1297\n",
      "\n",
      " Epoch 38 training:\n"
     ]
    },
    {
     "name": "stderr",
     "output_type": "stream",
     "text": [
      "100%|██████████| 711/711 [00:04<00:00, 163.85it/s]\n"
     ]
    },
    {
     "name": "stdout",
     "output_type": "stream",
     "text": [
      "Train Accuracy: 0.6782, Val Accuracy: 0.5935, Test Accuracy: 0.5295\n",
      "Train loss: 1.1303\n",
      "\n",
      " Epoch 39 training:\n"
     ]
    },
    {
     "name": "stderr",
     "output_type": "stream",
     "text": [
      "100%|██████████| 711/711 [00:04<00:00, 160.56it/s]\n"
     ]
    },
    {
     "name": "stdout",
     "output_type": "stream",
     "text": [
      "Train Accuracy: 0.6803, Val Accuracy: 0.5975, Test Accuracy: 0.5362\n",
      "Train loss: 1.1271\n",
      "\n",
      " Epoch 40 training:\n"
     ]
    },
    {
     "name": "stderr",
     "output_type": "stream",
     "text": [
      "100%|██████████| 711/711 [00:04<00:00, 163.40it/s]\n"
     ]
    },
    {
     "name": "stdout",
     "output_type": "stream",
     "text": [
      "Train Accuracy: 0.6784, Val Accuracy: 0.5975, Test Accuracy: 0.5426\n",
      "Train loss: 1.1257\n",
      "\n",
      " Epoch 41 training:\n"
     ]
    },
    {
     "name": "stderr",
     "output_type": "stream",
     "text": [
      "100%|██████████| 711/711 [00:04<00:00, 172.50it/s]\n"
     ]
    },
    {
     "name": "stdout",
     "output_type": "stream",
     "text": [
      "Train Accuracy: 0.6756, Val Accuracy: 0.5917, Test Accuracy: 0.5385\n",
      "Train loss: 1.1221\n",
      "\n",
      " Epoch 42 training:\n"
     ]
    },
    {
     "name": "stderr",
     "output_type": "stream",
     "text": [
      "100%|██████████| 711/711 [00:04<00:00, 159.23it/s]\n"
     ]
    },
    {
     "name": "stdout",
     "output_type": "stream",
     "text": [
      "Train Accuracy: 0.6734, Val Accuracy: 0.5876, Test Accuracy: 0.5259\n",
      "Train loss: 1.1213\n",
      "\n",
      " Epoch 43 training:\n"
     ]
    },
    {
     "name": "stderr",
     "output_type": "stream",
     "text": [
      "100%|██████████| 711/711 [00:03<00:00, 181.75it/s]\n"
     ]
    },
    {
     "name": "stdout",
     "output_type": "stream",
     "text": [
      "Train Accuracy: 0.6792, Val Accuracy: 0.5951, Test Accuracy: 0.5276\n",
      "Train loss: 1.1214\n",
      "\n",
      " Epoch 44 training:\n"
     ]
    },
    {
     "name": "stderr",
     "output_type": "stream",
     "text": [
      "100%|██████████| 711/711 [00:04<00:00, 166.97it/s]\n"
     ]
    },
    {
     "name": "stdout",
     "output_type": "stream",
     "text": [
      "Train Accuracy: 0.6790, Val Accuracy: 0.5972, Test Accuracy: 0.5327\n",
      "Train loss: 1.1177\n",
      "\n",
      " Epoch 45 training:\n"
     ]
    },
    {
     "name": "stderr",
     "output_type": "stream",
     "text": [
      "100%|██████████| 711/711 [00:04<00:00, 169.27it/s]\n"
     ]
    },
    {
     "name": "stdout",
     "output_type": "stream",
     "text": [
      "Train Accuracy: 0.6799, Val Accuracy: 0.6010, Test Accuracy: 0.5378\n",
      "Train loss: 1.1160\n",
      "\n",
      " Epoch 46 training:\n"
     ]
    },
    {
     "name": "stderr",
     "output_type": "stream",
     "text": [
      "100%|██████████| 711/711 [00:04<00:00, 172.88it/s]\n"
     ]
    },
    {
     "name": "stdout",
     "output_type": "stream",
     "text": [
      "Train Accuracy: 0.6763, Val Accuracy: 0.5960, Test Accuracy: 0.5354\n",
      "Train loss: 1.1149\n",
      "\n",
      " Epoch 47 training:\n"
     ]
    },
    {
     "name": "stderr",
     "output_type": "stream",
     "text": [
      "100%|██████████| 711/711 [00:03<00:00, 187.63it/s]\n"
     ]
    },
    {
     "name": "stdout",
     "output_type": "stream",
     "text": [
      "Train Accuracy: 0.6807, Val Accuracy: 0.5890, Test Accuracy: 0.5257\n",
      "Train loss: 1.1123\n",
      "\n",
      " Epoch 48 training:\n"
     ]
    },
    {
     "name": "stderr",
     "output_type": "stream",
     "text": [
      "100%|██████████| 711/711 [00:04<00:00, 160.90it/s]\n"
     ]
    },
    {
     "name": "stdout",
     "output_type": "stream",
     "text": [
      "Train Accuracy: 0.6773, Val Accuracy: 0.5920, Test Accuracy: 0.5311\n",
      "Train loss: 1.1088\n",
      "\n",
      " Epoch 49 training:\n"
     ]
    },
    {
     "name": "stderr",
     "output_type": "stream",
     "text": [
      "100%|██████████| 711/711 [00:04<00:00, 155.09it/s]\n"
     ]
    },
    {
     "name": "stdout",
     "output_type": "stream",
     "text": [
      "Train Accuracy: 0.6787, Val Accuracy: 0.5903, Test Accuracy: 0.5295\n",
      "Train loss: 1.1114\n",
      "\n",
      " Epoch 50 training:\n"
     ]
    },
    {
     "name": "stderr",
     "output_type": "stream",
     "text": [
      "100%|██████████| 711/711 [00:04<00:00, 165.24it/s]\n"
     ]
    },
    {
     "name": "stdout",
     "output_type": "stream",
     "text": [
      "Train Accuracy: 0.6761, Val Accuracy: 0.5869, Test Accuracy: 0.5292\n",
      "Train loss: 1.1078\n",
      "\n",
      " Epoch 51 training:\n"
     ]
    },
    {
     "name": "stderr",
     "output_type": "stream",
     "text": [
      "100%|██████████| 711/711 [00:04<00:00, 152.75it/s]\n"
     ]
    },
    {
     "name": "stdout",
     "output_type": "stream",
     "text": [
      "Train Accuracy: 0.6813, Val Accuracy: 0.5945, Test Accuracy: 0.5373\n",
      "Train loss: 1.1082\n",
      "\n",
      " Epoch 52 training:\n"
     ]
    },
    {
     "name": "stderr",
     "output_type": "stream",
     "text": [
      "100%|██████████| 711/711 [00:04<00:00, 173.65it/s]\n"
     ]
    },
    {
     "name": "stdout",
     "output_type": "stream",
     "text": [
      "Train Accuracy: 0.6789, Val Accuracy: 0.5873, Test Accuracy: 0.5192\n",
      "Train loss: 1.1040\n",
      "\n",
      " Epoch 53 training:\n"
     ]
    },
    {
     "name": "stderr",
     "output_type": "stream",
     "text": [
      "100%|██████████| 711/711 [00:04<00:00, 167.23it/s]\n"
     ]
    },
    {
     "name": "stdout",
     "output_type": "stream",
     "text": [
      "Train Accuracy: 0.6786, Val Accuracy: 0.5902, Test Accuracy: 0.5265\n",
      "Train loss: 1.1043\n",
      "\n",
      " Epoch 54 training:\n"
     ]
    },
    {
     "name": "stderr",
     "output_type": "stream",
     "text": [
      "100%|██████████| 711/711 [00:04<00:00, 176.46it/s]\n"
     ]
    },
    {
     "name": "stdout",
     "output_type": "stream",
     "text": [
      "Train Accuracy: 0.6811, Val Accuracy: 0.5987, Test Accuracy: 0.5434\n",
      "Train loss: 1.1059\n",
      "\n",
      " Epoch 55 training:\n"
     ]
    },
    {
     "name": "stderr",
     "output_type": "stream",
     "text": [
      "100%|██████████| 711/711 [00:04<00:00, 158.26it/s]\n"
     ]
    },
    {
     "name": "stdout",
     "output_type": "stream",
     "text": [
      "Train Accuracy: 0.6795, Val Accuracy: 0.5930, Test Accuracy: 0.5414\n",
      "Train loss: 1.1023\n",
      "\n",
      " Epoch 56 training:\n"
     ]
    },
    {
     "name": "stderr",
     "output_type": "stream",
     "text": [
      "100%|██████████| 711/711 [00:04<00:00, 165.82it/s]\n"
     ]
    },
    {
     "name": "stdout",
     "output_type": "stream",
     "text": [
      "Train Accuracy: 0.6793, Val Accuracy: 0.5986, Test Accuracy: 0.5436\n",
      "Train loss: 1.0967\n",
      "\n",
      " Epoch 57 training:\n"
     ]
    },
    {
     "name": "stderr",
     "output_type": "stream",
     "text": [
      "100%|██████████| 711/711 [00:04<00:00, 169.63it/s]\n"
     ]
    },
    {
     "name": "stdout",
     "output_type": "stream",
     "text": [
      "Train Accuracy: 0.6809, Val Accuracy: 0.5932, Test Accuracy: 0.5291\n",
      "Train loss: 1.0988\n",
      "\n",
      " Epoch 58 training:\n"
     ]
    },
    {
     "name": "stderr",
     "output_type": "stream",
     "text": [
      "100%|██████████| 711/711 [00:04<00:00, 172.49it/s]\n"
     ]
    },
    {
     "name": "stdout",
     "output_type": "stream",
     "text": [
      "Train Accuracy: 0.6768, Val Accuracy: 0.5980, Test Accuracy: 0.5409\n",
      "Train loss: 1.0964\n",
      "\n",
      " Epoch 59 training:\n"
     ]
    },
    {
     "name": "stderr",
     "output_type": "stream",
     "text": [
      "100%|██████████| 711/711 [00:04<00:00, 168.64it/s]\n"
     ]
    },
    {
     "name": "stdout",
     "output_type": "stream",
     "text": [
      "Train Accuracy: 0.6784, Val Accuracy: 0.5954, Test Accuracy: 0.5410\n",
      "Train loss: 1.0972\n",
      "\n",
      " Epoch 60 training:\n"
     ]
    },
    {
     "name": "stderr",
     "output_type": "stream",
     "text": [
      "100%|██████████| 711/711 [00:04<00:00, 160.51it/s]\n"
     ]
    },
    {
     "name": "stdout",
     "output_type": "stream",
     "text": [
      "Train Accuracy: 0.6839, Val Accuracy: 0.5943, Test Accuracy: 0.5279\n",
      "Train loss: 1.0986\n",
      "\n",
      " Epoch 61 training:\n"
     ]
    },
    {
     "name": "stderr",
     "output_type": "stream",
     "text": [
      "100%|██████████| 711/711 [00:04<00:00, 166.61it/s]\n"
     ]
    },
    {
     "name": "stdout",
     "output_type": "stream",
     "text": [
      "Train Accuracy: 0.6845, Val Accuracy: 0.5943, Test Accuracy: 0.5263\n",
      "Train loss: 1.0970\n",
      "\n",
      " Epoch 62 training:\n"
     ]
    },
    {
     "name": "stderr",
     "output_type": "stream",
     "text": [
      "100%|██████████| 711/711 [00:03<00:00, 181.44it/s]\n"
     ]
    },
    {
     "name": "stdout",
     "output_type": "stream",
     "text": [
      "Train Accuracy: 0.6826, Val Accuracy: 0.5943, Test Accuracy: 0.5334\n",
      "Train loss: 1.0939\n",
      "\n",
      " Epoch 63 training:\n"
     ]
    },
    {
     "name": "stderr",
     "output_type": "stream",
     "text": [
      "100%|██████████| 711/711 [00:04<00:00, 171.63it/s]\n"
     ]
    },
    {
     "name": "stdout",
     "output_type": "stream",
     "text": [
      "Train Accuracy: 0.6812, Val Accuracy: 0.5877, Test Accuracy: 0.5219\n",
      "Train loss: 1.0949\n",
      "\n",
      " Epoch 64 training:\n"
     ]
    },
    {
     "name": "stderr",
     "output_type": "stream",
     "text": [
      "100%|██████████| 711/711 [00:04<00:00, 167.46it/s]\n"
     ]
    },
    {
     "name": "stdout",
     "output_type": "stream",
     "text": [
      "Train Accuracy: 0.6802, Val Accuracy: 0.5896, Test Accuracy: 0.5333\n",
      "Train loss: 1.0920\n",
      "\n",
      " Epoch 65 training:\n"
     ]
    },
    {
     "name": "stderr",
     "output_type": "stream",
     "text": [
      "100%|██████████| 711/711 [00:04<00:00, 163.63it/s]\n"
     ]
    },
    {
     "name": "stdout",
     "output_type": "stream",
     "text": [
      "Train Accuracy: 0.6815, Val Accuracy: 0.5967, Test Accuracy: 0.5411\n",
      "Train loss: 1.0915\n",
      "\n",
      " Epoch 66 training:\n"
     ]
    },
    {
     "name": "stderr",
     "output_type": "stream",
     "text": [
      "100%|██████████| 711/711 [00:04<00:00, 161.57it/s]\n"
     ]
    },
    {
     "name": "stdout",
     "output_type": "stream",
     "text": [
      "Train Accuracy: 0.6827, Val Accuracy: 0.5942, Test Accuracy: 0.5313\n",
      "Train loss: 1.0898\n",
      "\n",
      " Epoch 67 training:\n"
     ]
    },
    {
     "name": "stderr",
     "output_type": "stream",
     "text": [
      "100%|██████████| 711/711 [00:03<00:00, 184.31it/s]\n"
     ]
    },
    {
     "name": "stdout",
     "output_type": "stream",
     "text": [
      "Train Accuracy: 0.6846, Val Accuracy: 0.5902, Test Accuracy: 0.5254\n",
      "Train loss: 1.0904\n",
      "\n",
      " Epoch 68 training:\n"
     ]
    },
    {
     "name": "stderr",
     "output_type": "stream",
     "text": [
      "100%|██████████| 711/711 [00:04<00:00, 163.88it/s]\n"
     ]
    },
    {
     "name": "stdout",
     "output_type": "stream",
     "text": [
      "Train Accuracy: 0.6782, Val Accuracy: 0.5969, Test Accuracy: 0.5368\n",
      "Train loss: 1.0924\n",
      "\n",
      " Epoch 69 training:\n"
     ]
    },
    {
     "name": "stderr",
     "output_type": "stream",
     "text": [
      "100%|██████████| 711/711 [00:04<00:00, 161.69it/s]\n"
     ]
    },
    {
     "name": "stdout",
     "output_type": "stream",
     "text": [
      "Train Accuracy: 0.6874, Val Accuracy: 0.5921, Test Accuracy: 0.5286\n",
      "Train loss: 1.0926\n",
      "\n",
      " Epoch 70 training:\n"
     ]
    },
    {
     "name": "stderr",
     "output_type": "stream",
     "text": [
      "100%|██████████| 711/711 [00:04<00:00, 176.00it/s]\n"
     ]
    },
    {
     "name": "stdout",
     "output_type": "stream",
     "text": [
      "Train Accuracy: 0.6872, Val Accuracy: 0.5913, Test Accuracy: 0.5277\n",
      "Train loss: 1.0876\n",
      "\n",
      " Epoch 71 training:\n"
     ]
    },
    {
     "name": "stderr",
     "output_type": "stream",
     "text": [
      "100%|██████████| 711/711 [00:04<00:00, 172.12it/s]\n"
     ]
    },
    {
     "name": "stdout",
     "output_type": "stream",
     "text": [
      "Train Accuracy: 0.6854, Val Accuracy: 0.5906, Test Accuracy: 0.5247\n",
      "Train loss: 1.0863\n",
      "\n",
      " Epoch 72 training:\n"
     ]
    },
    {
     "name": "stderr",
     "output_type": "stream",
     "text": [
      "100%|██████████| 711/711 [00:04<00:00, 171.36it/s]\n"
     ]
    },
    {
     "name": "stdout",
     "output_type": "stream",
     "text": [
      "Train Accuracy: 0.6863, Val Accuracy: 0.5917, Test Accuracy: 0.5290\n",
      "Train loss: 1.0865\n",
      "\n",
      " Epoch 73 training:\n"
     ]
    },
    {
     "name": "stderr",
     "output_type": "stream",
     "text": [
      "100%|██████████| 711/711 [00:04<00:00, 170.14it/s]\n"
     ]
    },
    {
     "name": "stdout",
     "output_type": "stream",
     "text": [
      "Train Accuracy: 0.6858, Val Accuracy: 0.5946, Test Accuracy: 0.5331\n",
      "Train loss: 1.0841\n",
      "\n",
      " Epoch 74 training:\n"
     ]
    },
    {
     "name": "stderr",
     "output_type": "stream",
     "text": [
      "100%|██████████| 711/711 [00:04<00:00, 160.48it/s]\n"
     ]
    },
    {
     "name": "stdout",
     "output_type": "stream",
     "text": [
      "Train Accuracy: 0.6848, Val Accuracy: 0.5938, Test Accuracy: 0.5346\n",
      "Train loss: 1.0832\n",
      "\n",
      " Epoch 75 training:\n"
     ]
    },
    {
     "name": "stderr",
     "output_type": "stream",
     "text": [
      "100%|██████████| 711/711 [00:04<00:00, 163.13it/s]\n"
     ]
    },
    {
     "name": "stdout",
     "output_type": "stream",
     "text": [
      "Train Accuracy: 0.6848, Val Accuracy: 0.5917, Test Accuracy: 0.5317\n",
      "Train loss: 1.0835\n",
      "\n",
      " Epoch 76 training:\n"
     ]
    },
    {
     "name": "stderr",
     "output_type": "stream",
     "text": [
      "100%|██████████| 711/711 [00:03<00:00, 179.81it/s]\n"
     ]
    },
    {
     "name": "stdout",
     "output_type": "stream",
     "text": [
      "Train Accuracy: 0.6824, Val Accuracy: 0.5891, Test Accuracy: 0.5284\n",
      "Train loss: 1.0846\n",
      "\n",
      " Epoch 77 training:\n"
     ]
    },
    {
     "name": "stderr",
     "output_type": "stream",
     "text": [
      "100%|██████████| 711/711 [00:04<00:00, 169.13it/s]\n"
     ]
    },
    {
     "name": "stdout",
     "output_type": "stream",
     "text": [
      "Train Accuracy: 0.6867, Val Accuracy: 0.5961, Test Accuracy: 0.5324\n",
      "Train loss: 1.0828\n",
      "\n",
      " Epoch 78 training:\n"
     ]
    },
    {
     "name": "stderr",
     "output_type": "stream",
     "text": [
      "100%|██████████| 711/711 [00:04<00:00, 167.45it/s]\n"
     ]
    },
    {
     "name": "stdout",
     "output_type": "stream",
     "text": [
      "Train Accuracy: 0.6851, Val Accuracy: 0.5939, Test Accuracy: 0.5354\n",
      "Train loss: 1.0805\n",
      "\n",
      " Epoch 79 training:\n"
     ]
    },
    {
     "name": "stderr",
     "output_type": "stream",
     "text": [
      "100%|██████████| 711/711 [00:04<00:00, 162.50it/s]\n"
     ]
    },
    {
     "name": "stdout",
     "output_type": "stream",
     "text": [
      "Train Accuracy: 0.6852, Val Accuracy: 0.5933, Test Accuracy: 0.5310\n",
      "Train loss: 1.0806\n",
      "\n",
      " Epoch 80 training:\n"
     ]
    },
    {
     "name": "stderr",
     "output_type": "stream",
     "text": [
      "100%|██████████| 711/711 [00:04<00:00, 160.38it/s]\n"
     ]
    },
    {
     "name": "stdout",
     "output_type": "stream",
     "text": [
      "Train Accuracy: 0.6847, Val Accuracy: 0.5903, Test Accuracy: 0.5268\n",
      "Train loss: 1.0781\n",
      "\n",
      " Epoch 81 training:\n"
     ]
    },
    {
     "name": "stderr",
     "output_type": "stream",
     "text": [
      "100%|██████████| 711/711 [00:04<00:00, 160.62it/s]\n"
     ]
    },
    {
     "name": "stdout",
     "output_type": "stream",
     "text": [
      "Train Accuracy: 0.6802, Val Accuracy: 0.5866, Test Accuracy: 0.5237\n",
      "Train loss: 1.0834\n",
      "\n",
      " Epoch 82 training:\n"
     ]
    },
    {
     "name": "stderr",
     "output_type": "stream",
     "text": [
      "100%|██████████| 711/711 [00:04<00:00, 169.09it/s]\n"
     ]
    },
    {
     "name": "stdout",
     "output_type": "stream",
     "text": [
      "Train Accuracy: 0.6869, Val Accuracy: 0.5936, Test Accuracy: 0.5336\n",
      "Train loss: 1.0806\n",
      "\n",
      " Epoch 83 training:\n"
     ]
    },
    {
     "name": "stderr",
     "output_type": "stream",
     "text": [
      "100%|██████████| 711/711 [00:04<00:00, 170.75it/s]\n"
     ]
    },
    {
     "name": "stdout",
     "output_type": "stream",
     "text": [
      "Train Accuracy: 0.6885, Val Accuracy: 0.5907, Test Accuracy: 0.5247\n",
      "Train loss: 1.0838\n",
      "\n",
      " Epoch 84 training:\n"
     ]
    },
    {
     "name": "stderr",
     "output_type": "stream",
     "text": [
      "100%|██████████| 711/711 [00:03<00:00, 185.54it/s]\n"
     ]
    },
    {
     "name": "stdout",
     "output_type": "stream",
     "text": [
      "Train Accuracy: 0.6858, Val Accuracy: 0.5906, Test Accuracy: 0.5262\n",
      "Train loss: 1.0738\n",
      "\n",
      " Epoch 85 training:\n"
     ]
    },
    {
     "name": "stderr",
     "output_type": "stream",
     "text": [
      "100%|██████████| 711/711 [00:04<00:00, 166.14it/s]\n"
     ]
    },
    {
     "name": "stdout",
     "output_type": "stream",
     "text": [
      "Train Accuracy: 0.6833, Val Accuracy: 0.5904, Test Accuracy: 0.5253\n",
      "Train loss: 1.0789\n",
      "\n",
      " Epoch 86 training:\n"
     ]
    },
    {
     "name": "stderr",
     "output_type": "stream",
     "text": [
      "100%|██████████| 711/711 [00:04<00:00, 176.94it/s]\n"
     ]
    },
    {
     "name": "stdout",
     "output_type": "stream",
     "text": [
      "Train Accuracy: 0.6885, Val Accuracy: 0.5949, Test Accuracy: 0.5327\n",
      "Train loss: 1.0728\n",
      "\n",
      " Epoch 87 training:\n"
     ]
    },
    {
     "name": "stderr",
     "output_type": "stream",
     "text": [
      "100%|██████████| 711/711 [00:04<00:00, 168.31it/s]\n"
     ]
    },
    {
     "name": "stdout",
     "output_type": "stream",
     "text": [
      "Train Accuracy: 0.6868, Val Accuracy: 0.5875, Test Accuracy: 0.5237\n",
      "Train loss: 1.0749\n",
      "\n",
      " Epoch 88 training:\n"
     ]
    },
    {
     "name": "stderr",
     "output_type": "stream",
     "text": [
      "100%|██████████| 711/711 [00:04<00:00, 164.85it/s]\n"
     ]
    },
    {
     "name": "stdout",
     "output_type": "stream",
     "text": [
      "Train Accuracy: 0.6868, Val Accuracy: 0.5884, Test Accuracy: 0.5288\n",
      "Train loss: 1.0752\n",
      "\n",
      " Epoch 89 training:\n"
     ]
    },
    {
     "name": "stderr",
     "output_type": "stream",
     "text": [
      "100%|██████████| 711/711 [00:04<00:00, 162.60it/s]\n"
     ]
    },
    {
     "name": "stdout",
     "output_type": "stream",
     "text": [
      "Train Accuracy: 0.6859, Val Accuracy: 0.5918, Test Accuracy: 0.5313\n",
      "Train loss: 1.0726\n",
      "\n",
      " Epoch 90 training:\n"
     ]
    },
    {
     "name": "stderr",
     "output_type": "stream",
     "text": [
      "100%|██████████| 711/711 [00:04<00:00, 162.82it/s]\n"
     ]
    },
    {
     "name": "stdout",
     "output_type": "stream",
     "text": [
      "Train Accuracy: 0.6873, Val Accuracy: 0.5980, Test Accuracy: 0.5387\n",
      "Train loss: 1.0759\n",
      "\n",
      " Epoch 91 training:\n"
     ]
    },
    {
     "name": "stderr",
     "output_type": "stream",
     "text": [
      "100%|██████████| 711/711 [00:04<00:00, 162.17it/s]\n"
     ]
    },
    {
     "name": "stdout",
     "output_type": "stream",
     "text": [
      "Train Accuracy: 0.6840, Val Accuracy: 0.5904, Test Accuracy: 0.5269\n",
      "Train loss: 1.0770\n",
      "\n",
      " Epoch 92 training:\n"
     ]
    },
    {
     "name": "stderr",
     "output_type": "stream",
     "text": [
      "100%|██████████| 711/711 [00:04<00:00, 168.47it/s]\n"
     ]
    },
    {
     "name": "stdout",
     "output_type": "stream",
     "text": [
      "Train Accuracy: 0.6871, Val Accuracy: 0.5939, Test Accuracy: 0.5320\n",
      "Train loss: 1.0714\n",
      "\n",
      " Epoch 93 training:\n"
     ]
    },
    {
     "name": "stderr",
     "output_type": "stream",
     "text": [
      "100%|██████████| 711/711 [00:04<00:00, 158.01it/s]\n"
     ]
    },
    {
     "name": "stdout",
     "output_type": "stream",
     "text": [
      "Train Accuracy: 0.6827, Val Accuracy: 0.5870, Test Accuracy: 0.5254\n",
      "Train loss: 1.0740\n",
      "\n",
      " Epoch 94 training:\n"
     ]
    },
    {
     "name": "stderr",
     "output_type": "stream",
     "text": [
      "100%|██████████| 711/711 [00:04<00:00, 153.42it/s]\n"
     ]
    },
    {
     "name": "stdout",
     "output_type": "stream",
     "text": [
      "Train Accuracy: 0.6873, Val Accuracy: 0.5887, Test Accuracy: 0.5278\n",
      "Train loss: 1.0684\n",
      "\n",
      " Epoch 95 training:\n"
     ]
    },
    {
     "name": "stderr",
     "output_type": "stream",
     "text": [
      "100%|██████████| 711/711 [00:03<00:00, 177.76it/s]\n"
     ]
    },
    {
     "name": "stdout",
     "output_type": "stream",
     "text": [
      "Train Accuracy: 0.6900, Val Accuracy: 0.5957, Test Accuracy: 0.5312\n",
      "Train loss: 1.0715\n",
      "\n",
      " Epoch 96 training:\n"
     ]
    },
    {
     "name": "stderr",
     "output_type": "stream",
     "text": [
      "100%|██████████| 711/711 [00:03<00:00, 179.45it/s]\n"
     ]
    },
    {
     "name": "stdout",
     "output_type": "stream",
     "text": [
      "Train Accuracy: 0.6911, Val Accuracy: 0.5939, Test Accuracy: 0.5281\n",
      "Train loss: 1.0686\n",
      "\n",
      " Epoch 97 training:\n"
     ]
    },
    {
     "name": "stderr",
     "output_type": "stream",
     "text": [
      "100%|██████████| 711/711 [00:04<00:00, 145.62it/s]\n"
     ]
    },
    {
     "name": "stdout",
     "output_type": "stream",
     "text": [
      "Train Accuracy: 0.6891, Val Accuracy: 0.5924, Test Accuracy: 0.5324\n",
      "Train loss: 1.0642\n",
      "\n",
      " Epoch 98 training:\n"
     ]
    },
    {
     "name": "stderr",
     "output_type": "stream",
     "text": [
      "100%|██████████| 711/711 [00:04<00:00, 174.56it/s]\n"
     ]
    },
    {
     "name": "stdout",
     "output_type": "stream",
     "text": [
      "Train Accuracy: 0.6871, Val Accuracy: 0.5898, Test Accuracy: 0.5235\n",
      "Train loss: 1.0703\n",
      "\n",
      " Epoch 99 training:\n"
     ]
    },
    {
     "name": "stderr",
     "output_type": "stream",
     "text": [
      "100%|██████████| 711/711 [00:04<00:00, 160.86it/s]\n"
     ]
    },
    {
     "name": "stdout",
     "output_type": "stream",
     "text": [
      "Train Accuracy: 0.6882, Val Accuracy: 0.5966, Test Accuracy: 0.5303\n",
      "Train loss: 1.0670\n",
      "\n",
      " Epoch 100 training:\n"
     ]
    },
    {
     "name": "stderr",
     "output_type": "stream",
     "text": [
      "100%|██████████| 711/711 [00:04<00:00, 157.42it/s]\n"
     ]
    },
    {
     "name": "stdout",
     "output_type": "stream",
     "text": [
      "Train Accuracy: 0.6893, Val Accuracy: 0.5938, Test Accuracy: 0.5276\n",
      "Train loss: 1.0658\n",
      "\n",
      " Epoch 101 training:\n"
     ]
    },
    {
     "name": "stderr",
     "output_type": "stream",
     "text": [
      "100%|██████████| 711/711 [00:03<00:00, 178.56it/s]\n"
     ]
    },
    {
     "name": "stdout",
     "output_type": "stream",
     "text": [
      "Train Accuracy: 0.6901, Val Accuracy: 0.5907, Test Accuracy: 0.5276\n",
      "Train loss: 1.0672\n",
      "\n",
      " Epoch 102 training:\n"
     ]
    },
    {
     "name": "stderr",
     "output_type": "stream",
     "text": [
      "100%|██████████| 711/711 [00:04<00:00, 168.23it/s]\n"
     ]
    },
    {
     "name": "stdout",
     "output_type": "stream",
     "text": [
      "Train Accuracy: 0.6868, Val Accuracy: 0.5945, Test Accuracy: 0.5290\n",
      "Train loss: 1.0665\n",
      "\n",
      " Epoch 103 training:\n"
     ]
    },
    {
     "name": "stderr",
     "output_type": "stream",
     "text": [
      "100%|██████████| 711/711 [00:04<00:00, 169.91it/s]\n"
     ]
    },
    {
     "name": "stdout",
     "output_type": "stream",
     "text": [
      "Train Accuracy: 0.6891, Val Accuracy: 0.5893, Test Accuracy: 0.5261\n",
      "Train loss: 1.0672\n",
      "\n",
      " Epoch 104 training:\n"
     ]
    },
    {
     "name": "stderr",
     "output_type": "stream",
     "text": [
      "100%|██████████| 711/711 [00:04<00:00, 159.02it/s]\n"
     ]
    },
    {
     "name": "stdout",
     "output_type": "stream",
     "text": [
      "Train Accuracy: 0.6900, Val Accuracy: 0.5935, Test Accuracy: 0.5289\n",
      "Train loss: 1.0691\n",
      "\n",
      " Epoch 105 training:\n"
     ]
    },
    {
     "name": "stderr",
     "output_type": "stream",
     "text": [
      "100%|██████████| 711/711 [00:04<00:00, 173.16it/s]\n"
     ]
    },
    {
     "name": "stdout",
     "output_type": "stream",
     "text": [
      "Train Accuracy: 0.6891, Val Accuracy: 0.5909, Test Accuracy: 0.5234\n",
      "Train loss: 1.0655\n",
      "\n",
      " Epoch 106 training:\n"
     ]
    },
    {
     "name": "stderr",
     "output_type": "stream",
     "text": [
      "100%|██████████| 711/711 [00:04<00:00, 166.20it/s]\n"
     ]
    },
    {
     "name": "stdout",
     "output_type": "stream",
     "text": [
      "Train Accuracy: 0.6897, Val Accuracy: 0.5900, Test Accuracy: 0.5222\n",
      "Train loss: 1.0628\n",
      "\n",
      " Epoch 107 training:\n"
     ]
    },
    {
     "name": "stderr",
     "output_type": "stream",
     "text": [
      "100%|██████████| 711/711 [00:04<00:00, 153.58it/s]\n"
     ]
    },
    {
     "name": "stdout",
     "output_type": "stream",
     "text": [
      "Train Accuracy: 0.6891, Val Accuracy: 0.5846, Test Accuracy: 0.5189\n",
      "Train loss: 1.0643\n",
      "\n",
      " Epoch 108 training:\n"
     ]
    },
    {
     "name": "stderr",
     "output_type": "stream",
     "text": [
      "100%|██████████| 711/711 [00:04<00:00, 177.05it/s]\n"
     ]
    },
    {
     "name": "stdout",
     "output_type": "stream",
     "text": [
      "Train Accuracy: 0.6910, Val Accuracy: 0.5944, Test Accuracy: 0.5339\n",
      "Train loss: 1.0673\n",
      "\n",
      " Epoch 109 training:\n"
     ]
    },
    {
     "name": "stderr",
     "output_type": "stream",
     "text": [
      "100%|██████████| 711/711 [00:04<00:00, 152.25it/s]\n"
     ]
    },
    {
     "name": "stdout",
     "output_type": "stream",
     "text": [
      "Train Accuracy: 0.6921, Val Accuracy: 0.5961, Test Accuracy: 0.5355\n",
      "Train loss: 1.0627\n",
      "\n",
      " Epoch 110 training:\n"
     ]
    },
    {
     "name": "stderr",
     "output_type": "stream",
     "text": [
      "100%|██████████| 711/711 [00:04<00:00, 175.76it/s]\n"
     ]
    },
    {
     "name": "stdout",
     "output_type": "stream",
     "text": [
      "Train Accuracy: 0.6904, Val Accuracy: 0.5935, Test Accuracy: 0.5338\n",
      "Train loss: 1.0605\n",
      "\n",
      " Epoch 111 training:\n"
     ]
    },
    {
     "name": "stderr",
     "output_type": "stream",
     "text": [
      "100%|██████████| 711/711 [00:04<00:00, 168.39it/s]\n"
     ]
    },
    {
     "name": "stdout",
     "output_type": "stream",
     "text": [
      "Train Accuracy: 0.6900, Val Accuracy: 0.5949, Test Accuracy: 0.5330\n",
      "Train loss: 1.0580\n",
      "\n",
      " Epoch 112 training:\n"
     ]
    },
    {
     "name": "stderr",
     "output_type": "stream",
     "text": [
      "100%|██████████| 711/711 [00:04<00:00, 177.10it/s]\n"
     ]
    },
    {
     "name": "stdout",
     "output_type": "stream",
     "text": [
      "Train Accuracy: 0.6896, Val Accuracy: 0.5898, Test Accuracy: 0.5273\n",
      "Train loss: 1.0613\n",
      "\n",
      " Epoch 113 training:\n"
     ]
    },
    {
     "name": "stderr",
     "output_type": "stream",
     "text": [
      "100%|██████████| 711/711 [00:04<00:00, 172.35it/s]\n"
     ]
    },
    {
     "name": "stdout",
     "output_type": "stream",
     "text": [
      "Train Accuracy: 0.6886, Val Accuracy: 0.5932, Test Accuracy: 0.5244\n",
      "Train loss: 1.0618\n",
      "\n",
      " Epoch 114 training:\n"
     ]
    },
    {
     "name": "stderr",
     "output_type": "stream",
     "text": [
      "100%|██████████| 711/711 [00:04<00:00, 160.14it/s]\n"
     ]
    },
    {
     "name": "stdout",
     "output_type": "stream",
     "text": [
      "Train Accuracy: 0.6908, Val Accuracy: 0.5971, Test Accuracy: 0.5311\n",
      "Train loss: 1.0635\n",
      "\n",
      " Epoch 115 training:\n"
     ]
    },
    {
     "name": "stderr",
     "output_type": "stream",
     "text": [
      "100%|██████████| 711/711 [00:04<00:00, 152.11it/s]\n"
     ]
    },
    {
     "name": "stdout",
     "output_type": "stream",
     "text": [
      "Train Accuracy: 0.6923, Val Accuracy: 0.5929, Test Accuracy: 0.5264\n",
      "Train loss: 1.0601\n",
      "\n",
      " Epoch 116 training:\n"
     ]
    },
    {
     "name": "stderr",
     "output_type": "stream",
     "text": [
      "100%|██████████| 711/711 [00:04<00:00, 159.52it/s]\n"
     ]
    },
    {
     "name": "stdout",
     "output_type": "stream",
     "text": [
      "Train Accuracy: 0.6927, Val Accuracy: 0.5953, Test Accuracy: 0.5327\n",
      "Train loss: 1.0601\n",
      "\n",
      " Epoch 117 training:\n"
     ]
    },
    {
     "name": "stderr",
     "output_type": "stream",
     "text": [
      "100%|██████████| 711/711 [00:04<00:00, 146.28it/s]\n"
     ]
    },
    {
     "name": "stdout",
     "output_type": "stream",
     "text": [
      "Train Accuracy: 0.6896, Val Accuracy: 0.5920, Test Accuracy: 0.5292\n",
      "Train loss: 1.0608\n",
      "\n",
      " Epoch 118 training:\n"
     ]
    },
    {
     "name": "stderr",
     "output_type": "stream",
     "text": [
      "100%|██████████| 711/711 [00:04<00:00, 154.90it/s]\n"
     ]
    },
    {
     "name": "stdout",
     "output_type": "stream",
     "text": [
      "Train Accuracy: 0.6909, Val Accuracy: 0.5906, Test Accuracy: 0.5285\n",
      "Train loss: 1.0580\n",
      "\n",
      " Epoch 119 training:\n"
     ]
    },
    {
     "name": "stderr",
     "output_type": "stream",
     "text": [
      "100%|██████████| 711/711 [00:04<00:00, 173.33it/s]\n"
     ]
    },
    {
     "name": "stdout",
     "output_type": "stream",
     "text": [
      "Train Accuracy: 0.6926, Val Accuracy: 0.5945, Test Accuracy: 0.5316\n",
      "Train loss: 1.0592\n",
      "\n",
      " Epoch 120 training:\n"
     ]
    },
    {
     "name": "stderr",
     "output_type": "stream",
     "text": [
      "100%|██████████| 711/711 [00:04<00:00, 153.55it/s]\n"
     ]
    },
    {
     "name": "stdout",
     "output_type": "stream",
     "text": [
      "Train Accuracy: 0.6876, Val Accuracy: 0.5903, Test Accuracy: 0.5320\n",
      "Train loss: 1.0575\n",
      "\n",
      " Epoch 121 training:\n"
     ]
    },
    {
     "name": "stderr",
     "output_type": "stream",
     "text": [
      "100%|██████████| 711/711 [00:04<00:00, 165.55it/s]\n"
     ]
    },
    {
     "name": "stdout",
     "output_type": "stream",
     "text": [
      "Train Accuracy: 0.6943, Val Accuracy: 0.5941, Test Accuracy: 0.5344\n",
      "Train loss: 1.0536\n",
      "\n",
      " Epoch 122 training:\n"
     ]
    },
    {
     "name": "stderr",
     "output_type": "stream",
     "text": [
      "100%|██████████| 711/711 [00:04<00:00, 153.33it/s]\n"
     ]
    },
    {
     "name": "stdout",
     "output_type": "stream",
     "text": [
      "Train Accuracy: 0.6924, Val Accuracy: 0.5972, Test Accuracy: 0.5375\n",
      "Train loss: 1.0526\n",
      "\n",
      " Epoch 123 training:\n"
     ]
    },
    {
     "name": "stderr",
     "output_type": "stream",
     "text": [
      "100%|██████████| 711/711 [00:04<00:00, 166.44it/s]\n"
     ]
    },
    {
     "name": "stdout",
     "output_type": "stream",
     "text": [
      "Train Accuracy: 0.6888, Val Accuracy: 0.5867, Test Accuracy: 0.5255\n",
      "Train loss: 1.0565\n",
      "\n",
      " Epoch 124 training:\n"
     ]
    },
    {
     "name": "stderr",
     "output_type": "stream",
     "text": [
      "100%|██████████| 711/711 [00:04<00:00, 142.21it/s]\n"
     ]
    },
    {
     "name": "stdout",
     "output_type": "stream",
     "text": [
      "Train Accuracy: 0.6916, Val Accuracy: 0.5898, Test Accuracy: 0.5213\n",
      "Train loss: 1.0572\n",
      "\n",
      " Epoch 125 training:\n"
     ]
    },
    {
     "name": "stderr",
     "output_type": "stream",
     "text": [
      "100%|██████████| 711/711 [00:04<00:00, 164.46it/s]\n"
     ]
    },
    {
     "name": "stdout",
     "output_type": "stream",
     "text": [
      "Train Accuracy: 0.6922, Val Accuracy: 0.5887, Test Accuracy: 0.5240\n",
      "Train loss: 1.0564\n",
      "\n",
      " Epoch 126 training:\n"
     ]
    },
    {
     "name": "stderr",
     "output_type": "stream",
     "text": [
      "100%|██████████| 711/711 [00:03<00:00, 178.47it/s]\n"
     ]
    },
    {
     "name": "stdout",
     "output_type": "stream",
     "text": [
      "Train Accuracy: 0.6912, Val Accuracy: 0.5917, Test Accuracy: 0.5288\n",
      "Train loss: 1.0549\n",
      "\n",
      " Epoch 127 training:\n"
     ]
    },
    {
     "name": "stderr",
     "output_type": "stream",
     "text": [
      "100%|██████████| 711/711 [00:04<00:00, 164.42it/s]\n"
     ]
    },
    {
     "name": "stdout",
     "output_type": "stream",
     "text": [
      "Train Accuracy: 0.6890, Val Accuracy: 0.5911, Test Accuracy: 0.5255\n",
      "Train loss: 1.0603\n",
      "\n",
      " Epoch 128 training:\n"
     ]
    },
    {
     "name": "stderr",
     "output_type": "stream",
     "text": [
      "100%|██████████| 711/711 [00:04<00:00, 149.52it/s]\n"
     ]
    },
    {
     "name": "stdout",
     "output_type": "stream",
     "text": [
      "Train Accuracy: 0.6940, Val Accuracy: 0.5896, Test Accuracy: 0.5250\n",
      "Train loss: 1.0519\n",
      "\n",
      " Epoch 129 training:\n"
     ]
    },
    {
     "name": "stderr",
     "output_type": "stream",
     "text": [
      "100%|██████████| 711/711 [00:04<00:00, 157.54it/s]\n"
     ]
    },
    {
     "name": "stdout",
     "output_type": "stream",
     "text": [
      "Train Accuracy: 0.6897, Val Accuracy: 0.5841, Test Accuracy: 0.5239\n",
      "Train loss: 1.0528\n",
      "\n",
      " Epoch 130 training:\n"
     ]
    },
    {
     "name": "stderr",
     "output_type": "stream",
     "text": [
      "100%|██████████| 711/711 [00:04<00:00, 168.14it/s]\n"
     ]
    },
    {
     "name": "stdout",
     "output_type": "stream",
     "text": [
      "Train Accuracy: 0.6930, Val Accuracy: 0.5894, Test Accuracy: 0.5291\n",
      "Train loss: 1.0531\n",
      "\n",
      " Epoch 131 training:\n"
     ]
    },
    {
     "name": "stderr",
     "output_type": "stream",
     "text": [
      "100%|██████████| 711/711 [00:04<00:00, 169.77it/s]\n"
     ]
    },
    {
     "name": "stdout",
     "output_type": "stream",
     "text": [
      "Train Accuracy: 0.6907, Val Accuracy: 0.5935, Test Accuracy: 0.5400\n",
      "Train loss: 1.0503\n",
      "\n",
      " Epoch 132 training:\n"
     ]
    },
    {
     "name": "stderr",
     "output_type": "stream",
     "text": [
      "100%|██████████| 711/711 [00:04<00:00, 172.11it/s]\n"
     ]
    },
    {
     "name": "stdout",
     "output_type": "stream",
     "text": [
      "Train Accuracy: 0.6965, Val Accuracy: 0.5925, Test Accuracy: 0.5328\n",
      "Train loss: 1.0566\n",
      "\n",
      " Epoch 133 training:\n"
     ]
    },
    {
     "name": "stderr",
     "output_type": "stream",
     "text": [
      "100%|██████████| 711/711 [00:03<00:00, 187.37it/s]\n"
     ]
    },
    {
     "name": "stdout",
     "output_type": "stream",
     "text": [
      "Train Accuracy: 0.6938, Val Accuracy: 0.5907, Test Accuracy: 0.5253\n",
      "Train loss: 1.0524\n",
      "\n",
      " Epoch 134 training:\n"
     ]
    },
    {
     "name": "stderr",
     "output_type": "stream",
     "text": [
      "100%|██████████| 711/711 [00:04<00:00, 164.26it/s]\n"
     ]
    },
    {
     "name": "stdout",
     "output_type": "stream",
     "text": [
      "Train Accuracy: 0.6947, Val Accuracy: 0.5913, Test Accuracy: 0.5259\n",
      "Train loss: 1.0490\n",
      "\n",
      " Epoch 135 training:\n"
     ]
    },
    {
     "name": "stderr",
     "output_type": "stream",
     "text": [
      "100%|██████████| 711/711 [00:04<00:00, 162.35it/s]\n"
     ]
    },
    {
     "name": "stdout",
     "output_type": "stream",
     "text": [
      "Train Accuracy: 0.6951, Val Accuracy: 0.5899, Test Accuracy: 0.5257\n",
      "Train loss: 1.0514\n",
      "\n",
      " Epoch 136 training:\n"
     ]
    },
    {
     "name": "stderr",
     "output_type": "stream",
     "text": [
      "100%|██████████| 711/711 [00:04<00:00, 159.07it/s]\n"
     ]
    },
    {
     "name": "stdout",
     "output_type": "stream",
     "text": [
      "Train Accuracy: 0.6927, Val Accuracy: 0.5904, Test Accuracy: 0.5288\n",
      "Train loss: 1.0567\n",
      "\n",
      " Epoch 137 training:\n"
     ]
    },
    {
     "name": "stderr",
     "output_type": "stream",
     "text": [
      "100%|██████████| 711/711 [00:04<00:00, 160.48it/s]\n"
     ]
    },
    {
     "name": "stdout",
     "output_type": "stream",
     "text": [
      "Train Accuracy: 0.6895, Val Accuracy: 0.5881, Test Accuracy: 0.5304\n",
      "Train loss: 1.0521\n",
      "\n",
      " Epoch 138 training:\n"
     ]
    },
    {
     "name": "stderr",
     "output_type": "stream",
     "text": [
      "100%|██████████| 711/711 [00:04<00:00, 167.40it/s]\n"
     ]
    },
    {
     "name": "stdout",
     "output_type": "stream",
     "text": [
      "Train Accuracy: 0.6936, Val Accuracy: 0.5914, Test Accuracy: 0.5257\n",
      "Train loss: 1.0508\n",
      "\n",
      " Epoch 139 training:\n"
     ]
    },
    {
     "name": "stderr",
     "output_type": "stream",
     "text": [
      "100%|██████████| 711/711 [00:04<00:00, 160.40it/s]\n"
     ]
    },
    {
     "name": "stdout",
     "output_type": "stream",
     "text": [
      "Train Accuracy: 0.6953, Val Accuracy: 0.5906, Test Accuracy: 0.5306\n",
      "Train loss: 1.0493\n",
      "\n",
      " Epoch 140 training:\n"
     ]
    },
    {
     "name": "stderr",
     "output_type": "stream",
     "text": [
      "100%|██████████| 711/711 [00:04<00:00, 164.62it/s]\n"
     ]
    },
    {
     "name": "stdout",
     "output_type": "stream",
     "text": [
      "Train Accuracy: 0.6937, Val Accuracy: 0.5812, Test Accuracy: 0.5098\n",
      "Train loss: 1.0466\n",
      "\n",
      " Epoch 141 training:\n"
     ]
    },
    {
     "name": "stderr",
     "output_type": "stream",
     "text": [
      "100%|██████████| 711/711 [00:04<00:00, 162.80it/s]\n"
     ]
    },
    {
     "name": "stdout",
     "output_type": "stream",
     "text": [
      "Train Accuracy: 0.6927, Val Accuracy: 0.5797, Test Accuracy: 0.5123\n",
      "Train loss: 1.0493\n",
      "\n",
      " Epoch 142 training:\n"
     ]
    },
    {
     "name": "stderr",
     "output_type": "stream",
     "text": [
      "100%|██████████| 711/711 [00:04<00:00, 157.51it/s]\n"
     ]
    },
    {
     "name": "stdout",
     "output_type": "stream",
     "text": [
      "Train Accuracy: 0.6920, Val Accuracy: 0.5813, Test Accuracy: 0.5149\n",
      "Train loss: 1.0507\n",
      "\n",
      " Epoch 143 training:\n"
     ]
    },
    {
     "name": "stderr",
     "output_type": "stream",
     "text": [
      "100%|██████████| 711/711 [00:04<00:00, 155.44it/s]\n"
     ]
    },
    {
     "name": "stdout",
     "output_type": "stream",
     "text": [
      "Train Accuracy: 0.6922, Val Accuracy: 0.5953, Test Accuracy: 0.5314\n",
      "Train loss: 1.0488\n",
      "\n",
      " Epoch 144 training:\n"
     ]
    },
    {
     "name": "stderr",
     "output_type": "stream",
     "text": [
      "100%|██████████| 711/711 [00:04<00:00, 172.10it/s]\n"
     ]
    },
    {
     "name": "stdout",
     "output_type": "stream",
     "text": [
      "Train Accuracy: 0.6916, Val Accuracy: 0.5903, Test Accuracy: 0.5302\n",
      "Train loss: 1.0494\n",
      "\n",
      " Epoch 145 training:\n"
     ]
    },
    {
     "name": "stderr",
     "output_type": "stream",
     "text": [
      "100%|██████████| 711/711 [00:03<00:00, 185.11it/s]\n"
     ]
    },
    {
     "name": "stdout",
     "output_type": "stream",
     "text": [
      "Train Accuracy: 0.6955, Val Accuracy: 0.5889, Test Accuracy: 0.5219\n",
      "Train loss: 1.0485\n",
      "\n",
      " Epoch 146 training:\n"
     ]
    },
    {
     "name": "stderr",
     "output_type": "stream",
     "text": [
      "100%|██████████| 711/711 [00:04<00:00, 170.92it/s]\n"
     ]
    },
    {
     "name": "stdout",
     "output_type": "stream",
     "text": [
      "Train Accuracy: 0.6955, Val Accuracy: 0.5944, Test Accuracy: 0.5277\n",
      "Train loss: 1.0476\n",
      "\n",
      " Epoch 147 training:\n"
     ]
    },
    {
     "name": "stderr",
     "output_type": "stream",
     "text": [
      "100%|██████████| 711/711 [00:04<00:00, 177.60it/s]\n"
     ]
    },
    {
     "name": "stdout",
     "output_type": "stream",
     "text": [
      "Train Accuracy: 0.6933, Val Accuracy: 0.5925, Test Accuracy: 0.5293\n",
      "Train loss: 1.0476\n",
      "\n",
      " Epoch 148 training:\n"
     ]
    },
    {
     "name": "stderr",
     "output_type": "stream",
     "text": [
      "100%|██████████| 711/711 [00:04<00:00, 168.75it/s]\n"
     ]
    },
    {
     "name": "stdout",
     "output_type": "stream",
     "text": [
      "Train Accuracy: 0.6925, Val Accuracy: 0.5860, Test Accuracy: 0.5197\n",
      "Train loss: 1.0446\n",
      "\n",
      " Epoch 149 training:\n"
     ]
    },
    {
     "name": "stderr",
     "output_type": "stream",
     "text": [
      "100%|██████████| 711/711 [00:04<00:00, 164.12it/s]\n"
     ]
    },
    {
     "name": "stdout",
     "output_type": "stream",
     "text": [
      "Train Accuracy: 0.6912, Val Accuracy: 0.5966, Test Accuracy: 0.5347\n",
      "Train loss: 1.0483\n",
      "\n",
      " Epoch 150 training:\n"
     ]
    },
    {
     "name": "stderr",
     "output_type": "stream",
     "text": [
      "100%|██████████| 711/711 [00:04<00:00, 175.09it/s]\n"
     ]
    },
    {
     "name": "stdout",
     "output_type": "stream",
     "text": [
      "Train Accuracy: 0.6930, Val Accuracy: 0.5890, Test Accuracy: 0.5227\n",
      "Train loss: 1.0485\n",
      "\n",
      " Epoch 151 training:\n"
     ]
    },
    {
     "name": "stderr",
     "output_type": "stream",
     "text": [
      "100%|██████████| 711/711 [00:04<00:00, 159.07it/s]\n"
     ]
    },
    {
     "name": "stdout",
     "output_type": "stream",
     "text": [
      "Train Accuracy: 0.6934, Val Accuracy: 0.5933, Test Accuracy: 0.5333\n",
      "Train loss: 1.0451\n",
      "\n",
      " Epoch 152 training:\n"
     ]
    },
    {
     "name": "stderr",
     "output_type": "stream",
     "text": [
      "100%|██████████| 711/711 [00:04<00:00, 171.53it/s]\n"
     ]
    },
    {
     "name": "stdout",
     "output_type": "stream",
     "text": [
      "Train Accuracy: 0.6939, Val Accuracy: 0.5880, Test Accuracy: 0.5203\n",
      "Train loss: 1.0483\n",
      "\n",
      " Epoch 153 training:\n"
     ]
    },
    {
     "name": "stderr",
     "output_type": "stream",
     "text": [
      "100%|██████████| 711/711 [00:04<00:00, 159.41it/s]\n"
     ]
    },
    {
     "name": "stdout",
     "output_type": "stream",
     "text": [
      "Train Accuracy: 0.6949, Val Accuracy: 0.5878, Test Accuracy: 0.5243\n",
      "Train loss: 1.0435\n",
      "\n",
      " Epoch 154 training:\n"
     ]
    },
    {
     "name": "stderr",
     "output_type": "stream",
     "text": [
      "100%|██████████| 711/711 [00:04<00:00, 176.88it/s]\n"
     ]
    },
    {
     "name": "stdout",
     "output_type": "stream",
     "text": [
      "Train Accuracy: 0.6926, Val Accuracy: 0.5884, Test Accuracy: 0.5254\n",
      "Train loss: 1.0474\n",
      "\n",
      " Epoch 155 training:\n"
     ]
    },
    {
     "name": "stderr",
     "output_type": "stream",
     "text": [
      "100%|██████████| 711/711 [00:04<00:00, 161.34it/s]\n"
     ]
    },
    {
     "name": "stdout",
     "output_type": "stream",
     "text": [
      "Train Accuracy: 0.6912, Val Accuracy: 0.5867, Test Accuracy: 0.5255\n",
      "Train loss: 1.0464\n",
      "\n",
      " Epoch 156 training:\n"
     ]
    },
    {
     "name": "stderr",
     "output_type": "stream",
     "text": [
      "100%|██████████| 711/711 [00:04<00:00, 161.67it/s]\n"
     ]
    },
    {
     "name": "stdout",
     "output_type": "stream",
     "text": [
      "Train Accuracy: 0.6944, Val Accuracy: 0.5926, Test Accuracy: 0.5294\n",
      "Train loss: 1.0453\n",
      "\n",
      " Epoch 157 training:\n"
     ]
    },
    {
     "name": "stderr",
     "output_type": "stream",
     "text": [
      "100%|██████████| 711/711 [00:04<00:00, 165.94it/s]\n"
     ]
    },
    {
     "name": "stdout",
     "output_type": "stream",
     "text": [
      "Train Accuracy: 0.6974, Val Accuracy: 0.5888, Test Accuracy: 0.5278\n",
      "Train loss: 1.0454\n",
      "\n",
      " Epoch 158 training:\n"
     ]
    },
    {
     "name": "stderr",
     "output_type": "stream",
     "text": [
      "100%|██████████| 711/711 [00:04<00:00, 164.46it/s]\n"
     ]
    },
    {
     "name": "stdout",
     "output_type": "stream",
     "text": [
      "Train Accuracy: 0.6940, Val Accuracy: 0.5894, Test Accuracy: 0.5250\n",
      "Train loss: 1.0438\n",
      "\n",
      " Epoch 159 training:\n"
     ]
    },
    {
     "name": "stderr",
     "output_type": "stream",
     "text": [
      "100%|██████████| 711/711 [00:04<00:00, 177.50it/s]\n"
     ]
    },
    {
     "name": "stdout",
     "output_type": "stream",
     "text": [
      "Train Accuracy: 0.6945, Val Accuracy: 0.5885, Test Accuracy: 0.5246\n",
      "Train loss: 1.0442\n",
      "\n",
      " Epoch 160 training:\n"
     ]
    },
    {
     "name": "stderr",
     "output_type": "stream",
     "text": [
      "100%|██████████| 711/711 [00:04<00:00, 171.74it/s]\n"
     ]
    },
    {
     "name": "stdout",
     "output_type": "stream",
     "text": [
      "Train Accuracy: 0.6946, Val Accuracy: 0.5877, Test Accuracy: 0.5217\n",
      "Train loss: 1.0446\n",
      "\n",
      " Epoch 161 training:\n"
     ]
    },
    {
     "name": "stderr",
     "output_type": "stream",
     "text": [
      "100%|██████████| 711/711 [00:03<00:00, 185.91it/s]\n"
     ]
    },
    {
     "name": "stdout",
     "output_type": "stream",
     "text": [
      "Train Accuracy: 0.6935, Val Accuracy: 0.5848, Test Accuracy: 0.5187\n",
      "Train loss: 1.0400\n",
      "\n",
      " Epoch 162 training:\n"
     ]
    },
    {
     "name": "stderr",
     "output_type": "stream",
     "text": [
      "100%|██████████| 711/711 [00:04<00:00, 164.46it/s]\n"
     ]
    },
    {
     "name": "stdout",
     "output_type": "stream",
     "text": [
      "Train Accuracy: 0.6966, Val Accuracy: 0.5870, Test Accuracy: 0.5192\n",
      "Train loss: 1.0437\n",
      "\n",
      " Epoch 163 training:\n"
     ]
    },
    {
     "name": "stderr",
     "output_type": "stream",
     "text": [
      "100%|██████████| 711/711 [00:04<00:00, 163.58it/s]\n"
     ]
    },
    {
     "name": "stdout",
     "output_type": "stream",
     "text": [
      "Train Accuracy: 0.6961, Val Accuracy: 0.5872, Test Accuracy: 0.5224\n",
      "Train loss: 1.0419\n",
      "\n",
      " Epoch 164 training:\n"
     ]
    },
    {
     "name": "stderr",
     "output_type": "stream",
     "text": [
      "100%|██████████| 711/711 [00:04<00:00, 168.72it/s]\n"
     ]
    },
    {
     "name": "stdout",
     "output_type": "stream",
     "text": [
      "Train Accuracy: 0.6949, Val Accuracy: 0.5886, Test Accuracy: 0.5245\n",
      "Train loss: 1.0433\n",
      "\n",
      " Epoch 165 training:\n"
     ]
    },
    {
     "name": "stderr",
     "output_type": "stream",
     "text": [
      "100%|██████████| 711/711 [00:04<00:00, 156.38it/s]\n"
     ]
    },
    {
     "name": "stdout",
     "output_type": "stream",
     "text": [
      "Train Accuracy: 0.6953, Val Accuracy: 0.5921, Test Accuracy: 0.5327\n",
      "Train loss: 1.0437\n",
      "\n",
      " Epoch 166 training:\n"
     ]
    },
    {
     "name": "stderr",
     "output_type": "stream",
     "text": [
      "100%|██████████| 711/711 [00:04<00:00, 172.60it/s]\n"
     ]
    },
    {
     "name": "stdout",
     "output_type": "stream",
     "text": [
      "Train Accuracy: 0.6955, Val Accuracy: 0.5898, Test Accuracy: 0.5223\n",
      "Train loss: 1.0430\n",
      "\n",
      " Epoch 167 training:\n"
     ]
    },
    {
     "name": "stderr",
     "output_type": "stream",
     "text": [
      "100%|██████████| 711/711 [00:04<00:00, 169.42it/s]\n"
     ]
    },
    {
     "name": "stdout",
     "output_type": "stream",
     "text": [
      "Train Accuracy: 0.6953, Val Accuracy: 0.5876, Test Accuracy: 0.5249\n",
      "Train loss: 1.0414\n",
      "\n",
      " Epoch 168 training:\n"
     ]
    },
    {
     "name": "stderr",
     "output_type": "stream",
     "text": [
      "100%|██████████| 711/711 [00:04<00:00, 172.61it/s]\n"
     ]
    },
    {
     "name": "stdout",
     "output_type": "stream",
     "text": [
      "Train Accuracy: 0.6943, Val Accuracy: 0.5901, Test Accuracy: 0.5256\n",
      "Train loss: 1.0440\n",
      "\n",
      " Epoch 169 training:\n"
     ]
    },
    {
     "name": "stderr",
     "output_type": "stream",
     "text": [
      "100%|██████████| 711/711 [00:04<00:00, 154.85it/s]\n"
     ]
    },
    {
     "name": "stdout",
     "output_type": "stream",
     "text": [
      "Train Accuracy: 0.6940, Val Accuracy: 0.5948, Test Accuracy: 0.5370\n",
      "Train loss: 1.0402\n",
      "\n",
      " Epoch 170 training:\n"
     ]
    },
    {
     "name": "stderr",
     "output_type": "stream",
     "text": [
      "100%|██████████| 711/711 [00:03<00:00, 185.01it/s]\n"
     ]
    },
    {
     "name": "stdout",
     "output_type": "stream",
     "text": [
      "Train Accuracy: 0.6951, Val Accuracy: 0.5950, Test Accuracy: 0.5313\n",
      "Train loss: 1.0397\n",
      "\n",
      " Epoch 171 training:\n"
     ]
    },
    {
     "name": "stderr",
     "output_type": "stream",
     "text": [
      "100%|██████████| 711/711 [00:04<00:00, 170.88it/s]\n"
     ]
    },
    {
     "name": "stdout",
     "output_type": "stream",
     "text": [
      "Train Accuracy: 0.6974, Val Accuracy: 0.5876, Test Accuracy: 0.5225\n",
      "Train loss: 1.0392\n",
      "\n",
      " Epoch 172 training:\n"
     ]
    },
    {
     "name": "stderr",
     "output_type": "stream",
     "text": [
      "100%|██████████| 711/711 [00:04<00:00, 177.34it/s]\n"
     ]
    },
    {
     "name": "stdout",
     "output_type": "stream",
     "text": [
      "Train Accuracy: 0.6949, Val Accuracy: 0.5869, Test Accuracy: 0.5199\n",
      "Train loss: 1.0382\n",
      "\n",
      " Epoch 173 training:\n"
     ]
    },
    {
     "name": "stderr",
     "output_type": "stream",
     "text": [
      "100%|██████████| 711/711 [00:04<00:00, 165.54it/s]\n"
     ]
    },
    {
     "name": "stdout",
     "output_type": "stream",
     "text": [
      "Train Accuracy: 0.6901, Val Accuracy: 0.5874, Test Accuracy: 0.5241\n",
      "Train loss: 1.0442\n",
      "\n",
      " Epoch 174 training:\n"
     ]
    },
    {
     "name": "stderr",
     "output_type": "stream",
     "text": [
      "100%|██████████| 711/711 [00:04<00:00, 163.01it/s]\n"
     ]
    },
    {
     "name": "stdout",
     "output_type": "stream",
     "text": [
      "Train Accuracy: 0.6917, Val Accuracy: 0.5850, Test Accuracy: 0.5187\n",
      "Train loss: 1.0401\n",
      "\n",
      " Epoch 175 training:\n"
     ]
    },
    {
     "name": "stderr",
     "output_type": "stream",
     "text": [
      "100%|██████████| 711/711 [00:04<00:00, 165.70it/s]\n"
     ]
    },
    {
     "name": "stdout",
     "output_type": "stream",
     "text": [
      "Train Accuracy: 0.6949, Val Accuracy: 0.5820, Test Accuracy: 0.5174\n",
      "Train loss: 1.0401\n",
      "\n",
      " Epoch 176 training:\n"
     ]
    },
    {
     "name": "stderr",
     "output_type": "stream",
     "text": [
      "100%|██████████| 711/711 [00:03<00:00, 182.70it/s]\n"
     ]
    },
    {
     "name": "stdout",
     "output_type": "stream",
     "text": [
      "Train Accuracy: 0.6960, Val Accuracy: 0.5952, Test Accuracy: 0.5348\n",
      "Train loss: 1.0384\n",
      "\n",
      " Epoch 177 training:\n"
     ]
    },
    {
     "name": "stderr",
     "output_type": "stream",
     "text": [
      "100%|██████████| 711/711 [00:04<00:00, 167.35it/s]\n"
     ]
    },
    {
     "name": "stdout",
     "output_type": "stream",
     "text": [
      "Train Accuracy: 0.6970, Val Accuracy: 0.5903, Test Accuracy: 0.5188\n",
      "Train loss: 1.0397\n",
      "\n",
      " Epoch 178 training:\n"
     ]
    },
    {
     "name": "stderr",
     "output_type": "stream",
     "text": [
      "100%|██████████| 711/711 [00:04<00:00, 162.91it/s]\n"
     ]
    },
    {
     "name": "stdout",
     "output_type": "stream",
     "text": [
      "Train Accuracy: 0.6989, Val Accuracy: 0.5929, Test Accuracy: 0.5299\n",
      "Train loss: 1.0400\n",
      "\n",
      " Epoch 179 training:\n"
     ]
    },
    {
     "name": "stderr",
     "output_type": "stream",
     "text": [
      "100%|██████████| 711/711 [00:04<00:00, 170.73it/s]\n"
     ]
    },
    {
     "name": "stdout",
     "output_type": "stream",
     "text": [
      "Train Accuracy: 0.6969, Val Accuracy: 0.5892, Test Accuracy: 0.5226\n",
      "Train loss: 1.0387\n",
      "\n",
      " Epoch 180 training:\n"
     ]
    },
    {
     "name": "stderr",
     "output_type": "stream",
     "text": [
      "100%|██████████| 711/711 [00:04<00:00, 169.53it/s]\n"
     ]
    },
    {
     "name": "stdout",
     "output_type": "stream",
     "text": [
      "Train Accuracy: 0.6971, Val Accuracy: 0.5866, Test Accuracy: 0.5229\n",
      "Train loss: 1.0398\n",
      "\n",
      " Epoch 181 training:\n"
     ]
    },
    {
     "name": "stderr",
     "output_type": "stream",
     "text": [
      "100%|██████████| 711/711 [00:04<00:00, 170.13it/s]\n"
     ]
    },
    {
     "name": "stdout",
     "output_type": "stream",
     "text": [
      "Train Accuracy: 0.6965, Val Accuracy: 0.5924, Test Accuracy: 0.5257\n",
      "Train loss: 1.0394\n",
      "\n",
      " Epoch 182 training:\n"
     ]
    },
    {
     "name": "stderr",
     "output_type": "stream",
     "text": [
      "100%|██████████| 711/711 [00:04<00:00, 168.75it/s]\n"
     ]
    },
    {
     "name": "stdout",
     "output_type": "stream",
     "text": [
      "Train Accuracy: 0.6984, Val Accuracy: 0.5877, Test Accuracy: 0.5226\n",
      "Train loss: 1.0409\n",
      "\n",
      " Epoch 183 training:\n"
     ]
    },
    {
     "name": "stderr",
     "output_type": "stream",
     "text": [
      "100%|██████████| 711/711 [00:04<00:00, 173.18it/s]\n"
     ]
    },
    {
     "name": "stdout",
     "output_type": "stream",
     "text": [
      "Train Accuracy: 0.6966, Val Accuracy: 0.5898, Test Accuracy: 0.5287\n",
      "Train loss: 1.0394\n",
      "\n",
      " Epoch 184 training:\n"
     ]
    },
    {
     "name": "stderr",
     "output_type": "stream",
     "text": [
      "100%|██████████| 711/711 [00:04<00:00, 152.84it/s]\n"
     ]
    },
    {
     "name": "stdout",
     "output_type": "stream",
     "text": [
      "Train Accuracy: 0.6954, Val Accuracy: 0.5799, Test Accuracy: 0.5109\n",
      "Train loss: 1.0398\n",
      "\n",
      " Epoch 185 training:\n"
     ]
    },
    {
     "name": "stderr",
     "output_type": "stream",
     "text": [
      "100%|██████████| 711/711 [00:04<00:00, 173.97it/s]\n"
     ]
    },
    {
     "name": "stdout",
     "output_type": "stream",
     "text": [
      "Train Accuracy: 0.6938, Val Accuracy: 0.5938, Test Accuracy: 0.5313\n",
      "Train loss: 1.0382\n",
      "\n",
      " Epoch 186 training:\n"
     ]
    },
    {
     "name": "stderr",
     "output_type": "stream",
     "text": [
      "100%|██████████| 711/711 [00:04<00:00, 151.88it/s]\n"
     ]
    },
    {
     "name": "stdout",
     "output_type": "stream",
     "text": [
      "Train Accuracy: 0.6910, Val Accuracy: 0.5852, Test Accuracy: 0.5261\n",
      "Train loss: 1.0365\n",
      "\n",
      " Epoch 187 training:\n"
     ]
    },
    {
     "name": "stderr",
     "output_type": "stream",
     "text": [
      "100%|██████████| 711/711 [00:04<00:00, 172.96it/s]\n"
     ]
    },
    {
     "name": "stdout",
     "output_type": "stream",
     "text": [
      "Train Accuracy: 0.6922, Val Accuracy: 0.5880, Test Accuracy: 0.5274\n",
      "Train loss: 1.0374\n",
      "\n",
      " Epoch 188 training:\n"
     ]
    },
    {
     "name": "stderr",
     "output_type": "stream",
     "text": [
      "100%|██████████| 711/711 [00:04<00:00, 152.99it/s]\n"
     ]
    },
    {
     "name": "stdout",
     "output_type": "stream",
     "text": [
      "Train Accuracy: 0.6981, Val Accuracy: 0.5850, Test Accuracy: 0.5199\n",
      "Train loss: 1.0366\n",
      "\n",
      " Epoch 189 training:\n"
     ]
    },
    {
     "name": "stderr",
     "output_type": "stream",
     "text": [
      "100%|██████████| 711/711 [00:04<00:00, 153.04it/s]\n"
     ]
    },
    {
     "name": "stdout",
     "output_type": "stream",
     "text": [
      "Train Accuracy: 0.6953, Val Accuracy: 0.5821, Test Accuracy: 0.5132\n",
      "Train loss: 1.0302\n",
      "\n",
      " Epoch 190 training:\n"
     ]
    },
    {
     "name": "stderr",
     "output_type": "stream",
     "text": [
      "100%|██████████| 711/711 [00:04<00:00, 175.18it/s]\n"
     ]
    },
    {
     "name": "stdout",
     "output_type": "stream",
     "text": [
      "Train Accuracy: 0.6929, Val Accuracy: 0.5908, Test Accuracy: 0.5319\n",
      "Train loss: 1.0378\n",
      "\n",
      " Epoch 191 training:\n"
     ]
    },
    {
     "name": "stderr",
     "output_type": "stream",
     "text": [
      "100%|██████████| 711/711 [00:04<00:00, 161.11it/s]\n"
     ]
    },
    {
     "name": "stdout",
     "output_type": "stream",
     "text": [
      "Train Accuracy: 0.6920, Val Accuracy: 0.5893, Test Accuracy: 0.5290\n",
      "Train loss: 1.0349\n",
      "\n",
      " Epoch 192 training:\n"
     ]
    },
    {
     "name": "stderr",
     "output_type": "stream",
     "text": [
      "100%|██████████| 711/711 [00:04<00:00, 163.98it/s]\n"
     ]
    },
    {
     "name": "stdout",
     "output_type": "stream",
     "text": [
      "Train Accuracy: 0.6967, Val Accuracy: 0.5837, Test Accuracy: 0.5235\n",
      "Train loss: 1.0377\n",
      "\n",
      " Epoch 193 training:\n"
     ]
    },
    {
     "name": "stderr",
     "output_type": "stream",
     "text": [
      "100%|██████████| 711/711 [00:04<00:00, 154.81it/s]\n"
     ]
    },
    {
     "name": "stdout",
     "output_type": "stream",
     "text": [
      "Train Accuracy: 0.6979, Val Accuracy: 0.5876, Test Accuracy: 0.5188\n",
      "Train loss: 1.0326\n",
      "\n",
      " Epoch 194 training:\n"
     ]
    },
    {
     "name": "stderr",
     "output_type": "stream",
     "text": [
      "100%|██████████| 711/711 [00:04<00:00, 176.74it/s]\n"
     ]
    },
    {
     "name": "stdout",
     "output_type": "stream",
     "text": [
      "Train Accuracy: 0.6963, Val Accuracy: 0.5895, Test Accuracy: 0.5231\n",
      "Train loss: 1.0337\n",
      "\n",
      " Epoch 195 training:\n"
     ]
    },
    {
     "name": "stderr",
     "output_type": "stream",
     "text": [
      "100%|██████████| 711/711 [00:04<00:00, 176.55it/s]\n"
     ]
    },
    {
     "name": "stdout",
     "output_type": "stream",
     "text": [
      "Train Accuracy: 0.6973, Val Accuracy: 0.5900, Test Accuracy: 0.5281\n",
      "Train loss: 1.0340\n",
      "\n",
      " Epoch 196 training:\n"
     ]
    },
    {
     "name": "stderr",
     "output_type": "stream",
     "text": [
      "100%|██████████| 711/711 [00:04<00:00, 162.70it/s]\n"
     ]
    },
    {
     "name": "stdout",
     "output_type": "stream",
     "text": [
      "Train Accuracy: 0.6955, Val Accuracy: 0.5844, Test Accuracy: 0.5204\n",
      "Train loss: 1.0371\n",
      "\n",
      " Epoch 197 training:\n"
     ]
    },
    {
     "name": "stderr",
     "output_type": "stream",
     "text": [
      "100%|██████████| 711/711 [00:04<00:00, 166.58it/s]\n"
     ]
    },
    {
     "name": "stdout",
     "output_type": "stream",
     "text": [
      "Train Accuracy: 0.7007, Val Accuracy: 0.5927, Test Accuracy: 0.5274\n",
      "Train loss: 1.0356\n",
      "\n",
      " Epoch 198 training:\n"
     ]
    },
    {
     "name": "stderr",
     "output_type": "stream",
     "text": [
      "100%|██████████| 711/711 [00:04<00:00, 154.02it/s]\n"
     ]
    },
    {
     "name": "stdout",
     "output_type": "stream",
     "text": [
      "Train Accuracy: 0.6958, Val Accuracy: 0.5883, Test Accuracy: 0.5195\n",
      "Train loss: 1.0356\n",
      "\n",
      " Epoch 199 training:\n"
     ]
    },
    {
     "name": "stderr",
     "output_type": "stream",
     "text": [
      "100%|██████████| 711/711 [00:04<00:00, 166.32it/s]\n"
     ]
    },
    {
     "name": "stdout",
     "output_type": "stream",
     "text": [
      "Train Accuracy: 0.6923, Val Accuracy: 0.5902, Test Accuracy: 0.5312\n",
      "Train loss: 1.0367\n"
     ]
    }
   ],
   "source": [
    "DEEP_DEPTH = 5\n",
    "SHALLOW_DEPTH = 2\n",
    "depths_list = [SHALLOW_DEPTH]\n",
    "\n",
    "trainer = Trainer(model_dir='model_shallow')\n",
    "epochs = 200\n",
    "\n",
    "trainer.run(data, split_idx, num_classes, evaluator, depths_list, epochs)"
   ]
  },
  {
   "cell_type": "code",
   "execution_count": 8,
   "metadata": {},
   "outputs": [
    {
     "name": "stderr",
     "output_type": "stream",
     "text": [
      "100%|██████████| 15/15 [00:20<00:00,  1.35s/it]\n"
     ]
    }
   ],
   "source": [
    "model = trainer.model\n",
    "test_loader = trainer.test_loader\n",
    "device = torch.device('cuda' if torch.cuda.is_available() else 'cpu')\n",
    "test_idx = split_idx['test']\n",
    "\n",
    "nods_results_depths_dict = {}\n",
    "\n",
    "ids_col = {'id': test_idx}\n",
    "id_depths_df = pd.DataFrame(data=ids_col)\n",
    "id_results_df = pd.DataFrame(data=ids_col)\n",
    "\n",
    "num_permutations = 15\n",
    "for perm in tqdm(range(num_permutations)):\n",
    "    test_acc, inference_depths, ids, correctness = evaluate_test(model, test_loader, evaluator, data, depths_list, device)\n",
    "    \n",
    "    temp_df = pd.DataFrame(data={'id': ids, f'depth_{perm}': inference_depths})\n",
    "    temp_df.sort_values(by=['id'], inplace=True)\n",
    "    id_depths_df = id_depths_df.merge(temp_df, on='id')\n",
    "    \n",
    "    temp_df = pd.DataFrame(data={'id': ids, f'correctness_{perm}': correctness})\n",
    "    temp_df.sort_values(by=['id'], inplace=True)\n",
    "    id_results_df = id_results_df.merge(temp_df, on = 'id')"
   ]
  },
  {
   "cell_type": "code",
   "execution_count": 9,
   "metadata": {},
   "outputs": [],
   "source": [
    "sorted_ids = ids_col['id'].tolist()\n",
    "\n",
    "all_correctnesses = list(id_results_df.drop(['id'], axis=1).to_numpy().flatten())\n",
    "all_depths = list(id_depths_df.drop(['id'], axis=1).to_numpy().flatten())\n",
    "all_sorted_ids = list(np.repeat(sorted_ids, num_permutations))\n",
    "\n",
    "all_results_df = pd.DataFrame(data={'id': all_sorted_ids, 'correctness': all_correctnesses, 'depth': all_depths})"
   ]
  },
  {
   "cell_type": "code",
   "execution_count": 11,
   "metadata": {},
   "outputs": [
    {
     "name": "stderr",
     "output_type": "stream",
     "text": [
      " 10%|█         | 4876/48603 [05:18<45:07, 16.15it/s]  "
     ]
    }
   ],
   "source": [
    "from scipy.stats import permutation_test\n",
    "\n",
    "def statistic(x, y, axis):\n",
    "    return np.mean(x, axis=axis) - np.mean(y, axis=axis)\n",
    "\n",
    "ids_to_pvalue = {}\n",
    "\n",
    "for id in tqdm(np.array(test_idx)):\n",
    "    id_df = all_results_df[all_results_df['id'] == id].copy()\n",
    "    x = np.array(id_df[id_df['depth'] == 2]['correctness'])\n",
    "    y = np.array(id_df[id_df['depth'] == 5]['correctness'])\n",
    "    \n",
    "    try:\n",
    "        res_less = permutation_test((x, y), statistic, vectorized=True,\n",
    "                                n_resamples=9999, alternative='less')\n",
    "    \n",
    "        res_greater = permutation_test((x, y), statistic, vectorized=True,\n",
    "                            n_resamples=9999, alternative='greater')\n",
    "        \n",
    "    except:\n",
    "        continue\n",
    "    "
   ]
  },
  {
   "cell_type": "code",
   "execution_count": null,
   "metadata": {},
   "outputs": [],
   "source": []
  }
 ],
 "metadata": {
  "kernelspec": {
   "display_name": "Python 3.9.13 ('baskin': conda)",
   "language": "python",
   "name": "python3"
  },
  "language_info": {
   "codemirror_mode": {
    "name": "ipython",
    "version": 3
   },
   "file_extension": ".py",
   "mimetype": "text/x-python",
   "name": "python",
   "nbconvert_exporter": "python",
   "pygments_lexer": "ipython3",
   "version": "3.9.13"
  },
  "orig_nbformat": 4,
  "vscode": {
   "interpreter": {
    "hash": "e591c4f2b87a250375ca884dffd1dc17c4ce3268c519c9ae9b05ed9c4bef7107"
   }
  }
 },
 "nbformat": 4,
 "nbformat_minor": 2
}
