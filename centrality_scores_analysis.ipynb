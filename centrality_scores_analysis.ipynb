{
 "cells": [
  {
   "cell_type": "code",
   "execution_count": 1,
   "metadata": {},
   "outputs": [
    {
     "name": "stderr",
     "output_type": "stream",
     "text": [
      "WARNING:root:The OGB package is out of date. Your version is 1.3.4, while the latest version is 1.3.5.\n"
     ]
    }
   ],
   "source": [
    "from scipy.stats import permutation_test\n",
    "import pandas as pd\n",
    "import numpy as np\n",
    "import os\n",
    "from ogb.nodeproppred import NodePropPredDataset\n",
    "import networkx as nx\n",
    "import pandas as pd\n",
    "import random\n",
    "import seaborn as sns\n",
    "import matplotlib.pyplot as plt\n"
   ]
  },
  {
   "cell_type": "code",
   "execution_count": 2,
   "metadata": {},
   "outputs": [
    {
     "name": "stdout",
     "output_type": "stream",
     "text": [
      "Loading necessary files...\n",
      "This might take a while.\n",
      "Processing graphs...\n"
     ]
    },
    {
     "name": "stderr",
     "output_type": "stream",
     "text": [
      "100%|██████████| 1/1 [00:00<00:00, 19508.39it/s]"
     ]
    },
    {
     "name": "stdout",
     "output_type": "stream",
     "text": [
      "Saving...\n"
     ]
    },
    {
     "name": "stderr",
     "output_type": "stream",
     "text": [
      "\n"
     ]
    }
   ],
   "source": [
    "# download and load the obg dataset\n",
    "d_name = 'arxiv'\n",
    "root = os.path.join(os.path.realpath('../'), 'data', d_name)\n",
    "dataset = NodePropPredDataset(f'ogbn-{d_name}', root)"
   ]
  },
  {
   "cell_type": "markdown",
   "metadata": {},
   "source": [
    "## Calculate centrality scores"
   ]
  },
  {
   "cell_type": "code",
   "execution_count": 3,
   "metadata": {},
   "outputs": [
    {
     "name": "stdout",
     "output_type": "stream",
     "text": [
      "degree_centrality\n",
      "eigenvector_centrality\n",
      "katz_centrality\n",
      "closeness_centrality\n"
     ]
    }
   ],
   "source": [
    "G = nx.DiGraph()\n",
    "G.add_nodes_from(range(dataset[0][0]['num_nodes']))\n",
    "G.add_edges_from(dataset[0][0]['edge_index'].T.tolist())\n",
    "\n",
    "depth_list = ['shallow', 'deep', 'undecided']\n",
    "rand_depths = [random.choice(depth_list) for _ in range(dataset[0][0]['num_nodes'])]\n",
    "score_funcs_list = [(nx.centrality.degree_centrality, 'degree_centrality'), (nx.centrality.eigenvector_centrality, 'eigenvector_centrality'), \n",
    "                    (nx.centrality.katz_centrality, 'katz_centrality'), (nx.centrality.closeness_centrality, 'closeness_centrality')]\n",
    "\n",
    "scores_df = pd.DataFrame(list(G.nodes()), columns=['node_id'])\n",
    "for cent_func, cent_name in score_funcs_list:\n",
    "    print(cent_name)\n",
    "    cent_func_stats = cent_func(G)\n",
    "    temp_scores_df = pd.DataFrame(cent_func_stats.items(), columns=['node_id', cent_name])\n",
    "    scores_df = scores_df.merge(temp_scores_df, on='node_id')\n",
    "    \n",
    "scores_df = pd.DataFrame(list(G.nodes()), columns=['node_id'])\n",
    "for cent_func, cent_name in score_funcs_list:\n",
    "    print(cent_name)\n",
    "    cent_func_stats = cent_func(G)\n",
    "    temp_scores_df = pd.DataFrame(cent_func_stats.items(), columns=['node_id', cent_name])\n",
    "    scores_df = scores_df.merge(temp_scores_df, on='node_id')"
   ]
  },
  {
   "cell_type": "code",
   "execution_count": null,
   "metadata": {},
   "outputs": [],
   "source": [
    "GCN_depths_df = pd.read_csv('results\\\\ids_to_pvalue_two_tailed_GCN.csv')\n",
    "SAGE_depths_df = pd.read_csv('results\\\\ids_to_pvalue_two_tailed_GAT.csv')\n",
    "GAT_depths_df = pd.read_csv('results\\\\ids_to_pvalue_two_tailed_GAT.csv')\n",
    "\n",
    "GCN_scores_df = scores_df.merge(GCN_depths_df, left_on='node_id', right_on='id')\n",
    "SAGE_scores_df = scores_df.merge(SAGE_depths_df, left_on='node_id', right_on='id')\n",
    "GAT_scores_df = scores_df.merge(GAT_depths_df, left_on='node_id', right_on='id')"
   ]
  },
  {
   "cell_type": "markdown",
   "metadata": {},
   "source": [
    "## Centrality hypotheses testing"
   ]
  },
  {
   "cell_type": "code",
   "execution_count": 14,
   "metadata": {},
   "outputs": [
    {
     "name": "stdout",
     "output_type": "stream",
     "text": [
      "\n",
      "\n",
      "GAT eigenvector_centrality deep vs shallow pvalue = 0.0884\n",
      "GAT eigenvector_centrality deep vs undecided pvalue = 0.7655\n",
      "GAT eigenvector_centrality shallow vs deep pvalue = 0.0978\n",
      "GAT eigenvector_centrality shallow vs undecided pvalue = 0.0306\n",
      "GAT eigenvector_centrality undecided vs deep pvalue = 0.7641\n",
      "GAT eigenvector_centrality undecided vs shallow pvalue = 0.0322\n",
      "\n",
      "GAT degree_centrality deep vs shallow pvalue = 0.0002\n",
      "GAT degree_centrality deep vs undecided pvalue = 0.0002\n",
      "GAT degree_centrality shallow vs deep pvalue = 0.0004\n",
      "GAT degree_centrality shallow vs undecided pvalue = 0.0002\n",
      "GAT degree_centrality undecided vs deep pvalue = 0.0002\n",
      "GAT degree_centrality undecided vs shallow pvalue = 0.0002\n",
      "\n",
      "GAT closeness_centrality deep vs shallow pvalue = 0.6267\n",
      "GAT closeness_centrality deep vs undecided pvalue = 0.0002\n",
      "GAT closeness_centrality shallow vs deep pvalue = 0.6331\n",
      "GAT closeness_centrality shallow vs undecided pvalue = 0.0002\n",
      "GAT closeness_centrality undecided vs deep pvalue = 0.0002\n",
      "GAT closeness_centrality undecided vs shallow pvalue = 0.0002\n",
      "\n",
      "GAT katz_centrality deep vs shallow pvalue = 0.0002\n",
      "GAT katz_centrality deep vs undecided pvalue = 0.0002\n",
      "GAT katz_centrality shallow vs deep pvalue = 0.0002\n",
      "GAT katz_centrality shallow vs undecided pvalue = 0.0002\n",
      "GAT katz_centrality undecided vs deep pvalue = 0.0002\n",
      "GAT katz_centrality undecided vs shallow pvalue = 0.0002\n",
      "\n",
      "\n",
      "GCN eigenvector_centrality deep vs shallow pvalue = 0.4568\n",
      "GCN eigenvector_centrality deep vs undecided pvalue = 0.2876\n",
      "GCN eigenvector_centrality shallow vs deep pvalue = 0.4622\n",
      "GCN eigenvector_centrality shallow vs undecided pvalue = 0.5645\n",
      "GCN eigenvector_centrality undecided vs deep pvalue = 0.2882\n",
      "GCN eigenvector_centrality undecided vs shallow pvalue = 0.5749\n",
      "\n",
      "GCN degree_centrality deep vs shallow pvalue = 0.1626\n",
      "GCN degree_centrality deep vs undecided pvalue = 0.0020\n",
      "GCN degree_centrality shallow vs deep pvalue = 0.1574\n",
      "GCN degree_centrality shallow vs undecided pvalue = 0.0136\n",
      "GCN degree_centrality undecided vs deep pvalue = 0.0010\n",
      "GCN degree_centrality undecided vs shallow pvalue = 0.0148\n",
      "\n",
      "GCN closeness_centrality deep vs shallow pvalue = 0.3502\n",
      "GCN closeness_centrality deep vs undecided pvalue = 0.3300\n",
      "GCN closeness_centrality shallow vs deep pvalue = 0.3348\n",
      "GCN closeness_centrality shallow vs undecided pvalue = 0.5223\n",
      "GCN closeness_centrality undecided vs deep pvalue = 0.3270\n",
      "GCN closeness_centrality undecided vs shallow pvalue = 0.5105\n",
      "\n",
      "GCN katz_centrality deep vs shallow pvalue = 0.3496\n",
      "GCN katz_centrality deep vs undecided pvalue = 0.4990\n",
      "GCN katz_centrality shallow vs deep pvalue = 0.3354\n",
      "GCN katz_centrality shallow vs undecided pvalue = 0.2500\n",
      "GCN katz_centrality undecided vs deep pvalue = 0.5181\n",
      "GCN katz_centrality undecided vs shallow pvalue = 0.2536\n",
      "\n",
      "\n",
      "SAGE eigenvector_centrality deep vs shallow pvalue = 0.1000\n",
      "SAGE eigenvector_centrality deep vs undecided pvalue = 0.7495\n",
      "SAGE eigenvector_centrality shallow vs deep pvalue = 0.0968\n",
      "SAGE eigenvector_centrality shallow vs undecided pvalue = 0.0296\n",
      "SAGE eigenvector_centrality undecided vs deep pvalue = 0.7533\n",
      "SAGE eigenvector_centrality undecided vs shallow pvalue = 0.0348\n",
      "\n",
      "SAGE degree_centrality deep vs shallow pvalue = 0.0002\n",
      "SAGE degree_centrality deep vs undecided pvalue = 0.0002\n",
      "SAGE degree_centrality shallow vs deep pvalue = 0.0002\n",
      "SAGE degree_centrality shallow vs undecided pvalue = 0.0002\n",
      "SAGE degree_centrality undecided vs deep pvalue = 0.0002\n",
      "SAGE degree_centrality undecided vs shallow pvalue = 0.0002\n",
      "\n",
      "SAGE closeness_centrality deep vs shallow pvalue = 0.6281\n",
      "SAGE closeness_centrality deep vs undecided pvalue = 0.0002\n",
      "SAGE closeness_centrality shallow vs deep pvalue = 0.6301\n",
      "SAGE closeness_centrality shallow vs undecided pvalue = 0.0002\n",
      "SAGE closeness_centrality undecided vs deep pvalue = 0.0002\n",
      "SAGE closeness_centrality undecided vs shallow pvalue = 0.0002\n",
      "\n",
      "SAGE katz_centrality deep vs shallow pvalue = 0.0002\n",
      "SAGE katz_centrality deep vs undecided pvalue = 0.0002\n",
      "SAGE katz_centrality shallow vs deep pvalue = 0.0002\n",
      "SAGE katz_centrality shallow vs undecided pvalue = 0.0002\n",
      "SAGE katz_centrality undecided vs deep pvalue = 0.0002\n",
      "SAGE katz_centrality undecided vs shallow pvalue = 0.0002\n"
     ]
    }
   ],
   "source": [
    "def statistic(x, y, axis):\n",
    "    return np.mean(x, axis=axis) - np.mean(y, axis=axis)\n",
    "\n",
    "def get_pvalue(left, right, n_permutations=10000):\n",
    "    res = permutation_test(\n",
    "        (left, right), \n",
    "        statistic, vectorized=True, \n",
    "        n_resamples=n_permutations, \n",
    "        alternative='two-sided'\n",
    "        )\n",
    "    return res.pvalue\n",
    "\n",
    "model_scores_df = {'GAT':GAT_scores_df, 'GCN':GCN_scores_df, 'SAGE':SAGE_scores_df}\n",
    "centrality_measures = ['eigenvector_centrality', 'degree_centrality', 'closeness_centrality', 'katz_centrality']\n",
    "vertrex_classes = ['deep','shallow','undecided']\n",
    "for model, score_df in model_scores_df.items():\n",
    "    print(\"\")\n",
    "    for centrality_measure in centrality_measures:\n",
    "        print(\"\")\n",
    "        for vertex_class_left in vertrex_classes:\n",
    "            for vertex_class_right in vertrex_classes:\n",
    "                if vertex_class_left != vertex_class_right:\n",
    "                    scores_left = score_df[score_df['vertex_class'] == vertex_class_left][centrality_measure].values\n",
    "                    scores_right = score_df[score_df['vertex_class'] == vertex_class_right][centrality_measure].values\n",
    "                    pvalue = get_pvalue(scores_left, scores_right, model, centrality_measure)\n",
    "                    print(f'{model} {centrality_measure} {vertex_class_left} vs {vertex_class_right} pvalue = {pvalue:.4f}')\n"
   ]
  }
 ],
 "metadata": {
  "kernelspec": {
   "display_name": "Python 3.9.15 ('baskin')",
   "language": "python",
   "name": "python3"
  },
  "language_info": {
   "codemirror_mode": {
    "name": "ipython",
    "version": 3
   },
   "file_extension": ".py",
   "mimetype": "text/x-python",
   "name": "python",
   "nbconvert_exporter": "python",
   "pygments_lexer": "ipython3",
   "version": "3.9.15"
  },
  "orig_nbformat": 4,
  "vscode": {
   "interpreter": {
    "hash": "e591c4f2b87a250375ca884dffd1dc17c4ce3268c519c9ae9b05ed9c4bef7107"
   }
  }
 },
 "nbformat": 4,
 "nbformat_minor": 2
}
