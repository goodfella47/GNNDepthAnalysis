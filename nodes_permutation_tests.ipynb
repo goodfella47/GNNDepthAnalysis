{
 "cells": [
  {
   "cell_type": "code",
   "execution_count": 114,
   "metadata": {},
   "outputs": [],
   "source": [
    "import os\n",
    "import sys\n",
    "directory_path = os.path.abspath(os.path.join('..'))\n",
    "if directory_path not in sys.path:\n",
    "    sys.path.append(directory_path)\n",
    "  \n",
    "from dataset import get_ogb_data\n",
    "from torch_geometric.nn import SAGEConv, GCNConv, GATConv\n",
    "from torch_geometric.loader import NeighborLoader\n",
    "from ogb.nodeproppred import Evaluator\n",
    "from scipy import sparse\n",
    "from mne.stats import permutation_cluster_1samp_test\n",
    "from gnn_model import GNN\n",
    "from predict import evaluate_test\n",
    "import pandas as pd\n",
    "import torch\n",
    "import numpy as np\n",
    "import seaborn as sns\n",
    "from tqdm import tqdm"
   ]
  },
  {
   "cell_type": "code",
   "execution_count": 115,
   "metadata": {},
   "outputs": [],
   "source": [
    "DEEP_DEPTH = 16\n",
    "SHALLOW_DEPTH = 2 \n",
    "depths_list = [DEEP_DEPTH, SHALLOW_DEPTH]"
   ]
  },
  {
   "cell_type": "code",
   "execution_count": 116,
   "metadata": {},
   "outputs": [
    {
     "name": "stdout",
     "output_type": "stream",
     "text": [
      "Number of nodes in the graph: 169343\n",
      "Number of edges in the graph: 1166243\n",
      "Number of training nodes: 90941\n",
      "Number of validation nodes: 29799\n",
      "Number of test nodes: 48603\n",
      "Node feature matrix with shape: torch.Size([169343, 128])\n",
      "Graph connectivity in COO format with shape: torch.Size([2, 1166243])\n",
      "Target to train against : torch.Size([169343, 1])\n",
      "Node feature length 128\n",
      "number of target categories: 40\n"
     ]
    }
   ],
   "source": [
    "d_name = 'arxiv'\n",
    "data, split_idx, num_classes = get_ogb_data('arxiv')\n",
    "evaluator = Evaluator(name=f'ogbn-{d_name}')\n",
    "\n",
    "def load_model(model_type, depth, data, num_classes):\n",
    "    \n",
    "    max_depth = 2 if depth == 'shallow' else 16\n",
    "    \n",
    "    if model_type=='SAGE':\n",
    "        model = GNN(SAGEConv, data.x.shape[1], data.x.shape[1], num_classes, n_layers=max_depth)\n",
    "    elif model_type=='GCN':\n",
    "        model = GNN(GCNConv, data.x.shape[1], data.x.shape[1], num_classes, n_layers=max_depth)\n",
    "    elif model_type=='GAT':\n",
    "        model = GNN(GATConv, data.x.shape[1], data.x.shape[1], num_classes, n_layers=max_depth)\n",
    "\n",
    "    model_dir = f'{depth}_{model_type}'\n",
    "    best_pth_fn = os.path.join(model_dir,'model_best.pth')\n",
    "    if os.path.exists(best_pth_fn):\n",
    "        checkpoint = torch.load(best_pth_fn)\n",
    "        model.load_state_dict(checkpoint['network_state_dict'], strict=False)\n",
    "        print(f'{depth}_{model_type} loaded')\n",
    "    return model\n",
    "\n",
    "def load_test_loader(data, test_idx):\n",
    "    test_loader = NeighborLoader(data, input_nodes=test_idx, num_neighbors=[-1],\n",
    "                                    batch_size=128, shuffle=True)\n",
    "    print('Test loader loaded')\n",
    "    return test_loader"
   ]
  },
  {
   "cell_type": "code",
   "execution_count": 117,
   "metadata": {},
   "outputs": [],
   "source": [
    "model_types = ['SAGE','GAT', 'GCN']\n",
    "depth_types = ['shallow', 'deep']\n",
    "device = torch.device('cuda' if torch.cuda.is_available() else 'cpu')\n",
    "test_idx = split_idx['test']\n",
    "num_permutations = 1000"
   ]
  },
  {
   "cell_type": "code",
   "execution_count": 32,
   "metadata": {},
   "outputs": [
    {
     "name": "stdout",
     "output_type": "stream",
     "text": [
      "shallow_GAT loaded\n",
      "Test loader loaded\n"
     ]
    },
    {
     "name": "stderr",
     "output_type": "stream",
     "text": [
      "100%|██████████| 1000/1000 [22:06<00:00,  1.33s/it]\n"
     ]
    },
    {
     "name": "stdout",
     "output_type": "stream",
     "text": [
      "deep_GAT loaded\n",
      "Test loader loaded\n"
     ]
    },
    {
     "name": "stderr",
     "output_type": "stream",
     "text": [
      "100%|██████████| 1000/1000 [58:19<00:00,  3.50s/it]\n"
     ]
    },
    {
     "name": "stdout",
     "output_type": "stream",
     "text": [
      "both_GAT loaded\n",
      "Test loader loaded\n"
     ]
    },
    {
     "name": "stderr",
     "output_type": "stream",
     "text": [
      "100%|██████████| 1000/1000 [58:26<00:00,  3.51s/it]\n"
     ]
    },
    {
     "name": "stdout",
     "output_type": "stream",
     "text": [
      "shallow_GCN loaded\n",
      "Test loader loaded\n"
     ]
    },
    {
     "name": "stderr",
     "output_type": "stream",
     "text": [
      "100%|██████████| 1000/1000 [16:42<00:00,  1.00s/it]\n"
     ]
    },
    {
     "name": "stdout",
     "output_type": "stream",
     "text": [
      "deep_GCN loaded\n",
      "Test loader loaded\n"
     ]
    },
    {
     "name": "stderr",
     "output_type": "stream",
     "text": [
      "100%|██████████| 1000/1000 [32:27<00:00,  1.95s/it]\n"
     ]
    },
    {
     "name": "stdout",
     "output_type": "stream",
     "text": [
      "both_GCN loaded\n",
      "Test loader loaded\n"
     ]
    },
    {
     "name": "stderr",
     "output_type": "stream",
     "text": [
      "100%|██████████| 1000/1000 [32:26<00:00,  1.95s/it]\n"
     ]
    }
   ],
   "source": [
    "for model_type in model_types:\n",
    "    for depth_type in depth_types:\n",
    "        model = load_model(model_type, depth_type, data, num_classes)\n",
    "        model.to(device)\n",
    "        test_loader = load_test_loader(data, test_idx)\n",
    "\n",
    "        nods_results_depths_dict = {}\n",
    "        ids_col = {'id': test_idx}\n",
    "        id_depths_df = pd.DataFrame(data=ids_col)\n",
    "        id_results_df = pd.DataFrame(data=ids_col)\n",
    "\n",
    "        for perm in tqdm(range(num_permutations)):\n",
    "            test_acc, inference_depths, ids, correctness = evaluate_test(model, test_loader, evaluator, data, depths_list, device)\n",
    "            \n",
    "            temp_df = pd.DataFrame(data={'id': ids, f'depth_{perm}': inference_depths})\n",
    "            temp_df.sort_values(by=['id'], inplace=True)\n",
    "            id_depths_df = id_depths_df.merge(temp_df, on='id')\n",
    "            \n",
    "            temp_df = pd.DataFrame(data={'id': ids, f'correctness_{perm}': correctness})\n",
    "            temp_df.sort_values(by=['id'], inplace=True)\n",
    "            id_results_df = id_results_df.merge(temp_df, on = 'id')\n",
    "            \n",
    "        sorted_ids = ids_col['id'].tolist()\n",
    "        all_correctnesses = list(id_results_df.drop(['id'], axis=1).to_numpy().flatten())\n",
    "        all_depths = list(id_depths_df.drop(['id'], axis=1).to_numpy().flatten())\n",
    "        all_sorted_ids = list(np.repeat(sorted_ids, num_permutations))\n",
    "        all_results_df = pd.DataFrame(data={'id': all_sorted_ids, 'correctness': all_correctnesses, 'depth': all_depths})\n",
    "        \n",
    "        id_depths_df.to_csv(f'id_depths_{depth_type}_{model_type}.csv', index=False)\n",
    "        id_results_df.to_csv(f'id_results_{depth_type}_{model_type}.csv', index=False)\n",
    "        all_results_df.to_csv(f'all_results_{depth_type}_{model_type}.csv', index=False)"
   ]
  },
  {
   "cell_type": "markdown",
   "metadata": {},
   "source": [
    "## Build test adjacency matrix"
   ]
  },
  {
   "cell_type": "code",
   "execution_count": 118,
   "metadata": {},
   "outputs": [],
   "source": [
    "def statistic(x, y, axis):\n",
    "    return np.mean(x, axis=axis) - np.mean(y, axis=axis)\n",
    "\n",
    "def edge_indx_to_adj(edge_index, num_nodes):\n",
    "    adj = torch.zeros(num_nodes, num_nodes)\n",
    "    adj[edge_index[0], edge_index[1]] = 1\n",
    "    return adj\n",
    "\n",
    "# filter indexes of matrix\n",
    "def filter_indexes(adj, indexes):\n",
    "    return adj[indexes][:,indexes]\n",
    "\n",
    "test_idx = split_idx['test']\n",
    "test_adj = filter_indexes(edge_indx_to_adj(data.edge_index, data.x.shape[0]), test_idx)\n",
    "\n",
    "# convert test_adj to scipy sparse matrix\n",
    "test_adj_sparse = test_adj.to_sparse()"
   ]
  },
  {
   "cell_type": "code",
   "execution_count": 21,
   "metadata": {},
   "outputs": [],
   "source": [
    "def decide(pvalue):\n",
    "    if pvalue < 0.05:\n",
    "        return 'decided'\n",
    "    else:\n",
    "        return 'undecided'\n",
    "    \n",
    "def categorize(means, calssification):\n",
    "    if calssification != 'decided':\n",
    "        return 'undecided'\n",
    "    elif means > 0:\n",
    "        return 'shallow'\n",
    "    else:\n",
    "        return 'deep'"
   ]
  },
  {
   "cell_type": "markdown",
   "metadata": {},
   "source": [
    "## Permutation test"
   ]
  },
  {
   "cell_type": "code",
   "execution_count": null,
   "metadata": {},
   "outputs": [],
   "source": [
    "s_test_adj = sparse.csr_matrix(test_adj)\n",
    "ids_to_pvalue_df_dict = {}\n",
    "X = []\n",
    "Y = []\n",
    "model_types = ['GCN', 'GAT', 'SAGE']\n",
    "results_folder = 'preliminary results'\n",
    "for model_type in model_types:\n",
    "    X = []\n",
    "    Y = []  \n",
    "    print(f'{model_type}')\n",
    "    all_results_df = pd.read_csv(os.path.join(results_folder, f'all_results_both_{model_type}.csv'))\n",
    "    ids_to_pvalue = {}\n",
    "    for id in tqdm(np.array(test_idx)):\n",
    "        id_df = all_results_df[all_results_df['id'] == id].copy()\n",
    "        x = np.array(id_df[id_df['depth'] == 2]['correctness'])\n",
    "        y = np.array(id_df[id_df['depth'] == 16]['correctness'])\n",
    "        X.append(x)\n",
    "        Y.append(y)\n",
    "    min_len = np.min([len(x) for x in X])\n",
    "    X_trancuated = [x[:min_len] for x in X]\n",
    "    Y_trancuated = [y[:min_len] for y in Y]\n",
    "    X_np = np.array(X_trancuated).transpose()\n",
    "    Y_np = np.array(Y_trancuated).transpose()\n",
    "    \n",
    "    threshold = dict(start=0, step=0.2)\n",
    "    t, _, p, h0 = permutation_cluster_1samp_test(X_np-Y_np, n_permutations=1024, threshold=threshold, tail=0, n_jobs=-1, adjacency=s_test_adj, verbose=False)\n",
    "    \n",
    "    df = pd.DataFrame(zip(*[test_idx.tolist(), list(p)]), columns=['id', 'pvalue'])\n",
    "    df['decission'] = df.apply(lambda row: decide(row['pvalue']), axis=1)\n",
    "    df['means'] = (X_np.mean(axis=0)-Y_np.mean(axis=0))\n",
    "    df['vertex_class'] = df.apply(lambda row: categorize(row['means'], row['decission']), axis=1)\n",
    "    df.to_csv(f'results/ids_to_pvalue_two_tailed_{model_type}.csv', index=False)\n",
    "    ids_to_pvalue_df_dict[model_type] = df"
   ]
  },
  {
   "cell_type": "code",
   "execution_count": 49,
   "metadata": {},
   "outputs": [
    {
     "data": {
      "text/plain": [
       "[Text(0.5, 1.0, 'SAGE vertex classification')]"
      ]
     },
     "execution_count": 49,
     "metadata": {},
     "output_type": "execute_result"
    },
    {
     "data": {
      "image/png": "[encoded data removed]",
      "text/plain": [
       "<Figure size 640x480 with 1 Axes>"
      ]
     },
     "metadata": {},
     "output_type": "display_data"
    }
   ],
   "source": [
    "sns.histplot(ids_to_pvalue_df_dict['SAGE']['vertex_class'], discrete=True, stat=\"density\").set(title='SAGE vertex classification')"
   ]
  },
  {
   "cell_type": "code",
   "execution_count": 57,
   "metadata": {},
   "outputs": [
    {
     "data": {
      "text/plain": [
       "[Text(0.5, 1.0, 'GCN vertex classification'),\n",
       " Text(0.5, 0, 'vertex class'),\n",
       " Text(0, 0.5, 'density')]"
      ]
     },
     "execution_count": 57,
     "metadata": {},
     "output_type": "execute_result"
    },
    {
     "data": {
      "image/png": "[encoded data removed]",
      "text/plain": [
       "<Figure size 640x480 with 1 Axes>"
      ]
     },
     "metadata": {},
     "output_type": "display_data"
    }
   ],
   "source": [
    "sns.histplot(ids_to_pvalue_df_dict['GCN']['vertex_class'], discrete=True, stat=\"density\", shrink = 0.8).set(title='GCN vertex classification', xlabel='vertex class', ylabel='density')"
   ]
  }
 ],
 "metadata": {
  "kernelspec": {
   "display_name": "Python 3.9.13 ('baskin': conda)",
   "language": "python",
   "name": "python3"
  },
  "language_info": {
   "codemirror_mode": {
    "name": "ipython",
    "version": 3
   },
   "file_extension": ".py",
   "mimetype": "text/x-python",
   "name": "python",
   "nbconvert_exporter": "python",
   "pygments_lexer": "ipython3",
   "version": "3.9.15"
  },
  "orig_nbformat": 4,
  "vscode": {
   "interpreter": {
    "hash": "e591c4f2b87a250375ca884dffd1dc17c4ce3268c519c9ae9b05ed9c4bef7107"
   }
  }
 },
 "nbformat": 4,
 "nbformat_minor": 2
}
